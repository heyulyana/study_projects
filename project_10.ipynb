{
 "cells": [
  {
   "cell_type": "markdown",
   "metadata": {},
   "source": [
    "# Определение стоимости автомобилей"
   ]
  },
  {
   "cell_type": "markdown",
   "metadata": {},
   "source": [
    "Сервис по продаже автомобилей с пробегом «Не бит, не крашен» разрабатывает приложение для привлечения новых клиентов. В нём можно быстро узнать рыночную стоимость своего автомобиля. В вашем распоряжении исторические данные: технические характеристики, комплектации и цены автомобилей. Вам нужно построить модель для определения стоимости. \n",
    "\n",
    "Заказчику важны:\n",
    "\n",
    "- качество предсказания;\n",
    "- скорость предсказания;\n",
    "- время обучения."
   ]
  },
  {
   "cell_type": "markdown",
   "metadata": {},
   "source": [
    "## Подготовка данных"
   ]
  },
  {
   "cell_type": "code",
   "execution_count": 1,
   "metadata": {},
   "outputs": [],
   "source": [
    "import pandas as pd\n",
    "from sklearn.model_selection import train_test_split\n",
    "from sklearn.metrics import mean_squared_error\n",
    "import lightgbm as lgb\n",
    "from catboost import CatBoostRegressor\n",
    "from sklearn.ensemble import RandomForestRegressor\n",
    "from sklearn.preprocessing import OrdinalEncoder\n",
    "from lightgbm import LGBMRegressor\n",
    "\n",
    "import warnings\n",
    "warnings.filterwarnings(\"ignore\")"
   ]
  },
  {
   "cell_type": "code",
   "execution_count": 2,
   "metadata": {},
   "outputs": [
    {
     "data": {
      "text/html": [
       "<div>\n",
       "<style scoped>\n",
       "    .dataframe tbody tr th:only-of-type {\n",
       "        vertical-align: middle;\n",
       "    }\n",
       "\n",
       "    .dataframe tbody tr th {\n",
       "        vertical-align: top;\n",
       "    }\n",
       "\n",
       "    .dataframe thead th {\n",
       "        text-align: right;\n",
       "    }\n",
       "</style>\n",
       "<table border=\"1\" class=\"dataframe\">\n",
       "  <thead>\n",
       "    <tr style=\"text-align: right;\">\n",
       "      <th></th>\n",
       "      <th>DateCrawled</th>\n",
       "      <th>Price</th>\n",
       "      <th>VehicleType</th>\n",
       "      <th>RegistrationYear</th>\n",
       "      <th>Gearbox</th>\n",
       "      <th>Power</th>\n",
       "      <th>Model</th>\n",
       "      <th>Kilometer</th>\n",
       "      <th>RegistrationMonth</th>\n",
       "      <th>FuelType</th>\n",
       "      <th>Brand</th>\n",
       "      <th>NotRepaired</th>\n",
       "      <th>DateCreated</th>\n",
       "      <th>NumberOfPictures</th>\n",
       "      <th>PostalCode</th>\n",
       "      <th>LastSeen</th>\n",
       "    </tr>\n",
       "  </thead>\n",
       "  <tbody>\n",
       "    <tr>\n",
       "      <td>0</td>\n",
       "      <td>2016-03-24 11:52:17</td>\n",
       "      <td>480</td>\n",
       "      <td>NaN</td>\n",
       "      <td>1993</td>\n",
       "      <td>manual</td>\n",
       "      <td>0</td>\n",
       "      <td>golf</td>\n",
       "      <td>150000</td>\n",
       "      <td>0</td>\n",
       "      <td>petrol</td>\n",
       "      <td>volkswagen</td>\n",
       "      <td>NaN</td>\n",
       "      <td>2016-03-24 00:00:00</td>\n",
       "      <td>0</td>\n",
       "      <td>70435</td>\n",
       "      <td>2016-04-07 03:16:57</td>\n",
       "    </tr>\n",
       "    <tr>\n",
       "      <td>1</td>\n",
       "      <td>2016-03-24 10:58:45</td>\n",
       "      <td>18300</td>\n",
       "      <td>coupe</td>\n",
       "      <td>2011</td>\n",
       "      <td>manual</td>\n",
       "      <td>190</td>\n",
       "      <td>NaN</td>\n",
       "      <td>125000</td>\n",
       "      <td>5</td>\n",
       "      <td>gasoline</td>\n",
       "      <td>audi</td>\n",
       "      <td>yes</td>\n",
       "      <td>2016-03-24 00:00:00</td>\n",
       "      <td>0</td>\n",
       "      <td>66954</td>\n",
       "      <td>2016-04-07 01:46:50</td>\n",
       "    </tr>\n",
       "    <tr>\n",
       "      <td>2</td>\n",
       "      <td>2016-03-14 12:52:21</td>\n",
       "      <td>9800</td>\n",
       "      <td>suv</td>\n",
       "      <td>2004</td>\n",
       "      <td>auto</td>\n",
       "      <td>163</td>\n",
       "      <td>grand</td>\n",
       "      <td>125000</td>\n",
       "      <td>8</td>\n",
       "      <td>gasoline</td>\n",
       "      <td>jeep</td>\n",
       "      <td>NaN</td>\n",
       "      <td>2016-03-14 00:00:00</td>\n",
       "      <td>0</td>\n",
       "      <td>90480</td>\n",
       "      <td>2016-04-05 12:47:46</td>\n",
       "    </tr>\n",
       "    <tr>\n",
       "      <td>3</td>\n",
       "      <td>2016-03-17 16:54:04</td>\n",
       "      <td>1500</td>\n",
       "      <td>small</td>\n",
       "      <td>2001</td>\n",
       "      <td>manual</td>\n",
       "      <td>75</td>\n",
       "      <td>golf</td>\n",
       "      <td>150000</td>\n",
       "      <td>6</td>\n",
       "      <td>petrol</td>\n",
       "      <td>volkswagen</td>\n",
       "      <td>no</td>\n",
       "      <td>2016-03-17 00:00:00</td>\n",
       "      <td>0</td>\n",
       "      <td>91074</td>\n",
       "      <td>2016-03-17 17:40:17</td>\n",
       "    </tr>\n",
       "    <tr>\n",
       "      <td>4</td>\n",
       "      <td>2016-03-31 17:25:20</td>\n",
       "      <td>3600</td>\n",
       "      <td>small</td>\n",
       "      <td>2008</td>\n",
       "      <td>manual</td>\n",
       "      <td>69</td>\n",
       "      <td>fabia</td>\n",
       "      <td>90000</td>\n",
       "      <td>7</td>\n",
       "      <td>gasoline</td>\n",
       "      <td>skoda</td>\n",
       "      <td>no</td>\n",
       "      <td>2016-03-31 00:00:00</td>\n",
       "      <td>0</td>\n",
       "      <td>60437</td>\n",
       "      <td>2016-04-06 10:17:21</td>\n",
       "    </tr>\n",
       "  </tbody>\n",
       "</table>\n",
       "</div>"
      ],
      "text/plain": [
       "           DateCrawled  Price VehicleType  RegistrationYear Gearbox  Power  \\\n",
       "0  2016-03-24 11:52:17    480         NaN              1993  manual      0   \n",
       "1  2016-03-24 10:58:45  18300       coupe              2011  manual    190   \n",
       "2  2016-03-14 12:52:21   9800         suv              2004    auto    163   \n",
       "3  2016-03-17 16:54:04   1500       small              2001  manual     75   \n",
       "4  2016-03-31 17:25:20   3600       small              2008  manual     69   \n",
       "\n",
       "   Model  Kilometer  RegistrationMonth  FuelType       Brand NotRepaired  \\\n",
       "0   golf     150000                  0    petrol  volkswagen         NaN   \n",
       "1    NaN     125000                  5  gasoline        audi         yes   \n",
       "2  grand     125000                  8  gasoline        jeep         NaN   \n",
       "3   golf     150000                  6    petrol  volkswagen          no   \n",
       "4  fabia      90000                  7  gasoline       skoda          no   \n",
       "\n",
       "           DateCreated  NumberOfPictures  PostalCode             LastSeen  \n",
       "0  2016-03-24 00:00:00                 0       70435  2016-04-07 03:16:57  \n",
       "1  2016-03-24 00:00:00                 0       66954  2016-04-07 01:46:50  \n",
       "2  2016-03-14 00:00:00                 0       90480  2016-04-05 12:47:46  \n",
       "3  2016-03-17 00:00:00                 0       91074  2016-03-17 17:40:17  \n",
       "4  2016-03-31 00:00:00                 0       60437  2016-04-06 10:17:21  "
      ]
     },
     "execution_count": 2,
     "metadata": {},
     "output_type": "execute_result"
    }
   ],
   "source": [
    "data = pd.read_csv('/datasets/autos.csv')\n",
    "\n",
    "data.head()"
   ]
  },
  {
   "cell_type": "code",
   "execution_count": 3,
   "metadata": {},
   "outputs": [
    {
     "name": "stdout",
     "output_type": "stream",
     "text": [
      "<class 'pandas.core.frame.DataFrame'>\n",
      "RangeIndex: 354369 entries, 0 to 354368\n",
      "Data columns (total 16 columns):\n",
      "DateCrawled          354369 non-null object\n",
      "Price                354369 non-null int64\n",
      "VehicleType          316879 non-null object\n",
      "RegistrationYear     354369 non-null int64\n",
      "Gearbox              334536 non-null object\n",
      "Power                354369 non-null int64\n",
      "Model                334664 non-null object\n",
      "Kilometer            354369 non-null int64\n",
      "RegistrationMonth    354369 non-null int64\n",
      "FuelType             321474 non-null object\n",
      "Brand                354369 non-null object\n",
      "NotRepaired          283215 non-null object\n",
      "DateCreated          354369 non-null object\n",
      "NumberOfPictures     354369 non-null int64\n",
      "PostalCode           354369 non-null int64\n",
      "LastSeen             354369 non-null object\n",
      "dtypes: int64(7), object(9)\n",
      "memory usage: 43.3+ MB\n"
     ]
    }
   ],
   "source": [
    "data.info()"
   ]
  },
  {
   "cell_type": "code",
   "execution_count": 4,
   "metadata": {},
   "outputs": [],
   "source": [
    "#замена пропусков в типе автомобильного кузова \n",
    "\n",
    "data['VehicleType'].value_counts()\n",
    "\n",
    "#замена пропущенных значений на - other\n",
    "data['VehicleType']=data['VehicleType'].fillna('other')\n"
   ]
  },
  {
   "cell_type": "code",
   "execution_count": 56,
   "metadata": {},
   "outputs": [],
   "source": [
    "#убираем аномалии в датах\n",
    "\n",
    "data['RegistrationYear'].value_counts()\n",
    "\n",
    "data = data.query('1990 < RegistrationYear < 2016')\n"
   ]
  },
  {
   "cell_type": "code",
   "execution_count": 6,
   "metadata": {},
   "outputs": [],
   "source": [
    "#убираем нулевые значения в целевом признаке\n",
    "data['Price'].value_counts()\n",
    "\n",
    "data = data.query('Price != 0')\n"
   ]
  },
  {
   "cell_type": "code",
   "execution_count": 7,
   "metadata": {},
   "outputs": [
    {
     "data": {
      "text/plain": [
       "<matplotlib.axes._subplots.AxesSubplot at 0x7fbf64309850>"
      ]
     },
     "execution_count": 7,
     "metadata": {},
     "output_type": "execute_result"
    },
    {
     "data": {
      "image/png": "[encoded data removed]",
      "text/plain": [
       "<Figure size 432x288 with 1 Axes>"
      ]
     },
     "metadata": {
      "needs_background": "light"
     },
     "output_type": "display_data"
    }
   ],
   "source": [
    "data.query('Price < 30')['Price'].hist(bins=10)"
   ]
  },
  {
   "cell_type": "code",
   "execution_count": 8,
   "metadata": {},
   "outputs": [],
   "source": [
    "#убираем нулевые значения в целевом признаке\n",
    "data['Price'].value_counts()\n",
    "\n",
    "data = data.query('Price > 2')"
   ]
  },
  {
   "cell_type": "code",
   "execution_count": 9,
   "metadata": {},
   "outputs": [],
   "source": [
    "data=data.dropna(subset=['Gearbox']).reset_index()\n"
   ]
  },
  {
   "cell_type": "code",
   "execution_count": 10,
   "metadata": {},
   "outputs": [
    {
     "data": {
      "text/plain": [
       "<matplotlib.axes._subplots.AxesSubplot at 0x7fbf64003210>"
      ]
     },
     "execution_count": 10,
     "metadata": {},
     "output_type": "execute_result"
    },
    {
     "data": {
      "image/png": "[encoded data removed]",
      "text/plain": [
       "<Figure size 432x288 with 1 Axes>"
      ]
     },
     "metadata": {
      "needs_background": "light"
     },
     "output_type": "display_data"
    }
   ],
   "source": [
    "data['Power'].value_counts()\n",
    "\n",
    "#убираем неадекватную мощность\n",
    "\n",
    "power_1 = data[(data['Power'] < 2000) & (data['Power'] > 500)].index\n",
    "data['Power'].loc[power_1] = data['Power'] / 10\n",
    "\n",
    "power_2 = data[data['Power'] < 30].index\n",
    "data['Power'].loc[power_2]=data.groupby(by=['Model', 'Brand'])['Power'].transform('mean')\n",
    "\n",
    "power_3 = data[data['Power'] >=2000].index\n",
    "data['Power'].loc[power_3] = data['Power'] / 100\n",
    "\n",
    "data['Power'].hist()\n"
   ]
  },
  {
   "cell_type": "code",
   "execution_count": 11,
   "metadata": {},
   "outputs": [],
   "source": [
    " #замена пропущенных значений в столбце с мощностью по марке машины\n",
    "data['Power'] = data['Power'].fillna(data.groupby(['Brand','Model'])['Power'].transform('median'))"
   ]
  },
  {
   "cell_type": "code",
   "execution_count": 12,
   "metadata": {},
   "outputs": [],
   "source": [
    "#оставляем строки где модель не пропущена\n",
    "data = data[data['Model'].notna()]"
   ]
  },
  {
   "cell_type": "code",
   "execution_count": 13,
   "metadata": {},
   "outputs": [],
   "source": [
    " #замена пропущенных значений в типе топлива\n",
    "data['FuelType']=data['FuelType'].fillna('other')"
   ]
  },
  {
   "cell_type": "code",
   "execution_count": 14,
   "metadata": {},
   "outputs": [],
   "source": [
    " #замена пропущенных значений была ли машина в ремонте\n",
    "data['NotRepaired']=data['NotRepaired'].fillna('no')"
   ]
  },
  {
   "cell_type": "code",
   "execution_count": 15,
   "metadata": {},
   "outputs": [],
   "source": [
    "#удаление столбцов, которые не являются признаками\n",
    "\n",
    "data.drop(['DateCrawled', 'DateCreated','PostalCode','LastSeen','NumberOfPictures'], axis=1, inplace=True)"
   ]
  },
  {
   "cell_type": "markdown",
   "metadata": {},
   "source": [
    "## Обучение моделей"
   ]
  },
  {
   "cell_type": "code",
   "execution_count": 95,
   "metadata": {},
   "outputs": [],
   "source": [
    "features = data.drop('Price', axis=1)\n",
    "target = data['Price']\n",
    "\n",
    "features_train, features_valid, target_train, target_valid = train_test_split(\n",
    "    features, target, test_size=0.25, random_state=12345)"
   ]
  },
  {
   "cell_type": "code",
   "execution_count": 96,
   "metadata": {},
   "outputs": [],
   "source": [
    "model = CatBoostRegressor(loss_function=\"RMSE\", iterations=100,random_seed=12345) \n",
    "\n",
    "cat_features = ['VehicleType', 'Gearbox', 'Model',\n",
    "                'FuelType', 'Brand', 'NotRepaired','type']\n"
   ]
  },
  {
   "cell_type": "code",
   "execution_count": 97,
   "metadata": {},
   "outputs": [
    {
     "name": "stdout",
     "output_type": "stream",
     "text": [
      "0:\tlearn: 4503.0431380\ttotal: 188ms\tremaining: 18.6s\n",
      "10:\tlearn: 3682.9222791\ttotal: 2.58s\tremaining: 20.9s\n",
      "20:\tlearn: 3117.1255430\ttotal: 4.87s\tremaining: 18.3s\n",
      "30:\tlearn: 2725.1952863\ttotal: 7.16s\tremaining: 15.9s\n",
      "40:\tlearn: 2447.5509017\ttotal: 9.46s\tremaining: 13.6s\n",
      "50:\tlearn: 2250.7559067\ttotal: 11.7s\tremaining: 11.2s\n",
      "60:\tlearn: 2119.0400075\ttotal: 14s\tremaining: 8.92s\n",
      "70:\tlearn: 2013.4196801\ttotal: 16.1s\tremaining: 6.59s\n",
      "80:\tlearn: 1941.9882649\ttotal: 18.4s\tremaining: 4.32s\n",
      "90:\tlearn: 1888.4096716\ttotal: 20.7s\tremaining: 2.05s\n",
      "99:\tlearn: 1850.2509689\ttotal: 22.8s\tremaining: 0us\n",
      "CPU times: user 21.1 s, sys: 2.79 s, total: 23.9 s\n",
      "Wall time: 25.4 s\n"
     ]
    },
    {
     "data": {
      "text/plain": [
       "<catboost.core.CatBoostRegressor at 0x7fbf33d0af10>"
      ]
     },
     "execution_count": 97,
     "metadata": {},
     "output_type": "execute_result"
    }
   ],
   "source": [
    "%%time\n",
    "\n",
    "model.fit(features_train, target_train, cat_features=cat_features, verbose=10)\n"
   ]
  },
  {
   "cell_type": "code",
   "execution_count": 99,
   "metadata": {},
   "outputs": [
    {
     "name": "stdout",
     "output_type": "stream",
     "text": [
      "RMSE= 1862.9013485425576\n",
      "CPU times: user 192 ms, sys: 9.05 ms, total: 201 ms\n",
      "Wall time: 199 ms\n"
     ]
    }
   ],
   "source": [
    "%%time\n",
    "prediction_valid=model.predict(features_valid)\n",
    "print('RMSE=',mean_squared_error(target_valid,prediction_valid)**0.5 )"
   ]
  },
  {
   "cell_type": "code",
   "execution_count": 72,
   "metadata": {},
   "outputs": [],
   "source": [
    "data_ohe = pd.get_dummies(data, drop_first=True)\n",
    "\n",
    "features_ohe = data_ohe.drop('Price', axis=1)\n",
    "target_ohe = data_ohe['Price']\n",
    "\n",
    "features_train, features_valid, target_train, target_valid = train_test_split(\n",
    "    features_ohe, target_ohe, test_size=0.25, random_state=12345)\n"
   ]
  },
  {
   "cell_type": "code",
   "execution_count": 73,
   "metadata": {},
   "outputs": [
    {
     "name": "stdout",
     "output_type": "stream",
     "text": [
      "CPU times: user 59.2 s, sys: 247 ms, total: 59.4 s\n",
      "Wall time: 59.7 s\n"
     ]
    },
    {
     "data": {
      "text/plain": [
       "RandomForestRegressor(bootstrap=True, criterion='mse', max_depth=None,\n",
       "                      max_features='auto', max_leaf_nodes=None,\n",
       "                      min_impurity_decrease=0.0, min_impurity_split=None,\n",
       "                      min_samples_leaf=1, min_samples_split=2,\n",
       "                      min_weight_fraction_leaf=0.0, n_estimators=10,\n",
       "                      n_jobs=None, oob_score=False, random_state=None,\n",
       "                      verbose=0, warm_start=False)"
      ]
     },
     "execution_count": 73,
     "metadata": {},
     "output_type": "execute_result"
    }
   ],
   "source": [
    "%%time\n",
    "rfr = RandomForestRegressor()\n",
    "rfr.fit(features_train, target_train)\n"
   ]
  },
  {
   "cell_type": "code",
   "execution_count": 74,
   "metadata": {},
   "outputs": [
    {
     "name": "stdout",
     "output_type": "stream",
     "text": [
      "RMSE= 1547.5807143853372\n",
      "CPU times: user 627 ms, sys: 53 ms, total: 680 ms\n",
      "Wall time: 686 ms\n"
     ]
    }
   ],
   "source": [
    "%%time\n",
    "\n",
    "prediction_valid=rfr.predict(features_valid)\n",
    "print('RMSE=',mean_squared_error(target_valid,prediction_valid)**0.5 )"
   ]
  },
  {
   "cell_type": "code",
   "execution_count": 75,
   "metadata": {},
   "outputs": [
    {
     "name": "stdout",
     "output_type": "stream",
     "text": [
      "CPU times: user 7.98 s, sys: 262 ms, total: 8.24 s\n",
      "Wall time: 8.35 s\n"
     ]
    },
    {
     "data": {
      "text/plain": [
       "LGBMRegressor(boosting_type='gbdt', class_weight=None, colsample_bytree=1.0,\n",
       "              importance_type='split', learning_rate=0.1, max_depth=-1,\n",
       "              min_child_samples=20, min_child_weight=0.001, min_split_gain=0.0,\n",
       "              n_estimators=50, n_jobs=-1, num_leaves=31, objective=None,\n",
       "              random_state=12345, reg_alpha=0.0, reg_lambda=0.0, silent=True,\n",
       "              subsample=1.0, subsample_for_bin=200000, subsample_freq=0)"
      ]
     },
     "execution_count": 75,
     "metadata": {},
     "output_type": "execute_result"
    }
   ],
   "source": [
    "%%time\n",
    "model = LGBMRegressor(n_estimators = 50,random_state=12345)\n",
    "model.fit(features_train, target_train)\n"
   ]
  },
  {
   "cell_type": "code",
   "execution_count": 76,
   "metadata": {},
   "outputs": [
    {
     "name": "stdout",
     "output_type": "stream",
     "text": [
      "RMSE= 1647.674233294552\n",
      "CPU times: user 515 ms, sys: 93.7 ms, total: 608 ms\n",
      "Wall time: 611 ms\n"
     ]
    }
   ],
   "source": [
    "%%time\n",
    "\n",
    "prediction_valid=model.predict(features_valid)\n",
    "print('RMSE=',mean_squared_error(target_valid,prediction_valid)**0.5 )"
   ]
  },
  {
   "cell_type": "code",
   "execution_count": 77,
   "metadata": {},
   "outputs": [
    {
     "name": "stdout",
     "output_type": "stream",
     "text": [
      "CPU times: user 14.2 s, sys: 308 ms, total: 14.5 s\n",
      "Wall time: 14.7 s\n"
     ]
    },
    {
     "data": {
      "text/plain": [
       "LGBMRegressor(boosting_type='gbdt', class_weight=None, colsample_bytree=1.0,\n",
       "              importance_type='split', learning_rate=0.1, max_depth=50,\n",
       "              min_child_samples=20, min_child_weight=0.001, min_split_gain=0.0,\n",
       "              n_estimators=150, n_jobs=-1, num_leaves=31, objective=None,\n",
       "              random_state=12345, reg_alpha=0.0, reg_lambda=0.0, silent=True,\n",
       "              subsample=1.0, subsample_for_bin=200000, subsample_freq=0)"
      ]
     },
     "execution_count": 77,
     "metadata": {},
     "output_type": "execute_result"
    }
   ],
   "source": [
    "%%time\n",
    "model = LGBMRegressor(n_estimators = 150,max_depth=50, random_state=12345)\n",
    "model.fit(features_train, target_train)\n"
   ]
  },
  {
   "cell_type": "code",
   "execution_count": 78,
   "metadata": {},
   "outputs": [
    {
     "name": "stdout",
     "output_type": "stream",
     "text": [
      "RMSE= 1531.0245500805947\n",
      "CPU times: user 1.06 s, sys: 69.9 ms, total: 1.13 s\n",
      "Wall time: 1.11 s\n"
     ]
    }
   ],
   "source": [
    "%%time\n",
    "prediction_valid=model.predict(features_valid)\n",
    "print('RMSE=',mean_squared_error(target_valid,prediction_valid)**0.5 )"
   ]
  },
  {
   "cell_type": "markdown",
   "metadata": {},
   "source": [
    "## Анализ моделей"
   ]
  },
  {
   "cell_type": "code",
   "execution_count": 52,
   "metadata": {},
   "outputs": [
    {
     "name": "stdout",
     "output_type": "stream",
     "text": [
      "                  Модель  RMSe Time,s fit  Time,s predict \n",
      "0      CatBoostRegressor  1943      24.2 s          157 ms\n",
      "1          LGBMRegressor  1598      14.2 s          1.21 s\n",
      "2  RandomForestRegressor  1598     1min 5s          768 ms\n"
     ]
    }
   ],
   "source": [
    "results=pd.DataFrame({'Модель':['CatBoostRegressor','LGBMRegressor','RandomForestRegressor'],\n",
    "                      'RMSe': ['1943', '1598', '1598'],\n",
    "                       'Time,s fit ': ['24.2 s', '14.2 s', '1min 5s'],\n",
    "                       'Time,s predict ': ['157 ms', '1.21 s', '768 ms']\n",
    "                     }) \n",
    "\n",
    "print(results)"
   ]
  },
  {
   "cell_type": "markdown",
   "metadata": {},
   "source": [
    "Загрузила и подготовила данные для дальнейшего обучения. Обучила 3 разных модели, для этого использовала не только градиентный бустинг, но и простую модель, чтобы сравнить результаты. Для оценки качества моделей применяла метрику RMSE.\n",
    "\n",
    "<b> Вывод:  </b>\n",
    "Лучший результат, по соотношению время работы и качества показала модель Градиентного Бустинга LGBM, при подборе гиперпараметров. При этом значение RMSE у простой модели Случаного Леса одинаковое = 1598, но время затрачено больше. \n",
    "\n"
   ]
  },
  {
   "cell_type": "code",
   "execution_count": 100,
   "metadata": {},
   "outputs": [
    {
     "data": {
      "text/plain": [
       "<matplotlib.axes._subplots.AxesSubplot at 0x7fbf5b553ad0>"
      ]
     },
     "execution_count": 100,
     "metadata": {},
     "output_type": "execute_result"
    },
    {
     "data": {
      "image/png": "[encoded data removed]",
      "text/plain": [
       "<Figure size 432x288 with 1 Axes>"
      ]
     },
     "metadata": {
      "needs_background": "light"
     },
     "output_type": "display_data"
    }
   ],
   "source": [
    "import matplotlib.pyplot as plt\n",
    "import numpy as np\n",
    "\n",
    "\n",
    "\n",
    "(pd.Series(model.feature_importances_, index=features_train.columns)\n",
    "   .nlargest(5)\n",
    "   .plot(kind='barh')) "
   ]
  }
 ],
 "metadata": {
  "ExecuteTimeLog": [
   {
    "duration": 848,
    "start_time": "2021-11-09T08:54:37.864Z"
   },
   {
    "duration": 1178,
    "start_time": "2021-11-09T08:54:47.480Z"
   },
   {
    "duration": 1149,
    "start_time": "2021-11-09T08:54:49.467Z"
   },
   {
    "duration": 1255,
    "start_time": "2021-11-09T09:00:19.570Z"
   },
   {
    "duration": 1303,
    "start_time": "2021-11-09T09:00:34.985Z"
   },
   {
    "duration": 1288,
    "start_time": "2021-11-09T09:00:39.497Z"
   },
   {
    "duration": 1509,
    "start_time": "2021-11-09T09:00:49.414Z"
   },
   {
    "duration": 1341,
    "start_time": "2021-11-09T09:00:56.627Z"
   },
   {
    "duration": 1357,
    "start_time": "2021-11-09T09:01:12.033Z"
   },
   {
    "duration": 1353,
    "start_time": "2021-11-09T09:01:19.611Z"
   },
   {
    "duration": 1254,
    "start_time": "2021-11-09T09:01:29.992Z"
   },
   {
    "duration": 161,
    "start_time": "2021-11-09T09:01:36.466Z"
   },
   {
    "duration": 1376,
    "start_time": "2021-11-09T09:02:01.439Z"
   },
   {
    "duration": 1233,
    "start_time": "2021-11-09T09:02:14.619Z"
   },
   {
    "duration": 1095,
    "start_time": "2021-11-09T09:02:19.332Z"
   },
   {
    "duration": 15,
    "start_time": "2021-11-09T09:03:36.932Z"
   },
   {
    "duration": 56,
    "start_time": "2021-11-09T09:16:28.462Z"
   },
   {
    "duration": 42,
    "start_time": "2021-11-09T09:16:45.842Z"
   },
   {
    "duration": 45,
    "start_time": "2021-11-09T09:16:53.468Z"
   },
   {
    "duration": 46,
    "start_time": "2021-11-09T09:17:49.361Z"
   },
   {
    "duration": 80,
    "start_time": "2021-11-09T09:19:07.833Z"
   },
   {
    "duration": 271,
    "start_time": "2021-11-09T09:19:15.696Z"
   },
   {
    "duration": 66,
    "start_time": "2021-11-09T09:19:40.894Z"
   },
   {
    "duration": 46,
    "start_time": "2021-11-09T09:20:09.834Z"
   },
   {
    "duration": 13,
    "start_time": "2021-11-09T09:20:23.199Z"
   },
   {
    "duration": 102,
    "start_time": "2021-11-09T09:30:05.839Z"
   },
   {
    "duration": 71,
    "start_time": "2021-11-09T09:30:19.225Z"
   },
   {
    "duration": 104,
    "start_time": "2021-11-09T09:30:27.729Z"
   },
   {
    "duration": 86,
    "start_time": "2021-11-09T09:30:51.379Z"
   },
   {
    "duration": 84,
    "start_time": "2021-11-09T09:31:37.424Z"
   },
   {
    "duration": 98,
    "start_time": "2021-11-09T09:31:41.479Z"
   },
   {
    "duration": 83,
    "start_time": "2021-11-09T09:31:56.478Z"
   },
   {
    "duration": 43,
    "start_time": "2021-11-09T09:32:21.629Z"
   },
   {
    "duration": 191,
    "start_time": "2021-11-09T09:33:46.844Z"
   },
   {
    "duration": 22,
    "start_time": "2021-11-09T09:37:01.806Z"
   },
   {
    "duration": 2253,
    "start_time": "2021-11-09T09:37:18.759Z"
   },
   {
    "duration": 319,
    "start_time": "2021-11-09T09:37:30.572Z"
   },
   {
    "duration": 287,
    "start_time": "2021-11-09T09:37:33.954Z"
   },
   {
    "duration": 416,
    "start_time": "2021-11-09T09:37:44.928Z"
   },
   {
    "duration": 505,
    "start_time": "2021-11-09T09:37:48.542Z"
   },
   {
    "duration": 110,
    "start_time": "2021-11-09T09:40:58.305Z"
   },
   {
    "duration": 254,
    "start_time": "2021-11-09T09:41:07.001Z"
   },
   {
    "duration": 220,
    "start_time": "2021-11-09T09:41:13.280Z"
   },
   {
    "duration": 340,
    "start_time": "2021-11-09T09:41:29.453Z"
   },
   {
    "duration": 164,
    "start_time": "2021-11-09T09:41:39.265Z"
   },
   {
    "duration": 13,
    "start_time": "2021-11-09T09:41:59.154Z"
   },
   {
    "duration": 758,
    "start_time": "2021-11-15T12:30:11.037Z"
   },
   {
    "duration": 1196,
    "start_time": "2021-11-15T12:30:11.798Z"
   },
   {
    "duration": 224,
    "start_time": "2021-11-15T12:30:12.997Z"
   },
   {
    "duration": 88,
    "start_time": "2021-11-15T12:30:13.224Z"
   },
   {
    "duration": 89,
    "start_time": "2021-11-15T12:30:13.315Z"
   },
   {
    "duration": 90,
    "start_time": "2021-11-15T12:30:13.407Z"
   },
   {
    "duration": 173,
    "start_time": "2021-11-15T12:30:13.499Z"
   },
   {
    "duration": 12,
    "start_time": "2021-11-15T12:30:13.675Z"
   },
   {
    "duration": 558,
    "start_time": "2021-11-15T12:47:38.626Z"
   },
   {
    "duration": 6336,
    "start_time": "2021-11-15T12:47:53.440Z"
   },
   {
    "duration": 110,
    "start_time": "2021-11-15T12:49:00.100Z"
   },
   {
    "duration": 391,
    "start_time": "2021-11-15T12:49:20.641Z"
   },
   {
    "duration": 118,
    "start_time": "2021-11-15T12:49:44.696Z"
   },
   {
    "duration": 437,
    "start_time": "2021-11-15T12:50:53.868Z"
   },
   {
    "duration": 3194,
    "start_time": "2021-11-15T12:51:17.051Z"
   },
   {
    "duration": 236,
    "start_time": "2021-11-15T12:52:49.427Z"
   },
   {
    "duration": 764,
    "start_time": "2021-11-22T18:07:05.515Z"
   },
   {
    "duration": 1215,
    "start_time": "2021-11-22T18:07:06.541Z"
   },
   {
    "duration": 162,
    "start_time": "2021-11-22T18:07:10.133Z"
   },
   {
    "duration": 69,
    "start_time": "2021-11-22T18:07:11.573Z"
   },
   {
    "duration": 91,
    "start_time": "2021-11-22T18:07:13.168Z"
   },
   {
    "duration": 105,
    "start_time": "2021-11-22T18:07:13.885Z"
   },
   {
    "duration": 181,
    "start_time": "2021-11-22T18:07:14.711Z"
   },
   {
    "duration": 556,
    "start_time": "2021-11-22T18:07:16.738Z"
   },
   {
    "duration": 144,
    "start_time": "2021-11-22T18:07:18.929Z"
   },
   {
    "duration": 81,
    "start_time": "2021-11-22T18:19:26.608Z"
   },
   {
    "duration": 141,
    "start_time": "2021-11-22T18:19:54.867Z"
   },
   {
    "duration": 80,
    "start_time": "2021-11-22T18:20:08.949Z"
   },
   {
    "duration": 153,
    "start_time": "2021-11-22T18:20:11.037Z"
   },
   {
    "duration": 45,
    "start_time": "2021-11-22T18:24:55.825Z"
   },
   {
    "duration": 47,
    "start_time": "2021-11-22T18:25:10.617Z"
   },
   {
    "duration": 43,
    "start_time": "2021-11-22T18:26:00.523Z"
   },
   {
    "duration": 45,
    "start_time": "2021-11-22T18:26:31.190Z"
   },
   {
    "duration": 466,
    "start_time": "2021-11-22T18:28:33.882Z"
   },
   {
    "duration": 26,
    "start_time": "2021-11-22T18:28:40.512Z"
   },
   {
    "duration": 62,
    "start_time": "2021-11-22T18:29:13.419Z"
   },
   {
    "duration": 74,
    "start_time": "2021-11-22T18:33:28.564Z"
   },
   {
    "duration": 227,
    "start_time": "2021-11-22T18:33:54.680Z"
   },
   {
    "duration": 43,
    "start_time": "2021-11-22T18:34:42.967Z"
   },
   {
    "duration": 344,
    "start_time": "2021-11-22T18:35:58.757Z"
   },
   {
    "duration": 44,
    "start_time": "2021-11-22T18:37:19.075Z"
   },
   {
    "duration": 25,
    "start_time": "2021-11-22T18:37:36.640Z"
   },
   {
    "duration": 67,
    "start_time": "2021-11-22T18:38:19.502Z"
   },
   {
    "duration": 27,
    "start_time": "2021-11-22T18:39:21.241Z"
   },
   {
    "duration": 142,
    "start_time": "2021-11-22T18:39:40.278Z"
   },
   {
    "duration": 7,
    "start_time": "2021-11-22T18:43:33.893Z"
   },
   {
    "duration": 105,
    "start_time": "2021-11-22T18:44:00.515Z"
   },
   {
    "duration": 3008,
    "start_time": "2021-11-22T18:44:05.817Z"
   },
   {
    "duration": 4,
    "start_time": "2021-11-22T18:44:18.030Z"
   },
   {
    "duration": 3008,
    "start_time": "2021-11-22T18:44:59.379Z"
   },
   {
    "duration": 5,
    "start_time": "2021-11-22T18:45:35.840Z"
   },
   {
    "duration": 6,
    "start_time": "2021-11-22T18:45:48.353Z"
   },
   {
    "duration": 3009,
    "start_time": "2021-11-22T18:45:54.422Z"
   },
   {
    "duration": 5,
    "start_time": "2021-11-22T18:46:51.470Z"
   },
   {
    "duration": 6,
    "start_time": "2021-11-22T18:47:00.738Z"
   },
   {
    "duration": 5,
    "start_time": "2021-11-22T18:47:03.859Z"
   },
   {
    "duration": 5,
    "start_time": "2021-11-22T18:47:06.114Z"
   },
   {
    "duration": 5,
    "start_time": "2021-11-22T18:47:08.011Z"
   },
   {
    "duration": 765,
    "start_time": "2021-11-22T18:48:44.325Z"
   },
   {
    "duration": 4,
    "start_time": "2021-11-22T18:49:06.887Z"
   },
   {
    "duration": 34,
    "start_time": "2021-11-22T18:49:09.111Z"
   },
   {
    "duration": 23,
    "start_time": "2021-11-22T18:49:10.862Z"
   },
   {
    "duration": 408,
    "start_time": "2021-11-22T18:49:13.447Z"
   },
   {
    "duration": 4,
    "start_time": "2021-11-22T18:49:22.325Z"
   },
   {
    "duration": 6,
    "start_time": "2021-11-22T18:50:01.320Z"
   },
   {
    "duration": 33,
    "start_time": "2021-11-22T18:55:52.495Z"
   },
   {
    "duration": 2011,
    "start_time": "2021-11-22T18:58:42.899Z"
   },
   {
    "duration": 882,
    "start_time": "2021-11-22T18:59:17.000Z"
   },
   {
    "duration": 1805,
    "start_time": "2021-11-22T18:59:29.644Z"
   },
   {
    "duration": 4,
    "start_time": "2021-11-22T18:59:40.229Z"
   },
   {
    "duration": 1163,
    "start_time": "2021-11-22T18:59:41.488Z"
   },
   {
    "duration": 163,
    "start_time": "2021-11-22T18:59:43.969Z"
   },
   {
    "duration": 69,
    "start_time": "2021-11-22T18:59:45.417Z"
   },
   {
    "duration": 81,
    "start_time": "2021-11-22T18:59:46.488Z"
   },
   {
    "duration": 100,
    "start_time": "2021-11-22T18:59:48.116Z"
   },
   {
    "duration": 209,
    "start_time": "2021-11-22T18:59:48.899Z"
   },
   {
    "duration": 618,
    "start_time": "2021-11-22T18:59:50.401Z"
   },
   {
    "duration": 118,
    "start_time": "2021-11-22T18:59:52.203Z"
   },
   {
    "duration": 118,
    "start_time": "2021-11-22T18:59:53.849Z"
   },
   {
    "duration": 38,
    "start_time": "2021-11-22T18:59:54.732Z"
   },
   {
    "duration": 34,
    "start_time": "2021-11-22T18:59:55.553Z"
   },
   {
    "duration": 51,
    "start_time": "2021-11-22T18:59:56.477Z"
   },
   {
    "duration": 216,
    "start_time": "2021-11-22T18:59:58.002Z"
   },
   {
    "duration": 69,
    "start_time": "2021-11-22T19:00:10.304Z"
   },
   {
    "duration": 4,
    "start_time": "2021-11-22T19:01:59.106Z"
   },
   {
    "duration": 4462,
    "start_time": "2021-11-22T19:02:12.178Z"
   },
   {
    "duration": 5,
    "start_time": "2021-11-22T19:02:24.629Z"
   },
   {
    "duration": 4,
    "start_time": "2021-11-22T19:02:27.355Z"
   },
   {
    "duration": 3523,
    "start_time": "2021-11-22T19:02:31.536Z"
   },
   {
    "duration": 6,
    "start_time": "2021-11-22T19:04:14.567Z"
   },
   {
    "duration": 4,
    "start_time": "2021-11-22T19:04:17.515Z"
   },
   {
    "duration": 622,
    "start_time": "2021-11-22T19:05:46.456Z"
   },
   {
    "duration": 1784,
    "start_time": "2021-11-22T19:05:55.393Z"
   },
   {
    "duration": 1235,
    "start_time": "2021-11-22T19:05:57.180Z"
   },
   {
    "duration": 184,
    "start_time": "2021-11-22T19:05:58.420Z"
   },
   {
    "duration": 82,
    "start_time": "2021-11-22T19:05:58.608Z"
   },
   {
    "duration": 101,
    "start_time": "2021-11-22T19:05:58.692Z"
   },
   {
    "duration": 117,
    "start_time": "2021-11-22T19:05:58.795Z"
   },
   {
    "duration": 198,
    "start_time": "2021-11-22T19:05:58.914Z"
   },
   {
    "duration": 560,
    "start_time": "2021-11-22T19:05:59.115Z"
   },
   {
    "duration": 97,
    "start_time": "2021-11-22T19:05:59.679Z"
   },
   {
    "duration": 92,
    "start_time": "2021-11-22T19:05:59.780Z"
   },
   {
    "duration": 25,
    "start_time": "2021-11-22T19:05:59.875Z"
   },
   {
    "duration": 25,
    "start_time": "2021-11-22T19:05:59.903Z"
   },
   {
    "duration": 80,
    "start_time": "2021-11-22T19:05:59.931Z"
   },
   {
    "duration": 201,
    "start_time": "2021-11-22T19:06:00.014Z"
   },
   {
    "duration": 6,
    "start_time": "2021-11-22T19:06:00.218Z"
   },
   {
    "duration": 346,
    "start_time": "2021-11-22T19:09:03.931Z"
   },
   {
    "duration": 365,
    "start_time": "2021-11-22T19:10:13.200Z"
   },
   {
    "duration": 1782,
    "start_time": "2021-11-22T19:10:17.802Z"
   },
   {
    "duration": 1565,
    "start_time": "2021-11-22T19:10:19.587Z"
   },
   {
    "duration": 262,
    "start_time": "2021-11-22T19:10:21.156Z"
   },
   {
    "duration": 112,
    "start_time": "2021-11-22T19:10:21.421Z"
   },
   {
    "duration": 120,
    "start_time": "2021-11-22T19:10:21.536Z"
   },
   {
    "duration": 126,
    "start_time": "2021-11-22T19:10:21.659Z"
   },
   {
    "duration": 234,
    "start_time": "2021-11-22T19:10:21.787Z"
   },
   {
    "duration": 575,
    "start_time": "2021-11-22T19:10:22.027Z"
   },
   {
    "duration": 91,
    "start_time": "2021-11-22T19:10:22.605Z"
   },
   {
    "duration": 95,
    "start_time": "2021-11-22T19:10:22.699Z"
   },
   {
    "duration": 25,
    "start_time": "2021-11-22T19:10:22.797Z"
   },
   {
    "duration": 49,
    "start_time": "2021-11-22T19:10:22.825Z"
   },
   {
    "duration": 46,
    "start_time": "2021-11-22T19:10:22.876Z"
   },
   {
    "duration": 197,
    "start_time": "2021-11-22T19:10:22.925Z"
   },
   {
    "duration": 5,
    "start_time": "2021-11-22T19:10:23.124Z"
   },
   {
    "duration": 106,
    "start_time": "2021-11-22T19:10:23.132Z"
   },
   {
    "duration": 6,
    "start_time": "2021-11-22T19:10:23.241Z"
   },
   {
    "duration": 4,
    "start_time": "2021-11-22T19:25:17.872Z"
   },
   {
    "duration": 5,
    "start_time": "2021-11-22T19:30:41.103Z"
   },
   {
    "duration": 4,
    "start_time": "2021-11-22T19:30:52.622Z"
   },
   {
    "duration": 457,
    "start_time": "2021-11-22T19:31:11.207Z"
   },
   {
    "duration": 4,
    "start_time": "2021-11-22T19:31:28.238Z"
   },
   {
    "duration": 296,
    "start_time": "2021-11-22T19:31:29.237Z"
   },
   {
    "duration": 4,
    "start_time": "2021-11-22T19:31:43.150Z"
   },
   {
    "duration": 6759,
    "start_time": "2021-11-22T19:31:44.961Z"
   },
   {
    "duration": 91,
    "start_time": "2021-11-22T19:31:51.723Z"
   },
   {
    "duration": 6076,
    "start_time": "2021-11-22T19:32:38.868Z"
   },
   {
    "duration": 6279,
    "start_time": "2021-11-22T19:43:44.865Z"
   },
   {
    "duration": 5684,
    "start_time": "2021-11-22T19:43:56.693Z"
   },
   {
    "duration": 5,
    "start_time": "2021-11-22T19:44:18.922Z"
   },
   {
    "duration": 33067,
    "start_time": "2021-11-22T19:44:20.008Z"
   },
   {
    "duration": 50,
    "start_time": "2021-11-22T19:45:20.928Z"
   },
   {
    "duration": 419,
    "start_time": "2021-11-22T19:46:38.094Z"
   },
   {
    "duration": 756,
    "start_time": "2021-11-22T19:53:58.130Z"
   },
   {
    "duration": 2410,
    "start_time": "2021-11-22T19:54:06.183Z"
   },
   {
    "duration": 73973,
    "start_time": "2021-11-22T19:54:08.596Z"
   },
   {
    "duration": 75408,
    "start_time": "2021-11-22T19:55:38.942Z"
   },
   {
    "duration": 5,
    "start_time": "2021-11-22T20:04:46.143Z"
   },
   {
    "duration": 272677,
    "start_time": "2021-11-22T20:06:32.599Z"
   },
   {
    "duration": 9,
    "start_time": "2021-11-22T20:11:27.369Z"
   },
   {
    "duration": 402,
    "start_time": "2021-11-22T20:20:01.545Z"
   },
   {
    "duration": 318,
    "start_time": "2021-11-22T20:20:20.372Z"
   },
   {
    "duration": 266,
    "start_time": "2021-11-22T20:20:34.344Z"
   },
   {
    "duration": 261,
    "start_time": "2021-11-22T20:20:41.946Z"
   },
   {
    "duration": 282,
    "start_time": "2021-11-22T20:21:27.505Z"
   },
   {
    "duration": 285,
    "start_time": "2021-11-22T20:21:47.805Z"
   },
   {
    "duration": 262,
    "start_time": "2021-11-22T20:22:43.798Z"
   },
   {
    "duration": 455,
    "start_time": "2021-11-22T20:23:48.797Z"
   },
   {
    "duration": 324,
    "start_time": "2021-11-22T20:24:55.347Z"
   },
   {
    "duration": 281,
    "start_time": "2021-11-22T20:25:01.025Z"
   },
   {
    "duration": 1214,
    "start_time": "2021-11-23T08:05:25.382Z"
   },
   {
    "duration": 870,
    "start_time": "2021-11-23T08:05:26.601Z"
   },
   {
    "duration": 145,
    "start_time": "2021-11-23T08:05:27.473Z"
   },
   {
    "duration": 49,
    "start_time": "2021-11-23T08:05:27.619Z"
   },
   {
    "duration": 74,
    "start_time": "2021-11-23T08:05:27.670Z"
   },
   {
    "duration": 75,
    "start_time": "2021-11-23T08:05:27.746Z"
   },
   {
    "duration": 133,
    "start_time": "2021-11-23T08:05:27.823Z"
   },
   {
    "duration": 359,
    "start_time": "2021-11-23T08:05:27.958Z"
   },
   {
    "duration": 57,
    "start_time": "2021-11-23T08:05:28.319Z"
   },
   {
    "duration": 67,
    "start_time": "2021-11-23T08:05:28.378Z"
   },
   {
    "duration": 18,
    "start_time": "2021-11-23T08:05:28.447Z"
   },
   {
    "duration": 23,
    "start_time": "2021-11-23T08:05:28.467Z"
   },
   {
    "duration": 37,
    "start_time": "2021-11-23T08:05:28.492Z"
   },
   {
    "duration": 98,
    "start_time": "2021-11-23T08:05:28.531Z"
   },
   {
    "duration": 3,
    "start_time": "2021-11-23T08:05:28.631Z"
   },
   {
    "duration": 23877,
    "start_time": "2021-11-23T08:05:28.636Z"
   },
   {
    "duration": 1522,
    "start_time": "2021-11-23T08:05:52.514Z"
   },
   {
    "duration": 56985,
    "start_time": "2021-11-23T08:05:54.038Z"
   },
   {
    "duration": 242328,
    "start_time": "2021-11-23T08:06:51.026Z"
   },
   {
    "duration": 1246,
    "start_time": "2021-11-23T08:10:53.356Z"
   },
   {
    "duration": -464,
    "start_time": "2021-11-23T08:10:55.069Z"
   },
   {
    "duration": 15896,
    "start_time": "2021-11-23T09:42:47.621Z"
   },
   {
    "duration": 15222,
    "start_time": "2021-11-23T09:43:15.596Z"
   },
   {
    "duration": 10478,
    "start_time": "2021-11-23T09:43:36.642Z"
   },
   {
    "duration": 42892,
    "start_time": "2021-11-23T09:45:06.328Z"
   },
   {
    "duration": 7,
    "start_time": "2021-11-23T09:47:44.218Z"
   },
   {
    "duration": 836,
    "start_time": "2021-11-23T09:47:53.563Z"
   },
   {
    "duration": 8,
    "start_time": "2021-11-23T10:54:12.166Z"
   },
   {
    "duration": 87,
    "start_time": "2021-11-23T18:05:36.688Z"
   },
   {
    "duration": 294,
    "start_time": "2021-11-23T18:07:46.402Z"
   },
   {
    "duration": 1220,
    "start_time": "2021-11-23T18:07:55.556Z"
   },
   {
    "duration": 818,
    "start_time": "2021-11-23T18:07:56.778Z"
   },
   {
    "duration": 119,
    "start_time": "2021-11-23T18:07:59.006Z"
   },
   {
    "duration": 50,
    "start_time": "2021-11-23T18:08:00.284Z"
   },
   {
    "duration": 62,
    "start_time": "2021-11-23T18:08:01.079Z"
   },
   {
    "duration": 68,
    "start_time": "2021-11-23T18:08:07.355Z"
   },
   {
    "duration": 17,
    "start_time": "2021-11-23T18:08:09.795Z"
   },
   {
    "duration": 267,
    "start_time": "2021-11-23T18:08:16.534Z"
   },
   {
    "duration": 192,
    "start_time": "2021-11-23T18:08:44.538Z"
   },
   {
    "duration": 332,
    "start_time": "2021-11-23T18:08:47.388Z"
   },
   {
    "duration": 184,
    "start_time": "2021-11-23T18:09:49.751Z"
   },
   {
    "duration": 280,
    "start_time": "2021-11-23T18:09:53.673Z"
   },
   {
    "duration": 192,
    "start_time": "2021-11-23T18:09:57.188Z"
   },
   {
    "duration": 311,
    "start_time": "2021-11-23T18:10:27.252Z"
   },
   {
    "duration": 315,
    "start_time": "2021-11-23T18:10:31.009Z"
   },
   {
    "duration": 252,
    "start_time": "2021-11-23T18:10:34.390Z"
   },
   {
    "duration": 357,
    "start_time": "2021-11-23T18:10:43.587Z"
   },
   {
    "duration": 193,
    "start_time": "2021-11-23T18:10:54.356Z"
   },
   {
    "duration": 179,
    "start_time": "2021-11-23T18:11:45.019Z"
   },
   {
    "duration": 176,
    "start_time": "2021-11-23T18:11:56.148Z"
   },
   {
    "duration": 162,
    "start_time": "2021-11-23T18:11:59.585Z"
   },
   {
    "duration": 306,
    "start_time": "2021-11-23T18:12:03.272Z"
   },
   {
    "duration": 196,
    "start_time": "2021-11-23T18:12:07.961Z"
   },
   {
    "duration": 205,
    "start_time": "2021-11-23T18:12:11.949Z"
   },
   {
    "duration": 260,
    "start_time": "2021-11-23T18:12:15.549Z"
   },
   {
    "duration": 179,
    "start_time": "2021-11-23T18:12:24.098Z"
   },
   {
    "duration": 173,
    "start_time": "2021-11-23T18:12:28.196Z"
   },
   {
    "duration": 167,
    "start_time": "2021-11-23T18:12:30.862Z"
   },
   {
    "duration": 30,
    "start_time": "2021-11-23T18:13:54.391Z"
   },
   {
    "duration": 28,
    "start_time": "2021-11-23T18:14:01.316Z"
   },
   {
    "duration": 29,
    "start_time": "2021-11-23T18:14:11.099Z"
   },
   {
    "duration": 28,
    "start_time": "2021-11-23T18:14:18.443Z"
   },
   {
    "duration": 27,
    "start_time": "2021-11-23T18:14:25.149Z"
   },
   {
    "duration": 29,
    "start_time": "2021-11-23T18:14:40.017Z"
   },
   {
    "duration": 28,
    "start_time": "2021-11-23T18:14:44.141Z"
   },
   {
    "duration": 25,
    "start_time": "2021-11-23T18:14:49.547Z"
   },
   {
    "duration": 204,
    "start_time": "2021-11-23T18:14:53.405Z"
   },
   {
    "duration": 72,
    "start_time": "2021-11-23T18:15:30.921Z"
   },
   {
    "duration": 69,
    "start_time": "2021-11-23T18:20:30.476Z"
   },
   {
    "duration": 167,
    "start_time": "2021-11-23T18:21:59.354Z"
   },
   {
    "duration": 1129,
    "start_time": "2021-11-23T18:22:59.145Z"
   },
   {
    "duration": 892,
    "start_time": "2021-11-23T18:23:00.276Z"
   },
   {
    "duration": 133,
    "start_time": "2021-11-23T18:23:01.172Z"
   },
   {
    "duration": 57,
    "start_time": "2021-11-23T18:23:01.306Z"
   },
   {
    "duration": 89,
    "start_time": "2021-11-23T18:23:01.365Z"
   },
   {
    "duration": 77,
    "start_time": "2021-11-23T18:23:01.456Z"
   },
   {
    "duration": 261,
    "start_time": "2021-11-23T18:23:01.535Z"
   },
   {
    "duration": 75,
    "start_time": "2021-11-23T18:23:01.798Z"
   },
   {
    "duration": 137,
    "start_time": "2021-11-23T18:23:01.875Z"
   },
   {
    "duration": 285,
    "start_time": "2021-11-23T18:23:02.015Z"
   },
   {
    "duration": 71,
    "start_time": "2021-11-23T18:23:02.302Z"
   },
   {
    "duration": 84,
    "start_time": "2021-11-23T18:23:02.376Z"
   },
   {
    "duration": 18,
    "start_time": "2021-11-23T18:23:02.462Z"
   },
   {
    "duration": 43,
    "start_time": "2021-11-23T18:23:02.482Z"
   },
   {
    "duration": 50,
    "start_time": "2021-11-23T18:23:02.527Z"
   },
   {
    "duration": 131,
    "start_time": "2021-11-23T18:23:02.579Z"
   },
   {
    "duration": 3,
    "start_time": "2021-11-23T18:23:02.712Z"
   },
   {
    "duration": 23998,
    "start_time": "2021-11-23T18:23:02.717Z"
   },
   {
    "duration": 153,
    "start_time": "2021-11-23T18:23:26.717Z"
   },
   {
    "duration": 1806,
    "start_time": "2021-11-23T18:23:26.872Z"
   },
   {
    "duration": 78713,
    "start_time": "2021-11-23T18:23:28.680Z"
   },
   {
    "duration": 720,
    "start_time": "2021-11-23T18:24:47.396Z"
   },
   {
    "duration": 19248,
    "start_time": "2021-11-23T18:24:48.119Z"
   },
   {
    "duration": 613,
    "start_time": "2021-11-23T18:25:07.368Z"
   },
   {
    "duration": 14188,
    "start_time": "2021-11-23T18:25:07.983Z"
   },
   {
    "duration": 1212,
    "start_time": "2021-11-23T18:25:22.173Z"
   },
   {
    "duration": 7,
    "start_time": "2021-11-23T18:25:23.387Z"
   },
   {
    "duration": 4,
    "start_time": "2021-11-23T18:26:28.524Z"
   },
   {
    "duration": 335,
    "start_time": "2021-11-23T18:27:56.440Z"
   },
   {
    "duration": 241,
    "start_time": "2021-11-23T18:28:13.280Z"
   },
   {
    "duration": 277,
    "start_time": "2021-11-23T18:28:38.596Z"
   },
   {
    "duration": 449,
    "start_time": "2021-11-23T18:28:53.214Z"
   },
   {
    "duration": 295,
    "start_time": "2021-11-23T18:29:36.124Z"
   },
   {
    "duration": 842,
    "start_time": "2021-11-23T18:29:43.265Z"
   },
   {
    "duration": 13810,
    "start_time": "2021-11-23T18:30:17.670Z"
   },
   {
    "duration": 248,
    "start_time": "2021-11-23T18:30:31.482Z"
   },
   {
    "duration": 257,
    "start_time": "2021-11-23T18:30:49.507Z"
   },
   {
    "duration": 175,
    "start_time": "2021-11-23T18:31:03.754Z"
   },
   {
    "duration": 109,
    "start_time": "2021-11-23T18:31:18.429Z"
   },
   {
    "duration": 3,
    "start_time": "2021-11-23T18:31:20.083Z"
   },
   {
    "duration": 24197,
    "start_time": "2021-11-23T18:31:21.013Z"
   },
   {
    "duration": 161,
    "start_time": "2021-11-23T18:31:45.212Z"
   },
   {
    "duration": 1818,
    "start_time": "2021-11-23T18:31:45.376Z"
   },
   {
    "duration": 65563,
    "start_time": "2021-11-23T18:31:47.196Z"
   },
   {
    "duration": 772,
    "start_time": "2021-11-23T18:32:52.763Z"
   },
   {
    "duration": 4847,
    "start_time": "2021-11-23T18:32:53.537Z"
   },
   {
    "duration": 290,
    "start_time": "2021-11-23T18:34:05.478Z"
   },
   {
    "duration": 50,
    "start_time": "2021-11-23T18:34:26.107Z"
   },
   {
    "duration": 44,
    "start_time": "2021-11-23T18:34:32.522Z"
   },
   {
    "duration": 179,
    "start_time": "2021-11-23T18:39:50.239Z"
   },
   {
    "duration": 198,
    "start_time": "2021-11-23T18:40:57.837Z"
   },
   {
    "duration": 7,
    "start_time": "2021-11-23T18:43:59.595Z"
   },
   {
    "duration": 84,
    "start_time": "2021-11-23T18:45:26.712Z"
   },
   {
    "duration": 181,
    "start_time": "2021-11-23T19:08:02.001Z"
   },
   {
    "duration": 207,
    "start_time": "2021-11-23T19:08:07.758Z"
   },
   {
    "duration": 32,
    "start_time": "2021-11-23T19:17:11.762Z"
   },
   {
    "duration": 296,
    "start_time": "2021-11-23T19:17:18.222Z"
   },
   {
    "duration": 172,
    "start_time": "2021-11-23T19:17:25.314Z"
   },
   {
    "duration": 4,
    "start_time": "2021-11-23T19:27:46.522Z"
   },
   {
    "duration": 4,
    "start_time": "2021-11-23T19:27:52.053Z"
   },
   {
    "duration": 89,
    "start_time": "2021-11-23T19:28:01.197Z"
   },
   {
    "duration": 325,
    "start_time": "2021-11-23T19:28:29.127Z"
   },
   {
    "duration": 3012,
    "start_time": "2021-11-23T19:28:34.655Z"
   },
   {
    "duration": 3363,
    "start_time": "2021-11-23T19:28:41.701Z"
   },
   {
    "duration": 3053,
    "start_time": "2021-11-23T19:28:49.725Z"
   },
   {
    "duration": 98,
    "start_time": "2021-11-23T19:29:37.886Z"
   },
   {
    "duration": 4,
    "start_time": "2021-11-23T19:29:39.534Z"
   },
   {
    "duration": 9610,
    "start_time": "2021-11-23T19:29:40.355Z"
   },
   {
    "duration": 191,
    "start_time": "2021-11-23T19:29:49.967Z"
   },
   {
    "duration": 1468,
    "start_time": "2021-11-23T19:29:50.160Z"
   },
   {
    "duration": 59685,
    "start_time": "2021-11-23T19:29:51.630Z"
   },
   {
    "duration": 691,
    "start_time": "2021-11-23T19:30:51.317Z"
   },
   {
    "duration": 8361,
    "start_time": "2021-11-23T19:30:52.010Z"
   },
   {
    "duration": 615,
    "start_time": "2021-11-23T19:31:00.373Z"
   },
   {
    "duration": 14774,
    "start_time": "2021-11-23T19:31:00.991Z"
   },
   {
    "duration": 1111,
    "start_time": "2021-11-23T19:31:15.766Z"
   },
   {
    "duration": 261,
    "start_time": "2021-11-23T19:31:16.879Z"
   },
   {
    "duration": 6,
    "start_time": "2021-11-23T19:31:17.164Z"
   },
   {
    "duration": 74,
    "start_time": "2021-11-23T19:33:52.881Z"
   },
   {
    "duration": 1057,
    "start_time": "2021-11-23T19:34:12.889Z"
   },
   {
    "duration": 27,
    "start_time": "2021-11-23T19:34:18.350Z"
   },
   {
    "duration": 212,
    "start_time": "2021-11-23T19:34:30.505Z"
   },
   {
    "duration": 246,
    "start_time": "2021-11-23T19:34:36.672Z"
   },
   {
    "duration": 255,
    "start_time": "2021-11-23T19:34:46.075Z"
   },
   {
    "duration": 197,
    "start_time": "2021-11-23T19:35:09.773Z"
   },
   {
    "duration": 172,
    "start_time": "2021-11-23T19:35:38.032Z"
   },
   {
    "duration": 177,
    "start_time": "2021-11-23T19:36:17.125Z"
   },
   {
    "duration": 81,
    "start_time": "2021-11-23T19:37:03.345Z"
   },
   {
    "duration": 83,
    "start_time": "2021-11-23T19:37:07.059Z"
   },
   {
    "duration": 12678,
    "start_time": "2021-11-23T19:38:09.048Z"
   },
   {
    "duration": 4,
    "start_time": "2021-11-23T19:40:04.930Z"
   },
   {
    "duration": 100,
    "start_time": "2021-11-23T19:40:11.528Z"
   },
   {
    "duration": 4,
    "start_time": "2021-11-23T19:40:14.316Z"
   },
   {
    "duration": 25420,
    "start_time": "2021-11-23T19:40:15.818Z"
   },
   {
    "duration": 203,
    "start_time": "2021-11-23T19:40:41.466Z"
   },
   {
    "duration": 141,
    "start_time": "2021-11-23T19:41:11.134Z"
   },
   {
    "duration": 173,
    "start_time": "2021-11-23T19:41:21.734Z"
   },
   {
    "duration": 26,
    "start_time": "2021-11-23T19:41:23.985Z"
   },
   {
    "duration": 350,
    "start_time": "2021-11-23T19:41:25.244Z"
   },
   {
    "duration": 143,
    "start_time": "2021-11-23T19:41:31.603Z"
   }
  ],
  "kernelspec": {
   "display_name": "Python 3 (ipykernel)",
   "language": "python",
   "name": "python3"
  },
  "language_info": {
   "codemirror_mode": {
    "name": "ipython",
    "version": 3
   },
   "file_extension": ".py",
   "mimetype": "text/x-python",
   "name": "python",
   "nbconvert_exporter": "python",
   "pygments_lexer": "ipython3",
   "version": "3.9.7"
  },
  "toc": {
   "base_numbering": 1,
   "nav_menu": {},
   "number_sections": true,
   "sideBar": true,
   "skip_h1_title": true,
   "title_cell": "Table of Contents",
   "title_sidebar": "Contents",
   "toc_cell": false,
   "toc_position": {},
   "toc_section_display": true,
   "toc_window_display": false
  }
 },
 "nbformat": 4,
 "nbformat_minor": 2
}
