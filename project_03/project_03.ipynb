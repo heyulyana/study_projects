{
 "cells": [
  {
   "cell_type": "markdown",
   "metadata": {},
   "source": [
    "\n",
    "\n",
    "<b> Основные шаги</b>:\n",
    "\n",
    "1.Открытие файла с данными и изучение общей информации\n",
    "\n",
    "2.Подготовка данных\n",
    "\n",
    "3.Анализ данных\n",
    "\n",
    "4.Проверка гипотез\n",
    "\n",
    "5.Вывод"
   ]
  },
  {
   "cell_type": "markdown",
   "metadata": {},
   "source": [
    "# 1. Открытие файлов и изучение информации"
   ]
  },
  {
   "cell_type": "code",
   "execution_count": 1,
   "metadata": {},
   "outputs": [
    {
     "name": "stdout",
     "output_type": "stream",
     "text": [
      "-----Информация о тарифах -----\n",
      "   messages_included  mb_per_month_included  minutes_included  \\\n",
      "0                 50                  15360               500   \n",
      "1               1000                  30720              3000   \n",
      "\n",
      "   rub_monthly_fee  rub_per_gb  rub_per_message  rub_per_minute tariff_name  \n",
      "0              550         200                3               3       smart  \n",
      "1             1950         150                1               1       ultra  \n",
      "<class 'pandas.core.frame.DataFrame'>\n",
      "RangeIndex: 2 entries, 0 to 1\n",
      "Data columns (total 8 columns):\n",
      "messages_included        2 non-null int64\n",
      "mb_per_month_included    2 non-null int64\n",
      "minutes_included         2 non-null int64\n",
      "rub_monthly_fee          2 non-null int64\n",
      "rub_per_gb               2 non-null int64\n",
      "rub_per_message          2 non-null int64\n",
      "rub_per_minute           2 non-null int64\n",
      "tariff_name              2 non-null object\n",
      "dtypes: int64(7), object(1)\n",
      "memory usage: 256.0+ bytes\n",
      "None\n",
      "-----Информация о звонках-----\n",
      "       id   call_date  duration  user_id\n",
      "0  1000_0  2018-07-25      0.00     1000\n",
      "1  1000_1  2018-08-17      0.00     1000\n",
      "2  1000_2  2018-06-11      2.85     1000\n",
      "3  1000_3  2018-09-21     13.80     1000\n",
      "4  1000_4  2018-12-15      5.18     1000\n",
      "5  1000_5  2018-11-02      0.00     1000\n",
      "6  1000_6  2018-10-18      0.00     1000\n",
      "7  1000_7  2018-08-22     18.31     1000\n",
      "8  1000_8  2018-09-15     18.44     1000\n",
      "9  1000_9  2018-08-15      0.00     1000\n",
      "<class 'pandas.core.frame.DataFrame'>\n",
      "RangeIndex: 202607 entries, 0 to 202606\n",
      "Data columns (total 4 columns):\n",
      "id           202607 non-null object\n",
      "call_date    202607 non-null object\n",
      "duration     202607 non-null float64\n",
      "user_id      202607 non-null int64\n",
      "dtypes: float64(1), int64(1), object(2)\n",
      "memory usage: 6.2+ MB\n",
      "None\n",
      "-----Информация об интернет сессиях-----\n",
      "   Unnamed: 0      id  mb_used session_date  user_id\n",
      "0           0  1000_0   112.95   2018-11-25     1000\n",
      "1           1  1000_1  1052.81   2018-09-07     1000\n",
      "2           2  1000_2  1197.26   2018-06-25     1000\n",
      "3           3  1000_3   550.27   2018-08-22     1000\n",
      "4           4  1000_4   302.56   2018-09-24     1000\n",
      "5           5  1000_5   399.97   2018-10-02     1000\n",
      "6           6  1000_6   540.08   2018-09-07     1000\n",
      "7           7  1000_7   415.70   2018-07-11     1000\n",
      "8           8  1000_8   505.40   2018-10-08     1000\n",
      "9           9  1000_9   345.54   2018-09-03     1000\n",
      "<class 'pandas.core.frame.DataFrame'>\n",
      "RangeIndex: 149396 entries, 0 to 149395\n",
      "Data columns (total 5 columns):\n",
      "Unnamed: 0      149396 non-null int64\n",
      "id              149396 non-null object\n",
      "mb_used         149396 non-null float64\n",
      "session_date    149396 non-null object\n",
      "user_id         149396 non-null int64\n",
      "dtypes: float64(1), int64(2), object(2)\n",
      "memory usage: 5.7+ MB\n",
      "None\n",
      "-----Информация о сообщениях -----\n",
      "       id message_date  user_id\n",
      "0  1000_0   2018-06-27     1000\n",
      "1  1000_1   2018-10-08     1000\n",
      "2  1000_2   2018-08-04     1000\n",
      "3  1000_3   2018-06-16     1000\n",
      "4  1000_4   2018-12-05     1000\n",
      "5  1000_5   2018-06-20     1000\n",
      "6  1000_6   2018-11-19     1000\n",
      "7  1000_7   2018-10-29     1000\n",
      "8  1000_8   2018-06-25     1000\n",
      "9  1000_9   2018-12-18     1000\n",
      "<class 'pandas.core.frame.DataFrame'>\n",
      "RangeIndex: 123036 entries, 0 to 123035\n",
      "Data columns (total 3 columns):\n",
      "id              123036 non-null object\n",
      "message_date    123036 non-null object\n",
      "user_id         123036 non-null int64\n",
      "dtypes: int64(1), object(2)\n",
      "memory usage: 2.8+ MB\n",
      "None\n",
      "-----Информация о пользователях -----\n",
      "   user_id  age churn_date              city first_name  last_name  \\\n",
      "0     1000   52        NaN         Краснодар     Рафаил  Верещагин   \n",
      "1     1001   41        NaN            Москва       Иван       Ежов   \n",
      "2     1002   59        NaN       Стерлитамак    Евгений  Абрамович   \n",
      "3     1003   23        NaN            Москва      Белла   Белякова   \n",
      "4     1004   68        NaN       Новокузнецк    Татьяна   Авдеенко   \n",
      "5     1005   67        NaN  Набережные Челны   Афанасий     Горлов   \n",
      "6     1006   21        NaN         Ульяновск     Леонид   Ермолаев   \n",
      "7     1007   65        NaN            Москва        Юна   Березина   \n",
      "8     1008   63        NaN         Челябинск     Рустэм  Пономарёв   \n",
      "9     1009   24        NaN             Пермь   Василиса    Блинова   \n",
      "\n",
      "     reg_date tariff  \n",
      "0  2018-05-25  ultra  \n",
      "1  2018-11-01  smart  \n",
      "2  2018-06-17  smart  \n",
      "3  2018-08-17  ultra  \n",
      "4  2018-05-14  ultra  \n",
      "5  2018-01-25  smart  \n",
      "6  2018-02-26  smart  \n",
      "7  2018-04-19  smart  \n",
      "8  2018-12-19  smart  \n",
      "9  2018-03-22  smart  \n",
      "<class 'pandas.core.frame.DataFrame'>\n",
      "RangeIndex: 500 entries, 0 to 499\n",
      "Data columns (total 8 columns):\n",
      "user_id       500 non-null int64\n",
      "age           500 non-null int64\n",
      "churn_date    38 non-null object\n",
      "city          500 non-null object\n",
      "first_name    500 non-null object\n",
      "last_name     500 non-null object\n",
      "reg_date      500 non-null object\n",
      "tariff        500 non-null object\n",
      "dtypes: int64(2), object(6)\n",
      "memory usage: 31.4+ KB\n",
      "None\n"
     ]
    }
   ],
   "source": [
    "import pandas as pd\n",
    "import math\n",
    "import matplotlib.pyplot as plt\n",
    "import numpy as np\n",
    "from scipy import stats as st\n",
    "\n",
    "calls = pd.read_csv('/datasets/calls.csv')\n",
    "internet = pd.read_csv('/datasets/internet.csv')\n",
    "messages = pd.read_csv('/datasets/messages.csv')\n",
    "users = pd.read_csv('/datasets/users.csv')\n",
    "tariffs = pd.read_csv('/datasets/tariffs.csv')\n",
    "\n",
    "print('-----Информация о тарифах -----')\n",
    "print(tariffs.head(10))\n",
    "print(tariffs.info())\n",
    "\n",
    "print('-----Информация о звонках-----')\n",
    "print(calls.head(10))\n",
    "print(calls.info())\n",
    "\n",
    "print('-----Информация об интернет сессиях-----')\n",
    "print(internet.head(10))\n",
    "print(internet.info())\n",
    "\n",
    "print('-----Информация о сообщениях -----')\n",
    "print(messages.head(10))\n",
    "print(messages.info())\n",
    "\n",
    "\n",
    "print('-----Информация о пользователях -----')\n",
    "print(users.head(10))\n",
    "print(users.info())\n"
   ]
  },
  {
   "cell_type": "markdown",
   "metadata": {},
   "source": [
    "<b> Вывод </b>\n",
    "\n",
    "1. Во всех таблицах присутствует user_id , по пользователям можно объединить данные в один датафрейм.\n",
    "2.Нулевые значения есть только в столбце churn_date, их убирать не будем, если значение пропущено, то тариф ещё действовал на момент выгрузки данных. Для дальнейшей аналитики это не помешает.\n",
    "3. Столбцы с датами нужно привести к типу данных - дата."
   ]
  },
  {
   "cell_type": "code",
   "execution_count": 2,
   "metadata": {},
   "outputs": [
    {
     "data": {
      "image/png": "[encoded data removed]",
      "text/plain": [
       "<Figure size 432x288 with 1 Axes>"
      ]
     },
     "metadata": {
      "needs_background": "light"
     },
     "output_type": "display_data"
    },
    {
     "data": {
      "image/png": "[encoded data removed]",
      "text/plain": [
       "<Figure size 432x288 with 1 Axes>"
      ]
     },
     "metadata": {
      "needs_background": "light"
     },
     "output_type": "display_data"
    },
    {
     "data": {
      "image/png": "[encoded data removed]",
      "text/plain": [
       "<Figure size 432x288 with 1 Axes>"
      ]
     },
     "metadata": {
      "needs_background": "light"
     },
     "output_type": "display_data"
    },
    {
     "data": {
      "image/png": "[encoded data removed]",
      "text/plain": [
       "<Figure size 432x288 with 1 Axes>"
      ]
     },
     "metadata": {
      "needs_background": "light"
     },
     "output_type": "display_data"
    },
    {
     "name": "stdout",
     "output_type": "stream",
     "text": [
      "count    149396.000000\n",
      "mean        370.192426\n",
      "std         278.300951\n",
      "min           0.000000\n",
      "25%         138.187500\n",
      "50%         348.015000\n",
      "75%         559.552500\n",
      "max        1724.830000\n",
      "Name: mb_used, dtype: float64\n",
      "count    202607.000000\n",
      "mean          6.755887\n",
      "std           5.843365\n",
      "min           0.000000\n",
      "25%           1.300000\n",
      "50%           6.000000\n",
      "75%          10.700000\n",
      "max          38.000000\n",
      "Name: duration, dtype: float64\n"
     ]
    }
   ],
   "source": [
    "#Интернет трафик\n",
    "\n",
    "internet['mb_used'].plot(kind='hist',bins=25)\n",
    "plt.show()\n",
    "internet.boxplot(column=['mb_used'])\n",
    "plt.show()\n",
    "\n",
    "#Звонки\n",
    "\n",
    "calls['duration'].plot(kind='hist',bins=25)\n",
    "plt.show()\n",
    "calls.boxplot(column=['duration'])\n",
    "plt.show()\n",
    "print(internet['mb_used'].describe())\n",
    "print(calls['duration'].describe())\n",
    "\n"
   ]
  },
  {
   "cell_type": "markdown",
   "metadata": {},
   "source": [
    "В данных интернет трафика и звонках присутствуют выбросы со значением = 0. Звонки с нулевой продолжительностью не являются ошибкой, это пропущенные звонки. Также есть клиенты, которые не пользуются интернетом, но при этом отправляют сообщения или звонят. Так как есть клиенты, которые пользуются только одним видом связи и это нормально - нулевые значения удалять не буду, они заплатили за использованный тариф и данные нужны для аналитики. Нужно учесть, что многие не используют полностью предоставляемые тарифные пакеты, могут только звонить, но не отправлять сообщения и не пользоваться интернетом, или наоборот практически не созваниваться, и вести коммуникацию в сети.\n",
    "    \n",
    "Также методом boxplot() видны выбросы в значениях больше обычного,крайне редко, кто тратит больше, чем 1200МБ за месяц, и наговаривает больше,чем на 25 минут за один звонок, но это не является аномалией и допустимые значения и для трафика и для продолжительности разговора, просто очень редкие."
   ]
  },
  {
   "cell_type": "markdown",
   "metadata": {},
   "source": [
    "# 2.Предобработка данных "
   ]
  },
  {
   "cell_type": "code",
   "execution_count": 3,
   "metadata": {},
   "outputs": [],
   "source": [
    "#Заменяю тип в столбце данных с датой на дату\n",
    "#Оставляю в столбцах только месяц\n",
    "calls['call_date'] = pd.to_datetime(calls['call_date'], format = '%Y-%m-%d')\n",
    "calls['call_date'] = pd.DatetimeIndex(calls['call_date']).month\n",
    "\n",
    "internet['session_date'] = pd.to_datetime(internet['session_date'], format = '%Y-%m-%d')\n",
    "internet['session_date'] = pd.DatetimeIndex(internet['session_date']).month\n",
    "\n",
    "messages['message_date'] = pd.to_datetime(messages['message_date'],format = '%Y-%m-%d')\n",
    "messages['message_date'] = pd.DatetimeIndex(messages['message_date']).month\n"
   ]
  },
  {
   "cell_type": "code",
   "execution_count": 4,
   "metadata": {},
   "outputs": [],
   "source": [
    "#округляем продолжительность звонка до минут в большую сторону(по правилам тарифа)\n",
    "calls['duration']=calls['duration'].apply(math.ceil)\n",
    "\n",
    "#добавляю столбец с кол-вом сделанных звонков, если длительность 0 - это пропущенный\n",
    "def count(row):\n",
    "    duration = row['duration']\n",
    "\n",
    "    if duration == 0:\n",
    "        return 0\n",
    "    else:\n",
    "        return 1\n",
    "\n",
    "calls['duration_count'] = calls.apply(count, axis=1)\n",
    "\n",
    "\n"
   ]
  },
  {
   "cell_type": "code",
   "execution_count": 5,
   "metadata": {},
   "outputs": [],
   "source": [
    "\n",
    "\n",
    "from functools import reduce\n",
    "\n",
    "#группируем таблицы по user_id и date(месяцу)\n",
    "calls_group=calls.groupby(['user_id', 'call_date'], as_index=False).agg({'duration':'sum', 'duration_count':'sum'}) \\\n",
    ".rename(columns={'call_date': 'date'})\n",
    "\n",
    "internet_group=internet.groupby(['user_id', 'session_date'], as_index=False).agg({'mb_used':'sum'}) \\\n",
    ".rename(columns={'session_date': 'date'})\n",
    "\n",
    "messages_group=messages.groupby(['user_id', 'message_date'], as_index=False).agg({'id':'count'}) \\\n",
    ".rename(columns={'message_date': 'date', 'id': 'count_messages'})\n",
    "\n",
    "#объединяем таблицы\n",
    "#tarif_data=calls_group.merge(internet_group, on=['user_id', 'date'], how = 'outer') \\\n",
    "#.merge(messages_group, on=['user_id', 'date'], how = 'outer') \\\n",
    "#.merge(users, on='user_id',how = 'outer')\n",
    "\n",
    "data_group = [calls_group, internet_group, messages_group]\n",
    "\n",
    "tarif_data = reduce(lambda  left,right: pd.merge(left,right,on=['user_id', 'date'],\n",
    "                                            how='outer'), data_group) \\\n",
    ".merge(users, on='user_id',how = 'outer')\n",
    "\n",
    "\n",
    "#Заменяем NaN на 0\n",
    "tarif_data.fillna(0,inplace=True)\n",
    "\n",
    "#переводим МБ в ГБ в столбце mb_used\n",
    "\n",
    "tarif_data['mb_used']=tarif_data['mb_used'] / 1024\n",
    "#округляем интернет-трафик за месяц в большую сторону(по правилам тарифа)\n",
    "\n",
    "tarif_data['mb_used']=tarif_data['mb_used'].apply(math.ceil)\n",
    "\n",
    "tarif_data=tarif_data.rename(columns={'mb_used': 'gb_used'})\n",
    "\n"
   ]
  },
  {
   "cell_type": "code",
   "execution_count": 6,
   "metadata": {},
   "outputs": [
    {
     "data": {
      "text/html": [
       "<div>\n",
       "<style scoped>\n",
       "    .dataframe tbody tr th:only-of-type {\n",
       "        vertical-align: middle;\n",
       "    }\n",
       "\n",
       "    .dataframe tbody tr th {\n",
       "        vertical-align: top;\n",
       "    }\n",
       "\n",
       "    .dataframe thead th {\n",
       "        text-align: right;\n",
       "    }\n",
       "</style>\n",
       "<table border=\"1\" class=\"dataframe\">\n",
       "  <thead>\n",
       "    <tr style=\"text-align: right;\">\n",
       "      <th></th>\n",
       "      <th>user_id</th>\n",
       "      <th>date</th>\n",
       "      <th>duration</th>\n",
       "      <th>duration_count</th>\n",
       "      <th>gb_used</th>\n",
       "      <th>count_messages</th>\n",
       "      <th>age</th>\n",
       "      <th>churn_date</th>\n",
       "      <th>city</th>\n",
       "      <th>first_name</th>\n",
       "      <th>...</th>\n",
       "      <th>reg_date</th>\n",
       "      <th>tariff</th>\n",
       "      <th>messages_included</th>\n",
       "      <th>mb_per_month_included</th>\n",
       "      <th>minutes_included</th>\n",
       "      <th>rub_monthly_fee</th>\n",
       "      <th>rub_per_gb</th>\n",
       "      <th>rub_per_message</th>\n",
       "      <th>rub_per_minute</th>\n",
       "      <th>profit</th>\n",
       "    </tr>\n",
       "  </thead>\n",
       "  <tbody>\n",
       "    <tr>\n",
       "      <td>0</td>\n",
       "      <td>1000</td>\n",
       "      <td>5.0</td>\n",
       "      <td>159.0</td>\n",
       "      <td>17.0</td>\n",
       "      <td>3</td>\n",
       "      <td>22.0</td>\n",
       "      <td>52</td>\n",
       "      <td>0</td>\n",
       "      <td>Краснодар</td>\n",
       "      <td>Рафаил</td>\n",
       "      <td>...</td>\n",
       "      <td>2018-05-25</td>\n",
       "      <td>ultra</td>\n",
       "      <td>1000</td>\n",
       "      <td>30720</td>\n",
       "      <td>3000</td>\n",
       "      <td>1950</td>\n",
       "      <td>150</td>\n",
       "      <td>1</td>\n",
       "      <td>1</td>\n",
       "      <td>1950.0</td>\n",
       "    </tr>\n",
       "    <tr>\n",
       "      <td>1</td>\n",
       "      <td>1000</td>\n",
       "      <td>6.0</td>\n",
       "      <td>172.0</td>\n",
       "      <td>28.0</td>\n",
       "      <td>23</td>\n",
       "      <td>60.0</td>\n",
       "      <td>52</td>\n",
       "      <td>0</td>\n",
       "      <td>Краснодар</td>\n",
       "      <td>Рафаил</td>\n",
       "      <td>...</td>\n",
       "      <td>2018-05-25</td>\n",
       "      <td>ultra</td>\n",
       "      <td>1000</td>\n",
       "      <td>30720</td>\n",
       "      <td>3000</td>\n",
       "      <td>1950</td>\n",
       "      <td>150</td>\n",
       "      <td>1</td>\n",
       "      <td>1</td>\n",
       "      <td>1950.0</td>\n",
       "    </tr>\n",
       "    <tr>\n",
       "      <td>2</td>\n",
       "      <td>1000</td>\n",
       "      <td>7.0</td>\n",
       "      <td>340.0</td>\n",
       "      <td>41.0</td>\n",
       "      <td>14</td>\n",
       "      <td>75.0</td>\n",
       "      <td>52</td>\n",
       "      <td>0</td>\n",
       "      <td>Краснодар</td>\n",
       "      <td>Рафаил</td>\n",
       "      <td>...</td>\n",
       "      <td>2018-05-25</td>\n",
       "      <td>ultra</td>\n",
       "      <td>1000</td>\n",
       "      <td>30720</td>\n",
       "      <td>3000</td>\n",
       "      <td>1950</td>\n",
       "      <td>150</td>\n",
       "      <td>1</td>\n",
       "      <td>1</td>\n",
       "      <td>1950.0</td>\n",
       "    </tr>\n",
       "    <tr>\n",
       "      <td>3</td>\n",
       "      <td>1000</td>\n",
       "      <td>8.0</td>\n",
       "      <td>408.0</td>\n",
       "      <td>42.0</td>\n",
       "      <td>14</td>\n",
       "      <td>81.0</td>\n",
       "      <td>52</td>\n",
       "      <td>0</td>\n",
       "      <td>Краснодар</td>\n",
       "      <td>Рафаил</td>\n",
       "      <td>...</td>\n",
       "      <td>2018-05-25</td>\n",
       "      <td>ultra</td>\n",
       "      <td>1000</td>\n",
       "      <td>30720</td>\n",
       "      <td>3000</td>\n",
       "      <td>1950</td>\n",
       "      <td>150</td>\n",
       "      <td>1</td>\n",
       "      <td>1</td>\n",
       "      <td>1950.0</td>\n",
       "    </tr>\n",
       "    <tr>\n",
       "      <td>4</td>\n",
       "      <td>1000</td>\n",
       "      <td>9.0</td>\n",
       "      <td>466.0</td>\n",
       "      <td>46.0</td>\n",
       "      <td>15</td>\n",
       "      <td>57.0</td>\n",
       "      <td>52</td>\n",
       "      <td>0</td>\n",
       "      <td>Краснодар</td>\n",
       "      <td>Рафаил</td>\n",
       "      <td>...</td>\n",
       "      <td>2018-05-25</td>\n",
       "      <td>ultra</td>\n",
       "      <td>1000</td>\n",
       "      <td>30720</td>\n",
       "      <td>3000</td>\n",
       "      <td>1950</td>\n",
       "      <td>150</td>\n",
       "      <td>1</td>\n",
       "      <td>1</td>\n",
       "      <td>1950.0</td>\n",
       "    </tr>\n",
       "    <tr>\n",
       "      <td>5</td>\n",
       "      <td>1000</td>\n",
       "      <td>10.0</td>\n",
       "      <td>350.0</td>\n",
       "      <td>44.0</td>\n",
       "      <td>15</td>\n",
       "      <td>73.0</td>\n",
       "      <td>52</td>\n",
       "      <td>0</td>\n",
       "      <td>Краснодар</td>\n",
       "      <td>Рафаил</td>\n",
       "      <td>...</td>\n",
       "      <td>2018-05-25</td>\n",
       "      <td>ultra</td>\n",
       "      <td>1000</td>\n",
       "      <td>30720</td>\n",
       "      <td>3000</td>\n",
       "      <td>1950</td>\n",
       "      <td>150</td>\n",
       "      <td>1</td>\n",
       "      <td>1</td>\n",
       "      <td>1950.0</td>\n",
       "    </tr>\n",
       "    <tr>\n",
       "      <td>6</td>\n",
       "      <td>1000</td>\n",
       "      <td>11.0</td>\n",
       "      <td>338.0</td>\n",
       "      <td>37.0</td>\n",
       "      <td>15</td>\n",
       "      <td>58.0</td>\n",
       "      <td>52</td>\n",
       "      <td>0</td>\n",
       "      <td>Краснодар</td>\n",
       "      <td>Рафаил</td>\n",
       "      <td>...</td>\n",
       "      <td>2018-05-25</td>\n",
       "      <td>ultra</td>\n",
       "      <td>1000</td>\n",
       "      <td>30720</td>\n",
       "      <td>3000</td>\n",
       "      <td>1950</td>\n",
       "      <td>150</td>\n",
       "      <td>1</td>\n",
       "      <td>1</td>\n",
       "      <td>1950.0</td>\n",
       "    </tr>\n",
       "    <tr>\n",
       "      <td>7</td>\n",
       "      <td>1000</td>\n",
       "      <td>12.0</td>\n",
       "      <td>333.0</td>\n",
       "      <td>38.0</td>\n",
       "      <td>10</td>\n",
       "      <td>70.0</td>\n",
       "      <td>52</td>\n",
       "      <td>0</td>\n",
       "      <td>Краснодар</td>\n",
       "      <td>Рафаил</td>\n",
       "      <td>...</td>\n",
       "      <td>2018-05-25</td>\n",
       "      <td>ultra</td>\n",
       "      <td>1000</td>\n",
       "      <td>30720</td>\n",
       "      <td>3000</td>\n",
       "      <td>1950</td>\n",
       "      <td>150</td>\n",
       "      <td>1</td>\n",
       "      <td>1</td>\n",
       "      <td>1950.0</td>\n",
       "    </tr>\n",
       "    <tr>\n",
       "      <td>8</td>\n",
       "      <td>1003</td>\n",
       "      <td>8.0</td>\n",
       "      <td>380.0</td>\n",
       "      <td>43.0</td>\n",
       "      <td>9</td>\n",
       "      <td>37.0</td>\n",
       "      <td>23</td>\n",
       "      <td>0</td>\n",
       "      <td>Москва</td>\n",
       "      <td>Белла</td>\n",
       "      <td>...</td>\n",
       "      <td>2018-08-17</td>\n",
       "      <td>ultra</td>\n",
       "      <td>1000</td>\n",
       "      <td>30720</td>\n",
       "      <td>3000</td>\n",
       "      <td>1950</td>\n",
       "      <td>150</td>\n",
       "      <td>1</td>\n",
       "      <td>1</td>\n",
       "      <td>1950.0</td>\n",
       "    </tr>\n",
       "    <tr>\n",
       "      <td>9</td>\n",
       "      <td>1003</td>\n",
       "      <td>9.0</td>\n",
       "      <td>961.0</td>\n",
       "      <td>105.0</td>\n",
       "      <td>13</td>\n",
       "      <td>91.0</td>\n",
       "      <td>23</td>\n",
       "      <td>0</td>\n",
       "      <td>Москва</td>\n",
       "      <td>Белла</td>\n",
       "      <td>...</td>\n",
       "      <td>2018-08-17</td>\n",
       "      <td>ultra</td>\n",
       "      <td>1000</td>\n",
       "      <td>30720</td>\n",
       "      <td>3000</td>\n",
       "      <td>1950</td>\n",
       "      <td>150</td>\n",
       "      <td>1</td>\n",
       "      <td>1</td>\n",
       "      <td>1950.0</td>\n",
       "    </tr>\n",
       "  </tbody>\n",
       "</table>\n",
       "<p>10 rows × 21 columns</p>\n",
       "</div>"
      ],
      "text/plain": [
       "   user_id  date  duration  duration_count  gb_used  count_messages  age  \\\n",
       "0     1000   5.0     159.0            17.0        3            22.0   52   \n",
       "1     1000   6.0     172.0            28.0       23            60.0   52   \n",
       "2     1000   7.0     340.0            41.0       14            75.0   52   \n",
       "3     1000   8.0     408.0            42.0       14            81.0   52   \n",
       "4     1000   9.0     466.0            46.0       15            57.0   52   \n",
       "5     1000  10.0     350.0            44.0       15            73.0   52   \n",
       "6     1000  11.0     338.0            37.0       15            58.0   52   \n",
       "7     1000  12.0     333.0            38.0       10            70.0   52   \n",
       "8     1003   8.0     380.0            43.0        9            37.0   23   \n",
       "9     1003   9.0     961.0           105.0       13            91.0   23   \n",
       "\n",
       "  churn_date       city first_name  ...    reg_date tariff messages_included  \\\n",
       "0          0  Краснодар     Рафаил  ...  2018-05-25  ultra              1000   \n",
       "1          0  Краснодар     Рафаил  ...  2018-05-25  ultra              1000   \n",
       "2          0  Краснодар     Рафаил  ...  2018-05-25  ultra              1000   \n",
       "3          0  Краснодар     Рафаил  ...  2018-05-25  ultra              1000   \n",
       "4          0  Краснодар     Рафаил  ...  2018-05-25  ultra              1000   \n",
       "5          0  Краснодар     Рафаил  ...  2018-05-25  ultra              1000   \n",
       "6          0  Краснодар     Рафаил  ...  2018-05-25  ultra              1000   \n",
       "7          0  Краснодар     Рафаил  ...  2018-05-25  ultra              1000   \n",
       "8          0     Москва      Белла  ...  2018-08-17  ultra              1000   \n",
       "9          0     Москва      Белла  ...  2018-08-17  ultra              1000   \n",
       "\n",
       "   mb_per_month_included  minutes_included  rub_monthly_fee  rub_per_gb  \\\n",
       "0                  30720              3000             1950         150   \n",
       "1                  30720              3000             1950         150   \n",
       "2                  30720              3000             1950         150   \n",
       "3                  30720              3000             1950         150   \n",
       "4                  30720              3000             1950         150   \n",
       "5                  30720              3000             1950         150   \n",
       "6                  30720              3000             1950         150   \n",
       "7                  30720              3000             1950         150   \n",
       "8                  30720              3000             1950         150   \n",
       "9                  30720              3000             1950         150   \n",
       "\n",
       "   rub_per_message  rub_per_minute  profit  \n",
       "0                1               1  1950.0  \n",
       "1                1               1  1950.0  \n",
       "2                1               1  1950.0  \n",
       "3                1               1  1950.0  \n",
       "4                1               1  1950.0  \n",
       "5                1               1  1950.0  \n",
       "6                1               1  1950.0  \n",
       "7                1               1  1950.0  \n",
       "8                1               1  1950.0  \n",
       "9                1               1  1950.0  \n",
       "\n",
       "[10 rows x 21 columns]"
      ]
     },
     "execution_count": 6,
     "metadata": {},
     "output_type": "execute_result"
    }
   ],
   "source": [
    "tariffs=tariffs.rename(columns={'tariff_name': 'tariff'})\n",
    "\n",
    "#объединяем таблицу с тарифами\n",
    "tarif_data=tarif_data.merge(tariffs, on=['tariff']) \n",
    "\n",
    "\n",
    "#помесячная выручка с каждого пользователя\n",
    "def profit(row):\n",
    "    tariff = row['tariff']\n",
    "    count_messages = row['count_messages']\n",
    "    duration = row['duration']\n",
    "    gb_used=row['gb_used']\n",
    "    profit = 0\n",
    "    rub_monthly_fee=row['rub_monthly_fee']\n",
    "    minutes_included=row['minutes_included']\n",
    "    messages_included=row['messages_included']\n",
    "    mb_per_month_included=row['mb_per_month_included']\n",
    "    rub_per_minute=row['rub_per_minute']\n",
    "    rub_per_message=row['rub_per_message']\n",
    "    rub_per_gb=row['rub_per_gb']\n",
    "    \n",
    "    if tariff == 'smart':\n",
    "        if duration > minutes_included:\n",
    "            profit = (duration - minutes_included) * rub_per_minute\n",
    "        if count_messages > messages_included:\n",
    "            profit = profit + (count_messages - messages_included) * rub_per_message\n",
    "        if gb_used > mb_per_month_included:\n",
    "            profit = profit + (gb_used - mb_per_month_included) * rub_per_gb\n",
    "        return (rub_monthly_fee + profit)\n",
    "    if tariff == 'ultra':\n",
    "        if duration > minutes_included:\n",
    "            profit = (duration - minutes_included) * rub_per_minute\n",
    "        if count_messages > messages_included:\n",
    "            profit = profit + (count_messages - messages_included) * rub_per_message\n",
    "        if gb_used > mb_per_month_included:\n",
    "            profit = profit + (gb_used - mb_per_month_included) * rub_per_gb\n",
    "        return (rub_monthly_fee + profit)\n",
    "   \n",
    "    \n",
    "tarif_data['profit'] = tarif_data.apply(profit, axis=1)\n",
    "\n",
    "tarif_data.head(10)\n"
   ]
  },
  {
   "cell_type": "markdown",
   "metadata": {},
   "source": [
    "<b> Вывод </b>\n",
    "1. Заменила тип данных в столбце с датой, оставила для анализа только месяц, так как день и год нам не нужен.\n",
    "2.Округлила данные в столбцах с продолжительностью звонков и использованным интернет трафиком, по правилам тарифа.\n",
    "3.В столбце duration_count подсчитала кол-во сделанных звонков, не включая пропущенные.\n",
    "4.Сгруппировала таблицы по пользователям и месяцу и объединила их методом merge.\n",
    "5.Подсчитала помесячную выручку с каждого пользователя в столбце profit."
   ]
  },
  {
   "cell_type": "markdown",
   "metadata": {},
   "source": [
    "# 3. Анализ данных"
   ]
  },
  {
   "cell_type": "code",
   "execution_count": 7,
   "metadata": {},
   "outputs": [
    {
     "data": {
      "image/png": "[encoded data removed]",
      "text/plain": [
       "<Figure size 1440x360 with 3 Axes>"
      ]
     },
     "metadata": {
      "needs_background": "light"
     },
     "output_type": "display_data"
    },
    {
     "data": {
      "image/png": "[encoded data removed]",
      "text/plain": [
       "<Figure size 1440x360 with 3 Axes>"
      ]
     },
     "metadata": {
      "needs_background": "light"
     },
     "output_type": "display_data"
    }
   ],
   "source": [
    "\n",
    "#разбиваю таблицу на две по тарифам\n",
    "tarif_ultra = tarif_data.query('tariff == \"ultra\"')\n",
    "tarif_smart = tarif_data.query('tariff == \"smart\"')\n",
    "\n",
    "\n",
    "#гистограммы для тарифа ультра\n",
    "fig = plt.figure(figsize = (20,5))\n",
    "fig.suptitle('Тариф Ультра')\n",
    "ax_1 = fig.add_subplot(1, 3, 1)\n",
    "ax_2 = fig.add_subplot(1, 3, 2)\n",
    "ax_3 = fig.add_subplot(1, 3, 3)\n",
    "\n",
    "tarif_ultra['duration'].plot(ax=ax_1,kind='hist',bins=30, range=(0,1600),  title='Минуты')\n",
    "tarif_ultra['count_messages'].plot(ax=ax_2,kind='hist',bins=10, range=(1,250),  title='Сообщения')\n",
    "tarif_ultra['gb_used'].plot(ax=ax_3,kind='hist',bins=6, range=(0,50),  title='Гигабайты')\n",
    "\n",
    "\n",
    "#гистограммы для тарифа смарт\n",
    "fig2 = plt.figure(figsize = (20,5))\n",
    "fig2.suptitle('Тариф Смарт')\n",
    "ax_4 = fig2.add_subplot(1, 3, 1)\n",
    "ax_5 = fig2.add_subplot(1, 3, 2)\n",
    "ax_6 = fig2.add_subplot(1, 3, 3)\n",
    "\n",
    "tarif_smart['duration'].plot(ax=ax_4,kind='hist',bins=30, range=(0,1600),  title='Минуты')\n",
    "tarif_smart['count_messages'].plot(ax=ax_5,kind='hist',bins=10, range=(1,250),  title='Сообщения')\n",
    "tarif_smart['gb_used'].plot(ax=ax_6,kind='hist',bins=6, range=(0,50),  title='Гигабайты')\n",
    "plt.show()\n"
   ]
  },
  {
   "cell_type": "code",
   "execution_count": 8,
   "metadata": {},
   "outputs": [
    {
     "name": "stdout",
     "output_type": "stream",
     "text": [
      "              value      duration    messages         gb\n",
      "0        dispertion  36265.124153  796.597877  33.118595\n",
      "1              mean    417.747534   33.369058  16.321525\n",
      "2  normal deviation    190.434041   28.224066   5.754876\n",
      "3  three sigma rule    989.049658  118.041255  33.586152\n"
     ]
    }
   ],
   "source": [
    "#Подсчет среднего кол-ва, дисперсии, стандарного отклонения\n",
    "\n",
    "\n",
    "#Тариф смарт, минуты\n",
    "\n",
    "var_smart_duration = np.var(tarif_smart['duration'])\n",
    "\n",
    "mean_smart_duration = tarif_smart['duration'].mean()\n",
    "\n",
    "normal_smart_duration= mean_smart_duration + 3 * np.sqrt(var_smart_duration)\n",
    "\n",
    "\n",
    "#Тариф смарт,сообщения\n",
    "\n",
    "var_smart_messages = np.var(tarif_smart['count_messages'])\n",
    "\n",
    "mean_smart_messages = tarif_smart['count_messages'].mean()\n",
    "\n",
    "normal_smart_messages= mean_smart_messages + 3 * np.sqrt(var_smart_messages)\n",
    "\n",
    "\n",
    "#Тариф смарт, трафик\n",
    "\n",
    "var_smart_gb = np.var(tarif_smart['gb_used'])\n",
    "\n",
    "mean_smart_gb = tarif_smart['gb_used'].mean()\n",
    "\n",
    "normal_smart_gb= mean_smart_gb + 3 * np.sqrt(var_smart_gb)\n",
    "\n",
    "\n",
    "math_data=pd.DataFrame({'value':['dispertion','mean','normal deviation','three sigma rule'],\n",
    "                        'duration': [var_smart_duration, mean_smart_duration, np.sqrt(var_smart_duration),normal_smart_duration],\n",
    "                        'messages': [var_smart_messages,mean_smart_messages,np.sqrt(var_smart_messages),normal_smart_messages],\n",
    "                        'gb':[var_smart_gb,mean_smart_gb,np.sqrt(var_smart_gb),normal_smart_gb]})\n",
    "\n",
    "print(math_data)\n",
    "\n"
   ]
  },
  {
   "cell_type": "markdown",
   "metadata": {},
   "source": [
    "<b> Вывод </b>\n",
    "\n",
    "<b> Тариф смарт </b>\n",
    "\n",
    "1. Среднее значение, которое тратит пользователь на разговоры в месяц - 417 минут. При этом стандартное отклонение равно - 190, по правилу трех сигм, получим, что основному числу пользователей достаточно до 989ти минут в месяц на разговоры.\n",
    "2.Среднее значение отправленных сообщений в месяц - 33. Стандарное отклонение равно -  28, по правилу трех сигм, получим, что основному числу пользователей достаточно до 118 сообщений в месяц.\n",
    "3.Среднее значение потраченных ГБ за месяц - 16. Стандартное отклонение = 5. По правилу трех сигм,  получим, что основному числу пользователй хватает до 33 ГБ в месяц интернет трафика."
   ]
  },
  {
   "cell_type": "code",
   "execution_count": 9,
   "metadata": {},
   "outputs": [
    {
     "name": "stdout",
     "output_type": "stream",
     "text": [
      "              value       duration     messages         gb\n",
      "0        dispertion  100950.006233  2283.099557  97.279783\n",
      "1              mean     526.089249    49.313387  19.474645\n",
      "2  normal deviation     317.726307    47.781791   9.863051\n",
      "3  three sigma rule    1479.268171   192.658761  49.063799\n"
     ]
    }
   ],
   "source": [
    "#Тариф ультра, минуты\n",
    "\n",
    "var_ultra_duration = np.var(tarif_ultra['duration'])\n",
    "\n",
    "mean_ultra_duration = tarif_ultra['duration'].mean()\n",
    "\n",
    "normal_ultra_duration= mean_ultra_duration + 3 * np.sqrt(var_ultra_duration)\n",
    "\n",
    "#Тариф ультра,сообщения\n",
    "\n",
    "var_ultra_messages = np.var(tarif_ultra['count_messages'])\n",
    "\n",
    "mean_ultra_messages = tarif_ultra['count_messages'].mean()\n",
    "\n",
    "normal_ultra_messages= mean_ultra_messages + 3 * np.sqrt(var_ultra_messages)\n",
    "\n",
    "\n",
    "#Тариф ультра, трафик\n",
    "\n",
    "var_ultra_gb = np.var(tarif_ultra['gb_used'])\n",
    "\n",
    "mean_ultra_gb = tarif_ultra['gb_used'].mean()\n",
    "\n",
    "normal_ultra_gb= mean_ultra_gb + 3 * np.sqrt(var_ultra_gb)\n",
    "\n",
    "\n",
    "math_data1=pd.DataFrame({'value':['dispertion','mean','normal deviation','three sigma rule'],\n",
    "                        'duration': [var_ultra_duration, mean_ultra_duration, np.sqrt(var_ultra_duration),normal_ultra_duration],\n",
    "                        'messages': [var_ultra_messages,mean_ultra_messages,np.sqrt(var_ultra_messages),normal_ultra_messages],\n",
    "                        'gb':[var_ultra_gb,mean_ultra_gb,np.sqrt(var_ultra_gb),normal_ultra_gb]})\n",
    "\n",
    "print(math_data1)\n"
   ]
  },
  {
   "cell_type": "markdown",
   "metadata": {},
   "source": [
    "<b> Тариф ультра </b>\n",
    "\n",
    "1. Среднее значение, которое тратит пользователь на разговоры в месяц - 526 минуты. При этом стандартное отклонение равно - 317, по правилу трех сигм, получим, что основному числу пользователей достаточно до 1479 минуты в месяц на разговоры.\n",
    "2.Среднее значение отправленных сообщений в месяц - 49. Стандарное отклонение равно -  47, по правилу трех сигм, получим, что основному числу пользователей достаточно до 192 сообщений в месяц.\n",
    "3.Среднее значение потраченных ГБ за месяц - 19. Стандартное отклонение = 9. По правилу трех сигм,  получим, что основному числу пользователй хватает до 49 ГБ в месяц интернет трафика."
   ]
  },
  {
   "cell_type": "markdown",
   "metadata": {},
   "source": [
    "# 4. Проверка гипотез"
   ]
  },
  {
   "cell_type": "code",
   "execution_count": 10,
   "metadata": {},
   "outputs": [
    {
     "name": "stdout",
     "output_type": "stream",
     "text": [
      "Средняя выручка тарифа ультра: 1950.0\n",
      "Средняя выручка тарифа смарт: 692.1529147982063\n",
      "p-значение: 0.0\n",
      "Подтверждаем, что средняя выручка пользователей тарифов «Ультра» и «Смарт» различаются \n"
     ]
    },
    {
     "name": "stderr",
     "output_type": "stream",
     "text": [
      "/opt/conda/lib/python3.7/site-packages/scipy/stats/morestats.py:2241: RuntimeWarning: divide by zero encountered in log\n",
      "  numer = (Ntot*1.0 - k) * log(spsq) - np.sum((Ni - 1.0)*log(ssq), axis=0)\n"
     ]
    }
   ],
   "source": [
    "#Гипотеза -средняя выручка пользователей тарифов «Ультра» и «Смарт» различаются;\n",
    "#Нулевая гипотеза - средняя выручка пользователе тарифов равна.\n",
    "from scipy.stats import bartlett\n",
    "\n",
    "\n",
    "print('Средняя выручка тарифа ультра:', tarif_ultra['profit'].mean())\n",
    "print('Средняя выручка тарифа смарт:',tarif_smart['profit'].mean())\n",
    "\n",
    "\n",
    "alpha = 0.05  # критический уровень статистической значимости\n",
    "\n",
    "results = st.ttest_ind(tarif_ultra['profit'], tarif_smart['profit'],equal_var=False)\n",
    "\n",
    "print('p-значение:', results.pvalue)\n",
    "\n",
    "if results.pvalue < alpha:\n",
    "    print('Подтверждаем, что средняя выручка пользователей тарифов «Ультра» и «Смарт» различаются ')\n",
    "else:\n",
    "    print('Отвергаем гипотезу') \n",
    "    \n",
    "stat, p = bartlett(tarif_ultra['profit'],tarif_smart['profit'])\n"
   ]
  },
  {
   "cell_type": "markdown",
   "metadata": {},
   "source": [
    "\n",
    "\n",
    "H0:Средняя выручка двух тарифов равна\n",
    "    \n",
    "Н1:Средняя выручка пользователей различаются\n",
    "    \n",
    "Подтверждаем альтернативную гипотезу"
   ]
  },
  {
   "cell_type": "code",
   "execution_count": 11,
   "metadata": {},
   "outputs": [
    {
     "name": "stdout",
     "output_type": "stream",
     "text": [
      "Средняя выручка пользователей из Москвы: 1147.859247135843\n",
      "Средняя выручка пользователей из других регионов: 1061.3662188099809\n",
      "p-значение: 0.0025424121881247076\n",
      "Подтверждаем, средняя выручка пользователи из Москвы отличается от выручки пользователей из других регионов. \n"
     ]
    }
   ],
   "source": [
    "#Гипотеза - средняя выручка пользователи из Москвы отличается от выручки пользователей из других регионов.\n",
    "#Нулевая гипотеза - средняя выручка пользователей из Москвы равна выручке пользователей из других регионов.\n",
    "\n",
    "user_moscow = tarif_data.query('city == \"Москва\"')\n",
    "user_other = tarif_data.query('city != \"Москва\"')\n",
    "\n",
    "\n",
    "print('Средняя выручка пользователей из Москвы:', user_moscow['profit'].mean())\n",
    "print('Средняя выручка пользователей из других регионов:',user_other['profit'].mean())\n",
    "\n",
    "\n",
    "alpha = 0.05  # критический уровень статистической значимости\n",
    "\n",
    "results_1 = st.ttest_ind(user_moscow['profit'], user_other['profit'],equal_var=False)\n",
    "\n",
    "print('p-значение:', results_1.pvalue)\n",
    "\n",
    "if results_1.pvalue < alpha:\n",
    "    print('Подтверждаем, средняя выручка пользователи из Москвы отличается от выручки пользователей из других регионов. ')\n",
    "else:\n",
    "    print('Отвергаем гипотезу') \n",
    "    \n",
    "    \n",
    "stat, pi = bartlett(user_moscow['profit'],user_other['profit'])\n",
    "\n",
    "\n"
   ]
  },
  {
   "cell_type": "markdown",
   "metadata": {},
   "source": [
    "# 5. Общий вывод"
   ]
  },
  {
   "cell_type": "markdown",
   "metadata": {},
   "source": [
    "Основное количество пользователей тарифа Смарт и тарифа Ультра тратят практически одинаковое кол-во интернет трафика и сообщений в месяц. Для пользователей тарифа смарт достаточно 63х минут разговора в месяц, а для тарифа ультра 81. При этом с учетом расценок тарифов, если пользователи с тарифа Ультра перейдут на Смарт - им будет выгоднее.\n",
    "\n",
    "Основной процент клиентов не израсходывают весь трафик, сообщения и минуты включенные в стоимость тарифа и не платят сверх нормы.\n",
    "\n",
    "При этом средняя выручка тарифа ультра практически в три раза выше средней выручки тарифа смарт. Но число пользователей в выборке с тарифом смарт = 24456 , с тарифом ультра = 9786. Что означает, что тарифом смарт пользуются в 2,4 раза больше пользователей.\n",
    "\n"
   ]
  },
  {
   "cell_type": "code",
   "execution_count": 12,
   "metadata": {},
   "outputs": [
    {
     "name": "stdout",
     "output_type": "stream",
     "text": [
      "1543501.0\n",
      "1922700.0\n"
     ]
    },
    {
     "data": {
      "image/png": "[encoded data removed]",
      "text/plain": [
       "<Figure size 432x288 with 1 Axes>"
      ]
     },
     "metadata": {
      "needs_background": "light"
     },
     "output_type": "display_data"
    }
   ],
   "source": [
    "#сравнение выручки от тарифов\n",
    "\n",
    "ах= tarif_smart.plot(\n",
    "    kind='hist',\n",
    "    y='profit',\n",
    "    histtype='step',\n",
    "    bins=10,\n",
    "    linewidth=7,\n",
    "    alpha=0.7,\n",
    "    range = (550,2500),\n",
    "    label='smart',\n",
    "    title='Выручка'\n",
    ")\n",
    "tarif_ultra.plot(\n",
    "    kind='hist',\n",
    "    y='profit',\n",
    "    histtype='step',\n",
    "    bins=10,\n",
    "    linewidth=7,\n",
    "    alpha=0.7,\n",
    "    range = (550,2500),\n",
    "    label='ultra',\n",
    "    ax=ах,\n",
    "    grid=True,\n",
    "    legend=True,\n",
    ")\n",
    "\n",
    "print(tarif_smart['profit'].sum())\n",
    "print(tarif_ultra['profit'].sum())"
   ]
  },
  {
   "cell_type": "markdown",
   "metadata": {},
   "source": [
    "\n",
    "    \n",
    "Вывод:\n",
    "\n",
    "    1.Основное число пользователей тарифа смарт тратят : до 989 минут на звонки в месяц, до 118 сообщений, до 33 ГБ интернета в месяц. При этом средняя выручка в месяц составляет - 692 рубля.\n",
    "\n",
    "    2.Основное число пользователей тарифа ультра тратят: до 1479 минут на звонки в месяц, до 192 сообщений, до 49 ГБ интернета. Средняя выручка составляет 1950 руб.\n",
    "    \n",
    "    3. Средняя выручка пользователей тарифа Ультра в 3 раза больше выручки от тарифа Смарт, при  этом клиентов, кто пользуется данным тарифом меньше в 2,2 раза. \n",
    "    \n",
    "    4.При этом если брать разницу в количестве клиентов по каждому тарифу, выручка от пользователей тарифа Ультра выше выручки тарифа Смарт.\n",
    "    \n",
    "    5. Больше дополнительной выручки приносят пользователеф тарифа Смарт, так как тратят больше, чем включено в основной тариф. Средняя выручка по тарифу смарт не равна цене основного тарифа, именно за счет дополнительной выручки она выше.\n",
    "    "
   ]
  }
 ],
 "metadata": {
  "ExecuteTimeLog": [
   {
    "duration": 912,
    "start_time": "2021-07-29T09:10:24.830Z"
   },
   {
    "duration": 221,
    "start_time": "2021-07-29T09:10:34.930Z"
   },
   {
    "duration": 223,
    "start_time": "2021-07-29T09:10:42.042Z"
   },
   {
    "duration": 222,
    "start_time": "2021-07-29T09:10:58.754Z"
   },
   {
    "duration": 212,
    "start_time": "2021-07-29T09:11:49.489Z"
   },
   {
    "duration": 577,
    "start_time": "2021-07-29T09:14:17.927Z"
   },
   {
    "duration": 322,
    "start_time": "2021-07-29T09:41:23.778Z"
   },
   {
    "duration": 1305,
    "start_time": "2021-07-29T09:41:28.084Z"
   },
   {
    "duration": 404,
    "start_time": "2021-07-29T11:31:29.026Z"
   },
   {
    "duration": 1286,
    "start_time": "2021-07-29T11:31:35.243Z"
   },
   {
    "duration": 5178,
    "start_time": "2021-07-29T11:31:40.665Z"
   },
   {
    "duration": 417,
    "start_time": "2021-07-29T11:32:11.429Z"
   },
   {
    "duration": 278,
    "start_time": "2021-07-29T11:32:20.761Z"
   },
   {
    "duration": 1330,
    "start_time": "2021-07-29T11:32:33.171Z"
   },
   {
    "duration": 4658,
    "start_time": "2021-07-29T11:32:37.840Z"
   },
   {
    "duration": 347,
    "start_time": "2021-07-29T11:34:49.662Z"
   },
   {
    "duration": 289,
    "start_time": "2021-07-29T11:34:56.024Z"
   },
   {
    "duration": 1413,
    "start_time": "2021-07-29T11:35:06.971Z"
   },
   {
    "duration": 1624,
    "start_time": "2021-07-29T11:35:15.750Z"
   },
   {
    "duration": 5603,
    "start_time": "2021-07-29T11:35:23.754Z"
   },
   {
    "duration": 428,
    "start_time": "2021-07-29T11:36:08.942Z"
   },
   {
    "duration": 291,
    "start_time": "2021-07-29T11:37:07.225Z"
   },
   {
    "duration": 1373,
    "start_time": "2021-07-29T11:37:10.743Z"
   },
   {
    "duration": 2856,
    "start_time": "2021-07-29T11:37:15.141Z"
   },
   {
    "duration": 2819,
    "start_time": "2021-07-29T11:39:25.948Z"
   },
   {
    "duration": 2830,
    "start_time": "2021-07-29T11:39:31.448Z"
   },
   {
    "duration": 358,
    "start_time": "2021-07-29T11:41:07.243Z"
   },
   {
    "duration": 2620,
    "start_time": "2021-07-29T11:41:11.302Z"
   },
   {
    "duration": 5899,
    "start_time": "2021-07-29T11:41:16.767Z"
   },
   {
    "duration": 90,
    "start_time": "2021-07-29T11:42:31.221Z"
   },
   {
    "duration": 289,
    "start_time": "2021-07-29T11:43:19.593Z"
   },
   {
    "duration": 278,
    "start_time": "2021-07-29T11:43:24.610Z"
   },
   {
    "duration": 594,
    "start_time": "2021-07-29T11:43:32.823Z"
   },
   {
    "duration": 320,
    "start_time": "2021-07-29T11:43:36.504Z"
   },
   {
    "duration": 10,
    "start_time": "2021-07-29T11:46:29.727Z"
   },
   {
    "duration": 18,
    "start_time": "2021-07-29T11:46:36.129Z"
   },
   {
    "duration": 338,
    "start_time": "2021-07-29T11:46:43.027Z"
   },
   {
    "duration": 2590,
    "start_time": "2021-07-29T11:48:09.342Z"
   },
   {
    "duration": 330,
    "start_time": "2021-07-29T11:52:07.779Z"
   },
   {
    "duration": 2541,
    "start_time": "2021-07-29T14:02:00.104Z"
   },
   {
    "duration": 76,
    "start_time": "2021-07-29T14:03:17.949Z"
   },
   {
    "duration": 31,
    "start_time": "2021-07-29T14:03:21.848Z"
   },
   {
    "duration": 324,
    "start_time": "2021-07-29T14:04:53.861Z"
   },
   {
    "duration": 1435,
    "start_time": "2021-07-29T14:05:00.495Z"
   },
   {
    "duration": 52,
    "start_time": "2021-07-29T14:05:02.542Z"
   },
   {
    "duration": 44,
    "start_time": "2021-07-29T14:05:19.755Z"
   },
   {
    "duration": 131,
    "start_time": "2021-07-29T14:10:18.960Z"
   },
   {
    "duration": 413,
    "start_time": "2021-07-29T14:13:21.626Z"
   },
   {
    "duration": 158,
    "start_time": "2021-07-29T14:21:00.746Z"
   },
   {
    "duration": 156,
    "start_time": "2021-07-29T14:21:13.875Z"
   },
   {
    "duration": 7115,
    "start_time": "2021-07-29T14:21:32.175Z"
   },
   {
    "duration": 8484,
    "start_time": "2021-07-29T14:21:56.434Z"
   },
   {
    "duration": 51,
    "start_time": "2021-07-29T14:22:22.351Z"
   },
   {
    "duration": 329,
    "start_time": "2021-07-29T14:22:37.440Z"
   },
   {
    "duration": 218,
    "start_time": "2021-07-29T14:22:54.620Z"
   },
   {
    "duration": 8769,
    "start_time": "2021-07-29T14:23:07.834Z"
   },
   {
    "duration": 49,
    "start_time": "2021-07-29T15:29:12.001Z"
   },
   {
    "duration": 51,
    "start_time": "2021-07-29T15:29:18.684Z"
   },
   {
    "duration": 60,
    "start_time": "2021-07-29T15:29:47.737Z"
   },
   {
    "duration": 65,
    "start_time": "2021-07-29T15:30:16.261Z"
   },
   {
    "duration": 87,
    "start_time": "2021-07-29T15:30:26.283Z"
   },
   {
    "duration": 338,
    "start_time": "2021-07-29T15:42:46.456Z"
   },
   {
    "duration": 338,
    "start_time": "2021-07-29T15:43:18.424Z"
   },
   {
    "duration": 1336,
    "start_time": "2021-07-29T15:43:38.710Z"
   },
   {
    "duration": 179,
    "start_time": "2021-07-29T15:44:47.663Z"
   },
   {
    "duration": 488,
    "start_time": "2021-07-29T15:45:23.776Z"
   },
   {
    "duration": 198,
    "start_time": "2021-07-29T15:45:34.641Z"
   },
   {
    "duration": 315,
    "start_time": "2021-07-29T15:48:00.036Z"
   },
   {
    "duration": 346,
    "start_time": "2021-07-29T15:48:12.832Z"
   },
   {
    "duration": 362,
    "start_time": "2021-07-29T15:49:15.975Z"
   },
   {
    "duration": 364,
    "start_time": "2021-07-29T16:12:57.247Z"
   },
   {
    "duration": 441,
    "start_time": "2021-07-29T16:16:08.823Z"
   },
   {
    "duration": 1338,
    "start_time": "2021-07-29T16:16:21.783Z"
   },
   {
    "duration": 177,
    "start_time": "2021-07-29T16:16:27.449Z"
   },
   {
    "duration": 6908,
    "start_time": "2021-07-29T16:16:55.608Z"
   },
   {
    "duration": 1276,
    "start_time": "2021-07-29T16:17:55.538Z"
   },
   {
    "duration": 217,
    "start_time": "2021-07-29T16:18:01.969Z"
   },
   {
    "duration": 6548,
    "start_time": "2021-07-29T16:18:52.010Z"
   },
   {
    "duration": 596,
    "start_time": "2021-07-29T16:19:16.330Z"
   },
   {
    "duration": 414,
    "start_time": "2021-07-29T16:19:19.301Z"
   },
   {
    "duration": 27699,
    "start_time": "2021-07-29T16:19:54.157Z"
   },
   {
    "duration": 6816,
    "start_time": "2021-07-29T16:20:38.950Z"
   },
   {
    "duration": 1279,
    "start_time": "2021-07-29T16:21:07.447Z"
   },
   {
    "duration": 211,
    "start_time": "2021-07-29T16:21:08.729Z"
   },
   {
    "duration": 696,
    "start_time": "2021-07-29T16:24:44.877Z"
   },
   {
    "duration": 7764,
    "start_time": "2021-07-29T16:25:22.245Z"
   },
   {
    "duration": 1465,
    "start_time": "2021-07-29T16:25:46.662Z"
   },
   {
    "duration": 531,
    "start_time": "2021-07-29T16:25:58.568Z"
   },
   {
    "duration": 346,
    "start_time": "2021-07-29T16:26:41.971Z"
   },
   {
    "duration": 362,
    "start_time": "2021-07-29T16:26:58.252Z"
   },
   {
    "duration": 114,
    "start_time": "2021-07-29T16:29:13.348Z"
   },
   {
    "duration": 127,
    "start_time": "2021-07-29T16:29:41.488Z"
   },
   {
    "duration": 125,
    "start_time": "2021-07-29T16:29:54.164Z"
   },
   {
    "duration": 115,
    "start_time": "2021-07-29T16:30:15.078Z"
   },
   {
    "duration": 117,
    "start_time": "2021-07-29T16:30:50.878Z"
   },
   {
    "duration": 113,
    "start_time": "2021-07-29T16:31:11.870Z"
   },
   {
    "duration": 113,
    "start_time": "2021-07-29T16:31:31.459Z"
   },
   {
    "duration": 1455,
    "start_time": "2021-07-29T16:32:12.062Z"
   },
   {
    "duration": 516,
    "start_time": "2021-07-29T16:32:26.311Z"
   },
   {
    "duration": 89,
    "start_time": "2021-07-29T16:32:30.063Z"
   },
   {
    "duration": 60,
    "start_time": "2021-07-29T16:32:55.290Z"
   },
   {
    "duration": 55,
    "start_time": "2021-07-29T16:35:19.538Z"
   },
   {
    "duration": 56,
    "start_time": "2021-07-29T16:35:21.954Z"
   },
   {
    "duration": 58,
    "start_time": "2021-07-29T16:35:31.038Z"
   },
   {
    "duration": 56,
    "start_time": "2021-07-29T16:36:04.873Z"
   },
   {
    "duration": 59,
    "start_time": "2021-07-29T16:36:45.035Z"
   },
   {
    "duration": 59,
    "start_time": "2021-07-29T16:36:52.382Z"
   },
   {
    "duration": 1262,
    "start_time": "2021-07-29T16:37:17.036Z"
   },
   {
    "duration": 152,
    "start_time": "2021-07-29T16:37:22.969Z"
   },
   {
    "duration": 59,
    "start_time": "2021-07-29T16:37:35.505Z"
   },
   {
    "duration": 82,
    "start_time": "2021-07-29T16:37:39.706Z"
   },
   {
    "duration": 81,
    "start_time": "2021-07-29T16:37:49.372Z"
   },
   {
    "duration": 1436,
    "start_time": "2021-07-29T16:38:12.693Z"
   },
   {
    "duration": 177,
    "start_time": "2021-07-29T16:38:16.338Z"
   },
   {
    "duration": 115,
    "start_time": "2021-07-29T16:38:35.911Z"
   },
   {
    "duration": 82,
    "start_time": "2021-07-29T16:39:10.187Z"
   },
   {
    "duration": 1378,
    "start_time": "2021-07-29T16:39:24.798Z"
   },
   {
    "duration": 180,
    "start_time": "2021-07-29T16:39:31.417Z"
   },
   {
    "duration": 82,
    "start_time": "2021-07-29T16:39:38.320Z"
   },
   {
    "duration": 83,
    "start_time": "2021-07-29T16:39:50.076Z"
   },
   {
    "duration": 78,
    "start_time": "2021-07-29T16:39:52.376Z"
   },
   {
    "duration": 1375,
    "start_time": "2021-07-29T16:40:45.472Z"
   },
   {
    "duration": 185,
    "start_time": "2021-07-29T16:40:49.688Z"
   },
   {
    "duration": 44,
    "start_time": "2021-07-29T16:41:06.403Z"
   },
   {
    "duration": 41,
    "start_time": "2021-07-29T16:41:25.992Z"
   },
   {
    "duration": 82,
    "start_time": "2021-07-29T16:41:40.304Z"
   },
   {
    "duration": 107,
    "start_time": "2021-07-29T16:43:30.628Z"
   },
   {
    "duration": 97,
    "start_time": "2021-07-29T16:43:54.273Z"
   },
   {
    "duration": 112,
    "start_time": "2021-07-29T16:44:02.329Z"
   },
   {
    "duration": 233,
    "start_time": "2021-07-29T16:44:18.841Z"
   },
   {
    "duration": 95,
    "start_time": "2021-07-29T16:44:26.519Z"
   },
   {
    "duration": 101,
    "start_time": "2021-07-29T16:44:28.527Z"
   },
   {
    "duration": 95,
    "start_time": "2021-07-29T16:44:33.018Z"
   },
   {
    "duration": 42,
    "start_time": "2021-07-29T16:44:49.542Z"
   },
   {
    "duration": 86,
    "start_time": "2021-07-29T16:45:21.325Z"
   },
   {
    "duration": 40,
    "start_time": "2021-07-29T16:45:57.813Z"
   },
   {
    "duration": 77,
    "start_time": "2021-07-29T16:47:09.818Z"
   },
   {
    "duration": 62,
    "start_time": "2021-07-29T16:47:18.690Z"
   },
   {
    "duration": 4726,
    "start_time": "2021-07-29T16:48:13.944Z"
   },
   {
    "duration": 345,
    "start_time": "2021-07-29T16:48:58.685Z"
   },
   {
    "duration": 509,
    "start_time": "2021-07-29T16:49:21.205Z"
   },
   {
    "duration": 513,
    "start_time": "2021-07-29T16:49:42.987Z"
   },
   {
    "duration": 211,
    "start_time": "2021-07-29T16:50:09.531Z"
   },
   {
    "duration": 1876,
    "start_time": "2021-08-01T11:24:26.151Z"
   },
   {
    "duration": 173,
    "start_time": "2021-08-01T11:32:01.101Z"
   },
   {
    "duration": 34,
    "start_time": "2021-08-01T11:38:11.322Z"
   },
   {
    "duration": 98,
    "start_time": "2021-08-01T11:38:27.935Z"
   },
   {
    "duration": 22,
    "start_time": "2021-08-01T11:38:45.364Z"
   },
   {
    "duration": 26,
    "start_time": "2021-08-01T11:39:16.916Z"
   },
   {
    "duration": 30,
    "start_time": "2021-08-01T11:39:50.464Z"
   },
   {
    "duration": 31,
    "start_time": "2021-08-01T11:43:29.863Z"
   },
   {
    "duration": 39,
    "start_time": "2021-08-01T11:43:39.635Z"
   },
   {
    "duration": 35,
    "start_time": "2021-08-01T11:44:46.464Z"
   },
   {
    "duration": 39,
    "start_time": "2021-08-01T11:45:21.242Z"
   },
   {
    "duration": 39,
    "start_time": "2021-08-01T11:45:38.674Z"
   },
   {
    "duration": 35,
    "start_time": "2021-08-01T11:45:47.149Z"
   },
   {
    "duration": 33,
    "start_time": "2021-08-01T11:46:03.676Z"
   },
   {
    "duration": 28,
    "start_time": "2021-08-01T11:46:18.156Z"
   },
   {
    "duration": 49,
    "start_time": "2021-08-01T11:49:57.389Z"
   },
   {
    "duration": 60,
    "start_time": "2021-08-01T11:50:37.412Z"
   },
   {
    "duration": 7740,
    "start_time": "2021-08-01T11:51:56.572Z"
   },
   {
    "duration": 38,
    "start_time": "2021-08-01T11:52:50.609Z"
   },
   {
    "duration": 37,
    "start_time": "2021-08-01T11:53:18.262Z"
   },
   {
    "duration": 44,
    "start_time": "2021-08-01T11:54:14.723Z"
   },
   {
    "duration": 85,
    "start_time": "2021-08-01T11:58:01.641Z"
   },
   {
    "duration": 49,
    "start_time": "2021-08-01T11:59:02.691Z"
   },
   {
    "duration": 50,
    "start_time": "2021-08-01T11:59:16.205Z"
   },
   {
    "duration": 1357,
    "start_time": "2021-08-01T11:59:49.299Z"
   },
   {
    "duration": 160,
    "start_time": "2021-08-01T11:59:54.016Z"
   },
   {
    "duration": 49,
    "start_time": "2021-08-01T11:59:56.915Z"
   },
   {
    "duration": 44,
    "start_time": "2021-08-01T12:00:05.449Z"
   },
   {
    "duration": 39,
    "start_time": "2021-08-01T12:00:31.260Z"
   },
   {
    "duration": 69,
    "start_time": "2021-08-01T12:00:39.987Z"
   },
   {
    "duration": 52,
    "start_time": "2021-08-01T12:02:49.894Z"
   },
   {
    "duration": 64,
    "start_time": "2021-08-01T12:03:10.173Z"
   },
   {
    "duration": 57,
    "start_time": "2021-08-01T12:43:29.162Z"
   },
   {
    "duration": 113,
    "start_time": "2021-08-01T12:44:30.948Z"
   },
   {
    "duration": 89,
    "start_time": "2021-08-01T12:46:56.118Z"
   },
   {
    "duration": 82,
    "start_time": "2021-08-01T12:48:05.763Z"
   },
   {
    "duration": 92,
    "start_time": "2021-08-01T12:48:16.490Z"
   },
   {
    "duration": 85,
    "start_time": "2021-08-01T12:48:24.869Z"
   },
   {
    "duration": 11,
    "start_time": "2021-08-01T12:49:15.150Z"
   },
   {
    "duration": 380,
    "start_time": "2021-08-01T12:50:18.787Z"
   },
   {
    "duration": 16,
    "start_time": "2021-08-01T12:50:28.505Z"
   },
   {
    "duration": 15,
    "start_time": "2021-08-01T12:52:21.059Z"
   },
   {
    "duration": 21,
    "start_time": "2021-08-01T12:53:07.700Z"
   },
   {
    "duration": 435,
    "start_time": "2021-08-01T12:53:50.238Z"
   },
   {
    "duration": 371,
    "start_time": "2021-08-01T12:54:04.337Z"
   },
   {
    "duration": 653,
    "start_time": "2021-08-01T12:55:20.764Z"
   },
   {
    "duration": 713,
    "start_time": "2021-08-01T12:55:28.572Z"
   },
   {
    "duration": 790,
    "start_time": "2021-08-01T12:55:41.226Z"
   },
   {
    "duration": 1054,
    "start_time": "2021-08-01T12:56:15.375Z"
   },
   {
    "duration": 615,
    "start_time": "2021-08-01T13:11:17.150Z"
   },
   {
    "duration": 492,
    "start_time": "2021-08-01T13:11:24.771Z"
   },
   {
    "duration": 259,
    "start_time": "2021-08-01T13:19:13.183Z"
   },
   {
    "duration": 250,
    "start_time": "2021-08-01T13:19:29.900Z"
   },
   {
    "duration": 87,
    "start_time": "2021-08-01T13:21:09.410Z"
   },
   {
    "duration": 257,
    "start_time": "2021-08-01T13:21:14.938Z"
   },
   {
    "duration": 253,
    "start_time": "2021-08-01T13:23:30.139Z"
   },
   {
    "duration": 229,
    "start_time": "2021-08-01T13:24:00.119Z"
   },
   {
    "duration": 251,
    "start_time": "2021-08-01T13:25:24.434Z"
   },
   {
    "duration": 254,
    "start_time": "2021-08-01T13:25:32.510Z"
   },
   {
    "duration": 71,
    "start_time": "2021-08-01T13:28:45.413Z"
   },
   {
    "duration": 82,
    "start_time": "2021-08-01T13:28:55.065Z"
   },
   {
    "duration": 73,
    "start_time": "2021-08-01T13:29:02.719Z"
   },
   {
    "duration": 3654,
    "start_time": "2021-08-01T13:34:47.194Z"
   },
   {
    "duration": 304,
    "start_time": "2021-08-01T13:55:06.799Z"
   },
   {
    "duration": 269,
    "start_time": "2021-08-01T14:05:18.594Z"
   },
   {
    "duration": 6642,
    "start_time": "2021-08-01T14:05:32.784Z"
   },
   {
    "duration": 85,
    "start_time": "2021-08-01T14:06:06.028Z"
   },
   {
    "duration": 6721,
    "start_time": "2021-08-01T14:06:22.783Z"
   },
   {
    "duration": 244,
    "start_time": "2021-08-01T14:06:45.063Z"
   },
   {
    "duration": 253,
    "start_time": "2021-08-01T14:08:25.128Z"
   },
   {
    "duration": 261,
    "start_time": "2021-08-01T14:08:37.526Z"
   },
   {
    "duration": 1550,
    "start_time": "2021-08-01T14:37:52.560Z"
   },
   {
    "duration": 1569,
    "start_time": "2021-08-01T14:38:06.146Z"
   },
   {
    "duration": 1554,
    "start_time": "2021-08-01T14:38:24.919Z"
   },
   {
    "duration": 107,
    "start_time": "2021-08-01T14:39:25.405Z"
   },
   {
    "duration": 1680,
    "start_time": "2021-08-01T14:39:30.485Z"
   },
   {
    "duration": 6,
    "start_time": "2021-08-01T14:42:41.421Z"
   },
   {
    "duration": 1530,
    "start_time": "2021-08-01T14:42:50.223Z"
   },
   {
    "duration": 1546,
    "start_time": "2021-08-01T14:43:17.071Z"
   },
   {
    "duration": 6,
    "start_time": "2021-08-01T14:45:59.526Z"
   },
   {
    "duration": 6,
    "start_time": "2021-08-01T14:46:29.298Z"
   },
   {
    "duration": 6,
    "start_time": "2021-08-01T14:46:52.318Z"
   },
   {
    "duration": 1536,
    "start_time": "2021-08-01T14:47:29.168Z"
   },
   {
    "duration": 1537,
    "start_time": "2021-08-01T14:47:49.933Z"
   },
   {
    "duration": 1556,
    "start_time": "2021-08-01T14:48:03.900Z"
   },
   {
    "duration": 1546,
    "start_time": "2021-08-01T14:48:22.628Z"
   },
   {
    "duration": 1594,
    "start_time": "2021-08-01T14:48:53.240Z"
   },
   {
    "duration": 275,
    "start_time": "2021-08-01T14:57:37.911Z"
   },
   {
    "duration": 325,
    "start_time": "2021-08-01T14:58:01.272Z"
   },
   {
    "duration": 280,
    "start_time": "2021-08-01T14:58:14.726Z"
   },
   {
    "duration": 318,
    "start_time": "2021-08-01T14:58:36.882Z"
   },
   {
    "duration": 18,
    "start_time": "2021-08-01T14:59:02.343Z"
   },
   {
    "duration": 296,
    "start_time": "2021-08-01T14:59:11.323Z"
   },
   {
    "duration": 298,
    "start_time": "2021-08-01T14:59:18.511Z"
   },
   {
    "duration": 623,
    "start_time": "2021-08-01T15:00:28.386Z"
   },
   {
    "duration": 292,
    "start_time": "2021-08-01T15:00:35.255Z"
   },
   {
    "duration": 1029,
    "start_time": "2021-08-01T15:00:47.594Z"
   },
   {
    "duration": 1069,
    "start_time": "2021-08-01T15:00:55.836Z"
   },
   {
    "duration": 827,
    "start_time": "2021-08-01T15:01:11.020Z"
   },
   {
    "duration": 660,
    "start_time": "2021-08-01T15:01:18.395Z"
   },
   {
    "duration": 1040,
    "start_time": "2021-08-01T15:01:27.511Z"
   },
   {
    "duration": 688,
    "start_time": "2021-08-01T15:01:30.806Z"
   },
   {
    "duration": 630,
    "start_time": "2021-08-01T15:01:36.316Z"
   },
   {
    "duration": 652,
    "start_time": "2021-08-01T15:01:40.807Z"
   },
   {
    "duration": 709,
    "start_time": "2021-08-01T15:01:46.328Z"
   },
   {
    "duration": 811,
    "start_time": "2021-08-01T15:01:51.458Z"
   },
   {
    "duration": 880,
    "start_time": "2021-08-01T15:02:10.428Z"
   },
   {
    "duration": 795,
    "start_time": "2021-08-01T15:02:16.140Z"
   },
   {
    "duration": 908,
    "start_time": "2021-08-01T15:02:22.566Z"
   },
   {
    "duration": 710,
    "start_time": "2021-08-01T15:04:01.416Z"
   },
   {
    "duration": 839,
    "start_time": "2021-08-01T15:04:10.438Z"
   },
   {
    "duration": 796,
    "start_time": "2021-08-01T15:04:19.719Z"
   },
   {
    "duration": 995,
    "start_time": "2021-08-01T15:04:37.185Z"
   },
   {
    "duration": 893,
    "start_time": "2021-08-01T15:04:42.609Z"
   },
   {
    "duration": 1019,
    "start_time": "2021-08-01T15:04:49.973Z"
   },
   {
    "duration": 924,
    "start_time": "2021-08-01T15:05:41.839Z"
   },
   {
    "duration": 105,
    "start_time": "2021-08-01T15:05:53.913Z"
   },
   {
    "duration": 1085,
    "start_time": "2021-08-01T15:06:00.267Z"
   },
   {
    "duration": 1001,
    "start_time": "2021-08-01T15:06:45.132Z"
   },
   {
    "duration": 1021,
    "start_time": "2021-08-01T15:06:51.455Z"
   },
   {
    "duration": 916,
    "start_time": "2021-08-01T15:07:45.107Z"
   },
   {
    "duration": 1171,
    "start_time": "2021-08-01T15:08:26.790Z"
   },
   {
    "duration": 956,
    "start_time": "2021-08-01T15:08:46.234Z"
   },
   {
    "duration": 859,
    "start_time": "2021-08-01T15:08:51.731Z"
   },
   {
    "duration": 871,
    "start_time": "2021-08-01T15:08:57.773Z"
   },
   {
    "duration": 888,
    "start_time": "2021-08-01T15:09:07.575Z"
   },
   {
    "duration": 895,
    "start_time": "2021-08-01T15:09:17.842Z"
   },
   {
    "duration": 864,
    "start_time": "2021-08-01T15:09:27.863Z"
   },
   {
    "duration": 921,
    "start_time": "2021-08-01T15:10:01.953Z"
   },
   {
    "duration": 1091,
    "start_time": "2021-08-01T15:10:08.241Z"
   },
   {
    "duration": 106,
    "start_time": "2021-08-01T15:10:19.221Z"
   },
   {
    "duration": 926,
    "start_time": "2021-08-01T15:10:22.713Z"
   },
   {
    "duration": 986,
    "start_time": "2021-08-01T15:10:32.006Z"
   },
   {
    "duration": 1006,
    "start_time": "2021-08-01T15:10:39.139Z"
   },
   {
    "duration": 943,
    "start_time": "2021-08-01T15:10:45.637Z"
   },
   {
    "duration": 1982,
    "start_time": "2021-08-01T15:12:10.756Z"
   },
   {
    "duration": 7,
    "start_time": "2021-08-01T15:14:48.386Z"
   },
   {
    "duration": 12,
    "start_time": "2021-08-01T15:15:18.489Z"
   },
   {
    "duration": 597,
    "start_time": "2021-08-01T15:33:45.636Z"
   },
   {
    "duration": 9,
    "start_time": "2021-08-01T15:35:41.148Z"
   },
   {
    "duration": 9,
    "start_time": "2021-08-01T15:35:50.485Z"
   },
   {
    "duration": 86,
    "start_time": "2021-08-01T15:41:14.177Z"
   },
   {
    "duration": 10,
    "start_time": "2021-08-01T15:41:56.157Z"
   },
   {
    "duration": 13,
    "start_time": "2021-08-01T15:42:07.575Z"
   },
   {
    "duration": 9,
    "start_time": "2021-08-01T15:48:46.825Z"
   },
   {
    "duration": 11,
    "start_time": "2021-08-01T15:50:05.127Z"
   },
   {
    "duration": 1236,
    "start_time": "2021-08-01T16:11:25.695Z"
   },
   {
    "duration": 9,
    "start_time": "2021-08-01T16:18:53.040Z"
   },
   {
    "duration": 8,
    "start_time": "2021-08-01T16:20:21.025Z"
   },
   {
    "duration": 10,
    "start_time": "2021-08-01T16:20:35.252Z"
   },
   {
    "duration": 11,
    "start_time": "2021-08-01T16:21:31.352Z"
   },
   {
    "duration": 11,
    "start_time": "2021-08-01T16:21:46.472Z"
   },
   {
    "duration": 11,
    "start_time": "2021-08-01T16:21:55.497Z"
   },
   {
    "duration": 322,
    "start_time": "2021-08-01T16:26:38.564Z"
   },
   {
    "duration": 23,
    "start_time": "2021-08-01T16:27:02.967Z"
   },
   {
    "duration": 21,
    "start_time": "2021-08-01T16:27:09.173Z"
   },
   {
    "duration": 25,
    "start_time": "2021-08-01T16:27:42.934Z"
   },
   {
    "duration": 30,
    "start_time": "2021-08-01T16:28:27.844Z"
   },
   {
    "duration": 25,
    "start_time": "2021-08-01T16:28:35.902Z"
   },
   {
    "duration": 38,
    "start_time": "2021-08-01T16:29:28.730Z"
   },
   {
    "duration": 35,
    "start_time": "2021-08-01T16:29:56.110Z"
   },
   {
    "duration": 32,
    "start_time": "2021-08-01T16:30:04.552Z"
   },
   {
    "duration": 32,
    "start_time": "2021-08-01T16:30:41.659Z"
   },
   {
    "duration": 27,
    "start_time": "2021-08-01T16:31:52.787Z"
   },
   {
    "duration": 27,
    "start_time": "2021-08-01T16:31:59.895Z"
   },
   {
    "duration": 25,
    "start_time": "2021-08-01T16:32:33.150Z"
   },
   {
    "duration": 25,
    "start_time": "2021-08-01T16:32:51.515Z"
   },
   {
    "duration": 26,
    "start_time": "2021-08-01T16:33:38.318Z"
   },
   {
    "duration": 34,
    "start_time": "2021-08-01T16:33:55.740Z"
   },
   {
    "duration": 24,
    "start_time": "2021-08-01T16:34:19.285Z"
   },
   {
    "duration": 39,
    "start_time": "2021-08-01T16:35:06.977Z"
   },
   {
    "duration": 31,
    "start_time": "2021-08-01T16:35:21.274Z"
   },
   {
    "duration": 24,
    "start_time": "2021-08-01T16:35:32.681Z"
   },
   {
    "duration": 13,
    "start_time": "2021-08-01T16:41:56.486Z"
   },
   {
    "duration": 23,
    "start_time": "2021-08-01T16:42:09.427Z"
   },
   {
    "duration": 263,
    "start_time": "2021-08-01T16:43:04.239Z"
   },
   {
    "duration": 277,
    "start_time": "2021-08-01T16:43:23.838Z"
   },
   {
    "duration": 271,
    "start_time": "2021-08-01T16:43:53.136Z"
   },
   {
    "duration": 5,
    "start_time": "2021-08-01T16:44:30.472Z"
   },
   {
    "duration": 6,
    "start_time": "2021-08-01T16:44:37.248Z"
   },
   {
    "duration": 10,
    "start_time": "2021-08-02T05:57:00.980Z"
   },
   {
    "duration": 9,
    "start_time": "2021-08-02T05:57:57.725Z"
   },
   {
    "duration": 12,
    "start_time": "2021-08-02T05:58:19.996Z"
   },
   {
    "duration": 9,
    "start_time": "2021-08-02T05:58:41.773Z"
   },
   {
    "duration": 9,
    "start_time": "2021-08-02T05:59:25.007Z"
   },
   {
    "duration": 10,
    "start_time": "2021-08-02T05:59:58.915Z"
   },
   {
    "duration": 10,
    "start_time": "2021-08-02T06:00:29.373Z"
   },
   {
    "duration": 10,
    "start_time": "2021-08-02T06:01:29.122Z"
   },
   {
    "duration": 10,
    "start_time": "2021-08-02T06:01:45.646Z"
   },
   {
    "duration": 10,
    "start_time": "2021-08-02T06:02:03.752Z"
   },
   {
    "duration": 11,
    "start_time": "2021-08-02T06:02:58.007Z"
   },
   {
    "duration": 10,
    "start_time": "2021-08-02T06:03:14.210Z"
   },
   {
    "duration": 13,
    "start_time": "2021-08-02T06:03:27.138Z"
   },
   {
    "duration": 11,
    "start_time": "2021-08-02T06:03:51.047Z"
   },
   {
    "duration": 9,
    "start_time": "2021-08-02T06:04:16.666Z"
   },
   {
    "duration": 10,
    "start_time": "2021-08-02T06:04:28.284Z"
   },
   {
    "duration": 9,
    "start_time": "2021-08-02T06:04:50.692Z"
   },
   {
    "duration": 10,
    "start_time": "2021-08-02T06:05:01.963Z"
   },
   {
    "duration": 10,
    "start_time": "2021-08-02T06:05:12.472Z"
   },
   {
    "duration": 1925,
    "start_time": "2021-08-02T06:15:03.004Z"
   },
   {
    "duration": 11,
    "start_time": "2021-08-02T06:15:24.425Z"
   },
   {
    "duration": 2869,
    "start_time": "2021-08-02T06:15:52.661Z"
   },
   {
    "duration": 1927,
    "start_time": "2021-08-02T06:16:01.976Z"
   },
   {
    "duration": 12,
    "start_time": "2021-08-02T06:16:07.662Z"
   },
   {
    "duration": 31,
    "start_time": "2021-08-02T06:25:55.698Z"
   },
   {
    "duration": 35,
    "start_time": "2021-08-02T06:26:07.156Z"
   },
   {
    "duration": 24,
    "start_time": "2021-08-02T06:28:31.414Z"
   },
   {
    "duration": 1858,
    "start_time": "2021-08-02T07:07:47.808Z"
   },
   {
    "duration": 155,
    "start_time": "2021-08-02T07:07:49.669Z"
   },
   {
    "duration": 3314,
    "start_time": "2021-08-02T07:07:49.827Z"
   },
   {
    "duration": 112,
    "start_time": "2021-08-02T07:07:53.144Z"
   },
   {
    "duration": 148,
    "start_time": "2021-08-02T07:07:53.258Z"
   },
   {
    "duration": 1757,
    "start_time": "2021-08-02T07:07:53.409Z"
   },
   {
    "duration": 8,
    "start_time": "2021-08-02T07:07:55.168Z"
   },
   {
    "duration": 19,
    "start_time": "2021-08-02T07:07:55.178Z"
   },
   {
    "duration": 22,
    "start_time": "2021-08-02T07:07:55.201Z"
   },
   {
    "duration": 31,
    "start_time": "2021-08-02T07:07:55.225Z"
   },
   {
    "duration": 19,
    "start_time": "2021-08-02T07:44:53.427Z"
   },
   {
    "duration": 18,
    "start_time": "2021-08-02T07:45:01.817Z"
   },
   {
    "duration": 62,
    "start_time": "2021-08-03T15:16:49.772Z"
   },
   {
    "duration": 82,
    "start_time": "2021-08-04T10:09:28.627Z"
   },
   {
    "duration": 1438,
    "start_time": "2021-08-04T10:13:21.421Z"
   },
   {
    "duration": 222,
    "start_time": "2021-08-04T10:14:17.834Z"
   },
   {
    "duration": 206,
    "start_time": "2021-08-04T10:15:33.894Z"
   },
   {
    "duration": 214,
    "start_time": "2021-08-04T10:15:58.652Z"
   },
   {
    "duration": 209,
    "start_time": "2021-08-04T10:16:09.120Z"
   },
   {
    "duration": 235,
    "start_time": "2021-08-04T10:16:57.068Z"
   },
   {
    "duration": 268,
    "start_time": "2021-08-04T10:17:02.892Z"
   },
   {
    "duration": 210,
    "start_time": "2021-08-04T10:17:06.487Z"
   },
   {
    "duration": 206,
    "start_time": "2021-08-04T10:17:12.251Z"
   },
   {
    "duration": -1090,
    "start_time": "2021-08-04T10:17:47.105Z"
   },
   {
    "duration": 217,
    "start_time": "2021-08-04T13:47:37.836Z"
   },
   {
    "duration": 260,
    "start_time": "2021-08-04T13:49:01.827Z"
   },
   {
    "duration": 228,
    "start_time": "2021-08-04T13:50:36.648Z"
   },
   {
    "duration": 219,
    "start_time": "2021-08-04T13:50:52.939Z"
   },
   {
    "duration": 550,
    "start_time": "2021-08-04T13:51:08.150Z"
   },
   {
    "duration": 222,
    "start_time": "2021-08-04T13:51:16.330Z"
   },
   {
    "duration": 211,
    "start_time": "2021-08-04T14:35:06.633Z"
   },
   {
    "duration": 440,
    "start_time": "2021-08-04T14:39:52.383Z"
   },
   {
    "duration": 213,
    "start_time": "2021-08-04T14:40:26.006Z"
   },
   {
    "duration": 435,
    "start_time": "2021-08-04T14:40:39.548Z"
   },
   {
    "duration": 366,
    "start_time": "2021-08-04T14:41:30.827Z"
   },
   {
    "duration": 667,
    "start_time": "2021-08-04T14:43:57.972Z"
   },
   {
    "duration": 670,
    "start_time": "2021-08-04T14:47:31.424Z"
   },
   {
    "duration": 740,
    "start_time": "2021-08-04T14:47:48.490Z"
   },
   {
    "duration": 659,
    "start_time": "2021-08-04T14:48:04.145Z"
   },
   {
    "duration": 747,
    "start_time": "2021-08-04T14:48:11.516Z"
   },
   {
    "duration": 665,
    "start_time": "2021-08-04T14:49:44.748Z"
   },
   {
    "duration": 661,
    "start_time": "2021-08-04T14:49:53.464Z"
   },
   {
    "duration": 5856,
    "start_time": "2021-08-04T15:06:29.985Z"
   },
   {
    "duration": 425,
    "start_time": "2021-08-04T15:06:36.788Z"
   },
   {
    "duration": 102,
    "start_time": "2021-08-04T15:06:45.848Z"
   },
   {
    "duration": 2008,
    "start_time": "2021-08-04T15:06:47.314Z"
   },
   {
    "duration": 70,
    "start_time": "2021-08-04T15:06:49.728Z"
   },
   {
    "duration": 54,
    "start_time": "2021-08-04T15:29:38.062Z"
   },
   {
    "duration": 50,
    "start_time": "2021-08-04T15:29:56.371Z"
   },
   {
    "duration": 51,
    "start_time": "2021-08-04T15:30:02.807Z"
   },
   {
    "duration": 52,
    "start_time": "2021-08-04T15:30:05.420Z"
   },
   {
    "duration": 967,
    "start_time": "2021-08-04T16:11:48.530Z"
   },
   {
    "duration": 61,
    "start_time": "2021-08-04T16:13:00.124Z"
   },
   {
    "duration": 273,
    "start_time": "2021-08-04T16:13:29.561Z"
   },
   {
    "duration": 52,
    "start_time": "2021-08-04T16:14:19.026Z"
   },
   {
    "duration": 269,
    "start_time": "2021-08-04T16:17:26.544Z"
   },
   {
    "duration": 255,
    "start_time": "2021-08-04T16:17:45.548Z"
   },
   {
    "duration": 286,
    "start_time": "2021-08-04T16:18:12.818Z"
   },
   {
    "duration": 278,
    "start_time": "2021-08-04T16:18:46.938Z"
   },
   {
    "duration": 251,
    "start_time": "2021-08-04T16:18:59.619Z"
   },
   {
    "duration": 49,
    "start_time": "2021-08-04T16:19:10.375Z"
   },
   {
    "duration": 55,
    "start_time": "2021-08-04T16:19:55.742Z"
   },
   {
    "duration": 55,
    "start_time": "2021-08-04T16:20:10.245Z"
   },
   {
    "duration": 63,
    "start_time": "2021-08-04T16:20:18.645Z"
   },
   {
    "duration": 55,
    "start_time": "2021-08-04T16:20:36.220Z"
   },
   {
    "duration": 65,
    "start_time": "2021-08-04T16:20:45.161Z"
   },
   {
    "duration": 251,
    "start_time": "2021-08-04T16:24:41.729Z"
   },
   {
    "duration": 462,
    "start_time": "2021-08-04T16:25:19.745Z"
   },
   {
    "duration": 57,
    "start_time": "2021-08-04T16:25:51.020Z"
   },
   {
    "duration": 51,
    "start_time": "2021-08-04T16:30:06.178Z"
   },
   {
    "duration": 57,
    "start_time": "2021-08-04T16:31:54.980Z"
   },
   {
    "duration": 58,
    "start_time": "2021-08-04T16:32:03.906Z"
   },
   {
    "duration": 58,
    "start_time": "2021-08-04T16:32:13.372Z"
   },
   {
    "duration": 418,
    "start_time": "2021-08-04T16:35:55.408Z"
   },
   {
    "duration": 226,
    "start_time": "2021-08-04T17:00:34.004Z"
   },
   {
    "duration": 244,
    "start_time": "2021-08-04T17:04:06.002Z"
   },
   {
    "duration": 229,
    "start_time": "2021-08-04T17:04:18.847Z"
   },
   {
    "duration": 100,
    "start_time": "2021-08-04T17:04:58.001Z"
   },
   {
    "duration": 102,
    "start_time": "2021-08-04T17:05:04.358Z"
   },
   {
    "duration": 97,
    "start_time": "2021-08-04T17:05:15.597Z"
   },
   {
    "duration": 92,
    "start_time": "2021-08-04T17:05:27.349Z"
   },
   {
    "duration": 88,
    "start_time": "2021-08-04T17:05:41.713Z"
   },
   {
    "duration": 235,
    "start_time": "2021-08-04T17:11:00.704Z"
   },
   {
    "duration": 220,
    "start_time": "2021-08-04T17:12:34.581Z"
   },
   {
    "duration": 243,
    "start_time": "2021-08-04T17:13:14.959Z"
   },
   {
    "duration": 249,
    "start_time": "2021-08-04T17:13:54.495Z"
   },
   {
    "duration": 93,
    "start_time": "2021-08-04T17:15:51.979Z"
   },
   {
    "duration": 244,
    "start_time": "2021-08-04T17:16:02.199Z"
   },
   {
    "duration": 240,
    "start_time": "2021-08-04T17:17:05.347Z"
   },
   {
    "duration": 425,
    "start_time": "2021-08-04T17:17:12.818Z"
   },
   {
    "duration": 223,
    "start_time": "2021-08-04T17:17:19.630Z"
   },
   {
    "duration": 223,
    "start_time": "2021-08-04T17:17:54.764Z"
   },
   {
    "duration": 241,
    "start_time": "2021-08-04T17:18:14.232Z"
   },
   {
    "duration": 224,
    "start_time": "2021-08-04T17:18:49.436Z"
   },
   {
    "duration": 94,
    "start_time": "2021-08-04T17:19:22.921Z"
   },
   {
    "duration": 96,
    "start_time": "2021-08-04T17:23:34.926Z"
   },
   {
    "duration": 109,
    "start_time": "2021-08-04T17:23:45.471Z"
   },
   {
    "duration": 6881,
    "start_time": "2021-08-04T17:31:13.600Z"
   },
   {
    "duration": 481,
    "start_time": "2021-08-04T17:37:47.693Z"
   },
   {
    "duration": 1428,
    "start_time": "2021-08-04T17:39:43.070Z"
   },
   {
    "duration": 702,
    "start_time": "2021-08-04T17:39:46.839Z"
   },
   {
    "duration": 114,
    "start_time": "2021-08-04T17:39:49.674Z"
   },
   {
    "duration": 2053,
    "start_time": "2021-08-04T17:39:51.055Z"
   },
   {
    "duration": 70,
    "start_time": "2021-08-04T17:39:53.110Z"
   },
   {
    "duration": 251,
    "start_time": "2021-08-04T17:40:00.505Z"
   },
   {
    "duration": 7197,
    "start_time": "2021-08-04T17:40:15.372Z"
   },
   {
    "duration": 242,
    "start_time": "2021-08-04T17:40:48.613Z"
   },
   {
    "duration": 6470,
    "start_time": "2021-08-04T17:41:18.855Z"
   },
   {
    "duration": 479,
    "start_time": "2021-08-04T17:41:28.642Z"
   },
   {
    "duration": 6310,
    "start_time": "2021-08-04T17:42:13.287Z"
   },
   {
    "duration": 477,
    "start_time": "2021-08-04T17:42:21.601Z"
   },
   {
    "duration": 1477,
    "start_time": "2021-08-04T17:42:36.144Z"
   },
   {
    "duration": 693,
    "start_time": "2021-08-04T17:42:40.556Z"
   },
   {
    "duration": 111,
    "start_time": "2021-08-04T17:42:44.096Z"
   },
   {
    "duration": 2003,
    "start_time": "2021-08-04T17:42:45.967Z"
   },
   {
    "duration": 75,
    "start_time": "2021-08-04T17:42:48.463Z"
   },
   {
    "duration": 280,
    "start_time": "2021-08-04T17:43:01.489Z"
   },
   {
    "duration": 1104,
    "start_time": "2021-08-04T17:46:01.010Z"
   },
   {
    "duration": 6,
    "start_time": "2021-08-04T17:48:18.443Z"
   },
   {
    "duration": 10,
    "start_time": "2021-08-04T17:48:24.601Z"
   },
   {
    "duration": 8,
    "start_time": "2021-08-04T17:50:35.464Z"
   },
   {
    "duration": 7,
    "start_time": "2021-08-04T17:50:41.539Z"
   },
   {
    "duration": 9,
    "start_time": "2021-08-04T17:50:50.566Z"
   },
   {
    "duration": 13,
    "start_time": "2021-08-04T17:52:25.009Z"
   },
   {
    "duration": 83,
    "start_time": "2021-08-04T17:54:35.107Z"
   },
   {
    "duration": 11,
    "start_time": "2021-08-04T17:55:04.077Z"
   },
   {
    "duration": 73,
    "start_time": "2021-08-04T17:56:11.548Z"
   },
   {
    "duration": 73,
    "start_time": "2021-08-04T17:56:14.709Z"
   },
   {
    "duration": 9,
    "start_time": "2021-08-04T17:56:32.608Z"
   },
   {
    "duration": 632,
    "start_time": "2021-08-04T17:56:48.202Z"
   },
   {
    "duration": 1533,
    "start_time": "2021-08-04T17:56:59.357Z"
   },
   {
    "duration": 679,
    "start_time": "2021-08-04T17:57:03.711Z"
   },
   {
    "duration": 107,
    "start_time": "2021-08-04T17:57:07.544Z"
   },
   {
    "duration": 1894,
    "start_time": "2021-08-04T17:57:12.551Z"
   },
   {
    "duration": 71,
    "start_time": "2021-08-04T17:57:30.119Z"
   },
   {
    "duration": 66,
    "start_time": "2021-08-04T17:59:18.677Z"
   },
   {
    "duration": 62,
    "start_time": "2021-08-04T17:59:34.034Z"
   },
   {
    "duration": 64,
    "start_time": "2021-08-04T17:59:36.463Z"
   },
   {
    "duration": 1390,
    "start_time": "2021-08-04T18:00:49.401Z"
   },
   {
    "duration": 723,
    "start_time": "2021-08-04T18:01:02.118Z"
   },
   {
    "duration": 115,
    "start_time": "2021-08-04T18:01:05.926Z"
   },
   {
    "duration": 2060,
    "start_time": "2021-08-04T18:01:07.899Z"
   },
   {
    "duration": 2047,
    "start_time": "2021-08-04T18:01:19.680Z"
   },
   {
    "duration": 1980,
    "start_time": "2021-08-04T18:01:27.216Z"
   },
   {
    "duration": 76,
    "start_time": "2021-08-04T18:02:13.453Z"
   },
   {
    "duration": 433,
    "start_time": "2021-08-04T18:02:19.117Z"
   },
   {
    "duration": 55,
    "start_time": "2021-08-04T18:02:26.335Z"
   },
   {
    "duration": 58,
    "start_time": "2021-08-04T18:02:37.554Z"
   },
   {
    "duration": 55,
    "start_time": "2021-08-04T18:04:08.289Z"
   },
   {
    "duration": 60,
    "start_time": "2021-08-04T18:04:14.820Z"
   },
   {
    "duration": 66,
    "start_time": "2021-08-04T18:04:28.404Z"
   },
   {
    "duration": 235,
    "start_time": "2021-08-04T18:04:47.953Z"
   },
   {
    "duration": 1067,
    "start_time": "2021-08-04T18:05:27.444Z"
   },
   {
    "duration": 1112,
    "start_time": "2021-08-04T18:06:20.851Z"
   },
   {
    "duration": 1079,
    "start_time": "2021-08-04T18:07:06.983Z"
   },
   {
    "duration": 1170,
    "start_time": "2021-08-04T18:07:21.187Z"
   },
   {
    "duration": 1057,
    "start_time": "2021-08-04T18:07:28.014Z"
   },
   {
    "duration": 1159,
    "start_time": "2021-08-04T18:07:36.515Z"
   },
   {
    "duration": 1213,
    "start_time": "2021-08-04T18:07:41.224Z"
   },
   {
    "duration": 1075,
    "start_time": "2021-08-04T18:07:47.151Z"
   },
   {
    "duration": 1072,
    "start_time": "2021-08-04T18:07:54.144Z"
   },
   {
    "duration": 1306,
    "start_time": "2021-08-04T18:08:00.034Z"
   },
   {
    "duration": 1057,
    "start_time": "2021-08-04T18:08:04.962Z"
   },
   {
    "duration": 1050,
    "start_time": "2021-08-04T18:08:17.545Z"
   },
   {
    "duration": 1161,
    "start_time": "2021-08-04T18:08:28.834Z"
   },
   {
    "duration": 1112,
    "start_time": "2021-08-04T18:08:37.374Z"
   },
   {
    "duration": 1165,
    "start_time": "2021-08-04T18:08:48.601Z"
   },
   {
    "duration": 1081,
    "start_time": "2021-08-04T18:08:55.335Z"
   },
   {
    "duration": 10,
    "start_time": "2021-08-04T18:09:17.015Z"
   },
   {
    "duration": 82,
    "start_time": "2021-08-04T18:11:10.474Z"
   },
   {
    "duration": 17,
    "start_time": "2021-08-04T18:11:22.084Z"
   },
   {
    "duration": 10,
    "start_time": "2021-08-04T18:16:10.827Z"
   },
   {
    "duration": 505,
    "start_time": "2021-08-04T18:19:20.881Z"
   },
   {
    "duration": 503,
    "start_time": "2021-08-04T18:19:42.906Z"
   },
   {
    "duration": 7,
    "start_time": "2021-08-04T18:20:07.967Z"
   },
   {
    "duration": 12,
    "start_time": "2021-08-04T18:20:25.846Z"
   },
   {
    "duration": 1981,
    "start_time": "2021-08-05T14:24:38.749Z"
   },
   {
    "duration": 1226,
    "start_time": "2021-08-05T14:24:43.584Z"
   },
   {
    "duration": 225,
    "start_time": "2021-08-05T14:24:47.090Z"
   },
   {
    "duration": 5557,
    "start_time": "2021-08-05T14:24:48.502Z"
   },
   {
    "duration": 159,
    "start_time": "2021-08-05T14:24:54.062Z"
   },
   {
    "duration": 428,
    "start_time": "2021-08-05T14:25:06.301Z"
   },
   {
    "duration": 1891,
    "start_time": "2021-08-05T14:25:10.148Z"
   },
   {
    "duration": 16,
    "start_time": "2021-08-05T14:25:12.956Z"
   },
   {
    "duration": 15,
    "start_time": "2021-08-05T14:25:17.134Z"
   },
   {
    "duration": 10,
    "start_time": "2021-08-05T14:25:25.703Z"
   },
   {
    "duration": 18,
    "start_time": "2021-08-05T14:25:30.698Z"
   },
   {
    "duration": 439,
    "start_time": "2021-08-05T14:26:02.131Z"
   },
   {
    "duration": 455,
    "start_time": "2021-08-05T14:26:12.351Z"
   },
   {
    "duration": 302,
    "start_time": "2021-08-05T14:26:22.265Z"
   },
   {
    "duration": 277,
    "start_time": "2021-08-05T14:26:25.771Z"
   },
   {
    "duration": 300,
    "start_time": "2021-08-05T14:26:50.136Z"
   },
   {
    "duration": 20,
    "start_time": "2021-08-05T14:27:07.312Z"
   },
   {
    "duration": 35,
    "start_time": "2021-08-05T14:29:43.754Z"
   },
   {
    "duration": 19,
    "start_time": "2021-08-05T14:29:54.741Z"
   },
   {
    "duration": 20,
    "start_time": "2021-08-05T14:30:41.650Z"
   },
   {
    "duration": 11,
    "start_time": "2021-08-05T14:30:51.081Z"
   },
   {
    "duration": 26,
    "start_time": "2021-08-05T14:30:54.461Z"
   },
   {
    "duration": 2034,
    "start_time": "2021-08-06T08:19:18.448Z"
   },
   {
    "duration": 1153,
    "start_time": "2021-08-06T08:19:22.279Z"
   },
   {
    "duration": 153,
    "start_time": "2021-08-06T08:19:25.240Z"
   },
   {
    "duration": 3613,
    "start_time": "2021-08-06T08:19:26.489Z"
   },
   {
    "duration": 112,
    "start_time": "2021-08-06T08:19:30.105Z"
   },
   {
    "duration": 412,
    "start_time": "2021-08-06T08:19:33.150Z"
   },
   {
    "duration": 1947,
    "start_time": "2021-08-06T08:19:36.571Z"
   },
   {
    "duration": 15,
    "start_time": "2021-08-06T08:19:38.520Z"
   },
   {
    "duration": 15,
    "start_time": "2021-08-06T08:19:40.045Z"
   },
   {
    "duration": 13,
    "start_time": "2021-08-06T08:19:42.671Z"
   },
   {
    "duration": 10,
    "start_time": "2021-08-06T08:19:52.620Z"
   },
   {
    "duration": 13,
    "start_time": "2021-08-06T08:20:01.098Z"
   },
   {
    "duration": 14,
    "start_time": "2021-08-06T08:20:13.256Z"
   },
   {
    "duration": 13,
    "start_time": "2021-08-06T08:20:37.039Z"
   },
   {
    "duration": 13,
    "start_time": "2021-08-06T08:20:43.788Z"
   },
   {
    "duration": 19,
    "start_time": "2021-08-06T08:20:50.004Z"
   },
   {
    "duration": 20,
    "start_time": "2021-08-06T08:21:08.648Z"
   },
   {
    "duration": 20,
    "start_time": "2021-08-06T08:21:21.406Z"
   },
   {
    "duration": 20,
    "start_time": "2021-08-06T08:21:36.009Z"
   },
   {
    "duration": 9,
    "start_time": "2021-08-06T12:36:04.909Z"
   },
   {
    "duration": 11,
    "start_time": "2021-08-06T12:36:23.296Z"
   },
   {
    "duration": 310,
    "start_time": "2021-08-06T12:37:24.298Z"
   },
   {
    "duration": 407,
    "start_time": "2021-08-06T12:54:24.083Z"
   },
   {
    "duration": 550,
    "start_time": "2021-08-06T12:55:46.600Z"
   },
   {
    "duration": 476,
    "start_time": "2021-08-06T12:56:00.213Z"
   },
   {
    "duration": 358,
    "start_time": "2021-08-06T12:56:10.896Z"
   },
   {
    "duration": 356,
    "start_time": "2021-08-06T12:56:16.161Z"
   },
   {
    "duration": 314,
    "start_time": "2021-08-06T12:56:26.584Z"
   },
   {
    "duration": 337,
    "start_time": "2021-08-06T13:04:39.000Z"
   },
   {
    "duration": 317,
    "start_time": "2021-08-06T13:05:22.487Z"
   },
   {
    "duration": 507,
    "start_time": "2021-08-06T13:05:36.790Z"
   },
   {
    "duration": 325,
    "start_time": "2021-08-06T13:05:41.570Z"
   },
   {
    "duration": 318,
    "start_time": "2021-08-06T13:05:46.382Z"
   },
   {
    "duration": 378,
    "start_time": "2021-08-06T13:06:37.773Z"
   },
   {
    "duration": 332,
    "start_time": "2021-08-06T13:06:55.355Z"
   },
   {
    "duration": 326,
    "start_time": "2021-08-06T13:07:00.100Z"
   },
   {
    "duration": 323,
    "start_time": "2021-08-06T13:07:05.834Z"
   },
   {
    "duration": 314,
    "start_time": "2021-08-06T13:07:20.930Z"
   },
   {
    "duration": 396,
    "start_time": "2021-08-06T13:07:33.832Z"
   },
   {
    "duration": 314,
    "start_time": "2021-08-06T13:07:38.320Z"
   },
   {
    "duration": 316,
    "start_time": "2021-08-06T13:07:42.803Z"
   },
   {
    "duration": 311,
    "start_time": "2021-08-06T13:07:47.042Z"
   },
   {
    "duration": 335,
    "start_time": "2021-08-06T13:07:51.147Z"
   },
   {
    "duration": 335,
    "start_time": "2021-08-06T13:08:33.989Z"
   },
   {
    "duration": 349,
    "start_time": "2021-08-06T13:08:40.631Z"
   },
   {
    "duration": 355,
    "start_time": "2021-08-06T13:08:59.937Z"
   },
   {
    "duration": 333,
    "start_time": "2021-08-06T13:09:15.203Z"
   },
   {
    "duration": 342,
    "start_time": "2021-08-06T13:23:54.581Z"
   },
   {
    "duration": 90,
    "start_time": "2021-08-06T13:26:19.448Z"
   },
   {
    "duration": 12,
    "start_time": "2021-08-06T13:36:24.562Z"
   },
   {
    "duration": 13,
    "start_time": "2021-08-06T13:36:35.224Z"
   },
   {
    "duration": 13,
    "start_time": "2021-08-06T13:37:05.796Z"
   },
   {
    "duration": 1938,
    "start_time": "2021-08-07T12:34:37.301Z"
   },
   {
    "duration": 1216,
    "start_time": "2021-08-07T12:34:39.242Z"
   },
   {
    "duration": 179,
    "start_time": "2021-08-07T12:34:40.462Z"
   },
   {
    "duration": 3670,
    "start_time": "2021-08-07T12:34:40.643Z"
   },
   {
    "duration": 117,
    "start_time": "2021-08-07T12:34:44.316Z"
   },
   {
    "duration": 413,
    "start_time": "2021-08-07T12:34:44.436Z"
   },
   {
    "duration": 2027,
    "start_time": "2021-08-07T12:34:44.851Z"
   },
   {
    "duration": 19,
    "start_time": "2021-08-07T12:34:46.883Z"
   },
   {
    "duration": 14,
    "start_time": "2021-08-07T12:34:46.905Z"
   },
   {
    "duration": 15,
    "start_time": "2021-08-07T12:34:46.921Z"
   },
   {
    "duration": 65,
    "start_time": "2021-08-07T12:34:46.938Z"
   },
   {
    "duration": 353,
    "start_time": "2021-08-07T12:34:47.006Z"
   }
  ],
  "kernelspec": {
   "display_name": "Python 3 (ipykernel)",
   "language": "python",
   "name": "python3"
  },
  "language_info": {
   "codemirror_mode": {
    "name": "ipython",
    "version": 3
   },
   "file_extension": ".py",
   "mimetype": "text/x-python",
   "name": "python",
   "nbconvert_exporter": "python",
   "pygments_lexer": "ipython3",
   "version": "3.9.7"
  },
  "toc": {
   "base_numbering": 1,
   "nav_menu": {},
   "number_sections": true,
   "sideBar": true,
   "skip_h1_title": true,
   "title_cell": "Table of Contents",
   "title_sidebar": "Contents",
   "toc_cell": false,
   "toc_position": {},
   "toc_section_display": true,
   "toc_window_display": false
  }
 },
 "nbformat": 4,
 "nbformat_minor": 2
}
