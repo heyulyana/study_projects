{
 "cells": [
  {
   "cell_type": "markdown",
   "metadata": {},
   "source": [
    "# Восстановление золота из руды"
   ]
  },
  {
   "cell_type": "markdown",
   "metadata": {},
   "source": [
    "Нужно подготовить прототип модели машинного обучения для компании, которая разрабатывает решения для эффективной работы промышленных предприятий. Модель должна предсказать коэффициент восстановления золота из золотосодержащей руды.Модель поможет оптимизировать производство, чтобы не запускать предприятие с убыточными характеристиками.\n",
    "\n"
   ]
  },
  {
   "cell_type": "markdown",
   "metadata": {},
   "source": [
    "## Подготовка данных"
   ]
  },
  {
   "cell_type": "code",
   "execution_count": 2,
   "metadata": {},
   "outputs": [],
   "source": [
    "import pandas as pd\n",
    "from IPython.display import display\n",
    "from sklearn.metrics import mean_squared_error\n",
    "from sklearn.metrics import mean_absolute_error\n",
    "from sklearn.model_selection import train_test_split \n",
    "from sklearn.tree import DecisionTreeRegressor\n",
    "from sklearn.metrics import accuracy_score\n",
    "from sklearn.linear_model import LogisticRegression\n",
    "from sklearn.model_selection import GridSearchCV\n",
    "from sklearn.linear_model import LinearRegression\n",
    "from sklearn.ensemble import RandomForestRegressor\n",
    "from sklearn.model_selection import cross_val_score\n",
    "from sklearn.metrics import make_scorer\n",
    "from sklearn.preprocessing import OrdinalEncoder\n",
    "import numpy as np\n",
    "\n",
    "import warnings\n",
    "warnings.filterwarnings('ignore')"
   ]
  },
  {
   "cell_type": "code",
   "execution_count": 3,
   "metadata": {},
   "outputs": [],
   "source": [
    "train = pd.read_csv('/datasets/gold_recovery_train_new.csv')\n",
    "test = pd.read_csv('/datasets/gold_recovery_test_new.csv')\n",
    "full = pd.read_csv('/datasets/gold_recovery_full_new.csv')"
   ]
  },
  {
   "cell_type": "code",
   "execution_count": 3,
   "metadata": {},
   "outputs": [
    {
     "data": {
      "text/html": [
       "<div>\n",
       "<style scoped>\n",
       "    .dataframe tbody tr th:only-of-type {\n",
       "        vertical-align: middle;\n",
       "    }\n",
       "\n",
       "    .dataframe tbody tr th {\n",
       "        vertical-align: top;\n",
       "    }\n",
       "\n",
       "    .dataframe thead th {\n",
       "        text-align: right;\n",
       "    }\n",
       "</style>\n",
       "<table border=\"1\" class=\"dataframe\">\n",
       "  <thead>\n",
       "    <tr style=\"text-align: right;\">\n",
       "      <th></th>\n",
       "      <th>date</th>\n",
       "      <th>final.output.concentrate_ag</th>\n",
       "      <th>final.output.concentrate_pb</th>\n",
       "      <th>final.output.concentrate_sol</th>\n",
       "      <th>final.output.concentrate_au</th>\n",
       "      <th>final.output.recovery</th>\n",
       "      <th>final.output.tail_ag</th>\n",
       "      <th>final.output.tail_pb</th>\n",
       "      <th>final.output.tail_sol</th>\n",
       "      <th>final.output.tail_au</th>\n",
       "      <th>...</th>\n",
       "      <th>secondary_cleaner.state.floatbank4_a_air</th>\n",
       "      <th>secondary_cleaner.state.floatbank4_a_level</th>\n",
       "      <th>secondary_cleaner.state.floatbank4_b_air</th>\n",
       "      <th>secondary_cleaner.state.floatbank4_b_level</th>\n",
       "      <th>secondary_cleaner.state.floatbank5_a_air</th>\n",
       "      <th>secondary_cleaner.state.floatbank5_a_level</th>\n",
       "      <th>secondary_cleaner.state.floatbank5_b_air</th>\n",
       "      <th>secondary_cleaner.state.floatbank5_b_level</th>\n",
       "      <th>secondary_cleaner.state.floatbank6_a_air</th>\n",
       "      <th>secondary_cleaner.state.floatbank6_a_level</th>\n",
       "    </tr>\n",
       "  </thead>\n",
       "  <tbody>\n",
       "    <tr>\n",
       "      <td>0</td>\n",
       "      <td>2016-01-15 00:00:00</td>\n",
       "      <td>6.055403</td>\n",
       "      <td>9.889648</td>\n",
       "      <td>5.507324</td>\n",
       "      <td>42.192020</td>\n",
       "      <td>70.541216</td>\n",
       "      <td>10.411962</td>\n",
       "      <td>0.895447</td>\n",
       "      <td>16.904297</td>\n",
       "      <td>2.143149</td>\n",
       "      <td>...</td>\n",
       "      <td>14.016835</td>\n",
       "      <td>-502.488007</td>\n",
       "      <td>12.099931</td>\n",
       "      <td>-504.715942</td>\n",
       "      <td>9.925633</td>\n",
       "      <td>-498.310211</td>\n",
       "      <td>8.079666</td>\n",
       "      <td>-500.470978</td>\n",
       "      <td>14.151341</td>\n",
       "      <td>-605.841980</td>\n",
       "    </tr>\n",
       "    <tr>\n",
       "      <td>1</td>\n",
       "      <td>2016-01-15 01:00:00</td>\n",
       "      <td>6.029369</td>\n",
       "      <td>9.968944</td>\n",
       "      <td>5.257781</td>\n",
       "      <td>42.701629</td>\n",
       "      <td>69.266198</td>\n",
       "      <td>10.462676</td>\n",
       "      <td>0.927452</td>\n",
       "      <td>16.634514</td>\n",
       "      <td>2.224930</td>\n",
       "      <td>...</td>\n",
       "      <td>13.992281</td>\n",
       "      <td>-505.503262</td>\n",
       "      <td>11.950531</td>\n",
       "      <td>-501.331529</td>\n",
       "      <td>10.039245</td>\n",
       "      <td>-500.169983</td>\n",
       "      <td>7.984757</td>\n",
       "      <td>-500.582168</td>\n",
       "      <td>13.998353</td>\n",
       "      <td>-599.787184</td>\n",
       "    </tr>\n",
       "    <tr>\n",
       "      <td>2</td>\n",
       "      <td>2016-01-15 02:00:00</td>\n",
       "      <td>6.055926</td>\n",
       "      <td>10.213995</td>\n",
       "      <td>5.383759</td>\n",
       "      <td>42.657501</td>\n",
       "      <td>68.116445</td>\n",
       "      <td>10.507046</td>\n",
       "      <td>0.953716</td>\n",
       "      <td>16.208849</td>\n",
       "      <td>2.257889</td>\n",
       "      <td>...</td>\n",
       "      <td>14.015015</td>\n",
       "      <td>-502.520901</td>\n",
       "      <td>11.912783</td>\n",
       "      <td>-501.133383</td>\n",
       "      <td>10.070913</td>\n",
       "      <td>-500.129135</td>\n",
       "      <td>8.013877</td>\n",
       "      <td>-500.517572</td>\n",
       "      <td>14.028663</td>\n",
       "      <td>-601.427363</td>\n",
       "    </tr>\n",
       "    <tr>\n",
       "      <td>3</td>\n",
       "      <td>2016-01-15 03:00:00</td>\n",
       "      <td>6.047977</td>\n",
       "      <td>9.977019</td>\n",
       "      <td>4.858634</td>\n",
       "      <td>42.689819</td>\n",
       "      <td>68.347543</td>\n",
       "      <td>10.422762</td>\n",
       "      <td>0.883763</td>\n",
       "      <td>16.532835</td>\n",
       "      <td>2.146849</td>\n",
       "      <td>...</td>\n",
       "      <td>14.036510</td>\n",
       "      <td>-500.857308</td>\n",
       "      <td>11.999550</td>\n",
       "      <td>-501.193686</td>\n",
       "      <td>9.970366</td>\n",
       "      <td>-499.201640</td>\n",
       "      <td>7.977324</td>\n",
       "      <td>-500.255908</td>\n",
       "      <td>14.005551</td>\n",
       "      <td>-599.996129</td>\n",
       "    </tr>\n",
       "    <tr>\n",
       "      <td>4</td>\n",
       "      <td>2016-01-15 04:00:00</td>\n",
       "      <td>6.148599</td>\n",
       "      <td>10.142511</td>\n",
       "      <td>4.939416</td>\n",
       "      <td>42.774141</td>\n",
       "      <td>66.927016</td>\n",
       "      <td>10.360302</td>\n",
       "      <td>0.792826</td>\n",
       "      <td>16.525686</td>\n",
       "      <td>2.055292</td>\n",
       "      <td>...</td>\n",
       "      <td>14.027298</td>\n",
       "      <td>-499.838632</td>\n",
       "      <td>11.953070</td>\n",
       "      <td>-501.053894</td>\n",
       "      <td>9.925709</td>\n",
       "      <td>-501.686727</td>\n",
       "      <td>7.894242</td>\n",
       "      <td>-500.356035</td>\n",
       "      <td>13.996647</td>\n",
       "      <td>-601.496691</td>\n",
       "    </tr>\n",
       "    <tr>\n",
       "      <td>...</td>\n",
       "      <td>...</td>\n",
       "      <td>...</td>\n",
       "      <td>...</td>\n",
       "      <td>...</td>\n",
       "      <td>...</td>\n",
       "      <td>...</td>\n",
       "      <td>...</td>\n",
       "      <td>...</td>\n",
       "      <td>...</td>\n",
       "      <td>...</td>\n",
       "      <td>...</td>\n",
       "      <td>...</td>\n",
       "      <td>...</td>\n",
       "      <td>...</td>\n",
       "      <td>...</td>\n",
       "      <td>...</td>\n",
       "      <td>...</td>\n",
       "      <td>...</td>\n",
       "      <td>...</td>\n",
       "      <td>...</td>\n",
       "      <td>...</td>\n",
       "    </tr>\n",
       "    <tr>\n",
       "      <td>14144</td>\n",
       "      <td>2018-08-18 06:59:59</td>\n",
       "      <td>3.224920</td>\n",
       "      <td>11.356233</td>\n",
       "      <td>6.803482</td>\n",
       "      <td>46.713954</td>\n",
       "      <td>73.755150</td>\n",
       "      <td>8.769645</td>\n",
       "      <td>3.141541</td>\n",
       "      <td>10.403181</td>\n",
       "      <td>1.529220</td>\n",
       "      <td>...</td>\n",
       "      <td>23.031497</td>\n",
       "      <td>-501.167942</td>\n",
       "      <td>20.007571</td>\n",
       "      <td>-499.740028</td>\n",
       "      <td>18.006038</td>\n",
       "      <td>-499.834374</td>\n",
       "      <td>13.001114</td>\n",
       "      <td>-500.155694</td>\n",
       "      <td>20.007840</td>\n",
       "      <td>-501.296428</td>\n",
       "    </tr>\n",
       "    <tr>\n",
       "      <td>14145</td>\n",
       "      <td>2018-08-18 07:59:59</td>\n",
       "      <td>3.195978</td>\n",
       "      <td>11.349355</td>\n",
       "      <td>6.862249</td>\n",
       "      <td>46.866780</td>\n",
       "      <td>69.049291</td>\n",
       "      <td>8.897321</td>\n",
       "      <td>3.130493</td>\n",
       "      <td>10.549470</td>\n",
       "      <td>1.612542</td>\n",
       "      <td>...</td>\n",
       "      <td>22.960095</td>\n",
       "      <td>-501.612783</td>\n",
       "      <td>20.035660</td>\n",
       "      <td>-500.251357</td>\n",
       "      <td>17.998535</td>\n",
       "      <td>-500.395178</td>\n",
       "      <td>12.954048</td>\n",
       "      <td>-499.895163</td>\n",
       "      <td>19.968498</td>\n",
       "      <td>-501.041608</td>\n",
       "    </tr>\n",
       "    <tr>\n",
       "      <td>14146</td>\n",
       "      <td>2018-08-18 08:59:59</td>\n",
       "      <td>3.109998</td>\n",
       "      <td>11.434366</td>\n",
       "      <td>6.886013</td>\n",
       "      <td>46.795691</td>\n",
       "      <td>67.002189</td>\n",
       "      <td>8.529606</td>\n",
       "      <td>2.911418</td>\n",
       "      <td>11.115147</td>\n",
       "      <td>1.596616</td>\n",
       "      <td>...</td>\n",
       "      <td>23.015718</td>\n",
       "      <td>-501.711599</td>\n",
       "      <td>19.951231</td>\n",
       "      <td>-499.857027</td>\n",
       "      <td>18.019543</td>\n",
       "      <td>-500.451156</td>\n",
       "      <td>13.023431</td>\n",
       "      <td>-499.914391</td>\n",
       "      <td>19.990885</td>\n",
       "      <td>-501.518452</td>\n",
       "    </tr>\n",
       "    <tr>\n",
       "      <td>14147</td>\n",
       "      <td>2018-08-18 09:59:59</td>\n",
       "      <td>3.367241</td>\n",
       "      <td>11.625587</td>\n",
       "      <td>6.799433</td>\n",
       "      <td>46.408188</td>\n",
       "      <td>65.523246</td>\n",
       "      <td>8.777171</td>\n",
       "      <td>2.819214</td>\n",
       "      <td>10.463847</td>\n",
       "      <td>1.602879</td>\n",
       "      <td>...</td>\n",
       "      <td>23.024963</td>\n",
       "      <td>-501.153409</td>\n",
       "      <td>20.054122</td>\n",
       "      <td>-500.314711</td>\n",
       "      <td>17.979515</td>\n",
       "      <td>-499.272871</td>\n",
       "      <td>12.992404</td>\n",
       "      <td>-499.976268</td>\n",
       "      <td>20.013986</td>\n",
       "      <td>-500.625471</td>\n",
       "    </tr>\n",
       "    <tr>\n",
       "      <td>14148</td>\n",
       "      <td>2018-08-18 10:59:59</td>\n",
       "      <td>3.598375</td>\n",
       "      <td>11.737832</td>\n",
       "      <td>6.717509</td>\n",
       "      <td>46.299438</td>\n",
       "      <td>70.281454</td>\n",
       "      <td>8.406690</td>\n",
       "      <td>2.517518</td>\n",
       "      <td>10.652193</td>\n",
       "      <td>1.389434</td>\n",
       "      <td>...</td>\n",
       "      <td>23.018622</td>\n",
       "      <td>-500.492702</td>\n",
       "      <td>20.020205</td>\n",
       "      <td>-500.220296</td>\n",
       "      <td>17.963512</td>\n",
       "      <td>-499.939490</td>\n",
       "      <td>12.990306</td>\n",
       "      <td>-500.080993</td>\n",
       "      <td>19.990336</td>\n",
       "      <td>-499.191575</td>\n",
       "    </tr>\n",
       "  </tbody>\n",
       "</table>\n",
       "<p>14149 rows × 87 columns</p>\n",
       "</div>"
      ],
      "text/plain": [
       "                      date  final.output.concentrate_ag  \\\n",
       "0      2016-01-15 00:00:00                     6.055403   \n",
       "1      2016-01-15 01:00:00                     6.029369   \n",
       "2      2016-01-15 02:00:00                     6.055926   \n",
       "3      2016-01-15 03:00:00                     6.047977   \n",
       "4      2016-01-15 04:00:00                     6.148599   \n",
       "...                    ...                          ...   \n",
       "14144  2018-08-18 06:59:59                     3.224920   \n",
       "14145  2018-08-18 07:59:59                     3.195978   \n",
       "14146  2018-08-18 08:59:59                     3.109998   \n",
       "14147  2018-08-18 09:59:59                     3.367241   \n",
       "14148  2018-08-18 10:59:59                     3.598375   \n",
       "\n",
       "       final.output.concentrate_pb  final.output.concentrate_sol  \\\n",
       "0                         9.889648                      5.507324   \n",
       "1                         9.968944                      5.257781   \n",
       "2                        10.213995                      5.383759   \n",
       "3                         9.977019                      4.858634   \n",
       "4                        10.142511                      4.939416   \n",
       "...                            ...                           ...   \n",
       "14144                    11.356233                      6.803482   \n",
       "14145                    11.349355                      6.862249   \n",
       "14146                    11.434366                      6.886013   \n",
       "14147                    11.625587                      6.799433   \n",
       "14148                    11.737832                      6.717509   \n",
       "\n",
       "       final.output.concentrate_au  final.output.recovery  \\\n",
       "0                        42.192020              70.541216   \n",
       "1                        42.701629              69.266198   \n",
       "2                        42.657501              68.116445   \n",
       "3                        42.689819              68.347543   \n",
       "4                        42.774141              66.927016   \n",
       "...                            ...                    ...   \n",
       "14144                    46.713954              73.755150   \n",
       "14145                    46.866780              69.049291   \n",
       "14146                    46.795691              67.002189   \n",
       "14147                    46.408188              65.523246   \n",
       "14148                    46.299438              70.281454   \n",
       "\n",
       "       final.output.tail_ag  final.output.tail_pb  final.output.tail_sol  \\\n",
       "0                 10.411962              0.895447              16.904297   \n",
       "1                 10.462676              0.927452              16.634514   \n",
       "2                 10.507046              0.953716              16.208849   \n",
       "3                 10.422762              0.883763              16.532835   \n",
       "4                 10.360302              0.792826              16.525686   \n",
       "...                     ...                   ...                    ...   \n",
       "14144              8.769645              3.141541              10.403181   \n",
       "14145              8.897321              3.130493              10.549470   \n",
       "14146              8.529606              2.911418              11.115147   \n",
       "14147              8.777171              2.819214              10.463847   \n",
       "14148              8.406690              2.517518              10.652193   \n",
       "\n",
       "       final.output.tail_au  ...  secondary_cleaner.state.floatbank4_a_air  \\\n",
       "0                  2.143149  ...                                 14.016835   \n",
       "1                  2.224930  ...                                 13.992281   \n",
       "2                  2.257889  ...                                 14.015015   \n",
       "3                  2.146849  ...                                 14.036510   \n",
       "4                  2.055292  ...                                 14.027298   \n",
       "...                     ...  ...                                       ...   \n",
       "14144              1.529220  ...                                 23.031497   \n",
       "14145              1.612542  ...                                 22.960095   \n",
       "14146              1.596616  ...                                 23.015718   \n",
       "14147              1.602879  ...                                 23.024963   \n",
       "14148              1.389434  ...                                 23.018622   \n",
       "\n",
       "       secondary_cleaner.state.floatbank4_a_level  \\\n",
       "0                                     -502.488007   \n",
       "1                                     -505.503262   \n",
       "2                                     -502.520901   \n",
       "3                                     -500.857308   \n",
       "4                                     -499.838632   \n",
       "...                                           ...   \n",
       "14144                                 -501.167942   \n",
       "14145                                 -501.612783   \n",
       "14146                                 -501.711599   \n",
       "14147                                 -501.153409   \n",
       "14148                                 -500.492702   \n",
       "\n",
       "       secondary_cleaner.state.floatbank4_b_air  \\\n",
       "0                                     12.099931   \n",
       "1                                     11.950531   \n",
       "2                                     11.912783   \n",
       "3                                     11.999550   \n",
       "4                                     11.953070   \n",
       "...                                         ...   \n",
       "14144                                 20.007571   \n",
       "14145                                 20.035660   \n",
       "14146                                 19.951231   \n",
       "14147                                 20.054122   \n",
       "14148                                 20.020205   \n",
       "\n",
       "       secondary_cleaner.state.floatbank4_b_level  \\\n",
       "0                                     -504.715942   \n",
       "1                                     -501.331529   \n",
       "2                                     -501.133383   \n",
       "3                                     -501.193686   \n",
       "4                                     -501.053894   \n",
       "...                                           ...   \n",
       "14144                                 -499.740028   \n",
       "14145                                 -500.251357   \n",
       "14146                                 -499.857027   \n",
       "14147                                 -500.314711   \n",
       "14148                                 -500.220296   \n",
       "\n",
       "       secondary_cleaner.state.floatbank5_a_air  \\\n",
       "0                                      9.925633   \n",
       "1                                     10.039245   \n",
       "2                                     10.070913   \n",
       "3                                      9.970366   \n",
       "4                                      9.925709   \n",
       "...                                         ...   \n",
       "14144                                 18.006038   \n",
       "14145                                 17.998535   \n",
       "14146                                 18.019543   \n",
       "14147                                 17.979515   \n",
       "14148                                 17.963512   \n",
       "\n",
       "       secondary_cleaner.state.floatbank5_a_level  \\\n",
       "0                                     -498.310211   \n",
       "1                                     -500.169983   \n",
       "2                                     -500.129135   \n",
       "3                                     -499.201640   \n",
       "4                                     -501.686727   \n",
       "...                                           ...   \n",
       "14144                                 -499.834374   \n",
       "14145                                 -500.395178   \n",
       "14146                                 -500.451156   \n",
       "14147                                 -499.272871   \n",
       "14148                                 -499.939490   \n",
       "\n",
       "       secondary_cleaner.state.floatbank5_b_air  \\\n",
       "0                                      8.079666   \n",
       "1                                      7.984757   \n",
       "2                                      8.013877   \n",
       "3                                      7.977324   \n",
       "4                                      7.894242   \n",
       "...                                         ...   \n",
       "14144                                 13.001114   \n",
       "14145                                 12.954048   \n",
       "14146                                 13.023431   \n",
       "14147                                 12.992404   \n",
       "14148                                 12.990306   \n",
       "\n",
       "       secondary_cleaner.state.floatbank5_b_level  \\\n",
       "0                                     -500.470978   \n",
       "1                                     -500.582168   \n",
       "2                                     -500.517572   \n",
       "3                                     -500.255908   \n",
       "4                                     -500.356035   \n",
       "...                                           ...   \n",
       "14144                                 -500.155694   \n",
       "14145                                 -499.895163   \n",
       "14146                                 -499.914391   \n",
       "14147                                 -499.976268   \n",
       "14148                                 -500.080993   \n",
       "\n",
       "       secondary_cleaner.state.floatbank6_a_air  \\\n",
       "0                                     14.151341   \n",
       "1                                     13.998353   \n",
       "2                                     14.028663   \n",
       "3                                     14.005551   \n",
       "4                                     13.996647   \n",
       "...                                         ...   \n",
       "14144                                 20.007840   \n",
       "14145                                 19.968498   \n",
       "14146                                 19.990885   \n",
       "14147                                 20.013986   \n",
       "14148                                 19.990336   \n",
       "\n",
       "       secondary_cleaner.state.floatbank6_a_level  \n",
       "0                                     -605.841980  \n",
       "1                                     -599.787184  \n",
       "2                                     -601.427363  \n",
       "3                                     -599.996129  \n",
       "4                                     -601.496691  \n",
       "...                                           ...  \n",
       "14144                                 -501.296428  \n",
       "14145                                 -501.041608  \n",
       "14146                                 -501.518452  \n",
       "14147                                 -500.625471  \n",
       "14148                                 -499.191575  \n",
       "\n",
       "[14149 rows x 87 columns]"
      ]
     },
     "metadata": {},
     "output_type": "display_data"
    }
   ],
   "source": [
    "display(train)"
   ]
  },
  {
   "cell_type": "code",
   "execution_count": 4,
   "metadata": {},
   "outputs": [
    {
     "name": "stdout",
     "output_type": "stream",
     "text": [
      "<class 'pandas.core.frame.DataFrame'>\n",
      "RangeIndex: 14149 entries, 0 to 14148\n",
      "Data columns (total 87 columns):\n",
      "date                                                  14149 non-null object\n",
      "final.output.concentrate_ag                           14148 non-null float64\n",
      "final.output.concentrate_pb                           14148 non-null float64\n",
      "final.output.concentrate_sol                          13938 non-null float64\n",
      "final.output.concentrate_au                           14149 non-null float64\n",
      "final.output.recovery                                 14149 non-null float64\n",
      "final.output.tail_ag                                  14149 non-null float64\n",
      "final.output.tail_pb                                  14049 non-null float64\n",
      "final.output.tail_sol                                 14144 non-null float64\n",
      "final.output.tail_au                                  14149 non-null float64\n",
      "primary_cleaner.input.sulfate                         14129 non-null float64\n",
      "primary_cleaner.input.depressant                      14117 non-null float64\n",
      "primary_cleaner.input.feed_size                       14149 non-null float64\n",
      "primary_cleaner.input.xanthate                        14049 non-null float64\n",
      "primary_cleaner.output.concentrate_ag                 14149 non-null float64\n",
      "primary_cleaner.output.concentrate_pb                 14063 non-null float64\n",
      "primary_cleaner.output.concentrate_sol                13863 non-null float64\n",
      "primary_cleaner.output.concentrate_au                 14149 non-null float64\n",
      "primary_cleaner.output.tail_ag                        14148 non-null float64\n",
      "primary_cleaner.output.tail_pb                        14134 non-null float64\n",
      "primary_cleaner.output.tail_sol                       14103 non-null float64\n",
      "primary_cleaner.output.tail_au                        14149 non-null float64\n",
      "primary_cleaner.state.floatbank8_a_air                14145 non-null float64\n",
      "primary_cleaner.state.floatbank8_a_level              14148 non-null float64\n",
      "primary_cleaner.state.floatbank8_b_air                14145 non-null float64\n",
      "primary_cleaner.state.floatbank8_b_level              14148 non-null float64\n",
      "primary_cleaner.state.floatbank8_c_air                14147 non-null float64\n",
      "primary_cleaner.state.floatbank8_c_level              14148 non-null float64\n",
      "primary_cleaner.state.floatbank8_d_air                14146 non-null float64\n",
      "primary_cleaner.state.floatbank8_d_level              14148 non-null float64\n",
      "rougher.calculation.sulfate_to_au_concentrate         14148 non-null float64\n",
      "rougher.calculation.floatbank10_sulfate_to_au_feed    14148 non-null float64\n",
      "rougher.calculation.floatbank11_sulfate_to_au_feed    14148 non-null float64\n",
      "rougher.calculation.au_pb_ratio                       14149 non-null float64\n",
      "rougher.input.feed_ag                                 14149 non-null float64\n",
      "rougher.input.feed_pb                                 14049 non-null float64\n",
      "rougher.input.feed_rate                               14141 non-null float64\n",
      "rougher.input.feed_size                               14005 non-null float64\n",
      "rougher.input.feed_sol                                14071 non-null float64\n",
      "rougher.input.feed_au                                 14149 non-null float64\n",
      "rougher.input.floatbank10_sulfate                     14120 non-null float64\n",
      "rougher.input.floatbank10_xanthate                    14141 non-null float64\n",
      "rougher.input.floatbank11_sulfate                     14113 non-null float64\n",
      "rougher.input.floatbank11_xanthate                    13721 non-null float64\n",
      "rougher.output.concentrate_ag                         14149 non-null float64\n",
      "rougher.output.concentrate_pb                         14149 non-null float64\n",
      "rougher.output.concentrate_sol                        14127 non-null float64\n",
      "rougher.output.concentrate_au                         14149 non-null float64\n",
      "rougher.output.recovery                               14149 non-null float64\n",
      "rougher.output.tail_ag                                14148 non-null float64\n",
      "rougher.output.tail_pb                                14149 non-null float64\n",
      "rougher.output.tail_sol                               14149 non-null float64\n",
      "rougher.output.tail_au                                14149 non-null float64\n",
      "rougher.state.floatbank10_a_air                       14148 non-null float64\n",
      "rougher.state.floatbank10_a_level                     14148 non-null float64\n",
      "rougher.state.floatbank10_b_air                       14148 non-null float64\n",
      "rougher.state.floatbank10_b_level                     14148 non-null float64\n",
      "rougher.state.floatbank10_c_air                       14148 non-null float64\n",
      "rougher.state.floatbank10_c_level                     14148 non-null float64\n",
      "rougher.state.floatbank10_d_air                       14149 non-null float64\n",
      "rougher.state.floatbank10_d_level                     14149 non-null float64\n",
      "rougher.state.floatbank10_e_air                       13713 non-null float64\n",
      "rougher.state.floatbank10_e_level                     14149 non-null float64\n",
      "rougher.state.floatbank10_f_air                       14149 non-null float64\n",
      "rougher.state.floatbank10_f_level                     14149 non-null float64\n",
      "secondary_cleaner.output.tail_ag                      14147 non-null float64\n",
      "secondary_cleaner.output.tail_pb                      14139 non-null float64\n",
      "secondary_cleaner.output.tail_sol                     12544 non-null float64\n",
      "secondary_cleaner.output.tail_au                      14149 non-null float64\n",
      "secondary_cleaner.state.floatbank2_a_air              13932 non-null float64\n",
      "secondary_cleaner.state.floatbank2_a_level            14148 non-null float64\n",
      "secondary_cleaner.state.floatbank2_b_air              14128 non-null float64\n",
      "secondary_cleaner.state.floatbank2_b_level            14148 non-null float64\n",
      "secondary_cleaner.state.floatbank3_a_air              14145 non-null float64\n",
      "secondary_cleaner.state.floatbank3_a_level            14148 non-null float64\n",
      "secondary_cleaner.state.floatbank3_b_air              14148 non-null float64\n",
      "secondary_cleaner.state.floatbank3_b_level            14148 non-null float64\n",
      "secondary_cleaner.state.floatbank4_a_air              14143 non-null float64\n",
      "secondary_cleaner.state.floatbank4_a_level            14148 non-null float64\n",
      "secondary_cleaner.state.floatbank4_b_air              14148 non-null float64\n",
      "secondary_cleaner.state.floatbank4_b_level            14148 non-null float64\n",
      "secondary_cleaner.state.floatbank5_a_air              14148 non-null float64\n",
      "secondary_cleaner.state.floatbank5_a_level            14148 non-null float64\n",
      "secondary_cleaner.state.floatbank5_b_air              14148 non-null float64\n",
      "secondary_cleaner.state.floatbank5_b_level            14148 non-null float64\n",
      "secondary_cleaner.state.floatbank6_a_air              14147 non-null float64\n",
      "secondary_cleaner.state.floatbank6_a_level            14148 non-null float64\n",
      "dtypes: float64(86), object(1)\n",
      "memory usage: 9.4+ MB\n"
     ]
    }
   ],
   "source": [
    "train.info()"
   ]
  },
  {
   "cell_type": "code",
   "execution_count": 5,
   "metadata": {},
   "outputs": [
    {
     "name": "stdout",
     "output_type": "stream",
     "text": [
      "<class 'pandas.core.frame.DataFrame'>\n",
      "RangeIndex: 5290 entries, 0 to 5289\n",
      "Data columns (total 53 columns):\n",
      "date                                          5290 non-null object\n",
      "primary_cleaner.input.sulfate                 5286 non-null float64\n",
      "primary_cleaner.input.depressant              5285 non-null float64\n",
      "primary_cleaner.input.feed_size               5290 non-null float64\n",
      "primary_cleaner.input.xanthate                5286 non-null float64\n",
      "primary_cleaner.state.floatbank8_a_air        5290 non-null float64\n",
      "primary_cleaner.state.floatbank8_a_level      5290 non-null float64\n",
      "primary_cleaner.state.floatbank8_b_air        5290 non-null float64\n",
      "primary_cleaner.state.floatbank8_b_level      5290 non-null float64\n",
      "primary_cleaner.state.floatbank8_c_air        5290 non-null float64\n",
      "primary_cleaner.state.floatbank8_c_level      5290 non-null float64\n",
      "primary_cleaner.state.floatbank8_d_air        5290 non-null float64\n",
      "primary_cleaner.state.floatbank8_d_level      5290 non-null float64\n",
      "rougher.input.feed_ag                         5290 non-null float64\n",
      "rougher.input.feed_pb                         5290 non-null float64\n",
      "rougher.input.feed_rate                       5287 non-null float64\n",
      "rougher.input.feed_size                       5289 non-null float64\n",
      "rougher.input.feed_sol                        5269 non-null float64\n",
      "rougher.input.feed_au                         5290 non-null float64\n",
      "rougher.input.floatbank10_sulfate             5285 non-null float64\n",
      "rougher.input.floatbank10_xanthate            5290 non-null float64\n",
      "rougher.input.floatbank11_sulfate             5282 non-null float64\n",
      "rougher.input.floatbank11_xanthate            5265 non-null float64\n",
      "rougher.state.floatbank10_a_air               5290 non-null float64\n",
      "rougher.state.floatbank10_a_level             5290 non-null float64\n",
      "rougher.state.floatbank10_b_air               5290 non-null float64\n",
      "rougher.state.floatbank10_b_level             5290 non-null float64\n",
      "rougher.state.floatbank10_c_air               5290 non-null float64\n",
      "rougher.state.floatbank10_c_level             5290 non-null float64\n",
      "rougher.state.floatbank10_d_air               5290 non-null float64\n",
      "rougher.state.floatbank10_d_level             5290 non-null float64\n",
      "rougher.state.floatbank10_e_air               5290 non-null float64\n",
      "rougher.state.floatbank10_e_level             5290 non-null float64\n",
      "rougher.state.floatbank10_f_air               5290 non-null float64\n",
      "rougher.state.floatbank10_f_level             5290 non-null float64\n",
      "secondary_cleaner.state.floatbank2_a_air      5287 non-null float64\n",
      "secondary_cleaner.state.floatbank2_a_level    5290 non-null float64\n",
      "secondary_cleaner.state.floatbank2_b_air      5288 non-null float64\n",
      "secondary_cleaner.state.floatbank2_b_level    5290 non-null float64\n",
      "secondary_cleaner.state.floatbank3_a_air      5281 non-null float64\n",
      "secondary_cleaner.state.floatbank3_a_level    5290 non-null float64\n",
      "secondary_cleaner.state.floatbank3_b_air      5290 non-null float64\n",
      "secondary_cleaner.state.floatbank3_b_level    5290 non-null float64\n",
      "secondary_cleaner.state.floatbank4_a_air      5290 non-null float64\n",
      "secondary_cleaner.state.floatbank4_a_level    5290 non-null float64\n",
      "secondary_cleaner.state.floatbank4_b_air      5290 non-null float64\n",
      "secondary_cleaner.state.floatbank4_b_level    5290 non-null float64\n",
      "secondary_cleaner.state.floatbank5_a_air      5290 non-null float64\n",
      "secondary_cleaner.state.floatbank5_a_level    5290 non-null float64\n",
      "secondary_cleaner.state.floatbank5_b_air      5290 non-null float64\n",
      "secondary_cleaner.state.floatbank5_b_level    5290 non-null float64\n",
      "secondary_cleaner.state.floatbank6_a_air      5290 non-null float64\n",
      "secondary_cleaner.state.floatbank6_a_level    5290 non-null float64\n",
      "dtypes: float64(52), object(1)\n",
      "memory usage: 2.1+ MB\n"
     ]
    }
   ],
   "source": [
    "test.info()"
   ]
  },
  {
   "cell_type": "code",
   "execution_count": 4,
   "metadata": {},
   "outputs": [
    {
     "name": "stdout",
     "output_type": "stream",
     "text": [
      "<class 'pandas.core.frame.DataFrame'>\n",
      "Int64Index: 5290 entries, 0 to 5289\n",
      "Data columns (total 55 columns):\n",
      "date                                          5290 non-null object\n",
      "primary_cleaner.input.sulfate                 5286 non-null float64\n",
      "primary_cleaner.input.depressant              5285 non-null float64\n",
      "primary_cleaner.input.feed_size               5290 non-null float64\n",
      "primary_cleaner.input.xanthate                5286 non-null float64\n",
      "primary_cleaner.state.floatbank8_a_air        5290 non-null float64\n",
      "primary_cleaner.state.floatbank8_a_level      5290 non-null float64\n",
      "primary_cleaner.state.floatbank8_b_air        5290 non-null float64\n",
      "primary_cleaner.state.floatbank8_b_level      5290 non-null float64\n",
      "primary_cleaner.state.floatbank8_c_air        5290 non-null float64\n",
      "primary_cleaner.state.floatbank8_c_level      5290 non-null float64\n",
      "primary_cleaner.state.floatbank8_d_air        5290 non-null float64\n",
      "primary_cleaner.state.floatbank8_d_level      5290 non-null float64\n",
      "rougher.input.feed_ag                         5290 non-null float64\n",
      "rougher.input.feed_pb                         5290 non-null float64\n",
      "rougher.input.feed_rate                       5287 non-null float64\n",
      "rougher.input.feed_size                       5289 non-null float64\n",
      "rougher.input.feed_sol                        5269 non-null float64\n",
      "rougher.input.feed_au                         5290 non-null float64\n",
      "rougher.input.floatbank10_sulfate             5285 non-null float64\n",
      "rougher.input.floatbank10_xanthate            5290 non-null float64\n",
      "rougher.input.floatbank11_sulfate             5282 non-null float64\n",
      "rougher.input.floatbank11_xanthate            5265 non-null float64\n",
      "rougher.state.floatbank10_a_air               5290 non-null float64\n",
      "rougher.state.floatbank10_a_level             5290 non-null float64\n",
      "rougher.state.floatbank10_b_air               5290 non-null float64\n",
      "rougher.state.floatbank10_b_level             5290 non-null float64\n",
      "rougher.state.floatbank10_c_air               5290 non-null float64\n",
      "rougher.state.floatbank10_c_level             5290 non-null float64\n",
      "rougher.state.floatbank10_d_air               5290 non-null float64\n",
      "rougher.state.floatbank10_d_level             5290 non-null float64\n",
      "rougher.state.floatbank10_e_air               5290 non-null float64\n",
      "rougher.state.floatbank10_e_level             5290 non-null float64\n",
      "rougher.state.floatbank10_f_air               5290 non-null float64\n",
      "rougher.state.floatbank10_f_level             5290 non-null float64\n",
      "secondary_cleaner.state.floatbank2_a_air      5287 non-null float64\n",
      "secondary_cleaner.state.floatbank2_a_level    5290 non-null float64\n",
      "secondary_cleaner.state.floatbank2_b_air      5288 non-null float64\n",
      "secondary_cleaner.state.floatbank2_b_level    5290 non-null float64\n",
      "secondary_cleaner.state.floatbank3_a_air      5281 non-null float64\n",
      "secondary_cleaner.state.floatbank3_a_level    5290 non-null float64\n",
      "secondary_cleaner.state.floatbank3_b_air      5290 non-null float64\n",
      "secondary_cleaner.state.floatbank3_b_level    5290 non-null float64\n",
      "secondary_cleaner.state.floatbank4_a_air      5290 non-null float64\n",
      "secondary_cleaner.state.floatbank4_a_level    5290 non-null float64\n",
      "secondary_cleaner.state.floatbank4_b_air      5290 non-null float64\n",
      "secondary_cleaner.state.floatbank4_b_level    5290 non-null float64\n",
      "secondary_cleaner.state.floatbank5_a_air      5290 non-null float64\n",
      "secondary_cleaner.state.floatbank5_a_level    5290 non-null float64\n",
      "secondary_cleaner.state.floatbank5_b_air      5290 non-null float64\n",
      "secondary_cleaner.state.floatbank5_b_level    5290 non-null float64\n",
      "secondary_cleaner.state.floatbank6_a_air      5290 non-null float64\n",
      "secondary_cleaner.state.floatbank6_a_level    5290 non-null float64\n",
      "final.output.recovery                         5290 non-null float64\n",
      "rougher.output.recovery                       5290 non-null float64\n",
      "dtypes: float64(54), object(1)\n",
      "memory usage: 2.3+ MB\n"
     ]
    }
   ],
   "source": [
    "#добавление целевых признаков в тестовые данные\n",
    "target = full.loc[:, ['date','final.output.recovery', 'rougher.output.recovery']]\n",
    "test=test.merge(target, on=['date'],how='left')\n",
    "\n",
    "test.info()"
   ]
  },
  {
   "cell_type": "code",
   "execution_count": 5,
   "metadata": {},
   "outputs": [
    {
     "name": "stdout",
     "output_type": "stream",
     "text": [
      "<class 'pandas.core.frame.DataFrame'>\n",
      "RangeIndex: 14149 entries, 0 to 14148\n",
      "Data columns (total 55 columns):\n",
      "date                                          14149 non-null object\n",
      "primary_cleaner.input.sulfate                 14129 non-null float64\n",
      "primary_cleaner.input.depressant              14117 non-null float64\n",
      "primary_cleaner.input.feed_size               14149 non-null float64\n",
      "primary_cleaner.input.xanthate                14049 non-null float64\n",
      "primary_cleaner.state.floatbank8_a_air        14145 non-null float64\n",
      "primary_cleaner.state.floatbank8_a_level      14148 non-null float64\n",
      "primary_cleaner.state.floatbank8_b_air        14145 non-null float64\n",
      "primary_cleaner.state.floatbank8_b_level      14148 non-null float64\n",
      "primary_cleaner.state.floatbank8_c_air        14147 non-null float64\n",
      "primary_cleaner.state.floatbank8_c_level      14148 non-null float64\n",
      "primary_cleaner.state.floatbank8_d_air        14146 non-null float64\n",
      "primary_cleaner.state.floatbank8_d_level      14148 non-null float64\n",
      "rougher.input.feed_ag                         14149 non-null float64\n",
      "rougher.input.feed_pb                         14049 non-null float64\n",
      "rougher.input.feed_rate                       14141 non-null float64\n",
      "rougher.input.feed_size                       14005 non-null float64\n",
      "rougher.input.feed_sol                        14071 non-null float64\n",
      "rougher.input.feed_au                         14149 non-null float64\n",
      "rougher.input.floatbank10_sulfate             14120 non-null float64\n",
      "rougher.input.floatbank10_xanthate            14141 non-null float64\n",
      "rougher.input.floatbank11_sulfate             14113 non-null float64\n",
      "rougher.input.floatbank11_xanthate            13721 non-null float64\n",
      "rougher.state.floatbank10_a_air               14148 non-null float64\n",
      "rougher.state.floatbank10_a_level             14148 non-null float64\n",
      "rougher.state.floatbank10_b_air               14148 non-null float64\n",
      "rougher.state.floatbank10_b_level             14148 non-null float64\n",
      "rougher.state.floatbank10_c_air               14148 non-null float64\n",
      "rougher.state.floatbank10_c_level             14148 non-null float64\n",
      "rougher.state.floatbank10_d_air               14149 non-null float64\n",
      "rougher.state.floatbank10_d_level             14149 non-null float64\n",
      "rougher.state.floatbank10_e_air               13713 non-null float64\n",
      "rougher.state.floatbank10_e_level             14149 non-null float64\n",
      "rougher.state.floatbank10_f_air               14149 non-null float64\n",
      "rougher.state.floatbank10_f_level             14149 non-null float64\n",
      "secondary_cleaner.state.floatbank2_a_air      13932 non-null float64\n",
      "secondary_cleaner.state.floatbank2_a_level    14148 non-null float64\n",
      "secondary_cleaner.state.floatbank2_b_air      14128 non-null float64\n",
      "secondary_cleaner.state.floatbank2_b_level    14148 non-null float64\n",
      "secondary_cleaner.state.floatbank3_a_air      14145 non-null float64\n",
      "secondary_cleaner.state.floatbank3_a_level    14148 non-null float64\n",
      "secondary_cleaner.state.floatbank3_b_air      14148 non-null float64\n",
      "secondary_cleaner.state.floatbank3_b_level    14148 non-null float64\n",
      "secondary_cleaner.state.floatbank4_a_air      14143 non-null float64\n",
      "secondary_cleaner.state.floatbank4_a_level    14148 non-null float64\n",
      "secondary_cleaner.state.floatbank4_b_air      14148 non-null float64\n",
      "secondary_cleaner.state.floatbank4_b_level    14148 non-null float64\n",
      "secondary_cleaner.state.floatbank5_a_air      14148 non-null float64\n",
      "secondary_cleaner.state.floatbank5_a_level    14148 non-null float64\n",
      "secondary_cleaner.state.floatbank5_b_air      14148 non-null float64\n",
      "secondary_cleaner.state.floatbank5_b_level    14148 non-null float64\n",
      "secondary_cleaner.state.floatbank6_a_air      14147 non-null float64\n",
      "secondary_cleaner.state.floatbank6_a_level    14148 non-null float64\n",
      "final.output.recovery                         14149 non-null float64\n",
      "rougher.output.recovery                       14149 non-null float64\n",
      "dtypes: float64(54), object(1)\n",
      "memory usage: 5.9+ MB\n"
     ]
    }
   ],
   "source": [
    "#в тренировочных данных оставляю признаки такие же, как в тестовой\n",
    "columns = test.columns\n",
    "\n",
    "train=train[columns]\n",
    "\n",
    "train.info()"
   ]
  },
  {
   "cell_type": "code",
   "execution_count": 6,
   "metadata": {},
   "outputs": [],
   "source": [
    "train=train.fillna(method='ffill',axis=0)\n",
    "test=test.fillna(method='ffill',axis=0)\n"
   ]
  },
  {
   "cell_type": "code",
   "execution_count": 7,
   "metadata": {},
   "outputs": [],
   "source": [
    "features_train = train.drop(columns=['date', 'rougher.output.recovery','final.output.recovery'])\n",
    "target_train = train.loc[:, ['final.output.recovery', 'rougher.output.recovery']]\n",
    "\n",
    "features_test = test.drop(columns=['date', 'rougher.output.recovery','final.output.recovery'])\n",
    "target_test = test.loc[:, ['final.output.recovery', 'rougher.output.recovery']]"
   ]
  },
  {
   "cell_type": "code",
   "execution_count": 8,
   "metadata": {},
   "outputs": [
    {
     "data": {
      "text/plain": [
       "((14149, 52), (5290, 52))"
      ]
     },
     "execution_count": 8,
     "metadata": {},
     "output_type": "execute_result"
    }
   ],
   "source": [
    "features_train.shape, features_test.shape"
   ]
  },
  {
   "cell_type": "code",
   "execution_count": 9,
   "metadata": {},
   "outputs": [
    {
     "name": "stdout",
     "output_type": "stream",
     "text": [
      "5.867845646492896\n"
     ]
    }
   ],
   "source": [
    "model = LinearRegression()\n",
    "model.fit(features_train, target_train)\n",
    "predicted_train=model.predict(features_train)\n",
    "\n",
    "print(mean_absolute_error(target_train, predicted_train))"
   ]
  },
  {
   "cell_type": "code",
   "execution_count": 10,
   "metadata": {},
   "outputs": [
    {
     "name": "stdout",
     "output_type": "stream",
     "text": [
      "7.257942230982364\n"
     ]
    }
   ],
   "source": [
    "#Константная модель\n",
    "\n",
    "rougher = pd.Series(target_train['rougher.output.recovery'].median(), index=target_train.index)\n",
    "final = pd.Series(target_train['final.output.recovery'].median(), index=target_train.index)\n",
    "predicted=pd.DataFrame({'final.output.recovery': final, 'rougher.output.recovery': rougher}) \n",
    "\n",
    "print(mean_absolute_error(target_train, predicted))"
   ]
  },
  {
   "cell_type": "code",
   "execution_count": 11,
   "metadata": {},
   "outputs": [
    {
     "name": "stdout",
     "output_type": "stream",
     "text": [
      "1 6.879451381049376\n",
      "2 6.28507700277423\n",
      "3 5.819940603247315\n",
      "4 5.482569119063694\n",
      "5 5.132856469952202\n",
      "6 4.873197448470445\n",
      "7 4.596489278686609\n",
      "8 4.334008910964405\n",
      "9 4.112780909327746\n",
      "10 3.8819790522952173\n",
      "11 3.6548199718687155\n",
      "12 3.421129510782178\n",
      "13 3.205124483715542\n",
      "14 3.0005452451229546\n",
      "15 2.7895926038824728\n"
     ]
    }
   ],
   "source": [
    "for depth in range(1, 16, 1):\n",
    "    model = RandomForestRegressor(n_estimators=20, max_depth=depth, random_state=12345)\n",
    "    model.fit(features_train, target_train)\n",
    "    print(depth, mean_absolute_error(target_train, model.predict(features_train)))"
   ]
  },
  {
   "cell_type": "markdown",
   "metadata": {},
   "source": [
    "<b> Вывод: </b> \n",
    "1. Открыла и изучила данные, в тестовой выборке отсутствуют целевые признаки, в тренировочной выборке намного больше признаков, чем в тестовой. Присутствуют пропуски.\n",
    "2. Пропуски заполнены функцией для заполнения по предыдущим значениям ffill.\n",
    "3. Выбросы в данных не убирала, так как это и есть реальная концентрация, важно, чтобы модель умела их видеть и обрабатывать.\n",
    "4. Вычислила эффективность обогащения металла на обучающей выборке для признака rougher.output.recovery. Нашла MAE равное 5.8, в сравнении с константной моделью, которая предсказывает только медианы, где MAE равно 7.2 - результат лучше, это значт что средняя абсолютная ошибка ниже.\n",
    "5. При анализе признаков недоступных в тестовой выборке, я заметила что эти параметры относятся к расчестным и выодным характеристикам процесса - calculation и output. То есть их невозможно получить во время технологического процесса - поэтому размер тренировочной выборки был урезан по кол-ву столбцов в тестовой выборке.\n",
    "6. В тестовую выборку добавлены столбы таргета с помощью поля date из полной выборки.\n"
   ]
  },
  {
   "cell_type": "markdown",
   "metadata": {},
   "source": [
    "## Анализ данных"
   ]
  },
  {
   "cell_type": "markdown",
   "metadata": {},
   "source": [
    "Как меняется концентрация металлов (Au, Ag, Pb) на различных этапах очистки"
   ]
  },
  {
   "cell_type": "code",
   "execution_count": 15,
   "metadata": {},
   "outputs": [
    {
     "data": {
      "text/html": [
       "<div>\n",
       "<style scoped>\n",
       "    .dataframe tbody tr th:only-of-type {\n",
       "        vertical-align: middle;\n",
       "    }\n",
       "\n",
       "    .dataframe tbody tr th {\n",
       "        vertical-align: top;\n",
       "    }\n",
       "\n",
       "    .dataframe thead th {\n",
       "        text-align: right;\n",
       "    }\n",
       "</style>\n",
       "<table border=\"1\" class=\"dataframe\">\n",
       "  <thead>\n",
       "    <tr style=\"text-align: right;\">\n",
       "      <th></th>\n",
       "      <th>final.output.concentrate_ag</th>\n",
       "      <th>primary_cleaner.output.concentrate_ag</th>\n",
       "      <th>rougher.output.concentrate_ag</th>\n",
       "    </tr>\n",
       "  </thead>\n",
       "  <tbody>\n",
       "    <tr>\n",
       "      <td>0</td>\n",
       "      <td>6.055403</td>\n",
       "      <td>8.547551</td>\n",
       "      <td>11.500771</td>\n",
       "    </tr>\n",
       "    <tr>\n",
       "      <td>1</td>\n",
       "      <td>6.029369</td>\n",
       "      <td>8.558743</td>\n",
       "      <td>11.615865</td>\n",
       "    </tr>\n",
       "    <tr>\n",
       "      <td>2</td>\n",
       "      <td>6.055926</td>\n",
       "      <td>8.603505</td>\n",
       "      <td>11.695753</td>\n",
       "    </tr>\n",
       "    <tr>\n",
       "      <td>3</td>\n",
       "      <td>6.047977</td>\n",
       "      <td>7.221879</td>\n",
       "      <td>11.915047</td>\n",
       "    </tr>\n",
       "    <tr>\n",
       "      <td>4</td>\n",
       "      <td>6.148599</td>\n",
       "      <td>9.089428</td>\n",
       "      <td>12.411054</td>\n",
       "    </tr>\n",
       "  </tbody>\n",
       "</table>\n",
       "</div>"
      ],
      "text/plain": [
       "   final.output.concentrate_ag  primary_cleaner.output.concentrate_ag  \\\n",
       "0                     6.055403                               8.547551   \n",
       "1                     6.029369                               8.558743   \n",
       "2                     6.055926                               8.603505   \n",
       "3                     6.047977                               7.221879   \n",
       "4                     6.148599                               9.089428   \n",
       "\n",
       "   rougher.output.concentrate_ag  \n",
       "0                      11.500771  \n",
       "1                      11.615865  \n",
       "2                      11.695753  \n",
       "3                      11.915047  \n",
       "4                      12.411054  "
      ]
     },
     "execution_count": 15,
     "metadata": {},
     "output_type": "execute_result"
    }
   ],
   "source": [
    "full.loc[:, ['final.output.concentrate_ag','primary_cleaner.output.concentrate_ag','rougher.output.concentrate_ag']].head()"
   ]
  },
  {
   "cell_type": "code",
   "execution_count": 51,
   "metadata": {},
   "outputs": [
    {
     "data": {
      "text/plain": [
       "<matplotlib.axes._subplots.AxesSubplot at 0x7f8cd4c722d0>"
      ]
     },
     "execution_count": 51,
     "metadata": {},
     "output_type": "execute_result"
    },
    {
     "data": {
      "image/png": "[encoded data removed]",
      "text/plain": [
       "<Figure size 432x288 with 1 Axes>"
      ]
     },
     "metadata": {
      "needs_background": "light"
     },
     "output_type": "display_data"
    }
   ],
   "source": [
    "ax_1= full.plot(\n",
    "    kind='hist',\n",
    "    y='rougher.output.concentrate_ag',\n",
    "    histtype='stepfilled',\n",
    "    bins=80,\n",
    "    linewidth=4,\n",
    "    alpha=0.6,\n",
    "    range = (0,20),\n",
    "    label='Флотация',\n",
    "    title='Распределение концентрации Серебра(Ag) на каждом этапе очистки'\n",
    ")\n",
    "full.plot(\n",
    "    kind='hist',\n",
    "    y='primary_cleaner.output.concentrate_ag',\n",
    "    histtype='stepfilled',\n",
    "    bins=80,\n",
    "   linewidth=4,\n",
    "    alpha=0.6,\n",
    "    range = (0,20),\n",
    "   label='Первичная очистка',\n",
    "    ax=ax_1,\n",
    "    grid=True,\n",
    "   legend=True,\n",
    ")\n",
    "full.plot(\n",
    "    kind='hist',\n",
    "    y='final.output.concentrate_ag',\n",
    "    histtype='stepfilled',\n",
    "    bins=80,\n",
    "   linewidth=4,\n",
    "    alpha=0.6,\n",
    "    range = (0,20),\n",
    "   label='Финальный продукт',\n",
    "    ax=ax_1,\n",
    "    grid=True,\n",
    "   legend=True,\n",
    ")\n"
   ]
  },
  {
   "cell_type": "code",
   "execution_count": 16,
   "metadata": {},
   "outputs": [
    {
     "data": {
      "text/html": [
       "<div>\n",
       "<style scoped>\n",
       "    .dataframe tbody tr th:only-of-type {\n",
       "        vertical-align: middle;\n",
       "    }\n",
       "\n",
       "    .dataframe tbody tr th {\n",
       "        vertical-align: top;\n",
       "    }\n",
       "\n",
       "    .dataframe thead th {\n",
       "        text-align: right;\n",
       "    }\n",
       "</style>\n",
       "<table border=\"1\" class=\"dataframe\">\n",
       "  <thead>\n",
       "    <tr style=\"text-align: right;\">\n",
       "      <th></th>\n",
       "      <th>final.output.concentrate_au</th>\n",
       "      <th>primary_cleaner.output.concentrate_au</th>\n",
       "      <th>rougher.output.concentrate_au</th>\n",
       "    </tr>\n",
       "  </thead>\n",
       "  <tbody>\n",
       "    <tr>\n",
       "      <td>0</td>\n",
       "      <td>42.192020</td>\n",
       "      <td>34.174427</td>\n",
       "      <td>19.793808</td>\n",
       "    </tr>\n",
       "    <tr>\n",
       "      <td>1</td>\n",
       "      <td>42.701629</td>\n",
       "      <td>34.118526</td>\n",
       "      <td>20.050975</td>\n",
       "    </tr>\n",
       "    <tr>\n",
       "      <td>2</td>\n",
       "      <td>42.657501</td>\n",
       "      <td>33.969464</td>\n",
       "      <td>19.737170</td>\n",
       "    </tr>\n",
       "    <tr>\n",
       "      <td>3</td>\n",
       "      <td>42.689819</td>\n",
       "      <td>28.260743</td>\n",
       "      <td>19.320810</td>\n",
       "    </tr>\n",
       "    <tr>\n",
       "      <td>4</td>\n",
       "      <td>42.774141</td>\n",
       "      <td>33.044932</td>\n",
       "      <td>19.216101</td>\n",
       "    </tr>\n",
       "  </tbody>\n",
       "</table>\n",
       "</div>"
      ],
      "text/plain": [
       "   final.output.concentrate_au  primary_cleaner.output.concentrate_au  \\\n",
       "0                    42.192020                              34.174427   \n",
       "1                    42.701629                              34.118526   \n",
       "2                    42.657501                              33.969464   \n",
       "3                    42.689819                              28.260743   \n",
       "4                    42.774141                              33.044932   \n",
       "\n",
       "   rougher.output.concentrate_au  \n",
       "0                      19.793808  \n",
       "1                      20.050975  \n",
       "2                      19.737170  \n",
       "3                      19.320810  \n",
       "4                      19.216101  "
      ]
     },
     "execution_count": 16,
     "metadata": {},
     "output_type": "execute_result"
    }
   ],
   "source": [
    "full.loc[:, ['final.output.concentrate_au','primary_cleaner.output.concentrate_au','rougher.output.concentrate_au']].head()"
   ]
  },
  {
   "cell_type": "code",
   "execution_count": 54,
   "metadata": {},
   "outputs": [
    {
     "data": {
      "text/plain": [
       "<matplotlib.axes._subplots.AxesSubplot at 0x7f8cd4a8f890>"
      ]
     },
     "execution_count": 54,
     "metadata": {},
     "output_type": "execute_result"
    },
    {
     "data": {
      "image/png": "[encoded data removed]",
      "text/plain": [
       "<Figure size 432x288 with 1 Axes>"
      ]
     },
     "metadata": {
      "needs_background": "light"
     },
     "output_type": "display_data"
    }
   ],
   "source": [
    "ax_2= full.plot(\n",
    "    kind='hist',\n",
    "    y='rougher.output.concentrate_au',\n",
    "    histtype='stepfilled',\n",
    "    bins=80,\n",
    "    linewidth=4,\n",
    "    alpha=0.6,\n",
    "    range = (0,60),\n",
    "    label='Флотация',\n",
    "    title='Распределение концентрации Золота(Au) на каждом этапе очистки'\n",
    ")\n",
    "full.plot(\n",
    "    kind='hist',\n",
    "    y='primary_cleaner.output.concentrate_au',\n",
    "    histtype='stepfilled',\n",
    "    bins=80,\n",
    "   linewidth=4,\n",
    "    alpha=0.6,\n",
    "    range = (0,60),\n",
    "   label='Первичная очистка',\n",
    "    ax=ax_2,\n",
    "    grid=True,\n",
    "   legend=True,\n",
    ")\n",
    "full.plot(\n",
    "    kind='hist',\n",
    "    y='final.output.concentrate_au',\n",
    "    histtype='stepfilled',\n",
    "    bins=80,\n",
    "   linewidth=4,\n",
    "    alpha=0.6,\n",
    "    range = (0,60),\n",
    "   label='Финальный продукт',\n",
    "    ax=ax_2,\n",
    "    grid=True,\n",
    "   legend=True,\n",
    ")\n"
   ]
  },
  {
   "cell_type": "code",
   "execution_count": 17,
   "metadata": {},
   "outputs": [
    {
     "data": {
      "text/html": [
       "<div>\n",
       "<style scoped>\n",
       "    .dataframe tbody tr th:only-of-type {\n",
       "        vertical-align: middle;\n",
       "    }\n",
       "\n",
       "    .dataframe tbody tr th {\n",
       "        vertical-align: top;\n",
       "    }\n",
       "\n",
       "    .dataframe thead th {\n",
       "        text-align: right;\n",
       "    }\n",
       "</style>\n",
       "<table border=\"1\" class=\"dataframe\">\n",
       "  <thead>\n",
       "    <tr style=\"text-align: right;\">\n",
       "      <th></th>\n",
       "      <th>final.output.concentrate_pb</th>\n",
       "      <th>primary_cleaner.output.concentrate_pb</th>\n",
       "      <th>rougher.output.concentrate_pb</th>\n",
       "    </tr>\n",
       "  </thead>\n",
       "  <tbody>\n",
       "    <tr>\n",
       "      <td>0</td>\n",
       "      <td>9.889648</td>\n",
       "      <td>10.389648</td>\n",
       "      <td>7.101074</td>\n",
       "    </tr>\n",
       "    <tr>\n",
       "      <td>1</td>\n",
       "      <td>9.968944</td>\n",
       "      <td>10.497069</td>\n",
       "      <td>7.278807</td>\n",
       "    </tr>\n",
       "    <tr>\n",
       "      <td>2</td>\n",
       "      <td>10.213995</td>\n",
       "      <td>10.354494</td>\n",
       "      <td>7.216833</td>\n",
       "    </tr>\n",
       "    <tr>\n",
       "      <td>3</td>\n",
       "      <td>9.977019</td>\n",
       "      <td>8.496563</td>\n",
       "      <td>7.175616</td>\n",
       "    </tr>\n",
       "    <tr>\n",
       "      <td>4</td>\n",
       "      <td>10.142511</td>\n",
       "      <td>9.986786</td>\n",
       "      <td>7.240205</td>\n",
       "    </tr>\n",
       "  </tbody>\n",
       "</table>\n",
       "</div>"
      ],
      "text/plain": [
       "   final.output.concentrate_pb  primary_cleaner.output.concentrate_pb  \\\n",
       "0                     9.889648                              10.389648   \n",
       "1                     9.968944                              10.497069   \n",
       "2                    10.213995                              10.354494   \n",
       "3                     9.977019                               8.496563   \n",
       "4                    10.142511                               9.986786   \n",
       "\n",
       "   rougher.output.concentrate_pb  \n",
       "0                       7.101074  \n",
       "1                       7.278807  \n",
       "2                       7.216833  \n",
       "3                       7.175616  \n",
       "4                       7.240205  "
      ]
     },
     "execution_count": 17,
     "metadata": {},
     "output_type": "execute_result"
    }
   ],
   "source": [
    "full.loc[:, ['final.output.concentrate_pb','primary_cleaner.output.concentrate_pb','rougher.output.concentrate_pb']].head()"
   ]
  },
  {
   "cell_type": "code",
   "execution_count": 60,
   "metadata": {},
   "outputs": [
    {
     "data": {
      "text/plain": [
       "<matplotlib.axes._subplots.AxesSubplot at 0x7f8cd47a72d0>"
      ]
     },
     "execution_count": 60,
     "metadata": {},
     "output_type": "execute_result"
    },
    {
     "data": {
      "image/png": "[encoded data removed]",
      "text/plain": [
       "<Figure size 432x288 with 1 Axes>"
      ]
     },
     "metadata": {
      "needs_background": "light"
     },
     "output_type": "display_data"
    }
   ],
   "source": [
    "ax_3= full.plot(\n",
    "    kind='hist',\n",
    "    y='rougher.output.concentrate_pb',\n",
    "    histtype='stepfilled',\n",
    "    bins=80,\n",
    "    linewidth=4,\n",
    "    alpha=0.6,\n",
    "    range = (0,20),\n",
    "    label='Флотация',\n",
    "    title='Распределение Свинца(Pb) на каждом этапе очистки'\n",
    ")\n",
    "full.plot(\n",
    "    kind='hist',\n",
    "    y='primary_cleaner.output.concentrate_pb',\n",
    "    histtype='stepfilled',\n",
    "    bins=80,\n",
    "   linewidth=4,\n",
    "    alpha=0.6,\n",
    "    range = (0,20),\n",
    "   label='Первичная очистка',\n",
    "    ax=ax_3,\n",
    "    grid=True,\n",
    "   legend=True,\n",
    ")\n",
    "full.plot(\n",
    "    kind='hist',\n",
    "    y='final.output.concentrate_pb',\n",
    "    histtype='stepfilled',\n",
    "    bins=80,\n",
    "   linewidth=4,\n",
    "    alpha=0.6,\n",
    "    range = (0,20),\n",
    "   label='Финальный продукт',\n",
    "    ax=ax_3,\n",
    "    grid=True,\n",
    "   legend=True,\n",
    ")"
   ]
  },
  {
   "cell_type": "code",
   "execution_count": 18,
   "metadata": {},
   "outputs": [
    {
     "data": {
      "text/html": [
       "<div>\n",
       "<style scoped>\n",
       "    .dataframe tbody tr th:only-of-type {\n",
       "        vertical-align: middle;\n",
       "    }\n",
       "\n",
       "    .dataframe tbody tr th {\n",
       "        vertical-align: top;\n",
       "    }\n",
       "\n",
       "    .dataframe thead th {\n",
       "        text-align: right;\n",
       "    }\n",
       "</style>\n",
       "<table border=\"1\" class=\"dataframe\">\n",
       "  <thead>\n",
       "    <tr style=\"text-align: right;\">\n",
       "      <th></th>\n",
       "      <th>final.output.concentrate_sol</th>\n",
       "      <th>primary_cleaner.output.concentrate_sol</th>\n",
       "      <th>rougher.output.concentrate_sol</th>\n",
       "    </tr>\n",
       "  </thead>\n",
       "  <tbody>\n",
       "    <tr>\n",
       "      <td>0</td>\n",
       "      <td>5.507324</td>\n",
       "      <td>19.529297</td>\n",
       "      <td>28.029297</td>\n",
       "    </tr>\n",
       "    <tr>\n",
       "      <td>1</td>\n",
       "      <td>5.257781</td>\n",
       "      <td>19.369147</td>\n",
       "      <td>28.067063</td>\n",
       "    </tr>\n",
       "    <tr>\n",
       "      <td>2</td>\n",
       "      <td>5.383759</td>\n",
       "      <td>19.167579</td>\n",
       "      <td>27.454037</td>\n",
       "    </tr>\n",
       "    <tr>\n",
       "      <td>3</td>\n",
       "      <td>4.858634</td>\n",
       "      <td>15.978538</td>\n",
       "      <td>27.341277</td>\n",
       "    </tr>\n",
       "    <tr>\n",
       "      <td>4</td>\n",
       "      <td>4.939416</td>\n",
       "      <td>19.199864</td>\n",
       "      <td>27.041023</td>\n",
       "    </tr>\n",
       "  </tbody>\n",
       "</table>\n",
       "</div>"
      ],
      "text/plain": [
       "   final.output.concentrate_sol  primary_cleaner.output.concentrate_sol  \\\n",
       "0                      5.507324                               19.529297   \n",
       "1                      5.257781                               19.369147   \n",
       "2                      5.383759                               19.167579   \n",
       "3                      4.858634                               15.978538   \n",
       "4                      4.939416                               19.199864   \n",
       "\n",
       "   rougher.output.concentrate_sol  \n",
       "0                       28.029297  \n",
       "1                       28.067063  \n",
       "2                       27.454037  \n",
       "3                       27.341277  \n",
       "4                       27.041023  "
      ]
     },
     "execution_count": 18,
     "metadata": {},
     "output_type": "execute_result"
    }
   ],
   "source": [
    "full.loc[:, ['final.output.concentrate_sol','primary_cleaner.output.concentrate_sol','rougher.output.concentrate_sol']].head()"
   ]
  },
  {
   "cell_type": "code",
   "execution_count": 63,
   "metadata": {},
   "outputs": [
    {
     "data": {
      "text/plain": [
       "<matplotlib.axes._subplots.AxesSubplot at 0x7f8cd4723c50>"
      ]
     },
     "execution_count": 63,
     "metadata": {},
     "output_type": "execute_result"
    },
    {
     "data": {
      "image/png": "[encoded data removed]",
      "text/plain": [
       "<Figure size 432x288 with 1 Axes>"
      ]
     },
     "metadata": {
      "needs_background": "light"
     },
     "output_type": "display_data"
    }
   ],
   "source": [
    "ax_4= full.plot(\n",
    "    kind='hist',\n",
    "    y='rougher.output.concentrate_sol',\n",
    "    histtype='stepfilled',\n",
    "    bins=80,\n",
    "    linewidth=4,\n",
    "    alpha=0.6,\n",
    "    range = (0,40),\n",
    "    label='Флотация',\n",
    "    title='Распределение Солей на каждом этапе очистки'\n",
    ")\n",
    "full.plot(\n",
    "    kind='hist',\n",
    "    y='primary_cleaner.output.concentrate_sol',\n",
    "    histtype='stepfilled',\n",
    "    bins=80,\n",
    "   linewidth=4,\n",
    "    alpha=0.6,\n",
    "    range = (0,40),\n",
    "   label='Первичная очистка',\n",
    "    ax=ax_4,\n",
    "    grid=True,\n",
    "   legend=True,\n",
    ")\n",
    "full.plot(\n",
    "    kind='hist',\n",
    "    y='final.output.concentrate_sol',\n",
    "    histtype='stepfilled',\n",
    "    bins=80,\n",
    "   linewidth=4,\n",
    "    alpha=0.6,\n",
    "    range = (0,40),\n",
    "   label='Финальный продукт',\n",
    "    ax=ax_4,\n",
    "    grid=True,\n",
    "   legend=True,\n",
    ")"
   ]
  },
  {
   "cell_type": "markdown",
   "metadata": {},
   "source": [
    "1. Серебро - концентрация металла уменьшается с каждым этапом очистки\n",
    "2. Золото  - концентрация металла увеличивается с каждым этапом очистки\n",
    "3. Свинец -концентрация металла увеличивается с каждым этапом очистки\n",
    "4. Соли - концентрация металлов уменьшается с каждым этапом очистки."
   ]
  },
  {
   "attachments": {
    "image.png": {
     "image/png": "[encoded data removed]"
    }
   },
   "cell_type": "markdown",
   "metadata": {},
   "source": [
    "![image.png](attachment:image.png)"
   ]
  },
  {
   "cell_type": "markdown",
   "metadata": {},
   "source": [
    "Сравните распределения размеров гранул сырья на обучающей и тестовой выборках. Если распределения сильно отличаются друг от друга, оценка модели будет неправильной."
   ]
  },
  {
   "cell_type": "code",
   "execution_count": 19,
   "metadata": {},
   "outputs": [
    {
     "data": {
      "text/plain": [
       "<matplotlib.axes._subplots.AxesSubplot at 0x7fdfe08fee90>"
      ]
     },
     "execution_count": 19,
     "metadata": {},
     "output_type": "execute_result"
    },
    {
     "data": {
      "image/png": "[encoded data removed]",
      "text/plain": [
       "<Figure size 432x288 with 1 Axes>"
      ]
     },
     "metadata": {
      "needs_background": "light"
     },
     "output_type": "display_data"
    }
   ],
   "source": [
    "#сравнение распределения размеров гранул\n",
    "\n",
    "ах= train.plot(\n",
    "    kind='hist',\n",
    "    y='primary_cleaner.input.feed_size',\n",
    "    histtype='stepfilled',\n",
    "    bins=80,\n",
    "    linewidth=4,\n",
    "    alpha=0.6,\n",
    "    range = (4,10),\n",
    "    label='Обучающая выборка',\n",
    "    title='Распределение размера гранул сырья перед первым этапом очистки'\n",
    ")\n",
    "test.plot(\n",
    "    kind='hist',\n",
    "    y='primary_cleaner.input.feed_size',\n",
    "    histtype='stepfilled',\n",
    "    bins=80,\n",
    "   linewidth=4,\n",
    "    alpha=0.6,\n",
    "    range = (4,10),\n",
    "   label='Тестовая выборка',\n",
    "    ax=ах,\n",
    "    grid=True,\n",
    "   legend=True,\n",
    ")\n"
   ]
  },
  {
   "cell_type": "markdown",
   "metadata": {},
   "source": [
    "Распределение по размерам гранул не сильно отличается на тестовой и тренировочной выборке. Большинство частиц лежат в диапазоне 50-100 мкм"
   ]
  },
  {
   "cell_type": "code",
   "execution_count": 20,
   "metadata": {
    "scrolled": true
   },
   "outputs": [
    {
     "data": {
      "text/html": [
       "<div>\n",
       "<style scoped>\n",
       "    .dataframe tbody tr th:only-of-type {\n",
       "        vertical-align: middle;\n",
       "    }\n",
       "\n",
       "    .dataframe tbody tr th {\n",
       "        vertical-align: top;\n",
       "    }\n",
       "\n",
       "    .dataframe thead th {\n",
       "        text-align: right;\n",
       "    }\n",
       "</style>\n",
       "<table border=\"1\" class=\"dataframe\">\n",
       "  <thead>\n",
       "    <tr style=\"text-align: right;\">\n",
       "      <th></th>\n",
       "      <th>final.output.concentrate.summ</th>\n",
       "      <th>primary_cleaner.output.concentrate.summ</th>\n",
       "      <th>rougher.output.concentrate.summ</th>\n",
       "    </tr>\n",
       "  </thead>\n",
       "  <tbody>\n",
       "    <tr>\n",
       "      <td>0</td>\n",
       "      <td>48.247423</td>\n",
       "      <td>42.721978</td>\n",
       "      <td>31.294579</td>\n",
       "    </tr>\n",
       "    <tr>\n",
       "      <td>1</td>\n",
       "      <td>48.730998</td>\n",
       "      <td>42.677269</td>\n",
       "      <td>31.666840</td>\n",
       "    </tr>\n",
       "    <tr>\n",
       "      <td>2</td>\n",
       "      <td>48.713427</td>\n",
       "      <td>42.572969</td>\n",
       "      <td>31.432923</td>\n",
       "    </tr>\n",
       "    <tr>\n",
       "      <td>3</td>\n",
       "      <td>48.737796</td>\n",
       "      <td>35.482621</td>\n",
       "      <td>31.235857</td>\n",
       "    </tr>\n",
       "    <tr>\n",
       "      <td>4</td>\n",
       "      <td>48.922740</td>\n",
       "      <td>42.134360</td>\n",
       "      <td>31.627154</td>\n",
       "    </tr>\n",
       "  </tbody>\n",
       "</table>\n",
       "</div>"
      ],
      "text/plain": [
       "   final.output.concentrate.summ  primary_cleaner.output.concentrate.summ  \\\n",
       "0                      48.247423                                42.721978   \n",
       "1                      48.730998                                42.677269   \n",
       "2                      48.713427                                42.572969   \n",
       "3                      48.737796                                35.482621   \n",
       "4                      48.922740                                42.134360   \n",
       "\n",
       "   rougher.output.concentrate.summ  \n",
       "0                        31.294579  \n",
       "1                        31.666840  \n",
       "2                        31.432923  \n",
       "3                        31.235857  \n",
       "4                        31.627154  "
      ]
     },
     "execution_count": 20,
     "metadata": {},
     "output_type": "execute_result"
    }
   ],
   "source": [
    "full['final.output.concentrate.summ']=full['final.output.concentrate_ag']+full['final.output.concentrate_au']\n",
    "+full['final.output.concentrate_pb']+full['final.output.concentrate_sol']\n",
    "\n",
    "\n",
    "full['primary_cleaner.output.concentrate.summ']=full['primary_cleaner.output.concentrate_ag']+full['primary_cleaner.output.concentrate_au']\n",
    "+full['primary_cleaner.output.concentrate_pb']+full['primary_cleaner.output.concentrate_sol']\n",
    "\n",
    "full['rougher.output.concentrate.summ'] = full['rougher.output.concentrate_ag']+full['rougher.output.concentrate_au']\n",
    "+full['rougher.output.concentrate_pb']+full['rougher.output.concentrate_sol']\n",
    "\n",
    "full.loc[:, ['final.output.concentrate.summ','primary_cleaner.output.concentrate.summ','rougher.output.concentrate.summ']].head()"
   ]
  },
  {
   "cell_type": "code",
   "execution_count": 21,
   "metadata": {},
   "outputs": [
    {
     "data": {
      "text/plain": [
       "<matplotlib.axes._subplots.AxesSubplot at 0x7fdfebdd28d0>"
      ]
     },
     "execution_count": 21,
     "metadata": {},
     "output_type": "execute_result"
    },
    {
     "data": {
      "image/png": "[encoded data removed]",
      "text/plain": [
       "<Figure size 432x288 with 1 Axes>"
      ]
     },
     "metadata": {
      "needs_background": "light"
     },
     "output_type": "display_data"
    }
   ],
   "source": [
    "full['final.output.concentrate.summ'].hist(range=(0,40))"
   ]
  },
  {
   "cell_type": "code",
   "execution_count": 22,
   "metadata": {},
   "outputs": [],
   "source": [
    "full_summ = full.loc[:, ['date','final.output.concentrate.summ']]\n",
    "train=train.merge(full_summ, on=['date'],how='left')\n"
   ]
  },
  {
   "cell_type": "code",
   "execution_count": 23,
   "metadata": {},
   "outputs": [],
   "source": [
    "train=train.loc[train['final.output.concentrate.summ'] != 0]\n"
   ]
  },
  {
   "cell_type": "markdown",
   "metadata": {},
   "source": [
    "В суммарной концентрации всех веществ есть нулевые аномалии, что в принципе быть не может, по идее хоть самое минимальное значение, но должно быть в суммарной руде, скорее всего ошибка в данных. Строки с нулевыми значениями в суммарном столбце были удалены из тренировочных данных."
   ]
  },
  {
   "cell_type": "markdown",
   "metadata": {},
   "source": [
    "## Модель"
   ]
  },
  {
   "cell_type": "markdown",
   "metadata": {},
   "source": [
    "1. Напишите функцию для вычисления итоговой sMAPE.\n"
   ]
  },
  {
   "cell_type": "code",
   "execution_count": 24,
   "metadata": {},
   "outputs": [],
   "source": [
    "def smape(target,predictions):\n",
    "    target=target.to_numpy()\n",
    "    smape_rougher = np.sum(abs(target[:,0]-predictions[:,0]) / \n",
    "                           ((abs(target[:,0]) + abs(predictions[:,0]))/2)) * 100 / predictions.shape[0]\n",
    "                                 \n",
    "    smape_final = np.sum(abs(target[:,1]-predictions[:,1]) / \n",
    "                           ((abs(target[:,1]) + abs(predictions[:,1]))/2)) * 100 / predictions.shape[0]\n",
    "    \n",
    "    return 0.25 * smape_rougher + 0.75 * smape_final\n",
    "\n",
    "score = make_scorer(smape, greater_is_better=False)"
   ]
  },
  {
   "cell_type": "markdown",
   "metadata": {},
   "source": [
    "2. Обучите разные модели и оцените их качество кросс-валидацией. Выберите лучшую модель и проверьте её на тестовой выборке. Опишите выводы."
   ]
  },
  {
   "cell_type": "code",
   "execution_count": null,
   "metadata": {},
   "outputs": [],
   "source": [
    "#Подбор лучших гиперпараметров для Случайного леса\n",
    "\n",
    "parametrs = { 'n_estimators': range (10, 25, 10),\n",
    "              'max_depth': range (1,13, 2),\n",
    "              'min_samples_leaf': range (1,8),\n",
    "              'min_samples_split': range (2,10,2) },\n",
    "\n",
    "clf = RandomForestRegressor()\n",
    "grid = GridSearchCV(clf, parametrs, cv=5,scoring=score)\n",
    "grid.fit(features_train, target_train)\n",
    "\n",
    "print(grid.best_params_)"
   ]
  },
  {
   "cell_type": "code",
   "execution_count": null,
   "metadata": {
    "scrolled": true
   },
   "outputs": [],
   "source": [
    "#Подбор лучших гиперпараметров для Дерева решений\n",
    "\n",
    "parametrs = { 'max_depth': range (1,13, 2),\n",
    "              'min_samples_leaf': range (1,8),\n",
    "              'min_samples_split': range (2,10,2)}\n",
    "\n",
    "\n",
    "clf = DecisionTreeRegressor()\n",
    "grid = GridSearchCV(clf, parametrs, cv=5,scoring=score)\n",
    "grid.fit(features_train, target_train)\n",
    "\n",
    "print(grid.best_params_)\n",
    "print(grid.best_score_)"
   ]
  },
  {
   "cell_type": "code",
   "execution_count": 27,
   "metadata": {},
   "outputs": [
    {
     "name": "stdout",
     "output_type": "stream",
     "text": [
      "12.663187673937067\n"
     ]
    }
   ],
   "source": [
    "model=LinearRegression()\n",
    "model.fit(features_train,target_train) \n",
    "predicted=model.predict(features_train)\n",
    "scores=cross_val_score(model,features_train,target_train,cv=5,scoring=score)\n",
    "final_score= np.mean(scores)\n",
    "print(abs(final_score))\n",
    "\n"
   ]
  },
  {
   "cell_type": "code",
   "execution_count": 28,
   "metadata": {},
   "outputs": [
    {
     "name": "stdout",
     "output_type": "stream",
     "text": [
      "10.88088228736597\n"
     ]
    }
   ],
   "source": [
    "model=RandomForestRegressor(max_depth = 7,min_samples_leaf = 7, min_samples_split = 6, n_estimators=20)\n",
    "model.fit(features_train,target_train) \n",
    "predicted=model.predict(features_train)\n",
    "scores=cross_val_score(model,features_train,target_train,cv=5,scoring=score)\n",
    "final_score= np.mean(scores)\n",
    "print(abs(final_score))"
   ]
  },
  {
   "cell_type": "code",
   "execution_count": 29,
   "metadata": {},
   "outputs": [
    {
     "name": "stdout",
     "output_type": "stream",
     "text": [
      "10.70214227623606\n"
     ]
    }
   ],
   "source": [
    "predicted=model.predict(features_test)\n",
    "scores=cross_val_score(model,features_test,target_test,cv=5,scoring=score)\n",
    "final_score= np.mean(scores)\n",
    "print(abs(final_score))"
   ]
  },
  {
   "cell_type": "markdown",
   "metadata": {},
   "source": [
    "<b> Вывод: </b> \n",
    "1. Была написана функция для вычисления  итоговой sMAPE\n",
    "2. Были подобраны гиперпараметры и обучены три модели - Случайный лес, дерево решений, линейная регрессия.\n",
    "3. Минимальное значение метрики smape, при оценки качества кросс-валидацией, показала модель случайного леса.\n",
    "4. На тестовой выборке значение smape модели - 10%.\n"
   ]
  }
 ],
 "metadata": {
  "ExecuteTimeLog": [
   {
    "duration": 416,
    "start_time": "2021-10-05T16:51:46.563Z"
   },
   {
    "duration": 694,
    "start_time": "2021-10-05T16:51:48.465Z"
   },
   {
    "duration": 1872,
    "start_time": "2021-10-05T16:51:50.019Z"
   },
   {
    "duration": 1675,
    "start_time": "2021-10-05T16:52:19.772Z"
   },
   {
    "duration": 856,
    "start_time": "2021-10-05T16:52:24.423Z"
   },
   {
    "duration": 81,
    "start_time": "2021-10-05T16:53:47.395Z"
   },
   {
    "duration": 32,
    "start_time": "2021-10-05T16:53:54.227Z"
   },
   {
    "duration": 272,
    "start_time": "2021-10-05T16:53:59.016Z"
   },
   {
    "duration": 354,
    "start_time": "2021-10-05T16:54:08.247Z"
   },
   {
    "duration": 567,
    "start_time": "2021-10-05T16:54:19.632Z"
   },
   {
    "duration": 25,
    "start_time": "2021-10-05T16:54:24.122Z"
   },
   {
    "duration": 32,
    "start_time": "2021-10-05T16:54:31.229Z"
   },
   {
    "duration": 34,
    "start_time": "2021-10-05T16:55:31.451Z"
   },
   {
    "duration": 30,
    "start_time": "2021-10-05T16:55:37.334Z"
   },
   {
    "duration": 344,
    "start_time": "2021-10-05T16:55:43.796Z"
   },
   {
    "duration": 34,
    "start_time": "2021-10-05T16:55:55.941Z"
   },
   {
    "duration": 3,
    "start_time": "2021-10-05T17:04:08.554Z"
   },
   {
    "duration": 876,
    "start_time": "2021-10-05T17:04:17.792Z"
   },
   {
    "duration": 30,
    "start_time": "2021-10-05T17:04:23.777Z"
   },
   {
    "duration": 16,
    "start_time": "2021-10-05T17:39:45.161Z"
   },
   {
    "duration": 12,
    "start_time": "2021-10-05T17:42:49.740Z"
   },
   {
    "duration": 244,
    "start_time": "2021-10-05T17:43:33.808Z"
   },
   {
    "duration": 327,
    "start_time": "2021-10-05T17:43:37.905Z"
   },
   {
    "duration": 354,
    "start_time": "2021-10-05T17:43:42.600Z"
   },
   {
    "duration": 4,
    "start_time": "2021-10-05T17:45:55.025Z"
   },
   {
    "duration": 5,
    "start_time": "2021-10-05T17:46:03.200Z"
   },
   {
    "duration": 4,
    "start_time": "2021-10-05T17:46:11.449Z"
   },
   {
    "duration": 60,
    "start_time": "2021-10-05T17:49:19.292Z"
   },
   {
    "duration": 4,
    "start_time": "2021-10-05T17:50:02.098Z"
   },
   {
    "duration": 40,
    "start_time": "2021-10-05T17:50:04.050Z"
   },
   {
    "duration": 6744,
    "start_time": "2021-10-05T17:59:18.084Z"
   },
   {
    "duration": 991,
    "start_time": "2021-10-05T17:59:57.168Z"
   },
   {
    "duration": 252,
    "start_time": "2021-10-05T18:00:31.959Z"
   },
   {
    "duration": 316,
    "start_time": "2021-10-05T18:01:48.562Z"
   },
   {
    "duration": 3,
    "start_time": "2021-10-05T18:02:37.555Z"
   },
   {
    "duration": 9054,
    "start_time": "2021-10-05T18:02:43.798Z"
   },
   {
    "duration": 273,
    "start_time": "2021-10-05T18:05:30.282Z"
   },
   {
    "duration": 258,
    "start_time": "2021-10-05T18:06:26.415Z"
   },
   {
    "duration": 240,
    "start_time": "2021-10-05T18:06:36.310Z"
   },
   {
    "duration": 258,
    "start_time": "2021-10-05T18:08:48.885Z"
   },
   {
    "duration": 5,
    "start_time": "2021-10-05T18:08:54.607Z"
   },
   {
    "duration": 26,
    "start_time": "2021-10-05T18:09:31.887Z"
   },
   {
    "duration": 57,
    "start_time": "2021-10-05T18:09:38.092Z"
   },
   {
    "duration": 31,
    "start_time": "2021-10-05T18:10:12.228Z"
   },
   {
    "duration": 49,
    "start_time": "2021-10-05T18:10:19.062Z"
   },
   {
    "duration": 52,
    "start_time": "2021-10-05T18:10:57.508Z"
   },
   {
    "duration": 42,
    "start_time": "2021-10-05T18:11:07.261Z"
   },
   {
    "duration": 897,
    "start_time": "2021-10-05T18:12:19.856Z"
   },
   {
    "duration": 280,
    "start_time": "2021-10-05T18:12:28.256Z"
   },
   {
    "duration": 292,
    "start_time": "2021-10-05T18:12:58.255Z"
   },
   {
    "duration": 284,
    "start_time": "2021-10-05T18:13:02.579Z"
   },
   {
    "duration": 33,
    "start_time": "2021-10-05T18:13:12.255Z"
   },
   {
    "duration": 48,
    "start_time": "2021-10-05T18:14:52.003Z"
   },
   {
    "duration": 860,
    "start_time": "2021-10-05T18:16:27.503Z"
   },
   {
    "duration": 33,
    "start_time": "2021-10-05T18:16:35.356Z"
   },
   {
    "duration": 870,
    "start_time": "2021-10-05T18:17:40.482Z"
   },
   {
    "duration": 30,
    "start_time": "2021-10-05T18:17:46.862Z"
   },
   {
    "duration": 981,
    "start_time": "2021-10-05T18:17:57.104Z"
   },
   {
    "duration": 20,
    "start_time": "2021-10-05T18:18:05.525Z"
   },
   {
    "duration": 11,
    "start_time": "2021-10-05T18:18:10.040Z"
   },
   {
    "duration": 17,
    "start_time": "2021-10-05T18:18:23.289Z"
   },
   {
    "duration": 50,
    "start_time": "2021-10-05T18:18:29.314Z"
   },
   {
    "duration": 13,
    "start_time": "2021-10-05T18:18:35.535Z"
   },
   {
    "duration": 591,
    "start_time": "2021-10-06T11:31:25.538Z"
   },
   {
    "duration": 671,
    "start_time": "2021-10-06T11:31:26.328Z"
   },
   {
    "duration": 15,
    "start_time": "2021-10-06T11:31:28.904Z"
   },
   {
    "duration": 10,
    "start_time": "2021-10-06T11:31:31.221Z"
   },
   {
    "duration": 23,
    "start_time": "2021-10-06T11:32:39.938Z"
   },
   {
    "duration": 24,
    "start_time": "2021-10-06T11:32:48.388Z"
   },
   {
    "duration": 2,
    "start_time": "2021-10-06T11:33:36.732Z"
   },
   {
    "duration": 672,
    "start_time": "2021-10-06T11:33:37.438Z"
   },
   {
    "duration": 24,
    "start_time": "2021-10-06T11:33:39.028Z"
   },
   {
    "duration": 10,
    "start_time": "2021-10-06T11:33:41.486Z"
   },
   {
    "duration": 29,
    "start_time": "2021-10-06T11:33:47.981Z"
   },
   {
    "duration": 2,
    "start_time": "2021-10-06T11:33:59.893Z"
   },
   {
    "duration": 648,
    "start_time": "2021-10-06T11:34:00.557Z"
   },
   {
    "duration": 26,
    "start_time": "2021-10-06T11:34:02.016Z"
   },
   {
    "duration": 9,
    "start_time": "2021-10-06T11:34:04.728Z"
   },
   {
    "duration": 32,
    "start_time": "2021-10-06T11:36:16.531Z"
   },
   {
    "duration": 2,
    "start_time": "2021-10-06T11:36:38.352Z"
   },
   {
    "duration": 787,
    "start_time": "2021-10-06T11:36:38.985Z"
   },
   {
    "duration": 22,
    "start_time": "2021-10-06T11:36:41.417Z"
   },
   {
    "duration": 268,
    "start_time": "2021-10-06T12:04:32.868Z"
   },
   {
    "duration": 22,
    "start_time": "2021-10-06T12:04:42.269Z"
   },
   {
    "duration": 225,
    "start_time": "2021-10-06T12:07:29.882Z"
   },
   {
    "duration": 2,
    "start_time": "2021-10-06T12:07:38.685Z"
   },
   {
    "duration": 221,
    "start_time": "2021-10-06T12:07:43.500Z"
   },
   {
    "duration": 249,
    "start_time": "2021-10-06T12:07:58.034Z"
   },
   {
    "duration": 2,
    "start_time": "2021-10-06T12:08:06.064Z"
   },
   {
    "duration": 650,
    "start_time": "2021-10-06T12:08:07.122Z"
   },
   {
    "duration": 750,
    "start_time": "2021-10-06T12:08:08.806Z"
   },
   {
    "duration": 25,
    "start_time": "2021-10-06T12:08:11.066Z"
   },
   {
    "duration": 10,
    "start_time": "2021-10-06T12:08:24.749Z"
   },
   {
    "duration": 23,
    "start_time": "2021-10-06T12:08:26.757Z"
   },
   {
    "duration": 7,
    "start_time": "2021-10-06T14:22:57.187Z"
   },
   {
    "duration": 14,
    "start_time": "2021-10-06T14:23:10.249Z"
   },
   {
    "duration": 21,
    "start_time": "2021-10-06T14:23:39.466Z"
   },
   {
    "duration": 221,
    "start_time": "2021-10-06T14:23:48.506Z"
   },
   {
    "duration": 2,
    "start_time": "2021-10-06T14:24:13.941Z"
   },
   {
    "duration": 707,
    "start_time": "2021-10-06T14:24:14.725Z"
   },
   {
    "duration": 25,
    "start_time": "2021-10-06T14:24:16.290Z"
   },
   {
    "duration": 23,
    "start_time": "2021-10-06T14:24:19.310Z"
   },
   {
    "duration": 17,
    "start_time": "2021-10-06T14:24:23.552Z"
   },
   {
    "duration": 31,
    "start_time": "2021-10-06T14:27:06.152Z"
   },
   {
    "duration": 16,
    "start_time": "2021-10-06T14:27:23.812Z"
   },
   {
    "duration": 1797,
    "start_time": "2021-10-06T14:27:43.360Z"
   },
   {
    "duration": 14,
    "start_time": "2021-10-06T14:28:23.163Z"
   },
   {
    "duration": 3,
    "start_time": "2021-10-06T14:29:54.559Z"
   },
   {
    "duration": 704,
    "start_time": "2021-10-06T14:29:55.546Z"
   },
   {
    "duration": 26,
    "start_time": "2021-10-06T14:29:56.943Z"
   },
   {
    "duration": 24,
    "start_time": "2021-10-06T14:30:00.660Z"
   },
   {
    "duration": 17,
    "start_time": "2021-10-06T14:30:04.530Z"
   },
   {
    "duration": 11,
    "start_time": "2021-10-06T14:30:17.547Z"
   },
   {
    "duration": 1808,
    "start_time": "2021-10-06T14:30:33.400Z"
   },
   {
    "duration": 1707,
    "start_time": "2021-10-06T14:34:00.076Z"
   },
   {
    "duration": 454,
    "start_time": "2021-10-06T14:49:06.171Z"
   },
   {
    "duration": 8,
    "start_time": "2021-10-06T14:53:31.995Z"
   },
   {
    "duration": 249,
    "start_time": "2021-10-06T15:59:54.193Z"
   },
   {
    "duration": 3,
    "start_time": "2021-10-06T16:00:08.618Z"
   },
   {
    "duration": 213,
    "start_time": "2021-10-06T16:00:15.081Z"
   },
   {
    "duration": 1921,
    "start_time": "2021-10-06T16:00:46.461Z"
   },
   {
    "duration": 1746,
    "start_time": "2021-10-06T16:00:54.246Z"
   },
   {
    "duration": 213,
    "start_time": "2021-10-06T16:01:11.096Z"
   },
   {
    "duration": 229,
    "start_time": "2021-10-06T16:01:17.312Z"
   },
   {
    "duration": 16,
    "start_time": "2021-10-06T16:01:26.703Z"
   },
   {
    "duration": 230,
    "start_time": "2021-10-06T17:05:16.877Z"
   },
   {
    "duration": 15,
    "start_time": "2021-10-06T17:07:13.129Z"
   },
   {
    "duration": 1762,
    "start_time": "2021-10-06T17:08:07.631Z"
   },
   {
    "duration": 15,
    "start_time": "2021-10-06T17:08:25.113Z"
   },
   {
    "duration": 209,
    "start_time": "2021-10-06T17:08:38.392Z"
   },
   {
    "duration": 7,
    "start_time": "2021-10-06T17:08:46.179Z"
   },
   {
    "duration": 119,
    "start_time": "2021-10-06T17:08:49.029Z"
   },
   {
    "duration": 6,
    "start_time": "2021-10-06T17:10:53.851Z"
   },
   {
    "duration": 225,
    "start_time": "2021-10-06T17:13:11.315Z"
   },
   {
    "duration": 221,
    "start_time": "2021-10-06T17:13:31.222Z"
   },
   {
    "duration": 3,
    "start_time": "2021-10-06T17:13:42.125Z"
   },
   {
    "duration": 96055,
    "start_time": "2021-10-06T17:13:45.866Z"
   },
   {
    "duration": 280016,
    "start_time": "2021-10-06T17:16:19.967Z"
   },
   {
    "duration": 3,
    "start_time": "2021-10-06T17:21:18.002Z"
   },
   {
    "duration": 660,
    "start_time": "2021-10-06T17:21:18.946Z"
   },
   {
    "duration": 22,
    "start_time": "2021-10-06T17:21:23.255Z"
   },
   {
    "duration": 16,
    "start_time": "2021-10-06T17:21:25.667Z"
   },
   {
    "duration": 7,
    "start_time": "2021-10-06T17:21:28.190Z"
   },
   {
    "duration": 7,
    "start_time": "2021-10-06T17:21:35.891Z"
   },
   {
    "duration": 11,
    "start_time": "2021-10-06T17:22:40.863Z"
   },
   {
    "duration": 226,
    "start_time": "2021-10-06T17:23:11.985Z"
   },
   {
    "duration": 465,
    "start_time": "2021-10-06T17:23:29.877Z"
   },
   {
    "duration": 153,
    "start_time": "2021-10-06T17:23:36.592Z"
   },
   {
    "duration": 291,
    "start_time": "2021-10-06T17:23:59.409Z"
   },
   {
    "duration": 413,
    "start_time": "2021-10-06T17:24:16.637Z"
   },
   {
    "duration": 5,
    "start_time": "2021-10-06T17:25:13.069Z"
   },
   {
    "duration": 69027,
    "start_time": "2021-10-06T17:25:43.678Z"
   },
   {
    "duration": 7,
    "start_time": "2021-10-06T17:31:43.377Z"
   },
   {
    "duration": 6,
    "start_time": "2021-10-06T17:31:46.558Z"
   },
   {
    "duration": 8,
    "start_time": "2021-10-06T17:31:54.061Z"
   },
   {
    "duration": 28,
    "start_time": "2021-10-06T17:31:55.017Z"
   },
   {
    "duration": 5,
    "start_time": "2021-10-06T17:31:56.388Z"
   },
   {
    "duration": 17,
    "start_time": "2021-10-06T17:43:24.063Z"
   },
   {
    "duration": 7,
    "start_time": "2021-10-06T17:47:13.084Z"
   },
   {
    "duration": 7,
    "start_time": "2021-10-06T17:47:21.844Z"
   },
   {
    "duration": 12,
    "start_time": "2021-10-06T17:47:32.212Z"
   },
   {
    "duration": 9,
    "start_time": "2021-10-06T17:48:02.422Z"
   },
   {
    "duration": 8,
    "start_time": "2021-10-06T17:49:02.212Z"
   },
   {
    "duration": 11,
    "start_time": "2021-10-06T17:49:25.411Z"
   },
   {
    "duration": 217,
    "start_time": "2021-10-06T17:49:57.433Z"
   },
   {
    "duration": 9,
    "start_time": "2021-10-06T17:50:26.111Z"
   },
   {
    "duration": 12,
    "start_time": "2021-10-06T17:51:08.594Z"
   },
   {
    "duration": 11,
    "start_time": "2021-10-06T17:58:18.470Z"
   },
   {
    "duration": 81,
    "start_time": "2021-10-06T18:15:21.650Z"
   },
   {
    "duration": 245,
    "start_time": "2021-10-06T18:15:26.610Z"
   },
   {
    "duration": 172,
    "start_time": "2021-10-06T18:15:49.778Z"
   },
   {
    "duration": 168,
    "start_time": "2021-10-06T18:15:54.007Z"
   },
   {
    "duration": 177,
    "start_time": "2021-10-06T18:15:58.690Z"
   },
   {
    "duration": 168,
    "start_time": "2021-10-06T18:16:03.634Z"
   },
   {
    "duration": 176,
    "start_time": "2021-10-06T18:16:08.150Z"
   },
   {
    "duration": 169,
    "start_time": "2021-10-06T18:16:21.520Z"
   },
   {
    "duration": 167,
    "start_time": "2021-10-06T18:16:26.292Z"
   },
   {
    "duration": 173,
    "start_time": "2021-10-06T18:16:30.731Z"
   },
   {
    "duration": 235,
    "start_time": "2021-10-06T18:16:35.689Z"
   },
   {
    "duration": 181,
    "start_time": "2021-10-06T18:17:14.294Z"
   },
   {
    "duration": 96,
    "start_time": "2021-10-06T18:23:55.703Z"
   },
   {
    "duration": 390,
    "start_time": "2021-10-06T18:23:59.044Z"
   },
   {
    "duration": 247,
    "start_time": "2021-10-06T18:24:23.098Z"
   },
   {
    "duration": 364,
    "start_time": "2021-10-06T18:24:31.740Z"
   },
   {
    "duration": 177,
    "start_time": "2021-10-06T18:24:40.212Z"
   },
   {
    "duration": 276,
    "start_time": "2021-10-06T18:24:50.111Z"
   },
   {
    "duration": 265,
    "start_time": "2021-10-06T18:24:57.110Z"
   },
   {
    "duration": 171,
    "start_time": "2021-10-06T18:25:26.282Z"
   },
   {
    "duration": 182,
    "start_time": "2021-10-06T18:25:36.623Z"
   },
   {
    "duration": 239,
    "start_time": "2021-10-06T18:25:44.600Z"
   },
   {
    "duration": 176,
    "start_time": "2021-10-06T18:25:50.895Z"
   },
   {
    "duration": 449,
    "start_time": "2021-10-06T18:26:55.114Z"
   },
   {
    "duration": 429,
    "start_time": "2021-10-06T18:27:04.192Z"
   },
   {
    "duration": 458,
    "start_time": "2021-10-06T18:27:26.434Z"
   },
   {
    "duration": 180,
    "start_time": "2021-10-06T18:27:39.822Z"
   },
   {
    "duration": 218,
    "start_time": "2021-10-06T18:28:56.148Z"
   },
   {
    "duration": 200,
    "start_time": "2021-10-06T18:29:10.567Z"
   },
   {
    "duration": 216,
    "start_time": "2021-10-06T18:31:30.577Z"
   },
   {
    "duration": 8,
    "start_time": "2021-10-06T18:32:04.475Z"
   },
   {
    "duration": 7,
    "start_time": "2021-10-06T18:35:14.868Z"
   },
   {
    "duration": 13,
    "start_time": "2021-10-06T18:36:42.460Z"
   },
   {
    "duration": 10,
    "start_time": "2021-10-06T18:38:59.293Z"
   },
   {
    "duration": 10,
    "start_time": "2021-10-06T18:39:43.930Z"
   },
   {
    "duration": 14,
    "start_time": "2021-10-06T18:41:38.011Z"
   },
   {
    "duration": 188,
    "start_time": "2021-10-06T18:45:09.291Z"
   },
   {
    "duration": 5183,
    "start_time": "2021-10-06T18:45:31.414Z"
   },
   {
    "duration": 15,
    "start_time": "2021-10-06T18:46:35.192Z"
   },
   {
    "duration": 23,
    "start_time": "2021-10-06T18:47:12.544Z"
   },
   {
    "duration": 1359,
    "start_time": "2021-10-07T07:32:28.283Z"
   },
   {
    "duration": 893,
    "start_time": "2021-10-07T07:32:29.644Z"
   },
   {
    "duration": 62,
    "start_time": "2021-10-07T07:32:30.540Z"
   },
   {
    "duration": 23,
    "start_time": "2021-10-07T07:32:30.605Z"
   },
   {
    "duration": 18,
    "start_time": "2021-10-07T07:32:30.630Z"
   },
   {
    "duration": 71,
    "start_time": "2021-10-07T07:32:30.650Z"
   },
   {
    "duration": 24,
    "start_time": "2021-10-07T07:32:30.723Z"
   },
   {
    "duration": 14,
    "start_time": "2021-10-07T07:32:30.751Z"
   },
   {
    "duration": 37,
    "start_time": "2021-10-07T07:32:30.768Z"
   },
   {
    "duration": 19,
    "start_time": "2021-10-07T07:32:30.808Z"
   },
   {
    "duration": 273,
    "start_time": "2021-10-07T07:32:30.830Z"
   },
   {
    "duration": 7,
    "start_time": "2021-10-07T07:32:31.106Z"
   },
   {
    "duration": 93402,
    "start_time": "2021-10-07T07:32:31.115Z"
   },
   {
    "duration": 15,
    "start_time": "2021-10-07T07:34:04.520Z"
   },
   {
    "duration": 15,
    "start_time": "2021-10-07T07:34:04.538Z"
   },
   {
    "duration": 47,
    "start_time": "2021-10-07T07:34:04.556Z"
   },
   {
    "duration": 14,
    "start_time": "2021-10-07T07:34:04.606Z"
   },
   {
    "duration": 487,
    "start_time": "2021-10-07T07:34:04.623Z"
   },
   {
    "duration": 38,
    "start_time": "2021-10-07T07:34:05.113Z"
   },
   {
    "duration": 5,
    "start_time": "2021-10-07T07:34:05.153Z"
   },
   {
    "duration": 414,
    "start_time": "2021-10-07T07:41:04.865Z"
   },
   {
    "duration": 95,
    "start_time": "2021-10-07T08:05:31.456Z"
   },
   {
    "duration": 5,
    "start_time": "2021-10-07T08:05:35.032Z"
   },
   {
    "duration": 248,
    "start_time": "2021-10-07T08:06:48.465Z"
   },
   {
    "duration": 6,
    "start_time": "2021-10-07T08:07:16.437Z"
   },
   {
    "duration": 5,
    "start_time": "2021-10-07T08:07:20.671Z"
   },
   {
    "duration": 317,
    "start_time": "2021-10-07T08:07:30.641Z"
   },
   {
    "duration": 1259,
    "start_time": "2021-10-07T08:07:50.545Z"
   },
   {
    "duration": 1512,
    "start_time": "2021-10-07T08:07:56.292Z"
   },
   {
    "duration": 512,
    "start_time": "2021-10-07T08:08:33.406Z"
   },
   {
    "duration": 6,
    "start_time": "2021-10-07T08:09:32.104Z"
   },
   {
    "duration": 305,
    "start_time": "2021-10-07T08:09:33.782Z"
   },
   {
    "duration": 346,
    "start_time": "2021-10-07T08:10:30.646Z"
   },
   {
    "duration": 301,
    "start_time": "2021-10-07T08:10:52.295Z"
   },
   {
    "duration": 441,
    "start_time": "2021-10-07T08:11:34.451Z"
   },
   {
    "duration": 85,
    "start_time": "2021-10-07T08:13:22.638Z"
   },
   {
    "duration": 331,
    "start_time": "2021-10-07T08:13:27.163Z"
   },
   {
    "duration": 6,
    "start_time": "2021-10-07T08:17:32.160Z"
   },
   {
    "duration": 137,
    "start_time": "2021-10-07T08:18:35.210Z"
   },
   {
    "duration": 336,
    "start_time": "2021-10-07T08:18:38.073Z"
   },
   {
    "duration": 139,
    "start_time": "2021-10-07T08:19:07.068Z"
   },
   {
    "duration": 158,
    "start_time": "2021-10-07T08:19:20.713Z"
   },
   {
    "duration": 104229,
    "start_time": "2021-10-07T08:19:36.145Z"
   },
   {
    "duration": -845,
    "start_time": "2021-10-07T08:21:21.222Z"
   },
   {
    "duration": -851,
    "start_time": "2021-10-07T08:21:21.229Z"
   },
   {
    "duration": 112213,
    "start_time": "2021-10-07T08:22:18.886Z"
   },
   {
    "duration": -744,
    "start_time": "2021-10-07T08:24:11.846Z"
   },
   {
    "duration": 1798295,
    "start_time": "2021-10-07T08:45:01.382Z"
   },
   {
    "duration": -683,
    "start_time": "2021-10-07T09:15:00.366Z"
   },
   {
    "duration": -721,
    "start_time": "2021-10-07T09:15:00.416Z"
   },
   {
    "duration": 4,
    "start_time": "2021-10-07T09:15:11.603Z"
   },
   {
    "duration": 5,
    "start_time": "2021-10-07T09:15:14.499Z"
   },
   {
    "duration": 353,
    "start_time": "2021-10-07T09:15:46.042Z"
   },
   {
    "duration": 1346,
    "start_time": "2021-10-07T09:16:08.633Z"
   },
   {
    "duration": 915,
    "start_time": "2021-10-07T09:16:09.982Z"
   },
   {
    "duration": 50,
    "start_time": "2021-10-07T09:16:10.902Z"
   },
   {
    "duration": 23,
    "start_time": "2021-10-07T09:16:10.955Z"
   },
   {
    "duration": 16,
    "start_time": "2021-10-07T09:16:11.001Z"
   },
   {
    "duration": 50,
    "start_time": "2021-10-07T09:16:11.020Z"
   },
   {
    "duration": 64,
    "start_time": "2021-10-07T09:16:11.073Z"
   },
   {
    "duration": 19,
    "start_time": "2021-10-07T09:16:11.144Z"
   },
   {
    "duration": 41,
    "start_time": "2021-10-07T09:16:11.168Z"
   },
   {
    "duration": 21,
    "start_time": "2021-10-07T09:16:11.212Z"
   },
   {
    "duration": 267,
    "start_time": "2021-10-07T09:16:11.236Z"
   },
   {
    "duration": 96,
    "start_time": "2021-10-07T09:16:11.508Z"
   },
   {
    "duration": 95094,
    "start_time": "2021-10-07T09:16:11.607Z"
   },
   {
    "duration": 13,
    "start_time": "2021-10-07T09:17:46.704Z"
   },
   {
    "duration": 16,
    "start_time": "2021-10-07T09:17:46.720Z"
   },
   {
    "duration": 21,
    "start_time": "2021-10-07T09:17:46.738Z"
   },
   {
    "duration": 15,
    "start_time": "2021-10-07T09:17:46.761Z"
   },
   {
    "duration": 473,
    "start_time": "2021-10-07T09:17:46.800Z"
   },
   {
    "duration": 46,
    "start_time": "2021-10-07T09:17:47.276Z"
   },
   {
    "duration": 5,
    "start_time": "2021-10-07T09:17:47.325Z"
   },
   {
    "duration": 154,
    "start_time": "2021-10-07T09:17:47.333Z"
   },
   {
    "duration": 10,
    "start_time": "2021-10-07T09:17:47.490Z"
   },
   {
    "duration": 20852,
    "start_time": "2021-10-07T09:17:47.504Z"
   },
   {
    "duration": 6,
    "start_time": "2021-10-07T09:21:46.109Z"
   },
   {
    "duration": 22475,
    "start_time": "2021-10-07T09:21:49.548Z"
   },
   {
    "duration": 281,
    "start_time": "2021-10-07T09:24:10.666Z"
   },
   {
    "duration": 322,
    "start_time": "2021-10-07T09:24:33.019Z"
   },
   {
    "duration": 264,
    "start_time": "2021-10-07T09:24:44.350Z"
   },
   {
    "duration": 5,
    "start_time": "2021-10-07T09:25:15.526Z"
   },
   {
    "duration": 22496,
    "start_time": "2021-10-07T09:25:21.447Z"
   },
   {
    "duration": 12267,
    "start_time": "2021-10-07T09:27:31.065Z"
   },
   {
    "duration": 6,
    "start_time": "2021-10-07T09:28:03.676Z"
   },
   {
    "duration": 554,
    "start_time": "2021-10-07T09:28:27.099Z"
   },
   {
    "duration": 269,
    "start_time": "2021-10-07T09:28:48.064Z"
   },
   {
    "duration": 253,
    "start_time": "2021-10-07T09:29:39.252Z"
   },
   {
    "duration": 1642,
    "start_time": "2021-10-07T09:29:47.481Z"
   },
   {
    "duration": 888,
    "start_time": "2021-10-07T09:29:49.126Z"
   },
   {
    "duration": 52,
    "start_time": "2021-10-07T09:29:50.017Z"
   },
   {
    "duration": 45,
    "start_time": "2021-10-07T09:29:50.072Z"
   },
   {
    "duration": 17,
    "start_time": "2021-10-07T09:29:50.121Z"
   },
   {
    "duration": 66,
    "start_time": "2021-10-07T09:29:50.141Z"
   },
   {
    "duration": 25,
    "start_time": "2021-10-07T09:29:50.210Z"
   },
   {
    "duration": 14,
    "start_time": "2021-10-07T09:29:50.240Z"
   },
   {
    "duration": 44,
    "start_time": "2021-10-07T09:29:50.257Z"
   },
   {
    "duration": 17,
    "start_time": "2021-10-07T09:29:50.304Z"
   },
   {
    "duration": 380,
    "start_time": "2021-10-07T09:29:50.324Z"
   },
   {
    "duration": 94,
    "start_time": "2021-10-07T09:29:50.708Z"
   },
   {
    "duration": 94594,
    "start_time": "2021-10-07T09:29:50.806Z"
   },
   {
    "duration": 12,
    "start_time": "2021-10-07T09:31:25.403Z"
   },
   {
    "duration": 13,
    "start_time": "2021-10-07T09:31:25.417Z"
   },
   {
    "duration": 14,
    "start_time": "2021-10-07T09:31:25.432Z"
   },
   {
    "duration": 20,
    "start_time": "2021-10-07T09:31:25.449Z"
   },
   {
    "duration": 466,
    "start_time": "2021-10-07T09:31:25.501Z"
   },
   {
    "duration": 49,
    "start_time": "2021-10-07T09:31:25.970Z"
   },
   {
    "duration": 4,
    "start_time": "2021-10-07T09:31:26.021Z"
   },
   {
    "duration": 155,
    "start_time": "2021-10-07T09:31:26.028Z"
   },
   {
    "duration": 24645,
    "start_time": "2021-10-07T09:31:26.185Z"
   },
   {
    "duration": 533,
    "start_time": "2021-10-07T09:51:53.150Z"
   },
   {
    "duration": 5,
    "start_time": "2021-10-07T10:06:58.103Z"
   },
   {
    "duration": 324,
    "start_time": "2021-10-07T10:06:59.570Z"
   },
   {
    "duration": 6,
    "start_time": "2021-10-07T10:07:07.150Z"
   },
   {
    "duration": 19909,
    "start_time": "2021-10-07T10:09:50.050Z"
   },
   {
    "duration": 14,
    "start_time": "2021-10-07T10:15:14.602Z"
   },
   {
    "duration": 11,
    "start_time": "2021-10-07T10:15:15.841Z"
   },
   {
    "duration": 207,
    "start_time": "2021-10-07T10:15:18.801Z"
   },
   {
    "duration": 278,
    "start_time": "2021-10-07T10:15:20.292Z"
   },
   {
    "duration": 25,
    "start_time": "2021-10-07T10:20:00.235Z"
   },
   {
    "duration": 24,
    "start_time": "2021-10-07T10:20:05.598Z"
   },
   {
    "duration": 13,
    "start_time": "2021-10-07T10:20:13.036Z"
   },
   {
    "duration": 232,
    "start_time": "2021-10-07T10:21:14.670Z"
   },
   {
    "duration": 297,
    "start_time": "2021-10-07T10:21:28.641Z"
   },
   {
    "duration": 31,
    "start_time": "2021-10-07T10:24:02.210Z"
   },
   {
    "duration": 15,
    "start_time": "2021-10-07T10:24:08.693Z"
   },
   {
    "duration": 9,
    "start_time": "2021-10-07T10:24:19.821Z"
   },
   {
    "duration": 10,
    "start_time": "2021-10-07T10:24:28.262Z"
   },
   {
    "duration": 9,
    "start_time": "2021-10-07T10:24:55.404Z"
   },
   {
    "duration": 11,
    "start_time": "2021-10-07T10:25:00.327Z"
   },
   {
    "duration": 11,
    "start_time": "2021-10-07T10:25:15.564Z"
   },
   {
    "duration": 576,
    "start_time": "2021-10-07T10:25:35.780Z"
   },
   {
    "duration": 271,
    "start_time": "2021-10-07T10:25:48.753Z"
   },
   {
    "duration": 85,
    "start_time": "2021-10-07T10:25:52.547Z"
   },
   {
    "duration": 14,
    "start_time": "2021-10-07T10:26:03.704Z"
   },
   {
    "duration": 12,
    "start_time": "2021-10-07T10:26:19.864Z"
   },
   {
    "duration": 10,
    "start_time": "2021-10-07T10:28:15.319Z"
   },
   {
    "duration": 8,
    "start_time": "2021-10-07T10:28:22.703Z"
   },
   {
    "duration": 6507,
    "start_time": "2021-10-07T10:32:31.159Z"
   },
   {
    "duration": 7538,
    "start_time": "2021-10-07T10:32:47.136Z"
   },
   {
    "duration": 6618,
    "start_time": "2021-10-07T10:32:59.183Z"
   },
   {
    "duration": 6608,
    "start_time": "2021-10-07T10:33:21.734Z"
   },
   {
    "duration": 263,
    "start_time": "2021-10-07T10:33:31.438Z"
   },
   {
    "duration": 89,
    "start_time": "2021-10-07T10:33:55.336Z"
   },
   {
    "duration": 2400,
    "start_time": "2021-10-07T10:35:08.169Z"
   },
   {
    "duration": 2335,
    "start_time": "2021-10-07T10:36:00.710Z"
   },
   {
    "duration": -507,
    "start_time": "2021-10-07T10:36:11.461Z"
   },
   {
    "duration": 8,
    "start_time": "2021-10-07T10:36:24.324Z"
   },
   {
    "duration": 6407,
    "start_time": "2021-10-07T10:36:34.205Z"
   },
   {
    "duration": 2196,
    "start_time": "2021-10-07T10:36:45.549Z"
   },
   {
    "duration": 7205,
    "start_time": "2021-10-07T10:37:07.851Z"
   },
   {
    "duration": 297,
    "start_time": "2021-10-07T10:38:04.454Z"
   },
   {
    "duration": 7,
    "start_time": "2021-10-07T10:38:26.666Z"
   },
   {
    "duration": -463,
    "start_time": "2021-10-07T10:39:46.287Z"
   },
   {
    "duration": 6,
    "start_time": "2021-10-07T11:04:03.144Z"
   },
   {
    "duration": 346,
    "start_time": "2021-10-07T11:04:23.084Z"
   },
   {
    "duration": 6,
    "start_time": "2021-10-07T11:04:41.766Z"
   },
   {
    "duration": 259,
    "start_time": "2021-10-07T11:04:46.480Z"
   },
   {
    "duration": 299,
    "start_time": "2021-10-07T11:04:53.886Z"
   },
   {
    "duration": 7,
    "start_time": "2021-10-07T11:05:36.795Z"
   },
   {
    "duration": 9,
    "start_time": "2021-10-07T11:06:01.732Z"
   },
   {
    "duration": 8,
    "start_time": "2021-10-07T11:06:28.007Z"
   },
   {
    "duration": 271,
    "start_time": "2021-10-07T11:07:18.049Z"
   },
   {
    "duration": 13,
    "start_time": "2021-10-07T11:07:51.853Z"
   },
   {
    "duration": 17,
    "start_time": "2021-10-07T11:07:58.598Z"
   },
   {
    "duration": 11,
    "start_time": "2021-10-07T11:08:07.057Z"
   },
   {
    "duration": 10,
    "start_time": "2021-10-07T11:08:12.692Z"
   },
   {
    "duration": 12,
    "start_time": "2021-10-07T11:10:24.300Z"
   },
   {
    "duration": 12,
    "start_time": "2021-10-07T11:10:50.993Z"
   },
   {
    "duration": 6,
    "start_time": "2021-10-07T11:15:47.586Z"
   },
   {
    "duration": 36,
    "start_time": "2021-10-07T11:15:56.346Z"
   },
   {
    "duration": 47,
    "start_time": "2021-10-07T11:16:02.825Z"
   },
   {
    "duration": 371,
    "start_time": "2021-10-07T11:17:58.735Z"
   },
   {
    "duration": 285,
    "start_time": "2021-10-07T11:19:23.132Z"
   },
   {
    "duration": 275,
    "start_time": "2021-10-07T11:19:32.063Z"
   },
   {
    "duration": 6,
    "start_time": "2021-10-07T11:19:39.011Z"
   },
   {
    "duration": 4,
    "start_time": "2021-10-07T11:19:51.963Z"
   },
   {
    "duration": 289,
    "start_time": "2021-10-07T11:20:12.056Z"
   },
   {
    "duration": 4,
    "start_time": "2021-10-07T11:20:16.500Z"
   },
   {
    "duration": 13,
    "start_time": "2021-10-07T11:21:18.309Z"
   },
   {
    "duration": 7,
    "start_time": "2021-10-07T11:21:23.899Z"
   },
   {
    "duration": 280,
    "start_time": "2021-10-07T11:21:31.601Z"
   },
   {
    "duration": 260,
    "start_time": "2021-10-07T11:21:35.831Z"
   },
   {
    "duration": 6,
    "start_time": "2021-10-07T11:21:37.979Z"
   },
   {
    "duration": 6,
    "start_time": "2021-10-07T11:38:55.985Z"
   },
   {
    "duration": 7,
    "start_time": "2021-10-07T11:39:02.779Z"
   },
   {
    "duration": 6,
    "start_time": "2021-10-07T11:39:09.913Z"
   },
   {
    "duration": 6,
    "start_time": "2021-10-07T11:39:17.199Z"
   },
   {
    "duration": 6,
    "start_time": "2021-10-07T11:40:32.764Z"
   },
   {
    "duration": 5,
    "start_time": "2021-10-07T11:40:37.227Z"
   },
   {
    "duration": 5,
    "start_time": "2021-10-07T11:40:42.832Z"
   },
   {
    "duration": 5,
    "start_time": "2021-10-07T11:41:01.265Z"
   },
   {
    "duration": 6,
    "start_time": "2021-10-07T11:41:33.577Z"
   },
   {
    "duration": 6,
    "start_time": "2021-10-07T11:41:47.674Z"
   },
   {
    "duration": 6,
    "start_time": "2021-10-07T11:41:52.018Z"
   },
   {
    "duration": 6,
    "start_time": "2021-10-07T11:42:02.364Z"
   },
   {
    "duration": 7,
    "start_time": "2021-10-07T11:42:32.856Z"
   },
   {
    "duration": 7,
    "start_time": "2021-10-07T11:43:05.918Z"
   },
   {
    "duration": 6,
    "start_time": "2021-10-07T11:43:18.486Z"
   },
   {
    "duration": 387,
    "start_time": "2021-10-07T11:43:50.517Z"
   },
   {
    "duration": 4,
    "start_time": "2021-10-07T11:44:55.315Z"
   },
   {
    "duration": 6,
    "start_time": "2021-10-07T11:45:11.096Z"
   },
   {
    "duration": 5,
    "start_time": "2021-10-07T11:45:23.937Z"
   },
   {
    "duration": 6,
    "start_time": "2021-10-07T11:45:45.510Z"
   },
   {
    "duration": 5,
    "start_time": "2021-10-07T11:45:59.707Z"
   },
   {
    "duration": 305,
    "start_time": "2021-10-07T11:46:49.221Z"
   },
   {
    "duration": 5,
    "start_time": "2021-10-07T11:46:53.779Z"
   },
   {
    "duration": 801,
    "start_time": "2021-10-07T12:15:19.721Z"
   },
   {
    "duration": 97,
    "start_time": "2021-10-07T12:39:00.400Z"
   },
   {
    "duration": 130,
    "start_time": "2021-10-07T13:11:17.413Z"
   },
   {
    "duration": 98,
    "start_time": "2021-10-07T13:11:30.144Z"
   },
   {
    "duration": 7,
    "start_time": "2021-10-07T13:21:58.822Z"
   },
   {
    "duration": 7,
    "start_time": "2021-10-07T13:22:51.232Z"
   },
   {
    "duration": 4,
    "start_time": "2021-10-07T13:22:57.234Z"
   },
   {
    "duration": 750,
    "start_time": "2021-10-07T13:23:00.008Z"
   },
   {
    "duration": 6,
    "start_time": "2021-10-07T13:23:17.003Z"
   },
   {
    "duration": 919,
    "start_time": "2021-10-07T13:23:21.788Z"
   },
   {
    "duration": 1821,
    "start_time": "2021-10-07T13:24:04.396Z"
   },
   {
    "duration": 1837,
    "start_time": "2021-10-07T13:24:19.384Z"
   },
   {
    "duration": 50,
    "start_time": "2021-10-07T13:25:07.453Z"
   },
   {
    "duration": 1220,
    "start_time": "2021-10-07T13:25:46.282Z"
   },
   {
    "duration": 7,
    "start_time": "2021-10-07T13:26:06.917Z"
   },
   {
    "duration": 37,
    "start_time": "2021-10-07T13:26:07.883Z"
   },
   {
    "duration": 1522,
    "start_time": "2021-10-07T13:27:03.381Z"
   },
   {
    "duration": 1279,
    "start_time": "2021-10-07T13:27:18.023Z"
   },
   {
    "duration": 1105,
    "start_time": "2021-10-07T13:27:41.103Z"
   },
   {
    "duration": 146,
    "start_time": "2021-10-07T13:28:19.473Z"
   },
   {
    "duration": 90,
    "start_time": "2021-10-07T13:28:23.556Z"
   },
   {
    "duration": 6,
    "start_time": "2021-10-07T13:28:37.244Z"
   },
   {
    "duration": 1442,
    "start_time": "2021-10-07T13:28:38.660Z"
   },
   {
    "duration": 1315,
    "start_time": "2021-10-07T13:30:14.787Z"
   },
   {
    "duration": 12,
    "start_time": "2021-10-07T13:32:00.016Z"
   },
   {
    "duration": 394,
    "start_time": "2021-10-07T13:32:06.784Z"
   },
   {
    "duration": 1252,
    "start_time": "2021-10-07T13:32:11.153Z"
   },
   {
    "duration": 1065,
    "start_time": "2021-10-07T13:32:15.640Z"
   },
   {
    "duration": 1317,
    "start_time": "2021-10-07T13:32:22.389Z"
   },
   {
    "duration": 1151,
    "start_time": "2021-10-07T13:33:19.252Z"
   },
   {
    "duration": 392,
    "start_time": "2021-10-07T13:35:31.258Z"
   },
   {
    "duration": 295,
    "start_time": "2021-10-07T13:36:17.097Z"
   },
   {
    "duration": 301,
    "start_time": "2021-10-07T13:36:23.021Z"
   },
   {
    "duration": 306,
    "start_time": "2021-10-07T13:36:52.432Z"
   },
   {
    "duration": 368,
    "start_time": "2021-10-07T13:37:03.921Z"
   },
   {
    "duration": 294,
    "start_time": "2021-10-07T13:37:51.906Z"
   },
   {
    "duration": 318,
    "start_time": "2021-10-07T13:38:57.161Z"
   },
   {
    "duration": 1388,
    "start_time": "2021-10-07T13:42:02.258Z"
   },
   {
    "duration": 889,
    "start_time": "2021-10-07T13:42:03.649Z"
   },
   {
    "duration": 63,
    "start_time": "2021-10-07T13:42:04.542Z"
   },
   {
    "duration": 23,
    "start_time": "2021-10-07T13:42:04.608Z"
   },
   {
    "duration": 16,
    "start_time": "2021-10-07T13:42:04.634Z"
   },
   {
    "duration": 63,
    "start_time": "2021-10-07T13:42:04.653Z"
   },
   {
    "duration": 24,
    "start_time": "2021-10-07T13:42:04.719Z"
   },
   {
    "duration": 14,
    "start_time": "2021-10-07T13:42:04.746Z"
   },
   {
    "duration": 42,
    "start_time": "2021-10-07T13:42:04.762Z"
   },
   {
    "duration": 295,
    "start_time": "2021-10-07T13:42:04.806Z"
   },
   {
    "duration": 11,
    "start_time": "2021-10-07T13:42:05.104Z"
   },
   {
    "duration": 84,
    "start_time": "2021-10-07T13:42:05.118Z"
   },
   {
    "duration": 25,
    "start_time": "2021-10-07T13:42:05.204Z"
   },
   {
    "duration": 34,
    "start_time": "2021-10-07T13:42:05.231Z"
   },
   {
    "duration": 23,
    "start_time": "2021-10-07T13:42:05.268Z"
   },
   {
    "duration": 24,
    "start_time": "2021-10-07T13:42:05.293Z"
   },
   {
    "duration": 451,
    "start_time": "2021-10-07T13:42:05.319Z"
   },
   {
    "duration": 49,
    "start_time": "2021-10-07T13:42:05.773Z"
   },
   {
    "duration": 7,
    "start_time": "2021-10-07T13:42:05.824Z"
   },
   {
    "duration": 411,
    "start_time": "2021-10-07T13:42:05.833Z"
   },
   {
    "duration": -350,
    "start_time": "2021-10-07T13:42:06.597Z"
   },
   {
    "duration": -358,
    "start_time": "2021-10-07T13:42:06.606Z"
   },
   {
    "duration": 40,
    "start_time": "2021-10-07T13:42:26.721Z"
   },
   {
    "duration": 360,
    "start_time": "2021-10-07T13:42:29.850Z"
   },
   {
    "duration": 9,
    "start_time": "2021-10-07T13:42:47.920Z"
   },
   {
    "duration": 297,
    "start_time": "2021-10-07T13:42:51.278Z"
   },
   {
    "duration": 320,
    "start_time": "2021-10-07T13:43:00.890Z"
   },
   {
    "duration": 43,
    "start_time": "2021-10-07T13:44:13.817Z"
   },
   {
    "duration": 319,
    "start_time": "2021-10-07T13:44:15.447Z"
   },
   {
    "duration": 2046,
    "start_time": "2021-10-07T13:45:21.457Z"
   },
   {
    "duration": 1943,
    "start_time": "2021-10-07T13:45:28.964Z"
   },
   {
    "duration": 1531,
    "start_time": "2021-10-07T13:46:01.175Z"
   },
   {
    "duration": 319,
    "start_time": "2021-10-07T13:46:30.585Z"
   },
   {
    "duration": 379,
    "start_time": "2021-10-07T13:57:17.829Z"
   },
   {
    "duration": 352,
    "start_time": "2021-10-07T13:57:22.636Z"
   },
   {
    "duration": 276,
    "start_time": "2021-10-07T13:57:45.182Z"
   },
   {
    "duration": 6532518,
    "start_time": "2021-10-07T13:58:05.918Z"
   },
   {
    "duration": 300,
    "start_time": "2021-10-07T15:46:58.439Z"
   },
   {
    "duration": 268,
    "start_time": "2021-10-07T15:47:52.757Z"
   },
   {
    "duration": 300,
    "start_time": "2021-10-07T15:48:03.679Z"
   },
   {
    "duration": 5,
    "start_time": "2021-10-07T15:48:17.494Z"
   },
   {
    "duration": 357697,
    "start_time": "2021-10-07T15:48:29.645Z"
   },
   {
    "duration": 38587,
    "start_time": "2021-10-07T15:54:27.346Z"
   },
   {
    "duration": 6,
    "start_time": "2021-10-07T15:55:08.729Z"
   },
   {
    "duration": 37413,
    "start_time": "2021-10-07T15:55:42.865Z"
   },
   {
    "duration": 271,
    "start_time": "2021-10-07T15:56:26.198Z"
   },
   {
    "duration": 68,
    "start_time": "2021-10-07T15:57:06.243Z"
   },
   {
    "duration": 11120,
    "start_time": "2021-10-07T15:57:10.057Z"
   },
   {
    "duration": 7063,
    "start_time": "2021-10-07T16:00:59.915Z"
   },
   {
    "duration": 275,
    "start_time": "2021-10-07T16:01:39.466Z"
   },
   {
    "duration": 27,
    "start_time": "2021-10-07T16:01:47.030Z"
   },
   {
    "duration": 10702,
    "start_time": "2021-10-07T16:10:11.789Z"
   },
   {
    "duration": 10645,
    "start_time": "2021-10-07T16:10:32.943Z"
   },
   {
    "duration": 862,
    "start_time": "2021-10-07T16:15:21.547Z"
   },
   {
    "duration": 1212,
    "start_time": "2021-10-07T16:17:04.376Z"
   },
   {
    "duration": 1197,
    "start_time": "2021-10-07T16:17:09.827Z"
   },
   {
    "duration": 1201,
    "start_time": "2021-10-07T16:17:18.865Z"
   },
   {
    "duration": 1499,
    "start_time": "2021-10-07T16:17:43.614Z"
   },
   {
    "duration": 10884,
    "start_time": "2021-10-07T16:18:12.608Z"
   },
   {
    "duration": 11426,
    "start_time": "2021-10-07T16:18:32.094Z"
   },
   {
    "duration": 41390,
    "start_time": "2021-10-07T16:18:59.603Z"
   },
   {
    "duration": 10898,
    "start_time": "2021-10-07T16:19:40.996Z"
   },
   {
    "duration": 68,
    "start_time": "2021-10-07T16:20:07.658Z"
   },
   {
    "duration": 39378,
    "start_time": "2021-10-07T16:20:22.081Z"
   },
   {
    "duration": 70047,
    "start_time": "2021-10-07T16:24:21.529Z"
   },
   {
    "duration": 6791,
    "start_time": "2021-10-07T16:39:30.256Z"
   },
   {
    "duration": 36,
    "start_time": "2021-10-07T16:39:42.991Z"
   },
   {
    "duration": 307,
    "start_time": "2021-10-07T16:39:44.993Z"
   },
   {
    "duration": 310,
    "start_time": "2021-10-07T16:40:02.421Z"
   },
   {
    "duration": 314,
    "start_time": "2021-10-07T16:40:08.204Z"
   },
   {
    "duration": 280,
    "start_time": "2021-10-07T16:40:16.954Z"
   },
   {
    "duration": 300,
    "start_time": "2021-10-07T16:40:23.561Z"
   },
   {
    "duration": 300,
    "start_time": "2021-10-07T16:40:29.585Z"
   },
   {
    "duration": 311,
    "start_time": "2021-10-07T16:40:34.393Z"
   },
   {
    "duration": 280,
    "start_time": "2021-10-07T16:43:26.317Z"
   },
   {
    "duration": 51,
    "start_time": "2021-10-07T16:46:05.530Z"
   },
   {
    "duration": 327,
    "start_time": "2021-10-07T16:48:15.584Z"
   },
   {
    "duration": 338,
    "start_time": "2021-10-07T16:48:23.335Z"
   },
   {
    "duration": 68,
    "start_time": "2021-10-07T16:49:32.634Z"
   },
   {
    "duration": 890,
    "start_time": "2021-10-07T16:49:59.646Z"
   },
   {
    "duration": 36,
    "start_time": "2021-10-07T16:50:06.177Z"
   },
   {
    "duration": 20,
    "start_time": "2021-10-07T16:50:11.264Z"
   },
   {
    "duration": 15,
    "start_time": "2021-10-07T16:50:16.589Z"
   },
   {
    "duration": 12,
    "start_time": "2021-10-07T16:50:38.605Z"
   },
   {
    "duration": 35,
    "start_time": "2021-10-07T16:50:57.936Z"
   },
   {
    "duration": 27,
    "start_time": "2021-10-07T16:51:02.984Z"
   },
   {
    "duration": 343,
    "start_time": "2021-10-07T16:51:08.270Z"
   },
   {
    "duration": 24,
    "start_time": "2021-10-07T16:51:25.081Z"
   },
   {
    "duration": 621,
    "start_time": "2021-10-07T16:51:45.241Z"
   },
   {
    "duration": 303,
    "start_time": "2021-10-07T16:51:55.669Z"
   },
   {
    "duration": 263,
    "start_time": "2021-10-07T16:56:42.660Z"
   },
   {
    "duration": 290,
    "start_time": "2021-10-07T16:59:35.447Z"
   },
   {
    "duration": 294,
    "start_time": "2021-10-07T16:59:45.381Z"
   },
   {
    "duration": 318,
    "start_time": "2021-10-07T17:00:04.756Z"
   },
   {
    "duration": 96,
    "start_time": "2021-10-07T17:00:39.007Z"
   },
   {
    "duration": 272,
    "start_time": "2021-10-07T17:00:48.442Z"
   },
   {
    "duration": 9,
    "start_time": "2021-10-07T17:01:11.665Z"
   },
   {
    "duration": 293,
    "start_time": "2021-10-07T17:01:26.170Z"
   },
   {
    "duration": 328,
    "start_time": "2021-10-07T17:01:49.258Z"
   },
   {
    "duration": 15,
    "start_time": "2021-10-07T17:12:46.099Z"
   },
   {
    "duration": 4827,
    "start_time": "2021-10-07T17:13:23.284Z"
   },
   {
    "duration": 5231,
    "start_time": "2021-10-07T17:13:37.673Z"
   },
   {
    "duration": 5215,
    "start_time": "2021-10-07T17:13:48.960Z"
   },
   {
    "duration": 4948,
    "start_time": "2021-10-07T17:13:56.678Z"
   },
   {
    "duration": 77,
    "start_time": "2021-10-07T17:14:30.864Z"
   },
   {
    "duration": 7,
    "start_time": "2021-10-07T17:14:50.110Z"
   },
   {
    "duration": 28,
    "start_time": "2021-10-07T17:14:56.440Z"
   },
   {
    "duration": 9,
    "start_time": "2021-10-07T17:15:09.680Z"
   },
   {
    "duration": 1739,
    "start_time": "2021-10-08T05:33:19.026Z"
   },
   {
    "duration": 1423,
    "start_time": "2021-10-08T05:33:20.767Z"
   },
   {
    "duration": 85,
    "start_time": "2021-10-08T05:33:22.192Z"
   },
   {
    "duration": 70,
    "start_time": "2021-10-08T05:33:22.279Z"
   },
   {
    "duration": 11,
    "start_time": "2021-10-08T05:33:22.351Z"
   },
   {
    "duration": 85,
    "start_time": "2021-10-08T05:33:22.364Z"
   },
   {
    "duration": 18,
    "start_time": "2021-10-08T05:33:22.451Z"
   },
   {
    "duration": 12,
    "start_time": "2021-10-08T05:33:54.265Z"
   },
   {
    "duration": 11,
    "start_time": "2021-10-08T05:33:54.404Z"
   },
   {
    "duration": 138,
    "start_time": "2021-10-08T05:33:54.612Z"
   },
   {
    "duration": 9,
    "start_time": "2021-10-08T05:33:55.456Z"
   },
   {
    "duration": 1569,
    "start_time": "2021-10-08T05:33:55.654Z"
   },
   {
    "duration": 4,
    "start_time": "2021-10-08T05:35:03.810Z"
   },
   {
    "duration": 1153,
    "start_time": "2021-10-08T05:38:44.222Z"
   },
   {
    "duration": 9,
    "start_time": "2021-10-08T05:40:15.402Z"
   },
   {
    "duration": 9,
    "start_time": "2021-10-08T05:40:16.327Z"
   },
   {
    "duration": 9,
    "start_time": "2021-10-08T05:40:16.755Z"
   },
   {
    "duration": 9,
    "start_time": "2021-10-08T05:40:17.138Z"
   },
   {
    "duration": 277,
    "start_time": "2021-10-08T05:40:18.523Z"
   },
   {
    "duration": 29,
    "start_time": "2021-10-08T05:40:19.071Z"
   },
   {
    "duration": 185,
    "start_time": "2021-10-08T05:40:19.254Z"
   },
   {
    "duration": 18,
    "start_time": "2021-10-08T05:40:19.456Z"
   },
   {
    "duration": 12,
    "start_time": "2021-10-08T05:40:19.659Z"
   },
   {
    "duration": 4,
    "start_time": "2021-10-08T05:43:27.873Z"
   },
   {
    "duration": 55,
    "start_time": "2021-10-08T05:44:05.618Z"
   },
   {
    "duration": 155276,
    "start_time": "2021-10-08T05:45:10.011Z"
   },
   {
    "duration": 844,
    "start_time": "2021-10-08T05:47:44.446Z"
   },
   {
    "duration": 837,
    "start_time": "2021-10-08T05:47:44.453Z"
   },
   {
    "duration": 834,
    "start_time": "2021-10-08T05:47:44.457Z"
   },
   {
    "duration": 831,
    "start_time": "2021-10-08T05:47:44.461Z"
   },
   {
    "duration": 827,
    "start_time": "2021-10-08T05:47:44.466Z"
   },
   {
    "duration": 1764,
    "start_time": "2021-10-08T05:47:53.689Z"
   },
   {
    "duration": 28693,
    "start_time": "2021-10-08T05:47:57.099Z"
   },
   {
    "duration": 8167,
    "start_time": "2021-10-08T05:48:25.794Z"
   },
   {
    "duration": 19,
    "start_time": "2021-10-08T05:48:33.963Z"
   },
   {
    "duration": 4,
    "start_time": "2021-10-08T05:52:14.411Z"
   },
   {
    "duration": 350,
    "start_time": "2021-10-08T07:46:58.047Z"
   },
   {
    "duration": 1708,
    "start_time": "2021-10-08T07:47:03.109Z"
   },
   {
    "duration": 881,
    "start_time": "2021-10-08T07:47:07.823Z"
   },
   {
    "duration": 39,
    "start_time": "2021-10-08T07:47:16.546Z"
   },
   {
    "duration": 26,
    "start_time": "2021-10-08T07:47:22.096Z"
   },
   {
    "duration": 14,
    "start_time": "2021-10-08T07:47:24.179Z"
   },
   {
    "duration": 15,
    "start_time": "2021-10-08T07:47:25.740Z"
   },
   {
    "duration": 17,
    "start_time": "2021-10-08T07:47:26.713Z"
   },
   {
    "duration": 304,
    "start_time": "2021-10-08T07:47:39.919Z"
   },
   {
    "duration": 11,
    "start_time": "2021-10-08T07:47:41.901Z"
   },
   {
    "duration": 123319,
    "start_time": "2021-10-08T07:47:43.543Z"
   },
   {
    "duration": 11490,
    "start_time": "2021-10-08T09:26:25.144Z"
   },
   {
    "duration": 431,
    "start_time": "2021-10-08T09:27:35.956Z"
   },
   {
    "duration": 429,
    "start_time": "2021-10-08T09:30:05.775Z"
   },
   {
    "duration": 513,
    "start_time": "2021-10-08T09:30:12.711Z"
   },
   {
    "duration": 588,
    "start_time": "2021-10-08T09:30:16.874Z"
   },
   {
    "duration": 557,
    "start_time": "2021-10-08T09:30:23.520Z"
   },
   {
    "duration": 390,
    "start_time": "2021-10-08T09:30:29.091Z"
   },
   {
    "duration": 403,
    "start_time": "2021-10-08T09:30:32.207Z"
   },
   {
    "duration": 406,
    "start_time": "2021-10-08T09:31:32.899Z"
   },
   {
    "duration": 389,
    "start_time": "2021-10-08T09:32:03.307Z"
   },
   {
    "duration": 397,
    "start_time": "2021-10-08T09:33:19.490Z"
   },
   {
    "duration": 646,
    "start_time": "2021-10-08T09:33:46.709Z"
   },
   {
    "duration": 400,
    "start_time": "2021-10-08T09:33:51.113Z"
   },
   {
    "duration": 390,
    "start_time": "2021-10-08T09:34:38.483Z"
   },
   {
    "duration": 272,
    "start_time": "2021-10-08T09:35:41.913Z"
   },
   {
    "duration": 488,
    "start_time": "2021-10-08T09:35:48.055Z"
   },
   {
    "duration": 388,
    "start_time": "2021-10-08T09:36:38.736Z"
   },
   {
    "duration": 463,
    "start_time": "2021-10-08T09:36:43.652Z"
   },
   {
    "duration": 400,
    "start_time": "2021-10-08T09:36:48.349Z"
   },
   {
    "duration": 81,
    "start_time": "2021-10-08T09:37:24.207Z"
   },
   {
    "duration": 580,
    "start_time": "2021-10-08T09:37:30.730Z"
   },
   {
    "duration": 544,
    "start_time": "2021-10-08T09:37:36.902Z"
   },
   {
    "duration": 580,
    "start_time": "2021-10-08T09:37:42.451Z"
   },
   {
    "duration": 384,
    "start_time": "2021-10-08T09:37:46.978Z"
   },
   {
    "duration": 587,
    "start_time": "2021-10-08T09:40:22.300Z"
   },
   {
    "duration": 348,
    "start_time": "2021-10-08T09:40:59.554Z"
   },
   {
    "duration": 322,
    "start_time": "2021-10-08T09:41:14.455Z"
   },
   {
    "duration": 325,
    "start_time": "2021-10-08T10:19:18.989Z"
   },
   {
    "duration": 357,
    "start_time": "2021-10-08T10:19:30.222Z"
   },
   {
    "duration": 368,
    "start_time": "2021-10-08T10:19:41.410Z"
   },
   {
    "duration": 393,
    "start_time": "2021-10-08T10:20:27.707Z"
   },
   {
    "duration": 405,
    "start_time": "2021-10-08T10:20:39.120Z"
   },
   {
    "duration": 401,
    "start_time": "2021-10-08T10:24:16.638Z"
   },
   {
    "duration": 788,
    "start_time": "2021-10-08T10:28:04.703Z"
   },
   {
    "duration": 394,
    "start_time": "2021-10-08T10:28:15.189Z"
   },
   {
    "duration": 701,
    "start_time": "2021-10-08T10:28:29.482Z"
   },
   {
    "duration": 425,
    "start_time": "2021-10-08T10:28:42.788Z"
   },
   {
    "duration": 414,
    "start_time": "2021-10-08T10:28:55.615Z"
   },
   {
    "duration": 401,
    "start_time": "2021-10-08T10:29:13.463Z"
   },
   {
    "duration": 388,
    "start_time": "2021-10-08T10:29:22.181Z"
   },
   {
    "duration": 423,
    "start_time": "2021-10-08T11:22:56.118Z"
   },
   {
    "duration": 358,
    "start_time": "2021-10-08T11:23:22.787Z"
   },
   {
    "duration": 405,
    "start_time": "2021-10-08T11:23:37.645Z"
   },
   {
    "duration": 356,
    "start_time": "2021-10-08T11:33:18.286Z"
   },
   {
    "duration": 354,
    "start_time": "2021-10-08T11:33:37.404Z"
   },
   {
    "duration": 364,
    "start_time": "2021-10-08T11:33:41.758Z"
   },
   {
    "duration": 350,
    "start_time": "2021-10-08T11:33:44.206Z"
   },
   {
    "duration": 403,
    "start_time": "2021-10-08T11:33:59.119Z"
   },
   {
    "duration": 448,
    "start_time": "2021-10-08T11:34:57.760Z"
   },
   {
    "duration": 490,
    "start_time": "2021-10-08T11:36:34.316Z"
   },
   {
    "duration": 359,
    "start_time": "2021-10-08T11:36:56.232Z"
   },
   {
    "duration": 380,
    "start_time": "2021-10-08T12:21:08.120Z"
   }
  ],
  "kernelspec": {
   "display_name": "Python 3 (ipykernel)",
   "language": "python",
   "name": "python3"
  },
  "language_info": {
   "codemirror_mode": {
    "name": "ipython",
    "version": 3
   },
   "file_extension": ".py",
   "mimetype": "text/x-python",
   "name": "python",
   "nbconvert_exporter": "python",
   "pygments_lexer": "ipython3",
   "version": "3.9.7"
  },
  "toc": {
   "base_numbering": 1,
   "nav_menu": {},
   "number_sections": true,
   "sideBar": true,
   "skip_h1_title": true,
   "title_cell": "Содержание",
   "title_sidebar": "Contents",
   "toc_cell": true,
   "toc_position": {},
   "toc_section_display": true,
   "toc_window_display": true
  }
 },
 "nbformat": 4,
 "nbformat_minor": 2
}
