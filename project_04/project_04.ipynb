{
 "cells": [
  {
   "cell_type": "markdown",
   "metadata": {},
   "source": [
    "\n",
    "\n",
    "<b> Основные шаги </b>:\n",
    "\n",
    "1.Файл с данными и общая информация\n",
    "\n",
    "2.Подготовка данных\n",
    "\n",
    "3.Исследовательский анализ данных\n",
    "\n",
    "4.Портрет пользователя каждого региона\n",
    "\n",
    "5.Проверка гипотез\n",
    "\n",
    "6.Вывод"
   ]
  },
  {
   "cell_type": "markdown",
   "metadata": {},
   "source": [
    "# 2. Файл с данными  и общая информация"
   ]
  },
  {
   "cell_type": "code",
   "execution_count": 1,
   "metadata": {},
   "outputs": [
    {
     "data": {
      "text/html": [
       "<div>\n",
       "<style scoped>\n",
       "    .dataframe tbody tr th:only-of-type {\n",
       "        vertical-align: middle;\n",
       "    }\n",
       "\n",
       "    .dataframe tbody tr th {\n",
       "        vertical-align: top;\n",
       "    }\n",
       "\n",
       "    .dataframe thead th {\n",
       "        text-align: right;\n",
       "    }\n",
       "</style>\n",
       "<table border=\"1\" class=\"dataframe\">\n",
       "  <thead>\n",
       "    <tr style=\"text-align: right;\">\n",
       "      <th></th>\n",
       "      <th>Name</th>\n",
       "      <th>Platform</th>\n",
       "      <th>Year_of_Release</th>\n",
       "      <th>Genre</th>\n",
       "      <th>NA_sales</th>\n",
       "      <th>EU_sales</th>\n",
       "      <th>JP_sales</th>\n",
       "      <th>Other_sales</th>\n",
       "      <th>Critic_Score</th>\n",
       "      <th>User_Score</th>\n",
       "      <th>Rating</th>\n",
       "    </tr>\n",
       "  </thead>\n",
       "  <tbody>\n",
       "    <tr>\n",
       "      <td>0</td>\n",
       "      <td>Wii Sports</td>\n",
       "      <td>Wii</td>\n",
       "      <td>2006.0</td>\n",
       "      <td>Sports</td>\n",
       "      <td>41.36</td>\n",
       "      <td>28.96</td>\n",
       "      <td>3.77</td>\n",
       "      <td>8.45</td>\n",
       "      <td>76.0</td>\n",
       "      <td>8</td>\n",
       "      <td>E</td>\n",
       "    </tr>\n",
       "    <tr>\n",
       "      <td>1</td>\n",
       "      <td>Super Mario Bros.</td>\n",
       "      <td>NES</td>\n",
       "      <td>1985.0</td>\n",
       "      <td>Platform</td>\n",
       "      <td>29.08</td>\n",
       "      <td>3.58</td>\n",
       "      <td>6.81</td>\n",
       "      <td>0.77</td>\n",
       "      <td>NaN</td>\n",
       "      <td>NaN</td>\n",
       "      <td>NaN</td>\n",
       "    </tr>\n",
       "    <tr>\n",
       "      <td>2</td>\n",
       "      <td>Mario Kart Wii</td>\n",
       "      <td>Wii</td>\n",
       "      <td>2008.0</td>\n",
       "      <td>Racing</td>\n",
       "      <td>15.68</td>\n",
       "      <td>12.76</td>\n",
       "      <td>3.79</td>\n",
       "      <td>3.29</td>\n",
       "      <td>82.0</td>\n",
       "      <td>8.3</td>\n",
       "      <td>E</td>\n",
       "    </tr>\n",
       "    <tr>\n",
       "      <td>3</td>\n",
       "      <td>Wii Sports Resort</td>\n",
       "      <td>Wii</td>\n",
       "      <td>2009.0</td>\n",
       "      <td>Sports</td>\n",
       "      <td>15.61</td>\n",
       "      <td>10.93</td>\n",
       "      <td>3.28</td>\n",
       "      <td>2.95</td>\n",
       "      <td>80.0</td>\n",
       "      <td>8</td>\n",
       "      <td>E</td>\n",
       "    </tr>\n",
       "    <tr>\n",
       "      <td>4</td>\n",
       "      <td>Pokemon Red/Pokemon Blue</td>\n",
       "      <td>GB</td>\n",
       "      <td>1996.0</td>\n",
       "      <td>Role-Playing</td>\n",
       "      <td>11.27</td>\n",
       "      <td>8.89</td>\n",
       "      <td>10.22</td>\n",
       "      <td>1.00</td>\n",
       "      <td>NaN</td>\n",
       "      <td>NaN</td>\n",
       "      <td>NaN</td>\n",
       "    </tr>\n",
       "    <tr>\n",
       "      <td>...</td>\n",
       "      <td>...</td>\n",
       "      <td>...</td>\n",
       "      <td>...</td>\n",
       "      <td>...</td>\n",
       "      <td>...</td>\n",
       "      <td>...</td>\n",
       "      <td>...</td>\n",
       "      <td>...</td>\n",
       "      <td>...</td>\n",
       "      <td>...</td>\n",
       "      <td>...</td>\n",
       "    </tr>\n",
       "    <tr>\n",
       "      <td>16710</td>\n",
       "      <td>Samurai Warriors: Sanada Maru</td>\n",
       "      <td>PS3</td>\n",
       "      <td>2016.0</td>\n",
       "      <td>Action</td>\n",
       "      <td>0.00</td>\n",
       "      <td>0.00</td>\n",
       "      <td>0.01</td>\n",
       "      <td>0.00</td>\n",
       "      <td>NaN</td>\n",
       "      <td>NaN</td>\n",
       "      <td>NaN</td>\n",
       "    </tr>\n",
       "    <tr>\n",
       "      <td>16711</td>\n",
       "      <td>LMA Manager 2007</td>\n",
       "      <td>X360</td>\n",
       "      <td>2006.0</td>\n",
       "      <td>Sports</td>\n",
       "      <td>0.00</td>\n",
       "      <td>0.01</td>\n",
       "      <td>0.00</td>\n",
       "      <td>0.00</td>\n",
       "      <td>NaN</td>\n",
       "      <td>NaN</td>\n",
       "      <td>NaN</td>\n",
       "    </tr>\n",
       "    <tr>\n",
       "      <td>16712</td>\n",
       "      <td>Haitaka no Psychedelica</td>\n",
       "      <td>PSV</td>\n",
       "      <td>2016.0</td>\n",
       "      <td>Adventure</td>\n",
       "      <td>0.00</td>\n",
       "      <td>0.00</td>\n",
       "      <td>0.01</td>\n",
       "      <td>0.00</td>\n",
       "      <td>NaN</td>\n",
       "      <td>NaN</td>\n",
       "      <td>NaN</td>\n",
       "    </tr>\n",
       "    <tr>\n",
       "      <td>16713</td>\n",
       "      <td>Spirits &amp; Spells</td>\n",
       "      <td>GBA</td>\n",
       "      <td>2003.0</td>\n",
       "      <td>Platform</td>\n",
       "      <td>0.01</td>\n",
       "      <td>0.00</td>\n",
       "      <td>0.00</td>\n",
       "      <td>0.00</td>\n",
       "      <td>NaN</td>\n",
       "      <td>NaN</td>\n",
       "      <td>NaN</td>\n",
       "    </tr>\n",
       "    <tr>\n",
       "      <td>16714</td>\n",
       "      <td>Winning Post 8 2016</td>\n",
       "      <td>PSV</td>\n",
       "      <td>2016.0</td>\n",
       "      <td>Simulation</td>\n",
       "      <td>0.00</td>\n",
       "      <td>0.00</td>\n",
       "      <td>0.01</td>\n",
       "      <td>0.00</td>\n",
       "      <td>NaN</td>\n",
       "      <td>NaN</td>\n",
       "      <td>NaN</td>\n",
       "    </tr>\n",
       "  </tbody>\n",
       "</table>\n",
       "<p>16715 rows × 11 columns</p>\n",
       "</div>"
      ],
      "text/plain": [
       "                                Name Platform  Year_of_Release         Genre  \\\n",
       "0                         Wii Sports      Wii           2006.0        Sports   \n",
       "1                  Super Mario Bros.      NES           1985.0      Platform   \n",
       "2                     Mario Kart Wii      Wii           2008.0        Racing   \n",
       "3                  Wii Sports Resort      Wii           2009.0        Sports   \n",
       "4           Pokemon Red/Pokemon Blue       GB           1996.0  Role-Playing   \n",
       "...                              ...      ...              ...           ...   \n",
       "16710  Samurai Warriors: Sanada Maru      PS3           2016.0        Action   \n",
       "16711               LMA Manager 2007     X360           2006.0        Sports   \n",
       "16712        Haitaka no Psychedelica      PSV           2016.0     Adventure   \n",
       "16713               Spirits & Spells      GBA           2003.0      Platform   \n",
       "16714            Winning Post 8 2016      PSV           2016.0    Simulation   \n",
       "\n",
       "       NA_sales  EU_sales  JP_sales  Other_sales  Critic_Score User_Score  \\\n",
       "0         41.36     28.96      3.77         8.45          76.0          8   \n",
       "1         29.08      3.58      6.81         0.77           NaN        NaN   \n",
       "2         15.68     12.76      3.79         3.29          82.0        8.3   \n",
       "3         15.61     10.93      3.28         2.95          80.0          8   \n",
       "4         11.27      8.89     10.22         1.00           NaN        NaN   \n",
       "...         ...       ...       ...          ...           ...        ...   \n",
       "16710      0.00      0.00      0.01         0.00           NaN        NaN   \n",
       "16711      0.00      0.01      0.00         0.00           NaN        NaN   \n",
       "16712      0.00      0.00      0.01         0.00           NaN        NaN   \n",
       "16713      0.01      0.00      0.00         0.00           NaN        NaN   \n",
       "16714      0.00      0.00      0.01         0.00           NaN        NaN   \n",
       "\n",
       "      Rating  \n",
       "0          E  \n",
       "1        NaN  \n",
       "2          E  \n",
       "3          E  \n",
       "4        NaN  \n",
       "...      ...  \n",
       "16710    NaN  \n",
       "16711    NaN  \n",
       "16712    NaN  \n",
       "16713    NaN  \n",
       "16714    NaN  \n",
       "\n",
       "[16715 rows x 11 columns]"
      ]
     },
     "metadata": {},
     "output_type": "display_data"
    },
    {
     "name": "stdout",
     "output_type": "stream",
     "text": [
      "<class 'pandas.core.frame.DataFrame'>\n",
      "RangeIndex: 16715 entries, 0 to 16714\n",
      "Data columns (total 11 columns):\n",
      "Name               16713 non-null object\n",
      "Platform           16715 non-null object\n",
      "Year_of_Release    16446 non-null float64\n",
      "Genre              16713 non-null object\n",
      "NA_sales           16715 non-null float64\n",
      "EU_sales           16715 non-null float64\n",
      "JP_sales           16715 non-null float64\n",
      "Other_sales        16715 non-null float64\n",
      "Critic_Score       8137 non-null float64\n",
      "User_Score         10014 non-null object\n",
      "Rating             9949 non-null object\n",
      "dtypes: float64(6), object(5)\n",
      "memory usage: 1.4+ MB\n",
      "None\n"
     ]
    }
   ],
   "source": [
    "import pandas as pd\n",
    "import matplotlib.pyplot as plt\n",
    "import numpy as np\n",
    "from IPython.display import display\n",
    "\n",
    "\n",
    "games = pd.read_csv('/datasets/games.csv')\n",
    "\n",
    "display(games)\n",
    "print(games.info())"
   ]
  },
  {
   "cell_type": "markdown",
   "metadata": {},
   "source": [
    "Вывод: \n",
    "\n",
    "1.В названии столбцов присутствует верхний регистр, что неудобно для работы с данными.\n",
    "\n",
    "2.Нулевые значения есть в столбцах Name, Year_of_release,Genre,Critic_Score,User_Score,Rating.\n",
    " \n",
    "3.Тип данных у числовых столбцов - float, кроме user_score, нужно проверить состав данных."
   ]
  },
  {
   "cell_type": "markdown",
   "metadata": {},
   "source": [
    "# 3.Подготовка данных"
   ]
  },
  {
   "cell_type": "code",
   "execution_count": 2,
   "metadata": {},
   "outputs": [],
   "source": [
    "#1. названия столбцов к нижнему регистру\n",
    "\n",
    "games.columns = games.columns.str.lower()\n",
    "\n",
    "#2. обработка пропусков\n",
    "\n",
    "\n",
    "#2.1 замена пропущенных значений в годах медианой по платформе\n",
    "games['year_of_release']=games['year_of_release'].fillna(games.groupby('platform')['year_of_release'].transform('median'))\n",
    "\n",
    "#2.2 удаление строк с пропущенными значениями в названиях игр\n",
    "\n",
    "games=games.dropna(subset=['name']).reset_index(drop=True)\n",
    "\n",
    "#замена пропущенных значений  на 0\n",
    "\n",
    "games['user_score']=games['user_score'].fillna('0')\n",
    "\n",
    "#3. замена типов данных\n",
    "\n",
    "games['year_of_release']=games['year_of_release'].astype(int)\n",
    "\n",
    "\n",
    "#Суммарные продажи во всех регионах\n",
    "\n",
    "games['all_sales']=games['na_sales']+games['eu_sales']+games['jp_sales']+games['other_sales']\n",
    "\n"
   ]
  },
  {
   "cell_type": "markdown",
   "metadata": {},
   "source": [
    "Вывод:\n",
    "\n",
    "1.Привела название столбцов к нижнему регистру\n",
    "\n",
    "2.Заменила пропущенные значения в годах выпуска медианой по платформе, так как каждая платформа живет свой срок.\n",
    "\n",
    "3.Удалила строки с пропущенными значениями в названиях игр, их было всего две, названия восстановить из имеющихся данных невозможно, на анализ данных 2 удаленные строки не повлияют.\n",
    "\n",
    "4.Оставила пропущенные значения в рейтинге, оценки критиков и оценки пользователей, так как рейтинг и оценка - это субъективные значения, если буду заменять их средними или медианными, не узнаю, насколько точными будут эти данные. В играх выпущенных до 1997 года вообще нет данных о рейтинге и оценках ,скорее всего он тогда даже не существовал.\n",
    "Пропущенные значения в user_score заменила на 0 для того, чтобы изменить тип данных у столбца, в аналитику не буду брать эти значения.\n",
    "\n",
    "5.В столбце user_score, помимо числовых значений, есть значение - tbd, что значит - подлежит уточнению, т.е оценки еще нет. Оставляем данное значение как есть, так как неизвестно, на что его можно заменить.\n",
    "\n",
    "6.Создала столбец all_sales, где посчитала суммарные продажи во всех регионах."
   ]
  },
  {
   "cell_type": "markdown",
   "metadata": {},
   "source": [
    "# 4.Исследовательский анализ данных"
   ]
  },
  {
   "cell_type": "code",
   "execution_count": 3,
   "metadata": {},
   "outputs": [
    {
     "data": {
      "image/png": "[encoded data removed]",
      "text/plain": [
       "<Figure size 432x288 with 1 Axes>"
      ]
     },
     "metadata": {
      "needs_background": "light"
     },
     "output_type": "display_data"
    },
    {
     "data": {
      "image/png": "[encoded data removed]",
      "text/plain": [
       "<Figure size 1440x360 with 1 Axes>"
      ]
     },
     "metadata": {
      "needs_background": "light"
     },
     "output_type": "display_data"
    },
    {
     "name": "stdout",
     "output_type": "stream",
     "text": [
      "          all_sales\n",
      "platform           \n",
      "DC             0.06\n",
      "GBA            8.68\n",
      "XB            10.77\n",
      "GC            11.53\n",
      "PSV           54.07\n",
      "WiiU          82.19\n",
      "XOne         159.32\n",
      "PC           167.18\n",
      "PSP          243.15\n",
      "3DS          259.00\n",
      "PS2          265.80\n",
      "PS4          314.14\n",
      "DS           658.69\n",
      "Wii          907.51\n",
      "PS3          939.65\n",
      "X360         963.17\n"
     ]
    },
    {
     "data": {
      "image/png": "[encoded data removed]",
      "text/plain": [
       "<Figure size 720x360 with 1 Axes>"
      ]
     },
     "metadata": {
      "needs_background": "light"
     },
     "output_type": "display_data"
    }
   ],
   "source": [
    "#Сколько игр выпускалось в разные годы\n",
    "\n",
    "games.groupby('year_of_release')['name'].count()\n",
    "\n",
    "games['year_of_release'].hist(bins=30)\n",
    "plt.show()\n",
    "\n",
    "games['year_of_release'].describe()\n",
    "\n",
    "#Новый датафрейм с данными с 2006 по 2016 год\n",
    "games_new=games.query('2006 <= year_of_release <= 2016')\n",
    "\n",
    "#График продаж по платформам\n",
    "\n",
    "games_new.groupby('platform').agg({'all_sales' : 'sum'}).reset_index() \\\n",
    ".plot(x='platform',y='all_sales',grid=True,figsize=(20,5), title ='Продажи по платформам',kind='bar')\n",
    "plt.show()\n",
    "\n",
    "print(games_new.groupby('platform').agg({'all_sales' : 'sum'}).sort_values(by='all_sales'))\n",
    "\n",
    "#График платформ с наибольшими суммарными продажами по годам\n",
    "\n",
    "games_platform = games_new.query('platform == \"DS\" | platform == \"Wii\" | platform == \"PS3\" | platform == \"X360\"').reset_index(drop=True)\n",
    "\n",
    "\n",
    "games_platform.pivot_table(index='year_of_release',columns='platform',values='all_sales',aggfunc='sum').plot(grid=True,figsize=(10,5), title ='Платформы с наибольшими суммарными продажами по годам')\n",
    "plt.show()\n"
   ]
  },
  {
   "cell_type": "markdown",
   "metadata": {},
   "source": [
    "Вывод:\n",
    "\n",
    "1.Исследуя данные в столбце year_of_release , можно сделать вывод, что большинство игр выпустилось после 2006 года. Для дальнейшего анализа буду брать период с 2006 по 2016 год.\n",
    "\n",
    "2.По графику продаж по платформам, 4 платформы выделяются среди остальных,это платформы - DS, Wii, PS3, X360.\n",
    "\n",
    "3.Построила график распределения 4х успешных платформ за последние 10 лет по годам, очепвидно, что уже к 2014 году выручка платформ начала падать. В среднем платформы успешны 4 года, потом на смену приходят новые. Значит в 2016 году были уже новые платформы, выручка которых была больше самых успешных платформ за 10 лет."
   ]
  },
  {
   "cell_type": "code",
   "execution_count": 4,
   "metadata": {},
   "outputs": [
    {
     "data": {
      "image/png": "[encoded data removed]",
      "text/plain": [
       "<Figure size 720x360 with 1 Axes>"
      ]
     },
     "metadata": {
      "needs_background": "light"
     },
     "output_type": "display_data"
    }
   ],
   "source": [
    "games_actually=games.query('2013 <= year_of_release <= 2016')\n",
    "\n",
    "#График выручки платформ за актуальный период -  последние 3 года.\n",
    "games_actually.pivot_table(index='year_of_release',columns='platform',values='all_sales',aggfunc='sum').plot(grid=True,figsize=(10,5), title ='Платформы с наибольшими суммарными продажами по годам')\n",
    "plt.show()\n"
   ]
  },
  {
   "cell_type": "markdown",
   "metadata": {},
   "source": [
    "Вывод: Чтобы дать прогноз на 2017 год, построила график выручки платформ за последние 3 года.\n",
    "По продажам лидируют платформы - PS4, XOne."
   ]
  },
  {
   "cell_type": "code",
   "execution_count": 5,
   "metadata": {},
   "outputs": [
    {
     "name": "stderr",
     "output_type": "stream",
     "text": [
      "/opt/conda/lib/python3.7/site-packages/numpy/core/_asarray.py:83: VisibleDeprecationWarning: Creating an ndarray from ragged nested sequences (which is a list-or-tuple of lists-or-tuples-or ndarrays with different lengths or shapes) is deprecated. If you meant to do this, you must specify 'dtype=object' when creating the ndarray\n",
      "  return array(a, dtype, copy=False, order=order)\n"
     ]
    },
    {
     "data": {
      "image/png": "[encoded data removed]",
      "text/plain": [
       "<Figure size 720x360 with 1 Axes>"
      ]
     },
     "metadata": {
      "needs_background": "light"
     },
     "output_type": "display_data"
    },
    {
     "data": {
      "image/png": "[encoded data removed]",
      "text/plain": [
       "<Figure size 504x360 with 1 Axes>"
      ]
     },
     "metadata": {
      "needs_background": "light"
     },
     "output_type": "display_data"
    },
    {
     "name": "stderr",
     "output_type": "stream",
     "text": [
      "/opt/conda/lib/python3.7/site-packages/ipykernel_launcher.py:14: SettingWithCopyWarning: \n",
      "A value is trying to be set on a copy of a slice from a DataFrame.\n",
      "Try using .loc[row_indexer,col_indexer] = value instead\n",
      "\n",
      "See the caveats in the documentation: http://pandas.pydata.org/pandas-docs/stable/user_guide/indexing.html#returning-a-view-versus-a-copy\n",
      "  \n"
     ]
    },
    {
     "data": {
      "image/png": "[encoded data removed]",
      "text/plain": [
       "<Figure size 504x360 with 1 Axes>"
      ]
     },
     "metadata": {
      "needs_background": "light"
     },
     "output_type": "display_data"
    },
    {
     "name": "stdout",
     "output_type": "stream",
     "text": [
      "0.31379951637393433\n",
      "-0.0021577665187643086\n"
     ]
    }
   ],
   "source": [
    "#график «ящик с усами» по глобальным продажам игр в разбивке по платформам\n",
    "import warnings\n",
    "\n",
    "games_actually.boxplot(column=['all_sales'],by='platform',figsize=(10,5), fontsize=15,patch_artist=True )\n",
    "plt.ylim(0,10) \n",
    "\n",
    "#Влияние отзывов критиков на продажи на примере PS4\n",
    "\n",
    "games_actually.query(\"platform == 'PS4'\").plot(figsize=(7,5),x =['critic_score'], y = ['all_sales'], kind='scatter',title ='Влияние отзывов критиков на продажи')\n",
    "plt.show()\n",
    "\n",
    "games_score=games_actually.query('user_score != \"tbd\" and user_score != \"0\"')\n",
    "\n",
    "games_score['user_score']=games_score['user_score'].astype(float)\n",
    "\n",
    "#Влияние отзывов пользователей на продажи на примере PS4\n",
    "games_score.query(\"platform == 'PS4'\").plot(figsize=(7,5),x =['user_score'], y = ['all_sales'], kind='scatter',title ='Влияние отзывов пользователей на продажи')\n",
    "plt.show()\n",
    "\n",
    "#корреляцию между отзывами и продажами.\n",
    "\n",
    "print(games_actually['critic_score'].corr(games_actually['all_sales']))\n",
    "print(games_score['user_score'].corr(games_score['all_sales']))\n",
    "\n",
    "warnings.simplefilter('ignore')"
   ]
  },
  {
   "cell_type": "raw",
   "metadata": {},
   "source": [
    "Вывод: 1. Построила график \"ящик с усами\" по продажам игр на платформах. Больше всего продаж у платформ - PS4, PS3, Xone, 3DS. Основное значение выручки на всех платформах - до миллиона, при этом очень большое значение выбросов.\n",
    "2.На платформе PS4 построила гистограммы рессеяния, чтобы посмотреть, как влияют отзывы критиков и пользователей на продажи.\n",
    "Отзывы критиков на продажи влияют прямо, по графику видно - чем выше отзыв, тем больше продаж, с низкими отзывами продажи минимальны.\n",
    "Отзывы пользователей не так сильно влияют на продажи, продаж больше, чем выше отзыв, но при этом есть высокие значения продаж и с оценками 4-6.\n",
    "3. Корреляция зависимости оценки критиков и продаж равна - 0.31,\n",
    "Корреляция зависимости оценки пользователей и продаж равна - -0,002."
   ]
  },
  {
   "cell_type": "code",
   "execution_count": 6,
   "metadata": {},
   "outputs": [
    {
     "data": {
      "image/png": "[encoded data removed]",
      "text/plain": [
       "<Figure size 1440x360 with 1 Axes>"
      ]
     },
     "metadata": {
      "needs_background": "light"
     },
     "output_type": "display_data"
    },
    {
     "data": {
      "text/plain": [
       "3DS     9\n",
       "WiiU    4\n",
       "PSV     2\n",
       "PS4     1\n",
       "PS3     1\n",
       "Name: platform, dtype: int64"
      ]
     },
     "execution_count": 6,
     "metadata": {},
     "output_type": "execute_result"
    }
   ],
   "source": [
    "\n",
    "#График распределения продаж по жанрам\n",
    "\n",
    "games_actually.groupby('genre').agg({'all_sales' : 'sum'}).reset_index() \\\n",
    ".plot(x='genre',y='all_sales',grid=True,figsize=(20,5), title ='Продажи по жанрам',kind='bar')\n",
    "plt.show()\n",
    "\n",
    "#На каких платформах выпускался самый продаваемый жанр и жанр с самыми низкими продажами\n",
    "\n",
    "games_actually.query('genre == \"Action\"')['platform'].value_counts()\n",
    "\n",
    "games_actually.query('genre == \"Puzzle\"')['platform'].value_counts()\n"
   ]
  },
  {
   "cell_type": "markdown",
   "metadata": {},
   "source": [
    "1. Построила график распределения продаж по жанрам, самый продаваемый жанр - Action, самый непопулярный жанр - Puzzle.\n",
    "2. Лидирующие платформы, на которых выпускается жанр Action - PS4, PSV, 3DC, XOne, X360."
   ]
  },
  {
   "cell_type": "markdown",
   "metadata": {},
   "source": [
    "# 5.Портрет пользователя каждого региона"
   ]
  },
  {
   "cell_type": "code",
   "execution_count": 7,
   "metadata": {},
   "outputs": [
    {
     "name": "stdout",
     "output_type": "stream",
     "text": [
      "  region   1.    2.    3.    4.    5.\n",
      "0     EU  PS4   PS3  XOne  X360   3DS\n",
      "1     NA  PS4  XOne  X360   PS3   3DS\n",
      "2     JP  3DS   PS3   PSV   PS4  WiiU\n"
     ]
    },
    {
     "data": {
      "image/png": "[encoded data removed]",
      "text/plain": [
       "<Figure size 1800x360 with 3 Axes>"
      ]
     },
     "metadata": {
      "needs_background": "light"
     },
     "output_type": "display_data"
    }
   ],
   "source": [
    "#Самые популярные платформы\n",
    "\n",
    "fig = plt.figure(figsize = (30,10))\n",
    "fig.suptitle('Самые популярные платформы в регионах')\n",
    "ax_1 = fig.add_subplot(1, 3, 1)\n",
    "ax_2 = fig.add_subplot(1, 3, 2)\n",
    "ax_3 = fig.add_subplot(1, 3, 3)\n",
    "\n",
    "games_actually.groupby('platform').agg({'eu_sales' : 'sum'}).reset_index().plot(ax=ax_1,x='platform',y='eu_sales',grid=True,figsize=(25,5), title ='EU',kind='bar')\n",
    "games_actually.groupby('platform').agg({'na_sales' : 'sum'}).reset_index().plot(ax=ax_2,x='platform',y='na_sales',grid=True,figsize=(25,5), title ='NA',kind='bar')\n",
    "games_actually.groupby('platform').agg({'jp_sales' : 'sum'}).reset_index().plot(ax=ax_3,x='platform',y='jp_sales',grid=True,figsize=(25,5), title ='JP',kind='bar')\n",
    "\n",
    "top_platform=pd.DataFrame({'region':['EU','NA','JP'],\n",
    "                        '1.': ['PS4', 'PS4', '3DS'],\n",
    "                        '2.': ['PS3', 'XOne', 'PS3'],\n",
    "                        '3.':['XOne','X360','PSV'],\n",
    "                        '4.':['X360', 'PS3', 'PS4'],\n",
    "                        '5.':['3DS','3DS','WiiU'] }) \n",
    "\n",
    "print(top_platform)"
   ]
  },
  {
   "cell_type": "markdown",
   "metadata": {},
   "source": [
    "Вывод: Вывела таблицу с ТОП-5 платформ в регионах. Лидируют платформы от PlayStation и Xbox.\n",
    "При этом предпочтения пользователей в Японии сильно отличаются от пользователей Северной Америки и Европы. В северной Америке и в Европе на первом месте PS4, на 5ом платформа 3DS, в Японии 3DS занимает первое место, а PS4 четвертое."
   ]
  },
  {
   "cell_type": "code",
   "execution_count": 8,
   "metadata": {},
   "outputs": [
    {
     "name": "stdout",
     "output_type": "stream",
     "text": [
      "  region            1.       2.      3.            4.       5.\n",
      "0     EU        Action  Shooter  Sports  Role-Playing     Misc\n",
      "1     NA        Action  Shooter  Sports  Role-Playing     Misc\n",
      "2     JP  Role-Playing   Action    Misc      Fighting  Shooter\n"
     ]
    },
    {
     "data": {
      "image/png": "[encoded data removed]",
      "text/plain": [
       "<Figure size 1800x360 with 3 Axes>"
      ]
     },
     "metadata": {
      "needs_background": "light"
     },
     "output_type": "display_data"
    }
   ],
   "source": [
    "#Самые популярные жанры\n",
    "\n",
    "fig2 = plt.figure(figsize = (30,10))\n",
    "fig2.suptitle('Самые популярные жанры в регионах')\n",
    "ax_4 = fig2.add_subplot(1, 3, 1)\n",
    "ax_5 = fig2.add_subplot(1, 3, 2)\n",
    "ax_6 = fig2.add_subplot(1, 3, 3)\n",
    "\n",
    "games_actually.groupby('genre').agg({'eu_sales' : 'sum'}).reset_index().plot(ax=ax_4,x='genre',y='eu_sales',grid=True,figsize=(25,5), title ='EU',kind='bar')\n",
    "games_actually.groupby('genre').agg({'na_sales' : 'sum'}).reset_index().plot(ax=ax_5,x='genre',y='na_sales',grid=True,figsize=(25,5), title ='NA',kind='bar')\n",
    "games_actually.groupby('genre').agg({'jp_sales' : 'sum'}).reset_index().plot(ax=ax_6,x='genre',y='jp_sales',grid=True,figsize=(25,5), title ='JP',kind='bar')\n",
    "\n",
    "\n",
    "top_genre=pd.DataFrame({'region':['EU','NA','JP'],\n",
    "                        '1.': ['Action', 'Action', 'Role-Playing'],\n",
    "                        '2.': ['Shooter', 'Shooter', 'Action'],\n",
    "                        '3.':['Sports','Sports','Misc'],\n",
    "                        '4.':['Role-Playing', 'Role-Playing', 'Fighting'],\n",
    "                        '5.':['Misc','Misc','Shooter'] }) \n",
    "\n",
    "print(top_genre)"
   ]
  },
  {
   "cell_type": "markdown",
   "metadata": {},
   "source": [
    "Вывод: Вывела таблицу топ 5 жанров в регионах. Предпочтения пользователей в Северной Америке и в Европе одинаковые, первое место занимает жанр Action, в Японии предпочтения различаются, первое место - Role-Playing, при этом Action на 4ом."
   ]
  },
  {
   "cell_type": "code",
   "execution_count": 9,
   "metadata": {},
   "outputs": [
    {
     "data": {
      "text/plain": [
       "<matplotlib.axes._subplots.AxesSubplot at 0x7f027d183c90>"
      ]
     },
     "execution_count": 9,
     "metadata": {},
     "output_type": "execute_result"
    },
    {
     "data": {
      "image/png": "[encoded data removed]",
      "text/plain": [
       "<Figure size 1800x360 with 3 Axes>"
      ]
     },
     "metadata": {
      "needs_background": "light"
     },
     "output_type": "display_data"
    }
   ],
   "source": [
    "#Влияет ли рейтинг ESRB на продажи в отдельном регионе?\n",
    "\n",
    "fig3 = plt.figure(figsize = (30,10))\n",
    "fig3.suptitle('Рейтинг ESRB')\n",
    "ax_7 = fig3.add_subplot(1, 3, 1)\n",
    "ax_8 = fig3.add_subplot(1, 3, 2)\n",
    "ax_9 = fig3.add_subplot(1, 3, 3)\n",
    "\n",
    "games_actually.groupby('rating').agg({'eu_sales' : 'sum'}).reset_index().plot(ax=ax_7,x='rating',y='eu_sales',grid=True,figsize=(25,5), title ='EU',kind='bar')\n",
    "games_actually.groupby('rating').agg({'na_sales' : 'sum'}).reset_index().plot(ax=ax_8,x='rating',y='na_sales',grid=True,figsize=(25,5), title ='NA',kind='bar')\n",
    "games_actually.groupby('rating').agg({'jp_sales' : 'sum'}).reset_index().plot(ax=ax_9,x='rating',y='jp_sales',grid=True,figsize=(25,5), title ='JP',kind='bar')"
   ]
  },
  {
   "cell_type": "markdown",
   "metadata": {},
   "source": [
    "Вывод: вывела графики влияния рейтинга ESRB на продажи в регионах. В Северной Америке и в Европе лидирует рейтинг M( Для взрослых). В Японии самые высокие продажи у игр с рейтингом T(Подросткам)."
   ]
  },
  {
   "cell_type": "markdown",
   "metadata": {},
   "source": [
    "# 6.Проверка гипотез"
   ]
  },
  {
   "cell_type": "code",
   "execution_count": 10,
   "metadata": {},
   "outputs": [
    {
     "name": "stdout",
     "output_type": "stream",
     "text": [
      "0.03469657498006525\n",
      "p-значение: 0.9061348561697553\n",
      "Подтверждаем гипотезу Н0\n"
     ]
    }
   ],
   "source": [
    "#H0: Средние пользовательские рейтинги платформ Xbox One и PC одинаковые\n",
    "#H1: Средние пользовательские рейтинги платформ Xbox One и PC разные\n",
    "\n",
    "xbox= games_score.query('platform == \"X360\" | platform == \"XOne\"')\n",
    "\n",
    "pc = games_score.query('platform == \"PC\"')\n",
    "\n",
    "from scipy.stats import bartlett\n",
    "from scipy import stats as st\n",
    "\n",
    "stat, p = bartlett(xbox['user_score'],pc['user_score'])\n",
    "\n",
    "print(p)\n",
    "\n",
    "alpha = 0.05  # критический уровень статистической значимости\n",
    "\n",
    "results = st.ttest_ind(xbox['user_score'], pc['user_score'], equal_var=False)\n",
    "\n",
    "print('p-значение:', results.pvalue)\n",
    "\n",
    "if results.pvalue < alpha:\n",
    "    print('Подтверждаем гипотезу Н1')\n",
    "else:\n",
    "    print('Подтверждаем гипотезу Н0') \n",
    "    "
   ]
  },
  {
   "cell_type": "markdown",
   "metadata": {},
   "source": [
    "Вывод: провела тест Бартлетта, для сравнений дисперсий выборок, значение p маленькое, буду предпологать, что совокупности имеют разные дисперсии, значит параметр equal_var = False.\n",
    "\n",
    "Подтверждаем нулевую гипотезу: Средние пользовательские рейтинги платформ Xbox One и PC одинаковые."
   ]
  },
  {
   "cell_type": "code",
   "execution_count": 11,
   "metadata": {},
   "outputs": [
    {
     "name": "stdout",
     "output_type": "stream",
     "text": [
      "4.695019028537939e-06\n",
      "p-значение: 9.645978111716946e-28\n",
      "Подтверждаем гипотезу Н1\n"
     ]
    }
   ],
   "source": [
    "#H0: Средние пользовательские рейтинги жанров Action и Sports однаковые\n",
    "#H1: Средние пользовательские рейтинги жанров Action и Sports разные\n",
    "\n",
    "action= games_score.query('genre == \"Action\"')\n",
    "sports = games_score.query('genre == \"Sports\"')\n",
    "\n",
    "from scipy.stats import bartlett\n",
    "from scipy import stats as st\n",
    "\n",
    "stat, p = bartlett(action['user_score'],sports['user_score'])\n",
    "print(p)\n",
    "\n",
    "alpha = 0.05  # критический уровень статистической значимости\n",
    "\n",
    "results = st.ttest_ind(action['user_score'], sports['user_score'])\n",
    "\n",
    "print('p-значение:', results.pvalue)\n",
    "\n",
    "if results.pvalue < alpha:\n",
    "    print('Подтверждаем гипотезу Н1')\n",
    "else:\n",
    "    print('Подтверждаем гипотезу Н0') "
   ]
  },
  {
   "cell_type": "markdown",
   "metadata": {},
   "source": [
    "Вывод: провела тест Бартлетта, для сравнений дисперсий выборок, значение p большое, буду предпологать, что совокупности имеют одинаковые дисперсии, значит параметр equal_var оставляем по умолчанию.\n",
    "\n",
    "Подтверждаем альтернативную гипотезу: Средние пользовательские рейтинги жанров Action и Sports разные."
   ]
  },
  {
   "cell_type": "markdown",
   "metadata": {},
   "source": [
    "# 7. Общий вывод"
   ]
  },
  {
   "cell_type": "markdown",
   "metadata": {},
   "source": [
    "Для того, чтобы сделать ставку на потенциально популярный продукт и спланировать рекламные компании, в ходе исследования  выявлены определяющие успешность игры закономерности:\n",
    "1.Игровая платформа\n",
    "2.Оценка пользователя\n",
    "3.Оценка критика\n",
    "4.Жанр\n",
    "5.ESRB рейтинг\n",
    "\n",
    "В ходе предобработки данных для анализа были взяты актуальные данные за 2013-2016 год.\n",
    "В разных регионах разные критерии определяющие успешность игры.\n",
    "\n",
    "<b>Платформа</b>\n",
    "Самые прибыльные платформы в Северной Америке и в Европе - PS4,PS3,  XOne, X360, 3DS.\n",
    "Самые прибыльные платформы в Японии - 3DS, PS3, PSV, PS4,WiiU.\n",
    "\n",
    "<b>Оценка пользователя</b>\n",
    "Корреляция между оценкой пользователя и продажами слабая, этот показатель не стоит брать за основной, так как оценка субъективная у каждого пользователя, а предпочтения пользователей в разных регионах разные.\n",
    "\n",
    "<b>Оценка критика</b>\n",
    "Корреляция между оценкой критикой и продажами высокая. Чем выше оценка критика - тем выше продажи.\n",
    "\n",
    "<b>Жанр </b>\n",
    "Самые прибыльные жанры в Северной Америке и в Европе - Action, Shooter, Sports,Role-Playing, Misc.\n",
    "Самые прибыльные жанры в Японии - Role-Playing, Action, Misc, Fighting, Shooter.\n",
    "\n",
    "<b> ESRB рейтинг </b>\n",
    "В Северой Америке и в Европе самые прибыльные игры с рейтингом - Для взрослых.\n",
    "В Японии - для подростков."
   ]
  }
 ],
 "metadata": {
  "ExecuteTimeLog": [
   {
    "duration": 602,
    "start_time": "2021-08-08T15:39:41.803Z"
   },
   {
    "duration": 46,
    "start_time": "2021-08-08T15:39:48.767Z"
   },
   {
    "duration": 39,
    "start_time": "2021-08-08T15:39:55.309Z"
   },
   {
    "duration": 39,
    "start_time": "2021-08-08T15:39:59.621Z"
   },
   {
    "duration": 38,
    "start_time": "2021-08-08T15:40:04.264Z"
   },
   {
    "duration": 44,
    "start_time": "2021-08-08T15:40:54.710Z"
   },
   {
    "duration": 3,
    "start_time": "2021-08-08T15:45:35.888Z"
   },
   {
    "duration": 10,
    "start_time": "2021-08-08T15:45:45.447Z"
   },
   {
    "duration": 320,
    "start_time": "2021-08-08T15:52:10.432Z"
   },
   {
    "duration": 252,
    "start_time": "2021-08-08T15:52:33.529Z"
   },
   {
    "duration": 10,
    "start_time": "2021-08-08T15:53:31.639Z"
   },
   {
    "duration": 29,
    "start_time": "2021-08-08T15:55:15.209Z"
   },
   {
    "duration": -1246,
    "start_time": "2021-08-08T15:57:03.772Z"
   },
   {
    "duration": 7,
    "start_time": "2021-08-08T15:57:26.249Z"
   },
   {
    "duration": 27,
    "start_time": "2021-08-08T15:58:06.376Z"
   },
   {
    "duration": 10,
    "start_time": "2021-08-08T15:58:44.627Z"
   },
   {
    "duration": 7,
    "start_time": "2021-08-08T16:01:09.267Z"
   },
   {
    "duration": 84,
    "start_time": "2021-08-08T16:01:49.372Z"
   },
   {
    "duration": 21,
    "start_time": "2021-08-08T16:01:59.877Z"
   },
   {
    "duration": 10,
    "start_time": "2021-08-08T16:02:28.992Z"
   },
   {
    "duration": 800,
    "start_time": "2021-08-09T16:19:14.360Z"
   },
   {
    "duration": 769,
    "start_time": "2021-08-09T16:19:22.204Z"
   },
   {
    "duration": 99,
    "start_time": "2021-08-09T16:21:13.632Z"
   },
   {
    "duration": 86,
    "start_time": "2021-08-09T16:21:33.636Z"
   },
   {
    "duration": 85,
    "start_time": "2021-08-09T16:21:43.552Z"
   },
   {
    "duration": 136,
    "start_time": "2021-08-09T16:21:48.322Z"
   },
   {
    "duration": 90,
    "start_time": "2021-08-09T16:21:53.159Z"
   },
   {
    "duration": 102,
    "start_time": "2021-08-09T16:22:00.162Z"
   },
   {
    "duration": 10,
    "start_time": "2021-08-09T16:22:07.277Z"
   },
   {
    "duration": 15,
    "start_time": "2021-08-09T16:34:35.874Z"
   },
   {
    "duration": 24,
    "start_time": "2021-08-09T16:34:46.488Z"
   },
   {
    "duration": 21,
    "start_time": "2021-08-09T16:34:57.535Z"
   },
   {
    "duration": 21,
    "start_time": "2021-08-09T16:42:07.769Z"
   },
   {
    "duration": 642,
    "start_time": "2021-08-10T07:50:55.317Z"
   },
   {
    "duration": 16,
    "start_time": "2021-08-10T07:51:01.284Z"
   },
   {
    "duration": 44,
    "start_time": "2021-08-10T08:46:15.151Z"
   },
   {
    "duration": 14,
    "start_time": "2021-08-10T08:46:17.570Z"
   },
   {
    "duration": 19,
    "start_time": "2021-08-10T09:00:54.695Z"
   },
   {
    "duration": 19,
    "start_time": "2021-08-10T09:01:32.458Z"
   },
   {
    "duration": 350,
    "start_time": "2021-08-10T09:08:47.173Z"
   },
   {
    "duration": 254,
    "start_time": "2021-08-10T09:24:21.533Z"
   },
   {
    "duration": 306,
    "start_time": "2021-08-10T09:24:43.589Z"
   },
   {
    "duration": 347,
    "start_time": "2021-08-10T09:24:47.461Z"
   },
   {
    "duration": 279,
    "start_time": "2021-08-10T09:24:55.439Z"
   },
   {
    "duration": 19,
    "start_time": "2021-08-10T09:25:29.390Z"
   },
   {
    "duration": 26,
    "start_time": "2021-08-10T09:26:14.735Z"
   },
   {
    "duration": 301,
    "start_time": "2021-08-10T09:26:21.086Z"
   },
   {
    "duration": 18,
    "start_time": "2021-08-10T09:26:26.482Z"
   },
   {
    "duration": 20,
    "start_time": "2021-08-10T09:26:35.304Z"
   },
   {
    "duration": 19,
    "start_time": "2021-08-10T09:26:40.087Z"
   },
   {
    "duration": 15,
    "start_time": "2021-08-10T09:26:47.908Z"
   },
   {
    "duration": 20,
    "start_time": "2021-08-10T09:26:55.020Z"
   },
   {
    "duration": 29,
    "start_time": "2021-08-10T09:27:05.604Z"
   },
   {
    "duration": 16,
    "start_time": "2021-08-10T09:36:49.070Z"
   },
   {
    "duration": 17,
    "start_time": "2021-08-10T09:38:14.370Z"
   },
   {
    "duration": 17,
    "start_time": "2021-08-10T09:38:33.355Z"
   },
   {
    "duration": 17,
    "start_time": "2021-08-10T09:38:54.420Z"
   },
   {
    "duration": 28,
    "start_time": "2021-08-10T09:44:17.362Z"
   },
   {
    "duration": 16,
    "start_time": "2021-08-10T09:50:25.639Z"
   },
   {
    "duration": 21,
    "start_time": "2021-08-10T09:50:33.991Z"
   },
   {
    "duration": 6,
    "start_time": "2021-08-10T10:16:21.221Z"
   },
   {
    "duration": 228,
    "start_time": "2021-08-10T10:17:08.499Z"
   },
   {
    "duration": 201,
    "start_time": "2021-08-10T10:17:22.840Z"
   },
   {
    "duration": 444,
    "start_time": "2021-08-10T10:34:36.847Z"
   },
   {
    "duration": 49,
    "start_time": "2021-08-10T10:35:01.721Z"
   },
   {
    "duration": 250,
    "start_time": "2021-08-10T10:35:05.270Z"
   },
   {
    "duration": 13,
    "start_time": "2021-08-10T10:35:13.422Z"
   },
   {
    "duration": 470,
    "start_time": "2021-08-10T10:35:16.456Z"
   },
   {
    "duration": 165,
    "start_time": "2021-08-10T10:35:49.884Z"
   },
   {
    "duration": 7438,
    "start_time": "2021-08-10T10:39:03.977Z"
   },
   {
    "duration": 159,
    "start_time": "2021-08-10T10:39:23.690Z"
   },
   {
    "duration": 161,
    "start_time": "2021-08-10T10:39:49.349Z"
   },
   {
    "duration": 194,
    "start_time": "2021-08-10T10:41:30.581Z"
   },
   {
    "duration": 195,
    "start_time": "2021-08-10T10:43:55.059Z"
   },
   {
    "duration": 197,
    "start_time": "2021-08-10T10:45:08.680Z"
   },
   {
    "duration": 450,
    "start_time": "2021-08-10T12:43:58.597Z"
   },
   {
    "duration": 483,
    "start_time": "2021-08-10T12:44:08.612Z"
   },
   {
    "duration": 203,
    "start_time": "2021-08-10T12:44:12.857Z"
   },
   {
    "duration": 221,
    "start_time": "2021-08-10T12:45:04.617Z"
   },
   {
    "duration": 203,
    "start_time": "2021-08-10T12:45:14.016Z"
   },
   {
    "duration": 344,
    "start_time": "2021-08-10T12:45:20.227Z"
   },
   {
    "duration": 206,
    "start_time": "2021-08-10T12:45:26.177Z"
   },
   {
    "duration": 213,
    "start_time": "2021-08-10T12:45:29.853Z"
   },
   {
    "duration": 206,
    "start_time": "2021-08-10T12:45:38.121Z"
   },
   {
    "duration": 216,
    "start_time": "2021-08-10T12:45:41.640Z"
   },
   {
    "duration": 216,
    "start_time": "2021-08-10T12:45:46.197Z"
   },
   {
    "duration": 210,
    "start_time": "2021-08-10T12:45:49.837Z"
   },
   {
    "duration": 212,
    "start_time": "2021-08-10T12:45:55.928Z"
   },
   {
    "duration": 190,
    "start_time": "2021-08-10T12:47:41.349Z"
   },
   {
    "duration": 434,
    "start_time": "2021-08-10T12:54:17.218Z"
   },
   {
    "duration": 338,
    "start_time": "2021-08-10T12:55:23.442Z"
   },
   {
    "duration": 472,
    "start_time": "2021-08-10T13:03:24.555Z"
   },
   {
    "duration": 559,
    "start_time": "2021-08-10T13:03:35.312Z"
   },
   {
    "duration": 176,
    "start_time": "2021-08-10T13:05:11.289Z"
   },
   {
    "duration": 584,
    "start_time": "2021-08-10T13:12:12.460Z"
   },
   {
    "duration": 735,
    "start_time": "2021-08-10T13:12:24.687Z"
   },
   {
    "duration": 479,
    "start_time": "2021-08-10T13:12:39.663Z"
   },
   {
    "duration": 87,
    "start_time": "2021-08-10T13:13:06.703Z"
   },
   {
    "duration": 570,
    "start_time": "2021-08-10T13:13:10.805Z"
   },
   {
    "duration": 562,
    "start_time": "2021-08-10T13:13:16.983Z"
   },
   {
    "duration": 461,
    "start_time": "2021-08-10T13:15:41.544Z"
   },
   {
    "duration": 451,
    "start_time": "2021-08-10T13:15:55.797Z"
   },
   {
    "duration": 1113,
    "start_time": "2021-08-10T13:16:11.093Z"
   },
   {
    "duration": 440,
    "start_time": "2021-08-10T13:16:42.875Z"
   },
   {
    "duration": 199,
    "start_time": "2021-08-10T13:17:10.314Z"
   },
   {
    "duration": 461,
    "start_time": "2021-08-10T13:17:17.368Z"
   },
   {
    "duration": 224,
    "start_time": "2021-08-10T13:17:24.935Z"
   },
   {
    "duration": 201,
    "start_time": "2021-08-10T13:17:47.233Z"
   },
   {
    "duration": 481,
    "start_time": "2021-08-10T13:18:41.864Z"
   },
   {
    "duration": 677,
    "start_time": "2021-08-10T13:21:44.297Z"
   },
   {
    "duration": 659,
    "start_time": "2021-08-10T13:25:09.113Z"
   },
   {
    "duration": 664,
    "start_time": "2021-08-10T13:26:20.078Z"
   },
   {
    "duration": 499,
    "start_time": "2021-08-10T13:26:36.646Z"
   },
   {
    "duration": 47,
    "start_time": "2021-08-10T13:28:50.419Z"
   },
   {
    "duration": 16,
    "start_time": "2021-08-10T13:28:52.594Z"
   },
   {
    "duration": 572,
    "start_time": "2021-08-10T13:28:54.772Z"
   },
   {
    "duration": 479,
    "start_time": "2021-08-10T13:40:54.364Z"
   },
   {
    "duration": 731,
    "start_time": "2021-08-10T13:49:47.061Z"
   },
   {
    "duration": 82,
    "start_time": "2021-08-10T13:50:27.258Z"
   },
   {
    "duration": 736,
    "start_time": "2021-08-10T13:50:34.149Z"
   },
   {
    "duration": 2293,
    "start_time": "2021-08-10T13:50:54.673Z"
   },
   {
    "duration": 2232,
    "start_time": "2021-08-10T13:51:14.865Z"
   },
   {
    "duration": 2833,
    "start_time": "2021-08-10T13:51:52.921Z"
   },
   {
    "duration": 80,
    "start_time": "2021-08-10T13:54:58.130Z"
   },
   {
    "duration": 715,
    "start_time": "2021-08-10T13:55:11.803Z"
   },
   {
    "duration": 510,
    "start_time": "2021-08-10T13:55:36.657Z"
   },
   {
    "duration": 508,
    "start_time": "2021-08-10T13:55:50.766Z"
   },
   {
    "duration": 497,
    "start_time": "2021-08-10T13:56:22.180Z"
   },
   {
    "duration": 485,
    "start_time": "2021-08-10T13:56:49.101Z"
   },
   {
    "duration": 507,
    "start_time": "2021-08-10T13:57:08.592Z"
   },
   {
    "duration": 495,
    "start_time": "2021-08-10T13:57:25.287Z"
   },
   {
    "duration": 546,
    "start_time": "2021-08-10T13:57:37.474Z"
   },
   {
    "duration": 682,
    "start_time": "2021-08-10T13:59:20.106Z"
   },
   {
    "duration": 766,
    "start_time": "2021-08-10T14:00:38.808Z"
   },
   {
    "duration": 933,
    "start_time": "2021-08-10T14:00:46.752Z"
   },
   {
    "duration": 726,
    "start_time": "2021-08-10T14:00:54.028Z"
   },
   {
    "duration": 903,
    "start_time": "2021-08-10T14:01:40.603Z"
   },
   {
    "duration": 81,
    "start_time": "2021-08-10T14:01:47.563Z"
   },
   {
    "duration": 723,
    "start_time": "2021-08-10T14:01:50.971Z"
   },
   {
    "duration": 692,
    "start_time": "2021-08-10T14:03:03.360Z"
   },
   {
    "duration": 992,
    "start_time": "2021-08-10T14:05:56.658Z"
   },
   {
    "duration": 804,
    "start_time": "2021-08-10T14:08:02.439Z"
   },
   {
    "duration": 898,
    "start_time": "2021-08-10T14:08:09.246Z"
   },
   {
    "duration": 297,
    "start_time": "2021-08-10T14:15:16.352Z"
   },
   {
    "duration": 288,
    "start_time": "2021-08-10T14:18:28.870Z"
   },
   {
    "duration": 277,
    "start_time": "2021-08-10T14:18:58.157Z"
   },
   {
    "duration": 301,
    "start_time": "2021-08-10T14:22:30.310Z"
   },
   {
    "duration": 279,
    "start_time": "2021-08-10T14:23:02.003Z"
   },
   {
    "duration": 289,
    "start_time": "2021-08-10T14:23:13.434Z"
   },
   {
    "duration": 295,
    "start_time": "2021-08-10T14:24:04.304Z"
   },
   {
    "duration": 274,
    "start_time": "2021-08-10T14:24:12.587Z"
   },
   {
    "duration": 381,
    "start_time": "2021-08-10T15:12:22.590Z"
   },
   {
    "duration": 1072,
    "start_time": "2021-08-10T15:13:39.951Z"
   },
   {
    "duration": 117,
    "start_time": "2021-08-10T15:14:14.319Z"
   },
   {
    "duration": 174,
    "start_time": "2021-08-10T15:14:27.541Z"
   },
   {
    "duration": 253,
    "start_time": "2021-08-10T15:15:14.524Z"
   },
   {
    "duration": 205,
    "start_time": "2021-08-10T15:15:19.814Z"
   },
   {
    "duration": 204,
    "start_time": "2021-08-10T15:15:25.731Z"
   },
   {
    "duration": 200,
    "start_time": "2021-08-10T15:18:54.535Z"
   },
   {
    "duration": 224,
    "start_time": "2021-08-10T15:18:58.906Z"
   },
   {
    "duration": 202,
    "start_time": "2021-08-10T15:19:05.157Z"
   },
   {
    "duration": 196,
    "start_time": "2021-08-10T15:19:35.648Z"
   },
   {
    "duration": 406,
    "start_time": "2021-08-10T15:19:45.136Z"
   },
   {
    "duration": 459,
    "start_time": "2021-08-10T15:27:21.197Z"
   },
   {
    "duration": 457,
    "start_time": "2021-08-10T15:27:45.419Z"
   },
   {
    "duration": 484,
    "start_time": "2021-08-10T15:27:52.701Z"
   },
   {
    "duration": 487,
    "start_time": "2021-08-10T15:28:23.242Z"
   },
   {
    "duration": 500,
    "start_time": "2021-08-10T15:28:42.111Z"
   },
   {
    "duration": 585,
    "start_time": "2021-08-10T15:28:51.663Z"
   },
   {
    "duration": 477,
    "start_time": "2021-08-10T15:28:57.141Z"
   },
   {
    "duration": 485,
    "start_time": "2021-08-10T15:29:02.456Z"
   },
   {
    "duration": 510,
    "start_time": "2021-08-10T15:29:09.172Z"
   },
   {
    "duration": 976,
    "start_time": "2021-08-10T15:30:03.008Z"
   },
   {
    "duration": 915,
    "start_time": "2021-08-10T15:30:12.545Z"
   },
   {
    "duration": 922,
    "start_time": "2021-08-10T15:30:43.969Z"
   },
   {
    "duration": 890,
    "start_time": "2021-08-11T14:33:50.773Z"
   },
   {
    "duration": 26,
    "start_time": "2021-08-11T14:33:52.975Z"
   },
   {
    "duration": 1172,
    "start_time": "2021-08-11T14:33:54.469Z"
   },
   {
    "duration": 512,
    "start_time": "2021-08-11T14:33:56.191Z"
   },
   {
    "duration": 1451,
    "start_time": "2021-08-11T14:33:58.184Z"
   },
   {
    "duration": 1335,
    "start_time": "2021-08-11T14:34:12.254Z"
   },
   {
    "duration": 764,
    "start_time": "2021-08-11T14:34:33.992Z"
   },
   {
    "duration": 1324,
    "start_time": "2021-08-11T14:35:47.562Z"
   },
   {
    "duration": 28,
    "start_time": "2021-08-11T14:37:53.822Z"
   },
   {
    "duration": 22,
    "start_time": "2021-08-11T14:38:02.486Z"
   },
   {
    "duration": 23,
    "start_time": "2021-08-11T14:40:05.594Z"
   },
   {
    "duration": 1434,
    "start_time": "2021-08-11T14:40:18.826Z"
   },
   {
    "duration": 351,
    "start_time": "2021-08-11T14:40:33.388Z"
   },
   {
    "duration": 920,
    "start_time": "2021-08-11T14:41:37.159Z"
   },
   {
    "duration": 380,
    "start_time": "2021-08-11T14:41:49.647Z"
   },
   {
    "duration": 23,
    "start_time": "2021-08-11T14:44:15.704Z"
   },
   {
    "duration": 698,
    "start_time": "2021-08-11T14:52:48.714Z"
   },
   {
    "duration": 505,
    "start_time": "2021-08-11T14:53:24.319Z"
   },
   {
    "duration": 1205,
    "start_time": "2021-08-11T14:54:02.095Z"
   },
   {
    "duration": 743,
    "start_time": "2021-08-11T14:54:21.218Z"
   },
   {
    "duration": 788,
    "start_time": "2021-08-11T14:54:56.566Z"
   },
   {
    "duration": 1229,
    "start_time": "2021-08-11T14:55:17.708Z"
   },
   {
    "duration": 1243,
    "start_time": "2021-08-11T14:55:37.192Z"
   },
   {
    "duration": 1219,
    "start_time": "2021-08-11T14:55:52.479Z"
   },
   {
    "duration": 130,
    "start_time": "2021-08-11T14:59:32.323Z"
   },
   {
    "duration": 1171,
    "start_time": "2021-08-11T15:00:16.432Z"
   },
   {
    "duration": 1562,
    "start_time": "2021-08-11T15:05:08.754Z"
   },
   {
    "duration": 1330,
    "start_time": "2021-08-11T15:05:13.491Z"
   },
   {
    "duration": 128,
    "start_time": "2021-08-11T15:05:57.640Z"
   },
   {
    "duration": 2353,
    "start_time": "2021-08-11T15:06:08.165Z"
   },
   {
    "duration": 1201,
    "start_time": "2021-08-11T15:06:23.801Z"
   },
   {
    "duration": 1215,
    "start_time": "2021-08-11T15:06:32.686Z"
   },
   {
    "duration": 432,
    "start_time": "2021-08-11T15:34:06.130Z"
   },
   {
    "duration": 445,
    "start_time": "2021-08-11T15:49:51.311Z"
   },
   {
    "duration": 8747,
    "start_time": "2021-08-11T15:50:11.772Z"
   },
   {
    "duration": 772,
    "start_time": "2021-08-11T15:50:23.402Z"
   },
   {
    "duration": 970,
    "start_time": "2021-08-11T15:50:35.310Z"
   },
   {
    "duration": 857,
    "start_time": "2021-08-11T15:50:47.304Z"
   },
   {
    "duration": 186,
    "start_time": "2021-08-11T15:51:07.022Z"
   },
   {
    "duration": 518,
    "start_time": "2021-08-11T15:51:09.776Z"
   },
   {
    "duration": 118,
    "start_time": "2021-08-11T15:51:31.677Z"
   },
   {
    "duration": 463,
    "start_time": "2021-08-11T15:51:34.584Z"
   },
   {
    "duration": 161,
    "start_time": "2021-08-11T15:52:38.392Z"
   },
   {
    "duration": 454,
    "start_time": "2021-08-11T15:52:43.393Z"
   },
   {
    "duration": 506,
    "start_time": "2021-08-11T15:53:07.032Z"
   },
   {
    "duration": 537,
    "start_time": "2021-08-11T15:53:39.506Z"
   },
   {
    "duration": 457,
    "start_time": "2021-08-11T15:54:03.058Z"
   },
   {
    "duration": 9880,
    "start_time": "2021-08-11T15:54:20.118Z"
   },
   {
    "duration": 8984,
    "start_time": "2021-08-11T15:54:37.109Z"
   },
   {
    "duration": 494,
    "start_time": "2021-08-11T15:54:49.814Z"
   },
   {
    "duration": 477,
    "start_time": "2021-08-11T15:55:00.680Z"
   },
   {
    "duration": 481,
    "start_time": "2021-08-11T15:55:06.731Z"
   },
   {
    "duration": 1082,
    "start_time": "2021-08-11T16:11:17.458Z"
   },
   {
    "duration": 762,
    "start_time": "2021-08-11T16:11:36.868Z"
   },
   {
    "duration": 1015,
    "start_time": "2021-08-11T16:11:52.137Z"
   },
   {
    "duration": 744,
    "start_time": "2021-08-11T16:12:00.004Z"
   },
   {
    "duration": 790,
    "start_time": "2021-08-11T16:12:04.363Z"
   },
   {
    "duration": 933,
    "start_time": "2021-08-11T16:12:59.080Z"
   },
   {
    "duration": 964,
    "start_time": "2021-08-11T16:13:17.116Z"
   },
   {
    "duration": 1032,
    "start_time": "2021-08-11T16:14:43.810Z"
   },
   {
    "duration": 32,
    "start_time": "2021-08-11T16:16:04.291Z"
   },
   {
    "duration": 429,
    "start_time": "2021-08-11T16:16:24.763Z"
   },
   {
    "duration": 857,
    "start_time": "2021-08-11T16:17:29.676Z"
   },
   {
    "duration": 787,
    "start_time": "2021-08-11T16:19:32.730Z"
   },
   {
    "duration": 9,
    "start_time": "2021-08-11T16:27:04.217Z"
   },
   {
    "duration": 10,
    "start_time": "2021-08-11T16:27:12.882Z"
   },
   {
    "duration": 572,
    "start_time": "2021-08-11T16:32:25.718Z"
   },
   {
    "duration": 29,
    "start_time": "2021-08-11T16:32:31.604Z"
   },
   {
    "duration": 458,
    "start_time": "2021-08-11T16:34:15.271Z"
   },
   {
    "duration": 332,
    "start_time": "2021-08-11T16:35:08.476Z"
   },
   {
    "duration": 419,
    "start_time": "2021-08-11T16:35:38.150Z"
   },
   {
    "duration": 359,
    "start_time": "2021-08-11T16:36:06.896Z"
   },
   {
    "duration": 23,
    "start_time": "2021-08-11T16:36:54.550Z"
   },
   {
    "duration": 23,
    "start_time": "2021-08-11T16:38:22.669Z"
   },
   {
    "duration": 22,
    "start_time": "2021-08-11T16:38:38.346Z"
   },
   {
    "duration": 18,
    "start_time": "2021-08-11T16:39:46.548Z"
   },
   {
    "duration": 907,
    "start_time": "2021-08-12T09:10:40.398Z"
   },
   {
    "duration": 34,
    "start_time": "2021-08-12T09:10:42.978Z"
   },
   {
    "duration": 1271,
    "start_time": "2021-08-12T09:10:55.152Z"
   },
   {
    "duration": 542,
    "start_time": "2021-08-12T09:10:58.231Z"
   },
   {
    "duration": 1260,
    "start_time": "2021-08-12T09:11:02.072Z"
   },
   {
    "duration": 865,
    "start_time": "2021-08-12T09:11:27.944Z"
   },
   {
    "duration": 1278,
    "start_time": "2021-08-12T09:11:40.746Z"
   },
   {
    "duration": 1271,
    "start_time": "2021-08-12T09:11:56.865Z"
   },
   {
    "duration": 1505,
    "start_time": "2021-08-12T09:12:26.120Z"
   },
   {
    "duration": 1433,
    "start_time": "2021-08-12T09:13:05.933Z"
   },
   {
    "duration": 1052,
    "start_time": "2021-08-12T09:15:02.287Z"
   },
   {
    "duration": 1436,
    "start_time": "2021-08-12T09:16:54.282Z"
   },
   {
    "duration": 1464,
    "start_time": "2021-08-12T09:17:23.479Z"
   },
   {
    "duration": 1492,
    "start_time": "2021-08-12T09:22:25.550Z"
   },
   {
    "duration": 1522,
    "start_time": "2021-08-12T09:22:51.619Z"
   },
   {
    "duration": 1268,
    "start_time": "2021-08-12T09:31:54.008Z"
   },
   {
    "duration": 1490,
    "start_time": "2021-08-12T10:51:30.742Z"
   },
   {
    "duration": 112,
    "start_time": "2021-08-12T11:11:01.788Z"
   },
   {
    "duration": 1029,
    "start_time": "2021-08-12T11:24:30.897Z"
   },
   {
    "duration": 1172,
    "start_time": "2021-08-12T12:20:48.286Z"
   },
   {
    "duration": 35,
    "start_time": "2021-08-12T12:28:53.906Z"
   },
   {
    "duration": 30,
    "start_time": "2021-08-12T12:29:06.436Z"
   },
   {
    "duration": 97,
    "start_time": "2021-08-12T12:29:19.101Z"
   },
   {
    "duration": 25,
    "start_time": "2021-08-12T12:29:26.176Z"
   },
   {
    "duration": 26,
    "start_time": "2021-08-12T12:29:32.906Z"
   },
   {
    "duration": 22,
    "start_time": "2021-08-12T12:31:18.341Z"
   },
   {
    "duration": 23,
    "start_time": "2021-08-12T12:33:37.990Z"
   },
   {
    "duration": 17,
    "start_time": "2021-08-12T12:34:38.890Z"
   },
   {
    "duration": 956,
    "start_time": "2021-08-12T12:35:33.540Z"
   },
   {
    "duration": 24,
    "start_time": "2021-08-12T12:35:44.720Z"
   },
   {
    "duration": 16,
    "start_time": "2021-08-12T12:36:30.591Z"
   },
   {
    "duration": 23,
    "start_time": "2021-08-12T12:41:19.857Z"
   },
   {
    "duration": 17,
    "start_time": "2021-08-12T12:41:27.250Z"
   },
   {
    "duration": 17,
    "start_time": "2021-08-12T12:41:31.715Z"
   },
   {
    "duration": 16,
    "start_time": "2021-08-12T12:42:11.036Z"
   },
   {
    "duration": 17,
    "start_time": "2021-08-12T12:42:12.947Z"
   },
   {
    "duration": 17,
    "start_time": "2021-08-12T12:43:01.141Z"
   },
   {
    "duration": 22,
    "start_time": "2021-08-12T12:51:36.385Z"
   },
   {
    "duration": 28,
    "start_time": "2021-08-12T12:52:47.206Z"
   },
   {
    "duration": 24,
    "start_time": "2021-08-12T12:54:53.816Z"
   },
   {
    "duration": 17,
    "start_time": "2021-08-12T12:55:14.922Z"
   },
   {
    "duration": 17,
    "start_time": "2021-08-12T12:55:43.076Z"
   },
   {
    "duration": 1228,
    "start_time": "2021-08-12T13:27:30.455Z"
   },
   {
    "duration": 35,
    "start_time": "2021-08-12T13:27:31.686Z"
   },
   {
    "duration": 1578,
    "start_time": "2021-08-12T13:27:31.725Z"
   },
   {
    "duration": 577,
    "start_time": "2021-08-12T13:27:33.305Z"
   },
   {
    "duration": 1719,
    "start_time": "2021-08-12T13:27:33.884Z"
   },
   {
    "duration": 938,
    "start_time": "2021-08-12T13:27:35.605Z"
   },
   {
    "duration": 14,
    "start_time": "2021-08-12T13:27:36.532Z"
   },
   {
    "duration": 13,
    "start_time": "2021-08-12T13:27:36.534Z"
   },
   {
    "duration": 14,
    "start_time": "2021-08-12T13:27:36.535Z"
   },
   {
    "duration": 5,
    "start_time": "2021-08-12T13:27:36.546Z"
   },
   {
    "duration": 5,
    "start_time": "2021-08-12T13:27:36.547Z"
   },
   {
    "duration": 110,
    "start_time": "2021-08-12T14:27:59.677Z"
   },
   {
    "duration": 91,
    "start_time": "2021-08-12T14:28:57.796Z"
   },
   {
    "duration": 73,
    "start_time": "2021-08-12T14:29:10.797Z"
   },
   {
    "duration": 80,
    "start_time": "2021-08-12T14:29:32.942Z"
   },
   {
    "duration": 84,
    "start_time": "2021-08-12T14:29:38.423Z"
   },
   {
    "duration": 83,
    "start_time": "2021-08-12T14:29:44.417Z"
   },
   {
    "duration": 1423,
    "start_time": "2021-08-12T14:32:49.315Z"
   },
   {
    "duration": 1922,
    "start_time": "2021-08-12T14:33:42.240Z"
   },
   {
    "duration": 494,
    "start_time": "2021-08-12T14:35:26.849Z"
   },
   {
    "duration": 986,
    "start_time": "2021-08-13T05:26:21.550Z"
   },
   {
    "duration": 43,
    "start_time": "2021-08-13T05:26:22.539Z"
   },
   {
    "duration": 1257,
    "start_time": "2021-08-13T05:26:22.585Z"
   },
   {
    "duration": 580,
    "start_time": "2021-08-13T05:26:23.845Z"
   },
   {
    "duration": 1453,
    "start_time": "2021-08-13T05:26:24.428Z"
   },
   {
    "duration": 524,
    "start_time": "2021-08-13T05:26:25.884Z"
   },
   {
    "duration": 1013,
    "start_time": "2021-08-13T05:26:26.410Z"
   },
   {
    "duration": 1056,
    "start_time": "2021-08-13T05:26:27.427Z"
   },
   {
    "duration": 858,
    "start_time": "2021-08-13T05:26:28.487Z"
   },
   {
    "duration": 519,
    "start_time": "2021-08-13T05:26:29.348Z"
   },
   {
    "duration": 16,
    "start_time": "2021-08-13T05:26:29.870Z"
   }
  ],
  "kernelspec": {
   "display_name": "Python 3 (ipykernel)",
   "language": "python",
   "name": "python3"
  },
  "language_info": {
   "codemirror_mode": {
    "name": "ipython",
    "version": 3
   },
   "file_extension": ".py",
   "mimetype": "text/x-python",
   "name": "python",
   "nbconvert_exporter": "python",
   "pygments_lexer": "ipython3",
   "version": "3.9.7"
  },
  "toc": {
   "base_numbering": 1,
   "nav_menu": {},
   "number_sections": true,
   "sideBar": true,
   "skip_h1_title": true,
   "title_cell": "Table of Contents",
   "title_sidebar": "Contents",
   "toc_cell": false,
   "toc_position": {},
   "toc_section_display": true,
   "toc_window_display": false
  }
 },
 "nbformat": 4,
 "nbformat_minor": 2
}
