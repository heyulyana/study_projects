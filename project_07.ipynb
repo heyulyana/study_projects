{
 "cells": [
  {
   "cell_type": "markdown",
   "metadata": {},
   "source": [
    "# Выбор локации для скважины"
   ]
  },
  {
   "cell_type": "markdown",
   "metadata": {},
   "source": [
    ".Вам предоставлены пробы нефти в трёх регионах: в каждом 10 000 месторождений, где измерили качество нефти и объём её запасов. Постройте модель машинного обучения, которая поможет определить регион, где добыча принесёт наибольшую прибыль. Проанализируйте возможную прибыль и риски техникой *Bootstrap.*\n",
    "\n",
    "Шаги для выбора локации:\n",
    "\n",
    "- В избранном регионе ищут месторождения, для каждого определяют значения признаков;\n",
    "- Строят модель и оценивают объём запасов;\n",
    "- Выбирают месторождения с самым высокими оценками значений. Количество месторождений зависит от бюджета компании и стоимости разработки одной скважины;\n",
    "- Прибыль равна суммарной прибыли отобранных месторождений."
   ]
  },
  {
   "cell_type": "markdown",
   "metadata": {},
   "source": [
    "## Загрузка и подготовка данных"
   ]
  },
  {
   "cell_type": "code",
   "execution_count": 32,
   "metadata": {},
   "outputs": [],
   "source": [
    "import pandas as pd\n",
    "from sklearn.model_selection import train_test_split\n",
    "from sklearn.linear_model import LinearRegression\n",
    "import numpy as np\n",
    "from sklearn.metrics import mean_squared_error\n",
    "from sklearn.preprocessing import StandardScaler\n",
    "import warnings\n",
    "warnings.filterwarnings('ignore')\n",
    "\n",
    "\n",
    "\n",
    "\n",
    "\n",
    "data_1= pd.read_csv('/datasets/geo_data_0.csv')\n",
    "data_2= pd.read_csv('/datasets/geo_data_1.csv')\n",
    "data_3= pd.read_csv('/datasets/geo_data_2.csv')"
   ]
  },
  {
   "cell_type": "code",
   "execution_count": 3,
   "metadata": {},
   "outputs": [
    {
     "name": "stdout",
     "output_type": "stream",
     "text": [
      "      id        f0        f1        f2     product\n",
      "0  txEyH  0.705745 -0.497823  1.221170  105.280062\n",
      "1  2acmU  1.334711 -0.340164  4.365080   73.037750\n",
      "2  409Wp  1.022732  0.151990  1.419926   85.265647\n",
      "3  iJLyR -0.032172  0.139033  2.978566  168.620776\n",
      "4  Xdl7t  1.988431  0.155413  4.751769  154.036647\n",
      "5  wX4Hy  0.969570  0.489775 -0.735383   64.741541\n",
      "6  tL6pL  0.645075  0.530656  1.780266   49.055285\n",
      "7  BYPU6 -0.400648  0.808337 -5.624670   72.943292\n",
      "8  j9Oui  0.643105 -0.551583  2.372141  113.356160\n",
      "9  OLuZU  2.173381  0.563698  9.441852  127.910945\n",
      "<class 'pandas.core.frame.DataFrame'>\n",
      "RangeIndex: 100000 entries, 0 to 99999\n",
      "Data columns (total 5 columns):\n",
      "id         100000 non-null object\n",
      "f0         100000 non-null float64\n",
      "f1         100000 non-null float64\n",
      "f2         100000 non-null float64\n",
      "product    100000 non-null float64\n",
      "dtypes: float64(4), object(1)\n",
      "memory usage: 3.8+ MB\n",
      "None\n",
      "      id         f0         f1        f2     product\n",
      "0  kBEdx -15.001348  -8.276000 -0.005876    3.179103\n",
      "1  62mP7  14.272088  -3.475083  0.999183   26.953261\n",
      "2  vyE1P   6.263187  -5.948386  5.001160  134.766305\n",
      "3  KcrkZ -13.081196 -11.506057  4.999415  137.945408\n",
      "4  AHL4O  12.702195  -8.147433  5.004363  134.766305\n",
      "5  HHckp  -3.327590  -2.205276  3.003647   84.038886\n",
      "6  h5Ujo -11.142655 -10.133399  4.002382  110.992147\n",
      "7  muH9x   4.234715  -0.001354  2.004588   53.906522\n",
      "8  YiRkx  13.355129  -0.332068  4.998647  134.766305\n",
      "9  jG6Gi   1.069227 -11.025667  4.997844  137.945408\n",
      "<class 'pandas.core.frame.DataFrame'>\n",
      "RangeIndex: 100000 entries, 0 to 99999\n",
      "Data columns (total 5 columns):\n",
      "id         100000 non-null object\n",
      "f0         100000 non-null float64\n",
      "f1         100000 non-null float64\n",
      "f2         100000 non-null float64\n",
      "product    100000 non-null float64\n",
      "dtypes: float64(4), object(1)\n",
      "memory usage: 3.8+ MB\n",
      "None\n",
      "      id        f0        f1        f2     product\n",
      "0  fwXo0 -1.146987  0.963328 -0.828965   27.758673\n",
      "1  WJtFt  0.262778  0.269839 -2.530187   56.069697\n",
      "2  ovLUW  0.194587  0.289035 -5.586433   62.871910\n",
      "3  q6cA6  2.236060 -0.553760  0.930038  114.572842\n",
      "4  WPMUX -0.515993  1.716266  5.899011  149.600746\n",
      "5  LzZXx -0.758092  0.710691  2.585887   90.222465\n",
      "6  WBHRv -0.574891  0.317727  1.773745   45.641478\n",
      "7  XO8fn -1.906649 -2.458350 -0.177097   72.480640\n",
      "8  ybmQ5  1.776292 -0.279356  3.004156  106.616832\n",
      "9  OilcN -1.214452 -0.439314  5.922514   52.954532\n",
      "<class 'pandas.core.frame.DataFrame'>\n",
      "RangeIndex: 100000 entries, 0 to 99999\n",
      "Data columns (total 5 columns):\n",
      "id         100000 non-null object\n",
      "f0         100000 non-null float64\n",
      "f1         100000 non-null float64\n",
      "f2         100000 non-null float64\n",
      "product    100000 non-null float64\n",
      "dtypes: float64(4), object(1)\n",
      "memory usage: 3.8+ MB\n",
      "None\n"
     ]
    }
   ],
   "source": [
    "print(data_1.head(10))\n",
    "print(data_1.info())\n",
    "\n",
    "print(data_2.head(10))\n",
    "print(data_2.info())\n",
    "\n",
    "print(data_3.head(10))\n",
    "print(data_3.info())"
   ]
  },
  {
   "cell_type": "markdown",
   "metadata": {},
   "source": [
    "<b> Вывод </b>:\n",
    "\n",
    "Импортированы нужные библиотеки, выгружены и изучены данные. Пропущенных значений нет, все данные корректны и готовы для работы."
   ]
  },
  {
   "cell_type": "code",
   "execution_count": 4,
   "metadata": {},
   "outputs": [
    {
     "name": "stdout",
     "output_type": "stream",
     "text": [
      "0\n"
     ]
    },
    {
     "data": {
      "text/html": [
       "<div>\n",
       "<style scoped>\n",
       "    .dataframe tbody tr th:only-of-type {\n",
       "        vertical-align: middle;\n",
       "    }\n",
       "\n",
       "    .dataframe tbody tr th {\n",
       "        vertical-align: top;\n",
       "    }\n",
       "\n",
       "    .dataframe thead th {\n",
       "        text-align: right;\n",
       "    }\n",
       "</style>\n",
       "<table border=\"1\" class=\"dataframe\">\n",
       "  <thead>\n",
       "    <tr style=\"text-align: right;\">\n",
       "      <th></th>\n",
       "      <th>f0</th>\n",
       "      <th>f1</th>\n",
       "      <th>f2</th>\n",
       "      <th>product</th>\n",
       "    </tr>\n",
       "  </thead>\n",
       "  <tbody>\n",
       "    <tr>\n",
       "      <td>count</td>\n",
       "      <td>100000.000000</td>\n",
       "      <td>100000.000000</td>\n",
       "      <td>100000.000000</td>\n",
       "      <td>100000.000000</td>\n",
       "    </tr>\n",
       "    <tr>\n",
       "      <td>mean</td>\n",
       "      <td>0.500419</td>\n",
       "      <td>0.250143</td>\n",
       "      <td>2.502647</td>\n",
       "      <td>92.500000</td>\n",
       "    </tr>\n",
       "    <tr>\n",
       "      <td>std</td>\n",
       "      <td>0.871832</td>\n",
       "      <td>0.504433</td>\n",
       "      <td>3.248248</td>\n",
       "      <td>44.288691</td>\n",
       "    </tr>\n",
       "    <tr>\n",
       "      <td>min</td>\n",
       "      <td>-1.408605</td>\n",
       "      <td>-0.848218</td>\n",
       "      <td>-12.088328</td>\n",
       "      <td>0.000000</td>\n",
       "    </tr>\n",
       "    <tr>\n",
       "      <td>25%</td>\n",
       "      <td>-0.072580</td>\n",
       "      <td>-0.200881</td>\n",
       "      <td>0.287748</td>\n",
       "      <td>56.497507</td>\n",
       "    </tr>\n",
       "    <tr>\n",
       "      <td>50%</td>\n",
       "      <td>0.502360</td>\n",
       "      <td>0.250252</td>\n",
       "      <td>2.515969</td>\n",
       "      <td>91.849972</td>\n",
       "    </tr>\n",
       "    <tr>\n",
       "      <td>75%</td>\n",
       "      <td>1.073581</td>\n",
       "      <td>0.700646</td>\n",
       "      <td>4.715088</td>\n",
       "      <td>128.564089</td>\n",
       "    </tr>\n",
       "    <tr>\n",
       "      <td>max</td>\n",
       "      <td>2.362331</td>\n",
       "      <td>1.343769</td>\n",
       "      <td>16.003790</td>\n",
       "      <td>185.364347</td>\n",
       "    </tr>\n",
       "  </tbody>\n",
       "</table>\n",
       "</div>"
      ],
      "text/plain": [
       "                  f0             f1             f2        product\n",
       "count  100000.000000  100000.000000  100000.000000  100000.000000\n",
       "mean        0.500419       0.250143       2.502647      92.500000\n",
       "std         0.871832       0.504433       3.248248      44.288691\n",
       "min        -1.408605      -0.848218     -12.088328       0.000000\n",
       "25%        -0.072580      -0.200881       0.287748      56.497507\n",
       "50%         0.502360       0.250252       2.515969      91.849972\n",
       "75%         1.073581       0.700646       4.715088     128.564089\n",
       "max         2.362331       1.343769      16.003790     185.364347"
      ]
     },
     "execution_count": 4,
     "metadata": {},
     "output_type": "execute_result"
    }
   ],
   "source": [
    "print(data_1.duplicated().sum())\n",
    "\n",
    "data_1.describe()"
   ]
  },
  {
   "cell_type": "code",
   "execution_count": 5,
   "metadata": {},
   "outputs": [
    {
     "name": "stdout",
     "output_type": "stream",
     "text": [
      "0\n"
     ]
    },
    {
     "data": {
      "text/html": [
       "<div>\n",
       "<style scoped>\n",
       "    .dataframe tbody tr th:only-of-type {\n",
       "        vertical-align: middle;\n",
       "    }\n",
       "\n",
       "    .dataframe tbody tr th {\n",
       "        vertical-align: top;\n",
       "    }\n",
       "\n",
       "    .dataframe thead th {\n",
       "        text-align: right;\n",
       "    }\n",
       "</style>\n",
       "<table border=\"1\" class=\"dataframe\">\n",
       "  <thead>\n",
       "    <tr style=\"text-align: right;\">\n",
       "      <th></th>\n",
       "      <th>f0</th>\n",
       "      <th>f1</th>\n",
       "      <th>f2</th>\n",
       "      <th>product</th>\n",
       "    </tr>\n",
       "  </thead>\n",
       "  <tbody>\n",
       "    <tr>\n",
       "      <td>count</td>\n",
       "      <td>100000.000000</td>\n",
       "      <td>100000.000000</td>\n",
       "      <td>100000.000000</td>\n",
       "      <td>100000.000000</td>\n",
       "    </tr>\n",
       "    <tr>\n",
       "      <td>mean</td>\n",
       "      <td>1.141296</td>\n",
       "      <td>-4.796579</td>\n",
       "      <td>2.494541</td>\n",
       "      <td>68.825000</td>\n",
       "    </tr>\n",
       "    <tr>\n",
       "      <td>std</td>\n",
       "      <td>8.965932</td>\n",
       "      <td>5.119872</td>\n",
       "      <td>1.703572</td>\n",
       "      <td>45.944423</td>\n",
       "    </tr>\n",
       "    <tr>\n",
       "      <td>min</td>\n",
       "      <td>-31.609576</td>\n",
       "      <td>-26.358598</td>\n",
       "      <td>-0.018144</td>\n",
       "      <td>0.000000</td>\n",
       "    </tr>\n",
       "    <tr>\n",
       "      <td>25%</td>\n",
       "      <td>-6.298551</td>\n",
       "      <td>-8.267985</td>\n",
       "      <td>1.000021</td>\n",
       "      <td>26.953261</td>\n",
       "    </tr>\n",
       "    <tr>\n",
       "      <td>50%</td>\n",
       "      <td>1.153055</td>\n",
       "      <td>-4.813172</td>\n",
       "      <td>2.011479</td>\n",
       "      <td>57.085625</td>\n",
       "    </tr>\n",
       "    <tr>\n",
       "      <td>75%</td>\n",
       "      <td>8.621015</td>\n",
       "      <td>-1.332816</td>\n",
       "      <td>3.999904</td>\n",
       "      <td>107.813044</td>\n",
       "    </tr>\n",
       "    <tr>\n",
       "      <td>max</td>\n",
       "      <td>29.421755</td>\n",
       "      <td>18.734063</td>\n",
       "      <td>5.019721</td>\n",
       "      <td>137.945408</td>\n",
       "    </tr>\n",
       "  </tbody>\n",
       "</table>\n",
       "</div>"
      ],
      "text/plain": [
       "                  f0             f1             f2        product\n",
       "count  100000.000000  100000.000000  100000.000000  100000.000000\n",
       "mean        1.141296      -4.796579       2.494541      68.825000\n",
       "std         8.965932       5.119872       1.703572      45.944423\n",
       "min       -31.609576     -26.358598      -0.018144       0.000000\n",
       "25%        -6.298551      -8.267985       1.000021      26.953261\n",
       "50%         1.153055      -4.813172       2.011479      57.085625\n",
       "75%         8.621015      -1.332816       3.999904     107.813044\n",
       "max        29.421755      18.734063       5.019721     137.945408"
      ]
     },
     "execution_count": 5,
     "metadata": {},
     "output_type": "execute_result"
    }
   ],
   "source": [
    "print(data_2.duplicated().sum())\n",
    "\n",
    "data_2.describe()"
   ]
  },
  {
   "cell_type": "code",
   "execution_count": 6,
   "metadata": {},
   "outputs": [
    {
     "name": "stdout",
     "output_type": "stream",
     "text": [
      "0\n"
     ]
    },
    {
     "data": {
      "text/html": [
       "<div>\n",
       "<style scoped>\n",
       "    .dataframe tbody tr th:only-of-type {\n",
       "        vertical-align: middle;\n",
       "    }\n",
       "\n",
       "    .dataframe tbody tr th {\n",
       "        vertical-align: top;\n",
       "    }\n",
       "\n",
       "    .dataframe thead th {\n",
       "        text-align: right;\n",
       "    }\n",
       "</style>\n",
       "<table border=\"1\" class=\"dataframe\">\n",
       "  <thead>\n",
       "    <tr style=\"text-align: right;\">\n",
       "      <th></th>\n",
       "      <th>f0</th>\n",
       "      <th>f1</th>\n",
       "      <th>f2</th>\n",
       "      <th>product</th>\n",
       "    </tr>\n",
       "  </thead>\n",
       "  <tbody>\n",
       "    <tr>\n",
       "      <td>count</td>\n",
       "      <td>100000.000000</td>\n",
       "      <td>100000.000000</td>\n",
       "      <td>100000.000000</td>\n",
       "      <td>100000.000000</td>\n",
       "    </tr>\n",
       "    <tr>\n",
       "      <td>mean</td>\n",
       "      <td>0.002023</td>\n",
       "      <td>-0.002081</td>\n",
       "      <td>2.495128</td>\n",
       "      <td>95.000000</td>\n",
       "    </tr>\n",
       "    <tr>\n",
       "      <td>std</td>\n",
       "      <td>1.732045</td>\n",
       "      <td>1.730417</td>\n",
       "      <td>3.473445</td>\n",
       "      <td>44.749921</td>\n",
       "    </tr>\n",
       "    <tr>\n",
       "      <td>min</td>\n",
       "      <td>-8.760004</td>\n",
       "      <td>-7.084020</td>\n",
       "      <td>-11.970335</td>\n",
       "      <td>0.000000</td>\n",
       "    </tr>\n",
       "    <tr>\n",
       "      <td>25%</td>\n",
       "      <td>-1.162288</td>\n",
       "      <td>-1.174820</td>\n",
       "      <td>0.130359</td>\n",
       "      <td>59.450441</td>\n",
       "    </tr>\n",
       "    <tr>\n",
       "      <td>50%</td>\n",
       "      <td>0.009424</td>\n",
       "      <td>-0.009482</td>\n",
       "      <td>2.484236</td>\n",
       "      <td>94.925613</td>\n",
       "    </tr>\n",
       "    <tr>\n",
       "      <td>75%</td>\n",
       "      <td>1.158535</td>\n",
       "      <td>1.163678</td>\n",
       "      <td>4.858794</td>\n",
       "      <td>130.595027</td>\n",
       "    </tr>\n",
       "    <tr>\n",
       "      <td>max</td>\n",
       "      <td>7.238262</td>\n",
       "      <td>7.844801</td>\n",
       "      <td>16.739402</td>\n",
       "      <td>190.029838</td>\n",
       "    </tr>\n",
       "  </tbody>\n",
       "</table>\n",
       "</div>"
      ],
      "text/plain": [
       "                  f0             f1             f2        product\n",
       "count  100000.000000  100000.000000  100000.000000  100000.000000\n",
       "mean        0.002023      -0.002081       2.495128      95.000000\n",
       "std         1.732045       1.730417       3.473445      44.749921\n",
       "min        -8.760004      -7.084020     -11.970335       0.000000\n",
       "25%        -1.162288      -1.174820       0.130359      59.450441\n",
       "50%         0.009424      -0.009482       2.484236      94.925613\n",
       "75%         1.158535       1.163678       4.858794     130.595027\n",
       "max         7.238262       7.844801      16.739402     190.029838"
      ]
     },
     "execution_count": 6,
     "metadata": {},
     "output_type": "execute_result"
    }
   ],
   "source": [
    "print(data_3.duplicated().sum())\n",
    "\n",
    "data_3.describe()"
   ]
  },
  {
   "cell_type": "markdown",
   "metadata": {},
   "source": [
    "## Обучение и проверка модели"
   ]
  },
  {
   "cell_type": "code",
   "execution_count": 7,
   "metadata": {},
   "outputs": [],
   "source": [
    "features_1 = data_1.drop(columns=['id', 'product'], axis=1)\n",
    "target_1 = data_1['product']\n",
    "\n",
    "features_train_1, features_valid_1 = train_test_split(features_1, test_size=0.25, random_state=12345)\n",
    "target_train_1, target_valid_1 = train_test_split(target_1, test_size=0.25, random_state=12345)    \n",
    " \n",
    "    \n",
    "features_2 = data_2.drop(columns=['id', 'product'], axis=1)\n",
    "target_2 = data_2['product']\n",
    "\n",
    "features_train_2, features_valid_2 = train_test_split(features_2, test_size=0.25, random_state=12345)\n",
    "target_train_2, target_valid_2 = train_test_split(target_2, test_size=0.25, random_state=12345)        \n",
    "\n",
    "\n",
    "features_3 = data_3.drop(columns=['id', 'product'], axis=1)\n",
    "target_3 = data_3['product']\n",
    "\n",
    "features_train_3, features_valid_3 = train_test_split(features_3, test_size=0.25, random_state=12345)\n",
    "target_train_3, target_valid_3 = train_test_split(target_3, test_size=0.25, random_state=12345)  \n",
    "    \n",
    "    "
   ]
  },
  {
   "cell_type": "markdown",
   "metadata": {},
   "source": [
    "<b> Вывод </b>:\n",
    "\n",
    "Данные разделены на признаки и цели. Цель - столбец product. Признаки - остальные столбцы без целевого столбца и столбца id(уникального идентификатора).\n",
    "\n",
    "Данные поделены на обучающую и валидационную выборку отдельно для каждого региона в соотношени 75% к 25%"
   ]
  },
  {
   "cell_type": "code",
   "execution_count": 26,
   "metadata": {},
   "outputs": [
    {
     "name": "stdout",
     "output_type": "stream",
     "text": [
      "RMSE модели первого региона:  37.5794217150813\n",
      "Средний запас 92.59256778438038\n"
     ]
    }
   ],
   "source": [
    "model = LinearRegression()\n",
    "model.fit(features_train_1, target_train_1)\n",
    "predicted_valid_1=model.predict(features_valid_1)\n",
    "mse = mean_squared_error(target_valid_1, predicted_valid_1)\n",
    "rmse= mse ** 0.5\n",
    "mean_1 = predicted_valid_1.mean()\n",
    "print(\"RMSE модели первого региона: \", rmse)\n",
    "print('Средний запас', mean_1)\n"
   ]
  },
  {
   "cell_type": "code",
   "execution_count": 27,
   "metadata": {},
   "outputs": [
    {
     "name": "stdout",
     "output_type": "stream",
     "text": [
      "RMSE: 44.28602687855358\n"
     ]
    }
   ],
   "source": [
    "predictions = pd.Series(target_valid_1.mean(), index=target_valid_1.index)\n",
    "mse = mean_squared_error(target_valid_1, predictions)\n",
    "rmse= mse ** 0.5\n",
    "print(\"RMSE:\", rmse)"
   ]
  },
  {
   "cell_type": "code",
   "execution_count": 48,
   "metadata": {},
   "outputs": [
    {
     "name": "stdout",
     "output_type": "stream",
     "text": [
      "RMSE модели второго  региона:  0.8930992867756158\n",
      "Средний запас 68.728546895446\n"
     ]
    }
   ],
   "source": [
    "model_2 = LinearRegression()\n",
    "model_2.fit(features_train_2, target_train_2)\n",
    "predicted_valid_2=model_2.predict(features_valid_2)\n",
    "mse_2 = mean_squared_error(target_valid_2, predicted_valid_2)\n",
    "rmse_2= mse_2 ** 0.5\n",
    "mean_2 = predicted_valid_2.mean()\n",
    "print(\"RMSE модели второго  региона: \", rmse_2)\n",
    "print('Средний запас', mean_2)"
   ]
  },
  {
   "cell_type": "code",
   "execution_count": 18,
   "metadata": {},
   "outputs": [
    {
     "name": "stdout",
     "output_type": "stream",
     "text": [
      "RMSE: 46.0212449226281\n"
     ]
    }
   ],
   "source": [
    "predictions = pd.Series(target_valid_2.mean(), index=target_valid_2.index)\n",
    "mse = mean_squared_error(target_valid_2, predictions)\n",
    "rmse= mse ** 0.5\n",
    "print(\"RMSE:\", rmse)"
   ]
  },
  {
   "cell_type": "code",
   "execution_count": 29,
   "metadata": {},
   "outputs": [
    {
     "name": "stdout",
     "output_type": "stream",
     "text": [
      "RMSE модели третьего региона:  40.02970873393434\n",
      "Средний запас 92.59256778438038\n"
     ]
    }
   ],
   "source": [
    "model_3 = LinearRegression()\n",
    "model_3.fit(features_train_3, target_train_3)\n",
    "predicted_valid_3=model_3.predict(features_valid_3)\n",
    "mse = mean_squared_error(target_valid_3, predicted_valid_3)\n",
    "rmse= mse ** 0.5\n",
    "mean_3 = predicted_valid_3.mean()\n",
    "print(\"RMSE модели третьего региона: \", rmse)\n",
    "print('Средний запас', mean_1)"
   ]
  },
  {
   "cell_type": "code",
   "execution_count": 30,
   "metadata": {},
   "outputs": [
    {
     "name": "stdout",
     "output_type": "stream",
     "text": [
      "RMSE: 44.902084376898294\n"
     ]
    }
   ],
   "source": [
    "predictions = pd.Series(target_valid_3.mean(), index=target_valid_3.index)\n",
    "mse = mean_squared_error(target_valid_3, predictions)\n",
    "rmse= mse ** 0.5\n",
    "print(\"RMSE:\", rmse)"
   ]
  },
  {
   "cell_type": "code",
   "execution_count": 11,
   "metadata": {},
   "outputs": [
    {
     "name": "stdout",
     "output_type": "stream",
     "text": [
      "   Регион  RMSE Средний запас предсказанного сырья\n",
      "0  Первый  37.5                               92.5\n",
      "1  Второй  0.89                               68.7\n",
      "2  Третий    40                               92.5\n"
     ]
    }
   ],
   "source": [
    "results=pd.DataFrame({'Регион':['Первый','Второй','Третий'],\n",
    "                      'RMSE': ['37.5', '0.89', '40'],\n",
    "                      'Средний запас предсказанного сырья': ['92.5', '68.7', '92.5'],\n",
    "                         }) \n",
    "\n",
    "print(results)"
   ]
  },
  {
   "cell_type": "markdown",
   "metadata": {},
   "source": [
    "<b> Вывод </b>:\n",
    "\n",
    "Обучена модель линейной регрессии для каждого региона, сделаны предсказания, подсчитан средний запас предсказанного сырья и RMSE моделей. Данные собраны в таблицу."
   ]
  },
  {
   "cell_type": "markdown",
   "metadata": {},
   "source": [
    " Для сравнения значений средних ошибок сравнила модели со случайной, добавила в код расчет rmse,  предсказывая всегда среднее значение. Модели адекватны, rmse примерно равно стандартному отклонению в значениях.\n",
    "Во втором регионе rmse модели сильно расходится  от rmse модели, которая предсказывает всегда среднее число. \n",
    "Что говорит о том, что предсказания модели практически не отличаются от правильных."
   ]
  },
  {
   "cell_type": "markdown",
   "metadata": {},
   "source": [
    "## Подготовка к расчёту прибыли"
   ]
  },
  {
   "cell_type": "code",
   "execution_count": 54,
   "metadata": {},
   "outputs": [
    {
     "name": "stdout",
     "output_type": "stream",
     "text": [
      "Достаточный объем сырья для безубыточной разработки новой скважины 111.11111111111111\n"
     ]
    }
   ],
   "source": [
    "point=500\n",
    "best_point=200\n",
    "budget= 10000000000\n",
    "income_product = 450000\n",
    "\n",
    "\n",
    "budget_one = budget / best_point\n",
    "\n",
    "V = budget_one / income_product\n",
    "\n",
    "print('Достаточный объем сырья для безубыточной разработки новой скважины', V)\n"
   ]
  },
  {
   "cell_type": "markdown",
   "metadata": {},
   "source": [
    "<b> Вывод </b>:\n",
    "Все ключевые значения для расчетов сохранены в отдельные переменные. Расчитан достаточный объём сырья для безубыточной разработки новой скважины. Средний запас в каждом регионе меньше значения контрольной точки для безубыточной разработки. Это говорит о том, что запасы в скважине должны быть существенно выше среднего, т.е далеко не все скважины нам подходят.\n"
   ]
  },
  {
   "cell_type": "markdown",
   "metadata": {},
   "source": [
    "## Расчёт прибыли и рисков "
   ]
  },
  {
   "cell_type": "code",
   "execution_count": 55,
   "metadata": {},
   "outputs": [
    {
     "name": "stdout",
     "output_type": "stream",
     "text": [
      "Прибыль для полученного объема сырья 1 регион: 3320826043.1398525\n",
      "Прибыль для полученного объема сырья 2 регион: 2415086696.681511\n",
      "Прибыль для полученного объема сырья 3 регион: 2710349963.5998325\n"
     ]
    }
   ],
   "source": [
    "#правильная индексация предсказаний целей\n",
    "predict_sort_1=pd.Series(predicted_valid_1)\n",
    "target_sort_1=pd.Series(target_valid_1).reset_index(drop=True)\n",
    "\n",
    "predict_sort_2=pd.Series(predicted_valid_2)\n",
    "target_sort_2=pd.Series(target_valid_2).reset_index(drop=True)\n",
    "\n",
    "predict_sort_3=pd.Series(predicted_valid_3)\n",
    "target_sort_3=pd.Series(target_valid_3).reset_index(drop=True)\n",
    "\n",
    "#Функция для расчета прибыли по выбранным скважинам и передсказаниям модели\n",
    "\n",
    "def prodit(target,predict,count):\n",
    "    predict_max = predict.sort_values(ascending=False)\n",
    "    target_max = target[predict_max.index][:count]\n",
    "    return income_product * target_max.sum() - budget\n",
    "\n",
    "result_1 = prodit(target_sort_1, predict_sort_1, 200)\n",
    "result_2 = prodit(target_sort_2,predict_sort_2, 200)\n",
    "result_3 = prodit(target_sort_3,predict_sort_3, 200)\n",
    "\n",
    "print('Прибыль для полученного объема сырья 1 регион:', result_1)\n",
    "print('Прибыль для полученного объема сырья 2 регион:', result_2)\n",
    "print('Прибыль для полученного объема сырья 3 регион:', result_3)"
   ]
  },
  {
   "cell_type": "markdown",
   "metadata": {},
   "source": [
    "<b> Вывод </b>:\n",
    "Написана функция для расчёта прибыли по выбранным скважинам и предсказаниям модели. Выбрано 200 скважины с максимальными значениями предсказаний. Рассчитана прибыль для полученного объёма сырья"
   ]
  },
  {
   "cell_type": "code",
   "execution_count": 56,
   "metadata": {},
   "outputs": [
    {
     "name": "stdout",
     "output_type": "stream",
     "text": [
      "Средняя прибыль: 425938526.9105923\n",
      "97,5%-квантиль: 947976353.358369\n",
      "2,5%-квантиль: -102090094.83793654\n"
     ]
    }
   ],
   "source": [
    "state = np.random.RandomState(12345)\n",
    "\n",
    "def bootstrapstuff(target,predictions,subsample_size=point):\n",
    "  \n",
    "    values = []\n",
    "    for i in range(1000):\n",
    "        target_sub = target.sample(n=subsample_size,replace=True,random_state=state)\n",
    "        predictions_sub = predictions[target_sub.index]\n",
    "        values.append(prodit(target_sub,predictions_sub,200))\n",
    "    return values\n",
    "\n",
    "\n",
    "boot_1 = bootstrapstuff(target_sort_1, predict_sort_1)\n",
    "values_1= pd.Series(boot_1)\n",
    "mean_1=values_1.mean()\n",
    "upper_1 = values_1.quantile(0.975)\n",
    "lower_1 = values_1.quantile(0.025)\n",
    "print(\"Средняя прибыль:\", mean_1)\n",
    "print(\"97,5%-квантиль:\", upper_1)\n",
    "print(\"2,5%-квантиль:\", lower_1)"
   ]
  },
  {
   "cell_type": "code",
   "execution_count": 57,
   "metadata": {},
   "outputs": [
    {
     "name": "stdout",
     "output_type": "stream",
     "text": [
      "Средняя прибыль: 518259493.69732493\n",
      "97,5%-квантиль: 953612982.0669085\n",
      "2,5%-квантиль: 128123231.43308629\n"
     ]
    }
   ],
   "source": [
    "boot_2 = bootstrapstuff(target_sort_2, predict_sort_2)\n",
    "values_2= pd.Series(boot_2)\n",
    "mean_2=values_2.mean()\n",
    "upper_2 = values_2.quantile(0.975)\n",
    "lower_2 = values_2.quantile(0.025)\n",
    "print(\"Средняя прибыль:\", mean_2)\n",
    "print(\"97,5%-квантиль:\", upper_2)\n",
    "print(\"2,5%-квантиль:\", lower_2)"
   ]
  },
  {
   "cell_type": "code",
   "execution_count": 58,
   "metadata": {},
   "outputs": [
    {
     "name": "stdout",
     "output_type": "stream",
     "text": [
      "Средняя прибыль: 420194005.34405005\n",
      "97,5%-квантиль: 989629939.844574\n",
      "2,5%-квантиль: -115852609.16001143\n"
     ]
    }
   ],
   "source": [
    "boot_3 = bootstrapstuff(target_sort_3, predict_sort_3)\n",
    "values_3= pd.Series(boot_3)\n",
    "mean_3=values_3.mean()\n",
    "upper_3 = values_3.quantile(0.975)\n",
    "lower_3 = values_3.quantile(0.025)\n",
    "print(\"Средняя прибыль:\", mean_3)\n",
    "print(\"97,5%-квантиль:\", upper_3)\n",
    "print(\"2,5%-квантиль:\", lower_3)"
   ]
  },
  {
   "cell_type": "markdown",
   "metadata": {},
   "source": [
    "<b> Вывод </b>:\n",
    "Применена техника Bootstrap с 1000 выборок, найдено распределение прибыли для каждого региона, средняя прибыль и риск убытков.\n"
   ]
  },
  {
   "cell_type": "code",
   "execution_count": 131,
   "metadata": {},
   "outputs": [
    {
     "name": "stdout",
     "output_type": "stream",
     "text": [
      "Риск убытка в 1ом регионе: 6.0 %\n",
      "Риск убытка в 2ом регионе: 0.3 %\n",
      "Риск убытка в 3ем регионе: 6.2 %\n"
     ]
    }
   ],
   "source": [
    "#риск убытков\n",
    "\n",
    "def risk(values):\n",
    "    count = 0\n",
    "    for i in range(len(values)):\n",
    "            if values[i] < 0:\n",
    "                count += 1\n",
    "    return count/ len(values) * 100\n",
    "\n",
    "print('Риск убытка в 1ом регионе:', risk(values_1), '%')\n",
    "print('Риск убытка в 2ом регионе:', risk(values_2), '%')\n",
    "print('Риск убытка в 3ем регионе:', risk(values_3), '%')"
   ]
  },
  {
   "cell_type": "code",
   "execution_count": 28,
   "metadata": {},
   "outputs": [
    {
     "name": "stdout",
     "output_type": "stream",
     "text": [
      "   Регион Средняя прибыль(тыс.руб) Риск убытков\n",
      "0  Первый                      425        6.0 %\n",
      "1  Второй                      518        0.3 %\n",
      "2  Третий                      420        6.2 %\n"
     ]
    }
   ],
   "source": [
    "results=pd.DataFrame({'Регион':['Первый','Второй','Третий'],\n",
    "                      'Средняя прибыль(тыс.руб)': ['425', '518', '420'],\n",
    "                      'Риск убытков': ['6.0 %', '0.3 %', '6.2 %'],\n",
    "                         }) \n",
    "\n",
    "print(results)"
   ]
  },
  {
   "cell_type": "markdown",
   "metadata": {},
   "source": [
    "<b> Общий Вывод </b>:\n",
    "\n",
    "В ходе исследования предлагаемый регион для разработки скважин - Второй, так как риск убытков намного ниже, чем в других регионах, а средняя прибыль соответственно выше. Распределение прибыли 95% доверительного интервала - от 128 тысяч до 953 тысяч, при этом как в других регионах 25% квантиль имеет отрицательное значение."
   ]
  }
 ],
 "metadata": {
  "ExecuteTimeLog": [
   {
    "duration": 312,
    "start_time": "2021-09-27T17:25:55.090Z"
   },
   {
    "duration": 1034,
    "start_time": "2021-09-27T17:25:58.223Z"
   },
   {
    "duration": 15,
    "start_time": "2021-09-27T17:25:59.591Z"
   },
   {
    "duration": 32,
    "start_time": "2021-09-27T17:26:47.709Z"
   },
   {
    "duration": 111,
    "start_time": "2021-09-28T11:56:55.848Z"
   },
   {
    "duration": 1922,
    "start_time": "2021-09-28T11:57:07.100Z"
   },
   {
    "duration": 49,
    "start_time": "2021-09-28T11:57:09.912Z"
   },
   {
    "duration": 1659,
    "start_time": "2021-09-28T12:27:00.031Z"
   },
   {
    "duration": 25,
    "start_time": "2021-09-28T12:27:14.289Z"
   },
   {
    "duration": 645,
    "start_time": "2021-09-28T12:28:43.732Z"
   },
   {
    "duration": 475,
    "start_time": "2021-09-28T12:29:06.734Z"
   },
   {
    "duration": 46,
    "start_time": "2021-09-28T12:29:08.717Z"
   },
   {
    "duration": 63,
    "start_time": "2021-09-28T12:29:10.798Z"
   },
   {
    "duration": 507,
    "start_time": "2021-09-28T12:33:34.556Z"
   },
   {
    "duration": 44,
    "start_time": "2021-09-28T12:33:36.835Z"
   },
   {
    "duration": 66,
    "start_time": "2021-09-28T12:33:38.859Z"
   },
   {
    "duration": 380,
    "start_time": "2021-09-28T12:37:46.186Z"
   },
   {
    "duration": 289,
    "start_time": "2021-09-28T12:40:41.393Z"
   },
   {
    "duration": 461,
    "start_time": "2021-09-28T12:45:26.140Z"
   },
   {
    "duration": 45,
    "start_time": "2021-09-28T12:45:28.786Z"
   },
   {
    "duration": 69,
    "start_time": "2021-09-28T12:45:30.744Z"
   },
   {
    "duration": 21,
    "start_time": "2021-09-28T12:45:32.266Z"
   },
   {
    "duration": 15,
    "start_time": "2021-09-28T12:45:57.556Z"
   },
   {
    "duration": 16,
    "start_time": "2021-09-28T12:46:03.434Z"
   },
   {
    "duration": 16,
    "start_time": "2021-09-28T12:46:11.402Z"
   },
   {
    "duration": 16,
    "start_time": "2021-09-28T12:46:14.828Z"
   },
   {
    "duration": 324,
    "start_time": "2021-09-28T12:46:49.716Z"
   },
   {
    "duration": 17,
    "start_time": "2021-09-28T13:16:14.756Z"
   },
   {
    "duration": 17,
    "start_time": "2021-09-28T13:17:28.475Z"
   },
   {
    "duration": 16,
    "start_time": "2021-09-28T13:18:08.007Z"
   },
   {
    "duration": 16,
    "start_time": "2021-09-28T13:18:42.011Z"
   },
   {
    "duration": 1767,
    "start_time": "2021-09-29T11:09:51.896Z"
   },
   {
    "duration": 67,
    "start_time": "2021-09-29T11:09:55.885Z"
   },
   {
    "duration": 87,
    "start_time": "2021-09-29T11:09:57.086Z"
   },
   {
    "duration": 71,
    "start_time": "2021-09-29T11:10:01.177Z"
   },
   {
    "duration": 88,
    "start_time": "2021-09-29T11:10:02.670Z"
   },
   {
    "duration": 60,
    "start_time": "2021-09-29T11:10:29.799Z"
   },
   {
    "duration": 17,
    "start_time": "2021-09-29T11:10:31.975Z"
   },
   {
    "duration": 17,
    "start_time": "2021-09-29T11:10:33.420Z"
   },
   {
    "duration": 4,
    "start_time": "2021-09-29T11:10:46.379Z"
   },
   {
    "duration": 5,
    "start_time": "2021-09-29T11:11:04.456Z"
   },
   {
    "duration": 6,
    "start_time": "2021-09-29T11:13:10.987Z"
   },
   {
    "duration": 6,
    "start_time": "2021-09-29T11:19:13.223Z"
   },
   {
    "duration": 5,
    "start_time": "2021-09-29T14:16:25.923Z"
   },
   {
    "duration": 4,
    "start_time": "2021-09-29T14:21:21.062Z"
   },
   {
    "duration": 614,
    "start_time": "2021-09-29T14:23:30.538Z"
   },
   {
    "duration": 460,
    "start_time": "2021-09-29T14:27:05.246Z"
   },
   {
    "duration": 439,
    "start_time": "2021-09-29T14:27:17.270Z"
   },
   {
    "duration": 18,
    "start_time": "2021-09-29T14:27:59.689Z"
   },
   {
    "duration": 19,
    "start_time": "2021-09-29T14:28:07.987Z"
   },
   {
    "duration": 802,
    "start_time": "2021-09-29T14:28:10.322Z"
   },
   {
    "duration": 419,
    "start_time": "2021-09-29T14:28:45.377Z"
   },
   {
    "duration": 19,
    "start_time": "2021-09-29T14:29:02.024Z"
   },
   {
    "duration": 293,
    "start_time": "2021-09-29T14:29:13.751Z"
   },
   {
    "duration": 22,
    "start_time": "2021-09-29T14:29:20.014Z"
   },
   {
    "duration": 20,
    "start_time": "2021-09-29T14:29:37.622Z"
   },
   {
    "duration": 363,
    "start_time": "2021-09-29T14:29:51.777Z"
   },
   {
    "duration": 17,
    "start_time": "2021-09-29T14:30:01.853Z"
   },
   {
    "duration": 468,
    "start_time": "2021-09-29T14:30:23.473Z"
   },
   {
    "duration": 471,
    "start_time": "2021-09-29T14:30:36.229Z"
   },
   {
    "duration": 350,
    "start_time": "2021-09-29T14:30:59.997Z"
   },
   {
    "duration": 381,
    "start_time": "2021-09-29T14:32:40.064Z"
   },
   {
    "duration": 55,
    "start_time": "2021-09-29T14:32:48.708Z"
   },
   {
    "duration": 96,
    "start_time": "2021-09-29T14:32:53.565Z"
   },
   {
    "duration": 17,
    "start_time": "2021-09-29T14:32:58.812Z"
   },
   {
    "duration": 16,
    "start_time": "2021-09-29T14:34:10.040Z"
   },
   {
    "duration": 1653,
    "start_time": "2021-09-29T14:36:36.616Z"
   },
   {
    "duration": 17,
    "start_time": "2021-09-29T14:36:56.967Z"
   },
   {
    "duration": 60,
    "start_time": "2021-09-29T14:36:58.297Z"
   },
   {
    "duration": 17,
    "start_time": "2021-09-29T14:37:04.496Z"
   },
   {
    "duration": 5,
    "start_time": "2021-09-29T14:37:07.907Z"
   },
   {
    "duration": 93,
    "start_time": "2021-09-29T14:37:09.083Z"
   },
   {
    "duration": 32,
    "start_time": "2021-09-29T14:37:26.810Z"
   },
   {
    "duration": 125,
    "start_time": "2021-09-29T14:48:01.836Z"
   },
   {
    "duration": 301,
    "start_time": "2021-09-29T14:48:24.508Z"
   },
   {
    "duration": 320,
    "start_time": "2021-09-29T14:48:42.181Z"
   },
   {
    "duration": 3754,
    "start_time": "2021-09-29T14:50:27.829Z"
   },
   {
    "duration": 3666,
    "start_time": "2021-09-29T14:50:43.005Z"
   },
   {
    "duration": 394,
    "start_time": "2021-09-29T14:52:48.133Z"
   },
   {
    "duration": 290,
    "start_time": "2021-09-29T15:01:44.126Z"
   },
   {
    "duration": 5448,
    "start_time": "2021-09-29T15:01:51.058Z"
   },
   {
    "duration": 29,
    "start_time": "2021-09-29T15:02:16.954Z"
   },
   {
    "duration": 28,
    "start_time": "2021-09-29T15:02:19.121Z"
   },
   {
    "duration": 10458,
    "start_time": "2021-09-29T15:02:20.569Z"
   },
   {
    "duration": 30,
    "start_time": "2021-09-29T15:02:38.821Z"
   },
   {
    "duration": 270,
    "start_time": "2021-09-29T15:02:56.209Z"
   },
   {
    "duration": 307,
    "start_time": "2021-09-29T15:03:07.782Z"
   },
   {
    "duration": 276,
    "start_time": "2021-09-29T15:07:11.160Z"
   },
   {
    "duration": 285,
    "start_time": "2021-09-29T15:07:19.534Z"
   },
   {
    "duration": 344,
    "start_time": "2021-09-29T15:07:25.311Z"
   },
   {
    "duration": 473,
    "start_time": "2021-09-29T15:14:12.935Z"
   },
   {
    "duration": 304,
    "start_time": "2021-09-29T15:14:18.558Z"
   },
   {
    "duration": 300,
    "start_time": "2021-09-29T15:14:44.098Z"
   },
   {
    "duration": 303,
    "start_time": "2021-09-29T15:15:06.856Z"
   },
   {
    "duration": 297,
    "start_time": "2021-09-29T15:16:46.394Z"
   },
   {
    "duration": 280,
    "start_time": "2021-09-29T15:40:54.372Z"
   },
   {
    "duration": 391,
    "start_time": "2021-09-29T15:44:49.116Z"
   },
   {
    "duration": 282,
    "start_time": "2021-09-29T15:44:52.734Z"
   },
   {
    "duration": 429,
    "start_time": "2021-09-29T15:44:58.165Z"
   },
   {
    "duration": 351,
    "start_time": "2021-09-29T15:45:05.191Z"
   },
   {
    "duration": 309,
    "start_time": "2021-09-29T15:45:14.974Z"
   },
   {
    "duration": 329,
    "start_time": "2021-09-29T15:50:11.815Z"
   },
   {
    "duration": 286,
    "start_time": "2021-09-29T15:50:39.917Z"
   },
   {
    "duration": 10,
    "start_time": "2021-09-29T15:50:56.321Z"
   },
   {
    "duration": 11,
    "start_time": "2021-09-29T15:51:48.428Z"
   },
   {
    "duration": 20,
    "start_time": "2021-09-29T15:52:19.437Z"
   },
   {
    "duration": 21,
    "start_time": "2021-09-29T15:52:45.244Z"
   },
   {
    "duration": 19,
    "start_time": "2021-09-29T15:53:33.906Z"
   },
   {
    "duration": 29,
    "start_time": "2021-09-29T15:54:00.230Z"
   },
   {
    "duration": 19,
    "start_time": "2021-09-29T15:54:01.886Z"
   },
   {
    "duration": 409,
    "start_time": "2021-09-29T15:55:00.409Z"
   },
   {
    "duration": 456,
    "start_time": "2021-09-29T15:55:33.488Z"
   },
   {
    "duration": 285,
    "start_time": "2021-09-29T15:57:29.324Z"
   },
   {
    "duration": 466,
    "start_time": "2021-09-29T15:57:37.119Z"
   },
   {
    "duration": 280,
    "start_time": "2021-09-29T15:58:02.338Z"
   },
   {
    "duration": 5,
    "start_time": "2021-09-29T15:58:09.194Z"
   },
   {
    "duration": 267,
    "start_time": "2021-09-29T15:58:26.266Z"
   },
   {
    "duration": 6,
    "start_time": "2021-09-29T15:58:29.368Z"
   },
   {
    "duration": 3844,
    "start_time": "2021-09-29T15:58:37.857Z"
   },
   {
    "duration": 266,
    "start_time": "2021-09-29T15:58:46.600Z"
   },
   {
    "duration": 7,
    "start_time": "2021-09-29T15:58:50.219Z"
   },
   {
    "duration": 8,
    "start_time": "2021-09-29T15:59:10.686Z"
   },
   {
    "duration": 8,
    "start_time": "2021-09-29T16:00:06.345Z"
   },
   {
    "duration": 447,
    "start_time": "2021-09-29T16:02:08.055Z"
   },
   {
    "duration": 29,
    "start_time": "2021-09-29T16:02:33.542Z"
   },
   {
    "duration": 576,
    "start_time": "2021-09-29T16:02:42.590Z"
   },
   {
    "duration": 3338,
    "start_time": "2021-09-29T16:03:38.333Z"
   },
   {
    "duration": 3372,
    "start_time": "2021-09-29T16:05:14.495Z"
   },
   {
    "duration": 29,
    "start_time": "2021-09-29T16:07:58.462Z"
   },
   {
    "duration": 3309,
    "start_time": "2021-09-29T16:08:04.294Z"
   },
   {
    "duration": 3320,
    "start_time": "2021-09-29T16:09:21.972Z"
   },
   {
    "duration": 29,
    "start_time": "2021-09-29T16:10:03.423Z"
   },
   {
    "duration": 3466,
    "start_time": "2021-09-29T16:10:05.485Z"
   },
   {
    "duration": 3327,
    "start_time": "2021-09-29T16:10:08.959Z"
   },
   {
    "duration": 3580,
    "start_time": "2021-09-29T16:10:35.361Z"
   },
   {
    "duration": 3514,
    "start_time": "2021-09-29T16:11:15.205Z"
   },
   {
    "duration": 3298,
    "start_time": "2021-09-29T16:11:25.211Z"
   },
   {
    "duration": 27,
    "start_time": "2021-09-29T16:11:46.710Z"
   },
   {
    "duration": 3266,
    "start_time": "2021-09-29T16:11:50.998Z"
   },
   {
    "duration": 3322,
    "start_time": "2021-09-29T16:11:54.267Z"
   },
   {
    "duration": 3273,
    "start_time": "2021-09-29T16:11:57.592Z"
   },
   {
    "duration": 3546,
    "start_time": "2021-09-29T16:17:40.835Z"
   },
   {
    "duration": 3332,
    "start_time": "2021-09-29T16:17:44.383Z"
   },
   {
    "duration": 3286,
    "start_time": "2021-09-29T16:18:08.836Z"
   },
   {
    "duration": 472,
    "start_time": "2021-09-29T16:21:56.241Z"
   },
   {
    "duration": 452,
    "start_time": "2021-09-29T16:23:16.792Z"
   },
   {
    "duration": 584,
    "start_time": "2021-09-29T16:23:49.055Z"
   },
   {
    "duration": 453,
    "start_time": "2021-09-29T16:24:21.669Z"
   },
   {
    "duration": 510,
    "start_time": "2021-09-29T16:26:29.863Z"
   },
   {
    "duration": 4994,
    "start_time": "2021-09-29T16:26:54.397Z"
   },
   {
    "duration": 4681,
    "start_time": "2021-09-29T16:27:14.935Z"
   },
   {
    "duration": 471,
    "start_time": "2021-09-29T16:33:55.291Z"
   },
   {
    "duration": 32,
    "start_time": "2021-09-29T16:36:28.231Z"
   },
   {
    "duration": 5150,
    "start_time": "2021-09-29T16:36:59.542Z"
   },
   {
    "duration": 5152,
    "start_time": "2021-09-29T16:37:25.184Z"
   },
   {
    "duration": 5153,
    "start_time": "2021-09-29T16:37:38.349Z"
   },
   {
    "duration": 4,
    "start_time": "2021-09-29T16:52:36.965Z"
   },
   {
    "duration": 16,
    "start_time": "2021-09-29T16:52:50.824Z"
   },
   {
    "duration": 45,
    "start_time": "2021-09-29T16:53:41.274Z"
   },
   {
    "duration": 40,
    "start_time": "2021-09-29T16:53:53.320Z"
   },
   {
    "duration": 40,
    "start_time": "2021-09-29T16:54:17.178Z"
   },
   {
    "duration": 41,
    "start_time": "2021-09-29T16:54:45.009Z"
   },
   {
    "duration": 5610,
    "start_time": "2021-09-29T16:58:23.041Z"
   },
   {
    "duration": 45,
    "start_time": "2021-09-29T16:58:28.654Z"
   },
   {
    "duration": 418,
    "start_time": "2021-09-29T17:03:05.441Z"
   },
   {
    "duration": 468,
    "start_time": "2021-09-29T17:03:10.525Z"
   },
   {
    "duration": 50,
    "start_time": "2021-09-29T17:03:12.328Z"
   },
   {
    "duration": 68,
    "start_time": "2021-09-29T17:03:14.237Z"
   },
   {
    "duration": 64,
    "start_time": "2021-09-29T17:03:17.395Z"
   },
   {
    "duration": 18,
    "start_time": "2021-09-29T17:03:18.412Z"
   },
   {
    "duration": 16,
    "start_time": "2021-09-29T17:03:19.935Z"
   },
   {
    "duration": 124,
    "start_time": "2021-09-29T17:04:19.980Z"
   },
   {
    "duration": 95,
    "start_time": "2021-09-29T17:04:35.278Z"
   },
   {
    "duration": 96,
    "start_time": "2021-09-29T17:04:41.510Z"
   },
   {
    "duration": 709,
    "start_time": "2021-09-29T17:04:52.295Z"
   },
   {
    "duration": 789,
    "start_time": "2021-09-29T17:05:12.689Z"
   },
   {
    "duration": 345,
    "start_time": "2021-09-29T17:09:35.692Z"
   },
   {
    "duration": 296,
    "start_time": "2021-09-29T17:09:47.108Z"
   },
   {
    "duration": 20,
    "start_time": "2021-09-29T17:10:31.847Z"
   },
   {
    "duration": 22,
    "start_time": "2021-09-29T17:10:50.036Z"
   },
   {
    "duration": 18,
    "start_time": "2021-09-29T17:11:52.817Z"
   },
   {
    "duration": 31,
    "start_time": "2021-09-29T17:14:45.930Z"
   },
   {
    "duration": 475,
    "start_time": "2021-09-29T17:16:50.500Z"
   },
   {
    "duration": 45,
    "start_time": "2021-09-29T17:16:52.615Z"
   },
   {
    "duration": 65,
    "start_time": "2021-09-29T17:16:57.080Z"
   },
   {
    "duration": 21,
    "start_time": "2021-09-29T17:16:58.850Z"
   },
   {
    "duration": 18,
    "start_time": "2021-09-29T17:16:59.922Z"
   },
   {
    "duration": 17,
    "start_time": "2021-09-29T17:17:01.900Z"
   },
   {
    "duration": 9,
    "start_time": "2021-09-29T17:18:52.319Z"
   },
   {
    "duration": 8,
    "start_time": "2021-09-29T17:31:17.824Z"
   },
   {
    "duration": 339,
    "start_time": "2021-10-01T11:45:34.020Z"
   },
   {
    "duration": 2150,
    "start_time": "2021-10-01T11:45:38.041Z"
   },
   {
    "duration": 51,
    "start_time": "2021-10-01T11:45:40.193Z"
   },
   {
    "duration": 76,
    "start_time": "2021-10-01T11:45:42.517Z"
   },
   {
    "duration": 375,
    "start_time": "2021-10-01T11:45:53.514Z"
   },
   {
    "duration": 298,
    "start_time": "2021-10-01T11:45:59.082Z"
   },
   {
    "duration": 65,
    "start_time": "2021-10-01T11:46:07.930Z"
   },
   {
    "duration": 72,
    "start_time": "2021-10-01T11:46:12.278Z"
   },
   {
    "duration": 77,
    "start_time": "2021-10-01T11:46:16.822Z"
   },
   {
    "duration": 70,
    "start_time": "2021-10-01T11:46:21.719Z"
   },
   {
    "duration": 134,
    "start_time": "2021-10-01T11:46:28.446Z"
   },
   {
    "duration": 24,
    "start_time": "2021-10-01T11:46:47.608Z"
   },
   {
    "duration": 364,
    "start_time": "2021-10-01T11:47:13.939Z"
   },
   {
    "duration": 32,
    "start_time": "2021-10-01T11:47:19.942Z"
   },
   {
    "duration": 96,
    "start_time": "2021-10-01T11:48:54.352Z"
   },
   {
    "duration": 96,
    "start_time": "2021-10-01T11:49:00.679Z"
   },
   {
    "duration": 39,
    "start_time": "2021-10-01T11:49:08.437Z"
   },
   {
    "duration": 39,
    "start_time": "2021-10-01T11:49:25.507Z"
   },
   {
    "duration": 36,
    "start_time": "2021-10-01T11:49:33.364Z"
   },
   {
    "duration": 118,
    "start_time": "2021-10-01T11:49:51.782Z"
   },
   {
    "duration": 31,
    "start_time": "2021-10-01T11:49:56.066Z"
   },
   {
    "duration": 45,
    "start_time": "2021-10-01T11:52:28.932Z"
   },
   {
    "duration": 67,
    "start_time": "2021-10-01T11:53:06.801Z"
   },
   {
    "duration": 20,
    "start_time": "2021-10-01T11:53:17.951Z"
   },
   {
    "duration": 344,
    "start_time": "2021-10-01T11:53:41.485Z"
   },
   {
    "duration": 113,
    "start_time": "2021-10-01T11:53:52.133Z"
   },
   {
    "duration": 111,
    "start_time": "2021-10-01T11:54:28.819Z"
   },
   {
    "duration": 106,
    "start_time": "2021-10-01T11:54:41.551Z"
   },
   {
    "duration": 109,
    "start_time": "2021-10-01T11:54:58.627Z"
   },
   {
    "duration": 524,
    "start_time": "2021-10-04T09:25:15.260Z"
   },
   {
    "duration": 1853,
    "start_time": "2021-10-04T09:25:20.407Z"
   },
   {
    "duration": 50,
    "start_time": "2021-10-04T09:25:22.319Z"
   },
   {
    "duration": 147,
    "start_time": "2021-10-04T09:25:25.041Z"
   },
   {
    "duration": 113,
    "start_time": "2021-10-04T09:25:26.637Z"
   },
   {
    "duration": 121,
    "start_time": "2021-10-04T09:25:28.654Z"
   },
   {
    "duration": 69,
    "start_time": "2021-10-04T09:25:30.827Z"
   },
   {
    "duration": 26,
    "start_time": "2021-10-04T09:25:38.041Z"
   },
   {
    "duration": 100,
    "start_time": "2021-10-04T09:25:39.361Z"
   },
   {
    "duration": 16,
    "start_time": "2021-10-04T09:25:41.639Z"
   },
   {
    "duration": 8,
    "start_time": "2021-10-04T09:25:43.621Z"
   },
   {
    "duration": 9,
    "start_time": "2021-10-04T09:26:52.753Z"
   },
   {
    "duration": 7,
    "start_time": "2021-10-04T09:27:11.883Z"
   },
   {
    "duration": 8,
    "start_time": "2021-10-04T09:27:48.098Z"
   },
   {
    "duration": 27,
    "start_time": "2021-10-04T09:27:58.739Z"
   },
   {
    "duration": 8,
    "start_time": "2021-10-04T09:27:59.953Z"
   },
   {
    "duration": 61,
    "start_time": "2021-10-04T09:28:01.201Z"
   },
   {
    "duration": 8,
    "start_time": "2021-10-04T09:28:02.338Z"
   },
   {
    "duration": 16,
    "start_time": "2021-10-04T09:28:03.888Z"
   },
   {
    "duration": 8,
    "start_time": "2021-10-04T09:28:04.812Z"
   },
   {
    "duration": 17,
    "start_time": "2021-10-04T09:33:21.513Z"
   },
   {
    "duration": 104,
    "start_time": "2021-10-04T09:38:05.860Z"
   },
   {
    "duration": 16,
    "start_time": "2021-10-04T09:38:16.411Z"
   },
   {
    "duration": 421,
    "start_time": "2021-10-04T09:40:49.816Z"
   },
   {
    "duration": 34,
    "start_time": "2021-10-04T09:40:57.229Z"
   },
   {
    "duration": 19,
    "start_time": "2021-10-04T09:50:15.932Z"
   },
   {
    "duration": 7,
    "start_time": "2021-10-04T09:50:19.644Z"
   },
   {
    "duration": 39,
    "start_time": "2021-10-04T09:50:24.027Z"
   },
   {
    "duration": 18,
    "start_time": "2021-10-04T09:50:57.783Z"
   },
   {
    "duration": 8,
    "start_time": "2021-10-04T09:51:00.373Z"
   },
   {
    "duration": 355,
    "start_time": "2021-10-04T09:52:24.335Z"
   },
   {
    "duration": 582,
    "start_time": "2021-10-04T09:52:43.583Z"
   },
   {
    "duration": 14,
    "start_time": "2021-10-04T09:52:48.862Z"
   },
   {
    "duration": 15,
    "start_time": "2021-10-04T09:53:00.955Z"
   },
   {
    "duration": 10,
    "start_time": "2021-10-04T09:53:23.635Z"
   },
   {
    "duration": 15,
    "start_time": "2021-10-04T09:53:25.370Z"
   },
   {
    "duration": 13,
    "start_time": "2021-10-04T09:54:37.068Z"
   },
   {
    "duration": 16,
    "start_time": "2021-10-04T09:54:40.010Z"
   },
   {
    "duration": 12,
    "start_time": "2021-10-04T09:54:43.011Z"
   },
   {
    "duration": 18,
    "start_time": "2021-10-04T09:54:45.335Z"
   },
   {
    "duration": 20,
    "start_time": "2021-10-04T09:55:51.860Z"
   },
   {
    "duration": 8,
    "start_time": "2021-10-04T10:00:52.363Z"
   },
   {
    "duration": 16,
    "start_time": "2021-10-04T10:00:56.491Z"
   },
   {
    "duration": 338,
    "start_time": "2021-10-04T10:02:48.915Z"
   },
   {
    "duration": 8,
    "start_time": "2021-10-04T10:03:17.720Z"
   },
   {
    "duration": 17,
    "start_time": "2021-10-04T10:03:31.334Z"
   },
   {
    "duration": 13,
    "start_time": "2021-10-04T10:03:47.652Z"
   },
   {
    "duration": 94,
    "start_time": "2021-10-04T10:04:06.168Z"
   },
   {
    "duration": 14,
    "start_time": "2021-10-04T10:04:07.978Z"
   },
   {
    "duration": 13,
    "start_time": "2021-10-04T10:04:26.809Z"
   },
   {
    "duration": 17,
    "start_time": "2021-10-04T10:04:48.568Z"
   },
   {
    "duration": 14,
    "start_time": "2021-10-04T10:04:54.121Z"
   },
   {
    "duration": 333,
    "start_time": "2021-10-04T10:26:35.914Z"
   },
   {
    "duration": 7,
    "start_time": "2021-10-04T10:26:44.460Z"
   },
   {
    "duration": 37,
    "start_time": "2021-10-04T10:26:45.737Z"
   },
   {
    "duration": 5579,
    "start_time": "2021-10-04T10:26:48.696Z"
   },
   {
    "duration": 5856,
    "start_time": "2021-10-04T10:26:55.107Z"
   },
   {
    "duration": 5283,
    "start_time": "2021-10-04T10:27:01.050Z"
   }
  ],
  "kernelspec": {
   "display_name": "Python 3 (ipykernel)",
   "language": "python",
   "name": "python3"
  },
  "language_info": {
   "codemirror_mode": {
    "name": "ipython",
    "version": 3
   },
   "file_extension": ".py",
   "mimetype": "text/x-python",
   "name": "python",
   "nbconvert_exporter": "python",
   "pygments_lexer": "ipython3",
   "version": "3.9.7"
  },
  "toc": {
   "base_numbering": 1,
   "nav_menu": {},
   "number_sections": true,
   "sideBar": true,
   "skip_h1_title": true,
   "title_cell": "Table of Contents",
   "title_sidebar": "Contents",
   "toc_cell": false,
   "toc_position": {},
   "toc_section_display": true,
   "toc_window_display": false
  }
 },
 "nbformat": 4,
 "nbformat_minor": 2
}
