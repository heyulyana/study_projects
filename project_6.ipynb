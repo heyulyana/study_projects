{
 "cells": [
  {
   "cell_type": "markdown",
   "metadata": {},
   "source": [
    "# Отток клиентов"
   ]
  },
  {
   "cell_type": "markdown",
   "metadata": {},
   "source": [
    "Из «Бета-Банка» стали уходить клиенты. Каждый месяц. Немного, но заметно. Банковские маркетологи посчитали: сохранять текущих клиентов дешевле, чем привлекать новых. Нужно спрогнозировать, уйдёт клиент из банка в ближайшее время или нет. Вам предоставлены исторические данные о поведении клиентов и расторжении договоров с банком. \n",
    "\n",
    "Цель: Построить модель с предельно большим значением *F1*-меры. "
   ]
  },
  {
   "cell_type": "markdown",
   "metadata": {},
   "source": [
    "## Подготовка данных"
   ]
  },
  {
   "cell_type": "code",
   "execution_count": 1,
   "metadata": {},
   "outputs": [
    {
     "data": {
      "text/html": [
       "<div>\n",
       "<style scoped>\n",
       "    .dataframe tbody tr th:only-of-type {\n",
       "        vertical-align: middle;\n",
       "    }\n",
       "\n",
       "    .dataframe tbody tr th {\n",
       "        vertical-align: top;\n",
       "    }\n",
       "\n",
       "    .dataframe thead th {\n",
       "        text-align: right;\n",
       "    }\n",
       "</style>\n",
       "<table border=\"1\" class=\"dataframe\">\n",
       "  <thead>\n",
       "    <tr style=\"text-align: right;\">\n",
       "      <th></th>\n",
       "      <th>RowNumber</th>\n",
       "      <th>CustomerId</th>\n",
       "      <th>Surname</th>\n",
       "      <th>CreditScore</th>\n",
       "      <th>Geography</th>\n",
       "      <th>Gender</th>\n",
       "      <th>Age</th>\n",
       "      <th>Tenure</th>\n",
       "      <th>Balance</th>\n",
       "      <th>NumOfProducts</th>\n",
       "      <th>HasCrCard</th>\n",
       "      <th>IsActiveMember</th>\n",
       "      <th>EstimatedSalary</th>\n",
       "      <th>Exited</th>\n",
       "    </tr>\n",
       "  </thead>\n",
       "  <tbody>\n",
       "    <tr>\n",
       "      <td>0</td>\n",
       "      <td>1</td>\n",
       "      <td>15634602</td>\n",
       "      <td>Hargrave</td>\n",
       "      <td>619</td>\n",
       "      <td>France</td>\n",
       "      <td>Female</td>\n",
       "      <td>42</td>\n",
       "      <td>2.0</td>\n",
       "      <td>0.00</td>\n",
       "      <td>1</td>\n",
       "      <td>1</td>\n",
       "      <td>1</td>\n",
       "      <td>101348.88</td>\n",
       "      <td>1</td>\n",
       "    </tr>\n",
       "    <tr>\n",
       "      <td>1</td>\n",
       "      <td>2</td>\n",
       "      <td>15647311</td>\n",
       "      <td>Hill</td>\n",
       "      <td>608</td>\n",
       "      <td>Spain</td>\n",
       "      <td>Female</td>\n",
       "      <td>41</td>\n",
       "      <td>1.0</td>\n",
       "      <td>83807.86</td>\n",
       "      <td>1</td>\n",
       "      <td>0</td>\n",
       "      <td>1</td>\n",
       "      <td>112542.58</td>\n",
       "      <td>0</td>\n",
       "    </tr>\n",
       "    <tr>\n",
       "      <td>2</td>\n",
       "      <td>3</td>\n",
       "      <td>15619304</td>\n",
       "      <td>Onio</td>\n",
       "      <td>502</td>\n",
       "      <td>France</td>\n",
       "      <td>Female</td>\n",
       "      <td>42</td>\n",
       "      <td>8.0</td>\n",
       "      <td>159660.80</td>\n",
       "      <td>3</td>\n",
       "      <td>1</td>\n",
       "      <td>0</td>\n",
       "      <td>113931.57</td>\n",
       "      <td>1</td>\n",
       "    </tr>\n",
       "    <tr>\n",
       "      <td>3</td>\n",
       "      <td>4</td>\n",
       "      <td>15701354</td>\n",
       "      <td>Boni</td>\n",
       "      <td>699</td>\n",
       "      <td>France</td>\n",
       "      <td>Female</td>\n",
       "      <td>39</td>\n",
       "      <td>1.0</td>\n",
       "      <td>0.00</td>\n",
       "      <td>2</td>\n",
       "      <td>0</td>\n",
       "      <td>0</td>\n",
       "      <td>93826.63</td>\n",
       "      <td>0</td>\n",
       "    </tr>\n",
       "    <tr>\n",
       "      <td>4</td>\n",
       "      <td>5</td>\n",
       "      <td>15737888</td>\n",
       "      <td>Mitchell</td>\n",
       "      <td>850</td>\n",
       "      <td>Spain</td>\n",
       "      <td>Female</td>\n",
       "      <td>43</td>\n",
       "      <td>2.0</td>\n",
       "      <td>125510.82</td>\n",
       "      <td>1</td>\n",
       "      <td>1</td>\n",
       "      <td>1</td>\n",
       "      <td>79084.10</td>\n",
       "      <td>0</td>\n",
       "    </tr>\n",
       "    <tr>\n",
       "      <td>5</td>\n",
       "      <td>6</td>\n",
       "      <td>15574012</td>\n",
       "      <td>Chu</td>\n",
       "      <td>645</td>\n",
       "      <td>Spain</td>\n",
       "      <td>Male</td>\n",
       "      <td>44</td>\n",
       "      <td>8.0</td>\n",
       "      <td>113755.78</td>\n",
       "      <td>2</td>\n",
       "      <td>1</td>\n",
       "      <td>0</td>\n",
       "      <td>149756.71</td>\n",
       "      <td>1</td>\n",
       "    </tr>\n",
       "    <tr>\n",
       "      <td>6</td>\n",
       "      <td>7</td>\n",
       "      <td>15592531</td>\n",
       "      <td>Bartlett</td>\n",
       "      <td>822</td>\n",
       "      <td>France</td>\n",
       "      <td>Male</td>\n",
       "      <td>50</td>\n",
       "      <td>7.0</td>\n",
       "      <td>0.00</td>\n",
       "      <td>2</td>\n",
       "      <td>1</td>\n",
       "      <td>1</td>\n",
       "      <td>10062.80</td>\n",
       "      <td>0</td>\n",
       "    </tr>\n",
       "    <tr>\n",
       "      <td>7</td>\n",
       "      <td>8</td>\n",
       "      <td>15656148</td>\n",
       "      <td>Obinna</td>\n",
       "      <td>376</td>\n",
       "      <td>Germany</td>\n",
       "      <td>Female</td>\n",
       "      <td>29</td>\n",
       "      <td>4.0</td>\n",
       "      <td>115046.74</td>\n",
       "      <td>4</td>\n",
       "      <td>1</td>\n",
       "      <td>0</td>\n",
       "      <td>119346.88</td>\n",
       "      <td>1</td>\n",
       "    </tr>\n",
       "    <tr>\n",
       "      <td>8</td>\n",
       "      <td>9</td>\n",
       "      <td>15792365</td>\n",
       "      <td>He</td>\n",
       "      <td>501</td>\n",
       "      <td>France</td>\n",
       "      <td>Male</td>\n",
       "      <td>44</td>\n",
       "      <td>4.0</td>\n",
       "      <td>142051.07</td>\n",
       "      <td>2</td>\n",
       "      <td>0</td>\n",
       "      <td>1</td>\n",
       "      <td>74940.50</td>\n",
       "      <td>0</td>\n",
       "    </tr>\n",
       "    <tr>\n",
       "      <td>9</td>\n",
       "      <td>10</td>\n",
       "      <td>15592389</td>\n",
       "      <td>H?</td>\n",
       "      <td>684</td>\n",
       "      <td>France</td>\n",
       "      <td>Male</td>\n",
       "      <td>27</td>\n",
       "      <td>2.0</td>\n",
       "      <td>134603.88</td>\n",
       "      <td>1</td>\n",
       "      <td>1</td>\n",
       "      <td>1</td>\n",
       "      <td>71725.73</td>\n",
       "      <td>0</td>\n",
       "    </tr>\n",
       "  </tbody>\n",
       "</table>\n",
       "</div>"
      ],
      "text/plain": [
       "   RowNumber  CustomerId   Surname  CreditScore Geography  Gender  Age  \\\n",
       "0          1    15634602  Hargrave          619    France  Female   42   \n",
       "1          2    15647311      Hill          608     Spain  Female   41   \n",
       "2          3    15619304      Onio          502    France  Female   42   \n",
       "3          4    15701354      Boni          699    France  Female   39   \n",
       "4          5    15737888  Mitchell          850     Spain  Female   43   \n",
       "5          6    15574012       Chu          645     Spain    Male   44   \n",
       "6          7    15592531  Bartlett          822    France    Male   50   \n",
       "7          8    15656148    Obinna          376   Germany  Female   29   \n",
       "8          9    15792365        He          501    France    Male   44   \n",
       "9         10    15592389        H?          684    France    Male   27   \n",
       "\n",
       "   Tenure    Balance  NumOfProducts  HasCrCard  IsActiveMember  \\\n",
       "0     2.0       0.00              1          1               1   \n",
       "1     1.0   83807.86              1          0               1   \n",
       "2     8.0  159660.80              3          1               0   \n",
       "3     1.0       0.00              2          0               0   \n",
       "4     2.0  125510.82              1          1               1   \n",
       "5     8.0  113755.78              2          1               0   \n",
       "6     7.0       0.00              2          1               1   \n",
       "7     4.0  115046.74              4          1               0   \n",
       "8     4.0  142051.07              2          0               1   \n",
       "9     2.0  134603.88              1          1               1   \n",
       "\n",
       "   EstimatedSalary  Exited  \n",
       "0        101348.88       1  \n",
       "1        112542.58       0  \n",
       "2        113931.57       1  \n",
       "3         93826.63       0  \n",
       "4         79084.10       0  \n",
       "5        149756.71       1  \n",
       "6         10062.80       0  \n",
       "7        119346.88       1  \n",
       "8         74940.50       0  \n",
       "9         71725.73       0  "
      ]
     },
     "execution_count": 1,
     "metadata": {},
     "output_type": "execute_result"
    }
   ],
   "source": [
    "import pandas as pd\n",
    "from sklearn.model_selection import train_test_split\n",
    "from sklearn.linear_model import LogisticRegression\n",
    "from sklearn.preprocessing import StandardScaler\n",
    "from sklearn.metrics import f1_score\n",
    "from sklearn.tree import DecisionTreeClassifier\n",
    "from sklearn.utils import shuffle\n",
    "from sklearn.metrics import roc_auc_score\n",
    "from sklearn.model_selection import GridSearchCV\n",
    "from sklearn.ensemble import RandomForestClassifier\n",
    "import numpy as np\n",
    "from sklearn.preprocessing import OrdinalEncoder\n",
    "from sklearn.metrics import accuracy_score\n",
    "from matplotlib import pyplot as plt\n",
    "from sklearn.dummy import DummyClassifier\n",
    "from sklearn.metrics import precision_score, recall_score\n",
    "from sklearn.metrics import roc_curve \n",
    "\n",
    "import warnings\n",
    "warnings.filterwarnings('ignore')\n",
    "\n",
    "\n",
    "data = pd.read_csv('/datasets/Churn.csv')\n",
    "\n",
    "data.head(10)"
   ]
  },
  {
   "cell_type": "code",
   "execution_count": 2,
   "metadata": {},
   "outputs": [
    {
     "name": "stdout",
     "output_type": "stream",
     "text": [
      "<class 'pandas.core.frame.DataFrame'>\n",
      "RangeIndex: 10000 entries, 0 to 9999\n",
      "Data columns (total 14 columns):\n",
      "RowNumber          10000 non-null int64\n",
      "CustomerId         10000 non-null int64\n",
      "Surname            10000 non-null object\n",
      "CreditScore        10000 non-null int64\n",
      "Geography          10000 non-null object\n",
      "Gender             10000 non-null object\n",
      "Age                10000 non-null int64\n",
      "Tenure             9091 non-null float64\n",
      "Balance            10000 non-null float64\n",
      "NumOfProducts      10000 non-null int64\n",
      "HasCrCard          10000 non-null int64\n",
      "IsActiveMember     10000 non-null int64\n",
      "EstimatedSalary    10000 non-null float64\n",
      "Exited             10000 non-null int64\n",
      "dtypes: float64(3), int64(8), object(3)\n",
      "memory usage: 1.1+ MB\n"
     ]
    }
   ],
   "source": [
    "data.info()"
   ]
  },
  {
   "cell_type": "code",
   "execution_count": 3,
   "metadata": {},
   "outputs": [
    {
     "name": "stdout",
     "output_type": "stream",
     "text": [
      "<class 'pandas.core.frame.DataFrame'>\n",
      "RangeIndex: 10000 entries, 0 to 9999\n",
      "Data columns (total 14 columns):\n",
      "RowNumber          10000 non-null int64\n",
      "CustomerId         10000 non-null int64\n",
      "Surname            10000 non-null object\n",
      "CreditScore        10000 non-null int64\n",
      "Geography          10000 non-null object\n",
      "Gender             10000 non-null object\n",
      "Age                10000 non-null int64\n",
      "Tenure             10000 non-null float64\n",
      "Balance            10000 non-null float64\n",
      "NumOfProducts      10000 non-null int64\n",
      "HasCrCard          10000 non-null int64\n",
      "IsActiveMember     10000 non-null int64\n",
      "EstimatedSalary    10000 non-null float64\n",
      "Exited             10000 non-null int64\n",
      "dtypes: float64(3), int64(8), object(3)\n",
      "memory usage: 1.1+ MB\n"
     ]
    }
   ],
   "source": [
    "#заменяем пропущенные значения в столбце на медиану, сгруппировав по возрасту\n",
    "\n",
    "data['Tenure']=data['Tenure'].fillna(data.groupby('Age')['Tenure'].transform('median'))\n",
    "\n",
    "data.info()\n"
   ]
  },
  {
   "cell_type": "markdown",
   "metadata": {},
   "source": [
    "## Исследование задачи"
   ]
  },
  {
   "cell_type": "code",
   "execution_count": 4,
   "metadata": {
    "scrolled": false
   },
   "outputs": [
    {
     "data": {
      "text/plain": [
       "LogisticRegression(C=1.0, class_weight=None, dual=False, fit_intercept=True,\n",
       "                   intercept_scaling=1, l1_ratio=None, max_iter=100,\n",
       "                   multi_class='warn', n_jobs=None, penalty='l2',\n",
       "                   random_state=12345, solver='liblinear', tol=0.0001,\n",
       "                   verbose=0, warm_start=False)"
      ]
     },
     "execution_count": 4,
     "metadata": {},
     "output_type": "execute_result"
    }
   ],
   "source": [
    "data = data.drop(columns=['Surname', 'RowNumber', 'CustomerId'])\n",
    "\n",
    "data_ohe = pd.get_dummies(data, drop_first=True)\n",
    "\n",
    "features = data_ohe.drop('Exited', axis=1)\n",
    "target = data_ohe['Exited']\n",
    "\n",
    "features_train1, features_valid = train_test_split(features, test_size=0.2, random_state=12345)\n",
    "features_train, features_test = train_test_split(features_train1, test_size=0.25, random_state=12345)\n",
    "\n",
    "target_train1, target_valid = train_test_split(target, test_size=0.2, random_state=12345)\n",
    "target_train, target_test = train_test_split(target_train1, test_size=0.25, random_state=12345)\n",
    " \n",
    "model = LogisticRegression(random_state=12345,solver='liblinear') \n",
    "model.fit(features_train,target_train)\n"
   ]
  },
  {
   "cell_type": "code",
   "execution_count": 5,
   "metadata": {},
   "outputs": [
    {
     "name": "stdout",
     "output_type": "stream",
     "text": [
      "0.24673784104389085\n"
     ]
    }
   ],
   "source": [
    "#проверка значения f1 меры на константной модели\n",
    "dummy = DummyClassifier(random_state=12345)\n",
    "dummy.fit(features_train, target_train)\n",
    "\n",
    "predicted_dummy=dummy.predict(features_valid)\n",
    "print(f1_score(target_valid,predicted_dummy))"
   ]
  },
  {
   "cell_type": "code",
   "execution_count": 6,
   "metadata": {},
   "outputs": [
    {
     "name": "stdout",
     "output_type": "stream",
     "text": [
      "(6000, 11) (6000,)\n",
      "(2000, 11) (2000,)\n",
      "(2000, 11) (2000,)\n"
     ]
    }
   ],
   "source": [
    "numeric = ['CreditScore','Age', 'Tenure', 'Balance', 'EstimatedSalary']\n",
    "scaler = StandardScaler()\n",
    "scaler.fit(features_train[numeric]) \n",
    "features_train[numeric] = scaler.transform(features_train[numeric])\n",
    "features_valid[numeric] = scaler.transform(features_valid[numeric]) \n",
    "features_test[numeric] = scaler.transform(features_test[numeric])\n",
    "\n",
    "\n",
    "print(features_train.shape, target_train.shape)\n",
    "print(features_valid.shape, target_valid.shape)\n",
    "print(features_test.shape, target_test.shape)"
   ]
  },
  {
   "cell_type": "code",
   "execution_count": 7,
   "metadata": {},
   "outputs": [
    {
     "name": "stdout",
     "output_type": "stream",
     "text": [
      "{'max_depth': 11, 'min_samples_leaf': 2, 'min_samples_split': 4, 'n_estimators': 50}\n"
     ]
    }
   ],
   "source": [
    "#Подбор лучших гиперпараметров для Случайного леса\n",
    "\n",
    "parametrs = { 'n_estimators': range (10, 51, 10),\n",
    "              'max_depth': range (1,13, 2),\n",
    "              'min_samples_leaf': range (1,8),\n",
    "              'min_samples_split': range (2,10,2) }\n",
    "\n",
    "\n",
    "clf = RandomForestClassifier()\n",
    "grid = GridSearchCV(clf, parametrs, cv=5,scoring='f1')\n",
    "grid.fit(features_train, target_train)\n",
    "\n",
    "print(grid.best_params_)"
   ]
  },
  {
   "cell_type": "code",
   "execution_count": 8,
   "metadata": {},
   "outputs": [
    {
     "name": "stdout",
     "output_type": "stream",
     "text": [
      "0.5276073619631902\n"
     ]
    }
   ],
   "source": [
    "#Модель случайный лес\n",
    "\n",
    "model = RandomForestClassifier(max_depth = 11,min_samples_leaf=1,min_samples_split=8,n_estimators=10)\n",
    "model.fit(features_train,target_train) \n",
    "predicted_valid=model.predict(features_valid)\n",
    "print(f1_score(target_valid,predicted_valid))"
   ]
  },
  {
   "cell_type": "code",
   "execution_count": 9,
   "metadata": {},
   "outputs": [
    {
     "name": "stdout",
     "output_type": "stream",
     "text": [
      "{'max_depth': 7, 'min_samples_leaf': 6, 'min_samples_split': 6}\n"
     ]
    }
   ],
   "source": [
    "#Подбор лучших гиперпараметров для Дерева решений\n",
    "\n",
    "parametrs = { 'max_depth': range (1,13, 2),\n",
    "              'min_samples_leaf': range (1,8),\n",
    "              'min_samples_split': range (2,10,2)}\n",
    "\n",
    "\n",
    "clf = DecisionTreeClassifier()\n",
    "grid = GridSearchCV(clf, parametrs, cv=5,scoring='f1')\n",
    "grid.fit(features_train, target_train)\n",
    "\n",
    "print(grid.best_params_)"
   ]
  },
  {
   "cell_type": "code",
   "execution_count": 10,
   "metadata": {},
   "outputs": [
    {
     "name": "stdout",
     "output_type": "stream",
     "text": [
      "0.5557163531114326\n"
     ]
    }
   ],
   "source": [
    "#Дерево решений\n",
    "\n",
    "model = DecisionTreeClassifier(max_depth=7,min_samples_leaf=6,min_samples_split=6)\n",
    "model.fit(features_train, target_train)\n",
    "predicted_valid=model.predict(features_valid)\n",
    "print(f1_score(target_valid,predicted_valid))"
   ]
  },
  {
   "cell_type": "code",
   "execution_count": 11,
   "metadata": {},
   "outputs": [
    {
     "name": "stdout",
     "output_type": "stream",
     "text": [
      "{'C': 10.0, 'penalty': 'l1'}\n"
     ]
    }
   ],
   "source": [
    "#Подбор лучших гиперпараметров для Логистической регрессии\n",
    "\n",
    "parametrs= {\"C\":np.logspace(-3,3,7), \"penalty\":[\"l1\",\"l2\"]}\n",
    "clf =LogisticRegression()\n",
    "grid =GridSearchCV(clf,parametrs,cv=10,scoring='f1')\n",
    "grid.fit(features_train, target_train)\n",
    "\n",
    "print(grid.best_params_)"
   ]
  },
  {
   "cell_type": "code",
   "execution_count": 12,
   "metadata": {},
   "outputs": [
    {
     "name": "stdout",
     "output_type": "stream",
     "text": [
      "0.30366492146596863\n"
     ]
    }
   ],
   "source": [
    "#Логистическая регрессия\n",
    "\n",
    "model = LogisticRegression(C=10.0, penalty = 'l1')\n",
    "model.fit(features_train, target_train)\n",
    "predicted_valid=model.predict(features_valid)\n",
    "print(f1_score(target_valid,predicted_valid))"
   ]
  },
  {
   "cell_type": "markdown",
   "metadata": {},
   "source": [
    "<b> Вывод:</b> Подобрала лучшие гиперпараметры и исследовала модели - Случайного Леса, Дерева решений, Логистической регрессии.После обучения данных и без учета дисбаланса лучший результат метрики f1 был у дерева решений.</b>"
   ]
  },
  {
   "cell_type": "code",
   "execution_count": 13,
   "metadata": {},
   "outputs": [
    {
     "name": "stdout",
     "output_type": "stream",
     "text": [
      "                    Модель    F1\n",
      "0       Константная модель  0.24\n",
      "1            Случайный лес  0.56\n",
      "2           Дерево решений  0.55\n",
      "3  Логистическая регрессия  0.30\n"
     ]
    }
   ],
   "source": [
    "results=pd.DataFrame({'Модель':['Константная модель','Случайный лес','Дерево решений', 'Логистическая регрессия'],\n",
    "                      'F1': ['0.24', '0.56', '0.55', '0.30'],\n",
    "                         }) \n",
    "\n",
    "print(results)"
   ]
  },
  {
   "cell_type": "markdown",
   "metadata": {},
   "source": [
    "## Борьба с дисбалансом"
   ]
  },
  {
   "cell_type": "code",
   "execution_count": 14,
   "metadata": {},
   "outputs": [
    {
     "name": "stdout",
     "output_type": "stream",
     "text": [
      "0.6018957345971564\n"
     ]
    }
   ],
   "source": [
    "#Взвешивание классов\n",
    "\n",
    "model = RandomForestClassifier(max_depth = 11,min_samples_leaf=1,min_samples_split=8,n_estimators=10, class_weight='balanced')\n",
    "model.fit(features_train, target_train)\n",
    "predicted_valid=model.predict(features_valid)\n",
    "print(f1_score(target_valid,predicted_valid))\n"
   ]
  },
  {
   "cell_type": "code",
   "execution_count": 15,
   "metadata": {},
   "outputs": [
    {
     "name": "stdout",
     "output_type": "stream",
     "text": [
      "F1: 0.6140724946695096\n",
      "AUC-ROC 0.846214887943651\n"
     ]
    }
   ],
   "source": [
    "#Увеличение выборки\n",
    "\n",
    "def upsample(features, target, repeat):\n",
    "    features_zeros = features[target == 0]\n",
    "    features_ones = features[target == 1]\n",
    "    target_zeros = target[target == 0]\n",
    "    target_ones = target[target == 1]\n",
    "\n",
    "    features_upsampled = pd.concat([features_zeros] + [features_ones] * repeat)\n",
    "    target_upsampled = pd.concat([target_zeros] + [target_ones] * repeat)\n",
    "    \n",
    "    features_upsampled, target_upsampled = shuffle(\n",
    "        features_upsampled, target_upsampled, random_state=12345)\n",
    "    \n",
    "    return features_upsampled, target_upsampled\n",
    "\n",
    "features_upsampled, target_upsampled = upsample(features_train, target_train, 4)\n",
    "\n",
    "model = RandomForestClassifier(max_depth = 11,min_samples_leaf=1,min_samples_split=8,n_estimators=10, class_weight='balanced')\n",
    "model.fit(features_upsampled,target_upsampled)\n",
    "predicted_valid = model.predict(features_valid)\n",
    "\n",
    "print(\"F1:\", f1_score(target_valid, predicted_valid))\n",
    "\n",
    "probabilities_valid = model.predict_proba(features_valid)\n",
    "probabilities_one_valid = probabilities_valid[:, 1]\n",
    "auc_roc = roc_auc_score(target_valid, probabilities_one_valid)\n",
    "print(\"AUC-ROC\", auc_roc)"
   ]
  },
  {
   "cell_type": "code",
   "execution_count": 16,
   "metadata": {},
   "outputs": [
    {
     "name": "stdout",
     "output_type": "stream",
     "text": [
      "0    0.796833\n",
      "1    0.203167\n",
      "Name: Exited, dtype: float64\n"
     ]
    },
    {
     "data": {
      "text/plain": [
       "<matplotlib.axes._subplots.AxesSubplot at 0x7f4eac918c50>"
      ]
     },
     "execution_count": 16,
     "metadata": {},
     "output_type": "execute_result"
    },
    {
     "data": {
      "image/png": "[encoded data removed]",
      "text/plain": [
       "<Figure size 432x288 with 1 Axes>"
      ]
     },
     "metadata": {
      "needs_background": "light"
     },
     "output_type": "display_data"
    }
   ],
   "source": [
    "#считаем соотношение классов\n",
    "class_frequency = target_train.value_counts(normalize=True)\n",
    "print(class_frequency)\n",
    "class_frequency.plot(kind='bar') "
   ]
  },
  {
   "cell_type": "code",
   "execution_count": 17,
   "metadata": {
    "scrolled": true
   },
   "outputs": [
    {
     "name": "stdout",
     "output_type": "stream",
     "text": [
      "Порог = 0.00 | Точность = 0.214, Полнота = 1.000\n",
      "Порог = 0.02 | Точность = 0.218, Полнота = 0.991\n",
      "Порог = 0.04 | Точность = 0.230, Полнота = 0.984\n",
      "Порог = 0.06 | Точность = 0.242, Полнота = 0.979\n",
      "Порог = 0.08 | Точность = 0.257, Полнота = 0.979\n",
      "Порог = 0.10 | Точность = 0.270, Полнота = 0.965\n",
      "Порог = 0.12 | Точность = 0.283, Полнота = 0.958\n",
      "Порог = 0.14 | Точность = 0.295, Полнота = 0.941\n",
      "Порог = 0.16 | Точность = 0.308, Полнота = 0.930\n",
      "Порог = 0.18 | Точность = 0.325, Полнота = 0.916\n",
      "Порог = 0.20 | Точность = 0.341, Полнота = 0.906\n",
      "Порог = 0.22 | Точность = 0.354, Полнота = 0.888\n",
      "Порог = 0.24 | Точность = 0.371, Полнота = 0.867\n",
      "Порог = 0.26 | Точность = 0.386, Полнота = 0.845\n",
      "Порог = 0.28 | Точность = 0.402, Полнота = 0.824\n",
      "Порог = 0.30 | Точность = 0.418, Полнота = 0.808\n",
      "Порог = 0.32 | Точность = 0.433, Полнота = 0.782\n",
      "Порог = 0.34 | Точность = 0.447, Полнота = 0.768\n",
      "Порог = 0.36 | Точность = 0.460, Полнота = 0.747\n",
      "Порог = 0.38 | Точность = 0.477, Полнота = 0.728\n",
      "Порог = 0.40 | Точность = 0.489, Полнота = 0.705\n",
      "Порог = 0.42 | Точность = 0.510, Полнота = 0.686\n",
      "Порог = 0.44 | Точность = 0.529, Полнота = 0.653\n",
      "Порог = 0.46 | Точность = 0.545, Полнота = 0.632\n",
      "Порог = 0.48 | Точность = 0.559, Полнота = 0.618\n",
      "Порог = 0.50 | Точность = 0.575, Полнота = 0.593\n",
      "Порог = 0.52 | Точность = 0.600, Полнота = 0.578\n",
      "Порог = 0.54 | Точность = 0.622, Полнота = 0.560\n",
      "Порог = 0.56 | Точность = 0.633, Полнота = 0.541\n",
      "Порог = 0.58 | Точность = 0.658, Полнота = 0.532\n",
      "Порог = 0.60 | Точность = 0.679, Полнота = 0.506\n",
      "Порог = 0.62 | Точность = 0.690, Полнота = 0.475\n",
      "Порог = 0.64 | Точность = 0.712, Полнота = 0.464\n",
      "Порог = 0.66 | Точность = 0.719, Полнота = 0.438\n",
      "Порог = 0.68 | Точность = 0.725, Полнота = 0.415\n"
     ]
    }
   ],
   "source": [
    "\n",
    "model = RandomForestClassifier(max_depth = 11,min_samples_leaf=1,min_samples_split=8,n_estimators=10, class_weight='balanced')\n",
    "model.fit(features_train, target_train)\n",
    "probabilities_valid = model.predict_proba(features_valid)\n",
    "probabilities_one_valid = probabilities_valid[:, 1]\n",
    "\n",
    "for threshold in np.arange(0, 0.7, 0.02):\n",
    "    predicted_valid = probabilities_one_valid > threshold\n",
    "    precision = precision_score(target_valid,predicted_valid) \n",
    "    recall = recall_score(target_valid, predicted_valid) \n",
    "\n",
    "    print(\"Порог = {:.2f} | Точность = {:.3f}, Полнота = {:.3f}\".format(\n",
    "        threshold, precision, recall))"
   ]
  },
  {
   "cell_type": "code",
   "execution_count": 18,
   "metadata": {},
   "outputs": [
    {
     "name": "stdout",
     "output_type": "stream",
     "text": [
      "Полнота = 0.611\n",
      "F1: 0.6192170818505337\n",
      "AUC-ROC 0.8465372183703034\n"
     ]
    }
   ],
   "source": [
    "model = RandomForestClassifier(max_depth = 11,min_samples_leaf=1,min_samples_split=8,n_estimators=10, class_weight='balanced')\n",
    "model.fit(features_train, target_train)\n",
    "probabilities_valid = model.predict_proba(features_valid)\n",
    "probabilities_one_valid = probabilities_valid[:, 1]\n",
    "predicted_valid = probabilities_one_valid > 0.51\n",
    "recall = recall_score(target_valid, predicted_valid) \n",
    "auc_roc = roc_auc_score(target_valid, probabilities_one_valid)\n",
    "\n",
    "print(\"Полнота = {:.3f}\".format(recall))\n",
    "print(\"F1:\", f1_score(target_valid, predicted_valid))\n",
    "print(\"AUC-ROC\", auc_roc)"
   ]
  },
  {
   "cell_type": "markdown",
   "metadata": {},
   "source": [
    "<b> Вывод:</b> Был учтен дисбаланс, для этого применены следующие способы борьбы с дисбалансом:\n",
    "\n",
    "1.Взвешивание классов, после чего мера f1 повысилась до 0.57\n",
    "\n",
    "2.Увеличение выборки, после чего мера f1 повысилась до 0.58\n",
    "\n",
    "3.Изменение порога классификации, после чего мера f1 повысилсь до 0.60\n",
    "\n",
    "метрика AUC-ROC при этом равна 0.81, что близко к 1, и лучше, чем AUC-ROC случайной модели(0.5)"
   ]
  },
  {
   "cell_type": "code",
   "execution_count": 19,
   "metadata": {},
   "outputs": [
    {
     "name": "stdout",
     "output_type": "stream",
     "text": [
      "F1: 0.5727109515260324\n"
     ]
    }
   ],
   "source": [
    "def downsample(features, target, fraction):\n",
    "    features_zeros = features[target == 0]\n",
    "    features_ones = features[target == 1]\n",
    "    target_zeros = target[target == 0]\n",
    "    target_ones = target[target == 1]\n",
    "\n",
    "    features_downsampled = pd.concat(\n",
    "        [features_zeros.sample(frac=fraction, random_state=12345)] + [features_ones])\n",
    "    target_downsampled = pd.concat(\n",
    "        [target_zeros.sample(frac=fraction, random_state=12345)] + [target_ones])\n",
    "    \n",
    "    features_downsampled, target_downsampled = shuffle(\n",
    "        features_downsampled, target_downsampled, random_state=12345)\n",
    "    \n",
    "    return features_downsampled, target_downsampled\n",
    "\n",
    "features_downsampled, target_downsampled = downsample(features_train, target_train, 0.25)\n",
    "\n",
    "model = RandomForestClassifier(max_depth = 11,min_samples_leaf=1,min_samples_split=8,n_estimators=10, class_weight='balanced')\n",
    "model.fit(features_downsampled, target_downsampled)\n",
    "predicted_valid = model.predict(features_valid)\n",
    "\n",
    "\n",
    "print(\"F1:\", f1_score(target_valid, predicted_valid))"
   ]
  },
  {
   "cell_type": "markdown",
   "metadata": {},
   "source": [
    "## Тестирование модели"
   ]
  },
  {
   "cell_type": "code",
   "execution_count": 20,
   "metadata": {},
   "outputs": [
    {
     "name": "stdout",
     "output_type": "stream",
     "text": [
      "0    0.79425\n",
      "1    0.20575\n",
      "Name: Exited, dtype: float64\n",
      "(8000, 11)\n",
      "(8000,)\n"
     ]
    }
   ],
   "source": [
    "features_new = pd.concat([features_train] + [features_valid])\n",
    "target_new = pd.concat([target_train] + [target_valid])\n",
    "\n",
    "class_frequency = target_new.value_counts(normalize=True)\n",
    "print(class_frequency)\n",
    "\n",
    "print(features_new.shape)\n",
    "print(target_new.shape)"
   ]
  },
  {
   "cell_type": "code",
   "execution_count": 21,
   "metadata": {
    "scrolled": false
   },
   "outputs": [
    {
     "data": {
      "text/plain": [
       "RandomForestClassifier(bootstrap=True, class_weight='balanced',\n",
       "                       criterion='gini', max_depth=11, max_features='auto',\n",
       "                       max_leaf_nodes=None, min_impurity_decrease=0.0,\n",
       "                       min_impurity_split=None, min_samples_leaf=1,\n",
       "                       min_samples_split=8, min_weight_fraction_leaf=0.0,\n",
       "                       n_estimators=10, n_jobs=None, oob_score=False,\n",
       "                       random_state=None, verbose=0, warm_start=False)"
      ]
     },
     "execution_count": 21,
     "metadata": {},
     "output_type": "execute_result"
    }
   ],
   "source": [
    "def upsample(features, target, repeat):\n",
    "    features_zeros = features_new[target == 0]\n",
    "    features_ones = features_new[target == 1]\n",
    "    target_zeros = target_new[target == 0]\n",
    "    target_ones = target_new[target == 1]\n",
    "\n",
    "    features_upsampled = pd.concat([features_zeros] + [features_ones] * repeat)\n",
    "    target_upsampled = pd.concat([target_zeros] + [target_ones] * repeat)\n",
    "    \n",
    "    features_upsampled, target_upsampled = shuffle(\n",
    "        features_upsampled, target_upsampled, random_state=12345)\n",
    "    \n",
    "    return features_upsampled, target_upsampled\n",
    "\n",
    "features_upsampled, target_upsampled = upsample(features_new, target_new, 4)\n",
    "\n",
    "model = RandomForestClassifier(max_depth = 11,min_samples_leaf=1,min_samples_split=8,n_estimators=10, class_weight='balanced')\n",
    "model.fit(features_upsampled,target_upsampled)"
   ]
  },
  {
   "cell_type": "code",
   "execution_count": 37,
   "metadata": {},
   "outputs": [
    {
     "name": "stdout",
     "output_type": "stream",
     "text": [
      "F1: 0.5945945945945946\n",
      "AUC-ROC 0.8427229188754433\n"
     ]
    }
   ],
   "source": [
    "probabilities_test = model.predict_proba(features_test)\n",
    "probabilities_one_test = probabilities_test[:, 1]\n",
    "predicted_test = probabilities_one_test > 0.56\n",
    "recall = recall_score(target_test, predicted_test) \n",
    "auc_roc = roc_auc_score(target_test, probabilities_one_test)\n",
    "\n",
    "print(\"F1:\", f1_score(target_test, predicted_test))\n",
    "print(\"AUC-ROC\", auc_roc)"
   ]
  },
  {
   "cell_type": "markdown",
   "metadata": {},
   "source": [
    "<b> Вывод:</b> Проведено тестирование на обученной модели с учетом дисбаланса.\n",
    "Доля правильных ответов равна 0.762, что показывает хороший результат"
   ]
  },
  {
   "cell_type": "code",
   "execution_count": 38,
   "metadata": {},
   "outputs": [
    {
     "name": "stdout",
     "output_type": "stream",
     "text": [
      "0.20024721878862797\n"
     ]
    }
   ],
   "source": [
    "#сравнение с константной моделью\n",
    "dummy = DummyClassifier(random_state=12345)\n",
    "dummy.fit(features_new, target_new)\n",
    "\n",
    "predicted_dummy=dummy.predict(features_test)\n",
    "print(f1_score(target_test,predicted_dummy))"
   ]
  },
  {
   "cell_type": "code",
   "execution_count": 39,
   "metadata": {},
   "outputs": [
    {
     "data": {
      "image/png": "[encoded data removed]",
      "text/plain": [
       "<Figure size 432x288 with 1 Axes>"
      ]
     },
     "metadata": {
      "needs_background": "light"
     },
     "output_type": "display_data"
    }
   ],
   "source": [
    "probabilities_test = model.predict_proba(features_test)\n",
    "probabilities_one_test = probabilities_test[:, 1]\n",
    "fpr, tpr, thresholds = roc_curve(target_test, probabilities_one_test) \n",
    "\n",
    "plt.figure()\n",
    "plt.plot(fpr, tpr)\n",
    "plt.xlim([0.0, 1.0])\n",
    "plt.plot([0, 1], [0, 1], linestyle='--')\n",
    "plt.ylim([0.0, 1.0])\n",
    "plt.xlabel('False Positive Rate')\n",
    "plt.ylabel('True Positive Rate')\n",
    "plt.title('ROC-кривая')\n",
    "plt.show() \n"
   ]
  },
  {
   "cell_type": "markdown",
   "metadata": {},
   "source": [
    "Вывод:\n",
    "    \n",
    "В ходе работы были изучены данные и отобраны параметры для обучения модели. Все данные были поделены на 3 выборки - тренировочную, валидационную и тестовую в соотношении - 60%, 20%, 20%. Произведена OHE и нормировка данных. Изучены три модели без учета дисбаланса классов - Дерево решений, Случайный лес, Логистическая регрессия. Для каждой модели подобраны параметры методом GridSearchCV. Сравнила значение f1 мер у всех моделей с константной моделью:\n",
    "\n",
    " \n"
   ]
  },
  {
   "cell_type": "code",
   "execution_count": 26,
   "metadata": {},
   "outputs": [
    {
     "name": "stdout",
     "output_type": "stream",
     "text": [
      "                    Модель    F1\n",
      "0       Константная модель  0.24\n",
      "1            Случайный лес  0.56\n",
      "2           Дерево решений  0.55\n",
      "3  Логистическая регрессия  0.30\n"
     ]
    }
   ],
   "source": [
    "print(results)"
   ]
  },
  {
   "cell_type": "markdown",
   "metadata": {},
   "source": [
    "\n",
    "Далее был учтен дисбаланс классов и пременены способы борьбы с ним:\n",
    "1.Взвешивание классов\n",
    "2.Увеличение выборки\n",
    "3.Уменьшение выборки\n",
    "4.Изменение порога\n",
    "    \n",
    "После чего у лучшей модели значение меры f1 после обучения на тренировочной выборке =  0.61, а AUC-ROC 0.8.\n",
    "Далее было проведено тестирование модели на тестовых данных, предварительно обучив модель на полных данных ( тренировочные + валидационные). Построен график Roc-кривой в сравнении с кривой константной модели. Значение f1 меры на тестовой выборке = 0.59, AUC-ROC 0.84.\n",
    "\n",
    " "
   ]
  }
 ],
 "metadata": {
  "ExecuteTimeLog": [
   {
    "duration": 1279,
    "start_time": "2021-09-15T09:21:31.616Z"
   },
   {
    "duration": 419,
    "start_time": "2021-09-15T09:22:01.934Z"
   },
   {
    "duration": 88,
    "start_time": "2021-09-15T09:22:12.810Z"
   },
   {
    "duration": 100,
    "start_time": "2021-09-15T09:22:30.265Z"
   },
   {
    "duration": 50,
    "start_time": "2021-09-15T09:22:50.596Z"
   },
   {
    "duration": 43,
    "start_time": "2021-09-15T09:22:55.386Z"
   },
   {
    "duration": 45,
    "start_time": "2021-09-15T09:23:00.796Z"
   },
   {
    "duration": 54,
    "start_time": "2021-09-15T09:23:04.732Z"
   },
   {
    "duration": 12,
    "start_time": "2021-09-15T09:23:10.600Z"
   },
   {
    "duration": 98,
    "start_time": "2021-09-15T09:37:08.742Z"
   },
   {
    "duration": 20,
    "start_time": "2021-09-15T09:37:18.158Z"
   },
   {
    "duration": 21,
    "start_time": "2021-09-15T09:37:24.853Z"
   },
   {
    "duration": 35,
    "start_time": "2021-09-15T09:37:37.581Z"
   },
   {
    "duration": 34,
    "start_time": "2021-09-15T09:58:02.094Z"
   },
   {
    "duration": 10,
    "start_time": "2021-09-15T09:59:17.220Z"
   },
   {
    "duration": 344,
    "start_time": "2021-09-15T10:02:19.261Z"
   },
   {
    "duration": 316,
    "start_time": "2021-09-15T10:02:44.216Z"
   },
   {
    "duration": 306,
    "start_time": "2021-09-15T10:02:51.582Z"
   },
   {
    "duration": 8,
    "start_time": "2021-09-15T10:04:58.378Z"
   },
   {
    "duration": 6,
    "start_time": "2021-09-15T10:05:48.767Z"
   },
   {
    "duration": 6,
    "start_time": "2021-09-15T10:05:59.009Z"
   },
   {
    "duration": 13,
    "start_time": "2021-09-15T10:06:05.318Z"
   },
   {
    "duration": 612,
    "start_time": "2021-09-15T10:45:13.663Z"
   },
   {
    "duration": 482,
    "start_time": "2021-09-15T10:52:08.455Z"
   },
   {
    "duration": 336,
    "start_time": "2021-09-15T10:52:37.285Z"
   },
   {
    "duration": 355,
    "start_time": "2021-09-15T10:52:54.689Z"
   },
   {
    "duration": 1414,
    "start_time": "2021-09-15T10:56:30.202Z"
   },
   {
    "duration": 50,
    "start_time": "2021-09-15T10:56:44.534Z"
   },
   {
    "duration": 13,
    "start_time": "2021-09-15T10:56:48.110Z"
   },
   {
    "duration": 1053,
    "start_time": "2021-09-15T10:56:52.189Z"
   },
   {
    "duration": 476,
    "start_time": "2021-09-15T11:03:04.525Z"
   },
   {
    "duration": 67,
    "start_time": "2021-09-15T11:03:09.520Z"
   },
   {
    "duration": 13,
    "start_time": "2021-09-15T11:03:12.184Z"
   },
   {
    "duration": 1078,
    "start_time": "2021-09-15T11:03:14.991Z"
   },
   {
    "duration": 43,
    "start_time": "2021-09-15T11:03:18.592Z"
   },
   {
    "duration": 45,
    "start_time": "2021-09-15T11:03:27.441Z"
   },
   {
    "duration": 38,
    "start_time": "2021-09-15T11:03:46.731Z"
   },
   {
    "duration": 29,
    "start_time": "2021-09-15T11:05:13.911Z"
   },
   {
    "duration": 64,
    "start_time": "2021-09-15T11:07:05.865Z"
   },
   {
    "duration": 30,
    "start_time": "2021-09-15T11:07:10.603Z"
   },
   {
    "duration": 38,
    "start_time": "2021-09-15T11:08:00.370Z"
   },
   {
    "duration": 29,
    "start_time": "2021-09-15T11:08:26.932Z"
   },
   {
    "duration": 28,
    "start_time": "2021-09-15T11:12:34.815Z"
   },
   {
    "duration": 73,
    "start_time": "2021-09-15T11:14:33.519Z"
   },
   {
    "duration": 15,
    "start_time": "2021-09-15T11:14:35.392Z"
   },
   {
    "duration": 62,
    "start_time": "2021-09-15T11:14:36.656Z"
   },
   {
    "duration": 34,
    "start_time": "2021-09-15T11:14:37.954Z"
   },
   {
    "duration": 72,
    "start_time": "2021-09-15T11:14:57.454Z"
   },
   {
    "duration": 100,
    "start_time": "2021-09-15T11:16:25.219Z"
   },
   {
    "duration": 113,
    "start_time": "2021-09-15T11:17:56.313Z"
   },
   {
    "duration": 543,
    "start_time": "2021-09-15T11:18:03.963Z"
   },
   {
    "duration": 50,
    "start_time": "2021-09-15T11:18:19.073Z"
   },
   {
    "duration": 13,
    "start_time": "2021-09-15T11:18:21.668Z"
   },
   {
    "duration": 61,
    "start_time": "2021-09-15T11:18:22.939Z"
   },
   {
    "duration": 31,
    "start_time": "2021-09-15T11:18:23.897Z"
   },
   {
    "duration": 69,
    "start_time": "2021-09-15T11:18:25.031Z"
   },
   {
    "duration": 130,
    "start_time": "2021-09-15T11:18:26.887Z"
   },
   {
    "duration": 108,
    "start_time": "2021-09-15T11:18:29.009Z"
   },
   {
    "duration": 28,
    "start_time": "2021-09-15T11:19:14.088Z"
   },
   {
    "duration": 36,
    "start_time": "2021-09-15T11:19:23.679Z"
   },
   {
    "duration": 125,
    "start_time": "2021-09-15T11:19:24.891Z"
   },
   {
    "duration": 58,
    "start_time": "2021-09-15T11:19:29.980Z"
   },
   {
    "duration": 35,
    "start_time": "2021-09-15T11:19:35.897Z"
   },
   {
    "duration": 65,
    "start_time": "2021-09-15T11:21:24.800Z"
   },
   {
    "duration": 13,
    "start_time": "2021-09-15T11:21:28.625Z"
   },
   {
    "duration": 65,
    "start_time": "2021-09-15T11:21:30.089Z"
   },
   {
    "duration": 33,
    "start_time": "2021-09-15T11:21:31.442Z"
   },
   {
    "duration": 27,
    "start_time": "2021-09-15T11:21:32.950Z"
   },
   {
    "duration": 76,
    "start_time": "2021-09-15T11:21:34.265Z"
   },
   {
    "duration": 59,
    "start_time": "2021-09-15T11:21:35.427Z"
   },
   {
    "duration": 177,
    "start_time": "2021-09-15T11:26:00.243Z"
   },
   {
    "duration": 162,
    "start_time": "2021-09-15T11:26:28.556Z"
   },
   {
    "duration": 109,
    "start_time": "2021-09-15T11:27:05.708Z"
   },
   {
    "duration": 22,
    "start_time": "2021-09-15T11:51:09.645Z"
   },
   {
    "duration": 117,
    "start_time": "2021-09-15T11:51:33.000Z"
   },
   {
    "duration": 52,
    "start_time": "2021-09-15T11:56:32.584Z"
   },
   {
    "duration": 13,
    "start_time": "2021-09-15T11:56:34.793Z"
   },
   {
    "duration": 63,
    "start_time": "2021-09-15T11:56:36.386Z"
   },
   {
    "duration": 31,
    "start_time": "2021-09-15T11:56:38.100Z"
   },
   {
    "duration": 21694,
    "start_time": "2021-09-15T11:57:48.425Z"
   },
   {
    "duration": 40,
    "start_time": "2021-09-15T11:58:42.907Z"
   },
   {
    "duration": 43,
    "start_time": "2021-09-15T11:59:09.638Z"
   },
   {
    "duration": 297,
    "start_time": "2021-09-15T11:59:33.815Z"
   },
   {
    "duration": 61,
    "start_time": "2021-09-15T12:00:02.044Z"
   },
   {
    "duration": 13,
    "start_time": "2021-09-15T12:00:04.026Z"
   },
   {
    "duration": 62,
    "start_time": "2021-09-15T12:00:06.095Z"
   },
   {
    "duration": 30,
    "start_time": "2021-09-15T12:00:09.794Z"
   },
   {
    "duration": 772503,
    "start_time": "2021-09-15T12:25:47.599Z"
   },
   {
    "duration": 321,
    "start_time": "2021-09-15T12:38:40.106Z"
   },
   {
    "duration": 310,
    "start_time": "2021-09-15T13:20:22.137Z"
   },
   {
    "duration": 654,
    "start_time": "2021-09-15T13:21:04.369Z"
   },
   {
    "duration": 772,
    "start_time": "2021-09-15T13:21:12.242Z"
   },
   {
    "duration": 51,
    "start_time": "2021-09-15T13:21:26.075Z"
   },
   {
    "duration": 13,
    "start_time": "2021-09-15T13:21:28.335Z"
   },
   {
    "duration": 85,
    "start_time": "2021-09-15T13:21:29.953Z"
   },
   {
    "duration": 32,
    "start_time": "2021-09-15T13:21:31.334Z"
   },
   {
    "duration": 731,
    "start_time": "2021-09-15T13:21:36.759Z"
   },
   {
    "duration": 722,
    "start_time": "2021-09-15T13:21:52.074Z"
   },
   {
    "duration": 642,
    "start_time": "2021-09-15T13:22:21.383Z"
   },
   {
    "duration": 5580,
    "start_time": "2021-09-15T13:22:49.390Z"
   },
   {
    "duration": 549,
    "start_time": "2021-09-15T13:23:48.412Z"
   },
   {
    "duration": 642,
    "start_time": "2021-09-15T13:24:01.316Z"
   },
   {
    "duration": 655,
    "start_time": "2021-09-15T13:25:18.850Z"
   },
   {
    "duration": 165,
    "start_time": "2021-09-15T13:25:34.408Z"
   },
   {
    "duration": 43,
    "start_time": "2021-09-15T13:35:09.746Z"
   },
   {
    "duration": 120,
    "start_time": "2021-09-15T13:36:22.896Z"
   },
   {
    "duration": 106,
    "start_time": "2021-09-15T13:36:53.335Z"
   },
   {
    "duration": 106,
    "start_time": "2021-09-15T13:37:01.787Z"
   },
   {
    "duration": 48,
    "start_time": "2021-09-15T13:37:15.881Z"
   },
   {
    "duration": 149,
    "start_time": "2021-09-15T13:37:27.583Z"
   },
   {
    "duration": 176,
    "start_time": "2021-09-15T13:37:58.922Z"
   },
   {
    "duration": 103,
    "start_time": "2021-09-15T13:38:03.172Z"
   },
   {
    "duration": 106,
    "start_time": "2021-09-15T13:38:06.559Z"
   },
   {
    "duration": 110,
    "start_time": "2021-09-15T13:38:09.730Z"
   },
   {
    "duration": 118,
    "start_time": "2021-09-15T13:38:12.074Z"
   },
   {
    "duration": 121,
    "start_time": "2021-09-15T13:38:16.900Z"
   },
   {
    "duration": 126,
    "start_time": "2021-09-15T13:38:19.245Z"
   },
   {
    "duration": 119,
    "start_time": "2021-09-15T13:38:21.453Z"
   },
   {
    "duration": 116,
    "start_time": "2021-09-15T13:38:24.395Z"
   },
   {
    "duration": 122,
    "start_time": "2021-09-15T13:46:08.072Z"
   },
   {
    "duration": 343,
    "start_time": "2021-09-15T13:57:22.578Z"
   },
   {
    "duration": 9,
    "start_time": "2021-09-15T13:57:32.380Z"
   },
   {
    "duration": 569,
    "start_time": "2021-09-15T15:33:27.651Z"
   },
   {
    "duration": 339,
    "start_time": "2021-09-15T15:34:09.481Z"
   },
   {
    "duration": 342,
    "start_time": "2021-09-15T15:35:55.307Z"
   },
   {
    "duration": 355,
    "start_time": "2021-09-15T15:36:10.102Z"
   },
   {
    "duration": 73049,
    "start_time": "2021-09-15T15:37:34.384Z"
   },
   {
    "duration": 1160,
    "start_time": "2021-09-16T05:37:42.440Z"
   },
   {
    "duration": 14,
    "start_time": "2021-09-16T05:37:45.373Z"
   },
   {
    "duration": 42,
    "start_time": "2021-09-16T05:37:46.848Z"
   },
   {
    "duration": 32,
    "start_time": "2021-09-16T05:37:49.107Z"
   },
   {
    "duration": 29,
    "start_time": "2021-09-16T05:37:55.461Z"
   },
   {
    "duration": 11,
    "start_time": "2021-09-16T05:38:02.356Z"
   },
   {
    "duration": 225,
    "start_time": "2021-09-16T05:38:18.714Z"
   },
   {
    "duration": 11,
    "start_time": "2021-09-16T05:38:24.211Z"
   },
   {
    "duration": 29,
    "start_time": "2021-09-16T05:38:29.185Z"
   },
   {
    "duration": 41,
    "start_time": "2021-09-16T05:38:50.611Z"
   },
   {
    "duration": 82,
    "start_time": "2021-09-16T05:38:53.925Z"
   },
   {
    "duration": 1521,
    "start_time": "2021-09-17T09:34:01.433Z"
   },
   {
    "duration": 11,
    "start_time": "2021-09-17T09:34:05.960Z"
   },
   {
    "duration": 43,
    "start_time": "2021-09-17T09:34:07.589Z"
   },
   {
    "duration": 24,
    "start_time": "2021-09-17T09:34:09.350Z"
   },
   {
    "duration": 211,
    "start_time": "2021-09-17T09:34:15.022Z"
   },
   {
    "duration": 37,
    "start_time": "2021-09-17T09:34:17.392Z"
   },
   {
    "duration": 30,
    "start_time": "2021-09-17T09:34:19.695Z"
   },
   {
    "duration": 61,
    "start_time": "2021-09-17T09:35:46.758Z"
   },
   {
    "duration": 385,
    "start_time": "2021-09-17T09:36:52.342Z"
   },
   {
    "duration": 347,
    "start_time": "2021-09-17T09:37:05.834Z"
   },
   {
    "duration": 68,
    "start_time": "2021-09-17T09:40:59.157Z"
   },
   {
    "duration": 72,
    "start_time": "2021-09-17T09:41:27.803Z"
   },
   {
    "duration": 41,
    "start_time": "2021-09-17T09:42:45.823Z"
   },
   {
    "duration": 10,
    "start_time": "2021-09-17T09:42:48.574Z"
   },
   {
    "duration": 46,
    "start_time": "2021-09-17T09:42:54.247Z"
   },
   {
    "duration": 24,
    "start_time": "2021-09-17T09:43:07.996Z"
   },
   {
    "duration": 210,
    "start_time": "2021-09-17T09:43:18.998Z"
   },
   {
    "duration": 31,
    "start_time": "2021-09-17T09:43:21.500Z"
   },
   {
    "duration": 32,
    "start_time": "2021-09-17T09:43:26.677Z"
   },
   {
    "duration": 78,
    "start_time": "2021-09-17T09:43:30.401Z"
   },
   {
    "duration": 6,
    "start_time": "2021-09-17T10:01:52.075Z"
   },
   {
    "duration": 6,
    "start_time": "2021-09-17T10:09:04.417Z"
   },
   {
    "duration": 260,
    "start_time": "2021-09-17T10:09:39.318Z"
   },
   {
    "duration": 8,
    "start_time": "2021-09-17T10:09:48.007Z"
   },
   {
    "duration": 76,
    "start_time": "2021-09-17T11:16:33.535Z"
   },
   {
    "duration": 78,
    "start_time": "2021-09-17T11:20:57.982Z"
   },
   {
    "duration": 75,
    "start_time": "2021-09-17T11:21:07.070Z"
   },
   {
    "duration": 76,
    "start_time": "2021-09-17T11:21:13.055Z"
   },
   {
    "duration": 41,
    "start_time": "2021-09-17T11:24:37.414Z"
   },
   {
    "duration": 10,
    "start_time": "2021-09-17T11:24:39.672Z"
   },
   {
    "duration": 37,
    "start_time": "2021-09-17T11:24:41.400Z"
   },
   {
    "duration": 22,
    "start_time": "2021-09-17T11:24:42.708Z"
   },
   {
    "duration": 207,
    "start_time": "2021-09-17T11:24:50.561Z"
   },
   {
    "duration": 31,
    "start_time": "2021-09-17T11:24:52.165Z"
   },
   {
    "duration": 33,
    "start_time": "2021-09-17T11:24:59.692Z"
   },
   {
    "duration": 101,
    "start_time": "2021-09-17T11:25:03.106Z"
   },
   {
    "duration": 24,
    "start_time": "2021-09-17T11:25:16.446Z"
   },
   {
    "duration": 75,
    "start_time": "2021-09-17T11:25:25.554Z"
   },
   {
    "duration": 31,
    "start_time": "2021-09-17T11:25:30.367Z"
   },
   {
    "duration": 76,
    "start_time": "2021-09-17T11:25:36.756Z"
   },
   {
    "duration": 216,
    "start_time": "2021-09-17T11:42:19.792Z"
   },
   {
    "duration": 81,
    "start_time": "2021-09-17T11:42:53.885Z"
   },
   {
    "duration": 741,
    "start_time": "2021-09-17T11:47:34.598Z"
   },
   {
    "duration": 34,
    "start_time": "2021-09-17T11:49:35.397Z"
   },
   {
    "duration": 36,
    "start_time": "2021-09-17T11:49:55.578Z"
   },
   {
    "duration": 37,
    "start_time": "2021-09-17T11:50:06.090Z"
   },
   {
    "duration": 109,
    "start_time": "2021-09-17T11:50:16.710Z"
   },
   {
    "duration": 36,
    "start_time": "2021-09-17T11:50:23.080Z"
   },
   {
    "duration": 36,
    "start_time": "2021-09-17T11:50:29.399Z"
   },
   {
    "duration": 135,
    "start_time": "2021-09-17T11:50:36.352Z"
   },
   {
    "duration": 34,
    "start_time": "2021-09-17T11:50:48.371Z"
   },
   {
    "duration": 35,
    "start_time": "2021-09-17T12:01:11.721Z"
   },
   {
    "duration": 36,
    "start_time": "2021-09-17T12:01:15.273Z"
   },
   {
    "duration": 35,
    "start_time": "2021-09-17T12:01:20.306Z"
   },
   {
    "duration": 36,
    "start_time": "2021-09-17T12:01:22.834Z"
   },
   {
    "duration": 35,
    "start_time": "2021-09-17T12:01:25.490Z"
   },
   {
    "duration": 35,
    "start_time": "2021-09-17T12:01:28.337Z"
   },
   {
    "duration": 35,
    "start_time": "2021-09-17T12:01:31.637Z"
   },
   {
    "duration": 35,
    "start_time": "2021-09-17T12:01:34.670Z"
   },
   {
    "duration": 37,
    "start_time": "2021-09-17T12:01:36.866Z"
   },
   {
    "duration": 36,
    "start_time": "2021-09-17T12:01:39.057Z"
   },
   {
    "duration": 36,
    "start_time": "2021-09-17T12:01:41.547Z"
   },
   {
    "duration": 36,
    "start_time": "2021-09-17T12:01:44.680Z"
   },
   {
    "duration": 36,
    "start_time": "2021-09-17T12:01:47.427Z"
   },
   {
    "duration": 36,
    "start_time": "2021-09-17T12:01:49.472Z"
   },
   {
    "duration": 38,
    "start_time": "2021-09-17T12:01:51.457Z"
   },
   {
    "duration": 36,
    "start_time": "2021-09-17T12:01:53.432Z"
   },
   {
    "duration": 36,
    "start_time": "2021-09-17T12:01:55.567Z"
   },
   {
    "duration": 35,
    "start_time": "2021-09-17T12:01:57.770Z"
   },
   {
    "duration": 37,
    "start_time": "2021-09-17T12:02:00.473Z"
   },
   {
    "duration": 38,
    "start_time": "2021-09-17T12:02:20.377Z"
   },
   {
    "duration": 37,
    "start_time": "2021-09-17T12:02:29.018Z"
   },
   {
    "duration": 258,
    "start_time": "2021-09-17T12:04:01.359Z"
   },
   {
    "duration": 7,
    "start_time": "2021-09-17T12:04:08.288Z"
   },
   {
    "duration": 7,
    "start_time": "2021-09-17T12:04:10.378Z"
   },
   {
    "duration": 349,
    "start_time": "2021-09-17T12:06:22.156Z"
   },
   {
    "duration": 6,
    "start_time": "2021-09-17T12:06:34.730Z"
   },
   {
    "duration": 6,
    "start_time": "2021-09-17T12:17:40.602Z"
   },
   {
    "duration": 1136,
    "start_time": "2021-09-17T15:40:40.219Z"
   },
   {
    "duration": 8,
    "start_time": "2021-09-17T15:40:41.357Z"
   },
   {
    "duration": 10,
    "start_time": "2021-09-17T15:40:41.370Z"
   },
   {
    "duration": 75,
    "start_time": "2021-09-17T15:40:41.382Z"
   },
   {
    "duration": 25,
    "start_time": "2021-09-17T15:40:41.459Z"
   },
   {
    "duration": 499216,
    "start_time": "2021-09-17T15:40:41.486Z"
   },
   {
    "duration": 228,
    "start_time": "2021-09-17T15:49:00.705Z"
   },
   {
    "duration": 16697,
    "start_time": "2021-09-17T15:49:00.935Z"
   },
   {
    "duration": 46,
    "start_time": "2021-09-17T15:49:17.634Z"
   },
   {
    "duration": 3470,
    "start_time": "2021-09-17T15:49:17.681Z"
   },
   {
    "duration": 32,
    "start_time": "2021-09-17T15:49:21.153Z"
   },
   {
    "duration": 175,
    "start_time": "2021-09-17T15:49:21.187Z"
   },
   {
    "duration": 104,
    "start_time": "2021-09-17T15:49:21.364Z"
   },
   {
    "duration": 145,
    "start_time": "2021-09-17T15:49:21.469Z"
   },
   {
    "duration": 54,
    "start_time": "2021-09-17T15:49:21.616Z"
   },
   {
    "duration": 7,
    "start_time": "2021-09-17T15:49:21.672Z"
   },
   {
    "duration": 19,
    "start_time": "2021-09-17T15:56:57.876Z"
   },
   {
    "duration": 366,
    "start_time": "2021-09-17T16:08:27.068Z"
   },
   {
    "duration": 14,
    "start_time": "2021-09-17T16:08:33.900Z"
   },
   {
    "duration": 5,
    "start_time": "2021-09-17T16:08:46.665Z"
   },
   {
    "duration": 68,
    "start_time": "2021-09-20T07:54:19.707Z"
   },
   {
    "duration": 1116,
    "start_time": "2021-09-20T08:10:06.229Z"
   },
   {
    "duration": 293,
    "start_time": "2021-09-20T08:11:45.082Z"
   },
   {
    "duration": 185,
    "start_time": "2021-09-20T08:12:26.052Z"
   },
   {
    "duration": 191,
    "start_time": "2021-09-20T08:21:14.327Z"
   },
   {
    "duration": 39,
    "start_time": "2021-09-20T08:21:21.776Z"
   },
   {
    "duration": 9,
    "start_time": "2021-09-20T08:21:24.183Z"
   },
   {
    "duration": 10,
    "start_time": "2021-09-20T08:21:26.309Z"
   },
   {
    "duration": 177,
    "start_time": "2021-09-20T08:21:39.504Z"
   },
   {
    "duration": 41,
    "start_time": "2021-09-20T08:21:55.384Z"
   },
   {
    "duration": 258,
    "start_time": "2021-09-20T08:21:58.445Z"
   },
   {
    "duration": 274,
    "start_time": "2021-09-20T08:22:16.422Z"
   },
   {
    "duration": 279,
    "start_time": "2021-09-20T09:52:25.048Z"
   },
   {
    "duration": 417,
    "start_time": "2021-09-20T09:53:24.915Z"
   },
   {
    "duration": 323,
    "start_time": "2021-09-20T09:54:51.254Z"
   },
   {
    "duration": 391,
    "start_time": "2021-09-20T09:55:04.937Z"
   },
   {
    "duration": 385,
    "start_time": "2021-09-20T09:55:48.026Z"
   },
   {
    "duration": 11,
    "start_time": "2021-09-20T10:52:29.711Z"
   },
   {
    "duration": 8,
    "start_time": "2021-09-20T10:52:59.706Z"
   },
   {
    "duration": 12,
    "start_time": "2021-09-20T10:55:25.775Z"
   },
   {
    "duration": 26,
    "start_time": "2021-09-20T10:57:17.412Z"
   },
   {
    "duration": 14,
    "start_time": "2021-09-20T10:57:32.921Z"
   },
   {
    "duration": 14,
    "start_time": "2021-09-20T10:57:49.422Z"
   },
   {
    "duration": 15,
    "start_time": "2021-09-20T11:04:58.470Z"
   },
   {
    "duration": 12,
    "start_time": "2021-09-20T11:05:13.911Z"
   },
   {
    "duration": 12,
    "start_time": "2021-09-20T11:05:22.493Z"
   },
   {
    "duration": 13,
    "start_time": "2021-09-20T11:05:23.738Z"
   },
   {
    "duration": 40,
    "start_time": "2021-09-20T11:05:26.513Z"
   },
   {
    "duration": 9,
    "start_time": "2021-09-20T11:05:29.066Z"
   },
   {
    "duration": 38,
    "start_time": "2021-09-20T11:05:47.596Z"
   },
   {
    "duration": 8,
    "start_time": "2021-09-20T11:05:49.616Z"
   },
   {
    "duration": 38,
    "start_time": "2021-09-20T11:06:05.207Z"
   },
   {
    "duration": 9,
    "start_time": "2021-09-20T11:06:07.976Z"
   },
   {
    "duration": 38,
    "start_time": "2021-09-20T11:06:13.812Z"
   },
   {
    "duration": 8,
    "start_time": "2021-09-20T11:06:15.987Z"
   },
   {
    "duration": 14,
    "start_time": "2021-09-20T11:06:19.341Z"
   },
   {
    "duration": 10,
    "start_time": "2021-09-20T11:06:48.193Z"
   },
   {
    "duration": 76,
    "start_time": "2021-09-20T11:06:56.825Z"
   },
   {
    "duration": 185,
    "start_time": "2021-09-20T11:07:06.954Z"
   },
   {
    "duration": 225,
    "start_time": "2021-09-20T11:07:54.517Z"
   },
   {
    "duration": 206,
    "start_time": "2021-09-20T11:08:52.997Z"
   },
   {
    "duration": 195,
    "start_time": "2021-09-20T11:09:01.295Z"
   },
   {
    "duration": 224,
    "start_time": "2021-09-20T11:09:54.700Z"
   },
   {
    "duration": 196,
    "start_time": "2021-09-20T11:10:03.277Z"
   },
   {
    "duration": 218,
    "start_time": "2021-09-20T11:10:09.913Z"
   },
   {
    "duration": 198,
    "start_time": "2021-09-20T11:10:34.246Z"
   },
   {
    "duration": 271,
    "start_time": "2021-09-20T11:10:49.129Z"
   },
   {
    "duration": 10,
    "start_time": "2021-09-20T11:11:05.509Z"
   },
   {
    "duration": 9,
    "start_time": "2021-09-20T11:11:20.774Z"
   },
   {
    "duration": 37,
    "start_time": "2021-09-20T11:11:51.584Z"
   },
   {
    "duration": 10,
    "start_time": "2021-09-20T11:11:56.628Z"
   },
   {
    "duration": 13,
    "start_time": "2021-09-20T11:12:01.631Z"
   },
   {
    "duration": 38,
    "start_time": "2021-09-20T11:14:16.895Z"
   },
   {
    "duration": 8,
    "start_time": "2021-09-20T11:14:19.656Z"
   },
   {
    "duration": 12,
    "start_time": "2021-09-20T11:14:22.518Z"
   },
   {
    "duration": 47,
    "start_time": "2021-09-20T11:15:05.187Z"
   },
   {
    "duration": 39,
    "start_time": "2021-09-20T11:16:30.836Z"
   },
   {
    "duration": 8,
    "start_time": "2021-09-20T11:16:33.948Z"
   },
   {
    "duration": 11,
    "start_time": "2021-09-20T11:16:36.385Z"
   },
   {
    "duration": 48,
    "start_time": "2021-09-20T11:16:40.051Z"
   },
   {
    "duration": 25,
    "start_time": "2021-09-20T11:17:02.621Z"
   },
   {
    "duration": 191,
    "start_time": "2021-09-20T11:19:34.933Z"
   },
   {
    "duration": 207,
    "start_time": "2021-09-20T11:19:43.811Z"
   },
   {
    "duration": 220,
    "start_time": "2021-09-20T11:19:50.831Z"
   },
   {
    "duration": 217,
    "start_time": "2021-09-20T11:20:10.929Z"
   },
   {
    "duration": 237,
    "start_time": "2021-09-20T11:20:19.319Z"
   },
   {
    "duration": 203,
    "start_time": "2021-09-20T11:20:37.268Z"
   },
   {
    "duration": 200,
    "start_time": "2021-09-20T11:20:57.294Z"
   },
   {
    "duration": 353,
    "start_time": "2021-09-20T11:24:44.025Z"
   },
   {
    "duration": 44,
    "start_time": "2021-09-20T11:25:13.676Z"
   },
   {
    "duration": 23,
    "start_time": "2021-09-20T11:25:51.444Z"
   },
   {
    "duration": 194,
    "start_time": "2021-09-20T11:28:21.386Z"
   },
   {
    "duration": 42,
    "start_time": "2021-09-20T11:28:36.828Z"
   },
   {
    "duration": 8,
    "start_time": "2021-09-20T11:28:38.845Z"
   },
   {
    "duration": 10,
    "start_time": "2021-09-20T11:28:40.249Z"
   },
   {
    "duration": 848,
    "start_time": "2021-09-20T11:28:42.609Z"
   },
   {
    "duration": 50,
    "start_time": "2021-09-20T11:28:49.441Z"
   },
   {
    "duration": 242,
    "start_time": "2021-09-20T11:28:51.193Z"
   },
   {
    "duration": 7,
    "start_time": "2021-09-20T11:29:02.154Z"
   },
   {
    "duration": 65,
    "start_time": "2021-09-20T11:29:56.903Z"
   },
   {
    "duration": 414427,
    "start_time": "2021-09-20T11:33:30.167Z"
   },
   {
    "duration": 68,
    "start_time": "2021-09-20T11:46:16.666Z"
   },
   {
    "duration": 11076,
    "start_time": "2021-09-20T11:46:31.615Z"
   },
   {
    "duration": 21,
    "start_time": "2021-09-20T11:46:52.041Z"
   },
   {
    "duration": 4713,
    "start_time": "2021-09-20T11:47:05.171Z"
   },
   {
    "duration": 71,
    "start_time": "2021-09-20T11:47:19.035Z"
   },
   {
    "duration": 6,
    "start_time": "2021-09-20T11:51:59.981Z"
   },
   {
    "duration": 23,
    "start_time": "2021-09-20T11:52:33.080Z"
   },
   {
    "duration": 64,
    "start_time": "2021-09-20T11:52:57.323Z"
   },
   {
    "duration": 147,
    "start_time": "2021-09-20T11:53:17.405Z"
   },
   {
    "duration": 132,
    "start_time": "2021-09-20T12:04:22.065Z"
   },
   {
    "duration": 106,
    "start_time": "2021-09-20T12:05:57.153Z"
   },
   {
    "duration": 128,
    "start_time": "2021-09-20T12:10:56.123Z"
   },
   {
    "duration": 26,
    "start_time": "2021-09-20T12:11:04.161Z"
   },
   {
    "duration": 27,
    "start_time": "2021-09-20T12:11:16.647Z"
   },
   {
    "duration": 28,
    "start_time": "2021-09-20T12:11:22.206Z"
   },
   {
    "duration": 28,
    "start_time": "2021-09-20T12:11:26.109Z"
   },
   {
    "duration": 26,
    "start_time": "2021-09-20T12:11:30.133Z"
   },
   {
    "duration": 28,
    "start_time": "2021-09-20T12:11:35.421Z"
   },
   {
    "duration": 29,
    "start_time": "2021-09-20T12:11:37.859Z"
   },
   {
    "duration": 29,
    "start_time": "2021-09-20T12:11:40.261Z"
   },
   {
    "duration": 28,
    "start_time": "2021-09-20T12:11:45.362Z"
   },
   {
    "duration": 47,
    "start_time": "2021-09-20T12:16:36.505Z"
   },
   {
    "duration": 63,
    "start_time": "2021-09-20T12:17:24.966Z"
   },
   {
    "duration": 53,
    "start_time": "2021-09-20T12:17:29.643Z"
   },
   {
    "duration": 58,
    "start_time": "2021-09-20T12:17:34.861Z"
   },
   {
    "duration": 47,
    "start_time": "2021-09-20T12:17:39.641Z"
   },
   {
    "duration": 9,
    "start_time": "2021-09-20T12:29:15.740Z"
   },
   {
    "duration": 379,
    "start_time": "2021-09-20T12:31:20.134Z"
   },
   {
    "duration": 1134,
    "start_time": "2021-09-20T12:32:40.618Z"
   },
   {
    "duration": 323,
    "start_time": "2021-09-20T12:32:52.955Z"
   },
   {
    "duration": 9,
    "start_time": "2021-09-20T12:33:29.700Z"
   },
   {
    "duration": 10,
    "start_time": "2021-09-20T12:33:36.922Z"
   },
   {
    "duration": 9,
    "start_time": "2021-09-20T12:33:54.573Z"
   },
   {
    "duration": 126,
    "start_time": "2021-09-20T12:34:48.219Z"
   },
   {
    "duration": 9,
    "start_time": "2021-09-20T12:34:58.584Z"
   },
   {
    "duration": 11,
    "start_time": "2021-09-20T12:35:51.200Z"
   },
   {
    "duration": 11,
    "start_time": "2021-09-20T12:36:12.776Z"
   },
   {
    "duration": 35,
    "start_time": "2021-09-20T12:40:37.938Z"
   },
   {
    "duration": 49,
    "start_time": "2021-09-20T12:41:09.790Z"
   },
   {
    "duration": 8,
    "start_time": "2021-09-20T12:41:13.603Z"
   },
   {
    "duration": 113,
    "start_time": "2021-09-20T12:41:42.361Z"
   },
   {
    "duration": 11,
    "start_time": "2021-09-20T12:41:44.686Z"
   },
   {
    "duration": 82,
    "start_time": "2021-09-20T12:41:56.813Z"
   },
   {
    "duration": 171,
    "start_time": "2021-09-20T12:42:16.498Z"
   },
   {
    "duration": 67,
    "start_time": "2021-09-20T12:42:30.528Z"
   },
   {
    "duration": 63,
    "start_time": "2021-09-20T12:42:34.084Z"
   },
   {
    "duration": 67,
    "start_time": "2021-09-20T12:42:37.601Z"
   },
   {
    "duration": 69,
    "start_time": "2021-09-20T12:42:41.449Z"
   },
   {
    "duration": 68,
    "start_time": "2021-09-20T12:42:44.324Z"
   },
   {
    "duration": 70,
    "start_time": "2021-09-20T12:42:46.994Z"
   },
   {
    "duration": 125,
    "start_time": "2021-09-20T12:43:47.239Z"
   },
   {
    "duration": 11,
    "start_time": "2021-09-20T12:43:50.774Z"
   },
   {
    "duration": 131,
    "start_time": "2021-09-20T12:44:47.664Z"
   },
   {
    "duration": 11,
    "start_time": "2021-09-20T12:44:49.663Z"
   },
   {
    "duration": 118,
    "start_time": "2021-09-20T12:44:56.488Z"
   },
   {
    "duration": 11,
    "start_time": "2021-09-20T12:44:58.115Z"
   },
   {
    "duration": 13,
    "start_time": "2021-09-20T12:44:59.133Z"
   },
   {
    "duration": 11,
    "start_time": "2021-09-20T12:45:00.814Z"
   },
   {
    "duration": 13,
    "start_time": "2021-09-20T12:47:28.942Z"
   },
   {
    "duration": 10,
    "start_time": "2021-09-20T12:48:50.968Z"
   },
   {
    "duration": 116,
    "start_time": "2021-09-20T12:48:54.802Z"
   },
   {
    "duration": 11,
    "start_time": "2021-09-20T12:48:56.448Z"
   },
   {
    "duration": 6,
    "start_time": "2021-09-20T12:50:29.579Z"
   },
   {
    "duration": 64,
    "start_time": "2021-09-20T12:52:09.836Z"
   },
   {
    "duration": 10,
    "start_time": "2021-09-20T12:54:04.349Z"
   },
   {
    "duration": 11,
    "start_time": "2021-09-20T12:54:08.851Z"
   },
   {
    "duration": 10,
    "start_time": "2021-09-20T12:54:11.917Z"
   },
   {
    "duration": 10,
    "start_time": "2021-09-20T12:54:15.668Z"
   },
   {
    "duration": 10,
    "start_time": "2021-09-20T12:54:45.465Z"
   },
   {
    "duration": 10,
    "start_time": "2021-09-20T12:54:48.880Z"
   },
   {
    "duration": 10,
    "start_time": "2021-09-20T12:54:51.102Z"
   },
   {
    "duration": 11,
    "start_time": "2021-09-20T12:56:04.200Z"
   },
   {
    "duration": 10,
    "start_time": "2021-09-20T12:56:07.659Z"
   },
   {
    "duration": 10,
    "start_time": "2021-09-20T12:56:10.364Z"
   },
   {
    "duration": 10,
    "start_time": "2021-09-20T12:56:12.577Z"
   },
   {
    "duration": 10,
    "start_time": "2021-09-20T12:56:15.906Z"
   },
   {
    "duration": 11,
    "start_time": "2021-09-20T12:56:18.498Z"
   },
   {
    "duration": 10,
    "start_time": "2021-09-20T12:56:21.495Z"
   },
   {
    "duration": 10,
    "start_time": "2021-09-20T12:56:23.634Z"
   },
   {
    "duration": 10,
    "start_time": "2021-09-20T12:56:28.061Z"
   },
   {
    "duration": 10,
    "start_time": "2021-09-20T12:56:30.343Z"
   },
   {
    "duration": 9,
    "start_time": "2021-09-20T12:56:33.171Z"
   },
   {
    "duration": 10,
    "start_time": "2021-09-20T12:56:35.433Z"
   },
   {
    "duration": 11,
    "start_time": "2021-09-20T12:56:37.645Z"
   },
   {
    "duration": 10,
    "start_time": "2021-09-20T12:56:41.150Z"
   },
   {
    "duration": 11,
    "start_time": "2021-09-20T12:56:43.912Z"
   },
   {
    "duration": 10,
    "start_time": "2021-09-20T12:56:46.451Z"
   },
   {
    "duration": 11,
    "start_time": "2021-09-20T12:56:48.712Z"
   },
   {
    "duration": 10,
    "start_time": "2021-09-20T12:56:50.867Z"
   },
   {
    "duration": 10,
    "start_time": "2021-09-20T12:56:53.893Z"
   },
   {
    "duration": 11,
    "start_time": "2021-09-20T12:56:56.606Z"
   },
   {
    "duration": 11,
    "start_time": "2021-09-20T12:56:59.631Z"
   },
   {
    "duration": 10,
    "start_time": "2021-09-20T12:57:02.863Z"
   },
   {
    "duration": 11,
    "start_time": "2021-09-20T12:57:07.197Z"
   },
   {
    "duration": 10,
    "start_time": "2021-09-20T12:57:11.175Z"
   },
   {
    "duration": 11,
    "start_time": "2021-09-20T12:57:14.190Z"
   },
   {
    "duration": 11,
    "start_time": "2021-09-20T12:57:16.008Z"
   },
   {
    "duration": 11,
    "start_time": "2021-09-20T12:57:17.955Z"
   },
   {
    "duration": 10,
    "start_time": "2021-09-20T12:57:20.802Z"
   },
   {
    "duration": 11,
    "start_time": "2021-09-20T12:57:29.602Z"
   },
   {
    "duration": 191,
    "start_time": "2021-09-20T13:52:07.260Z"
   },
   {
    "duration": 232,
    "start_time": "2021-09-20T13:52:26.524Z"
   },
   {
    "duration": 214,
    "start_time": "2021-09-20T13:53:02.553Z"
   },
   {
    "duration": 11,
    "start_time": "2021-09-20T13:54:48.393Z"
   },
   {
    "duration": 168,
    "start_time": "2021-09-20T13:55:00.619Z"
   },
   {
    "duration": 162,
    "start_time": "2021-09-20T13:56:35.421Z"
   },
   {
    "duration": 1082,
    "start_time": "2021-09-20T14:02:39.139Z"
   },
   {
    "duration": 8,
    "start_time": "2021-09-20T14:02:40.223Z"
   },
   {
    "duration": 16,
    "start_time": "2021-09-20T14:02:40.232Z"
   },
   {
    "duration": 54,
    "start_time": "2021-09-20T14:02:40.250Z"
   },
   {
    "duration": 6,
    "start_time": "2021-09-20T14:02:40.305Z"
   },
   {
    "duration": 21,
    "start_time": "2021-09-20T14:02:40.312Z"
   },
   {
    "duration": 405543,
    "start_time": "2021-09-20T14:02:40.334Z"
   },
   {
    "duration": 68,
    "start_time": "2021-09-20T14:09:25.880Z"
   },
   {
    "duration": 11330,
    "start_time": "2021-09-20T14:09:25.951Z"
   },
   {
    "duration": 31,
    "start_time": "2021-09-20T14:09:37.283Z"
   },
   {
    "duration": 2183,
    "start_time": "2021-09-20T14:09:37.316Z"
   },
   {
    "duration": 29,
    "start_time": "2021-09-20T14:09:39.501Z"
   },
   {
    "duration": 75,
    "start_time": "2021-09-20T14:09:39.532Z"
   },
   {
    "duration": 151,
    "start_time": "2021-09-20T14:09:39.609Z"
   },
   {
    "duration": 113,
    "start_time": "2021-09-20T14:09:39.762Z"
   },
   {
    "duration": 161,
    "start_time": "2021-09-20T14:09:39.877Z"
   },
   {
    "duration": 185,
    "start_time": "2021-09-20T14:09:40.039Z"
   },
   {
    "duration": 76,
    "start_time": "2021-09-20T14:09:40.226Z"
   },
   {
    "duration": 47,
    "start_time": "2021-09-20T14:09:40.304Z"
   },
   {
    "duration": 8,
    "start_time": "2021-09-20T14:09:40.353Z"
   },
   {
    "duration": 138,
    "start_time": "2021-09-20T14:09:40.363Z"
   },
   {
    "duration": 12,
    "start_time": "2021-09-20T14:09:40.502Z"
   },
   {
    "duration": 11,
    "start_time": "2021-09-20T14:09:40.517Z"
   },
   {
    "duration": 11,
    "start_time": "2021-09-20T14:09:40.530Z"
   },
   {
    "duration": 184,
    "start_time": "2021-09-20T14:09:40.543Z"
   },
   {
    "duration": 5,
    "start_time": "2021-09-20T14:09:40.729Z"
   },
   {
    "duration": 80,
    "start_time": "2021-09-20T14:27:00.392Z"
   },
   {
    "duration": 79,
    "start_time": "2021-09-20T14:27:07.953Z"
   },
   {
    "duration": 335,
    "start_time": "2021-09-20T14:27:18.954Z"
   },
   {
    "duration": 85,
    "start_time": "2021-09-20T14:27:35.069Z"
   },
   {
    "duration": 84,
    "start_time": "2021-09-20T14:27:39.969Z"
   },
   {
    "duration": 79,
    "start_time": "2021-09-20T14:27:43.642Z"
   },
   {
    "duration": 80,
    "start_time": "2021-09-20T14:27:46.685Z"
   },
   {
    "duration": 80,
    "start_time": "2021-09-20T14:27:50.485Z"
   },
   {
    "duration": 82,
    "start_time": "2021-09-20T14:27:53.209Z"
   },
   {
    "duration": 110,
    "start_time": "2021-09-20T14:28:11.159Z"
   },
   {
    "duration": 14,
    "start_time": "2021-09-20T14:28:52.822Z"
   },
   {
    "duration": 7,
    "start_time": "2021-09-20T14:29:53.271Z"
   },
   {
    "duration": 163,
    "start_time": "2021-09-20T14:29:54.742Z"
   }
  ],
  "kernelspec": {
   "display_name": "Python 3 (ipykernel)",
   "language": "python",
   "name": "python3"
  },
  "language_info": {
   "codemirror_mode": {
    "name": "ipython",
    "version": 3
   },
   "file_extension": ".py",
   "mimetype": "text/x-python",
   "name": "python",
   "nbconvert_exporter": "python",
   "pygments_lexer": "ipython3",
   "version": "3.9.7"
  },
  "toc": {
   "base_numbering": 1,
   "nav_menu": {},
   "number_sections": true,
   "sideBar": true,
   "skip_h1_title": true,
   "title_cell": "Содержание",
   "title_sidebar": "Contents",
   "toc_cell": true,
   "toc_position": {},
   "toc_section_display": true,
   "toc_window_display": false
  }
 },
 "nbformat": 4,
 "nbformat_minor": 2
}
