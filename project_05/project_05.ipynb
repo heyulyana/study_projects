{
 "cells": [
  {
   "cell_type": "markdown",
   "metadata": {},
   "source": [
    "## Откройте и изучите файл"
   ]
  },
  {
   "cell_type": "code",
   "execution_count": 2,
   "metadata": {},
   "outputs": [
    {
     "name": "stdout",
     "output_type": "stream",
     "text": [
      "(3214, 5)\n",
      "   calls  minutes  messages   mb_used  is_ultra\n",
      "0   40.0   311.90      83.0  19915.42         0\n",
      "1   85.0   516.75      56.0  22696.96         0\n",
      "2   77.0   467.66      86.0  21060.45         0\n",
      "3  106.0   745.53      81.0   8437.39         1\n",
      "4   66.0   418.74       1.0  14502.75         0\n"
     ]
    }
   ],
   "source": [
    "import pandas as pd\n",
    "from sklearn.metrics import mean_squared_error\n",
    "from sklearn.model_selection import train_test_split \n",
    "from sklearn.tree import DecisionTreeClassifier\n",
    "from sklearn.ensemble import RandomForestClassifier\n",
    "from sklearn.metrics import accuracy_score\n",
    "from sklearn.linear_model import LogisticRegression\n",
    "from sklearn.model_selection import GridSearchCV\n",
    "\n",
    "df = pd.read_csv('/datasets/users_behavior.csv')\n",
    "\n",
    "print(df.shape)\n",
    "print(df.head(5)) "
   ]
  },
  {
   "cell_type": "markdown",
   "metadata": {},
   "source": [
    "Вывод: 1. Предобработка данных не требуется. 2. Столбцы calls, minutes,massages,mb_used - возьмем за признаки. 3 Столбец - is_ultra целевой признак, модель должна будет предсказать 0 или 1, 1 - тариф ультра, 0 - тариф смарт."
   ]
  },
  {
   "cell_type": "markdown",
   "metadata": {},
   "source": [
    "## Разбейте данные на выборки"
   ]
  },
  {
   "cell_type": "code",
   "execution_count": 3,
   "metadata": {},
   "outputs": [
    {
     "name": "stdout",
     "output_type": "stream",
     "text": [
      "(1928, 5)\n",
      "(643, 5)\n",
      "(643, 5)\n"
     ]
    }
   ],
   "source": [
    "#разбиваю данны на тренировочную, валидационную и тестовую выборки в соотношении - 60%, 20%, 20%\n",
    "\n",
    "df_train, df_valid = train_test_split(df, test_size=0.4, random_state=12345) \n",
    "\n",
    "df_valid, df_test = train_test_split(df_valid, test_size=0.5, random_state=12345)\n",
    "\n",
    "\n",
    "print(df_train.shape)\n",
    "print(df_valid.shape)\n",
    "print(df_test.shape)"
   ]
  },
  {
   "cell_type": "markdown",
   "metadata": {},
   "source": [
    "## Исследуйте модели"
   ]
  },
  {
   "cell_type": "code",
   "execution_count": 4,
   "metadata": {},
   "outputs": [],
   "source": [
    "#разделение данных на признаки и целевой признак\n",
    "\n",
    "\n",
    "features_train = df_train.drop(['is_ultra'], axis=1)\n",
    "target_train = df_train['is_ultra']\n",
    "\n",
    "features_valid = df_valid.drop(['is_ultra'], axis=1)\n",
    "target_valid = df_valid['is_ultra']\n",
    "\n",
    "features_test = df_test.drop(['is_ultra'], axis=1)\n",
    "target_test = df_test['is_ultra']\n"
   ]
  },
  {
   "cell_type": "code",
   "execution_count": 5,
   "metadata": {},
   "outputs": [
    {
     "name": "stdout",
     "output_type": "stream",
     "text": [
      "{'max_depth': 11, 'min_samples_leaf': 3, 'min_samples_split': 6, 'n_estimators': 50}\n"
     ]
    }
   ],
   "source": [
    "#Подбор лучших гиперпараметров для Случайного леса\n",
    "\n",
    "parametrs = { 'n_estimators': range (10, 51, 10),\n",
    "              'max_depth': range (1,13, 2),\n",
    "              'min_samples_leaf': range (1,8),\n",
    "              'min_samples_split': range (2,10,2) }\n",
    "\n",
    "\n",
    "clf = RandomForestClassifier()\n",
    "grid = GridSearchCV(clf, parametrs, cv=5)\n",
    "grid.fit(features_train, target_train)\n",
    "\n",
    "print(grid.best_params_)"
   ]
  },
  {
   "cell_type": "code",
   "execution_count": 6,
   "metadata": {},
   "outputs": [
    {
     "name": "stdout",
     "output_type": "stream",
     "text": [
      "Accuracy модели случайного леса на валидационной выборке: 0.7947122861586314\n"
     ]
    }
   ],
   "source": [
    "#Модель случайный лес\n",
    "\n",
    "model = RandomForestClassifier(max_depth = 9,min_samples_leaf=5,min_samples_split=2,n_estimators=40)\n",
    "model.fit(features_train,target_train) \n",
    "result = model.score(features_valid,target_valid) \n",
    "    \n",
    "print(\"Accuracy модели случайного леса на валидационной выборке:\", result)"
   ]
  },
  {
   "cell_type": "code",
   "execution_count": 7,
   "metadata": {},
   "outputs": [
    {
     "name": "stdout",
     "output_type": "stream",
     "text": [
      "{'max_depth': 7, 'min_samples_leaf': 7, 'min_samples_split': 4}\n"
     ]
    }
   ],
   "source": [
    "#Подбор лучших гиперпараметров для Дерева решений\n",
    "\n",
    "parametrs = { 'max_depth': range (1,13, 2),\n",
    "              'min_samples_leaf': range (1,8),\n",
    "              'min_samples_split': range (2,10,2) }\n",
    "\n",
    "\n",
    "clf = DecisionTreeClassifier()\n",
    "grid = GridSearchCV(clf, parametrs, cv=5)\n",
    "grid.fit(features_train, target_train)\n",
    "\n",
    "print(grid.best_params_)"
   ]
  },
  {
   "cell_type": "code",
   "execution_count": 8,
   "metadata": {},
   "outputs": [
    {
     "name": "stdout",
     "output_type": "stream",
     "text": [
      "Accuracy модели дерева решений на валидационной выборке: 0.7791601866251944\n"
     ]
    }
   ],
   "source": [
    "#Дерево решений\n",
    "\n",
    "model = DecisionTreeClassifier(max_depth=5,min_samples_leaf=1,min_samples_split=2)\n",
    "model.fit(features_train, target_train)\n",
    "predictions_valid=model.predict(features_valid)\n",
    "print(\"Accuracy модели дерева решений на валидационной выборке:\",accuracy_score(target_valid, predictions_valid)) "
   ]
  },
  {
   "cell_type": "markdown",
   "metadata": {},
   "source": [
    "## Проверьте модель на тестовой выборке"
   ]
  },
  {
   "cell_type": "code",
   "execution_count": 61,
   "metadata": {
    "scrolled": true
   },
   "outputs": [
    {
     "name": "stdout",
     "output_type": "stream",
     "text": [
      "Accuracy модели на тестовой выборке: 0.8009331259720062\n"
     ]
    }
   ],
   "source": [
    "model = RandomForestClassifier(max_depth = 9,min_samples_leaf=5,min_samples_split=2,n_estimators=40)\n",
    "model.fit(features_train,target_train) \n",
    "result = model.score(features_test,target_test) \n",
    "\n",
    "print(\"Accuracy модели случайного леса на тестовой выборке:\", result)\n"
   ]
  },
  {
   "cell_type": "code",
   "execution_count": 63,
   "metadata": {},
   "outputs": [
    {
     "name": "stdout",
     "output_type": "stream",
     "text": [
      "Accuracy модели дерева решений на тестовой выборке: 0.7822706065318819\n"
     ]
    }
   ],
   "source": [
    "model = DecisionTreeClassifier(max_depth=5,min_samples_leaf=1,min_samples_split=2)\n",
    "model.fit(features_train,target_train) \n",
    "result = model.score(features_test,target_test) \n",
    "\n",
    "print(\"Accuracy модели дерева решений на тестовой выборке:\", result)"
   ]
  },
  {
   "cell_type": "code",
   "execution_count": 64,
   "metadata": {},
   "outputs": [
    {
     "name": "stdout",
     "output_type": "stream",
     "text": [
      "  Модель/Accuracy  Валидационная выборка Тестовая выборка\n",
      "0    Случайный лес                  0.79             0.80\n",
      "1   Дерево решений                  0.77             0.78\n"
     ]
    }
   ],
   "source": [
    "results=pd.DataFrame({'Модель/Accuracy ':['Случайный лес','Дерево решений'],\n",
    "                      'Валидационная выборка': ['0.79', '0.77'],\n",
    "                      'Тестовая выборка': ['0.80', '0.78'],\n",
    "                         }) \n",
    "\n",
    "print(results)"
   ]
  },
  {
   "cell_type": "markdown",
   "metadata": {},
   "source": [
    "## (бонус) Проверьте модели на адекватность"
   ]
  },
  {
   "cell_type": "code",
   "execution_count": 41,
   "metadata": {},
   "outputs": [
    {
     "name": "stdout",
     "output_type": "stream",
     "text": [
      "RMSE модели линейной регрессии на валидационной выборке: 0.45136737131523463\n"
     ]
    }
   ],
   "source": [
    "\n",
    "model = RandomForestClassifier(max_depth = 9,min_samples_leaf=5,min_samples_split=2,n_estimators=40)\n",
    "model.fit(features_train,target_train) \n",
    "predictions_test = model.predict(features_test)\n",
    "\n",
    "result =mean_squared_error(target_test, predictions_test)**0.5\n",
    "print(\"RMSE модели случайного леса на тестовой выборке:\", result)"
   ]
  },
  {
   "cell_type": "code",
   "execution_count": 42,
   "metadata": {},
   "outputs": [
    {
     "name": "stdout",
     "output_type": "stream",
     "text": [
      "RMSE модели дерева решений на тестовой выборке: 0.4649453554072505\n"
     ]
    }
   ],
   "source": [
    "model = DecisionTreeClassifier(max_depth=5,min_samples_leaf=1,min_samples_split=2)\n",
    "model.fit(features_train, target_train)\n",
    "predictions_test = model.predict(features_test)\n",
    "\n",
    "result =mean_squared_error(target_test, predictions_test)**0.5\n",
    "print(\"RMSE модели дерева решений на тестовой выборке:\", result)"
   ]
  },
  {
   "cell_type": "code",
   "execution_count": 67,
   "metadata": {},
   "outputs": [
    {
     "name": "stdout",
     "output_type": "stream",
     "text": [
      "Accuracy случайной модели: 0.6842923794712286\n"
     ]
    }
   ],
   "source": [
    "from sklearn.dummy import DummyClassifier\n",
    "dummy_classifier = DummyClassifier(strategy=\"most_frequent\")\n",
    "dummy_classifier.fit( features_train,target_train)\n",
    "result = dummy_classifier.score(features_test,target_test) \n",
    "\n",
    "print(\"Accuracy случайной модели:\", result)"
   ]
  },
  {
   "cell_type": "markdown",
   "metadata": {},
   "source": [
    "## 6. Вывод\n",
    "\n",
    "1.Для обучения модели разбила данные на выборки - тренировочную, валидационную и тестовую - в соотношении 60%, 20%, 20%.\n",
    "2.С помощью GridSearchCV() подобрала лучшие гиперпараметры для моделей.\n",
    "3.Обучила модель Случайного леса и  Дерева решений, посчитала значение accuracy на валидационной выборке. Лучшее значение у модели  случайного леса = 0.79.\n",
    "4.Проверила модель на тестовой выборе, acuuracy = 0.8\n",
    "5.Проверила модели на адекватность, для этого рассчитала параметр RMSE. В двух случаях он равен 0,45 и 0,46. Значение низкое, модель адекватна."
   ]
  }
 ],
 "metadata": {
  "ExecuteTimeLog": [
   {
    "duration": 603,
    "start_time": "2021-08-19T12:43:24.258Z"
   },
   {
    "duration": 30,
    "start_time": "2021-08-19T12:43:33.855Z"
   },
   {
    "duration": 21,
    "start_time": "2021-08-19T12:43:41.588Z"
   },
   {
    "duration": 24,
    "start_time": "2021-08-19T12:43:49.848Z"
   },
   {
    "duration": 20,
    "start_time": "2021-08-19T12:43:53.601Z"
   },
   {
    "duration": 23,
    "start_time": "2021-08-19T12:44:25.768Z"
   },
   {
    "duration": 379,
    "start_time": "2021-08-19T12:45:13.994Z"
   },
   {
    "duration": 32,
    "start_time": "2021-08-19T12:45:43.611Z"
   },
   {
    "duration": 37,
    "start_time": "2021-08-19T12:45:48.708Z"
   },
   {
    "duration": 655,
    "start_time": "2021-08-24T10:38:13.688Z"
   },
   {
    "duration": 514,
    "start_time": "2021-08-24T12:39:29.550Z"
   },
   {
    "duration": 6,
    "start_time": "2021-08-24T12:40:24.942Z"
   },
   {
    "duration": 7,
    "start_time": "2021-08-24T12:41:39.021Z"
   },
   {
    "duration": 9,
    "start_time": "2021-08-24T12:41:50.338Z"
   },
   {
    "duration": 9,
    "start_time": "2021-08-24T12:41:57.850Z"
   },
   {
    "duration": 9,
    "start_time": "2021-08-24T12:42:03.745Z"
   },
   {
    "duration": 2396,
    "start_time": "2021-08-25T09:36:08.129Z"
   },
   {
    "duration": 7,
    "start_time": "2021-08-25T09:36:39.226Z"
   },
   {
    "duration": 53,
    "start_time": "2021-08-25T09:37:31.331Z"
   },
   {
    "duration": 811,
    "start_time": "2021-08-25T09:41:50.047Z"
   },
   {
    "duration": 29,
    "start_time": "2021-08-25T09:42:07.024Z"
   },
   {
    "duration": 11,
    "start_time": "2021-08-25T09:42:08.307Z"
   },
   {
    "duration": 50,
    "start_time": "2021-08-25T09:42:09.476Z"
   },
   {
    "duration": 85,
    "start_time": "2021-08-25T09:42:25.474Z"
   },
   {
    "duration": 48,
    "start_time": "2021-08-25T09:42:30.484Z"
   },
   {
    "duration": 457,
    "start_time": "2021-08-25T09:43:58.027Z"
   },
   {
    "duration": 43,
    "start_time": "2021-08-25T09:44:02.774Z"
   },
   {
    "duration": 16,
    "start_time": "2021-08-25T09:44:04.062Z"
   },
   {
    "duration": 53,
    "start_time": "2021-08-25T09:44:06.830Z"
   },
   {
    "duration": 371,
    "start_time": "2021-08-25T09:44:08.130Z"
   },
   {
    "duration": 29,
    "start_time": "2021-08-25T09:45:23.975Z"
   },
   {
    "duration": 13,
    "start_time": "2021-08-25T09:45:25.185Z"
   },
   {
    "duration": 60,
    "start_time": "2021-08-25T09:45:26.282Z"
   },
   {
    "duration": 42,
    "start_time": "2021-08-25T09:45:28.598Z"
   },
   {
    "duration": 318,
    "start_time": "2021-08-25T09:52:36.838Z"
   },
   {
    "duration": 29,
    "start_time": "2021-08-25T09:52:40.867Z"
   },
   {
    "duration": 13,
    "start_time": "2021-08-25T09:52:42.517Z"
   },
   {
    "duration": 52,
    "start_time": "2021-08-25T09:52:45.244Z"
   },
   {
    "duration": 334,
    "start_time": "2021-08-25T09:52:48.942Z"
   },
   {
    "duration": 63,
    "start_time": "2021-08-25T10:16:32.438Z"
   },
   {
    "duration": 509050,
    "start_time": "2021-08-25T10:16:32.503Z"
   },
   {
    "duration": 65,
    "start_time": "2021-08-25T10:25:01.668Z"
   },
   {
    "duration": 175,
    "start_time": "2021-08-25T11:12:35.375Z"
   },
   {
    "duration": 10,
    "start_time": "2021-08-25T11:13:01.727Z"
   },
   {
    "duration": 7991,
    "start_time": "2021-08-25T11:16:29.274Z"
   },
   {
    "duration": 14,
    "start_time": "2021-08-25T11:17:16.322Z"
   },
   {
    "duration": 255,
    "start_time": "2021-08-25T11:24:21.310Z"
   },
   {
    "duration": 216,
    "start_time": "2021-08-25T11:26:05.113Z"
   },
   {
    "duration": 215,
    "start_time": "2021-08-25T11:26:52.366Z"
   },
   {
    "duration": 199,
    "start_time": "2021-08-25T11:27:06.279Z"
   },
   {
    "duration": 658,
    "start_time": "2021-08-25T12:32:30.606Z"
   },
   {
    "duration": 250,
    "start_time": "2021-08-25T12:32:53.539Z"
   },
   {
    "duration": 16,
    "start_time": "2021-08-25T12:34:15.845Z"
   },
   {
    "duration": 676,
    "start_time": "2021-08-27T12:55:12.708Z"
   },
   {
    "duration": 1189,
    "start_time": "2021-08-27T12:55:20.530Z"
   },
   {
    "duration": 8,
    "start_time": "2021-08-27T12:55:23.749Z"
   },
   {
    "duration": 6,
    "start_time": "2021-08-27T12:55:25.237Z"
   },
   {
    "duration": 276182,
    "start_time": "2021-08-27T12:55:26.990Z"
   },
   {
    "duration": 133,
    "start_time": "2021-08-27T13:00:03.174Z"
   },
   {
    "duration": 4771,
    "start_time": "2021-08-27T13:00:03.309Z"
   },
   {
    "duration": 10,
    "start_time": "2021-08-27T13:00:08.082Z"
   },
   {
    "duration": 220,
    "start_time": "2021-08-27T13:00:08.204Z"
   },
   {
    "duration": 395,
    "start_time": "2021-08-27T13:03:20.799Z"
   },
   {
    "duration": 121,
    "start_time": "2021-08-27T13:03:33.162Z"
   },
   {
    "duration": 128,
    "start_time": "2021-08-27T13:03:42.160Z"
   },
   {
    "duration": 178,
    "start_time": "2021-08-27T13:03:51.691Z"
   },
   {
    "duration": 136,
    "start_time": "2021-08-27T13:04:45.994Z"
   },
   {
    "duration": 418,
    "start_time": "2021-08-27T13:04:59.150Z"
   },
   {
    "duration": 135,
    "start_time": "2021-08-27T13:05:17.177Z"
   },
   {
    "duration": 156,
    "start_time": "2021-08-27T13:09:18.565Z"
   },
   {
    "duration": 160,
    "start_time": "2021-08-27T13:09:25.935Z"
   },
   {
    "duration": 229,
    "start_time": "2021-08-27T13:09:51.195Z"
   },
   {
    "duration": 144,
    "start_time": "2021-08-27T13:10:04.653Z"
   },
   {
    "duration": 147,
    "start_time": "2021-08-27T13:10:11.896Z"
   },
   {
    "duration": 135,
    "start_time": "2021-08-27T13:11:56.349Z"
   },
   {
    "duration": 151,
    "start_time": "2021-08-27T13:12:03.420Z"
   },
   {
    "duration": 149,
    "start_time": "2021-08-27T13:12:19.463Z"
   },
   {
    "duration": 156,
    "start_time": "2021-08-27T13:12:26.543Z"
   },
   {
    "duration": 286,
    "start_time": "2021-08-27T13:15:17.817Z"
   },
   {
    "duration": 293,
    "start_time": "2021-08-27T13:24:17.014Z"
   },
   {
    "duration": 288,
    "start_time": "2021-08-27T13:24:27.337Z"
   },
   {
    "duration": 642,
    "start_time": "2021-08-27T13:24:45.010Z"
   },
   {
    "duration": 319,
    "start_time": "2021-08-27T13:25:33.109Z"
   },
   {
    "duration": 130,
    "start_time": "2021-08-27T13:25:47.294Z"
   },
   {
    "duration": 130,
    "start_time": "2021-08-27T13:26:00.580Z"
   },
   {
    "duration": 136,
    "start_time": "2021-08-27T13:27:03.146Z"
   },
   {
    "duration": 129,
    "start_time": "2021-08-27T13:27:31.661Z"
   },
   {
    "duration": 130,
    "start_time": "2021-08-27T13:27:51.545Z"
   },
   {
    "duration": 396,
    "start_time": "2021-08-27T13:28:32.730Z"
   },
   {
    "duration": 127,
    "start_time": "2021-08-27T13:28:42.258Z"
   },
   {
    "duration": 159,
    "start_time": "2021-08-27T13:29:09.741Z"
   },
   {
    "duration": 151,
    "start_time": "2021-08-27T13:29:29.301Z"
   },
   {
    "duration": 117,
    "start_time": "2021-08-27T13:30:25.327Z"
   },
   {
    "duration": 188,
    "start_time": "2021-08-27T14:24:00.181Z"
   },
   {
    "duration": 128,
    "start_time": "2021-08-27T14:24:16.110Z"
   },
   {
    "duration": 555,
    "start_time": "2021-08-27T14:24:34.942Z"
   },
   {
    "duration": 515,
    "start_time": "2021-08-27T14:25:01.499Z"
   },
   {
    "duration": 469,
    "start_time": "2021-08-27T14:25:09.199Z"
   },
   {
    "duration": 520,
    "start_time": "2021-08-27T14:25:12.927Z"
   },
   {
    "duration": 119,
    "start_time": "2021-08-27T14:25:39.885Z"
   },
   {
    "duration": 128,
    "start_time": "2021-08-27T14:26:25.891Z"
   },
   {
    "duration": 122,
    "start_time": "2021-08-27T14:26:40.720Z"
   },
   {
    "duration": 537,
    "start_time": "2021-08-27T14:27:21.504Z"
   },
   {
    "duration": 127,
    "start_time": "2021-08-27T14:27:33.041Z"
   },
   {
    "duration": 188,
    "start_time": "2021-08-27T14:28:00.265Z"
   },
   {
    "duration": 184,
    "start_time": "2021-08-27T14:28:06.188Z"
   },
   {
    "duration": 180,
    "start_time": "2021-08-27T14:28:37.958Z"
   },
   {
    "duration": 184,
    "start_time": "2021-08-27T14:29:15.120Z"
   },
   {
    "duration": 181,
    "start_time": "2021-08-27T14:29:19.623Z"
   },
   {
    "duration": 180,
    "start_time": "2021-08-27T14:29:26.234Z"
   },
   {
    "duration": 184,
    "start_time": "2021-08-27T14:29:36.663Z"
   },
   {
    "duration": 179,
    "start_time": "2021-08-27T14:29:57.150Z"
   },
   {
    "duration": 183,
    "start_time": "2021-08-27T14:30:11.265Z"
   },
   {
    "duration": 185,
    "start_time": "2021-08-27T14:30:17.238Z"
   },
   {
    "duration": 7,
    "start_time": "2021-08-27T14:30:37.005Z"
   },
   {
    "duration": 10,
    "start_time": "2021-08-27T14:31:09.981Z"
   },
   {
    "duration": 8,
    "start_time": "2021-08-27T14:31:17.642Z"
   },
   {
    "duration": 411,
    "start_time": "2021-08-27T14:36:05.855Z"
   },
   {
    "duration": 6,
    "start_time": "2021-08-27T14:36:16.944Z"
   },
   {
    "duration": 6,
    "start_time": "2021-08-27T14:37:14.113Z"
   }
  ],
  "kernelspec": {
   "display_name": "Python 3 (ipykernel)",
   "language": "python",
   "name": "python3"
  },
  "language_info": {
   "codemirror_mode": {
    "name": "ipython",
    "version": 3
   },
   "file_extension": ".py",
   "mimetype": "text/x-python",
   "name": "python",
   "nbconvert_exporter": "python",
   "pygments_lexer": "ipython3",
   "version": "3.9.7"
  },
  "toc": {
   "base_numbering": 1,
   "nav_menu": {},
   "number_sections": true,
   "sideBar": true,
   "skip_h1_title": true,
   "title_cell": "Table of Contents",
   "title_sidebar": "Contents",
   "toc_cell": false,
   "toc_position": {},
   "toc_section_display": true,
   "toc_window_display": false
  }
 },
 "nbformat": 4,
 "nbformat_minor": 2
}
