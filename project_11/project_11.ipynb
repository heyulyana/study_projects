{
 "cells": [
  {
   "cell_type": "markdown",
   "metadata": {},
   "source": [
    "## Подготовка"
   ]
  },
  {
   "cell_type": "code",
   "execution_count": 1,
   "metadata": {},
   "outputs": [],
   "source": [
    "import pandas as pd\n",
    "import numpy as np\n",
    "from sklearn.model_selection import train_test_split\n",
    "from sklearn.linear_model import LinearRegression\n",
    "from sklearn.metrics import mean_squared_error\n",
    "from statsmodels.tsa.seasonal import seasonal_decompose\n",
    "from sklearn.ensemble import RandomForestRegressor\n",
    "from sklearn.metrics import make_scorer\n",
    "from sklearn.model_selection import GridSearchCV\n",
    "from sklearn.tree import DecisionTreeRegressor\n",
    "from lightgbm import LGBMRegressor\n",
    "import matplotlib.pyplot as plt"
   ]
  },
  {
   "cell_type": "code",
   "execution_count": 2,
   "metadata": {},
   "outputs": [
    {
     "data": {
      "text/html": [
       "<div>\n",
       "<style scoped>\n",
       "    .dataframe tbody tr th:only-of-type {\n",
       "        vertical-align: middle;\n",
       "    }\n",
       "\n",
       "    .dataframe tbody tr th {\n",
       "        vertical-align: top;\n",
       "    }\n",
       "\n",
       "    .dataframe thead th {\n",
       "        text-align: right;\n",
       "    }\n",
       "</style>\n",
       "<table border=\"1\" class=\"dataframe\">\n",
       "  <thead>\n",
       "    <tr style=\"text-align: right;\">\n",
       "      <th></th>\n",
       "      <th>num_orders</th>\n",
       "    </tr>\n",
       "    <tr>\n",
       "      <th>datetime</th>\n",
       "      <th></th>\n",
       "    </tr>\n",
       "  </thead>\n",
       "  <tbody>\n",
       "    <tr>\n",
       "      <td>2018-03-01 00:00:00</td>\n",
       "      <td>9</td>\n",
       "    </tr>\n",
       "    <tr>\n",
       "      <td>2018-03-01 00:10:00</td>\n",
       "      <td>14</td>\n",
       "    </tr>\n",
       "    <tr>\n",
       "      <td>2018-03-01 00:20:00</td>\n",
       "      <td>28</td>\n",
       "    </tr>\n",
       "    <tr>\n",
       "      <td>2018-03-01 00:30:00</td>\n",
       "      <td>20</td>\n",
       "    </tr>\n",
       "    <tr>\n",
       "      <td>2018-03-01 00:40:00</td>\n",
       "      <td>32</td>\n",
       "    </tr>\n",
       "    <tr>\n",
       "      <td>2018-03-01 00:50:00</td>\n",
       "      <td>21</td>\n",
       "    </tr>\n",
       "    <tr>\n",
       "      <td>2018-03-01 01:00:00</td>\n",
       "      <td>7</td>\n",
       "    </tr>\n",
       "    <tr>\n",
       "      <td>2018-03-01 01:10:00</td>\n",
       "      <td>5</td>\n",
       "    </tr>\n",
       "    <tr>\n",
       "      <td>2018-03-01 01:20:00</td>\n",
       "      <td>17</td>\n",
       "    </tr>\n",
       "    <tr>\n",
       "      <td>2018-03-01 01:30:00</td>\n",
       "      <td>12</td>\n",
       "    </tr>\n",
       "  </tbody>\n",
       "</table>\n",
       "</div>"
      ],
      "text/plain": [
       "                     num_orders\n",
       "datetime                       \n",
       "2018-03-01 00:00:00           9\n",
       "2018-03-01 00:10:00          14\n",
       "2018-03-01 00:20:00          28\n",
       "2018-03-01 00:30:00          20\n",
       "2018-03-01 00:40:00          32\n",
       "2018-03-01 00:50:00          21\n",
       "2018-03-01 01:00:00           7\n",
       "2018-03-01 01:10:00           5\n",
       "2018-03-01 01:20:00          17\n",
       "2018-03-01 01:30:00          12"
      ]
     },
     "execution_count": 2,
     "metadata": {},
     "output_type": "execute_result"
    }
   ],
   "source": [
    "data=pd.read_csv('/datasets/taxi.csv',index_col=[0],parse_dates=[0])\n",
    "\n",
    "data.index = pd.to_datetime(data.index)\n",
    "data.head(10)"
   ]
  },
  {
   "cell_type": "code",
   "execution_count": 3,
   "metadata": {},
   "outputs": [
    {
     "name": "stdout",
     "output_type": "stream",
     "text": [
      "<class 'pandas.core.frame.DataFrame'>\n",
      "DatetimeIndex: 26496 entries, 2018-03-01 00:00:00 to 2018-08-31 23:50:00\n",
      "Data columns (total 1 columns):\n",
      "num_orders    26496 non-null int64\n",
      "dtypes: int64(1)\n",
      "memory usage: 414.0 KB\n"
     ]
    }
   ],
   "source": [
    "data.info()"
   ]
  },
  {
   "cell_type": "code",
   "execution_count": 4,
   "metadata": {},
   "outputs": [],
   "source": [
    "data.sort_index(inplace=True)\n",
    "data = data.resample('1H').sum()"
   ]
  },
  {
   "cell_type": "markdown",
   "metadata": {},
   "source": [
    "<b> Вывод: </b> Данные загружены и выполнено ресемплирование по одному часу"
   ]
  },
  {
   "cell_type": "markdown",
   "metadata": {},
   "source": [
    "## Анализ"
   ]
  },
  {
   "cell_type": "code",
   "execution_count": 5,
   "metadata": {},
   "outputs": [
    {
     "data": {
      "text/plain": [
       "<matplotlib.axes._subplots.AxesSubplot at 0x7f036823d3d0>"
      ]
     },
     "execution_count": 5,
     "metadata": {},
     "output_type": "execute_result"
    },
    {
     "data": {
      "image/png": "[encoded data removed]",
      "text/plain": [
       "<Figure size 432x288 with 1 Axes>"
      ]
     },
     "metadata": {
      "needs_background": "light"
     },
     "output_type": "display_data"
    }
   ],
   "source": [
    "data.plot()"
   ]
  },
  {
   "cell_type": "markdown",
   "metadata": {},
   "source": [
    "По данным видно что с каждым месяцем число заказов увеличивается. Если точнее, то в теплые месяца заказов из аэропорта больше. Август сильно отличается от марта, летом же все едут в отпуск"
   ]
  },
  {
   "cell_type": "code",
   "execution_count": 6,
   "metadata": {
    "scrolled": true
   },
   "outputs": [
    {
     "data": {
      "text/plain": [
       "<matplotlib.axes._subplots.AxesSubplot at 0x7f0368285190>"
      ]
     },
     "execution_count": 6,
     "metadata": {},
     "output_type": "execute_result"
    },
    {
     "data": {
      "image/png": "[encoded data removed]",
      "text/plain": [
       "<Figure size 432x288 with 1 Axes>"
      ]
     },
     "metadata": {
      "needs_background": "light"
     },
     "output_type": "display_data"
    }
   ],
   "source": [
    "#вычисляем скользящее среднее\n",
    "\n",
    "data['rolling_mean'] = data.rolling(12).mean()\n",
    "data.plot()"
   ]
  },
  {
   "cell_type": "code",
   "execution_count": 7,
   "metadata": {
    "scrolled": true
   },
   "outputs": [
    {
     "data": {
      "text/plain": [
       "<matplotlib.axes._subplots.AxesSubplot at 0x7f03679f5b10>"
      ]
     },
     "execution_count": 7,
     "metadata": {},
     "output_type": "execute_result"
    },
    {
     "data": {
      "image/png": "[encoded data removed]",
      "text/plain": [
       "<Figure size 432x288 with 1 Axes>"
      ]
     },
     "metadata": {
      "needs_background": "light"
     },
     "output_type": "display_data"
    }
   ],
   "source": [
    "data1= data['2018-03-01':'2018-03-03']\n",
    "data1.plot()"
   ]
  },
  {
   "cell_type": "code",
   "execution_count": 8,
   "metadata": {},
   "outputs": [
    {
     "data": {
      "text/plain": [
       "Text(0.5, 1.0, 'Seasonality')"
      ]
     },
     "execution_count": 8,
     "metadata": {},
     "output_type": "execute_result"
    },
    {
     "data": {
      "image/png": "[encoded data removed]",
      "text/plain": [
       "<Figure size 432x576 with 2 Axes>"
      ]
     },
     "metadata": {
      "needs_background": "light"
     },
     "output_type": "display_data"
    }
   ],
   "source": [
    "data = data.resample('1H').sum()\n",
    "\n",
    "decomposed = seasonal_decompose(data) \n",
    "\n",
    "decomposed.seasonal=decomposed.seasonal['2018-03-01-00':'2018-03-02-23']\n",
    "\n",
    "\n",
    "plt.figure(figsize=(6, 8))\n",
    "plt.subplot(211)\n",
    "decomposed.trend.plot(ax=plt.gca())\n",
    "plt.title('Trend')\n",
    "plt.subplot(212)\n",
    "decomposed.seasonal.plot(ax=plt.gca())\n",
    "plt.title('Seasonality')"
   ]
  },
  {
   "cell_type": "markdown",
   "metadata": {},
   "source": [
    "<b> Вывод: </b> В данных за 3 дня видна разница заказов ночью с дневными заказами, в 00:00 их намного больше. Спад происходит около 6:00"
   ]
  },
  {
   "cell_type": "code",
   "execution_count": 9,
   "metadata": {},
   "outputs": [],
   "source": [
    "#Добавляем признаки\n",
    "\n",
    "def make_features(data, max_lag, rolling_mean_size):\n",
    "    data['dayofweek'] = data.index.dayofweek\n",
    "    data['hour'] = data.index.hour\n",
    "    \n",
    "    for lag in range(1, max_lag + 1):\n",
    "        data['lag_{}'.format(lag)] = data['num_orders'].shift(lag)\n",
    "\n",
    "    data['rolling_mean'] = data['num_orders'].shift().rolling(rolling_mean_size).mean()\n",
    "\n",
    "\n",
    "make_features(data, 5, 24)"
   ]
  },
  {
   "cell_type": "code",
   "execution_count": 10,
   "metadata": {
    "scrolled": true
   },
   "outputs": [
    {
     "data": {
      "text/html": [
       "<div>\n",
       "<style scoped>\n",
       "    .dataframe tbody tr th:only-of-type {\n",
       "        vertical-align: middle;\n",
       "    }\n",
       "\n",
       "    .dataframe tbody tr th {\n",
       "        vertical-align: top;\n",
       "    }\n",
       "\n",
       "    .dataframe thead th {\n",
       "        text-align: right;\n",
       "    }\n",
       "</style>\n",
       "<table border=\"1\" class=\"dataframe\">\n",
       "  <thead>\n",
       "    <tr style=\"text-align: right;\">\n",
       "      <th></th>\n",
       "      <th>num_orders</th>\n",
       "      <th>rolling_mean</th>\n",
       "      <th>dayofweek</th>\n",
       "      <th>hour</th>\n",
       "      <th>lag_1</th>\n",
       "      <th>lag_2</th>\n",
       "      <th>lag_3</th>\n",
       "      <th>lag_4</th>\n",
       "      <th>lag_5</th>\n",
       "    </tr>\n",
       "    <tr>\n",
       "      <th>datetime</th>\n",
       "      <th></th>\n",
       "      <th></th>\n",
       "      <th></th>\n",
       "      <th></th>\n",
       "      <th></th>\n",
       "      <th></th>\n",
       "      <th></th>\n",
       "      <th></th>\n",
       "      <th></th>\n",
       "    </tr>\n",
       "  </thead>\n",
       "  <tbody>\n",
       "    <tr>\n",
       "      <td>2018-03-01 00:00:00</td>\n",
       "      <td>124</td>\n",
       "      <td>NaN</td>\n",
       "      <td>3</td>\n",
       "      <td>0</td>\n",
       "      <td>NaN</td>\n",
       "      <td>NaN</td>\n",
       "      <td>NaN</td>\n",
       "      <td>NaN</td>\n",
       "      <td>NaN</td>\n",
       "    </tr>\n",
       "    <tr>\n",
       "      <td>2018-03-01 01:00:00</td>\n",
       "      <td>85</td>\n",
       "      <td>NaN</td>\n",
       "      <td>3</td>\n",
       "      <td>1</td>\n",
       "      <td>124.0</td>\n",
       "      <td>NaN</td>\n",
       "      <td>NaN</td>\n",
       "      <td>NaN</td>\n",
       "      <td>NaN</td>\n",
       "    </tr>\n",
       "    <tr>\n",
       "      <td>2018-03-01 02:00:00</td>\n",
       "      <td>71</td>\n",
       "      <td>NaN</td>\n",
       "      <td>3</td>\n",
       "      <td>2</td>\n",
       "      <td>85.0</td>\n",
       "      <td>124.0</td>\n",
       "      <td>NaN</td>\n",
       "      <td>NaN</td>\n",
       "      <td>NaN</td>\n",
       "    </tr>\n",
       "    <tr>\n",
       "      <td>2018-03-01 03:00:00</td>\n",
       "      <td>66</td>\n",
       "      <td>NaN</td>\n",
       "      <td>3</td>\n",
       "      <td>3</td>\n",
       "      <td>71.0</td>\n",
       "      <td>85.0</td>\n",
       "      <td>124.0</td>\n",
       "      <td>NaN</td>\n",
       "      <td>NaN</td>\n",
       "    </tr>\n",
       "    <tr>\n",
       "      <td>2018-03-01 04:00:00</td>\n",
       "      <td>43</td>\n",
       "      <td>NaN</td>\n",
       "      <td>3</td>\n",
       "      <td>4</td>\n",
       "      <td>66.0</td>\n",
       "      <td>71.0</td>\n",
       "      <td>85.0</td>\n",
       "      <td>124.0</td>\n",
       "      <td>NaN</td>\n",
       "    </tr>\n",
       "    <tr>\n",
       "      <td>2018-03-01 05:00:00</td>\n",
       "      <td>6</td>\n",
       "      <td>NaN</td>\n",
       "      <td>3</td>\n",
       "      <td>5</td>\n",
       "      <td>43.0</td>\n",
       "      <td>66.0</td>\n",
       "      <td>71.0</td>\n",
       "      <td>85.0</td>\n",
       "      <td>124.0</td>\n",
       "    </tr>\n",
       "    <tr>\n",
       "      <td>2018-03-01 06:00:00</td>\n",
       "      <td>12</td>\n",
       "      <td>NaN</td>\n",
       "      <td>3</td>\n",
       "      <td>6</td>\n",
       "      <td>6.0</td>\n",
       "      <td>43.0</td>\n",
       "      <td>66.0</td>\n",
       "      <td>71.0</td>\n",
       "      <td>85.0</td>\n",
       "    </tr>\n",
       "    <tr>\n",
       "      <td>2018-03-01 07:00:00</td>\n",
       "      <td>15</td>\n",
       "      <td>NaN</td>\n",
       "      <td>3</td>\n",
       "      <td>7</td>\n",
       "      <td>12.0</td>\n",
       "      <td>6.0</td>\n",
       "      <td>43.0</td>\n",
       "      <td>66.0</td>\n",
       "      <td>71.0</td>\n",
       "    </tr>\n",
       "    <tr>\n",
       "      <td>2018-03-01 08:00:00</td>\n",
       "      <td>34</td>\n",
       "      <td>NaN</td>\n",
       "      <td>3</td>\n",
       "      <td>8</td>\n",
       "      <td>15.0</td>\n",
       "      <td>12.0</td>\n",
       "      <td>6.0</td>\n",
       "      <td>43.0</td>\n",
       "      <td>66.0</td>\n",
       "    </tr>\n",
       "    <tr>\n",
       "      <td>2018-03-01 09:00:00</td>\n",
       "      <td>69</td>\n",
       "      <td>NaN</td>\n",
       "      <td>3</td>\n",
       "      <td>9</td>\n",
       "      <td>34.0</td>\n",
       "      <td>15.0</td>\n",
       "      <td>12.0</td>\n",
       "      <td>6.0</td>\n",
       "      <td>43.0</td>\n",
       "    </tr>\n",
       "    <tr>\n",
       "      <td>2018-03-01 10:00:00</td>\n",
       "      <td>64</td>\n",
       "      <td>NaN</td>\n",
       "      <td>3</td>\n",
       "      <td>10</td>\n",
       "      <td>69.0</td>\n",
       "      <td>34.0</td>\n",
       "      <td>15.0</td>\n",
       "      <td>12.0</td>\n",
       "      <td>6.0</td>\n",
       "    </tr>\n",
       "    <tr>\n",
       "      <td>2018-03-01 11:00:00</td>\n",
       "      <td>96</td>\n",
       "      <td>NaN</td>\n",
       "      <td>3</td>\n",
       "      <td>11</td>\n",
       "      <td>64.0</td>\n",
       "      <td>69.0</td>\n",
       "      <td>34.0</td>\n",
       "      <td>15.0</td>\n",
       "      <td>12.0</td>\n",
       "    </tr>\n",
       "    <tr>\n",
       "      <td>2018-03-01 12:00:00</td>\n",
       "      <td>30</td>\n",
       "      <td>NaN</td>\n",
       "      <td>3</td>\n",
       "      <td>12</td>\n",
       "      <td>96.0</td>\n",
       "      <td>64.0</td>\n",
       "      <td>69.0</td>\n",
       "      <td>34.0</td>\n",
       "      <td>15.0</td>\n",
       "    </tr>\n",
       "    <tr>\n",
       "      <td>2018-03-01 13:00:00</td>\n",
       "      <td>32</td>\n",
       "      <td>NaN</td>\n",
       "      <td>3</td>\n",
       "      <td>13</td>\n",
       "      <td>30.0</td>\n",
       "      <td>96.0</td>\n",
       "      <td>64.0</td>\n",
       "      <td>69.0</td>\n",
       "      <td>34.0</td>\n",
       "    </tr>\n",
       "    <tr>\n",
       "      <td>2018-03-01 14:00:00</td>\n",
       "      <td>48</td>\n",
       "      <td>NaN</td>\n",
       "      <td>3</td>\n",
       "      <td>14</td>\n",
       "      <td>32.0</td>\n",
       "      <td>30.0</td>\n",
       "      <td>96.0</td>\n",
       "      <td>64.0</td>\n",
       "      <td>69.0</td>\n",
       "    </tr>\n",
       "    <tr>\n",
       "      <td>2018-03-01 15:00:00</td>\n",
       "      <td>66</td>\n",
       "      <td>NaN</td>\n",
       "      <td>3</td>\n",
       "      <td>15</td>\n",
       "      <td>48.0</td>\n",
       "      <td>32.0</td>\n",
       "      <td>30.0</td>\n",
       "      <td>96.0</td>\n",
       "      <td>64.0</td>\n",
       "    </tr>\n",
       "    <tr>\n",
       "      <td>2018-03-01 16:00:00</td>\n",
       "      <td>43</td>\n",
       "      <td>NaN</td>\n",
       "      <td>3</td>\n",
       "      <td>16</td>\n",
       "      <td>66.0</td>\n",
       "      <td>48.0</td>\n",
       "      <td>32.0</td>\n",
       "      <td>30.0</td>\n",
       "      <td>96.0</td>\n",
       "    </tr>\n",
       "    <tr>\n",
       "      <td>2018-03-01 17:00:00</td>\n",
       "      <td>44</td>\n",
       "      <td>NaN</td>\n",
       "      <td>3</td>\n",
       "      <td>17</td>\n",
       "      <td>43.0</td>\n",
       "      <td>66.0</td>\n",
       "      <td>48.0</td>\n",
       "      <td>32.0</td>\n",
       "      <td>30.0</td>\n",
       "    </tr>\n",
       "    <tr>\n",
       "      <td>2018-03-01 18:00:00</td>\n",
       "      <td>73</td>\n",
       "      <td>NaN</td>\n",
       "      <td>3</td>\n",
       "      <td>18</td>\n",
       "      <td>44.0</td>\n",
       "      <td>43.0</td>\n",
       "      <td>66.0</td>\n",
       "      <td>48.0</td>\n",
       "      <td>32.0</td>\n",
       "    </tr>\n",
       "    <tr>\n",
       "      <td>2018-03-01 19:00:00</td>\n",
       "      <td>45</td>\n",
       "      <td>NaN</td>\n",
       "      <td>3</td>\n",
       "      <td>19</td>\n",
       "      <td>73.0</td>\n",
       "      <td>44.0</td>\n",
       "      <td>43.0</td>\n",
       "      <td>66.0</td>\n",
       "      <td>48.0</td>\n",
       "    </tr>\n",
       "    <tr>\n",
       "      <td>2018-03-01 20:00:00</td>\n",
       "      <td>61</td>\n",
       "      <td>NaN</td>\n",
       "      <td>3</td>\n",
       "      <td>20</td>\n",
       "      <td>45.0</td>\n",
       "      <td>73.0</td>\n",
       "      <td>44.0</td>\n",
       "      <td>43.0</td>\n",
       "      <td>66.0</td>\n",
       "    </tr>\n",
       "    <tr>\n",
       "      <td>2018-03-01 21:00:00</td>\n",
       "      <td>66</td>\n",
       "      <td>NaN</td>\n",
       "      <td>3</td>\n",
       "      <td>21</td>\n",
       "      <td>61.0</td>\n",
       "      <td>45.0</td>\n",
       "      <td>73.0</td>\n",
       "      <td>44.0</td>\n",
       "      <td>43.0</td>\n",
       "    </tr>\n",
       "    <tr>\n",
       "      <td>2018-03-01 22:00:00</td>\n",
       "      <td>113</td>\n",
       "      <td>NaN</td>\n",
       "      <td>3</td>\n",
       "      <td>22</td>\n",
       "      <td>66.0</td>\n",
       "      <td>61.0</td>\n",
       "      <td>45.0</td>\n",
       "      <td>73.0</td>\n",
       "      <td>44.0</td>\n",
       "    </tr>\n",
       "    <tr>\n",
       "      <td>2018-03-01 23:00:00</td>\n",
       "      <td>58</td>\n",
       "      <td>NaN</td>\n",
       "      <td>3</td>\n",
       "      <td>23</td>\n",
       "      <td>113.0</td>\n",
       "      <td>66.0</td>\n",
       "      <td>61.0</td>\n",
       "      <td>45.0</td>\n",
       "      <td>73.0</td>\n",
       "    </tr>\n",
       "    <tr>\n",
       "      <td>2018-03-02 00:00:00</td>\n",
       "      <td>90</td>\n",
       "      <td>56.833333</td>\n",
       "      <td>4</td>\n",
       "      <td>0</td>\n",
       "      <td>58.0</td>\n",
       "      <td>113.0</td>\n",
       "      <td>66.0</td>\n",
       "      <td>61.0</td>\n",
       "      <td>45.0</td>\n",
       "    </tr>\n",
       "    <tr>\n",
       "      <td>2018-03-02 01:00:00</td>\n",
       "      <td>120</td>\n",
       "      <td>55.416667</td>\n",
       "      <td>4</td>\n",
       "      <td>1</td>\n",
       "      <td>90.0</td>\n",
       "      <td>58.0</td>\n",
       "      <td>113.0</td>\n",
       "      <td>66.0</td>\n",
       "      <td>61.0</td>\n",
       "    </tr>\n",
       "    <tr>\n",
       "      <td>2018-03-02 02:00:00</td>\n",
       "      <td>75</td>\n",
       "      <td>56.875000</td>\n",
       "      <td>4</td>\n",
       "      <td>2</td>\n",
       "      <td>120.0</td>\n",
       "      <td>90.0</td>\n",
       "      <td>58.0</td>\n",
       "      <td>113.0</td>\n",
       "      <td>66.0</td>\n",
       "    </tr>\n",
       "    <tr>\n",
       "      <td>2018-03-02 03:00:00</td>\n",
       "      <td>64</td>\n",
       "      <td>57.041667</td>\n",
       "      <td>4</td>\n",
       "      <td>3</td>\n",
       "      <td>75.0</td>\n",
       "      <td>120.0</td>\n",
       "      <td>90.0</td>\n",
       "      <td>58.0</td>\n",
       "      <td>113.0</td>\n",
       "    </tr>\n",
       "    <tr>\n",
       "      <td>2018-03-02 04:00:00</td>\n",
       "      <td>20</td>\n",
       "      <td>56.958333</td>\n",
       "      <td>4</td>\n",
       "      <td>4</td>\n",
       "      <td>64.0</td>\n",
       "      <td>75.0</td>\n",
       "      <td>120.0</td>\n",
       "      <td>90.0</td>\n",
       "      <td>58.0</td>\n",
       "    </tr>\n",
       "    <tr>\n",
       "      <td>2018-03-02 05:00:00</td>\n",
       "      <td>11</td>\n",
       "      <td>56.000000</td>\n",
       "      <td>4</td>\n",
       "      <td>5</td>\n",
       "      <td>20.0</td>\n",
       "      <td>64.0</td>\n",
       "      <td>75.0</td>\n",
       "      <td>120.0</td>\n",
       "      <td>90.0</td>\n",
       "    </tr>\n",
       "  </tbody>\n",
       "</table>\n",
       "</div>"
      ],
      "text/plain": [
       "                     num_orders  rolling_mean  dayofweek  hour  lag_1  lag_2  \\\n",
       "datetime                                                                       \n",
       "2018-03-01 00:00:00         124           NaN          3     0    NaN    NaN   \n",
       "2018-03-01 01:00:00          85           NaN          3     1  124.0    NaN   \n",
       "2018-03-01 02:00:00          71           NaN          3     2   85.0  124.0   \n",
       "2018-03-01 03:00:00          66           NaN          3     3   71.0   85.0   \n",
       "2018-03-01 04:00:00          43           NaN          3     4   66.0   71.0   \n",
       "2018-03-01 05:00:00           6           NaN          3     5   43.0   66.0   \n",
       "2018-03-01 06:00:00          12           NaN          3     6    6.0   43.0   \n",
       "2018-03-01 07:00:00          15           NaN          3     7   12.0    6.0   \n",
       "2018-03-01 08:00:00          34           NaN          3     8   15.0   12.0   \n",
       "2018-03-01 09:00:00          69           NaN          3     9   34.0   15.0   \n",
       "2018-03-01 10:00:00          64           NaN          3    10   69.0   34.0   \n",
       "2018-03-01 11:00:00          96           NaN          3    11   64.0   69.0   \n",
       "2018-03-01 12:00:00          30           NaN          3    12   96.0   64.0   \n",
       "2018-03-01 13:00:00          32           NaN          3    13   30.0   96.0   \n",
       "2018-03-01 14:00:00          48           NaN          3    14   32.0   30.0   \n",
       "2018-03-01 15:00:00          66           NaN          3    15   48.0   32.0   \n",
       "2018-03-01 16:00:00          43           NaN          3    16   66.0   48.0   \n",
       "2018-03-01 17:00:00          44           NaN          3    17   43.0   66.0   \n",
       "2018-03-01 18:00:00          73           NaN          3    18   44.0   43.0   \n",
       "2018-03-01 19:00:00          45           NaN          3    19   73.0   44.0   \n",
       "2018-03-01 20:00:00          61           NaN          3    20   45.0   73.0   \n",
       "2018-03-01 21:00:00          66           NaN          3    21   61.0   45.0   \n",
       "2018-03-01 22:00:00         113           NaN          3    22   66.0   61.0   \n",
       "2018-03-01 23:00:00          58           NaN          3    23  113.0   66.0   \n",
       "2018-03-02 00:00:00          90     56.833333          4     0   58.0  113.0   \n",
       "2018-03-02 01:00:00         120     55.416667          4     1   90.0   58.0   \n",
       "2018-03-02 02:00:00          75     56.875000          4     2  120.0   90.0   \n",
       "2018-03-02 03:00:00          64     57.041667          4     3   75.0  120.0   \n",
       "2018-03-02 04:00:00          20     56.958333          4     4   64.0   75.0   \n",
       "2018-03-02 05:00:00          11     56.000000          4     5   20.0   64.0   \n",
       "\n",
       "                     lag_3  lag_4  lag_5  \n",
       "datetime                                  \n",
       "2018-03-01 00:00:00    NaN    NaN    NaN  \n",
       "2018-03-01 01:00:00    NaN    NaN    NaN  \n",
       "2018-03-01 02:00:00    NaN    NaN    NaN  \n",
       "2018-03-01 03:00:00  124.0    NaN    NaN  \n",
       "2018-03-01 04:00:00   85.0  124.0    NaN  \n",
       "2018-03-01 05:00:00   71.0   85.0  124.0  \n",
       "2018-03-01 06:00:00   66.0   71.0   85.0  \n",
       "2018-03-01 07:00:00   43.0   66.0   71.0  \n",
       "2018-03-01 08:00:00    6.0   43.0   66.0  \n",
       "2018-03-01 09:00:00   12.0    6.0   43.0  \n",
       "2018-03-01 10:00:00   15.0   12.0    6.0  \n",
       "2018-03-01 11:00:00   34.0   15.0   12.0  \n",
       "2018-03-01 12:00:00   69.0   34.0   15.0  \n",
       "2018-03-01 13:00:00   64.0   69.0   34.0  \n",
       "2018-03-01 14:00:00   96.0   64.0   69.0  \n",
       "2018-03-01 15:00:00   30.0   96.0   64.0  \n",
       "2018-03-01 16:00:00   32.0   30.0   96.0  \n",
       "2018-03-01 17:00:00   48.0   32.0   30.0  \n",
       "2018-03-01 18:00:00   66.0   48.0   32.0  \n",
       "2018-03-01 19:00:00   43.0   66.0   48.0  \n",
       "2018-03-01 20:00:00   44.0   43.0   66.0  \n",
       "2018-03-01 21:00:00   73.0   44.0   43.0  \n",
       "2018-03-01 22:00:00   45.0   73.0   44.0  \n",
       "2018-03-01 23:00:00   61.0   45.0   73.0  \n",
       "2018-03-02 00:00:00   66.0   61.0   45.0  \n",
       "2018-03-02 01:00:00  113.0   66.0   61.0  \n",
       "2018-03-02 02:00:00   58.0  113.0   66.0  \n",
       "2018-03-02 03:00:00   90.0   58.0  113.0  \n",
       "2018-03-02 04:00:00  120.0   90.0   58.0  \n",
       "2018-03-02 05:00:00   75.0  120.0   90.0  "
      ]
     },
     "execution_count": 10,
     "metadata": {},
     "output_type": "execute_result"
    }
   ],
   "source": [
    "data.head(30)"
   ]
  },
  {
   "cell_type": "markdown",
   "metadata": {},
   "source": [
    "## Обучение"
   ]
  },
  {
   "cell_type": "code",
   "execution_count": 11,
   "metadata": {},
   "outputs": [],
   "source": [
    "train, test = train_test_split(data, shuffle=False, test_size=0.1)\n",
    "train = train.dropna()\n",
    "\n",
    "target_train = train['num_orders'] \n",
    "features_train = train.drop(['num_orders'],axis=1)\n",
    " \n",
    "target_test = test['num_orders']\n",
    "features_test = test.drop(['num_orders'],axis=1)\n"
   ]
  },
  {
   "cell_type": "code",
   "execution_count": 12,
   "metadata": {},
   "outputs": [
    {
     "name": "stdout",
     "output_type": "stream",
     "text": [
      "RMSE обучающей выборки= 30.66220309270589\n"
     ]
    }
   ],
   "source": [
    "model=LinearRegression()\n",
    "model.fit(features_train,target_train)\n",
    "pred_test_linear = model.predict(features_test)\n",
    "pred_train = model.predict(features_train)\n",
    "\n",
    "print('RMSE обучающей выборки=',mean_squared_error(target_train,pred_train)**0.5 )"
   ]
  },
  {
   "cell_type": "code",
   "execution_count": 13,
   "metadata": {},
   "outputs": [
    {
     "name": "stdout",
     "output_type": "stream",
     "text": [
      "Fitting 3 folds for each of 336 candidates, totalling 1008 fits\n"
     ]
    },
    {
     "name": "stderr",
     "output_type": "stream",
     "text": [
      "/opt/conda/lib/python3.7/site-packages/sklearn/model_selection/_split.py:784: FutureWarning: The default value of n_split will change from 3 to 5 in version 0.22. Specify it explicitly to silence this warning.\n",
      "  warnings.warn(NSPLIT_WARNING, FutureWarning)\n",
      "[Parallel(n_jobs=-1)]: Using backend SequentialBackend with 1 concurrent workers.\n",
      "[Parallel(n_jobs=-1)]: Done 1008 out of 1008 | elapsed:  1.5min finished\n"
     ]
    },
    {
     "name": "stdout",
     "output_type": "stream",
     "text": [
      "{'max_depth': 11, 'min_samples_leaf': 1, 'min_samples_split': 6, 'n_estimators': 20}\n"
     ]
    }
   ],
   "source": [
    "#Подбор лучших гиперпараметров для Случайного леса\n",
    "from sklearn.model_selection import TimeSeriesSplit\n",
    "\n",
    "mse = make_scorer(mean_squared_error,greater_is_better=False)\n",
    "\n",
    "tscv = TimeSeriesSplit()\n",
    "\n",
    "parametrs = { 'n_estimators': range (10, 25, 10),\n",
    "              'max_depth': range (1,13, 2),\n",
    "              'min_samples_leaf': range (1,8),\n",
    "              'min_samples_split': range (2,10,2) }\n",
    "\n",
    "clf = RandomForestRegressor()\n",
    "grid = GridSearchCV(clf,param_grid=parametrs, scoring='neg_mean_squared_error', n_jobs=-1, cv=tscv, verbose=1)\n",
    "grid.fit(features_train, target_train)\n",
    "\n",
    "print(grid.best_params_)"
   ]
  },
  {
   "cell_type": "code",
   "execution_count": 14,
   "metadata": {},
   "outputs": [
    {
     "name": "stdout",
     "output_type": "stream",
     "text": [
      "RMSE обучающей выборки= 15.859258816614522\n"
     ]
    }
   ],
   "source": [
    "model=RandomForestRegressor(max_depth = 11,min_samples_leaf = 3, min_samples_split = 4, n_estimators=20, random_state=None)\n",
    "model.fit(features_train,target_train) \n",
    "pred_test_randomforest = model.predict(features_test)\n",
    "pred_train = model.predict(features_train)\n",
    "\n",
    "print('RMSE обучающей выборки=',mean_squared_error(target_train,pred_train)**0.5 )"
   ]
  },
  {
   "cell_type": "code",
   "execution_count": 15,
   "metadata": {},
   "outputs": [
    {
     "name": "stdout",
     "output_type": "stream",
     "text": [
      "RMSE= 13.531423856675163\n"
     ]
    }
   ],
   "source": [
    "model = LGBMRegressor(n_estimators = 150,max_depth=50, random_state=None)\n",
    "model.fit(features_train, target_train)\n",
    "\n",
    "prediction_train=model.predict(features_train)\n",
    "pred_test_lgbm=model.predict(features_test)\n",
    "print('RMSE=',mean_squared_error(target_train,prediction_train)**0.5 )"
   ]
  },
  {
   "cell_type": "markdown",
   "metadata": {},
   "source": [
    "## Тестирование"
   ]
  },
  {
   "cell_type": "code",
   "execution_count": 16,
   "metadata": {},
   "outputs": [
    {
     "name": "stdout",
     "output_type": "stream",
     "text": [
      "RMSE тестовой выборки= 50.2890192085309\n"
     ]
    }
   ],
   "source": [
    "#Линейная регрессия\n",
    "\n",
    "print('RMSE тестовой выборки=',mean_squared_error(target_test,pred_test_linear)**0.5 )"
   ]
  },
  {
   "cell_type": "code",
   "execution_count": 17,
   "metadata": {},
   "outputs": [
    {
     "name": "stdout",
     "output_type": "stream",
     "text": [
      "RMSE тестовой выборки= 47.16625521340584\n"
     ]
    }
   ],
   "source": [
    "#Случайный лес\n",
    "print('RMSE тестовой выборки=',mean_squared_error(target_test,pred_test_randomforest)**0.5 )"
   ]
  },
  {
   "cell_type": "code",
   "execution_count": 18,
   "metadata": {},
   "outputs": [
    {
     "name": "stdout",
     "output_type": "stream",
     "text": [
      "RMSE тестовой выборки= 44.07918491373053\n"
     ]
    }
   ],
   "source": [
    "#LGBM\n",
    "print('RMSE тестовой выборки=',mean_squared_error(target_test,pred_test_lgbm)**0.5 )"
   ]
  },
  {
   "cell_type": "markdown",
   "metadata": {},
   "source": [
    "<b> Вывод: </b> В результате обучения лучшее значение метрики на тестовой выборке показала модель градиентного бустинга = 44."
   ]
  },
  {
   "cell_type": "code",
   "execution_count": 117,
   "metadata": {},
   "outputs": [
    {
     "name": "stderr",
     "output_type": "stream",
     "text": [
      "/opt/conda/lib/python3.7/site-packages/ipykernel_launcher.py:3: SettingWithCopyWarning: \n",
      "A value is trying to be set on a copy of a slice from a DataFrame.\n",
      "Try using .loc[row_indexer,col_indexer] = value instead\n",
      "\n",
      "See the caveats in the documentation: http://pandas.pydata.org/pandas-docs/stable/user_guide/indexing.html#returning-a-view-versus-a-copy\n",
      "  This is separate from the ipykernel package so we can avoid doing imports until\n"
     ]
    },
    {
     "data": {
      "text/plain": [
       "<matplotlib.legend.Legend at 0x7fa8e9044690>"
      ]
     },
     "execution_count": 117,
     "metadata": {},
     "output_type": "execute_result"
    },
    {
     "data": {
      "image/png": "[encoded data removed]",
      "text/plain": [
       "<Figure size 1080x360 with 1 Axes>"
      ]
     },
     "metadata": {
      "needs_background": "light"
     },
     "output_type": "display_data"
    }
   ],
   "source": [
    "#сравнение факта и предсказаний\n",
    "\n",
    "test['predictions']=pred_test_lgbm\n",
    "\n",
    "test_plot=test['2018-08-14-00':'2018-08-14-23']\n",
    "\n",
    "\n",
    "plt.figure(figsize=(15,5))\n",
    "plt.plot(test_plot['predictions'], label='Predictions')\n",
    "plt.plot(test_plot['num_orders'], label='Target')\n",
    "plt.legend()"
   ]
  },
  {
   "cell_type": "code",
   "execution_count": 118,
   "metadata": {},
   "outputs": [
    {
     "data": {
      "text/plain": [
       "<matplotlib.legend.Legend at 0x7fa8e8fcbcd0>"
      ]
     },
     "execution_count": 118,
     "metadata": {},
     "output_type": "execute_result"
    },
    {
     "data": {
      "image/png": "[encoded data removed]",
      "text/plain": [
       "<Figure size 1080x360 with 1 Axes>"
      ]
     },
     "metadata": {
      "needs_background": "light"
     },
     "output_type": "display_data"
    }
   ],
   "source": [
    "test_plot=test['2018-08-15-00':'2018-08-15-23']\n",
    "\n",
    "\n",
    "plt.figure(figsize=(15,5))\n",
    "plt.plot(test_plot['predictions'], label='Predictions')\n",
    "plt.plot(test_plot['num_orders'], label='Target')\n",
    "plt.legend()"
   ]
  }
 ],
 "metadata": {
  "ExecuteTimeLog": [
   {
    "duration": 759,
    "start_time": "2021-11-24T15:20:53.878Z"
   },
   {
    "duration": 338,
    "start_time": "2021-11-24T15:21:05.513Z"
   },
   {
    "duration": 1730,
    "start_time": "2021-11-24T15:21:13.664Z"
   },
   {
    "duration": 46,
    "start_time": "2021-11-24T15:21:33.605Z"
   },
   {
    "duration": 53,
    "start_time": "2021-11-24T15:21:39.748Z"
   },
   {
    "duration": 13,
    "start_time": "2021-11-24T15:21:46.387Z"
   },
   {
    "duration": 5349,
    "start_time": "2021-11-24T15:22:37.349Z"
   },
   {
    "duration": 275,
    "start_time": "2021-11-24T15:22:52.073Z"
   },
   {
    "duration": 3791,
    "start_time": "2021-11-24T15:23:07.755Z"
   },
   {
    "duration": 4,
    "start_time": "2021-11-24T15:23:18.260Z"
   },
   {
    "duration": 44,
    "start_time": "2021-11-24T15:23:18.988Z"
   },
   {
    "duration": 9,
    "start_time": "2021-11-24T15:23:20.766Z"
   },
   {
    "duration": 16,
    "start_time": "2021-11-24T15:23:21.699Z"
   },
   {
    "duration": 309,
    "start_time": "2021-11-25T13:13:31.715Z"
   },
   {
    "duration": 639,
    "start_time": "2021-11-25T13:13:34.218Z"
   },
   {
    "duration": 70,
    "start_time": "2021-11-25T13:13:35.239Z"
   },
   {
    "duration": 7,
    "start_time": "2021-11-25T13:13:38.061Z"
   },
   {
    "duration": 8341,
    "start_time": "2021-11-25T13:13:42.586Z"
   },
   {
    "duration": 61,
    "start_time": "2021-11-25T13:14:40.231Z"
   },
   {
    "duration": 51,
    "start_time": "2021-11-25T13:14:58.952Z"
   },
   {
    "duration": 295,
    "start_time": "2021-11-25T13:15:56.808Z"
   },
   {
    "duration": 262,
    "start_time": "2021-11-25T13:16:41.035Z"
   },
   {
    "duration": 45,
    "start_time": "2021-11-25T13:17:12.414Z"
   },
   {
    "duration": 8,
    "start_time": "2021-11-25T13:17:19.321Z"
   },
   {
    "duration": 491,
    "start_time": "2021-11-25T13:17:53.258Z"
   },
   {
    "duration": 41,
    "start_time": "2021-11-25T13:17:54.407Z"
   },
   {
    "duration": 6,
    "start_time": "2021-11-25T13:17:56.146Z"
   },
   {
    "duration": 9,
    "start_time": "2021-11-25T13:17:57.646Z"
   },
   {
    "duration": 363,
    "start_time": "2021-11-25T13:20:15.673Z"
   },
   {
    "duration": 8,
    "start_time": "2021-11-25T13:23:09.527Z"
   },
   {
    "duration": 335,
    "start_time": "2021-11-25T13:23:10.878Z"
   },
   {
    "duration": 213,
    "start_time": "2021-11-25T13:24:18.818Z"
   },
   {
    "duration": 189,
    "start_time": "2021-11-25T13:24:33.066Z"
   },
   {
    "duration": 177,
    "start_time": "2021-11-25T13:24:47.214Z"
   },
   {
    "duration": 491,
    "start_time": "2021-11-25T13:25:15.440Z"
   },
   {
    "duration": 212,
    "start_time": "2021-11-25T13:25:25.300Z"
   },
   {
    "duration": 344,
    "start_time": "2021-11-25T13:25:59.419Z"
   },
   {
    "duration": 8,
    "start_time": "2021-11-25T13:27:36.419Z"
   },
   {
    "duration": 8,
    "start_time": "2021-11-25T13:27:38.257Z"
   },
   {
    "duration": 300,
    "start_time": "2021-11-25T13:27:40.195Z"
   },
   {
    "duration": 9,
    "start_time": "2021-11-25T13:27:49.042Z"
   },
   {
    "duration": 344,
    "start_time": "2021-11-25T13:27:52.943Z"
   },
   {
    "duration": 345,
    "start_time": "2021-11-25T13:27:56.742Z"
   },
   {
    "duration": 444,
    "start_time": "2021-11-25T13:28:21.701Z"
   },
   {
    "duration": 352,
    "start_time": "2021-11-25T13:28:30.203Z"
   },
   {
    "duration": 337,
    "start_time": "2021-11-25T13:28:36.401Z"
   },
   {
    "duration": 345,
    "start_time": "2021-11-25T13:28:43.839Z"
   },
   {
    "duration": 365,
    "start_time": "2021-11-25T13:28:55.389Z"
   },
   {
    "duration": 537,
    "start_time": "2021-11-25T13:29:23.837Z"
   },
   {
    "duration": 299,
    "start_time": "2021-11-25T13:29:29.483Z"
   },
   {
    "duration": 248,
    "start_time": "2021-11-25T13:29:32.270Z"
   },
   {
    "duration": 333,
    "start_time": "2021-11-25T13:29:40.524Z"
   },
   {
    "duration": 448,
    "start_time": "2021-11-25T13:29:52.536Z"
   },
   {
    "duration": 312,
    "start_time": "2021-11-25T13:29:57.521Z"
   },
   {
    "duration": 215,
    "start_time": "2021-11-25T13:30:10.321Z"
   },
   {
    "duration": 203,
    "start_time": "2021-11-25T13:30:45.649Z"
   },
   {
    "duration": 223,
    "start_time": "2021-11-25T13:30:56.792Z"
   },
   {
    "duration": 342,
    "start_time": "2021-11-25T13:31:30.409Z"
   },
   {
    "duration": 309,
    "start_time": "2021-11-25T13:31:39.812Z"
   },
   {
    "duration": 250,
    "start_time": "2021-11-25T13:31:52.926Z"
   },
   {
    "duration": 32,
    "start_time": "2021-11-25T13:32:25.364Z"
   },
   {
    "duration": 450,
    "start_time": "2021-11-25T13:32:46.658Z"
   },
   {
    "duration": 288,
    "start_time": "2021-11-25T13:32:55.599Z"
   },
   {
    "duration": 3,
    "start_time": "2021-11-25T13:33:00.506Z"
   },
   {
    "duration": 307,
    "start_time": "2021-11-25T13:33:03.222Z"
   },
   {
    "duration": 261,
    "start_time": "2021-11-25T13:34:14.823Z"
   },
   {
    "duration": 237,
    "start_time": "2021-11-25T13:35:19.717Z"
   },
   {
    "duration": 265,
    "start_time": "2021-11-25T13:35:24.122Z"
   },
   {
    "duration": 245,
    "start_time": "2021-11-25T13:35:36.158Z"
   },
   {
    "duration": 238,
    "start_time": "2021-11-25T13:36:16.246Z"
   },
   {
    "duration": 241,
    "start_time": "2021-11-25T13:36:20.269Z"
   },
   {
    "duration": 297,
    "start_time": "2021-11-25T13:36:30.715Z"
   },
   {
    "duration": 274,
    "start_time": "2021-11-25T13:36:39.809Z"
   },
   {
    "duration": 260,
    "start_time": "2021-11-25T13:36:42.824Z"
   },
   {
    "duration": 273,
    "start_time": "2021-11-25T13:37:26.869Z"
   },
   {
    "duration": 252,
    "start_time": "2021-11-25T13:37:49.809Z"
   },
   {
    "duration": 265,
    "start_time": "2021-11-25T13:38:08.083Z"
   },
   {
    "duration": 249,
    "start_time": "2021-11-25T13:38:46.603Z"
   },
   {
    "duration": 487,
    "start_time": "2021-11-25T13:41:19.238Z"
   },
   {
    "duration": 333,
    "start_time": "2021-11-25T13:41:23.643Z"
   },
   {
    "duration": 247,
    "start_time": "2021-11-25T13:42:13.416Z"
   },
   {
    "duration": 257,
    "start_time": "2021-11-25T13:42:32.503Z"
   },
   {
    "duration": 218,
    "start_time": "2021-11-25T13:55:26.180Z"
   },
   {
    "duration": 4,
    "start_time": "2021-11-25T13:55:59.506Z"
   },
   {
    "duration": 288,
    "start_time": "2021-11-25T13:56:08.462Z"
   },
   {
    "duration": 471,
    "start_time": "2021-11-25T13:56:46.965Z"
   },
   {
    "duration": 323,
    "start_time": "2021-11-25T13:56:52.872Z"
   },
   {
    "duration": 294,
    "start_time": "2021-11-25T13:56:58.526Z"
   },
   {
    "duration": 353,
    "start_time": "2021-11-25T13:58:28.370Z"
   },
   {
    "duration": 318,
    "start_time": "2021-11-25T13:58:32.549Z"
   },
   {
    "duration": 313,
    "start_time": "2021-11-25T13:58:36.330Z"
   },
   {
    "duration": 8,
    "start_time": "2021-11-25T13:59:14.487Z"
   },
   {
    "duration": 11,
    "start_time": "2021-11-25T13:59:32.340Z"
   },
   {
    "duration": 266,
    "start_time": "2021-11-25T13:59:41.606Z"
   },
   {
    "duration": 194,
    "start_time": "2021-11-25T13:59:52.602Z"
   },
   {
    "duration": 5917,
    "start_time": "2021-11-25T14:00:05.747Z"
   },
   {
    "duration": 259,
    "start_time": "2021-11-25T14:00:56.405Z"
   },
   {
    "duration": 285,
    "start_time": "2021-11-25T14:01:02.694Z"
   },
   {
    "duration": 274,
    "start_time": "2021-11-25T14:01:15.087Z"
   },
   {
    "duration": 589,
    "start_time": "2021-11-25T14:01:19.369Z"
   },
   {
    "duration": 455,
    "start_time": "2021-11-25T14:01:41.865Z"
   },
   {
    "duration": 559,
    "start_time": "2021-11-25T14:01:56.859Z"
   },
   {
    "duration": 431,
    "start_time": "2021-11-25T14:02:13.693Z"
   },
   {
    "duration": 309,
    "start_time": "2021-11-25T14:02:16.298Z"
   },
   {
    "duration": 286,
    "start_time": "2021-11-25T14:02:21.656Z"
   },
   {
    "duration": 312,
    "start_time": "2021-11-25T14:02:41.291Z"
   },
   {
    "duration": 15,
    "start_time": "2021-11-25T14:13:19.044Z"
   },
   {
    "duration": 268,
    "start_time": "2021-11-25T14:13:53.526Z"
   },
   {
    "duration": 11,
    "start_time": "2021-11-25T14:15:12.907Z"
   },
   {
    "duration": 294,
    "start_time": "2021-11-25T14:15:31.736Z"
   },
   {
    "duration": 24,
    "start_time": "2021-11-25T14:15:55.141Z"
   },
   {
    "duration": 4,
    "start_time": "2021-11-25T14:16:40.605Z"
   },
   {
    "duration": 294,
    "start_time": "2021-11-25T14:18:11.390Z"
   },
   {
    "duration": 13,
    "start_time": "2021-11-25T14:18:48.225Z"
   },
   {
    "duration": 296,
    "start_time": "2021-11-25T14:23:26.984Z"
   },
   {
    "duration": 4,
    "start_time": "2021-11-25T14:23:42.309Z"
   },
   {
    "duration": 303,
    "start_time": "2021-11-25T14:23:45.326Z"
   },
   {
    "duration": 259,
    "start_time": "2021-11-25T14:24:03.421Z"
   },
   {
    "duration": 260,
    "start_time": "2021-11-25T14:24:07.384Z"
   },
   {
    "duration": 3,
    "start_time": "2021-11-25T14:24:31.244Z"
   },
   {
    "duration": 52980,
    "start_time": "2021-11-25T14:24:33.563Z"
   },
   {
    "duration": 54,
    "start_time": "2021-11-25T14:26:51.832Z"
   },
   {
    "duration": 4,
    "start_time": "2021-11-25T14:27:33.917Z"
   },
   {
    "duration": 343,
    "start_time": "2021-11-25T14:27:52.016Z"
   },
   {
    "duration": 3665,
    "start_time": "2021-11-25T14:27:58.228Z"
   },
   {
    "duration": 3950,
    "start_time": "2021-11-25T14:28:16.949Z"
   },
   {
    "duration": 10,
    "start_time": "2021-11-25T14:29:46.481Z"
   },
   {
    "duration": 54,
    "start_time": "2021-11-25T14:30:01.136Z"
   },
   {
    "duration": 44,
    "start_time": "2021-11-25T14:30:11.410Z"
   },
   {
    "duration": 635,
    "start_time": "2021-11-25T14:32:58.739Z"
   },
   {
    "duration": 15,
    "start_time": "2021-11-25T14:33:12.304Z"
   },
   {
    "duration": 1145,
    "start_time": "2021-11-25T14:33:15.730Z"
   },
   {
    "duration": 14,
    "start_time": "2021-11-25T14:33:43.800Z"
   },
   {
    "duration": 18,
    "start_time": "2021-11-25T14:34:21.754Z"
   },
   {
    "duration": 12,
    "start_time": "2021-11-25T14:35:41.373Z"
   },
   {
    "duration": 25,
    "start_time": "2021-11-25T14:35:43.449Z"
   },
   {
    "duration": 4,
    "start_time": "2021-11-25T14:36:13.893Z"
   },
   {
    "duration": 40,
    "start_time": "2021-11-25T14:36:14.712Z"
   },
   {
    "duration": 6,
    "start_time": "2021-11-25T14:36:27.929Z"
   },
   {
    "duration": 9,
    "start_time": "2021-11-25T14:36:29.883Z"
   },
   {
    "duration": 287,
    "start_time": "2021-11-25T14:36:31.083Z"
   },
   {
    "duration": 195,
    "start_time": "2021-11-25T14:36:33.898Z"
   },
   {
    "duration": 260,
    "start_time": "2021-11-25T14:36:36.950Z"
   },
   {
    "duration": 14,
    "start_time": "2021-11-25T14:36:39.222Z"
   },
   {
    "duration": 18,
    "start_time": "2021-11-25T14:36:40.818Z"
   },
   {
    "duration": 10,
    "start_time": "2021-11-25T14:36:50.742Z"
   },
   {
    "duration": 25,
    "start_time": "2021-11-25T14:36:52.157Z"
   },
   {
    "duration": 171240,
    "start_time": "2021-11-25T14:36:53.978Z"
   },
   {
    "duration": 269,
    "start_time": "2021-11-25T14:41:05.236Z"
   },
   {
    "duration": 7122,
    "start_time": "2021-11-25T14:41:09.857Z"
   },
   {
    "duration": 64,
    "start_time": "2021-11-25T14:41:35.801Z"
   },
   {
    "duration": 11,
    "start_time": "2021-11-25T14:41:57.508Z"
   },
   {
    "duration": 255,
    "start_time": "2021-11-25T14:42:04.390Z"
   },
   {
    "duration": 4,
    "start_time": "2021-11-25T14:42:15.840Z"
   },
   {
    "duration": 266,
    "start_time": "2021-11-25T14:42:49.430Z"
   },
   {
    "duration": 4,
    "start_time": "2021-11-25T14:43:06.215Z"
   },
   {
    "duration": 8398,
    "start_time": "2021-11-25T14:43:50.581Z"
   },
   {
    "duration": 4,
    "start_time": "2021-11-25T14:44:16.456Z"
   },
   {
    "duration": 1659,
    "start_time": "2021-11-26T17:39:17.986Z"
   },
   {
    "duration": 63,
    "start_time": "2021-11-26T17:39:19.647Z"
   },
   {
    "duration": 12,
    "start_time": "2021-11-26T17:39:19.714Z"
   },
   {
    "duration": 19,
    "start_time": "2021-11-26T17:39:19.729Z"
   },
   {
    "duration": 614,
    "start_time": "2021-11-26T17:39:56.276Z"
   },
   {
    "duration": 568,
    "start_time": "2021-11-26T17:39:56.898Z"
   },
   {
    "duration": 391,
    "start_time": "2021-11-26T17:39:57.468Z"
   },
   {
    "duration": 27,
    "start_time": "2021-11-26T17:39:57.862Z"
   },
   {
    "duration": 27,
    "start_time": "2021-11-26T17:39:57.893Z"
   },
   {
    "duration": 15,
    "start_time": "2021-11-26T17:39:58.257Z"
   },
   {
    "duration": 153,
    "start_time": "2021-11-26T17:39:58.659Z"
   },
   {
    "duration": 259216,
    "start_time": "2021-11-26T17:39:58.986Z"
   },
   {
    "duration": 347,
    "start_time": "2021-11-26T17:44:18.205Z"
   },
   {
    "duration": 116728,
    "start_time": "2021-11-26T17:44:18.554Z"
   },
   {
    "duration": 6,
    "start_time": "2021-11-26T17:46:15.285Z"
   },
   {
    "duration": 15,
    "start_time": "2021-11-26T17:46:15.294Z"
   },
   {
    "duration": 16,
    "start_time": "2021-11-26T17:46:15.311Z"
   },
   {
    "duration": 207,
    "start_time": "2021-11-27T16:31:37.828Z"
   },
   {
    "duration": 1049,
    "start_time": "2021-11-27T16:31:41.996Z"
   },
   {
    "duration": 47,
    "start_time": "2021-11-27T16:31:43.046Z"
   },
   {
    "duration": 6,
    "start_time": "2021-11-27T16:31:44.655Z"
   },
   {
    "duration": 11,
    "start_time": "2021-11-27T16:31:45.565Z"
   },
   {
    "duration": 363,
    "start_time": "2021-11-27T16:31:46.831Z"
   },
   {
    "duration": 294,
    "start_time": "2021-11-27T16:31:48.553Z"
   },
   {
    "duration": 223,
    "start_time": "2021-11-27T16:31:49.931Z"
   },
   {
    "duration": 243,
    "start_time": "2021-11-27T16:31:51.631Z"
   },
   {
    "duration": 192,
    "start_time": "2021-11-27T16:34:05.828Z"
   },
   {
    "duration": 179,
    "start_time": "2021-11-27T16:34:24.657Z"
   },
   {
    "duration": 202,
    "start_time": "2021-11-27T16:34:28.869Z"
   },
   {
    "duration": 7,
    "start_time": "2021-11-27T16:47:52.968Z"
   },
   {
    "duration": 380,
    "start_time": "2021-11-27T16:47:54.743Z"
   },
   {
    "duration": 324,
    "start_time": "2021-11-27T16:47:57.237Z"
   },
   {
    "duration": 197,
    "start_time": "2021-11-27T16:47:59.036Z"
   },
   {
    "duration": 176,
    "start_time": "2021-11-27T16:48:00.345Z"
   },
   {
    "duration": 168,
    "start_time": "2021-11-27T16:49:39.492Z"
   },
   {
    "duration": 181,
    "start_time": "2021-11-27T16:49:43.723Z"
   },
   {
    "duration": 181,
    "start_time": "2021-11-27T16:50:10.188Z"
   },
   {
    "duration": 40,
    "start_time": "2021-11-27T16:51:06.756Z"
   },
   {
    "duration": 4,
    "start_time": "2021-11-27T16:51:10.648Z"
   },
   {
    "duration": 39,
    "start_time": "2021-11-27T16:51:11.437Z"
   },
   {
    "duration": 6,
    "start_time": "2021-11-27T16:51:13.243Z"
   },
   {
    "duration": 8,
    "start_time": "2021-11-27T16:51:14.127Z"
   },
   {
    "duration": 283,
    "start_time": "2021-11-27T16:51:15.388Z"
   },
   {
    "duration": 314,
    "start_time": "2021-11-27T16:51:17.228Z"
   },
   {
    "duration": 202,
    "start_time": "2021-11-27T16:51:19.082Z"
   },
   {
    "duration": 173,
    "start_time": "2021-11-27T16:51:20.351Z"
   },
   {
    "duration": 169,
    "start_time": "2021-11-27T16:54:17.976Z"
   },
   {
    "duration": 172,
    "start_time": "2021-11-27T16:56:31.245Z"
   },
   {
    "duration": 171,
    "start_time": "2021-11-27T16:56:36.744Z"
   },
   {
    "duration": 168,
    "start_time": "2021-11-27T16:56:55.103Z"
   },
   {
    "duration": 225,
    "start_time": "2021-11-27T16:57:30.337Z"
   },
   {
    "duration": 3,
    "start_time": "2021-11-27T16:57:40.937Z"
   },
   {
    "duration": 1088,
    "start_time": "2021-11-27T16:57:44.029Z"
   },
   {
    "duration": 191,
    "start_time": "2021-11-27T16:58:03.682Z"
   },
   {
    "duration": 175,
    "start_time": "2021-11-27T16:58:09.412Z"
   },
   {
    "duration": 924,
    "start_time": "2021-11-27T16:58:12.999Z"
   },
   {
    "duration": 930,
    "start_time": "2021-11-27T16:58:16.125Z"
   },
   {
    "duration": 3,
    "start_time": "2021-11-27T16:58:23.845Z"
   },
   {
    "duration": 40,
    "start_time": "2021-11-27T16:58:24.682Z"
   },
   {
    "duration": 6,
    "start_time": "2021-11-27T16:58:26.817Z"
   },
   {
    "duration": 9,
    "start_time": "2021-11-27T16:58:27.476Z"
   },
   {
    "duration": 289,
    "start_time": "2021-11-27T16:58:28.231Z"
   },
   {
    "duration": 319,
    "start_time": "2021-11-27T16:58:30.291Z"
   },
   {
    "duration": 296,
    "start_time": "2021-11-27T16:58:31.820Z"
   },
   {
    "duration": 992,
    "start_time": "2021-11-27T16:58:39.721Z"
   },
   {
    "duration": 1569,
    "start_time": "2021-11-28T11:27:22.280Z"
   },
   {
    "duration": 60,
    "start_time": "2021-11-28T11:27:23.852Z"
   },
   {
    "duration": 8,
    "start_time": "2021-11-28T11:27:25.009Z"
   },
   {
    "duration": 14,
    "start_time": "2021-11-28T11:27:26.313Z"
   },
   {
    "duration": 456,
    "start_time": "2021-11-28T11:27:27.706Z"
   },
   {
    "duration": 486,
    "start_time": "2021-11-28T11:27:29.823Z"
   },
   {
    "duration": 317,
    "start_time": "2021-11-28T11:27:32.029Z"
   },
   {
    "duration": 1110,
    "start_time": "2021-11-28T11:27:42.300Z"
   },
   {
    "duration": 538,
    "start_time": "2021-11-28T11:27:53.354Z"
   },
   {
    "duration": 1559,
    "start_time": "2021-11-28T11:28:04.864Z"
   },
   {
    "duration": 354,
    "start_time": "2021-11-28T11:29:12.448Z"
   },
   {
    "duration": 1794,
    "start_time": "2021-11-28T11:29:53.411Z"
   },
   {
    "duration": 1376,
    "start_time": "2021-11-28T11:30:07.871Z"
   },
   {
    "duration": 1440,
    "start_time": "2021-11-28T11:30:52.129Z"
   },
   {
    "duration": 1165,
    "start_time": "2021-11-28T11:31:23.238Z"
   },
   {
    "duration": 181,
    "start_time": "2021-11-28T11:31:28.730Z"
   },
   {
    "duration": 900,
    "start_time": "2021-11-28T11:31:31.640Z"
   },
   {
    "duration": 705,
    "start_time": "2021-11-28T11:31:40.198Z"
   },
   {
    "duration": 752,
    "start_time": "2021-11-28T11:31:51.769Z"
   },
   {
    "duration": 821,
    "start_time": "2021-11-28T11:31:56.143Z"
   },
   {
    "duration": 885,
    "start_time": "2021-11-28T11:32:04.695Z"
   },
   {
    "duration": 1193,
    "start_time": "2021-11-28T11:32:09.131Z"
   },
   {
    "duration": 813,
    "start_time": "2021-11-28T11:32:31.434Z"
   },
   {
    "duration": 387,
    "start_time": "2021-11-28T11:32:43.352Z"
   },
   {
    "duration": 787,
    "start_time": "2021-11-28T11:32:52.455Z"
   },
   {
    "duration": 941,
    "start_time": "2021-11-28T11:35:18.972Z"
   },
   {
    "duration": 826,
    "start_time": "2021-11-28T11:36:00.105Z"
   },
   {
    "duration": 5,
    "start_time": "2021-11-28T11:36:08.007Z"
   },
   {
    "duration": 53,
    "start_time": "2021-11-28T11:36:09.556Z"
   },
   {
    "duration": 9,
    "start_time": "2021-11-28T11:36:11.133Z"
   },
   {
    "duration": 12,
    "start_time": "2021-11-28T11:36:12.327Z"
   },
   {
    "duration": 443,
    "start_time": "2021-11-28T11:36:14.232Z"
   },
   {
    "duration": 492,
    "start_time": "2021-11-28T11:36:15.748Z"
   },
   {
    "duration": 299,
    "start_time": "2021-11-28T11:36:17.382Z"
   },
   {
    "duration": 922,
    "start_time": "2021-11-28T11:36:19.326Z"
   },
   {
    "duration": 753,
    "start_time": "2021-11-28T11:36:36.923Z"
   },
   {
    "duration": 5,
    "start_time": "2021-11-28T11:36:42.463Z"
   },
   {
    "duration": 51,
    "start_time": "2021-11-28T11:36:43.860Z"
   },
   {
    "duration": 10,
    "start_time": "2021-11-28T11:36:45.687Z"
   },
   {
    "duration": 11,
    "start_time": "2021-11-28T11:36:46.726Z"
   },
   {
    "duration": 440,
    "start_time": "2021-11-28T11:36:48.467Z"
   },
   {
    "duration": 496,
    "start_time": "2021-11-28T11:36:50.547Z"
   },
   {
    "duration": 335,
    "start_time": "2021-11-28T11:36:52.445Z"
   },
   {
    "duration": 718,
    "start_time": "2021-11-28T11:36:53.834Z"
   },
   {
    "duration": 913,
    "start_time": "2021-11-28T11:50:47.182Z"
   },
   {
    "duration": 768,
    "start_time": "2021-11-28T11:50:52.416Z"
   },
   {
    "duration": 5227,
    "start_time": "2021-11-28T11:50:57.261Z"
   },
   {
    "duration": 805,
    "start_time": "2021-11-28T11:51:08.862Z"
   },
   {
    "duration": 913,
    "start_time": "2021-11-28T11:52:25.441Z"
   },
   {
    "duration": 16,
    "start_time": "2021-11-28T11:58:11.958Z"
   },
   {
    "duration": 11,
    "start_time": "2021-11-28T11:59:16.599Z"
   },
   {
    "duration": 367,
    "start_time": "2021-11-28T12:02:54.119Z"
   },
   {
    "duration": 377,
    "start_time": "2021-11-28T12:04:23.553Z"
   },
   {
    "duration": 400,
    "start_time": "2021-11-28T12:04:33.763Z"
   },
   {
    "duration": 362,
    "start_time": "2021-11-28T12:04:38.472Z"
   },
   {
    "duration": 13,
    "start_time": "2021-11-28T12:04:44.533Z"
   },
   {
    "duration": 109,
    "start_time": "2021-11-28T12:04:45.757Z"
   },
   {
    "duration": 80463,
    "start_time": "2021-11-28T12:04:46.634Z"
   },
   {
    "duration": 295,
    "start_time": "2021-11-28T12:06:54.742Z"
   },
   {
    "duration": 1504,
    "start_time": "2021-11-28T12:06:56.456Z"
   },
   {
    "duration": 5,
    "start_time": "2021-11-28T12:06:58.890Z"
   },
   {
    "duration": 6,
    "start_time": "2021-11-28T12:07:00.298Z"
   },
   {
    "duration": 6,
    "start_time": "2021-11-28T12:07:01.118Z"
   },
   {
    "duration": 940,
    "start_time": "2021-11-28T12:11:02.126Z"
   },
   {
    "duration": 743,
    "start_time": "2021-11-28T12:11:10.712Z"
   },
   {
    "duration": 372,
    "start_time": "2021-11-28T12:13:04.047Z"
   },
   {
    "duration": 778,
    "start_time": "2021-11-28T12:13:29.988Z"
   },
   {
    "duration": 808,
    "start_time": "2021-11-28T12:14:12.638Z"
   },
   {
    "duration": 10,
    "start_time": "2021-11-28T12:14:47.892Z"
   },
   {
    "duration": 6,
    "start_time": "2021-11-28T12:14:56.872Z"
   },
   {
    "duration": 369,
    "start_time": "2021-11-28T12:16:06.480Z"
   },
   {
    "duration": 10,
    "start_time": "2021-11-28T12:16:09.233Z"
   },
   {
    "duration": 5,
    "start_time": "2021-11-28T12:16:38.778Z"
   },
   {
    "duration": 5,
    "start_time": "2021-11-28T12:16:49.438Z"
   },
   {
    "duration": 5,
    "start_time": "2021-11-28T12:17:03.924Z"
   },
   {
    "duration": 11,
    "start_time": "2021-11-28T12:18:09.316Z"
   },
   {
    "duration": 619,
    "start_time": "2021-11-28T12:18:24.364Z"
   },
   {
    "duration": 641,
    "start_time": "2021-11-28T12:18:34.577Z"
   },
   {
    "duration": 2243,
    "start_time": "2021-11-28T12:20:07.316Z"
   },
   {
    "duration": 1228,
    "start_time": "2021-11-28T12:20:17.004Z"
   },
   {
    "duration": 1321,
    "start_time": "2021-11-28T12:20:28.867Z"
   },
   {
    "duration": 15,
    "start_time": "2021-11-28T12:21:06.593Z"
   },
   {
    "duration": 408,
    "start_time": "2021-11-28T18:11:20.812Z"
   },
   {
    "duration": 1090,
    "start_time": "2021-11-28T18:11:26.980Z"
   },
   {
    "duration": 82,
    "start_time": "2021-11-28T18:11:28.072Z"
   },
   {
    "duration": 5,
    "start_time": "2021-11-28T18:11:28.155Z"
   },
   {
    "duration": 19,
    "start_time": "2021-11-28T18:11:28.162Z"
   },
   {
    "duration": 284,
    "start_time": "2021-11-28T18:11:28.182Z"
   },
   {
    "duration": 291,
    "start_time": "2021-11-28T18:11:28.468Z"
   },
   {
    "duration": 199,
    "start_time": "2021-11-28T18:11:28.760Z"
   },
   {
    "duration": 523,
    "start_time": "2021-11-28T18:11:28.962Z"
   },
   {
    "duration": 9,
    "start_time": "2021-11-28T18:11:29.487Z"
   },
   {
    "duration": 52,
    "start_time": "2021-11-28T18:11:29.498Z"
   },
   {
    "duration": 24,
    "start_time": "2021-11-28T18:11:29.551Z"
   },
   {
    "duration": 71,
    "start_time": "2021-11-28T18:11:29.576Z"
   },
   {
    "duration": 57963,
    "start_time": "2021-11-28T18:11:29.649Z"
   },
   {
    "duration": 235,
    "start_time": "2021-11-28T18:12:27.613Z"
   },
   {
    "duration": 1301,
    "start_time": "2021-11-28T18:12:27.850Z"
   },
   {
    "duration": 3,
    "start_time": "2021-11-28T18:12:29.153Z"
   },
   {
    "duration": 5,
    "start_time": "2021-11-28T18:12:29.158Z"
   },
   {
    "duration": 5,
    "start_time": "2021-11-28T18:12:29.165Z"
   },
   {
    "duration": 1020,
    "start_time": "2021-11-28T18:12:29.172Z"
   },
   {
    "duration": -1658,
    "start_time": "2021-11-28T18:12:31.851Z"
   },
   {
    "duration": 5,
    "start_time": "2021-11-28T18:12:34.685Z"
   },
   {
    "duration": 10,
    "start_time": "2021-11-28T18:12:52.103Z"
   },
   {
    "duration": 173,
    "start_time": "2021-11-28T18:13:14.641Z"
   },
   {
    "duration": 175,
    "start_time": "2021-11-28T18:13:45.847Z"
   },
   {
    "duration": 186,
    "start_time": "2021-11-28T18:13:55.884Z"
   },
   {
    "duration": 189,
    "start_time": "2021-11-28T18:14:04.052Z"
   },
   {
    "duration": 185,
    "start_time": "2021-11-28T18:14:08.469Z"
   },
   {
    "duration": 244,
    "start_time": "2021-11-28T18:14:12.594Z"
   },
   {
    "duration": 332,
    "start_time": "2021-11-28T18:14:25.157Z"
   },
   {
    "duration": 181,
    "start_time": "2021-11-28T18:14:33.335Z"
   },
   {
    "duration": 188,
    "start_time": "2021-11-28T18:14:38.589Z"
   },
   {
    "duration": 206,
    "start_time": "2021-11-28T18:14:43.607Z"
   },
   {
    "duration": 216,
    "start_time": "2021-11-28T18:15:03.630Z"
   },
   {
    "duration": 202,
    "start_time": "2021-11-28T18:16:19.857Z"
   },
   {
    "duration": 211,
    "start_time": "2021-11-28T18:17:22.521Z"
   },
   {
    "duration": 364,
    "start_time": "2021-11-28T18:18:49.416Z"
   },
   {
    "duration": 4,
    "start_time": "2021-11-28T18:19:16.152Z"
   },
   {
    "duration": 8,
    "start_time": "2021-11-28T18:19:21.473Z"
   },
   {
    "duration": 18,
    "start_time": "2021-11-28T18:19:27.943Z"
   },
   {
    "duration": 392,
    "start_time": "2021-11-28T18:19:56.435Z"
   },
   {
    "duration": 17,
    "start_time": "2021-11-28T18:20:07.948Z"
   },
   {
    "duration": 210,
    "start_time": "2021-11-28T18:20:16.020Z"
   },
   {
    "duration": 183,
    "start_time": "2021-11-28T18:20:37.752Z"
   },
   {
    "duration": 260,
    "start_time": "2021-11-28T18:21:10.780Z"
   },
   {
    "duration": 177,
    "start_time": "2021-11-28T18:21:17.297Z"
   },
   {
    "duration": 17,
    "start_time": "2021-11-28T18:21:36.067Z"
   },
   {
    "duration": 13,
    "start_time": "2021-11-28T18:21:57.428Z"
   },
   {
    "duration": 17,
    "start_time": "2021-11-28T18:22:03.673Z"
   },
   {
    "duration": 128,
    "start_time": "2021-11-28T18:24:59.077Z"
   },
   {
    "duration": 7206,
    "start_time": "2021-11-28T18:25:59.834Z"
   },
   {
    "duration": 6647,
    "start_time": "2021-11-28T18:26:15.925Z"
   },
   {
    "duration": 288,
    "start_time": "2021-11-28T18:26:37.077Z"
   },
   {
    "duration": 280,
    "start_time": "2021-11-28T18:26:46.985Z"
   },
   {
    "duration": 275,
    "start_time": "2021-11-28T18:27:15.271Z"
   },
   {
    "duration": 173,
    "start_time": "2021-11-28T18:27:53.453Z"
   },
   {
    "duration": 174,
    "start_time": "2021-11-28T18:28:28.757Z"
   },
   {
    "duration": 18,
    "start_time": "2021-11-28T18:28:36.059Z"
   },
   {
    "duration": 256,
    "start_time": "2021-11-28T18:29:49.153Z"
   },
   {
    "duration": 180,
    "start_time": "2021-11-28T18:30:38.183Z"
   },
   {
    "duration": 183,
    "start_time": "2021-11-28T18:30:45.144Z"
   },
   {
    "duration": 184,
    "start_time": "2021-11-28T18:31:13.515Z"
   },
   {
    "duration": 191,
    "start_time": "2021-11-28T18:33:01.491Z"
   },
   {
    "duration": 186,
    "start_time": "2021-11-28T18:33:16.980Z"
   },
   {
    "duration": 312,
    "start_time": "2021-11-28T18:33:52.557Z"
   },
   {
    "duration": 193,
    "start_time": "2021-11-28T18:34:00.508Z"
   },
   {
    "duration": 266,
    "start_time": "2021-11-28T18:40:53.730Z"
   },
   {
    "duration": 173,
    "start_time": "2021-11-28T18:41:27.364Z"
   },
   {
    "duration": 166,
    "start_time": "2021-11-28T18:41:35.314Z"
   },
   {
    "duration": 154,
    "start_time": "2021-11-28T18:41:55.324Z"
   },
   {
    "duration": 165,
    "start_time": "2021-11-28T18:41:59.021Z"
   },
   {
    "duration": 475,
    "start_time": "2021-11-28T18:42:10.531Z"
   },
   {
    "duration": 183,
    "start_time": "2021-11-28T18:42:36.993Z"
   },
   {
    "duration": 660,
    "start_time": "2021-11-28T18:42:41.067Z"
   },
   {
    "duration": 179,
    "start_time": "2021-11-28T18:42:45.241Z"
   },
   {
    "duration": 171,
    "start_time": "2021-11-28T18:42:52.297Z"
   },
   {
    "duration": 182,
    "start_time": "2021-11-28T18:43:01.997Z"
   },
   {
    "duration": 274,
    "start_time": "2021-11-28T18:44:38.951Z"
   },
   {
    "duration": 172,
    "start_time": "2021-11-28T18:45:21.668Z"
   },
   {
    "duration": 399,
    "start_time": "2021-11-28T18:45:37.578Z"
   },
   {
    "duration": 183,
    "start_time": "2021-11-28T18:45:42.737Z"
   },
   {
    "duration": 503,
    "start_time": "2021-11-28T18:46:25.807Z"
   },
   {
    "duration": 612,
    "start_time": "2021-11-28T18:46:47.744Z"
   },
   {
    "duration": 165,
    "start_time": "2021-11-28T18:46:56.211Z"
   },
   {
    "duration": 419,
    "start_time": "2021-11-28T18:48:09.436Z"
   },
   {
    "duration": 257,
    "start_time": "2021-11-28T18:49:08.652Z"
   },
   {
    "duration": 9219,
    "start_time": "2021-11-28T18:49:17.535Z"
   },
   {
    "duration": 952,
    "start_time": "2021-11-28T18:49:32.677Z"
   },
   {
    "duration": 250,
    "start_time": "2021-11-28T18:49:39.813Z"
   },
   {
    "duration": 201,
    "start_time": "2021-11-28T18:49:46.925Z"
   },
   {
    "duration": 244,
    "start_time": "2021-11-28T18:49:51.510Z"
   },
   {
    "duration": 226,
    "start_time": "2021-11-28T18:50:16.440Z"
   },
   {
    "duration": 250,
    "start_time": "2021-11-28T18:50:33.938Z"
   },
   {
    "duration": 698,
    "start_time": "2021-11-28T18:51:39.841Z"
   },
   {
    "duration": 777,
    "start_time": "2021-11-28T18:51:52.661Z"
   },
   {
    "duration": 667,
    "start_time": "2021-11-28T18:51:56.474Z"
   },
   {
    "duration": 565,
    "start_time": "2021-11-28T18:52:11.206Z"
   },
   {
    "duration": 250,
    "start_time": "2021-11-28T18:52:20.453Z"
   },
   {
    "duration": 264,
    "start_time": "2021-11-28T18:52:42.751Z"
   },
   {
    "duration": 225,
    "start_time": "2021-11-28T18:55:28.058Z"
   },
   {
    "duration": 256,
    "start_time": "2021-11-28T18:55:32.439Z"
   },
   {
    "duration": 226,
    "start_time": "2021-11-28T18:55:40.211Z"
   },
   {
    "duration": 578,
    "start_time": "2021-11-28T18:55:54.939Z"
   },
   {
    "duration": 254,
    "start_time": "2021-11-28T18:56:00.017Z"
   },
   {
    "duration": 229,
    "start_time": "2021-11-28T18:57:25.067Z"
   },
   {
    "duration": 231,
    "start_time": "2021-11-28T18:58:44.637Z"
   },
   {
    "duration": 223,
    "start_time": "2021-11-28T18:58:52.978Z"
   },
   {
    "duration": 223,
    "start_time": "2021-11-28T18:59:03.387Z"
   },
   {
    "duration": 646,
    "start_time": "2021-11-28T19:01:33.130Z"
   },
   {
    "duration": 679,
    "start_time": "2021-11-28T19:01:38.049Z"
   },
   {
    "duration": 681,
    "start_time": "2021-11-28T19:01:45.071Z"
   },
   {
    "duration": 378,
    "start_time": "2021-11-28T19:01:56.089Z"
   },
   {
    "duration": 446,
    "start_time": "2021-11-28T19:02:40.108Z"
   },
   {
    "duration": 587,
    "start_time": "2021-11-28T19:02:50.097Z"
   },
   {
    "duration": 225,
    "start_time": "2021-11-28T19:02:58.002Z"
   },
   {
    "duration": 315,
    "start_time": "2021-11-28T19:03:05.076Z"
   },
   {
    "duration": 231,
    "start_time": "2021-11-28T19:03:11.233Z"
   },
   {
    "duration": 3893,
    "start_time": "2021-11-28T19:04:14.858Z"
   },
   {
    "duration": 230,
    "start_time": "2021-11-28T19:04:24.858Z"
   },
   {
    "duration": 233,
    "start_time": "2021-11-28T19:06:03.564Z"
   },
   {
    "duration": 1510,
    "start_time": "2021-11-29T08:30:39.041Z"
   },
   {
    "duration": 57,
    "start_time": "2021-11-29T08:30:40.554Z"
   },
   {
    "duration": 8,
    "start_time": "2021-11-29T08:30:40.614Z"
   },
   {
    "duration": 14,
    "start_time": "2021-11-29T08:30:40.768Z"
   },
   {
    "duration": 448,
    "start_time": "2021-11-29T08:30:42.248Z"
   },
   {
    "duration": 487,
    "start_time": "2021-11-29T08:30:42.699Z"
   },
   {
    "duration": 314,
    "start_time": "2021-11-29T08:30:43.189Z"
   },
   {
    "duration": 958,
    "start_time": "2021-11-29T08:30:43.505Z"
   },
   {
    "duration": 16,
    "start_time": "2021-11-29T08:30:44.734Z"
   },
   {
    "duration": 26,
    "start_time": "2021-11-29T08:30:47.121Z"
   },
   {
    "duration": 14,
    "start_time": "2021-11-29T08:30:47.995Z"
   },
   {
    "duration": 43,
    "start_time": "2021-11-29T08:30:48.651Z"
   },
   {
    "duration": 93280,
    "start_time": "2021-11-29T08:30:48.882Z"
   },
   {
    "duration": 437,
    "start_time": "2021-11-29T08:32:22.165Z"
   },
   {
    "duration": 199978,
    "start_time": "2021-11-29T08:32:22.605Z"
   },
   {
    "duration": 5,
    "start_time": "2021-11-29T08:35:42.586Z"
   },
   {
    "duration": 8,
    "start_time": "2021-11-29T08:35:42.593Z"
   },
   {
    "duration": 5,
    "start_time": "2021-11-29T08:35:42.603Z"
   }
  ],
  "kernelspec": {
   "display_name": "Python 3 (ipykernel)",
   "language": "python",
   "name": "python3"
  },
  "language_info": {
   "codemirror_mode": {
    "name": "ipython",
    "version": 3
   },
   "file_extension": ".py",
   "mimetype": "text/x-python",
   "name": "python",
   "nbconvert_exporter": "python",
   "pygments_lexer": "ipython3",
   "version": "3.9.7"
  },
  "toc": {
   "base_numbering": 1,
   "nav_menu": {},
   "number_sections": true,
   "sideBar": true,
   "skip_h1_title": true,
   "title_cell": "Содержание",
   "title_sidebar": "Contents",
   "toc_cell": true,
   "toc_position": {},
   "toc_section_display": true,
   "toc_window_display": true
  }
 },
 "nbformat": 4,
 "nbformat_minor": 2
}
