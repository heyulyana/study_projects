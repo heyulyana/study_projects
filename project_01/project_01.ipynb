
  {
   "cell_type": "markdown",
   "metadata": {},
   "source": [
    "## План работы над проектом\n",
    "\n",
    "* Провести анализ данных\n",
    "\n",
    "* Определить, какие некорректные строки требуется сохранить, а какие можно удалить.\n",
    "\n",
    "* Заполнить значения в пропущенных ячейках таблицы\n",
    "\n",
    "* Удалить дубликаты.\n",
    "\n",
    "* Вывести категории для проведения гипотез.\n",
    "\n",
    "* Составить выводы по каждому вопросу.\n",
    "\n",
    "* Составить общий вывод.\n"
   ]
  },
  {
   "cell_type": "markdown",
   "metadata": {},
   "source": [
    "## Шаг 1. Откройте файл с данными и изучите общую информацию"
   ]
  },
  {
   "cell_type": "code",
   "execution_count": 1,
   "metadata": {},
   "outputs": [
    {
     "name": "stdout",
     "output_type": "stream",
     "text": [
      "    children  days_employed  dob_years            education  education_id  \\\n",
      "0          1   -8437.673028         42               высшее             0   \n",
      "1          1   -4024.803754         36              среднее             1   \n",
      "2          0   -5623.422610         33              Среднее             1   \n",
      "3          3   -4124.747207         32              среднее             1   \n",
      "4          0  340266.072047         53              среднее             1   \n",
      "5          0    -926.185831         27               высшее             0   \n",
      "6          0   -2879.202052         43               высшее             0   \n",
      "7          0    -152.779569         50              СРЕДНЕЕ             1   \n",
      "8          2   -6929.865299         35               ВЫСШЕЕ             0   \n",
      "9          0   -2188.756445         41              среднее             1   \n",
      "10         2   -4171.483647         36               высшее             0   \n",
      "11         0    -792.701887         40              среднее             1   \n",
      "12         0            NaN         65              среднее             1   \n",
      "13         0   -1846.641941         54  неоконченное высшее             2   \n",
      "14         0   -1844.956182         56               высшее             0   \n",
      "\n",
      "       family_status  family_status_id gender income_type  debt  \\\n",
      "0    женат / замужем                 0      F   сотрудник     0   \n",
      "1    женат / замужем                 0      F   сотрудник     0   \n",
      "2    женат / замужем                 0      M   сотрудник     0   \n",
      "3    женат / замужем                 0      M   сотрудник     0   \n",
      "4   гражданский брак                 1      F   пенсионер     0   \n",
      "5   гражданский брак                 1      M   компаньон     0   \n",
      "6    женат / замужем                 0      F   компаньон     0   \n",
      "7    женат / замужем                 0      M   сотрудник     0   \n",
      "8   гражданский брак                 1      F   сотрудник     0   \n",
      "9    женат / замужем                 0      M   сотрудник     0   \n",
      "10   женат / замужем                 0      M   компаньон     0   \n",
      "11   женат / замужем                 0      F   сотрудник     0   \n",
      "12  гражданский брак                 1      M   пенсионер     0   \n",
      "13   женат / замужем                 0      F   сотрудник     0   \n",
      "14  гражданский брак                 1      F   компаньон     1   \n",
      "\n",
      "     total_income                            purpose  \n",
      "0   253875.639453                      покупка жилья  \n",
      "1   112080.014102            приобретение автомобиля  \n",
      "2   145885.952297                      покупка жилья  \n",
      "3   267628.550329         дополнительное образование  \n",
      "4   158616.077870                    сыграть свадьбу  \n",
      "5   255763.565419                      покупка жилья  \n",
      "6   240525.971920                  операции с жильем  \n",
      "7   135823.934197                        образование  \n",
      "8    95856.832424              на проведение свадьбы  \n",
      "9   144425.938277            покупка жилья для семьи  \n",
      "10  113943.491460               покупка недвижимости  \n",
      "11   77069.234271  покупка коммерческой недвижимости  \n",
      "12            NaN                    сыграть свадьбу  \n",
      "13  130458.228857            приобретение автомобиля  \n",
      "14  165127.911772         покупка жилой недвижимости  \n",
      "<class 'pandas.core.frame.DataFrame'>\n",
      "RangeIndex: 21525 entries, 0 to 21524\n",
      "Data columns (total 12 columns):\n",
      "children            21525 non-null int64\n",
      "days_employed       19351 non-null float64\n",
      "dob_years           21525 non-null int64\n",
      "education           21525 non-null object\n",
      "education_id        21525 non-null int64\n",
      "family_status       21525 non-null object\n",
      "family_status_id    21525 non-null int64\n",
      "gender              21525 non-null object\n",
      "income_type         21525 non-null object\n",
      "debt                21525 non-null int64\n",
      "total_income        19351 non-null float64\n",
      "purpose             21525 non-null object\n",
      "dtypes: float64(2), int64(5), object(5)\n",
      "memory usage: 2.0+ MB\n"
     ]
    }
   ],
   "source": [
    "import pandas as pd\n",
    "credit_statistic = pd.read_csv('/datasets/data.csv')\n",
    "print(credit_statistic.head(15))\n",
    "credit_statistic.info()"
   ]
  },
  {
   "cell_type": "markdown",
   "metadata": {},
   "source": [
    "**Вывод**"
   ]
  },
  {
   "cell_type": "markdown",
   "metadata": {},
   "source": [
    "1. В файле много столбцов никак не структурированных, удобнее будет разделить таблицу на несколько таблиц.\n",
    "2.В таблице присутствуют нулевые значения. В столбцах days_empoyed и total_income, причем равное кол-во, вероятнее всего эти пропуски зависимы между двумя столбцами.\n",
    "3.В таблице есть непонятные значения, с которыми нужно будет разобраться, например данные в столбце days_empoyed - на первый взгляд не соответствуют названию столбца, а также имеет как положительный, так и отрицительные значения.\n",
    "4.Названия всех столбцов записаны корректно, без пробелов и заглавных букв."
   ]
  },
  {
   "cell_type": "markdown",
   "metadata": {},
   "source": [
    "## Шаг 2. Предобработка данных"
   ]
  },
  {
   "cell_type": "markdown",
   "metadata": {},
   "source": [
    "### Обработка пропусков"
   ]
  },
  {
   "cell_type": "code",
   "execution_count": 2,
   "metadata": {},
   "outputs": [
    {
     "name": "stdout",
     "output_type": "stream",
     "text": [
      "    children  days_employed  dob_years            education  education_id  \\\n",
      "0          1   -8437.673028         42               высшее             0   \n",
      "1          1   -4024.803754         36              среднее             1   \n",
      "2          0   -5623.422610         33              Среднее             1   \n",
      "3          3   -4124.747207         32              среднее             1   \n",
      "4          0  340266.072047         53              среднее             1   \n",
      "5          0    -926.185831         27               высшее             0   \n",
      "6          0   -2879.202052         43               высшее             0   \n",
      "7          0    -152.779569         50              СРЕДНЕЕ             1   \n",
      "8          2   -6929.865299         35               ВЫСШЕЕ             0   \n",
      "9          0   -2188.756445         41              среднее             1   \n",
      "10         2   -4171.483647         36               высшее             0   \n",
      "11         0    -792.701887         40              среднее             1   \n",
      "12         0  365213.306266         65              среднее             1   \n",
      "13         0   -1846.641941         54  неоконченное высшее             2   \n",
      "14         0   -1844.956182         56               высшее             0   \n",
      "\n",
      "       family_status  family_status_id gender income_type  debt  \\\n",
      "0    женат / замужем                 0      F   сотрудник     0   \n",
      "1    женат / замужем                 0      F   сотрудник     0   \n",
      "2    женат / замужем                 0      M   сотрудник     0   \n",
      "3    женат / замужем                 0      M   сотрудник     0   \n",
      "4   гражданский брак                 1      F   пенсионер     0   \n",
      "5   гражданский брак                 1      M   компаньон     0   \n",
      "6    женат / замужем                 0      F   компаньон     0   \n",
      "7    женат / замужем                 0      M   сотрудник     0   \n",
      "8   гражданский брак                 1      F   сотрудник     0   \n",
      "9    женат / замужем                 0      M   сотрудник     0   \n",
      "10   женат / замужем                 0      M   компаньон     0   \n",
      "11   женат / замужем                 0      F   сотрудник     0   \n",
      "12  гражданский брак                 1      M   пенсионер     0   \n",
      "13   женат / замужем                 0      F   сотрудник     0   \n",
      "14  гражданский брак                 1      F   компаньон     1   \n",
      "\n",
      "     total_income                            purpose  \n",
      "0   253875.639453                      покупка жилья  \n",
      "1   112080.014102            приобретение автомобиля  \n",
      "2   145885.952297                      покупка жилья  \n",
      "3   267628.550329         дополнительное образование  \n",
      "4   158616.077870                    сыграть свадьбу  \n",
      "5   255763.565419                      покупка жилья  \n",
      "6   240525.971920                  операции с жильем  \n",
      "7   135823.934197                        образование  \n",
      "8    95856.832424              на проведение свадьбы  \n",
      "9   144425.938277            покупка жилья для семьи  \n",
      "10  113943.491460               покупка недвижимости  \n",
      "11   77069.234271  покупка коммерческой недвижимости  \n",
      "12  118514.486412                    сыграть свадьбу  \n",
      "13  130458.228857            приобретение автомобиля  \n",
      "14  165127.911772         покупка жилой недвижимости  \n",
      "<class 'pandas.core.frame.DataFrame'>\n",
      "RangeIndex: 21525 entries, 0 to 21524\n",
      "Data columns (total 12 columns):\n",
      "children            21525 non-null int64\n",
      "days_employed       21525 non-null float64\n",
      "dob_years           21525 non-null int64\n",
      "education           21525 non-null object\n",
      "education_id        21525 non-null int64\n",
      "family_status       21525 non-null object\n",
      "family_status_id    21525 non-null int64\n",
      "gender              21525 non-null object\n",
      "income_type         21525 non-null object\n",
      "debt                21525 non-null int64\n",
      "total_income        21525 non-null float64\n",
      "purpose             21525 non-null object\n",
      "dtypes: float64(2), int64(5), object(5)\n",
      "memory usage: 2.0+ MB\n",
      "None\n"
     ]
    }
   ],
   "source": [
    "credit_statistic[credit_statistic['days_employed'].isnull()]['income_type'].value_counts()#кол-во пропущенных значений по категорям\n",
    "grouped_credit = credit_statistic.groupby('income_type').agg({'days_employed': 'median', 'total_income': 'median'}).reset_index()\n",
    "#медианы в столбцах income_type , days_employed для каждой категории\n",
    "#print(grouped_credit)\n",
    "\n",
    "credit_statistic['days_employed'] = credit_statistic['days_employed'].fillna(credit_statistic.groupby('income_type')['days_employed'].transform('median'))\n",
    "#замена пропущенных значений в столбце days_employed по медианам каждой категории\n",
    "credit_statistic['total_income'] = credit_statistic['total_income'].fillna(credit_statistic.groupby('income_type')['total_income'].transform('median'))\n",
    "#замена пропущенных значений в столбце total_income по медианам каждой категории\n",
    "print(credit_statistic.head(15))\n",
    "print(credit_statistic.info())"
   ]
  },
  {
   "cell_type": "markdown",
   "metadata": {},
   "source": [
    "**Вывод**"
   ]
  },
  {
   "cell_type": "markdown",
   "metadata": {},
   "source": [
    "1.После вызова метода info в задании 1 было видно, что пропущенные значения присутствуют только в двух столбцах - days_employed, и total_income в одинаковых кол-вах\n",
    "2.Так как данные в этих столбцах дают нам информацию о ежемесячном доходе и  общем трудовом стаже в днях, а пропуски в них равны равному количеству, делаю вывод, что данные пропущенны не случайно. Скорее всего, эти люди умышленно не давали информацию о своей зараплатной плате и стаже, возможно работали не официально, или не работали вообще.\n",
    "3.Нулевые значения были в 2174 строке, а это 10% всех данных, не совсем мало, поэтому не будем удалять строки с нулевыми значениями, а заменим их по медиане каждой группе, выбираем медиану, а не среднее значение, так как она не смещает распределение.\n",
    "4.Используем метод fillna для замены нулевых значений, метод transform для заполнения медианой."
   ]
  },
  {
   "cell_type": "markdown",
   "metadata": {},
   "source": [
    "### Замена типа данных"
   ]
  },
  {
   "cell_type": "code",
   "execution_count": 3,
   "metadata": {},
   "outputs": [
    {
     "name": "stdout",
     "output_type": "stream",
     "text": [
      "<class 'pandas.core.frame.DataFrame'>\n",
      "RangeIndex: 21525 entries, 0 to 21524\n",
      "Data columns (total 13 columns):\n",
      "children            21525 non-null int64\n",
      "days_employed       21525 non-null int64\n",
      "dob_years           21525 non-null int64\n",
      "education           21525 non-null object\n",
      "education_id        21525 non-null int64\n",
      "family_status       21525 non-null object\n",
      "family_status_id    21525 non-null int64\n",
      "gender              21525 non-null object\n",
      "income_type         21525 non-null object\n",
      "debt                21525 non-null int64\n",
      "total_income        21525 non-null float64\n",
      "purpose             21525 non-null object\n",
      "total_income        21525 non-null int64\n",
      "dtypes: float64(1), int64(7), object(5)\n",
      "memory usage: 2.1+ MB\n"
     ]
    }
   ],
   "source": [
    "credit_statistic['days_employed'] = credit_statistic['days_employed'].astype('int')\n",
    "credit_statistic['total_income '] = credit_statistic['total_income'].astype('int')\n",
    "credit_statistic.info()"
   ]
  },
  {
   "cell_type": "markdown",
   "metadata": {},
   "source": [
    "**Вывод**"
   ]
  },
  {
   "cell_type": "markdown",
   "metadata": {},
   "source": [
    "1.Столбец total_income отображает ежемесячный доход, изначально у столбца тип float, статистика не испортится если я оставлю для анализа только целую часть.\n",
    "2.Столбец days_empoyed отображает стаж в днях. Содержит в себе положительные и отрицательные числа, скорее всего ошибка при выводе данных. Положительные числа намного больше, чем отрицательные, скорее всего такой стаж записан не в днях, а в часах, статистика не испортится если я оставлю для анализа только целую часть.\n",
    "2.Заменяем вещественный тип данный на целочисленный в столбцах days_empoyed и total_income методом astype, так как им я заменяю данные конкретно на нужный мне тип - целочисленный.\n",
    "Методом info() проверяем результат"
   ]
  },
  {
   "cell_type": "markdown",
   "metadata": {},
   "source": [
    "### Обработка дубликатов"
   ]
  },
  {
   "cell_type": "code",
   "execution_count": 4,
   "metadata": {},
   "outputs": [
    {
     "name": "stdout",
     "output_type": "stream",
     "text": [
      "0\n",
      "<class 'pandas.core.frame.DataFrame'>\n",
      "RangeIndex: 21471 entries, 0 to 21470\n",
      "Data columns (total 13 columns):\n",
      "children            21471 non-null int64\n",
      "days_employed       21471 non-null int64\n",
      "dob_years           21471 non-null int64\n",
      "education           21471 non-null object\n",
      "education_id        21471 non-null int64\n",
      "family_status       21471 non-null object\n",
      "family_status_id    21471 non-null int64\n",
      "gender              21471 non-null object\n",
      "income_type         21471 non-null object\n",
      "debt                21471 non-null int64\n",
      "total_income        21471 non-null float64\n",
      "purpose             21471 non-null object\n",
      "total_income        21471 non-null int64\n",
      "dtypes: float64(1), int64(7), object(5)\n",
      "memory usage: 2.1+ MB\n",
      "None\n"
     ]
    }
   ],
   "source": [
    "#print(credit_statistic['education'].value_counts())\n",
    "#print(credit_statistic['dob_years'].value_counts())\n",
    "#print(credit_statistic['family_status'].value_counts())\n",
    "#print(credit_statistic['purpose'].value_counts())\n",
    "\n",
    "credit_statistic['education'].str.lower() # перевод всех значений столбца в нижний регистр \n",
    "\n",
    "credit_statistic.duplicated().sum() #кол-во полных дубликатов, всего 54\n",
    "\n",
    "credit_statistic = credit_statistic.drop_duplicates().reset_index(drop = True) #удаляем полные дубликаты, так как вместе с строками\n",
    "#удаляются и их индексы, используем метод reset_index , аргумент drop со значением True - чтобы не создавать столбец старых индексов\n",
    "\n",
    "\n",
    "print(credit_statistic.duplicated().sum())\n",
    "print(credit_statistic.info())\n",
    "\n"
   ]
  },
  {
   "cell_type": "markdown",
   "metadata": {},
   "source": [
    "**Вывод**"
   ]
  },
  {
   "cell_type": "markdown",
   "metadata": {},
   "source": [
    "1. Для начала методом value_counts вывела уникальные значения для нужных столбцов, было видно что в столбце education одинаковые значения, но записаны в разных регистрах.\n",
    "2. методом lower() перевела значения столбца education с образованием в нижний регистр.\n",
    "3. с помощью метода duplicated().sum() вывела сумму дубликатов.\n",
    "4. метод drop_duplicates() используется для удаления всех дубликатов.\n",
    "5. возможная причина возникновения дубликатов - неправильное соединение данных из разных источников.\n",
    "\n",
    "Также в столбце dop_years были обнаружены значения = 0. Ошибка в данных, так как данный столбец не влияет на поставленную нами задачу обрабатывать мы его не будем. В реальной ситуации можно было бы переспросить у заказчика о нулевых значениях в столбце с возрастом, если бы он пригодился для анализа."
   ]
  },
  {
   "cell_type": "markdown",
   "metadata": {},
   "source": [
    "### Лемматизация"
   ]
  },
  {
   "cell_type": "code",
   "execution_count": 5,
   "metadata": {},
   "outputs": [
    {
     "name": "stdout",
     "output_type": "stream",
     "text": [
      "операции с недвижимостью    10814\n",
      "операции с автомобилем       4308\n",
      "на образование               4014\n",
      "на свадьбу                   2335\n",
      "Name: purpose_new, dtype: int64\n"
     ]
    }
   ],
   "source": [
    "#print(credit_statistic['purpose'].value_counts()) #уникальные значения целей получения кредита\n",
    "\n",
    "# pymystem3 импорт:\n",
    "from pymystem3 import Mystem\n",
    "m = Mystem() \n",
    "\n",
    "\n",
    "credit_statistic['purpose_new'] = credit_statistic['purpose'].apply(lambda x: m.lemmatize(x)) #лемматизируем столбец purpose\n",
    "\n",
    "\n",
    "def create_category_purpose(row):               #функция для замены значений в новом столбце\n",
    "        if 'автомобиль' in row['purpose_new']:\n",
    "            return 'операции с автомобилем'\n",
    "        if 'жилье' in row['purpose_new']:\n",
    "            return 'операции с недвижимостью'\n",
    "        if 'недвижимость' in row['purpose_new']:\n",
    "            return 'операции с недвижимостью'\n",
    "        if 'свадьба' in row['purpose_new']:\n",
    "            return 'на свадьбу'\n",
    "        if 'образование' in row['purpose_new']:\n",
    "            return 'на образование'\n",
    "        \n",
    "credit_statistic['purpose_new'] = credit_statistic.apply(create_category_purpose,axis=1) \n",
    "\n",
    "print(credit_statistic['purpose_new'].value_counts()) #проверяем уникальные значения в столбце"
   ]
  },
  {
   "cell_type": "markdown",
   "metadata": {},
   "source": [
    "**Вывод**"
   ]
  },
  {
   "cell_type": "markdown",
   "metadata": {},
   "source": [
    "1.Использую библиотеку с функцией лемматизации на русском языке — pymystem3, применяю лемматизацию в методе apply к столбцу purpose.\n",
    "2. С помощью функции заменяю леммами значения в новом столбце purpose_new, по данному столбцу структурированы цели получения кредита, далее он будет удобнее для анализа, чем столбец purpose."
   ]
  },
  {
   "cell_type": "markdown",
   "metadata": {},
   "source": [
    "### Категоризация данных"
   ]
  },
  {
   "cell_type": "code",
   "execution_count": 6,
   "metadata": {},
   "outputs": [
    {
     "name": "stdout",
     "output_type": "stream",
     "text": [
      "   total_income_result  debt\n",
      "0         Низкий доход   427\n",
      "1              высокий   151\n",
      "2        выше среднего   232\n",
      "3  доход ниже среднего   385\n",
      "4        средний доход   448\n"
     ]
    }
   ],
   "source": [
    "#категоризация по наличию детей\n",
    "\n",
    "children = credit_statistic.loc[:,('children','debt')] #данные о кол-ве детей и наличие долга по кредиту\n",
    "\n",
    "def children_group(row):          #функция для заполнения результатов зависимости наличия детей и долга\n",
    "    children = row['children']\n",
    "    dept = row['debt']\n",
    "\n",
    "    if children == 0:\n",
    "        if dept == 0:\n",
    "            return 'Нет детей. Нет долга'\n",
    "        return 'Нет детей. Есть долг'\n",
    "    if children !=0:\n",
    "        if dept == 0:\n",
    "            return 'Есть дети. Нет долга'\n",
    "        return 'Есть дети. Есть долг'\n",
    "    \n",
    "children['result'] = children.apply(children_group, axis=1)\n",
    "\n",
    "#print(children['result'].value_counts())\n",
    "\n",
    "NN = 13044 #Нет детей. Нет долга \n",
    "EN = 6686 #Есть дети. Нет долга\n",
    "NE = 1063 #Нет детей. Есть долг\n",
    "EE = 678 #Есть дети. Есть долг\n",
    "\n",
    "\n",
    "#print(credit_statistic['family_status'].value_counts())\n",
    "\n",
    "#категоризация по семейному положению\n",
    "\n",
    "family_status = credit_statistic.loc[:,('family_status','debt')] #данные о сп и наличие долга по кредиту\n",
    "\n",
    "def family_group(row):          #функция для заполнения результатов зависимости наличия детей и долга\n",
    "    family = row['family_status']\n",
    "    dept = row['debt']\n",
    "\n",
    "    if family == 'женат / замужем':\n",
    "        if dept == 0:\n",
    "            return 'Женат / замужем. Нет долга'\n",
    "        return 'Женат / замужем. Есть долг'\n",
    "    if dept == 0:\n",
    "        return 'Холост. Нет долга'\n",
    "    return 'Холост. Есть долг'\n",
    "    \n",
    "family_status['result'] = family_status.apply(family_group, axis=1)\n",
    "\n",
    "#print(family_status['result'].value_counts())\n",
    " \n",
    "ZE = 931 #Женат / замужем. Есть долг\n",
    "HE = 810 #Холост. Есть долг\n",
    "\n",
    "\n",
    "#категоризация по уровню дохода\n",
    "\n",
    "#print(credit_statistic['total_income'].median())\n",
    "mediana_total_income = 142594\n",
    "\n",
    "total_income = credit_statistic.loc[:,('total_income','debt')] #данные о сп и наличие долга по кредиту\n",
    "\n",
    "\n",
    "\n",
    "def total(row):                            #функция для разделения дохода по квантилям\n",
    "    total_income = row['total_income']\n",
    "    dept = row['debt']\n",
    "   \n",
    "    if total_income < credit_statistic['total_income'].quantile(0.25):\n",
    "            return 'Низкий доход'\n",
    "    if total_income > credit_statistic['total_income'].quantile(0.25):\n",
    "        if total_income < credit_statistic['total_income'].quantile(0.5):\n",
    "            return 'доход ниже среднего'\n",
    "    if total_income > credit_statistic['total_income'].quantile(0.5):\n",
    "        if total_income < credit_statistic['total_income'].quantile(0.75):\n",
    "            return 'средний доход'\n",
    "    if total_income > credit_statistic['total_income'].quantile(0.75):\n",
    "        if total_income < credit_statistic['total_income'].quantile(0.9):\n",
    "            return'выше среднего'\n",
    "    if  total_income > credit_statistic['total_income'].quantile(0.9):\n",
    "            return'высокий'\n",
    "\n",
    "credit_statistic['total_income_result'] = total_income.apply(total, axis=1)\n",
    "\n",
    "income_pivots = credit_statistic.pivot_table(index = ['total_income_result'], values = 'debt', aggfunc = 'sum').reset_index()\n",
    "\n",
    "print(income_pivots)"
   ]
  },
  {
   "cell_type": "markdown",
   "metadata": {},
   "source": [
    "Данные категоризированны исходя из вопросов в задачи:\n",
    "1. Выведена таблица по наличию детей у клиента и и возврата кредита в срок.\n",
    "2.Выведена таблица таблица по семейному положению клиента и и возврата кредита в срок.\n",
    "3.Выведена таблица по уровню дохода клиента и возврата кредита в срок.\n",
    "4.Выведена таблица с данными о целях кредита, и возврата кредита в срок.\n",
    "\n",
    "С помощью функций в новом столбце подсчитаны значения по кол-ву долгов у клиентов в каждой таблице.\n",
    "Для процентного соотношения кол-во клиентов с долгами по кредитам и делим на общее кол-во клиентов."
   ]
  },
  {
   "cell_type": "markdown",
   "metadata": {},
   "source": [
    "## Шаг 3. Ответьте на вопросы"
   ]
  },
  {
   "cell_type": "markdown",
   "metadata": {},
   "source": [
    "- Есть ли зависимость между наличием детей и возвратом кредита в срок?"
   ]
  },
  {
   "cell_type": "code",
   "execution_count": 13,
   "metadata": {},
   "outputs": [
    {
     "name": "stdout",
     "output_type": "stream",
     "text": [
      "  children      mean\n",
      "                debt\n",
      "0        0  0.075353\n",
      "1        1  0.091639\n",
      "2        2  0.094925\n",
      "3        3  0.081818\n",
      "4        4  0.097561\n",
      "5        5  0.000000\n"
     ]
    }
   ],
   "source": [
    "credit_statistic.loc[credit_statistic['children'] == -1, 'children'] = 1\n",
    "credit_statistic.loc[credit_statistic['children'] == 20, 'children'] = 2\n",
    "\n",
    "#НОВОЕ РЕШЕНИЕ НИЖЕ\n",
    "\n",
    "credit_pivot = credit_statistic.pivot_table(index = ['children'], values = 'debt', aggfunc = ['sum', len]).reset_index()\n",
    "#таблица сгрупированная по кол-ву детей у клиента и кол-ву должников с данным числом детей, или же без детей\n",
    "\n",
    "credit_pivot['persent_debtor'] = (credit_pivot['sum'] / credit_pivot['len'])*100 #высчитываем процент должников в каждой группе\n",
    "credit_pivot = credit_pivot.sort_values(['persent_debtor'], ascending=[False]) #сортировка по проценту должников \n",
    "print(credit_pivot)\n"
   ]
  },
  {
   "cell_type": "markdown",
   "metadata": {},
   "source": [
    "**Вывод**\n",
    "\n",
    "\n",
    "\n",
    "1.В pivot_table вывела столбец - len, кол-во заемщиков в каждой группе.\n",
    "2.У клиентов с детьми процент долга выше, чем у клиентов без детей.\n",
    "3. Данные о клиентах у которых 5 детей не анализируем с остальными, т.к кол-во таких клиентов маленькое в сравнению с остальными группами.\n",
    "    \n",
    "\n"
   ]
  },
  {
   "cell_type": "code",
   "execution_count": 8,
   "metadata": {},
   "outputs": [
    {
     "name": "stdout",
     "output_type": "stream",
     "text": [
      "           family_status  sum    len persent_debtor\n",
      "                         debt   debt               \n",
      "0  Не женат / не замужем  274   2810       9.750890\n",
      "3       гражданский брак  388   4163       9.320202\n",
      "4        женат / замужем  931  12344       7.542126\n",
      "1              в разводе   85   1195       7.112971\n",
      "2         вдовец / вдова   63    959       6.569343\n"
     ]
    }
   ],
   "source": [
    "family_pivot = credit_statistic.pivot_table(index = ['family_status'], values = 'debt', aggfunc = ['sum', len]).reset_index()\n",
    "#таблица сгрупированная по семейному положению клиентов и кол-во должников в каждой группе\n",
    "\n",
    "family_pivot['persent_debtor'] = (family_pivot['sum'] / family_pivot['len'])*100 #высчитываем процент должников в каждой группе\n",
    "family_pivot = family_pivot.sort_values(['persent_debtor'], ascending=[False])\n",
    "print(family_pivot)"
   ]
  },
  {
   "cell_type": "markdown",
   "metadata": {},
   "source": [
    "**Вывод**\n",
    "\n",
    "1.В pivot_table вывела столбец - len, кол-во заемщиков в каждой группе.\n",
    "2.Высчитала процентное соотношение для каждой группы по семейному положению. \n",
    "3.Процент задолжников у людей не состоящих в официальных/юридических отношениях выше, чем у тех кто женат/замужем.\n",
    "    \n"
   ]
  },
  {
   "cell_type": "code",
   "execution_count": 9,
   "metadata": {},
   "outputs": [
    {
     "name": "stdout",
     "output_type": "stream",
     "text": [
      "   total_income_result  sum   len persent_debtor\n",
      "                       debt  debt               \n",
      "3  доход ниже среднего  385  4413       8.724224\n",
      "4        средний доход  448  5245       8.541468\n",
      "0         Низкий доход  427  5368       7.954545\n",
      "2        выше среднего  232  3220       7.204969\n",
      "1              высокий  151  2147       7.033069\n"
     ]
    }
   ],
   "source": [
    "\n",
    "total_pivot = credit_statistic.pivot_table(index = ['total_income_result'], values = 'debt', aggfunc = ['sum', len]).reset_index()\n",
    "#таблица сгрупированная по семейному положению клиентов и кол-во должников в каждой группе\n",
    "\n",
    "total_pivot['persent_debtor'] = (total_pivot['sum'] / total_pivot['len'])*100 #высчитываем процент должников в каждой группе\n",
    "total_pivot = total_pivot.sort_values(['persent_debtor'], ascending=[False])\n",
    "print(total_pivot)"
   ]
  },
  {
   "cell_type": "markdown",
   "metadata": {},
   "source": [
    "**Вывод**\n",
    "\n",
    "\n",
    "1.В pivot_table вывела столбец - len, кол-во заемщиков в каждой группе.\n",
    "2.Высчитала процентное соотношение для каждой группы по уровню достатка\n",
    "3.Процент задолжников у людей с высоким доходом ниже, чем у людей с низким доходом, но не намного.\n",
    "    \n"
   ]
  },
  {
   "cell_type": "code",
   "execution_count": 10,
   "metadata": {},
   "outputs": [
    {
     "name": "stdout",
     "output_type": "stream",
     "text": [
      "                purpose_new  sum    len persent_debtor\n",
      "                            debt   debt               \n",
      "2    операции с автомобилем  403   4308       9.354689\n",
      "0            на образование  370   4014       9.217738\n",
      "1                на свадьбу  186   2335       7.965739\n",
      "3  операции с недвижимостью  782  10814       7.231367\n"
     ]
    }
   ],
   "source": [
    "\n",
    "purpose_pivot = credit_statistic.pivot_table(index = ['purpose_new'], values = 'debt', aggfunc = ['sum', len]).reset_index()\n",
    "#таблица сгрупированная по семейному положению клиентов и кол-во должников в каждой группе\n",
    "\n",
    "purpose_pivot['persent_debtor'] = (purpose_pivot['sum'] / purpose_pivot['len'])*100 #высчитываем процент должников в каждой группе\n",
    "purpose_pivot = purpose_pivot.sort_values(['persent_debtor'], ascending=[False])\n",
    "print(purpose_pivot)"
   ]
  },
  {
   "cell_type": "markdown",
   "metadata": {},
   "source": [
    "**Вывод**"
   ]
  },
  {
   "cell_type": "markdown",
   "metadata": {},
   "source": [
    "\n",
    "1.В pivot_table вывела столбец - len, кол-во заемщиков в каждой группе.\n",
    "2.Высчитала процентное соотношение для каждой группы по целям кредита.\n",
    "3.Самый низкий процент задолжников у тех, кто брал кредит на недвижимость, самый высокий - автомобиль и образование.\n",
    "    \n"
   ]
  },
  {
   "cell_type": "markdown",
   "metadata": {},
   "source": [
    "## Шаг 4. Общий вывод"
   ]
  },
  {
   "cell_type": "markdown",
   "metadata": {},
   "source": [
    "Есть зависимость между наличием детей у клиента и возвратом кредита в срок. Задолжников больше среди тех, у кого есть дети. Зависимости между доходом клиента и возвратом кредита в в срок есть, но минимальная, тут больше играет роль цель кредита, а т.е его сумма. Процент задолжников у людей не состоящих в официальных/юридических отношениях выше, чем у тех кто женат/замужем. Процент задолжников у людей с высоким доходом ниже, чем у людей с низким доходом, но не намного. На возраст кредита в срок влияет совокупность факторов."
   ]
  }
 ],
 "metadata": {
  "ExecuteTimeLog": [
   {
    "duration": 787,
    "start_time": "2021-06-23T19:40:36.832Z"
   },
   {
    "duration": 62,
    "start_time": "2021-06-23T19:40:44.120Z"
   },
   {
    "duration": 80,
    "start_time": "2021-06-23T19:41:01.178Z"
   },
   {
    "duration": 71,
    "start_time": "2021-06-23T19:41:15.523Z"
   },
   {
    "duration": 70,
    "start_time": "2021-06-23T19:42:22.293Z"
   },
   {
    "duration": 71,
    "start_time": "2021-06-23T19:44:30.834Z"
   },
   {
    "duration": 479,
    "start_time": "2021-06-23T19:45:56.042Z"
   },
   {
    "duration": 108,
    "start_time": "2021-06-23T19:46:13.883Z"
   },
   {
    "duration": 255,
    "start_time": "2021-06-23T20:44:21.259Z"
   },
   {
    "duration": 1668,
    "start_time": "2021-06-23T20:44:42.516Z"
   },
   {
    "duration": 1702,
    "start_time": "2021-06-23T20:45:32.625Z"
   },
   {
    "duration": 9,
    "start_time": "2021-06-23T20:50:15.060Z"
   },
   {
    "duration": 78,
    "start_time": "2021-06-23T20:50:44.482Z"
   },
   {
    "duration": 86,
    "start_time": "2021-06-23T20:50:48.277Z"
   },
   {
    "duration": 80,
    "start_time": "2021-06-23T20:50:53.404Z"
   },
   {
    "duration": 21,
    "start_time": "2021-06-23T20:50:56.944Z"
   },
   {
    "duration": 4427,
    "start_time": "2021-06-23T20:51:06.953Z"
   },
   {
    "duration": 6140,
    "start_time": "2021-06-23T20:54:29.585Z"
   },
   {
    "duration": 7,
    "start_time": "2021-06-23T20:54:42.861Z"
   },
   {
    "duration": 9,
    "start_time": "2021-06-23T20:54:58.100Z"
   },
   {
    "duration": 8,
    "start_time": "2021-06-23T20:55:00.386Z"
   },
   {
    "duration": 6,
    "start_time": "2021-06-23T20:55:51.459Z"
   },
   {
    "duration": 6,
    "start_time": "2021-06-23T20:55:59.538Z"
   },
   {
    "duration": 13,
    "start_time": "2021-06-23T20:56:03.157Z"
   },
   {
    "duration": 7,
    "start_time": "2021-06-23T20:57:00.820Z"
   },
   {
    "duration": 7,
    "start_time": "2021-06-23T20:57:14.639Z"
   },
   {
    "duration": 6,
    "start_time": "2021-06-23T20:57:20.248Z"
   },
   {
    "duration": 27,
    "start_time": "2021-06-23T21:01:58.898Z"
   },
   {
    "duration": 85,
    "start_time": "2021-06-23T21:11:24.899Z"
   },
   {
    "duration": 87,
    "start_time": "2021-06-23T21:12:01.178Z"
   },
   {
    "duration": 78,
    "start_time": "2021-06-23T21:12:21.671Z"
   },
   {
    "duration": 93,
    "start_time": "2021-06-23T21:21:14.853Z"
   },
   {
    "duration": 6486,
    "start_time": "2021-06-23T21:21:20.347Z"
   },
   {
    "duration": 86,
    "start_time": "2021-06-23T21:21:35.917Z"
   },
   {
    "duration": 116,
    "start_time": "2021-06-23T21:21:40.061Z"
   },
   {
    "duration": 8127,
    "start_time": "2021-06-23T21:21:44.784Z"
   },
   {
    "duration": 6461,
    "start_time": "2021-06-23T21:21:55.521Z"
   },
   {
    "duration": 6269,
    "start_time": "2021-06-23T21:22:04.539Z"
   },
   {
    "duration": 81,
    "start_time": "2021-06-23T21:22:22.357Z"
   },
   {
    "duration": 6726,
    "start_time": "2021-06-23T21:22:25.470Z"
   },
   {
    "duration": 85,
    "start_time": "2021-06-23T21:22:40.161Z"
   },
   {
    "duration": 28,
    "start_time": "2021-06-23T21:22:50.702Z"
   },
   {
    "duration": 213,
    "start_time": "2021-06-24T07:53:48.371Z"
   },
   {
    "duration": 739,
    "start_time": "2021-06-24T07:54:04.846Z"
   },
   {
    "duration": 300,
    "start_time": "2021-06-24T07:54:13.886Z"
   },
   {
    "duration": 217,
    "start_time": "2021-06-24T07:54:32.186Z"
   },
   {
    "duration": 240,
    "start_time": "2021-06-24T07:55:40.073Z"
   },
   {
    "duration": 229,
    "start_time": "2021-06-24T07:56:00.500Z"
   },
   {
    "duration": 64,
    "start_time": "2021-06-24T07:56:22.759Z"
   },
   {
    "duration": 19,
    "start_time": "2021-06-24T07:56:26.725Z"
   },
   {
    "duration": 27,
    "start_time": "2021-06-24T07:56:29.754Z"
   },
   {
    "duration": 63,
    "start_time": "2021-06-24T09:11:13.361Z"
   },
   {
    "duration": 64,
    "start_time": "2021-06-24T09:11:34.558Z"
   },
   {
    "duration": 65,
    "start_time": "2021-06-24T09:11:51.712Z"
   },
   {
    "duration": 61,
    "start_time": "2021-06-24T09:11:57.843Z"
   },
   {
    "duration": 63,
    "start_time": "2021-06-24T09:12:06.540Z"
   },
   {
    "duration": 60,
    "start_time": "2021-06-24T09:34:06.724Z"
   },
   {
    "duration": 14,
    "start_time": "2021-06-24T09:47:00.764Z"
   },
   {
    "duration": 25,
    "start_time": "2021-06-24T09:47:11.984Z"
   },
   {
    "duration": 42,
    "start_time": "2021-06-24T09:47:43.928Z"
   },
   {
    "duration": 41,
    "start_time": "2021-06-24T09:48:11.727Z"
   },
   {
    "duration": 38,
    "start_time": "2021-06-24T09:48:20.969Z"
   },
   {
    "duration": 29,
    "start_time": "2021-06-24T09:48:26.575Z"
   },
   {
    "duration": 38,
    "start_time": "2021-06-24T09:48:59.983Z"
   },
   {
    "duration": 28,
    "start_time": "2021-06-24T09:49:09.627Z"
   },
   {
    "duration": 39,
    "start_time": "2021-06-24T09:49:16.069Z"
   },
   {
    "duration": 15,
    "start_time": "2021-06-24T09:52:48.334Z"
   },
   {
    "duration": 17,
    "start_time": "2021-06-24T09:52:51.060Z"
   },
   {
    "duration": 16,
    "start_time": "2021-06-24T09:52:56.778Z"
   },
   {
    "duration": 38,
    "start_time": "2021-06-24T09:53:06.399Z"
   },
   {
    "duration": 28,
    "start_time": "2021-06-24T09:53:10.122Z"
   },
   {
    "duration": 215,
    "start_time": "2021-06-24T09:57:24.834Z"
   },
   {
    "duration": 201,
    "start_time": "2021-06-24T09:57:34.882Z"
   },
   {
    "duration": 17,
    "start_time": "2021-06-24T09:58:36.328Z"
   },
   {
    "duration": 15,
    "start_time": "2021-06-24T09:58:45.895Z"
   },
   {
    "duration": 15,
    "start_time": "2021-06-24T09:58:52.107Z"
   },
   {
    "duration": 6,
    "start_time": "2021-06-24T09:58:55.297Z"
   },
   {
    "duration": 12,
    "start_time": "2021-06-24T09:59:46.123Z"
   },
   {
    "duration": 14,
    "start_time": "2021-06-24T10:00:13.893Z"
   },
   {
    "duration": 18,
    "start_time": "2021-06-24T10:02:12.682Z"
   },
   {
    "duration": 13,
    "start_time": "2021-06-24T10:02:52.360Z"
   },
   {
    "duration": 67,
    "start_time": "2021-06-26T14:28:01.508Z"
   },
   {
    "duration": 59,
    "start_time": "2021-06-26T14:28:08.282Z"
   },
   {
    "duration": 206,
    "start_time": "2021-06-26T14:28:21.941Z"
   },
   {
    "duration": 592,
    "start_time": "2021-06-26T14:28:36.906Z"
   },
   {
    "duration": 200,
    "start_time": "2021-06-26T14:28:41.579Z"
   },
   {
    "duration": 4424,
    "start_time": "2021-06-26T14:29:00.053Z"
   },
   {
    "duration": 67,
    "start_time": "2021-06-26T14:32:42.744Z"
   },
   {
    "duration": 172,
    "start_time": "2021-06-26T14:32:50.256Z"
   },
   {
    "duration": 15,
    "start_time": "2021-06-26T14:33:22.606Z"
   },
   {
    "duration": 5,
    "start_time": "2021-06-26T14:33:40.596Z"
   },
   {
    "duration": 66,
    "start_time": "2021-06-26T14:33:49.187Z"
   },
   {
    "duration": 59,
    "start_time": "2021-06-26T14:33:53.712Z"
   },
   {
    "duration": 177,
    "start_time": "2021-06-26T14:34:00.553Z"
   },
   {
    "duration": 65,
    "start_time": "2021-06-26T14:34:21.017Z"
   },
   {
    "duration": 4488,
    "start_time": "2021-06-26T14:34:58.954Z"
   },
   {
    "duration": 208,
    "start_time": "2021-06-26T14:35:14.741Z"
   },
   {
    "duration": 5,
    "start_time": "2021-06-26T14:35:49.884Z"
   },
   {
    "duration": 6,
    "start_time": "2021-06-26T14:35:57.457Z"
   },
   {
    "duration": 185,
    "start_time": "2021-06-26T14:36:05.076Z"
   },
   {
    "duration": 6,
    "start_time": "2021-06-26T14:36:08.616Z"
   },
   {
    "duration": 62,
    "start_time": "2021-06-26T14:37:42.606Z"
   },
   {
    "duration": 57,
    "start_time": "2021-06-26T14:38:13.353Z"
   },
   {
    "duration": 2282,
    "start_time": "2021-06-26T14:38:37.026Z"
   },
   {
    "duration": 2291,
    "start_time": "2021-06-26T14:39:15.134Z"
   },
   {
    "duration": 8,
    "start_time": "2021-06-26T14:41:58.714Z"
   },
   {
    "duration": 174,
    "start_time": "2021-06-26T15:06:20.786Z"
   },
   {
    "duration": 8,
    "start_time": "2021-06-26T15:06:26.825Z"
   },
   {
    "duration": 7,
    "start_time": "2021-06-26T15:07:21.420Z"
   },
   {
    "duration": 8,
    "start_time": "2021-06-26T15:07:32.513Z"
   },
   {
    "duration": 8,
    "start_time": "2021-06-26T15:07:47.843Z"
   },
   {
    "duration": 12,
    "start_time": "2021-06-26T15:42:45.059Z"
   },
   {
    "duration": 11,
    "start_time": "2021-06-26T15:42:53.209Z"
   },
   {
    "duration": 184,
    "start_time": "2021-06-26T15:44:38.807Z"
   },
   {
    "duration": 70,
    "start_time": "2021-06-26T15:44:45.021Z"
   },
   {
    "duration": 201,
    "start_time": "2021-06-26T15:44:50.926Z"
   },
   {
    "duration": 15,
    "start_time": "2021-06-26T15:44:58.739Z"
   },
   {
    "duration": 10,
    "start_time": "2021-06-26T15:45:55.870Z"
   },
   {
    "duration": 69,
    "start_time": "2021-06-26T15:46:16.030Z"
   },
   {
    "duration": 13,
    "start_time": "2021-06-26T15:46:22.070Z"
   },
   {
    "duration": -61,
    "start_time": "2021-06-26T15:47:13.028Z"
   },
   {
    "duration": 15,
    "start_time": "2021-06-26T15:47:37.897Z"
   },
   {
    "duration": 23,
    "start_time": "2021-06-26T15:47:56.096Z"
   },
   {
    "duration": 25,
    "start_time": "2021-06-26T15:48:15.179Z"
   },
   {
    "duration": 8,
    "start_time": "2021-06-26T15:49:03.630Z"
   },
   {
    "duration": 20,
    "start_time": "2021-06-26T15:49:32.601Z"
   },
   {
    "duration": 9,
    "start_time": "2021-06-26T15:49:42.933Z"
   },
   {
    "duration": 11,
    "start_time": "2021-06-26T15:49:47.211Z"
   },
   {
    "duration": 20,
    "start_time": "2021-06-26T15:49:56.942Z"
   },
   {
    "duration": 10,
    "start_time": "2021-06-26T15:51:38.428Z"
   },
   {
    "duration": 18,
    "start_time": "2021-06-26T15:51:50.616Z"
   },
   {
    "duration": 25,
    "start_time": "2021-06-26T15:52:39.925Z"
   },
   {
    "duration": 300,
    "start_time": "2021-06-26T16:02:18.744Z"
   },
   {
    "duration": 294,
    "start_time": "2021-06-26T16:02:28.049Z"
   },
   {
    "duration": 310,
    "start_time": "2021-06-26T16:03:26.077Z"
   },
   {
    "duration": 18,
    "start_time": "2021-06-26T18:09:38.237Z"
   },
   {
    "duration": 16,
    "start_time": "2021-06-26T18:14:30.321Z"
   },
   {
    "duration": 16,
    "start_time": "2021-06-26T18:14:33.963Z"
   },
   {
    "duration": 5,
    "start_time": "2021-06-26T18:15:56.431Z"
   },
   {
    "duration": 256,
    "start_time": "2021-06-26T18:36:33.317Z"
   },
   {
    "duration": 244,
    "start_time": "2021-06-26T18:36:48.835Z"
   },
   {
    "duration": 13,
    "start_time": "2021-06-26T19:10:25.485Z"
   },
   {
    "duration": 2221,
    "start_time": "2021-06-26T19:10:55.837Z"
   },
   {
    "duration": 61,
    "start_time": "2021-06-26T19:12:08.973Z"
   },
   {
    "duration": 62,
    "start_time": "2021-06-26T19:12:18.351Z"
   },
   {
    "duration": 58,
    "start_time": "2021-06-26T19:12:26.971Z"
   },
   {
    "duration": 62,
    "start_time": "2021-06-26T19:12:41.247Z"
   },
   {
    "duration": 61,
    "start_time": "2021-06-26T19:12:54.847Z"
   },
   {
    "duration": 59,
    "start_time": "2021-06-26T19:13:01.598Z"
   },
   {
    "duration": 63,
    "start_time": "2021-06-26T19:13:08.995Z"
   },
   {
    "duration": 62,
    "start_time": "2021-06-26T19:13:17.257Z"
   },
   {
    "duration": 56,
    "start_time": "2021-06-26T19:14:35.963Z"
   },
   {
    "duration": 187,
    "start_time": "2021-06-26T19:14:40.047Z"
   },
   {
    "duration": 185,
    "start_time": "2021-06-26T19:15:15.287Z"
   },
   {
    "duration": 179,
    "start_time": "2021-06-26T19:15:32.635Z"
   },
   {
    "duration": 2368,
    "start_time": "2021-06-26T19:15:50.779Z"
   },
   {
    "duration": 788,
    "start_time": "2021-06-26T19:16:35.896Z"
   },
   {
    "duration": 449,
    "start_time": "2021-06-26T19:17:53.958Z"
   },
   {
    "duration": 438,
    "start_time": "2021-06-26T19:18:15.565Z"
   },
   {
    "duration": 449,
    "start_time": "2021-06-26T19:18:40.259Z"
   },
   {
    "duration": 447,
    "start_time": "2021-06-26T19:42:57.431Z"
   },
   {
    "duration": 510,
    "start_time": "2021-06-26T19:43:13.046Z"
   },
   {
    "duration": 61,
    "start_time": "2021-06-26T19:45:30.658Z"
   },
   {
    "duration": 59,
    "start_time": "2021-06-26T19:46:42.687Z"
   },
   {
    "duration": 55,
    "start_time": "2021-06-26T19:46:48.969Z"
   },
   {
    "duration": 63,
    "start_time": "2021-06-26T19:47:24.070Z"
   },
   {
    "duration": 184,
    "start_time": "2021-06-26T19:47:53.468Z"
   },
   {
    "duration": 807,
    "start_time": "2021-06-27T12:16:27.420Z"
   },
   {
    "duration": 16,
    "start_time": "2021-06-27T12:19:18.953Z"
   },
   {
    "duration": 15,
    "start_time": "2021-06-27T12:24:07.889Z"
   },
   {
    "duration": 15,
    "start_time": "2021-06-27T12:24:19.011Z"
   },
   {
    "duration": 672,
    "start_time": "2021-06-27T12:24:38.031Z"
   },
   {
    "duration": 490,
    "start_time": "2021-06-27T12:25:04.368Z"
   },
   {
    "duration": 565,
    "start_time": "2021-06-27T12:25:37.927Z"
   },
   {
    "duration": 2898,
    "start_time": "2021-06-27T12:25:47.599Z"
   },
   {
    "duration": 1372,
    "start_time": "2021-06-27T12:26:54.723Z"
   },
   {
    "duration": 15,
    "start_time": "2021-06-27T12:27:15.321Z"
   },
   {
    "duration": 486,
    "start_time": "2021-06-27T12:27:41.691Z"
   },
   {
    "duration": 575,
    "start_time": "2021-06-27T12:33:30.596Z"
   },
   {
    "duration": 1214,
    "start_time": "2021-06-27T12:34:02.404Z"
   },
   {
    "duration": 1364,
    "start_time": "2021-06-27T12:34:13.294Z"
   },
   {
    "duration": 1366,
    "start_time": "2021-06-27T12:37:10.874Z"
   },
   {
    "duration": 602,
    "start_time": "2021-06-27T12:37:32.772Z"
   },
   {
    "duration": 17,
    "start_time": "2021-06-27T12:41:47.904Z"
   },
   {
    "duration": 7668,
    "start_time": "2021-06-27T12:52:39.585Z"
   },
   {
    "duration": 20,
    "start_time": "2021-06-27T12:54:07.548Z"
   },
   {
    "duration": 18,
    "start_time": "2021-06-27T12:57:09.713Z"
   },
   {
    "duration": 7775,
    "start_time": "2021-06-27T12:57:15.944Z"
   },
   {
    "duration": 7376,
    "start_time": "2021-06-27T12:59:08.470Z"
   },
   {
    "duration": 8638,
    "start_time": "2021-06-27T12:59:31.855Z"
   },
   {
    "duration": 8457,
    "start_time": "2021-06-27T12:59:54.410Z"
   },
   {
    "duration": 556,
    "start_time": "2021-06-27T13:00:30.788Z"
   },
   {
    "duration": 7590,
    "start_time": "2021-06-27T13:00:42.547Z"
   },
   {
    "duration": 15,
    "start_time": "2021-06-27T13:04:06.115Z"
   },
   {
    "duration": 4210,
    "start_time": "2021-06-27T13:05:16.860Z"
   },
   {
    "duration": 7865,
    "start_time": "2021-06-27T13:06:05.268Z"
   },
   {
    "duration": 123,
    "start_time": "2021-06-27T13:22:04.208Z"
   },
   {
    "duration": 98,
    "start_time": "2021-06-27T13:22:58.396Z"
   },
   {
    "duration": 136,
    "start_time": "2021-06-27T13:23:23.908Z"
   },
   {
    "duration": 774,
    "start_time": "2021-06-27T13:23:31.782Z"
   },
   {
    "duration": 805,
    "start_time": "2021-06-27T13:24:21.701Z"
   },
   {
    "duration": 7453,
    "start_time": "2021-06-27T13:32:38.146Z"
   },
   {
    "duration": 7861,
    "start_time": "2021-06-27T13:33:48.910Z"
   },
   {
    "duration": 526,
    "start_time": "2021-06-27T13:35:55.633Z"
   },
   {
    "duration": 7525,
    "start_time": "2021-06-27T13:36:07.378Z"
   },
   {
    "duration": 7745,
    "start_time": "2021-06-27T13:49:48.978Z"
   },
   {
    "duration": 1332,
    "start_time": "2021-06-27T13:51:45.657Z"
   },
   {
    "duration": 1465,
    "start_time": "2021-06-27T13:53:50.843Z"
   },
   {
    "duration": 107,
    "start_time": "2021-06-27T13:54:09.583Z"
   },
   {
    "duration": 1393,
    "start_time": "2021-06-27T13:54:20.691Z"
   },
   {
    "duration": 103,
    "start_time": "2021-06-27T13:55:59.217Z"
   },
   {
    "duration": 1390,
    "start_time": "2021-06-27T13:56:23.335Z"
   },
   {
    "duration": 1473,
    "start_time": "2021-06-27T13:58:25.531Z"
   },
   {
    "duration": 1416,
    "start_time": "2021-06-27T13:59:10.640Z"
   },
   {
    "duration": 1533,
    "start_time": "2021-06-27T14:00:10.023Z"
   },
   {
    "duration": 305,
    "start_time": "2021-06-27T14:03:11.077Z"
   },
   {
    "duration": 363,
    "start_time": "2021-06-27T14:03:40.396Z"
   },
   {
    "duration": 1415,
    "start_time": "2021-06-27T14:06:05.964Z"
   },
   {
    "duration": 342,
    "start_time": "2021-06-27T14:06:23.612Z"
   },
   {
    "duration": 312,
    "start_time": "2021-06-27T14:08:05.370Z"
   },
   {
    "duration": 355,
    "start_time": "2021-06-27T14:08:28.966Z"
   },
   {
    "duration": 346,
    "start_time": "2021-06-27T14:13:16.565Z"
   },
   {
    "duration": 77,
    "start_time": "2021-06-27T14:13:38.081Z"
   },
   {
    "duration": 7651,
    "start_time": "2021-06-27T14:13:40.324Z"
   },
   {
    "duration": 1391,
    "start_time": "2021-06-27T14:20:15.292Z"
   },
   {
    "duration": 1458,
    "start_time": "2021-06-27T14:20:32.936Z"
   },
   {
    "duration": 1178,
    "start_time": "2021-06-27T14:56:56.174Z"
   },
   {
    "duration": 1168,
    "start_time": "2021-06-27T14:57:13.256Z"
   },
   {
    "duration": 1257,
    "start_time": "2021-06-27T14:57:44.475Z"
   },
   {
    "duration": 81,
    "start_time": "2021-06-27T14:58:27.456Z"
   },
   {
    "duration": 2267,
    "start_time": "2021-06-27T14:58:30.377Z"
   },
   {
    "duration": 1279,
    "start_time": "2021-06-27T14:59:25.101Z"
   },
   {
    "duration": 7601,
    "start_time": "2021-06-27T14:59:34.743Z"
   },
   {
    "duration": 1236,
    "start_time": "2021-06-27T14:59:59.264Z"
   },
   {
    "duration": 1232,
    "start_time": "2021-06-27T15:04:17.919Z"
   },
   {
    "duration": 833,
    "start_time": "2021-06-27T15:04:31.525Z"
   },
   {
    "duration": 1394,
    "start_time": "2021-06-27T15:04:32.362Z"
   },
   {
    "duration": 252,
    "start_time": "2021-06-27T15:04:33.508Z"
   },
   {
    "duration": 244,
    "start_time": "2021-06-27T15:04:33.518Z"
   },
   {
    "duration": 389,
    "start_time": "2021-06-27T15:05:40.988Z"
   },
   {
    "duration": 901,
    "start_time": "2021-06-27T15:05:47.252Z"
   },
   {
    "duration": 1322,
    "start_time": "2021-06-27T15:05:50.481Z"
   },
   {
    "duration": 1271,
    "start_time": "2021-06-27T15:06:28.372Z"
   },
   {
    "duration": 8829,
    "start_time": "2021-06-27T15:11:54.627Z"
   },
   {
    "duration": 112,
    "start_time": "2021-06-28T19:39:24.078Z"
   },
   {
    "duration": 343,
    "start_time": "2021-06-28T19:39:31.615Z"
   },
   {
    "duration": 827,
    "start_time": "2021-06-28T19:39:36.393Z"
   },
   {
    "duration": 378,
    "start_time": "2021-06-28T19:39:40.062Z"
   },
   {
    "duration": 106,
    "start_time": "2021-06-28T19:40:54.742Z"
   },
   {
    "duration": 310,
    "start_time": "2021-06-28T19:40:59.236Z"
   },
   {
    "duration": 359,
    "start_time": "2021-06-28T19:41:40.252Z"
   },
   {
    "duration": 294,
    "start_time": "2021-06-28T19:41:48.626Z"
   },
   {
    "duration": 19,
    "start_time": "2021-06-28T19:42:27.092Z"
   },
   {
    "duration": 21,
    "start_time": "2021-06-28T19:42:47.045Z"
   },
   {
    "duration": -641,
    "start_time": "2021-06-28T19:45:04.601Z"
   },
   {
    "duration": 29,
    "start_time": "2021-06-28T19:45:28.310Z"
   },
   {
    "duration": 1295,
    "start_time": "2021-06-28T19:45:49.882Z"
   },
   {
    "duration": 8018,
    "start_time": "2021-06-28T19:46:09.983Z"
   },
   {
    "duration": 7876,
    "start_time": "2021-06-28T19:46:31.369Z"
   },
   {
    "duration": 1177,
    "start_time": "2021-06-28T19:49:23.482Z"
   },
   {
    "duration": 1459,
    "start_time": "2021-06-28T19:49:35.052Z"
   },
   {
    "duration": 1232,
    "start_time": "2021-06-28T19:49:43.108Z"
   },
   {
    "duration": 1323,
    "start_time": "2021-06-28T19:49:52.726Z"
   },
   {
    "duration": 20,
    "start_time": "2021-06-28T19:50:00.695Z"
   },
   {
    "duration": 131,
    "start_time": "2021-06-28T19:52:20.561Z"
   },
   {
    "duration": 21,
    "start_time": "2021-06-28T19:52:26.688Z"
   },
   {
    "duration": 19,
    "start_time": "2021-06-28T19:52:58.815Z"
   },
   {
    "duration": 43,
    "start_time": "2021-06-28T19:54:35.009Z"
   },
   {
    "duration": 54,
    "start_time": "2021-06-28T19:54:45.919Z"
   },
   {
    "duration": 1159,
    "start_time": "2021-06-28T19:59:33.416Z"
   },
   {
    "duration": 329,
    "start_time": "2021-06-28T20:00:14.006Z"
   },
   {
    "duration": 364,
    "start_time": "2021-06-28T20:05:35.433Z"
   },
   {
    "duration": 312,
    "start_time": "2021-06-28T20:05:42.858Z"
   },
   {
    "duration": 310,
    "start_time": "2021-06-28T20:06:40.730Z"
   },
   {
    "duration": 865,
    "start_time": "2021-06-28T20:07:31.116Z"
   },
   {
    "duration": 788,
    "start_time": "2021-06-28T20:07:52.344Z"
   },
   {
    "duration": 804,
    "start_time": "2021-06-28T20:09:21.754Z"
   },
   {
    "duration": 892,
    "start_time": "2021-06-28T20:09:30.465Z"
   },
   {
    "duration": 304,
    "start_time": "2021-06-28T20:12:38.301Z"
   },
   {
    "duration": 475,
    "start_time": "2021-06-28T20:12:45.866Z"
   },
   {
    "duration": 295,
    "start_time": "2021-06-28T20:15:41.153Z"
   },
   {
    "duration": 344,
    "start_time": "2021-06-28T20:16:03.859Z"
   },
   {
    "duration": 308,
    "start_time": "2021-06-28T20:16:42.827Z"
   },
   {
    "duration": 532,
    "start_time": "2021-06-28T20:18:43.878Z"
   },
   {
    "duration": 325,
    "start_time": "2021-06-28T20:19:28.697Z"
   },
   {
    "duration": 1322,
    "start_time": "2021-06-28T20:19:36.756Z"
   },
   {
    "duration": 1180,
    "start_time": "2021-06-28T20:20:30.673Z"
   },
   {
    "duration": 314,
    "start_time": "2021-06-28T20:20:42.959Z"
   },
   {
    "duration": 354,
    "start_time": "2021-06-28T20:26:49.218Z"
   },
   {
    "duration": 42,
    "start_time": "2021-06-28T20:26:57.932Z"
   },
   {
    "duration": 36,
    "start_time": "2021-06-28T20:27:20.871Z"
   },
   {
    "duration": 37,
    "start_time": "2021-06-28T20:27:42.279Z"
   },
   {
    "duration": 41,
    "start_time": "2021-06-28T20:28:30.811Z"
   },
   {
    "duration": 332,
    "start_time": "2021-06-28T20:29:14.725Z"
   },
   {
    "duration": 355,
    "start_time": "2021-06-28T20:29:33.377Z"
   },
   {
    "duration": 321,
    "start_time": "2021-06-28T20:29:55.344Z"
   },
   {
    "duration": 82,
    "start_time": "2021-06-28T20:30:05.064Z"
   },
   {
    "duration": 38,
    "start_time": "2021-06-28T20:30:08.985Z"
   },
   {
    "duration": 112,
    "start_time": "2021-06-28T20:34:34.687Z"
   },
   {
    "duration": 123,
    "start_time": "2021-06-28T20:34:51.969Z"
   },
   {
    "duration": 112,
    "start_time": "2021-06-28T20:35:16.332Z"
   },
   {
    "duration": 43,
    "start_time": "2021-06-28T20:35:27.043Z"
   },
   {
    "duration": 83,
    "start_time": "2021-06-28T20:35:50.753Z"
   },
   {
    "duration": 30,
    "start_time": "2021-06-28T20:36:05.185Z"
   },
   {
    "duration": 33,
    "start_time": "2021-06-28T20:36:25.946Z"
   },
   {
    "duration": 79,
    "start_time": "2021-06-28T20:38:53.570Z"
   },
   {
    "duration": 37,
    "start_time": "2021-06-28T20:49:13.899Z"
   },
   {
    "duration": 48,
    "start_time": "2021-06-28T20:49:51.903Z"
   },
   {
    "duration": 47,
    "start_time": "2021-06-28T20:50:07.312Z"
   },
   {
    "duration": 18,
    "start_time": "2021-06-28T21:10:47.556Z"
   },
   {
    "duration": 17,
    "start_time": "2021-06-28T21:22:13.250Z"
   },
   {
    "duration": 285,
    "start_time": "2021-06-28T21:27:46.688Z"
   },
   {
    "duration": 296,
    "start_time": "2021-06-28T21:28:19.343Z"
   },
   {
    "duration": 336,
    "start_time": "2021-06-28T21:28:52.879Z"
   },
   {
    "duration": 46,
    "start_time": "2021-06-28T21:29:22.879Z"
   },
   {
    "duration": 48,
    "start_time": "2021-06-28T21:29:35.721Z"
   },
   {
    "duration": -322,
    "start_time": "2021-06-28T21:29:54.806Z"
   },
   {
    "duration": 8400,
    "start_time": "2021-06-28T21:30:04.294Z"
   },
   {
    "duration": 53,
    "start_time": "2021-06-28T21:30:38.279Z"
   },
   {
    "duration": 39,
    "start_time": "2021-06-28T21:30:51.261Z"
   },
   {
    "duration": 42,
    "start_time": "2021-06-28T21:31:57.895Z"
   },
   {
    "duration": 305,
    "start_time": "2021-06-28T21:33:48.600Z"
   },
   {
    "duration": 279,
    "start_time": "2021-06-28T21:33:55.990Z"
   },
   {
    "duration": 40,
    "start_time": "2021-06-28T21:34:03.552Z"
   },
   {
    "duration": 39,
    "start_time": "2021-06-28T21:35:39.670Z"
   },
   {
    "duration": 33,
    "start_time": "2021-06-28T21:35:58.819Z"
   },
   {
    "duration": 56,
    "start_time": "2021-06-28T21:37:08.011Z"
   },
   {
    "duration": 83,
    "start_time": "2021-06-28T21:37:29.957Z"
   },
   {
    "duration": 86,
    "start_time": "2021-06-28T21:45:00.648Z"
   },
   {
    "duration": 9,
    "start_time": "2021-06-28T21:50:06.819Z"
   },
   {
    "duration": 344,
    "start_time": "2021-06-28T21:51:59.605Z"
   },
   {
    "duration": 356,
    "start_time": "2021-06-28T21:52:25.752Z"
   },
   {
    "duration": 2002,
    "start_time": "2021-06-28T21:57:25.848Z"
   },
   {
    "duration": 1476,
    "start_time": "2021-06-28T22:04:50.510Z"
   },
   {
    "duration": 1297,
    "start_time": "2021-06-28T22:05:08.198Z"
   },
   {
    "duration": 4475,
    "start_time": "2021-06-28T22:05:28.171Z"
   },
   {
    "duration": 4517,
    "start_time": "2021-06-28T22:08:45.210Z"
   },
   {
    "duration": 4606,
    "start_time": "2021-06-28T22:08:58.008Z"
   },
   {
    "duration": 4529,
    "start_time": "2021-06-28T22:09:22.918Z"
   },
   {
    "duration": 4491,
    "start_time": "2021-06-28T22:09:44.011Z"
   },
   {
    "duration": 4521,
    "start_time": "2021-06-28T22:09:59.092Z"
   },
   {
    "duration": 4517,
    "start_time": "2021-06-28T22:10:49.016Z"
   },
   {
    "duration": 4521,
    "start_time": "2021-06-28T22:10:55.780Z"
   },
   {
    "duration": 5741,
    "start_time": "2021-06-28T22:13:30.975Z"
   },
   {
    "duration": 4936,
    "start_time": "2021-06-28T22:14:05.081Z"
   },
   {
    "duration": 4995,
    "start_time": "2021-06-28T22:14:24.957Z"
   },
   {
    "duration": 5043,
    "start_time": "2021-06-28T22:16:05.378Z"
   },
   {
    "duration": 5100,
    "start_time": "2021-06-28T22:16:39.763Z"
   },
   {
    "duration": 4992,
    "start_time": "2021-06-28T22:18:11.131Z"
   },
   {
    "duration": 5083,
    "start_time": "2021-06-28T22:18:29.520Z"
   },
   {
    "duration": 5083,
    "start_time": "2021-06-28T22:18:37.565Z"
   },
   {
    "duration": 4558,
    "start_time": "2021-06-28T22:19:31.441Z"
   },
   {
    "duration": 4492,
    "start_time": "2021-06-28T22:19:47.307Z"
   },
   {
    "duration": 117,
    "start_time": "2021-06-28T22:21:53.860Z"
   },
   {
    "duration": 104,
    "start_time": "2021-06-28T22:22:15.626Z"
   },
   {
    "duration": 129,
    "start_time": "2021-06-28T22:22:28.524Z"
   },
   {
    "duration": 92,
    "start_time": "2021-06-28T22:22:37.903Z"
   },
   {
    "duration": 97,
    "start_time": "2021-06-28T22:22:43.381Z"
   },
   {
    "duration": 94,
    "start_time": "2021-06-28T22:23:00.585Z"
   },
   {
    "duration": 126,
    "start_time": "2021-06-28T22:23:04.380Z"
   },
   {
    "duration": 107,
    "start_time": "2021-06-28T22:23:09.692Z"
   },
   {
    "duration": 5643,
    "start_time": "2021-06-28T22:23:12.468Z"
   },
   {
    "duration": 5688,
    "start_time": "2021-06-28T22:23:33.256Z"
   },
   {
    "duration": 5618,
    "start_time": "2021-06-28T22:23:53.492Z"
   },
   {
    "duration": 5757,
    "start_time": "2021-06-28T22:24:04.795Z"
   },
   {
    "duration": 328,
    "start_time": "2021-06-28T22:42:16.792Z"
   },
   {
    "duration": 8,
    "start_time": "2021-06-28T22:42:23.047Z"
   },
   {
    "duration": 9,
    "start_time": "2021-06-28T22:42:30.098Z"
   },
   {
    "duration": 107,
    "start_time": "2021-06-28T22:53:26.735Z"
   },
   {
    "duration": 91,
    "start_time": "2021-06-28T22:53:40.838Z"
   },
   {
    "duration": 110,
    "start_time": "2021-06-28T22:53:45.386Z"
   },
   {
    "duration": 90,
    "start_time": "2021-06-28T22:54:28.343Z"
   },
   {
    "duration": 111,
    "start_time": "2021-06-28T22:54:52.749Z"
   },
   {
    "duration": 97,
    "start_time": "2021-06-28T22:55:08.947Z"
   },
   {
    "duration": 96,
    "start_time": "2021-06-28T22:55:19.530Z"
   },
   {
    "duration": 564,
    "start_time": "2021-06-28T22:55:43.553Z"
   },
   {
    "duration": 533,
    "start_time": "2021-06-28T22:56:25.898Z"
   },
   {
    "duration": 501,
    "start_time": "2021-06-28T22:56:35.960Z"
   },
   {
    "duration": 578,
    "start_time": "2021-06-28T22:56:48.603Z"
   },
   {
    "duration": 7772,
    "start_time": "2021-06-28T22:57:30.505Z"
   },
   {
    "duration": 7793,
    "start_time": "2021-06-28T22:57:55.916Z"
   },
   {
    "duration": 548,
    "start_time": "2021-06-28T22:58:13.250Z"
   },
   {
    "duration": 620,
    "start_time": "2021-06-28T23:04:09.303Z"
   },
   {
    "duration": 599,
    "start_time": "2021-06-28T23:07:01.719Z"
   },
   {
    "duration": 594,
    "start_time": "2021-06-28T23:07:17.189Z"
   },
   {
    "duration": 601,
    "start_time": "2021-06-28T23:08:49.642Z"
   },
   {
    "duration": 621,
    "start_time": "2021-06-28T23:08:58.147Z"
   },
   {
    "duration": 9,
    "start_time": "2021-06-28T23:09:47.474Z"
   },
   {
    "duration": 10,
    "start_time": "2021-06-28T23:09:53.045Z"
   },
   {
    "duration": 627,
    "start_time": "2021-06-28T23:17:03.582Z"
   },
   {
    "duration": 706,
    "start_time": "2021-06-28T23:17:19.525Z"
   },
   {
    "duration": 598,
    "start_time": "2021-06-28T23:18:10.627Z"
   },
   {
    "duration": 604,
    "start_time": "2021-06-28T23:18:30.891Z"
   },
   {
    "duration": 605,
    "start_time": "2021-06-28T23:19:01.667Z"
   },
   {
    "duration": 95,
    "start_time": "2021-06-28T23:25:02.190Z"
   },
   {
    "duration": 591,
    "start_time": "2021-06-28T23:25:07.335Z"
   },
   {
    "duration": 599,
    "start_time": "2021-06-28T23:25:20.770Z"
   },
   {
    "duration": 144,
    "start_time": "2021-06-28T23:26:06.826Z"
   },
   {
    "duration": 94,
    "start_time": "2021-06-28T23:26:19.504Z"
   },
   {
    "duration": 120,
    "start_time": "2021-06-28T23:26:24.295Z"
   },
   {
    "duration": 106,
    "start_time": "2021-06-28T23:26:28.236Z"
   },
   {
    "duration": 117,
    "start_time": "2021-06-28T23:26:40.459Z"
   },
   {
    "duration": 83,
    "start_time": "2021-06-28T23:26:45.315Z"
   },
   {
    "duration": 47,
    "start_time": "2021-06-28T23:26:48.061Z"
   },
   {
    "duration": 18,
    "start_time": "2021-06-28T23:26:50.777Z"
   },
   {
    "duration": 79,
    "start_time": "2021-06-28T23:26:52.495Z"
   },
   {
    "duration": 5857,
    "start_time": "2021-06-28T23:26:53.899Z"
   },
   {
    "duration": 261,
    "start_time": "2021-06-28T23:27:01.533Z"
   },
   {
    "duration": 601,
    "start_time": "2021-06-28T23:27:17.023Z"
   },
   {
    "duration": 9451,
    "start_time": "2021-06-28T23:27:26.845Z"
   },
   {
    "duration": 611,
    "start_time": "2021-06-28T23:27:45.484Z"
   },
   {
    "duration": 344,
    "start_time": "2021-06-28T23:31:30.357Z"
   },
   {
    "duration": 603,
    "start_time": "2021-06-28T23:31:41.202Z"
   },
   {
    "duration": 6,
    "start_time": "2021-06-28T23:31:43.814Z"
   },
   {
    "duration": 5,
    "start_time": "2021-06-28T23:32:09.609Z"
   },
   {
    "duration": 357,
    "start_time": "2021-06-28T23:33:21.815Z"
   },
   {
    "duration": 6,
    "start_time": "2021-06-28T23:34:28.247Z"
   },
   {
    "duration": 4,
    "start_time": "2021-06-28T23:34:35.726Z"
   },
   {
    "duration": 382,
    "start_time": "2021-06-28T23:35:21.732Z"
   },
   {
    "duration": 5,
    "start_time": "2021-06-28T23:35:35.985Z"
   },
   {
    "duration": 1187,
    "start_time": "2021-06-28T23:42:11.500Z"
   },
   {
    "duration": 1211,
    "start_time": "2021-06-28T23:42:24.798Z"
   },
   {
    "duration": 7,
    "start_time": "2021-06-28T23:45:59.885Z"
   },
   {
    "duration": 1290,
    "start_time": "2021-06-28T23:46:48.093Z"
   },
   {
    "duration": 1147,
    "start_time": "2021-06-28T23:47:18.489Z"
   },
   {
    "duration": 311,
    "start_time": "2021-06-28T23:49:53.481Z"
   },
   {
    "duration": 1190,
    "start_time": "2021-06-28T23:50:03.301Z"
   },
   {
    "duration": 5,
    "start_time": "2021-06-28T23:50:07.325Z"
   },
   {
    "duration": 353,
    "start_time": "2021-06-29T07:58:08.965Z"
   },
   {
    "duration": 826,
    "start_time": "2021-06-29T07:58:26.773Z"
   },
   {
    "duration": 47,
    "start_time": "2021-06-29T07:58:29.414Z"
   },
   {
    "duration": 25,
    "start_time": "2021-06-29T07:58:31.666Z"
   },
   {
    "duration": 78,
    "start_time": "2021-06-29T07:58:33.883Z"
   },
   {
    "duration": 5454,
    "start_time": "2021-06-29T07:58:35.167Z"
   },
   {
    "duration": 1210,
    "start_time": "2021-06-29T07:58:40.624Z"
   },
   {
    "duration": 18,
    "start_time": "2021-06-29T07:58:56.210Z"
   },
   {
    "duration": 1280,
    "start_time": "2021-06-29T07:59:01.626Z"
   },
   {
    "duration": 1200,
    "start_time": "2021-06-29T07:59:19.045Z"
   },
   {
    "duration": 18,
    "start_time": "2021-06-29T07:59:32.756Z"
   },
   {
    "duration": 18,
    "start_time": "2021-06-29T07:59:42.623Z"
   },
   {
    "duration": 17,
    "start_time": "2021-06-29T07:59:54.899Z"
   },
   {
    "duration": 88,
    "start_time": "2021-06-29T08:00:16.686Z"
   },
   {
    "duration": 5459,
    "start_time": "2021-06-29T08:00:18.368Z"
   },
   {
    "duration": 1305,
    "start_time": "2021-06-29T08:00:23.830Z"
   },
   {
    "duration": 1196,
    "start_time": "2021-06-29T08:01:05.030Z"
   },
   {
    "duration": 1199,
    "start_time": "2021-06-29T08:01:20.002Z"
   },
   {
    "duration": 1797,
    "start_time": "2021-06-29T08:06:48.414Z"
   },
   {
    "duration": 1806,
    "start_time": "2021-06-29T08:07:03.561Z"
   },
   {
    "duration": 112,
    "start_time": "2021-06-29T08:07:17.112Z"
   },
   {
    "duration": 2239,
    "start_time": "2021-06-29T08:07:20.533Z"
   },
   {
    "duration": 1791,
    "start_time": "2021-06-29T08:07:46.432Z"
   },
   {
    "duration": 296,
    "start_time": "2021-06-29T08:09:53.379Z"
   },
   {
    "duration": 1800,
    "start_time": "2021-06-29T08:09:59.315Z"
   },
   {
    "duration": 6,
    "start_time": "2021-06-29T08:10:01.649Z"
   },
   {
    "duration": 4,
    "start_time": "2021-06-29T08:10:21.304Z"
   },
   {
    "duration": 4,
    "start_time": "2021-06-29T08:10:28.073Z"
   },
   {
    "duration": 5,
    "start_time": "2021-06-29T08:10:35.086Z"
   },
   {
    "duration": 5,
    "start_time": "2021-06-29T08:10:41.738Z"
   },
   {
    "duration": 6,
    "start_time": "2021-06-29T08:27:36.083Z"
   },
   {
    "duration": 5,
    "start_time": "2021-06-29T08:27:38.564Z"
   },
   {
    "duration": 4,
    "start_time": "2021-06-29T08:27:49.365Z"
   },
   {
    "duration": 4,
    "start_time": "2021-06-29T08:28:23.609Z"
   },
   {
    "duration": 282,
    "start_time": "2021-06-29T08:28:57.988Z"
   },
   {
    "duration": 5555,
    "start_time": "2021-06-29T08:29:13.825Z"
   },
   {
    "duration": 141,
    "start_time": "2021-06-29T08:29:29.031Z"
   },
   {
    "duration": 28,
    "start_time": "2021-06-29T08:29:32.278Z"
   },
   {
    "duration": 357,
    "start_time": "2021-06-29T08:29:51.413Z"
   },
   {
    "duration": 8507,
    "start_time": "2021-06-29T08:29:56.530Z"
   },
   {
    "duration": 8042,
    "start_time": "2021-06-29T08:30:26.169Z"
   },
   {
    "duration": 8414,
    "start_time": "2021-06-29T08:30:57.337Z"
   },
   {
    "duration": 333,
    "start_time": "2021-06-29T08:31:13.294Z"
   },
   {
    "duration": 100,
    "start_time": "2021-06-29T08:32:06.867Z"
   },
   {
    "duration": 5,
    "start_time": "2021-06-29T08:32:42.703Z"
   },
   {
    "duration": 5,
    "start_time": "2021-06-29T08:32:51.302Z"
   },
   {
    "duration": 5,
    "start_time": "2021-06-29T08:32:58.435Z"
   },
   {
    "duration": 5639,
    "start_time": "2021-06-29T08:34:04.246Z"
   },
   {
    "duration": 129,
    "start_time": "2021-06-29T08:35:30.509Z"
   },
   {
    "duration": 92,
    "start_time": "2021-06-29T08:35:39.690Z"
   },
   {
    "duration": 5665,
    "start_time": "2021-06-29T08:35:42.343Z"
   },
   {
    "duration": 290,
    "start_time": "2021-06-29T08:35:54.568Z"
   },
   {
    "duration": 10,
    "start_time": "2021-06-29T08:36:42.761Z"
   },
   {
    "duration": 7,
    "start_time": "2021-06-29T08:39:49.047Z"
   },
   {
    "duration": 10,
    "start_time": "2021-06-29T08:40:00.716Z"
   },
   {
    "duration": 11,
    "start_time": "2021-06-29T08:40:23.124Z"
   },
   {
    "duration": 11,
    "start_time": "2021-06-29T08:40:45.554Z"
   },
   {
    "duration": 1802,
    "start_time": "2021-06-29T08:47:51.273Z"
   },
   {
    "duration": 5,
    "start_time": "2021-06-29T08:47:55.482Z"
   },
   {
    "duration": 4,
    "start_time": "2021-06-29T08:48:00.936Z"
   },
   {
    "duration": 6,
    "start_time": "2021-06-29T08:48:45.689Z"
   },
   {
    "duration": 4,
    "start_time": "2021-06-29T08:48:47.546Z"
   },
   {
    "duration": 1790,
    "start_time": "2021-06-29T08:53:55.353Z"
   },
   {
    "duration": 4,
    "start_time": "2021-06-29T08:54:00.714Z"
   },
   {
    "duration": 5,
    "start_time": "2021-06-29T08:54:02.147Z"
   },
   {
    "duration": 1862,
    "start_time": "2021-06-29T08:54:15.405Z"
   },
   {
    "duration": 1818,
    "start_time": "2021-06-29T08:54:24.585Z"
   },
   {
    "duration": 1793,
    "start_time": "2021-06-29T08:55:27.845Z"
   },
   {
    "duration": 1813,
    "start_time": "2021-06-29T08:56:23.455Z"
   },
   {
    "duration": 4,
    "start_time": "2021-06-29T09:00:41.480Z"
   },
   {
    "duration": 844,
    "start_time": "2021-06-29T18:44:00.968Z"
   },
   {
    "duration": 61,
    "start_time": "2021-06-29T18:44:01.815Z"
   },
   {
    "duration": 20,
    "start_time": "2021-06-29T18:44:01.880Z"
   },
   {
    "duration": 109,
    "start_time": "2021-06-29T18:44:01.902Z"
   },
   {
    "duration": 6102,
    "start_time": "2021-06-29T18:44:02.014Z"
   },
   {
    "duration": 1848,
    "start_time": "2021-06-29T18:44:08.119Z"
   },
   {
    "duration": 5,
    "start_time": "2021-06-29T18:44:09.969Z"
   },
   {
    "duration": 12,
    "start_time": "2021-06-29T18:44:09.977Z"
   },
   {
    "duration": 27,
    "start_time": "2021-06-29T18:44:09.991Z"
   },
   {
    "duration": 19,
    "start_time": "2021-06-29T18:44:10.021Z"
   },
   {
    "duration": 300,
    "start_time": "2021-06-30T12:34:15.892Z"
   },
   {
    "duration": 804,
    "start_time": "2021-06-30T12:34:23.543Z"
   },
   {
    "duration": 46,
    "start_time": "2021-06-30T12:34:28.555Z"
   },
   {
    "duration": 20,
    "start_time": "2021-06-30T12:34:30.895Z"
   },
   {
    "duration": 84,
    "start_time": "2021-06-30T12:34:33.879Z"
   },
   {
    "duration": 5279,
    "start_time": "2021-06-30T12:34:37.630Z"
   },
   {
    "duration": 1696,
    "start_time": "2021-06-30T12:34:48.114Z"
   },
   {
    "duration": 1650,
    "start_time": "2021-06-30T12:34:58.071Z"
   },
   {
    "duration": 2395,
    "start_time": "2021-06-30T12:35:16.730Z"
   },
   {
    "duration": 2165,
    "start_time": "2021-06-30T12:35:26.921Z"
   },
   {
    "duration": 1937,
    "start_time": "2021-06-30T12:35:33.481Z"
   },
   {
    "duration": 1750,
    "start_time": "2021-06-30T12:35:47.505Z"
   },
   {
    "duration": 1757,
    "start_time": "2021-06-30T12:35:55.219Z"
   },
   {
    "duration": 1884,
    "start_time": "2021-06-30T12:42:14.100Z"
   },
   {
    "duration": 1994,
    "start_time": "2021-06-30T12:42:22.854Z"
   },
   {
    "duration": 1873,
    "start_time": "2021-06-30T12:42:31.071Z"
   },
   {
    "duration": 1768,
    "start_time": "2021-06-30T12:51:29.593Z"
   },
   {
    "duration": 1802,
    "start_time": "2021-06-30T12:52:43.435Z"
   },
   {
    "duration": -280,
    "start_time": "2021-06-30T13:08:15.311Z"
   },
   {
    "duration": -281,
    "start_time": "2021-06-30T13:08:15.315Z"
   },
   {
    "duration": 80,
    "start_time": "2021-06-30T13:08:54.959Z"
   },
   {
    "duration": 78,
    "start_time": "2021-06-30T13:08:56.156Z"
   },
   {
    "duration": 44,
    "start_time": "2021-06-30T13:08:58.668Z"
   },
   {
    "duration": 19,
    "start_time": "2021-06-30T13:09:01.670Z"
   },
   {
    "duration": 81,
    "start_time": "2021-06-30T13:09:04.889Z"
   },
   {
    "duration": 5401,
    "start_time": "2021-06-30T13:09:07.334Z"
   },
   {
    "duration": 1103,
    "start_time": "2021-06-30T13:09:29.021Z"
   },
   {
    "duration": 1124,
    "start_time": "2021-06-30T13:09:39.102Z"
   },
   {
    "duration": 7109,
    "start_time": "2021-06-30T13:10:21.842Z"
   },
   {
    "duration": 29042,
    "start_time": "2021-06-30T13:10:42.313Z"
   },
   {
    "duration": 101663,
    "start_time": "2021-06-30T13:13:26.488Z"
   },
   {
    "duration": 121460,
    "start_time": "2021-06-30T13:23:28.923Z"
   },
   {
    "duration": 7910,
    "start_time": "2021-06-30T13:31:08.583Z"
   },
   {
    "duration": 9,
    "start_time": "2021-06-30T13:31:38.752Z"
   },
   {
    "duration": 7155,
    "start_time": "2021-06-30T13:31:52.613Z"
   },
   {
    "duration": 7655,
    "start_time": "2021-06-30T13:32:21.766Z"
   },
   {
    "duration": 1355,
    "start_time": "2021-06-30T13:33:30.014Z"
   },
   {
    "duration": 5958,
    "start_time": "2021-06-30T13:34:31.744Z"
   },
   {
    "duration": 94,
    "start_time": "2021-06-30T13:34:54.734Z"
   },
   {
    "duration": 1166,
    "start_time": "2021-06-30T13:35:01.931Z"
   },
   {
    "duration": 1115,
    "start_time": "2021-06-30T13:35:51.285Z"
   },
   {
    "duration": 8031,
    "start_time": "2021-06-30T13:35:57.690Z"
   },
   {
    "duration": 1224,
    "start_time": "2021-06-30T13:36:11.001Z"
   },
   {
    "duration": 2849,
    "start_time": "2021-06-30T13:36:21.408Z"
   },
   {
    "duration": 7694,
    "start_time": "2021-06-30T13:36:25.920Z"
   },
   {
    "duration": 3943,
    "start_time": "2021-06-30T13:36:40.718Z"
   },
   {
    "duration": 167,
    "start_time": "2021-06-30T13:37:36.189Z"
   },
   {
    "duration": 1449,
    "start_time": "2021-06-30T13:37:43.668Z"
   },
   {
    "duration": 1195,
    "start_time": "2021-06-30T13:38:03.441Z"
   },
   {
    "duration": 1176,
    "start_time": "2021-06-30T13:38:09.907Z"
   },
   {
    "duration": 1246,
    "start_time": "2021-06-30T13:40:23.654Z"
   },
   {
    "duration": 188311,
    "start_time": "2021-06-30T13:40:40.901Z"
   },
   {
    "duration": 93,
    "start_time": "2021-06-30T13:48:12.410Z"
   },
   {
    "duration": 1742,
    "start_time": "2021-06-30T13:48:15.723Z"
   },
   {
    "duration": 1464,
    "start_time": "2021-06-30T13:49:00.481Z"
   },
   {
    "duration": 1855,
    "start_time": "2021-06-30T13:49:24.780Z"
   },
   {
    "duration": 1521,
    "start_time": "2021-06-30T13:49:50.081Z"
   },
   {
    "duration": 4757,
    "start_time": "2021-06-30T13:49:58.259Z"
   },
   {
    "duration": 5305,
    "start_time": "2021-06-30T13:50:18.792Z"
   },
   {
    "duration": 5101,
    "start_time": "2021-06-30T13:51:12.894Z"
   },
   {
    "duration": 1557,
    "start_time": "2021-06-30T13:52:30.764Z"
   },
   {
    "duration": 2144,
    "start_time": "2021-06-30T13:52:59.061Z"
   },
   {
    "duration": 2054,
    "start_time": "2021-06-30T13:53:46.154Z"
   },
   {
    "duration": 1245,
    "start_time": "2021-06-30T13:53:56.010Z"
   },
   {
    "duration": 1657,
    "start_time": "2021-06-30T13:54:09.047Z"
   },
   {
    "duration": 1644,
    "start_time": "2021-06-30T13:56:16.499Z"
   },
   {
    "duration": 97,
    "start_time": "2021-06-30T14:39:53.655Z"
   },
   {
    "duration": 120988,
    "start_time": "2021-06-30T14:39:56.750Z"
   },
   {
    "duration": 273,
    "start_time": "2021-06-30T14:45:31.468Z"
   },
   {
    "duration": 306,
    "start_time": "2021-06-30T14:45:40.671Z"
   },
   {
    "duration": 276,
    "start_time": "2021-06-30T14:46:25.811Z"
   },
   {
    "duration": 53,
    "start_time": "2021-06-30T14:46:39.982Z"
   },
   {
    "duration": 65,
    "start_time": "2021-06-30T14:46:51.878Z"
   },
   {
    "duration": 266,
    "start_time": "2021-06-30T14:47:44.426Z"
   },
   {
    "duration": 44,
    "start_time": "2021-06-30T14:47:53.277Z"
   },
   {
    "duration": 266,
    "start_time": "2021-06-30T14:49:18.916Z"
   },
   {
    "duration": 277,
    "start_time": "2021-06-30T14:49:25.049Z"
   },
   {
    "duration": 26,
    "start_time": "2021-06-30T14:49:31.955Z"
   },
   {
    "duration": 273,
    "start_time": "2021-06-30T14:53:59.376Z"
   },
   {
    "duration": 26,
    "start_time": "2021-06-30T14:54:03.617Z"
   },
   {
    "duration": 32,
    "start_time": "2021-06-30T14:55:35.168Z"
   },
   {
    "duration": 358,
    "start_time": "2021-06-30T14:56:13.883Z"
   },
   {
    "duration": 257,
    "start_time": "2021-06-30T14:56:39.197Z"
   },
   {
    "duration": 18,
    "start_time": "2021-06-30T14:56:48.911Z"
   },
   {
    "duration": 16,
    "start_time": "2021-06-30T14:56:55.299Z"
   },
   {
    "duration": 17,
    "start_time": "2021-06-30T14:57:28.926Z"
   },
   {
    "duration": 5,
    "start_time": "2021-06-30T14:57:39.852Z"
   },
   {
    "duration": 10,
    "start_time": "2021-06-30T14:57:45.027Z"
   },
   {
    "duration": 248,
    "start_time": "2021-06-30T14:58:03.719Z"
   },
   {
    "duration": 9,
    "start_time": "2021-06-30T14:58:18.048Z"
   },
   {
    "duration": 11,
    "start_time": "2021-06-30T14:59:03.004Z"
   },
   {
    "duration": 8,
    "start_time": "2021-06-30T14:59:12.345Z"
   },
   {
    "duration": 275,
    "start_time": "2021-06-30T15:00:09.383Z"
   },
   {
    "duration": 254,
    "start_time": "2021-06-30T15:00:20.022Z"
   },
   {
    "duration": 246,
    "start_time": "2021-06-30T15:00:40.361Z"
   },
   {
    "duration": 28,
    "start_time": "2021-06-30T15:01:34.597Z"
   },
   {
    "duration": 19,
    "start_time": "2021-06-30T15:01:54.212Z"
   },
   {
    "duration": 35,
    "start_time": "2021-06-30T15:02:04.127Z"
   },
   {
    "duration": 20,
    "start_time": "2021-06-30T15:02:15.412Z"
   },
   {
    "duration": 430,
    "start_time": "2021-06-30T15:02:31.183Z"
   },
   {
    "duration": 29,
    "start_time": "2021-06-30T15:02:39.619Z"
   },
   {
    "duration": 92,
    "start_time": "2021-06-30T15:02:49.437Z"
   },
   {
    "duration": 19,
    "start_time": "2021-06-30T15:03:01.528Z"
   },
   {
    "duration": 18,
    "start_time": "2021-06-30T15:03:17.767Z"
   },
   {
    "duration": 16,
    "start_time": "2021-06-30T15:05:41.187Z"
   },
   {
    "duration": 103,
    "start_time": "2021-06-30T15:09:22.738Z"
   },
   {
    "duration": 85,
    "start_time": "2021-06-30T15:09:37.148Z"
   },
   {
    "duration": 91,
    "start_time": "2021-06-30T15:09:47.067Z"
   },
   {
    "duration": 87,
    "start_time": "2021-06-30T15:09:53.456Z"
   },
   {
    "duration": 96,
    "start_time": "2021-06-30T15:10:13.735Z"
   },
   {
    "duration": 90,
    "start_time": "2021-06-30T15:10:15.996Z"
   },
   {
    "duration": 89,
    "start_time": "2021-06-30T15:10:17.919Z"
   },
   {
    "duration": 87,
    "start_time": "2021-06-30T15:10:32.800Z"
   },
   {
    "duration": 85,
    "start_time": "2021-06-30T15:10:43.983Z"
   },
   {
    "duration": 6530,
    "start_time": "2021-06-30T15:11:10.528Z"
   },
   {
    "duration": 84,
    "start_time": "2021-06-30T15:11:31.157Z"
   },
   {
    "duration": 6047,
    "start_time": "2021-06-30T15:11:35.620Z"
   },
   {
    "duration": 275,
    "start_time": "2021-06-30T15:12:09.362Z"
   },
   {
    "duration": 17,
    "start_time": "2021-06-30T15:12:22.294Z"
   },
   {
    "duration": 267,
    "start_time": "2021-06-30T15:12:34.714Z"
   },
   {
    "duration": 318,
    "start_time": "2021-06-30T15:12:55.393Z"
   },
   {
    "duration": 4899,
    "start_time": "2021-06-30T15:17:59.042Z"
   },
   {
    "duration": 4667,
    "start_time": "2021-06-30T15:18:05.423Z"
   },
   {
    "duration": 4709,
    "start_time": "2021-06-30T15:18:17.662Z"
   },
   {
    "duration": 4919,
    "start_time": "2021-06-30T15:18:28.880Z"
   },
   {
    "duration": 4770,
    "start_time": "2021-06-30T15:18:56.603Z"
   },
   {
    "duration": 276,
    "start_time": "2021-06-30T15:19:37.019Z"
   },
   {
    "duration": 21,
    "start_time": "2021-06-30T15:20:07.528Z"
   },
   {
    "duration": 753,
    "start_time": "2021-06-30T15:22:50.466Z"
   },
   {
    "duration": 282,
    "start_time": "2021-06-30T15:24:12.935Z"
   },
   {
    "duration": 261,
    "start_time": "2021-06-30T15:29:35.107Z"
   },
   {
    "duration": 274,
    "start_time": "2021-06-30T15:29:49.148Z"
   },
   {
    "duration": 269,
    "start_time": "2021-06-30T15:30:23.253Z"
   },
   {
    "duration": 263,
    "start_time": "2021-06-30T15:30:34.788Z"
   },
   {
    "duration": 283,
    "start_time": "2021-06-30T15:31:59.833Z"
   },
   {
    "duration": 267,
    "start_time": "2021-06-30T15:32:10.343Z"
   },
   {
    "duration": 18,
    "start_time": "2021-06-30T15:33:56.828Z"
   },
   {
    "duration": 19,
    "start_time": "2021-06-30T15:34:10.288Z"
   },
   {
    "duration": 20,
    "start_time": "2021-06-30T15:34:20.912Z"
   },
   {
    "duration": 32,
    "start_time": "2021-06-30T15:34:34.184Z"
   },
   {
    "duration": 17,
    "start_time": "2021-06-30T15:34:42.020Z"
   },
   {
    "duration": 261,
    "start_time": "2021-06-30T16:01:33.801Z"
   },
   {
    "duration": 329,
    "start_time": "2021-06-30T16:01:45.679Z"
   },
   {
    "duration": 283,
    "start_time": "2021-06-30T16:02:11.571Z"
   },
   {
    "duration": 19,
    "start_time": "2021-06-30T16:02:17.343Z"
   },
   {
    "duration": 22,
    "start_time": "2021-06-30T16:03:45.609Z"
   },
   {
    "duration": 20,
    "start_time": "2021-06-30T16:03:54.900Z"
   },
   {
    "duration": 597,
    "start_time": "2021-06-30T16:05:53.028Z"
   },
   {
    "duration": 24,
    "start_time": "2021-06-30T16:05:59.720Z"
   },
   {
    "duration": 36,
    "start_time": "2021-06-30T16:07:02.577Z"
   },
   {
    "duration": 120269,
    "start_time": "2021-06-30T16:12:51.134Z"
   },
   {
    "duration": 120978,
    "start_time": "2021-06-30T16:15:04.487Z"
   },
   {
    "duration": 124102,
    "start_time": "2021-06-30T16:19:16.623Z"
   },
   {
    "duration": 795,
    "start_time": "2021-07-01T07:22:53.425Z"
   },
   {
    "duration": 43,
    "start_time": "2021-07-01T07:22:54.223Z"
   },
   {
    "duration": 35,
    "start_time": "2021-07-01T07:22:54.269Z"
   },
   {
    "duration": 96,
    "start_time": "2021-07-01T07:22:54.306Z"
   },
   {
    "duration": 5463,
    "start_time": "2021-07-01T07:22:54.404Z"
   },
   {
    "duration": 125904,
    "start_time": "2021-07-01T07:22:59.871Z"
   },
   {
    "duration": 42,
    "start_time": "2021-07-01T07:25:05.778Z"
   },
   {
    "duration": 4,
    "start_time": "2021-07-01T07:25:05.825Z"
   },
   {
    "duration": 460,
    "start_time": "2021-07-01T07:25:05.832Z"
   },
   {
    "duration": -688,
    "start_time": "2021-07-01T07:25:06.983Z"
   },
   {
    "duration": 96,
    "start_time": "2021-07-01T07:25:17.683Z"
   },
   {
    "duration": 47,
    "start_time": "2021-07-01T07:25:17.782Z"
   },
   {
    "duration": 18,
    "start_time": "2021-07-01T07:25:17.832Z"
   },
   {
    "duration": 112,
    "start_time": "2021-07-01T07:25:17.853Z"
   },
   {
    "duration": 5428,
    "start_time": "2021-07-01T07:25:17.968Z"
   },
   {
    "duration": 125475,
    "start_time": "2021-07-01T07:25:23.399Z"
   },
   {
    "duration": 38,
    "start_time": "2021-07-01T07:27:28.877Z"
   },
   {
    "duration": 8,
    "start_time": "2021-07-01T07:27:28.917Z"
   },
   {
    "duration": 268,
    "start_time": "2021-07-01T07:27:28.928Z"
   },
   {
    "duration": -570,
    "start_time": "2021-07-01T07:27:29.769Z"
   },
   {
    "duration": 827,
    "start_time": "2021-07-01T07:46:36.880Z"
   },
   {
    "duration": 45,
    "start_time": "2021-07-01T07:46:40.729Z"
   },
   {
    "duration": 18,
    "start_time": "2021-07-01T07:46:43.617Z"
   },
   {
    "duration": 89,
    "start_time": "2021-07-01T07:46:45.347Z"
   },
   {
    "duration": 5997,
    "start_time": "2021-07-01T07:46:47.309Z"
   },
   {
    "duration": 126521,
    "start_time": "2021-07-01T07:46:53.309Z"
   },
   {
    "duration": 109,
    "start_time": "2021-07-01T07:48:59.833Z"
   },
   {
    "duration": 425,
    "start_time": "2021-07-01T07:49:06.690Z"
   },
   {
    "duration": 18,
    "start_time": "2021-07-01T07:49:27.888Z"
   },
   {
    "duration": 109,
    "start_time": "2021-07-01T07:49:36.162Z"
   },
   {
    "duration": 373,
    "start_time": "2021-07-01T07:49:55.487Z"
   },
   {
    "duration": 24,
    "start_time": "2021-07-01T07:51:23.716Z"
   },
   {
    "duration": 20,
    "start_time": "2021-07-01T07:52:14.241Z"
   },
   {
    "duration": 22,
    "start_time": "2021-07-01T07:53:43.607Z"
   },
   {
    "duration": 20,
    "start_time": "2021-07-01T07:54:50.103Z"
   },
   {
    "duration": 901,
    "start_time": "2021-07-01T08:40:46.794Z"
   },
   {
    "duration": 35,
    "start_time": "2021-07-01T08:41:07.899Z"
   },
   {
    "duration": 112,
    "start_time": "2021-07-01T08:45:19.814Z"
   },
   {
    "duration": 340,
    "start_time": "2021-07-01T08:45:23.212Z"
   },
   {
    "duration": 38,
    "start_time": "2021-07-01T08:45:30.488Z"
   },
   {
    "duration": 42,
    "start_time": "2021-07-01T08:45:46.545Z"
   },
   {
    "duration": 40,
    "start_time": "2021-07-01T08:45:51.216Z"
   },
   {
    "duration": 8206,
    "start_time": "2021-07-01T09:02:05.948Z"
   },
   {
    "duration": 54,
    "start_time": "2021-07-01T09:02:28.105Z"
   },
   {
    "duration": 49,
    "start_time": "2021-07-01T09:10:42.626Z"
   },
   {
    "duration": 51,
    "start_time": "2021-07-01T09:11:03.708Z"
   },
   {
    "duration": 386,
    "start_time": "2021-07-01T09:12:08.383Z"
   },
   {
    "duration": 434,
    "start_time": "2021-07-01T09:12:13.392Z"
   },
   {
    "duration": 416,
    "start_time": "2021-07-01T09:12:18.954Z"
   },
   {
    "duration": 51,
    "start_time": "2021-07-01T09:12:24.056Z"
   },
   {
    "duration": 48,
    "start_time": "2021-07-01T09:12:32.880Z"
   },
   {
    "duration": 46,
    "start_time": "2021-07-01T09:16:25.157Z"
   },
   {
    "duration": 128007,
    "start_time": "2021-07-01T09:32:51.259Z"
   },
   {
    "duration": 48,
    "start_time": "2021-07-01T09:35:17.330Z"
   },
   {
    "duration": 118,
    "start_time": "2021-07-01T09:38:18.243Z"
   },
   {
    "duration": 147,
    "start_time": "2021-07-01T09:38:25.451Z"
   },
   {
    "duration": 9,
    "start_time": "2021-07-01T09:38:28.736Z"
   },
   {
    "duration": 15,
    "start_time": "2021-07-01T09:39:12.041Z"
   },
   {
    "duration": 3,
    "start_time": "2021-07-01T09:40:23.874Z"
   },
   {
    "duration": 103,
    "start_time": "2021-07-01T09:41:44.781Z"
   },
   {
    "duration": 6159,
    "start_time": "2021-07-01T09:41:55.226Z"
   },
   {
    "duration": 5853,
    "start_time": "2021-07-01T09:42:36.887Z"
   },
   {
    "duration": 48,
    "start_time": "2021-07-01T09:44:51.849Z"
   },
   {
    "duration": 2327,
    "start_time": "2021-07-02T07:59:42.588Z"
   },
   {
    "duration": 28,
    "start_time": "2021-07-02T07:59:44.917Z"
   },
   {
    "duration": 13,
    "start_time": "2021-07-02T07:59:44.948Z"
   },
   {
    "duration": 79,
    "start_time": "2021-07-02T07:59:44.963Z"
   },
   {
    "duration": 3894,
    "start_time": "2021-07-02T07:59:45.044Z"
   },
   {
    "duration": 78200,
    "start_time": "2021-07-02T07:59:48.940Z"
   },
   {
    "duration": 43,
    "start_time": "2021-07-02T08:01:07.142Z"
   },
   {
    "duration": 28,
    "start_time": "2021-07-02T08:01:07.187Z"
   },
   {
    "duration": 28,
    "start_time": "2021-07-02T08:01:07.217Z"
   },
   {
    "duration": 49,
    "start_time": "2021-07-02T08:01:07.247Z"
   },
   {
    "duration": 4558,
    "start_time": "2021-07-02T08:02:32.549Z"
   },
   {
    "duration": 183,
    "start_time": "2021-07-02T08:02:45.310Z"
   },
   {
    "duration": 18,
    "start_time": "2021-07-02T08:02:53.823Z"
   }
  ],
  "kernelspec": {
   "display_name": "Python 3 (ipykernel)",
   "language": "python",
   "name": "python3"
  },
  "language_info": {
   "codemirror_mode": {
    "name": "ipython",
    "version": 3
   },
   "file_extension": ".py",
   "mimetype": "text/x-python",
   "name": "python",
   "nbconvert_exporter": "python",
   "pygments_lexer": "ipython3",
   "version": "3.9.7"
  },
  "toc": {
   "base_numbering": 1,
   "nav_menu": {},
   "number_sections": true,
   "sideBar": true,
   "skip_h1_title": true,
   "title_cell": "Table of Contents",
   "title_sidebar": "Contents",
   "toc_cell": false,
   "toc_position": {},
   "toc_section_display": true,
   "toc_window_display": false
  }
 },
 "nbformat": 4,
 "nbformat_minor": 2
}
