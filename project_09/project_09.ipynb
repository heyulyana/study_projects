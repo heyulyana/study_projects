{
 "cells": [
  {
   "cell_type": "markdown",
   "metadata": {},
   "source": [
    "## Загрузка данных"
   ]
  },
  {
   "cell_type": "code",
   "execution_count": 6,
   "metadata": {},
   "outputs": [
    {
     "name": "stdout",
     "output_type": "stream",
     "text": [
      "   Пол  Возраст  Зарплата  Члены семьи  Страховые выплаты\n",
      "0    1     41.0   49600.0            1                  0\n",
      "1    0     46.0   38000.0            1                  1\n",
      "2    0     29.0   21000.0            0                  0\n",
      "3    0     21.0   41700.0            2                  0\n",
      "4    1     28.0   26100.0            0                  0\n",
      "5    1     43.0   41000.0            2                  1\n",
      "6    1     39.0   39700.0            2                  0\n",
      "7    1     25.0   38600.0            4                  0\n",
      "8    1     36.0   49700.0            1                  0\n",
      "9    1     32.0   51700.0            1                  0\n",
      "<class 'pandas.core.frame.DataFrame'>\n",
      "RangeIndex: 5000 entries, 0 to 4999\n",
      "Data columns (total 5 columns):\n",
      "Пол                  5000 non-null int64\n",
      "Возраст              5000 non-null float64\n",
      "Зарплата             5000 non-null float64\n",
      "Члены семьи          5000 non-null int64\n",
      "Страховые выплаты    5000 non-null int64\n",
      "dtypes: float64(2), int64(3)\n",
      "memory usage: 195.4 KB\n",
      "None\n"
     ]
    }
   ],
   "source": [
    "import pandas as pd\n",
    "import numpy as np\n",
    "from sklearn.metrics import r2_score\n",
    "from sklearn.model_selection import train_test_split\n",
    "from sklearn.linear_model import LinearRegression\n",
    "\n",
    "\n",
    "data = pd.read_csv('/datasets/insurance.csv')\n",
    "\n",
    "print(data.head(10))\n",
    "print(data.info())"
   ]
  },
  {
   "cell_type": "markdown",
   "metadata": {},
   "source": [
    "## Умножение матриц"
   ]
  },
  {
   "cell_type": "markdown",
   "metadata": {},
   "source": [
    "Обозначения:\n",
    "\n",
    "- $X$ — матрица признаков (нулевой столбец состоит из единиц)\n",
    "\n",
    "- $y$ — вектор целевого признака\n",
    "\n",
    "- $P$ — матрица, на которую умножаются признаки\n",
    "\n",
    "- $w$ — вектор весов линейной регрессии (нулевой элемент равен сдвигу)"
   ]
  },
  {
   "cell_type": "markdown",
   "metadata": {},
   "source": [
    "Предсказания:\n",
    "\n",
    "$$\n",
    "a = Xw\n",
    "$$\n",
    "\n",
    "Задача обучения:\n",
    "\n",
    "$$\n",
    "w = \\arg\\min_w MSE(Xw, y)\n",
    "$$\n",
    "\n",
    "Формула обучения:\n",
    "\n",
    "$$\n",
    "w = (X^T X)^{-1} X^T y\n",
    "$$"
   ]
  },
  {
   "cell_type": "markdown",
   "metadata": {},
   "source": [
    "**Ответ:** $$\n",
    "w1 = ((XА)^T XА)^{-1} (XА)^Ty=(A^TX^TXA)^{-1}A^TX^Ty = (X^TXA)^{-1}(A^T)^{-1}A^TX^Ty=A^{-1}(X^TX)^{-1}EX^Ty=A^{-1}(X^TX)^{-1}X^Ty=A^{-1}w\n",
    "$$\n",
    "\n",
    "\n",
    "**Обоснование:**\n",
    "$$\n",
    "a1=XAw1=XAA^{-1}𝑤=Xw=a\n",
    "$$\n"
   ]
  },
  {
   "cell_type": "markdown",
   "metadata": {},
   "source": [
    "Признаки умножили на обратимую матрицу (ХА). Развернули формулу, использовали правило транспонирование произведений матриц и обратная матрица от произведения, с условием, что обратная матрица есть только для квадратной. Получилось что предсказания a равны предсказаниям a1. Качество линейной регрессии не изменится."
   ]
  },
  {
   "cell_type": "markdown",
   "metadata": {},
   "source": [
    "## Алгоритм преобразования"
   ]
  },
  {
   "cell_type": "markdown",
   "metadata": {},
   "source": [
    "**Алгоритм**\n",
    "\n",
    "Для преобразования данных умножим признаки на случайную обратимую матрицу. Таким образом не передавая информацию о клиентах, мы в итоге получим те же значения. "
   ]
  },
  {
   "cell_type": "markdown",
   "metadata": {},
   "source": [
    "**Обоснование**\n",
    "\n",
    "При умножении признаков на обратную матрицу качество модели не меняется"
   ]
  },
  {
   "cell_type": "markdown",
   "metadata": {},
   "source": [
    "## Проверка алгоритма"
   ]
  },
  {
   "cell_type": "code",
   "execution_count": 7,
   "metadata": {},
   "outputs": [],
   "source": [
    "features = data.drop('Страховые выплаты',axis=1)\n",
    "target = data['Страховые выплаты']\n",
    "\n",
    "features_train, features_test, target_train, target_test = train_test_split(features,target, test_size=0.2, random_state=12345)\n"
   ]
  },
  {
   "cell_type": "code",
   "execution_count": 8,
   "metadata": {},
   "outputs": [
    {
     "name": "stdout",
     "output_type": "stream",
     "text": [
      "0.4117683956770434\n"
     ]
    }
   ],
   "source": [
    "model = LinearRegression()\n",
    "model.fit(features_train, target_train)\n",
    "predictions = model.predict(features_test)\n",
    "print(r2_score(target_test, predictions))"
   ]
  },
  {
   "cell_type": "code",
   "execution_count": 9,
   "metadata": {},
   "outputs": [
    {
     "name": "stdout",
     "output_type": "stream",
     "text": [
      "0.4117683956770434\n"
     ]
    }
   ],
   "source": [
    "A=np.random.random((features.shape[1], features.shape[1]))\n",
    "\n",
    "features_new = features.dot(A)\n",
    "features_train_new, features_test_new, target_train_new, target_test_new = train_test_split(features_new,target, test_size=0.2, random_state=12345)\n",
    "\n",
    "\n",
    "model_new = LinearRegression()\n",
    "model_new.fit(features_train_new, target_train_new)\n",
    "predictions_new = model_new.predict(features_test_new)\n",
    "print(r2_score(target_test_new, predictions))\n"
   ]
  },
  {
   "cell_type": "code",
   "execution_count": 10,
   "metadata": {},
   "outputs": [],
   "source": [
    "А1=np.linalg.inv(A)\n"
   ]
  },
  {
   "cell_type": "code",
   "execution_count": 12,
   "metadata": {},
   "outputs": [
    {
     "data": {
      "text/plain": [
       "array([[ 0.87393399, -0.03860951, -2.85508099,  1.96413577],\n",
       "       [-0.20234683,  1.74257058, -0.24545453, -1.07111409],\n",
       "       [ 0.8738896 , -2.39791639,  4.40507322, -1.68827481],\n",
       "       [-1.51939566,  1.31195261,  0.94244052,  0.11961716]])"
      ]
     },
     "execution_count": 12,
     "metadata": {},
     "output_type": "execute_result"
    }
   ],
   "source": [
    "А1"
   ]
  },
  {
   "cell_type": "code",
   "execution_count": 13,
   "metadata": {},
   "outputs": [
    {
     "data": {
      "text/plain": [
       "array([[0.95493557, 0.77493124, 0.62996495, 0.15023446],\n",
       "       [0.67901671, 0.71681829, 0.37122221, 0.50860821],\n",
       "       [0.4912715 , 0.24773822, 0.45040611, 0.50863317],\n",
       "       [0.81169835, 0.02940221, 0.38171029, 0.68250425]])"
      ]
     },
     "execution_count": 13,
     "metadata": {},
     "output_type": "execute_result"
    }
   ],
   "source": [
    "A"
   ]
  },
  {
   "cell_type": "code",
   "execution_count": 15,
   "metadata": {},
   "outputs": [
    {
     "data": {
      "text/plain": [
       "array([[ 1.00000000e+00,  3.39979862e-17, -3.92143924e-17,\n",
       "         4.03635382e-17],\n",
       "       [ 1.54601836e-16,  1.00000000e+00,  2.42747210e-17,\n",
       "        -3.72795155e-17],\n",
       "       [ 1.05972763e-16, -5.72329795e-17,  1.00000000e+00,\n",
       "         1.41188337e-16],\n",
       "       [ 2.97831879e-16, -1.86972513e-16, -5.27591408e-16,\n",
       "         1.00000000e+00]])"
      ]
     },
     "execution_count": 15,
     "metadata": {},
     "output_type": "execute_result"
    }
   ],
   "source": [
    "A @ (А1)"
   ]
  },
  {
   "cell_type": "markdown",
   "metadata": {},
   "source": [
    "<div style=\"background: #cceeaa; padding: 5px; border: 1px solid green; border-radius: 5px;\">\n",
    "    <font color='green'> <b><u>КОММЕНТАРИЙ РЕВЬЮЕРА</u></b>\n",
    "</font>\n",
    "<font color='green'><br>\n",
    "ок, есть контакт. <br>\n",
    "С единичной - всё входит.  Повторил за тобой - работает)))) \n",
    "А можно ещё в функцию одеть:"
   ]
  },
  {
   "cell_type": "code",
   "execution_count": 5,
   "metadata": {},
   "outputs": [],
   "source": [
    "def generate_invertible_matrix(size):\n",
    "    try:\n",
    "        matrix = np.random.normal(size=(size, size))\n",
    "        # проверим матрицу на обратимость, если нет, пробуем сгенерировать еще раз\n",
    "        # таким образом гарантируем, что матрица стопроцентно будет обратимой\n",
    "        np.linalg.inv(matrix)\n",
    "    except np.linalg.LinAlgError:\n",
    "        matrix = generate_invertible_matrix()\n",
    "    \n",
    "    return matrix"
   ]
  },
  {
   "cell_type": "markdown",
   "metadata": {},
   "source": [
    "R2 на исходных данных 0.41\n",
    "После умножения признаков на обратимую матрицу R2 не изменилось."
   ]
  }
 ],
 "metadata": {
  "ExecuteTimeLog": [
   {
    "duration": 709,
    "start_time": "2021-10-20T11:28:41.126Z"
   },
   {
    "duration": 24,
    "start_time": "2021-10-20T11:28:49.705Z"
   },
   {
    "duration": 27,
    "start_time": "2021-10-20T11:29:06.423Z"
   },
   {
    "duration": 653,
    "start_time": "2021-10-21T09:56:04.054Z"
   },
   {
    "duration": 25,
    "start_time": "2021-10-21T09:56:13.882Z"
   },
   {
    "duration": 3,
    "start_time": "2021-10-21T09:56:21.190Z"
   },
   {
    "duration": 3073,
    "start_time": "2021-10-21T09:56:44.592Z"
   },
   {
    "duration": 3,
    "start_time": "2021-10-21T09:57:08.042Z"
   },
   {
    "duration": 5,
    "start_time": "2021-10-21T09:57:14.238Z"
   },
   {
    "duration": 5,
    "start_time": "2021-10-21T09:58:23.646Z"
   },
   {
    "duration": 4,
    "start_time": "2021-10-21T09:58:39.384Z"
   },
   {
    "duration": 2624,
    "start_time": "2021-10-21T09:58:55.460Z"
   },
   {
    "duration": 5,
    "start_time": "2021-10-21T09:59:02.663Z"
   },
   {
    "duration": 228,
    "start_time": "2021-10-21T09:59:08.841Z"
   },
   {
    "duration": 235,
    "start_time": "2021-10-21T09:59:12.994Z"
   },
   {
    "duration": 5,
    "start_time": "2021-10-21T09:59:17.688Z"
   },
   {
    "duration": 944,
    "start_time": "2021-10-21T09:59:48.664Z"
   },
   {
    "duration": 1028,
    "start_time": "2021-10-21T10:01:21.322Z"
   },
   {
    "duration": 1065,
    "start_time": "2021-10-21T10:01:29.058Z"
   },
   {
    "duration": 3,
    "start_time": "2021-10-21T10:02:11.825Z"
   },
   {
    "duration": 4,
    "start_time": "2021-10-21T10:02:18.735Z"
   },
   {
    "duration": 4,
    "start_time": "2021-10-21T10:02:21.335Z"
   },
   {
    "duration": 4,
    "start_time": "2021-10-21T10:02:23.306Z"
   },
   {
    "duration": 3,
    "start_time": "2021-10-21T10:02:44.421Z"
   },
   {
    "duration": 659,
    "start_time": "2021-10-21T10:08:10.676Z"
   },
   {
    "duration": 8,
    "start_time": "2021-10-21T10:08:44.638Z"
   },
   {
    "duration": 662,
    "start_time": "2021-10-21T10:09:28.208Z"
   },
   {
    "duration": 9,
    "start_time": "2021-10-21T10:10:03.379Z"
   },
   {
    "duration": 8,
    "start_time": "2021-10-21T10:10:14.441Z"
   },
   {
    "duration": 25,
    "start_time": "2021-10-21T10:12:00.391Z"
   },
   {
    "duration": 4,
    "start_time": "2021-10-21T10:12:34.451Z"
   },
   {
    "duration": 68,
    "start_time": "2021-10-21T10:13:02.396Z"
   },
   {
    "duration": 16,
    "start_time": "2021-10-21T10:13:04.332Z"
   },
   {
    "duration": 7,
    "start_time": "2021-10-21T10:15:03.544Z"
   },
   {
    "duration": 415,
    "start_time": "2021-10-21T10:15:15.677Z"
   },
   {
    "duration": 9,
    "start_time": "2021-10-21T10:15:25.784Z"
   },
   {
    "duration": 245,
    "start_time": "2021-10-21T10:30:35.901Z"
   },
   {
    "duration": 244,
    "start_time": "2021-10-21T10:31:54.334Z"
   },
   {
    "duration": 238,
    "start_time": "2021-10-21T10:32:15.641Z"
   },
   {
    "duration": 9,
    "start_time": "2021-10-21T10:32:25.068Z"
   },
   {
    "duration": 10,
    "start_time": "2021-10-21T10:32:41.342Z"
   },
   {
    "duration": 4,
    "start_time": "2021-10-21T10:32:50.588Z"
   },
   {
    "duration": 4,
    "start_time": "2021-10-21T10:32:57.675Z"
   },
   {
    "duration": 5,
    "start_time": "2021-10-21T10:33:04.517Z"
   },
   {
    "duration": 19,
    "start_time": "2021-10-21T10:33:16.025Z"
   },
   {
    "duration": 12,
    "start_time": "2021-10-21T10:44:23.585Z"
   },
   {
    "duration": 11,
    "start_time": "2021-10-21T10:44:25.805Z"
   },
   {
    "duration": 12,
    "start_time": "2021-10-21T10:44:28.009Z"
   },
   {
    "duration": 11,
    "start_time": "2021-10-21T10:44:42.645Z"
   },
   {
    "duration": 12,
    "start_time": "2021-10-21T10:52:24.632Z"
   },
   {
    "duration": 12,
    "start_time": "2021-10-21T10:52:37.928Z"
   },
   {
    "duration": 274,
    "start_time": "2021-10-21T10:52:43.466Z"
   },
   {
    "duration": 264,
    "start_time": "2021-10-21T10:52:52.240Z"
   },
   {
    "duration": 254,
    "start_time": "2021-10-21T10:53:04.687Z"
   },
   {
    "duration": 263,
    "start_time": "2021-10-21T10:53:14.684Z"
   },
   {
    "duration": 258,
    "start_time": "2021-10-21T10:53:19.370Z"
   },
   {
    "duration": 19,
    "start_time": "2021-10-21T10:53:28.341Z"
   },
   {
    "duration": 16,
    "start_time": "2021-10-21T10:53:32.391Z"
   },
   {
    "duration": 16,
    "start_time": "2021-10-21T10:53:39.115Z"
   },
   {
    "duration": 14,
    "start_time": "2021-10-21T10:53:41.131Z"
   },
   {
    "duration": 14,
    "start_time": "2021-10-21T10:53:45.027Z"
   },
   {
    "duration": 9,
    "start_time": "2021-10-21T10:53:48.699Z"
   },
   {
    "duration": 12,
    "start_time": "2021-10-21T11:05:54.844Z"
   },
   {
    "duration": 36,
    "start_time": "2021-10-21T11:06:32.075Z"
   },
   {
    "duration": 9,
    "start_time": "2021-10-21T11:06:48.617Z"
   },
   {
    "duration": 7,
    "start_time": "2021-10-21T11:19:22.486Z"
   },
   {
    "duration": 10,
    "start_time": "2021-10-21T11:19:25.955Z"
   },
   {
    "duration": 14,
    "start_time": "2021-10-21T11:19:33.339Z"
   },
   {
    "duration": 319,
    "start_time": "2021-10-21T19:26:03.514Z"
   },
   {
    "duration": 1127,
    "start_time": "2021-10-21T19:26:09.262Z"
   },
   {
    "duration": 7,
    "start_time": "2021-10-21T19:26:16.575Z"
   },
   {
    "duration": 7,
    "start_time": "2021-10-21T19:26:17.925Z"
   },
   {
    "duration": 17,
    "start_time": "2021-10-21T19:26:19.874Z"
   },
   {
    "duration": 511,
    "start_time": "2021-10-21T19:26:27.113Z"
   },
   {
    "duration": 255,
    "start_time": "2021-10-21T19:26:32.723Z"
   },
   {
    "duration": 12,
    "start_time": "2021-10-21T19:26:36.711Z"
   },
   {
    "duration": 269,
    "start_time": "2021-10-21T19:47:10.341Z"
   },
   {
    "duration": 18,
    "start_time": "2021-10-21T19:47:17.832Z"
   },
   {
    "duration": 475,
    "start_time": "2021-10-21T19:47:24.816Z"
   },
   {
    "duration": 13,
    "start_time": "2021-10-21T19:47:31.150Z"
   },
   {
    "duration": 13,
    "start_time": "2021-10-21T19:48:48.141Z"
   },
   {
    "duration": 464,
    "start_time": "2021-10-21T19:48:58.573Z"
   },
   {
    "duration": 258,
    "start_time": "2021-10-21T19:49:11.397Z"
   },
   {
    "duration": 461,
    "start_time": "2021-10-21T19:49:26.355Z"
   },
   {
    "duration": 499,
    "start_time": "2021-10-21T19:49:41.627Z"
   },
   {
    "duration": 713,
    "start_time": "2021-10-21T19:49:46.994Z"
   },
   {
    "duration": 10,
    "start_time": "2021-10-21T19:49:56.449Z"
   },
   {
    "duration": 20,
    "start_time": "2021-10-21T19:51:54.320Z"
   },
   {
    "duration": 464,
    "start_time": "2021-10-21T19:53:12.097Z"
   },
   {
    "duration": 274,
    "start_time": "2021-10-21T19:53:22.145Z"
   },
   {
    "duration": 576,
    "start_time": "2021-10-21T19:54:39.797Z"
   },
   {
    "duration": 665,
    "start_time": "2021-10-21T19:54:54.042Z"
   },
   {
    "duration": 631,
    "start_time": "2021-10-21T19:55:02.483Z"
   },
   {
    "duration": 636,
    "start_time": "2021-10-21T19:55:59.263Z"
   },
   {
    "duration": 624,
    "start_time": "2021-10-21T19:56:37.201Z"
   },
   {
    "duration": 840,
    "start_time": "2021-10-21T19:57:15.226Z"
   },
   {
    "duration": 649,
    "start_time": "2021-10-21T19:57:42.584Z"
   },
   {
    "duration": 820,
    "start_time": "2021-10-21T19:58:14.288Z"
   },
   {
    "duration": 841,
    "start_time": "2021-10-21T19:58:32.382Z"
   },
   {
    "duration": 684,
    "start_time": "2021-10-21T19:58:44.220Z"
   },
   {
    "duration": 527,
    "start_time": "2021-10-21T19:59:33.049Z"
   },
   {
    "duration": 525,
    "start_time": "2021-10-21T19:59:40.231Z"
   },
   {
    "duration": 9,
    "start_time": "2021-10-21T19:59:48.196Z"
   },
   {
    "duration": 539,
    "start_time": "2021-10-21T19:59:49.503Z"
   },
   {
    "duration": 1099,
    "start_time": "2021-10-21T20:00:02.527Z"
   },
   {
    "duration": 7,
    "start_time": "2021-10-21T20:00:03.627Z"
   },
   {
    "duration": 9,
    "start_time": "2021-10-21T20:00:03.638Z"
   },
   {
    "duration": 24,
    "start_time": "2021-10-21T20:00:03.648Z"
   },
   {
    "duration": 384,
    "start_time": "2021-10-21T20:00:27.314Z"
   },
   {
    "duration": 462,
    "start_time": "2021-10-21T20:00:41.082Z"
   },
   {
    "duration": 9,
    "start_time": "2021-10-21T20:00:48.544Z"
   },
   {
    "duration": 10,
    "start_time": "2021-10-21T20:00:53.807Z"
   },
   {
    "duration": 16,
    "start_time": "2021-10-21T20:01:07.036Z"
   },
   {
    "duration": 267,
    "start_time": "2021-10-21T20:01:11.916Z"
   },
   {
    "duration": 11,
    "start_time": "2021-10-21T20:01:18.202Z"
   },
   {
    "duration": 10,
    "start_time": "2021-10-21T20:01:20.737Z"
   },
   {
    "duration": 459,
    "start_time": "2021-10-21T20:06:58.029Z"
   },
   {
    "duration": 442,
    "start_time": "2021-10-21T20:07:07.060Z"
   },
   {
    "duration": 15,
    "start_time": "2021-10-21T20:08:48.683Z"
   },
   {
    "duration": 428,
    "start_time": "2021-10-21T20:09:23.298Z"
   },
   {
    "duration": 110,
    "start_time": "2021-10-21T20:09:35.704Z"
   },
   {
    "duration": 431,
    "start_time": "2021-10-21T20:09:38.428Z"
   },
   {
    "duration": 513,
    "start_time": "2021-10-21T20:10:23.034Z"
   },
   {
    "duration": 82,
    "start_time": "2021-10-21T20:10:37.845Z"
   },
   {
    "duration": 442,
    "start_time": "2021-10-21T20:10:42.966Z"
   },
   {
    "duration": 341,
    "start_time": "2021-10-21T20:10:52.889Z"
   },
   {
    "duration": 278,
    "start_time": "2021-10-21T20:10:59.059Z"
   },
   {
    "duration": 12,
    "start_time": "2021-10-21T20:11:03.128Z"
   },
   {
    "duration": 451,
    "start_time": "2021-10-21T20:12:27.678Z"
   },
   {
    "duration": 429,
    "start_time": "2021-10-21T20:12:36.571Z"
   },
   {
    "duration": 9,
    "start_time": "2021-10-21T20:12:45.841Z"
   },
   {
    "duration": 1337,
    "start_time": "2021-10-22T04:54:03.595Z"
   },
   {
    "duration": 10,
    "start_time": "2021-10-22T04:56:44.712Z"
   },
   {
    "duration": 10,
    "start_time": "2021-10-22T04:56:45.324Z"
   },
   {
    "duration": 15,
    "start_time": "2021-10-22T04:56:46.028Z"
   },
   {
    "duration": 506,
    "start_time": "2021-10-22T06:28:41.965Z"
   },
   {
    "duration": 386,
    "start_time": "2021-10-22T06:28:49.146Z"
   },
   {
    "duration": 1173,
    "start_time": "2021-10-22T06:28:53.056Z"
   },
   {
    "duration": 9,
    "start_time": "2021-10-22T06:28:56.733Z"
   },
   {
    "duration": 8,
    "start_time": "2021-10-22T06:28:58.144Z"
   },
   {
    "duration": 10,
    "start_time": "2021-10-22T06:28:59.767Z"
   },
   {
    "duration": 3,
    "start_time": "2021-10-22T06:29:07.806Z"
   },
   {
    "duration": 17,
    "start_time": "2021-10-22T06:29:18.772Z"
   },
   {
    "duration": 5,
    "start_time": "2021-10-22T06:29:22.962Z"
   },
   {
    "duration": 612,
    "start_time": "2021-10-22T06:30:58.715Z"
   },
   {
    "duration": 364,
    "start_time": "2021-10-22T06:31:23.211Z"
   },
   {
    "duration": 5,
    "start_time": "2021-10-22T06:31:37.817Z"
   },
   {
    "duration": 6,
    "start_time": "2021-10-22T06:31:49.372Z"
   },
   {
    "duration": 544,
    "start_time": "2021-10-22T06:31:52.635Z"
   },
   {
    "duration": 5,
    "start_time": "2021-10-22T06:31:59.386Z"
   },
   {
    "duration": 10,
    "start_time": "2021-10-22T06:32:23.274Z"
   },
   {
    "duration": 3,
    "start_time": "2021-10-22T06:32:24.620Z"
   },
   {
    "duration": 5,
    "start_time": "2021-10-22T06:32:29.443Z"
   },
   {
    "duration": 456,
    "start_time": "2021-10-22T06:34:03.352Z"
   },
   {
    "duration": 5,
    "start_time": "2021-10-22T06:34:12.851Z"
   },
   {
    "duration": 3,
    "start_time": "2021-10-22T06:34:23.680Z"
   },
   {
    "duration": 4,
    "start_time": "2021-10-22T06:34:32.253Z"
   },
   {
    "duration": 3,
    "start_time": "2021-10-22T06:34:45.670Z"
   },
   {
    "duration": 5,
    "start_time": "2021-10-22T06:34:49.007Z"
   },
   {
    "duration": 3,
    "start_time": "2021-10-22T06:37:06.760Z"
   },
   {
    "duration": 4,
    "start_time": "2021-10-22T06:37:18.926Z"
   },
   {
    "duration": 4,
    "start_time": "2021-10-22T06:37:23.524Z"
   },
   {
    "duration": 397,
    "start_time": "2021-10-22T06:40:03.554Z"
   },
   {
    "duration": 10,
    "start_time": "2021-10-22T06:40:24.611Z"
   },
   {
    "duration": 4,
    "start_time": "2021-10-22T06:40:31.517Z"
   },
   {
    "duration": 4,
    "start_time": "2021-10-22T06:40:37.021Z"
   },
   {
    "duration": 4,
    "start_time": "2021-10-22T06:40:41.229Z"
   },
   {
    "duration": 4,
    "start_time": "2021-10-22T06:40:51.964Z"
   },
   {
    "duration": 5,
    "start_time": "2021-10-22T06:41:15.937Z"
   },
   {
    "duration": 5,
    "start_time": "2021-10-22T06:41:19.749Z"
   },
   {
    "duration": 5,
    "start_time": "2021-10-22T06:41:24.270Z"
   },
   {
    "duration": 5,
    "start_time": "2021-10-22T06:42:07.542Z"
   },
   {
    "duration": 6,
    "start_time": "2021-10-22T06:42:44.004Z"
   },
   {
    "duration": 4,
    "start_time": "2021-10-22T06:42:48.449Z"
   },
   {
    "duration": 5,
    "start_time": "2021-10-22T06:42:50.920Z"
   },
   {
    "duration": 668,
    "start_time": "2021-10-22T06:43:18.011Z"
   },
   {
    "duration": 5,
    "start_time": "2021-10-22T06:43:21.904Z"
   },
   {
    "duration": 10,
    "start_time": "2021-10-22T06:44:33.310Z"
   },
   {
    "duration": 10,
    "start_time": "2021-10-22T06:44:35.551Z"
   },
   {
    "duration": 4,
    "start_time": "2021-10-22T06:44:40.788Z"
   },
   {
    "duration": 5,
    "start_time": "2021-10-22T06:44:42.762Z"
   },
   {
    "duration": 4,
    "start_time": "2021-10-22T06:44:55.647Z"
   },
   {
    "duration": 5,
    "start_time": "2021-10-22T06:45:06.085Z"
   },
   {
    "duration": 4,
    "start_time": "2021-10-22T06:45:07.279Z"
   },
   {
    "duration": 5,
    "start_time": "2021-10-22T06:45:09.284Z"
   },
   {
    "duration": 4,
    "start_time": "2021-10-22T06:45:10.032Z"
   },
   {
    "duration": 4,
    "start_time": "2021-10-22T06:45:10.852Z"
   },
   {
    "duration": 3,
    "start_time": "2021-10-22T06:46:53.525Z"
   },
   {
    "duration": 5,
    "start_time": "2021-10-22T06:46:56.430Z"
   },
   {
    "duration": 337,
    "start_time": "2021-10-22T06:47:10.498Z"
   },
   {
    "duration": 7,
    "start_time": "2021-10-22T06:47:25.853Z"
   },
   {
    "duration": 5,
    "start_time": "2021-10-22T06:47:40.470Z"
   },
   {
    "duration": 333,
    "start_time": "2021-10-22T06:48:45.109Z"
   },
   {
    "duration": 3,
    "start_time": "2021-10-22T06:48:51.606Z"
   },
   {
    "duration": 3,
    "start_time": "2021-10-22T06:48:55.347Z"
   },
   {
    "duration": 4,
    "start_time": "2021-10-22T06:48:57.414Z"
   },
   {
    "duration": 3,
    "start_time": "2021-10-22T06:49:03.089Z"
   },
   {
    "duration": 3,
    "start_time": "2021-10-22T06:49:48.422Z"
   },
   {
    "duration": 347,
    "start_time": "2021-10-22T06:51:00.440Z"
   },
   {
    "duration": 3,
    "start_time": "2021-10-22T06:51:07.988Z"
   },
   {
    "duration": 5,
    "start_time": "2021-10-22T06:51:12.750Z"
   },
   {
    "duration": 326,
    "start_time": "2021-10-22T06:51:19.729Z"
   },
   {
    "duration": 5,
    "start_time": "2021-10-22T06:51:26.558Z"
   },
   {
    "duration": 3,
    "start_time": "2021-10-22T06:51:34.492Z"
   },
   {
    "duration": 3,
    "start_time": "2021-10-22T06:51:37.818Z"
   },
   {
    "duration": 5,
    "start_time": "2021-10-22T08:24:22.637Z"
   },
   {
    "duration": 27,
    "start_time": "2021-10-22T08:24:56.018Z"
   },
   {
    "duration": 9,
    "start_time": "2021-10-22T08:25:00.631Z"
   },
   {
    "duration": 11,
    "start_time": "2021-10-22T08:25:01.003Z"
   },
   {
    "duration": 15,
    "start_time": "2021-10-22T08:25:01.226Z"
   },
   {
    "duration": 4,
    "start_time": "2021-10-22T08:25:02.624Z"
   },
   {
    "duration": 455,
    "start_time": "2021-10-22T08:25:02.813Z"
   },
   {
    "duration": -51,
    "start_time": "2021-10-22T08:25:03.322Z"
   },
   {
    "duration": -54,
    "start_time": "2021-10-22T08:25:03.326Z"
   },
   {
    "duration": 13,
    "start_time": "2021-10-22T08:25:23.137Z"
   },
   {
    "duration": 6,
    "start_time": "2021-10-22T08:25:28.947Z"
   },
   {
    "duration": 305,
    "start_time": "2021-10-22T08:25:29.937Z"
   },
   {
    "duration": 6,
    "start_time": "2021-10-22T08:25:38.842Z"
   }
  ],
  "kernelspec": {
   "display_name": "Python 3 (ipykernel)",
   "language": "python",
   "name": "python3"
  },
  "language_info": {
   "codemirror_mode": {
    "name": "ipython",
    "version": 3
   },
   "file_extension": ".py",
   "mimetype": "text/x-python",
   "name": "python",
   "nbconvert_exporter": "python",
   "pygments_lexer": "ipython3",
   "version": "3.9.7"
  },
  "toc": {
   "base_numbering": 1,
   "nav_menu": {},
   "number_sections": true,
   "sideBar": true,
   "skip_h1_title": true,
   "title_cell": "Содержание",
   "title_sidebar": "Contents",
   "toc_cell": true,
   "toc_position": {},
   "toc_section_display": true,
   "toc_window_display": true
  }
 },
 "nbformat": 4,
 "nbformat_minor": 2
}
