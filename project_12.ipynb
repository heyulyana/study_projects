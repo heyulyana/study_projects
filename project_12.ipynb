{
 "cells": [
  {
   "cell_type": "markdown",
   "metadata": {},
   "source": [
    "# Проект для «Викишоп»"
   ]
  },
  {
   "cell_type": "markdown",
   "metadata": {},
   "source": [
    "Интернет-магазину нужен инструмент, который будет искать токсичные комментарии и отправлять их на модерацию. Нужно обучить модель классифицировать комментарии на позитивные и негативные. \n",
    "Постройте модель со значением метрики качества *F1* не меньше 0.75. "
   ]
  },
  {
   "cell_type": "markdown",
   "metadata": {},
   "source": [
    "## Подготовка"
   ]
  },
  {
   "cell_type": "code",
   "execution_count": 27,
   "metadata": {
    "scrolled": true
   },
   "outputs": [
    {
     "name": "stderr",
     "output_type": "stream",
     "text": [
      "[nltk_data] Downloading package wordnet to /home/jovyan/nltk_data...\n",
      "[nltk_data]   Package wordnet is already up-to-date!\n"
     ]
    }
   ],
   "source": [
    "import matplotlib.pyplot as plt\n",
    "import numpy as np\n",
    "import pandas as pd\n",
    "import re\n",
    "from pymystem3 import Mystem\n",
    "import nltk\n",
    "from nltk.corpus import stopwords as nltk_stopwords\n",
    "from sklearn.feature_extraction.text import TfidfVectorizer\n",
    "from sklearn.model_selection import train_test_split, cross_val_score, GridSearchCV\n",
    "from sklearn.linear_model import LogisticRegression\n",
    "from sklearn.tree import DecisionTreeClassifier\n",
    "from catboost import CatBoostClassifier\n",
    "from sklearn.metrics import f1_score, precision_score, recall_score, accuracy_score, roc_auc_score, roc_curve\n",
    "import warnings\n",
    "from sklearn.utils import shuffle\n",
    "import nltk\n",
    "nltk.download('wordnet')\n",
    "from nltk.stem import WordNetLemmatizer\n",
    "warnings.filterwarnings('ignore')\n"
   ]
  },
  {
   "cell_type": "code",
   "execution_count": 13,
   "metadata": {},
   "outputs": [
    {
     "data": {
      "text/html": [
       "<div>\n",
       "<style scoped>\n",
       "    .dataframe tbody tr th:only-of-type {\n",
       "        vertical-align: middle;\n",
       "    }\n",
       "\n",
       "    .dataframe tbody tr th {\n",
       "        vertical-align: top;\n",
       "    }\n",
       "\n",
       "    .dataframe thead th {\n",
       "        text-align: right;\n",
       "    }\n",
       "</style>\n",
       "<table border=\"1\" class=\"dataframe\">\n",
       "  <thead>\n",
       "    <tr style=\"text-align: right;\">\n",
       "      <th></th>\n",
       "      <th>text</th>\n",
       "      <th>toxic</th>\n",
       "    </tr>\n",
       "  </thead>\n",
       "  <tbody>\n",
       "    <tr>\n",
       "      <td>0</td>\n",
       "      <td>Explanation\\nWhy the edits made under my usern...</td>\n",
       "      <td>0</td>\n",
       "    </tr>\n",
       "    <tr>\n",
       "      <td>1</td>\n",
       "      <td>D'aww! He matches this background colour I'm s...</td>\n",
       "      <td>0</td>\n",
       "    </tr>\n",
       "    <tr>\n",
       "      <td>2</td>\n",
       "      <td>Hey man, I'm really not trying to edit war. It...</td>\n",
       "      <td>0</td>\n",
       "    </tr>\n",
       "    <tr>\n",
       "      <td>3</td>\n",
       "      <td>\"\\nMore\\nI can't make any real suggestions on ...</td>\n",
       "      <td>0</td>\n",
       "    </tr>\n",
       "    <tr>\n",
       "      <td>4</td>\n",
       "      <td>You, sir, are my hero. Any chance you remember...</td>\n",
       "      <td>0</td>\n",
       "    </tr>\n",
       "    <tr>\n",
       "      <td>...</td>\n",
       "      <td>...</td>\n",
       "      <td>...</td>\n",
       "    </tr>\n",
       "    <tr>\n",
       "      <td>159566</td>\n",
       "      <td>\":::::And for the second time of asking, when ...</td>\n",
       "      <td>0</td>\n",
       "    </tr>\n",
       "    <tr>\n",
       "      <td>159567</td>\n",
       "      <td>You should be ashamed of yourself \\n\\nThat is ...</td>\n",
       "      <td>0</td>\n",
       "    </tr>\n",
       "    <tr>\n",
       "      <td>159568</td>\n",
       "      <td>Spitzer \\n\\nUmm, theres no actual article for ...</td>\n",
       "      <td>0</td>\n",
       "    </tr>\n",
       "    <tr>\n",
       "      <td>159569</td>\n",
       "      <td>And it looks like it was actually you who put ...</td>\n",
       "      <td>0</td>\n",
       "    </tr>\n",
       "    <tr>\n",
       "      <td>159570</td>\n",
       "      <td>\"\\nAnd ... I really don't think you understand...</td>\n",
       "      <td>0</td>\n",
       "    </tr>\n",
       "  </tbody>\n",
       "</table>\n",
       "<p>159571 rows × 2 columns</p>\n",
       "</div>"
      ],
      "text/plain": [
       "                                                     text  toxic\n",
       "0       Explanation\\nWhy the edits made under my usern...      0\n",
       "1       D'aww! He matches this background colour I'm s...      0\n",
       "2       Hey man, I'm really not trying to edit war. It...      0\n",
       "3       \"\\nMore\\nI can't make any real suggestions on ...      0\n",
       "4       You, sir, are my hero. Any chance you remember...      0\n",
       "...                                                   ...    ...\n",
       "159566  \":::::And for the second time of asking, when ...      0\n",
       "159567  You should be ashamed of yourself \\n\\nThat is ...      0\n",
       "159568  Spitzer \\n\\nUmm, theres no actual article for ...      0\n",
       "159569  And it looks like it was actually you who put ...      0\n",
       "159570  \"\\nAnd ... I really don't think you understand...      0\n",
       "\n",
       "[159571 rows x 2 columns]"
      ]
     },
     "execution_count": 13,
     "metadata": {},
     "output_type": "execute_result"
    }
   ],
   "source": [
    "comments = pd.read_csv('/datasets/toxic_comments.csv')\n",
    "\n",
    "comments"
   ]
  },
  {
   "cell_type": "code",
   "execution_count": 14,
   "metadata": {},
   "outputs": [
    {
     "name": "stdout",
     "output_type": "stream",
     "text": [
      "<class 'pandas.core.frame.DataFrame'>\n",
      "RangeIndex: 159571 entries, 0 to 159570\n",
      "Data columns (total 2 columns):\n",
      "text     159571 non-null object\n",
      "toxic    159571 non-null int64\n",
      "dtypes: int64(1), object(1)\n",
      "memory usage: 2.4+ MB\n"
     ]
    }
   ],
   "source": [
    "#типы и пропуски\n",
    "\n",
    "comments.info()"
   ]
  },
  {
   "cell_type": "code",
   "execution_count": 15,
   "metadata": {},
   "outputs": [
    {
     "data": {
      "text/plain": [
       "0"
      ]
     },
     "execution_count": 15,
     "metadata": {},
     "output_type": "execute_result"
    }
   ],
   "source": [
    "#дубликаты\n",
    "\n",
    "comments.duplicated().sum()"
   ]
  },
  {
   "cell_type": "code",
   "execution_count": 16,
   "metadata": {},
   "outputs": [
    {
     "name": "stdout",
     "output_type": "stream",
     "text": [
      "CPU times: user 8.77 s, sys: 134 ms, total: 8.91 s\n",
      "Wall time: 8.91 s\n"
     ]
    }
   ],
   "source": [
    "%%time\n",
    "\n",
    "def lemmatize_text(text):\n",
    "    lemmatizer = WordNetLemmatizer()\n",
    "    text = text.lower()\n",
    "    cleared_list = re.sub(r'[^a-zA-Z]', ' ', text)\n",
    "    clear_text=cleared_list.split()\n",
    "    join_clear=\" \".join(clear_text)\n",
    "    \n",
    "    lemm_list = lemmatizer.lemmatize(join_clear)\n",
    "    lemm_text = \"\".join(lemm_list)\n",
    "        \n",
    "    return lemm_text\n",
    "\n",
    "comments['lemm_text'] = comments['text'].apply(lemmatize_text)\n",
    "\n",
    "comments = comments.drop(['text'], axis=1)"
   ]
  },
  {
   "cell_type": "code",
   "execution_count": 18,
   "metadata": {},
   "outputs": [],
   "source": [
    "#Разобьем выборку по отношению 60/20/20.\n",
    "\n",
    "target = comments['toxic']\n",
    "features = comments.drop(['toxic'], axis=1)\n",
    "\n",
    "features_train, features_valid, target_train, target_valid = train_test_split(features, \n",
    "                                                                              target, \n",
    "                                                                              test_size=0.4, \n",
    "                                                                              random_state=12345)\n",
    "features_valid, features_test, target_valid, target_test = train_test_split(features_valid, \n",
    "                                                                            target_valid, \n",
    "                                                                            test_size=0.5,\n",
    "                                                                            random_state=12345)\n",
    "\n"
   ]
  },
  {
   "cell_type": "code",
   "execution_count": 19,
   "metadata": {},
   "outputs": [
    {
     "name": "stderr",
     "output_type": "stream",
     "text": [
      "[nltk_data] Downloading package stopwords to /home/jovyan/nltk_data...\n",
      "[nltk_data]   Unzipping corpora/stopwords.zip.\n"
     ]
    }
   ],
   "source": [
    "nltk.download('stopwords')\n",
    "stopwords = set(nltk_stopwords.words('english'))\n",
    "\n",
    "count_tf_idf = TfidfVectorizer(stop_words=stopwords)\n",
    "\n",
    "features_train = count_tf_idf.fit_transform(features_train['lemm_text'])\n"
   ]
  },
  {
   "cell_type": "code",
   "execution_count": 20,
   "metadata": {},
   "outputs": [],
   "source": [
    "features_valid = count_tf_idf.transform(features_valid['lemm_text'])\n"
   ]
  },
  {
   "cell_type": "code",
   "execution_count": 21,
   "metadata": {},
   "outputs": [
    {
     "name": "stdout",
     "output_type": "stream",
     "text": [
      "(95742, 125610)\n",
      "(31914, 125610)\n",
      "(31915, 125610)\n"
     ]
    }
   ],
   "source": [
    "features_test = count_tf_idf.transform(features_test['lemm_text'])\n",
    "print(features_train.shape)\n",
    "print(features_valid.shape)\n",
    "print(features_test.shape)"
   ]
  },
  {
   "cell_type": "code",
   "execution_count": 22,
   "metadata": {},
   "outputs": [
    {
     "data": {
      "text/plain": [
       "0    143346\n",
       "1     16225\n",
       "Name: toxic, dtype: int64"
      ]
     },
     "metadata": {},
     "output_type": "display_data"
    },
    {
     "data": {
      "text/plain": [
       "8.834884437596301"
      ]
     },
     "execution_count": 22,
     "metadata": {},
     "output_type": "execute_result"
    }
   ],
   "source": [
    "#проверяем баланс классов\n",
    "\n",
    "display(comments['toxic'].value_counts())\n",
    "ratio = comments['toxic'].value_counts()[0] / comments['toxic'].value_counts()[1]\n",
    "\n",
    "ratio"
   ]
  },
  {
   "cell_type": "code",
   "execution_count": 25,
   "metadata": {},
   "outputs": [
    {
     "name": "stdout",
     "output_type": "stream",
     "text": [
      "F1 на CV с балансированными классами 0.7514247243676125\n"
     ]
    }
   ],
   "source": [
    "#изменение баланса классов\n",
    "\n",
    "\n",
    "dict_classes={0:1, 1:ratio}\n",
    "classificator = LogisticRegression(class_weight=dict_classes)\n",
    "train_f1_ballanced = cross_val_score(classificator, \n",
    "                                    features_train, \n",
    "                                    target_train, \n",
    "                                    cv=3, \n",
    "                                    scoring='f1').mean()\n",
    "print('F1 на CV с балансированными классами', train_f1_ballanced)"
   ]
  },
  {
   "cell_type": "code",
   "execution_count": 23,
   "metadata": {},
   "outputs": [
    {
     "name": "stdout",
     "output_type": "stream",
     "text": [
      "F1 на CV с балансированными классами 0.7447119358373469\n",
      "CPU times: user 18.5 s, sys: 14.2 s, total: 32.7 s\n",
      "Wall time: 32.7 s\n"
     ]
    }
   ],
   "source": [
    "%%time\n",
    "\n",
    "classificator = LogisticRegression(class_weight='balanced')\n",
    "cvs = cross_val_score(classificator, \n",
    "                                    features_train, \n",
    "                                    target_train, \n",
    "                                    cv=3, \n",
    "                                    scoring='f1').mean()\n",
    "print('F1 на CV с балансированными классами', cvs)"
   ]
  },
  {
   "cell_type": "code",
   "execution_count": 28,
   "metadata": {},
   "outputs": [],
   "source": [
    "#ресемплирование с уменьшением класса 0\n",
    "\n",
    "comments_train = comments.iloc[target_train.index]\n",
    "\n",
    "target_train_class_zero = comments_train[comments_train['toxic'] == 0]['toxic']\n",
    "target_train_class_one = comments_train[comments_train['toxic'] == 1]['toxic']\n",
    "\n",
    "\n",
    "target_train_class_zero_downsample = target_train_class_zero.sample(target_train_class_one.shape[0],\n",
    "                                                                    random_state=12345)\n",
    "target_train_downsample = pd.concat([target_train_class_zero_downsample, target_train_class_one])\n",
    "\n",
    "features_train_downsample = comments.iloc[target_train_downsample.index]\n",
    "features_train_downsample, target_train_downsample = shuffle(features_train_downsample,\n",
    "                                                             target_train_downsample,\n",
    "                                                             random_state=12345)\n",
    "features_train_downsample = count_tf_idf.transform(features_train_downsample['lemm_text']\n",
    "                                                   .values.astype('U'))\n",
    "del count_tf_idf\n",
    "del stopwords"
   ]
  },
  {
   "cell_type": "code",
   "execution_count": 29,
   "metadata": {},
   "outputs": [
    {
     "name": "stdout",
     "output_type": "stream",
     "text": [
      "F1 на cv с уменьшением классов 0.9418841868494011\n",
      "F1 на валидации с уменьшением классов 0.6952191235059761\n"
     ]
    }
   ],
   "source": [
    "model = LogisticRegression()\n",
    "model.fit(features_train_downsample,target_train_downsample) \n",
    "\n",
    "predicted=model.predict(features_train_downsample)\n",
    "target_predict = model.predict(features_valid)\n",
    "scores_train= f1_score(target_train_downsample, predicted)\n",
    "\n",
    "scores_valid= f1_score(target_valid, target_predict)\n",
    "print('F1 на cv с уменьшением классов', scores_train)\n",
    "print('F1 на валидации с уменьшением классов', scores_valid)"
   ]
  },
  {
   "cell_type": "markdown",
   "metadata": {},
   "source": [
    "## Обучение"
   ]
  },
  {
   "cell_type": "code",
   "execution_count": 24,
   "metadata": {},
   "outputs": [
    {
     "name": "stdout",
     "output_type": "stream",
     "text": [
      "F1 на cv 0.6735400940998678\n",
      "F1 на валидации 0.7272385252069224\n",
      "CPU times: user 15.9 s, sys: 16.1 s, total: 32 s\n",
      "Wall time: 32 s\n"
     ]
    }
   ],
   "source": [
    "%%time\n",
    "\n",
    "model = LogisticRegression()\n",
    "model.fit(features_train,target_train) \n",
    "predicted=model.predict(features_train)\n",
    "target_predict = model.predict(features_valid)\n",
    "scores=cross_val_score(model,features_train,target_train,cv=3,scoring='f1').mean()\n",
    "\n",
    "scores_valid= f1_score(target_valid, target_predict)\n",
    "print('F1 на cv', scores)\n",
    "print('F1 на валидации', scores_valid)"
   ]
  },
  {
   "cell_type": "code",
   "execution_count": 23,
   "metadata": {},
   "outputs": [
    {
     "name": "stdout",
     "output_type": "stream",
     "text": [
      "F1 на cv 0.7241592487621448\n",
      "F1 на валидации 0.7416954075149755\n",
      "CPU times: user 37min 33s, sys: 7min 22s, total: 44min 55s\n",
      "Wall time: 45min 7s\n"
     ]
    }
   ],
   "source": [
    "%%time\n",
    "\n",
    "model = CatBoostClassifier(verbose=False, iterations=200)\n",
    "model.fit(features_train, target_train)\n",
    "target_predict = model.predict(features_valid)\n",
    "cv_f1_CBC = cross_val_score(model,\n",
    "                                         features_train, \n",
    "                                         target_train, \n",
    "                                         cv=3, \n",
    "                                         scoring='f1').mean()\n",
    "valid_f1_CBC = f1_score(target_valid, target_predict)\n",
    "print('F1 на cv', cv_f1_CBC)\n",
    "print('F1 на валидации', valid_f1_CBC)"
   ]
  },
  {
   "cell_type": "code",
   "execution_count": 32,
   "metadata": {},
   "outputs": [
    {
     "name": "stdout",
     "output_type": "stream",
     "text": [
      "F1 на тестовой выборке 0.7347089167280768\n"
     ]
    }
   ],
   "source": [
    "model = CatBoostClassifier(verbose=False, iterations=200)\n",
    "model.fit(features_train, target_train)\n",
    "test_predict = model.predict(features_test)\n",
    "\n",
    "test_f1 = f1_score(target_test, test_predict)\n",
    "\n",
    "print('F1 на тестовой выборке', test_f1)"
   ]
  },
  {
   "cell_type": "code",
   "execution_count": 31,
   "metadata": {},
   "outputs": [
    {
     "name": "stdout",
     "output_type": "stream",
     "text": [
      "F1 на тестовой выборке 0.7105465742879138\n"
     ]
    }
   ],
   "source": [
    "model = LogisticRegression()\n",
    "model.fit(features_train,target_train) \n",
    "test_predict = model.predict(features_test)\n",
    "\n",
    "test_f1 = f1_score(target_test, test_predict)\n",
    "print('F1 на тестовой выборке', test_f1)"
   ]
  },
  {
   "cell_type": "code",
   "execution_count": 32,
   "metadata": {},
   "outputs": [
    {
     "name": "stdout",
     "output_type": "stream",
     "text": [
      "Лучшие параметры: {'C': 10, 'class_weight': {0: 1, 1: 8.834884437596301}, 'solver': 'lbfgs'}\n",
      "CPU times: user 6min 14s, sys: 6min 17s, total: 12min 32s\n",
      "Wall time: 12min 32s\n"
     ]
    }
   ],
   "source": [
    "%%time\n",
    "\n",
    "model = LogisticRegression()\n",
    "hyperparams = [{'solver':['newton-cg', 'lbfgs', 'liblinear'],\n",
    "                'C':[0.1, 1, 10],\n",
    "                'class_weight':[dict_classes]}]\n",
    "\n",
    "\n",
    "clf = GridSearchCV(model, hyperparams, scoring='f1',cv=3)\n",
    "clf.fit(features_train, target_train)\n",
    "print(\"Лучшие параметры:\", clf.best_params_)\n",
    "\n",
    "\n"
   ]
  },
  {
   "cell_type": "code",
   "execution_count": 33,
   "metadata": {},
   "outputs": [
    {
     "name": "stdout",
     "output_type": "stream",
     "text": [
      "F1: 0.7661913250148544\n"
     ]
    }
   ],
   "source": [
    "model = LogisticRegression()\n",
    "model.set_params(**clf.best_params_)\n",
    "model.fit(features_train, target_train)\n",
    "predict_test = model.predict(features_test)\n",
    "\n",
    "print('F1:', f1_score(target_test, predict_test))\n"
   ]
  },
  {
   "cell_type": "markdown",
   "metadata": {},
   "source": [
    "## Выводы"
   ]
  },
  {
   "cell_type": "markdown",
   "metadata": {},
   "source": [
    "В ходе работы над проектом было сделано:\n",
    "\n",
    "1.Загружены и подготовлены данные\n",
    "2.Данные поделены на обучающую, валидационную, тестовую выборки\n",
    "3.Поделены данные на обучающую, валидационную и тестовою выборку.\n",
    "4.Выполнено ресемплирование с уменьшением класса 0\n",
    "5.Обучены модели - CatBoostClassifier,LogisticRegression\n",
    "\n",
    "лучший результат показала модель CatBoostClassifier на валидационной выборке\n",
    "\n",
    "\n",
    "На тестовой выборке метрика  F1 =0.73\n",
    "\n"
   ]
  }
 ],
 "metadata": {
  "ExecuteTimeLog": [
   {
    "duration": 706,
    "start_time": "2021-12-06T15:26:36.712Z"
   },
   {
    "duration": 814,
    "start_time": "2021-12-06T15:27:07.773Z"
   },
   {
    "duration": 812,
    "start_time": "2021-12-06T15:33:40.106Z"
   },
   {
    "duration": 14,
    "start_time": "2021-12-06T15:37:35.152Z"
   },
   {
    "duration": 425,
    "start_time": "2021-12-06T15:37:35.852Z"
   },
   {
    "duration": 4,
    "start_time": "2021-12-06T15:37:57.056Z"
   },
   {
    "duration": 34,
    "start_time": "2021-12-06T15:37:59.662Z"
   },
   {
    "duration": 10,
    "start_time": "2021-12-06T15:40:09.181Z"
   },
   {
    "duration": 1523,
    "start_time": "2021-12-06T15:40:54.510Z"
   },
   {
    "duration": 378,
    "start_time": "2021-12-06T15:41:18.839Z"
   },
   {
    "duration": 1537,
    "start_time": "2021-12-06T15:41:22.001Z"
   },
   {
    "duration": 329,
    "start_time": "2021-12-06T15:43:56.051Z"
   },
   {
    "duration": 1574,
    "start_time": "2021-12-06T15:43:58.069Z"
   },
   {
    "duration": 833,
    "start_time": "2021-12-06T15:43:59.647Z"
   },
   {
    "duration": 12,
    "start_time": "2021-12-06T15:48:17.220Z"
   },
   {
    "duration": 36,
    "start_time": "2021-12-06T15:48:24.699Z"
   },
   {
    "duration": 394,
    "start_time": "2021-12-06T15:48:53.742Z"
   },
   {
    "duration": 371,
    "start_time": "2021-12-06T15:49:43.821Z"
   },
   {
    "duration": 297,
    "start_time": "2021-12-06T15:50:07.144Z"
   },
   {
    "duration": 347,
    "start_time": "2021-12-06T15:50:15.430Z"
   },
   {
    "duration": 1591,
    "start_time": "2021-12-06T15:50:19.554Z"
   },
   {
    "duration": 779,
    "start_time": "2021-12-06T15:50:21.928Z"
   },
   {
    "duration": 12,
    "start_time": "2021-12-06T15:50:24.663Z"
   },
   {
    "duration": 33,
    "start_time": "2021-12-06T15:50:29.426Z"
   },
   {
    "duration": 5357,
    "start_time": "2021-12-06T15:53:44.538Z"
   },
   {
    "duration": 5,
    "start_time": "2021-12-06T17:46:02.308Z"
   },
   {
    "duration": 767,
    "start_time": "2021-12-06T17:46:03.432Z"
   },
   {
    "duration": 12,
    "start_time": "2021-12-06T17:46:06.667Z"
   },
   {
    "duration": 34,
    "start_time": "2021-12-06T17:46:08.182Z"
   },
   {
    "duration": 5564,
    "start_time": "2021-12-06T17:46:19.334Z"
   },
   {
    "duration": 777,
    "start_time": "2021-12-06T17:46:24.901Z"
   },
   {
    "duration": 4,
    "start_time": "2021-12-06T17:46:41.059Z"
   },
   {
    "duration": 781,
    "start_time": "2021-12-06T17:46:42.016Z"
   },
   {
    "duration": 12,
    "start_time": "2021-12-06T17:46:44.468Z"
   },
   {
    "duration": 35,
    "start_time": "2021-12-06T17:46:45.721Z"
   },
   {
    "duration": 2359,
    "start_time": "2021-12-06T17:47:03.500Z"
   },
   {
    "duration": 53,
    "start_time": "2021-12-06T17:47:16.853Z"
   },
   {
    "duration": 52,
    "start_time": "2021-12-06T17:47:22.746Z"
   },
   {
    "duration": 48,
    "start_time": "2021-12-06T17:47:56.125Z"
   },
   {
    "duration": 4,
    "start_time": "2021-12-06T17:48:04.121Z"
   },
   {
    "duration": 5,
    "start_time": "2021-12-06T17:48:08.047Z"
   },
   {
    "duration": 449,
    "start_time": "2021-12-06T17:52:06.620Z"
   },
   {
    "duration": 5609,
    "start_time": "2021-12-06T17:52:10.013Z"
   },
   {
    "duration": 843,
    "start_time": "2021-12-06T17:52:15.625Z"
   },
   {
    "duration": 12,
    "start_time": "2021-12-06T17:52:18.510Z"
   },
   {
    "duration": 33,
    "start_time": "2021-12-06T17:52:20.034Z"
   },
   {
    "duration": 4,
    "start_time": "2021-12-06T17:52:33.849Z"
   },
   {
    "duration": 4,
    "start_time": "2021-12-06T17:52:43.216Z"
   },
   {
    "duration": 2192,
    "start_time": "2021-12-06T17:52:59.017Z"
   },
   {
    "duration": 668,
    "start_time": "2021-12-06T17:53:35.445Z"
   },
   {
    "duration": 7759,
    "start_time": "2021-12-06T17:53:57.195Z"
   },
   {
    "duration": 860,
    "start_time": "2021-12-06T17:54:04.957Z"
   },
   {
    "duration": 13,
    "start_time": "2021-12-06T17:54:09.094Z"
   },
   {
    "duration": 38,
    "start_time": "2021-12-06T17:54:10.349Z"
   },
   {
    "duration": 4,
    "start_time": "2021-12-06T17:54:16.479Z"
   },
   {
    "duration": 2276,
    "start_time": "2021-12-06T17:54:18.213Z"
   },
   {
    "duration": 7040,
    "start_time": "2021-12-06T17:55:14.427Z"
   },
   {
    "duration": 971,
    "start_time": "2021-12-06T17:55:21.471Z"
   },
   {
    "duration": 19,
    "start_time": "2021-12-06T17:55:24.115Z"
   },
   {
    "duration": 7636,
    "start_time": "2021-12-06T17:55:46.685Z"
   },
   {
    "duration": 849,
    "start_time": "2021-12-06T17:55:54.324Z"
   },
   {
    "duration": 14,
    "start_time": "2021-12-06T17:55:55.178Z"
   },
   {
    "duration": 5,
    "start_time": "2021-12-06T17:55:55.196Z"
   },
   {
    "duration": 2611,
    "start_time": "2021-12-08T15:38:39.066Z"
   },
   {
    "duration": 10581,
    "start_time": "2021-12-08T15:38:53.461Z"
   },
   {
    "duration": 26,
    "start_time": "2021-12-08T15:39:39.902Z"
   },
   {
    "duration": 220,
    "start_time": "2021-12-08T15:40:16.837Z"
   },
   {
    "duration": 4,
    "start_time": "2021-12-08T15:52:23.856Z"
   },
   {
    "duration": 4,
    "start_time": "2021-12-08T15:54:36.307Z"
   },
   {
    "duration": 813,
    "start_time": "2021-12-08T15:55:20.894Z"
   },
   {
    "duration": 3862,
    "start_time": "2021-12-08T15:55:55.928Z"
   },
   {
    "duration": 68,
    "start_time": "2021-12-08T16:00:44.429Z"
   },
   {
    "duration": 12,
    "start_time": "2021-12-08T16:00:53.348Z"
   },
   {
    "duration": 6,
    "start_time": "2021-12-08T16:01:09.639Z"
   },
   {
    "duration": 726,
    "start_time": "2021-12-08T16:01:50.962Z"
   },
   {
    "duration": 848,
    "start_time": "2021-12-08T16:02:12.104Z"
   },
   {
    "duration": 1871,
    "start_time": "2021-12-08T16:02:25.415Z"
   },
   {
    "duration": 839,
    "start_time": "2021-12-08T16:03:00.586Z"
   },
   {
    "duration": 852,
    "start_time": "2021-12-08T16:03:09.400Z"
   },
   {
    "duration": 5,
    "start_time": "2021-12-08T16:03:21.559Z"
   },
   {
    "duration": 3,
    "start_time": "2021-12-08T16:03:38.989Z"
   },
   {
    "duration": 4,
    "start_time": "2021-12-08T16:03:52.103Z"
   },
   {
    "duration": 4,
    "start_time": "2021-12-08T16:03:57.761Z"
   },
   {
    "duration": 1651,
    "start_time": "2021-12-08T16:57:58.421Z"
   },
   {
    "duration": 673,
    "start_time": "2021-12-08T16:58:42.103Z"
   },
   {
    "duration": 787,
    "start_time": "2021-12-08T16:59:03.259Z"
   },
   {
    "duration": 6,
    "start_time": "2021-12-08T17:00:06.447Z"
   },
   {
    "duration": 543,
    "start_time": "2021-12-08T17:01:35.536Z"
   },
   {
    "duration": 1522,
    "start_time": "2021-12-08T17:05:56.405Z"
   },
   {
    "duration": 671,
    "start_time": "2021-12-08T17:05:57.929Z"
   },
   {
    "duration": 32,
    "start_time": "2021-12-08T17:05:58.606Z"
   },
   {
    "duration": 285,
    "start_time": "2021-12-08T17:05:58.641Z"
   },
   {
    "duration": 1752,
    "start_time": "2021-12-08T17:05:58.928Z"
   },
   {
    "duration": 125,
    "start_time": "2021-12-08T17:06:00.682Z"
   },
   {
    "duration": -597,
    "start_time": "2021-12-08T17:06:01.407Z"
   },
   {
    "duration": -597,
    "start_time": "2021-12-08T17:06:01.409Z"
   },
   {
    "duration": -603,
    "start_time": "2021-12-08T17:06:01.416Z"
   },
   {
    "duration": -647,
    "start_time": "2021-12-08T17:06:01.462Z"
   },
   {
    "duration": -647,
    "start_time": "2021-12-08T17:06:01.465Z"
   },
   {
    "duration": -646,
    "start_time": "2021-12-08T17:06:01.466Z"
   },
   {
    "duration": -651,
    "start_time": "2021-12-08T17:06:01.472Z"
   },
   {
    "duration": -651,
    "start_time": "2021-12-08T17:06:01.474Z"
   },
   {
    "duration": -652,
    "start_time": "2021-12-08T17:06:01.476Z"
   },
   {
    "duration": 736,
    "start_time": "2021-12-08T17:06:18.375Z"
   },
   {
    "duration": 1430,
    "start_time": "2021-12-08T17:06:22.005Z"
   },
   {
    "duration": 527,
    "start_time": "2021-12-08T17:07:05.058Z"
   },
   {
    "duration": 5,
    "start_time": "2021-12-08T17:07:28.480Z"
   },
   {
    "duration": 6,
    "start_time": "2021-12-08T17:08:18.376Z"
   },
   {
    "duration": 5,
    "start_time": "2021-12-08T17:08:35.965Z"
   },
   {
    "duration": 5,
    "start_time": "2021-12-08T17:08:45.047Z"
   },
   {
    "duration": 117,
    "start_time": "2021-12-08T17:11:37.335Z"
   },
   {
    "duration": 114,
    "start_time": "2021-12-08T17:11:46.713Z"
   },
   {
    "duration": 452,
    "start_time": "2021-12-08T17:11:52.643Z"
   },
   {
    "duration": 328,
    "start_time": "2021-12-08T17:12:16.574Z"
   },
   {
    "duration": 4,
    "start_time": "2021-12-08T17:12:22.886Z"
   },
   {
    "duration": 539,
    "start_time": "2021-12-08T17:12:49.197Z"
   },
   {
    "duration": 779,
    "start_time": "2021-12-08T17:13:12.788Z"
   },
   {
    "duration": 2398,
    "start_time": "2021-12-08T17:13:38.150Z"
   },
   {
    "duration": 10317,
    "start_time": "2021-12-08T17:13:40.550Z"
   },
   {
    "duration": 26,
    "start_time": "2021-12-08T17:13:50.869Z"
   },
   {
    "duration": 246,
    "start_time": "2021-12-08T17:13:50.907Z"
   },
   {
    "duration": 1947,
    "start_time": "2021-12-08T17:13:51.155Z"
   },
   {
    "duration": 539,
    "start_time": "2021-12-08T17:13:53.104Z"
   },
   {
    "duration": 857,
    "start_time": "2021-12-08T17:13:53.645Z"
   },
   {
    "duration": 415,
    "start_time": "2021-12-08T17:13:54.507Z"
   },
   {
    "duration": -593,
    "start_time": "2021-12-08T17:13:55.517Z"
   },
   {
    "duration": -684,
    "start_time": "2021-12-08T17:13:55.609Z"
   },
   {
    "duration": -692,
    "start_time": "2021-12-08T17:13:55.618Z"
   },
   {
    "duration": -696,
    "start_time": "2021-12-08T17:13:55.623Z"
   },
   {
    "duration": -699,
    "start_time": "2021-12-08T17:13:55.626Z"
   },
   {
    "duration": -702,
    "start_time": "2021-12-08T17:13:55.630Z"
   },
   {
    "duration": -704,
    "start_time": "2021-12-08T17:13:55.633Z"
   },
   {
    "duration": 790,
    "start_time": "2021-12-08T17:14:09.308Z"
   },
   {
    "duration": 1120,
    "start_time": "2021-12-08T17:15:13.292Z"
   },
   {
    "duration": 786,
    "start_time": "2021-12-08T17:15:45.878Z"
   },
   {
    "duration": 4,
    "start_time": "2021-12-08T17:16:33.743Z"
   },
   {
    "duration": 5,
    "start_time": "2021-12-08T17:16:37.869Z"
   },
   {
    "duration": 8,
    "start_time": "2021-12-08T17:17:41.771Z"
   },
   {
    "duration": 5,
    "start_time": "2021-12-08T17:17:46.601Z"
   },
   {
    "duration": 533,
    "start_time": "2021-12-08T17:18:06.793Z"
   },
   {
    "duration": 10,
    "start_time": "2021-12-08T17:18:14.889Z"
   },
   {
    "duration": 4,
    "start_time": "2021-12-08T17:18:21.378Z"
   },
   {
    "duration": 348,
    "start_time": "2021-12-08T17:19:32.457Z"
   },
   {
    "duration": 11,
    "start_time": "2021-12-08T17:20:10.676Z"
   },
   {
    "duration": 395,
    "start_time": "2021-12-08T17:23:13.237Z"
   },
   {
    "duration": 3,
    "start_time": "2021-12-08T17:23:44.747Z"
   },
   {
    "duration": 10,
    "start_time": "2021-12-08T17:23:49.388Z"
   },
   {
    "duration": 702,
    "start_time": "2021-12-08T17:24:07.946Z"
   },
   {
    "duration": 1564,
    "start_time": "2021-12-08T17:24:20.734Z"
   },
   {
    "duration": 10,
    "start_time": "2021-12-08T17:25:14.796Z"
   },
   {
    "duration": 1363,
    "start_time": "2021-12-08T17:25:24.006Z"
   },
   {
    "duration": 8,
    "start_time": "2021-12-08T17:25:31.966Z"
   },
   {
    "duration": 13,
    "start_time": "2021-12-08T17:25:37.859Z"
   },
   {
    "duration": 359,
    "start_time": "2021-12-08T17:25:48.649Z"
   },
   {
    "duration": 360,
    "start_time": "2021-12-08T17:26:39.002Z"
   },
   {
    "duration": 9,
    "start_time": "2021-12-08T17:26:49.608Z"
   },
   {
    "duration": 534,
    "start_time": "2021-12-08T17:27:02.595Z"
   },
   {
    "duration": 406,
    "start_time": "2021-12-08T17:27:08.446Z"
   },
   {
    "duration": 352,
    "start_time": "2021-12-08T17:28:28.652Z"
   },
   {
    "duration": 10,
    "start_time": "2021-12-08T17:28:58.512Z"
   },
   {
    "duration": 320,
    "start_time": "2021-12-08T17:30:01.703Z"
   },
   {
    "duration": 360,
    "start_time": "2021-12-08T17:30:11.490Z"
   },
   {
    "duration": 336,
    "start_time": "2021-12-08T17:30:21.893Z"
   },
   {
    "duration": 11,
    "start_time": "2021-12-08T17:30:42.270Z"
   },
   {
    "duration": 550,
    "start_time": "2021-12-08T17:34:12.506Z"
   },
   {
    "duration": 335,
    "start_time": "2021-12-08T17:34:22.200Z"
   },
   {
    "duration": 380,
    "start_time": "2021-12-08T17:34:38.472Z"
   },
   {
    "duration": 119,
    "start_time": "2021-12-08T17:36:33.246Z"
   },
   {
    "duration": 659,
    "start_time": "2021-12-08T17:36:36.206Z"
   },
   {
    "duration": 30,
    "start_time": "2021-12-08T17:36:47.319Z"
   },
   {
    "duration": 217,
    "start_time": "2021-12-08T17:36:48.557Z"
   },
   {
    "duration": 110314,
    "start_time": "2021-12-08T17:38:55.607Z"
   },
   {
    "duration": 102,
    "start_time": "2021-12-08T17:40:48.787Z"
   },
   {
    "duration": 925,
    "start_time": "2021-12-08T17:42:46.740Z"
   },
   {
    "duration": 1412,
    "start_time": "2021-12-08T17:42:52.482Z"
   },
   {
    "duration": 10321,
    "start_time": "2021-12-08T17:42:53.897Z"
   },
   {
    "duration": 27,
    "start_time": "2021-12-08T17:43:04.220Z"
   },
   {
    "duration": 244,
    "start_time": "2021-12-08T17:43:04.249Z"
   },
   {
    "duration": 108456,
    "start_time": "2021-12-08T17:43:04.495Z"
   },
   {
    "duration": 60,
    "start_time": "2021-12-08T17:44:52.953Z"
   },
   {
    "duration": 6888,
    "start_time": "2021-12-08T17:44:53.014Z"
   },
   {
    "duration": 2358,
    "start_time": "2021-12-08T17:45:10.468Z"
   },
   {
    "duration": 2279,
    "start_time": "2021-12-08T17:45:13.476Z"
   },
   {
    "duration": 12,
    "start_time": "2021-12-08T17:45:15.757Z"
   },
   {
    "duration": 13,
    "start_time": "2021-12-08T17:46:18.265Z"
   },
   {
    "duration": 353,
    "start_time": "2021-12-08T17:47:58.525Z"
   },
   {
    "duration": 28216,
    "start_time": "2021-12-08T17:48:07.840Z"
   },
   {
    "duration": 26604,
    "start_time": "2021-12-08T17:49:39.849Z"
   },
   {
    "duration": 37,
    "start_time": "2021-12-08T17:51:23.383Z"
   },
   {
    "duration": 1427,
    "start_time": "2021-12-08T17:52:02.079Z"
   },
   {
    "duration": 334,
    "start_time": "2021-12-08T17:52:33.961Z"
   },
   {
    "duration": 7645,
    "start_time": "2021-12-08T17:52:39.169Z"
   },
   {
    "duration": 237,
    "start_time": "2021-12-08T17:55:30.057Z"
   },
   {
    "duration": 228,
    "start_time": "2021-12-08T17:56:19.483Z"
   },
   {
    "duration": 231,
    "start_time": "2021-12-08T17:56:28.065Z"
   },
   {
    "duration": 138,
    "start_time": "2021-12-08T17:56:54.251Z"
   },
   {
    "duration": 2707625,
    "start_time": "2021-12-08T17:58:25.598Z"
   },
   {
    "duration": 32036,
    "start_time": "2021-12-08T18:43:33.225Z"
   },
   {
    "duration": 5,
    "start_time": "2021-12-08T18:44:05.264Z"
   },
   {
    "duration": 5,
    "start_time": "2021-12-08T18:52:56.577Z"
   },
   {
    "duration": -1481,
    "start_time": "2021-12-08T19:30:59.150Z"
   },
   {
    "duration": -1560,
    "start_time": "2021-12-08T19:30:59.235Z"
   },
   {
    "duration": 3,
    "start_time": "2021-12-08T19:31:03.160Z"
   },
   {
    "duration": 219857,
    "start_time": "2021-12-08T19:31:06.767Z"
   },
   {
    "duration": -1315,
    "start_time": "2021-12-08T19:34:47.942Z"
   },
   {
    "duration": 729163,
    "start_time": "2021-12-08T19:47:18.107Z"
   },
   {
    "duration": 8487,
    "start_time": "2021-12-08T20:24:54.351Z"
   },
   {
    "duration": 213,
    "start_time": "2021-12-09T07:31:06.597Z"
   },
   {
    "duration": 2653,
    "start_time": "2021-12-09T07:34:42.107Z"
   },
   {
    "duration": 522,
    "start_time": "2021-12-09T07:40:14.584Z"
   },
   {
    "duration": 7,
    "start_time": "2021-12-09T07:41:00.118Z"
   },
   {
    "duration": 768,
    "start_time": "2021-12-09T07:41:01.321Z"
   },
   {
    "duration": 29,
    "start_time": "2021-12-09T07:41:03.505Z"
   },
   {
    "duration": 280,
    "start_time": "2021-12-09T07:41:04.643Z"
   },
   {
    "duration": 2398,
    "start_time": "2021-12-09T07:41:07.037Z"
   },
   {
    "duration": 11437,
    "start_time": "2021-12-09T07:41:25.797Z"
   },
   {
    "duration": 7,
    "start_time": "2021-12-09T07:43:33.129Z"
   },
   {
    "duration": 9796,
    "start_time": "2021-12-09T07:44:15.322Z"
   },
   {
    "duration": 8,
    "start_time": "2021-12-09T07:44:42.449Z"
   },
   {
    "duration": 756,
    "start_time": "2021-12-09T07:44:43.962Z"
   },
   {
    "duration": 29,
    "start_time": "2021-12-09T07:44:46.147Z"
   },
   {
    "duration": 279,
    "start_time": "2021-12-09T07:44:47.161Z"
   },
   {
    "duration": 8915,
    "start_time": "2021-12-09T07:44:49.407Z"
   },
   {
    "duration": 9,
    "start_time": "2021-12-09T07:45:24.471Z"
   },
   {
    "duration": 53,
    "start_time": "2021-12-09T07:46:36.423Z"
   },
   {
    "duration": 6623,
    "start_time": "2021-12-09T07:47:11.810Z"
   },
   {
    "duration": 2108,
    "start_time": "2021-12-09T07:47:18.435Z"
   },
   {
    "duration": 2167,
    "start_time": "2021-12-09T07:47:20.545Z"
   },
   {
    "duration": 24,
    "start_time": "2021-12-09T07:47:50.133Z"
   },
   {
    "duration": 32711,
    "start_time": "2021-12-09T07:48:01.207Z"
   },
   {
    "duration": 7,
    "start_time": "2021-12-09T08:09:29.808Z"
   },
   {
    "duration": 39520,
    "start_time": "2021-12-09T08:09:35.684Z"
   },
   {
    "duration": 421,
    "start_time": "2021-12-09T08:11:12.442Z"
   },
   {
    "duration": 9,
    "start_time": "2021-12-09T08:11:32.058Z"
   },
   {
    "duration": 1957,
    "start_time": "2021-12-09T08:11:38.672Z"
   },
   {
    "duration": 4563,
    "start_time": "2021-12-09T08:15:30.626Z"
   },
   {
    "duration": 4579,
    "start_time": "2021-12-09T08:18:00.501Z"
   },
   {
    "duration": 8256,
    "start_time": "2021-12-09T08:18:14.674Z"
   },
   {
    "duration": 752726,
    "start_time": "2021-12-09T08:21:41.637Z"
   },
   {
    "duration": 52556,
    "start_time": "2021-12-09T08:35:28.307Z"
   }
  ],
  "kernelspec": {
   "display_name": "Python 3 (ipykernel)",
   "language": "python",
   "name": "python3"
  },
  "language_info": {
   "codemirror_mode": {
    "name": "ipython",
    "version": 3
   },
   "file_extension": ".py",
   "mimetype": "text/x-python",
   "name": "python",
   "nbconvert_exporter": "python",
   "pygments_lexer": "ipython3",
   "version": "3.9.7"
  },
  "toc": {
   "base_numbering": 1,
   "nav_menu": {},
   "number_sections": true,
   "sideBar": true,
   "skip_h1_title": true,
   "title_cell": "Содержание",
   "title_sidebar": "Contents",
   "toc_cell": true,
   "toc_position": {
    "height": "calc(100% - 180px)",
    "left": "10px",
    "top": "150px",
    "width": "302.391px"
   },
   "toc_section_display": true,
   "toc_window_display": false
  }
 },
 "nbformat": 4,
 "nbformat_minor": 2
}
